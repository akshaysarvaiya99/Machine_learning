{
 "cells": [
  {
   "cell_type": "markdown",
   "id": "boxed-tissue",
   "metadata": {},
   "source": [
    "Reference\n",
    "\n",
    "This notebook link : https://bit.ly/aiml_2021\n",
    "\n",
    "python practice link: https://www.w3resource.com/python-exercises/, https://www.practicepython.org/\n",
    "\n",
    "ways to connect with me : https://www.linkedin.com/in/sharmasaravanan/, sharma@besoins.in\n",
    "\n",
    "string methods: https://www.tutorialspoint.com/python3/python_strings.htm\n",
    "\n",
    "exception types: https://www.tutorialspoint.com/python3/python_exceptions.htm"
   ]
  },
  {
   "cell_type": "code",
   "execution_count": 1,
   "id": "developmental-nirvana",
   "metadata": {},
   "outputs": [],
   "source": [
    "a = 5  # int\n",
    "b = 3.14  # float\n",
    "c = 'apple'  # string\n",
    "d = True  # bool"
   ]
  },
  {
   "cell_type": "code",
   "execution_count": 5,
   "id": "liberal-trick",
   "metadata": {},
   "outputs": [
    {
     "name": "stdout",
     "output_type": "stream",
     "text": [
      "5\n",
      "3.14\n",
      "apple\n",
      "True\n"
     ]
    }
   ],
   "source": [
    "print(a,b,c,d,sep=\"\\n\")"
   ]
  },
  {
   "cell_type": "code",
   "execution_count": 6,
   "id": "headed-retail",
   "metadata": {},
   "outputs": [
    {
     "name": "stdout",
     "output_type": "stream",
     "text": [
      "123\n"
     ]
    }
   ],
   "source": [
    "print(123)"
   ]
  },
  {
   "cell_type": "code",
   "execution_count": 7,
   "id": "egyptian-campus",
   "metadata": {},
   "outputs": [
    {
     "name": "stdout",
     "output_type": "stream",
     "text": [
      "hello world!!\n"
     ]
    }
   ],
   "source": [
    "print(\"hello world!!\")"
   ]
  },
  {
   "cell_type": "code",
   "execution_count": 8,
   "id": "endless-arrest",
   "metadata": {},
   "outputs": [
    {
     "name": "stdout",
     "output_type": "stream",
     "text": [
      "<class 'int'>\n",
      "<class 'float'>\n",
      "<class 'str'>\n",
      "<class 'bool'>\n"
     ]
    }
   ],
   "source": [
    "print(type(a),type(b),type(c),type(d),sep=\"\\n\")"
   ]
  },
  {
   "cell_type": "code",
   "execution_count": 9,
   "id": "likely-stock",
   "metadata": {},
   "outputs": [],
   "source": [
    "# hello apple\n",
    "# hello 5"
   ]
  },
  {
   "cell_type": "code",
   "execution_count": 17,
   "id": "weekly-counter",
   "metadata": {},
   "outputs": [
    {
     "name": "stdout",
     "output_type": "stream",
     "text": [
      "hello apple\n",
      "hello 5\n",
      "hello apple\n",
      "hello 5\n",
      "hello apple\n",
      "hello 5\n",
      "hello apple\n",
      "hello 5\n"
     ]
    }
   ],
   "source": [
    "# method-1\n",
    "print(\"hello\",c)\n",
    "print(\"hello\",a)\n",
    "\n",
    "# method-2\n",
    "print(\"hello \"+ c)\n",
    "print(\"hello \"+ str(a))\n",
    "\n",
    "# method-3\n",
    "print(\"hello %s\"%c)\n",
    "print(\"hello %d\"%a)\n",
    "\n",
    "# method-4\n",
    "print(\"hello {}\".format(c))\n",
    "print(\"hello {}\".format(a))"
   ]
  },
  {
   "cell_type": "code",
   "execution_count": 15,
   "id": "sealed-shopper",
   "metadata": {
    "scrolled": true
   },
   "outputs": [
    {
     "name": "stdout",
     "output_type": "stream",
     "text": [
      "<class 'str'>\n"
     ]
    }
   ],
   "source": [
    "print(type('15'))"
   ]
  },
  {
   "cell_type": "code",
   "execution_count": 22,
   "id": "academic-container",
   "metadata": {},
   "outputs": [
    {
     "name": "stdout",
     "output_type": "stream",
     "text": [
      "I bought a 3 kgs of Mango for 120.35 Rs.\n",
      "I bought a 3kgs of Mango for 120.35Rs.\n",
      "I bought a 3kgs of Mango for 120.35Rs.\n",
      "I bought a 3kgs of Mango for 120.35Rs.\n"
     ]
    }
   ],
   "source": [
    "# I bought a 3kgs of Mango for 120.35Rs\n",
    "w = 3\n",
    "f = \"Mango\"\n",
    "p = 120.35\n",
    "\n",
    "print(\"I bought a\",w,\"kgs of\",f,\"for\",p,\"Rs.\")\n",
    "print(\"I bought a \"+str(w)+\"kgs of \"+f+\" for \"+str(p)+\"Rs.\")\n",
    "print(\"I bought a %dkgs of %s for %0.2fRs.\"%(w,f,p))\n",
    "print(\"I bought a {}kgs of {} for {}Rs.\".format(w,f,p))"
   ]
  },
  {
   "cell_type": "code",
   "execution_count": 39,
   "id": "competent-lewis",
   "metadata": {},
   "outputs": [
    {
     "name": "stdout",
     "output_type": "stream",
     "text": [
      "Enter something: 45\n"
     ]
    }
   ],
   "source": [
    "a = int(input(\"Enter something: \"))"
   ]
  },
  {
   "cell_type": "code",
   "execution_count": 40,
   "id": "annoying-while",
   "metadata": {},
   "outputs": [
    {
     "name": "stdout",
     "output_type": "stream",
     "text": [
      "45 <class 'int'>\n"
     ]
    }
   ],
   "source": [
    "print(a, type(a))"
   ]
  },
  {
   "cell_type": "code",
   "execution_count": 47,
   "id": "capable-compression",
   "metadata": {},
   "outputs": [
    {
     "name": "stdout",
     "output_type": "stream",
     "text": [
      "10\n",
      "4\n",
      "21\n",
      "2.3333333333333335\n",
      "2\n",
      "1\n",
      "==========\n",
      "True\n",
      "False\n",
      "True\n",
      "False\n",
      "False\n",
      "True\n",
      "==========\n",
      "True\n",
      "False\n",
      "True\n",
      "False\n",
      "False\n",
      "True\n"
     ]
    }
   ],
   "source": [
    "a = 7\n",
    "b = 3\n",
    "\n",
    "# arthimetic \n",
    "print(a + b)\n",
    "print(a - b)\n",
    "print(a * b)\n",
    "print(a / b)\n",
    "print(a // b)\n",
    "print(a % b)\n",
    "print(\"=====\"*2)\n",
    "\n",
    "# conditional\n",
    "print(a > b)\n",
    "print(a < b)\n",
    "print(a >= b)\n",
    "print(a <= b)\n",
    "print(a == b)\n",
    "print(a != b)\n",
    "print(\"=====\"*2)\n",
    "\n",
    "# logical\n",
    "print(a > 5 and a < 15)\n",
    "print(a > 15 and a < 10)\n",
    "\n",
    "print(a > 15 or a < 10)\n",
    "print(a > 15 or a < 5)\n",
    "\n",
    "print(not a)\n",
    "a = None\n",
    "print(not a)"
   ]
  },
  {
   "cell_type": "markdown",
   "id": "native-quest",
   "metadata": {
    "solution2": "hidden",
    "solution2_first": true
   },
   "source": [
    "Task-1\n",
    "    \n",
    "    Take any three objects like circle, square and calculate the area of those objects. But get input from user like if it's circle get radius or if it's square get side.\n",
    "    \n",
    "    \n"
   ]
  },
  {
   "cell_type": "code",
   "execution_count": 54,
   "id": "guided-minnesota",
   "metadata": {
    "solution2": "hidden"
   },
   "outputs": [
    {
     "name": "stdout",
     "output_type": "stream",
     "text": [
      "Calculating area of circle!!!\n",
      "Enter the radius of the circle : 2.3\n",
      "Area of the circle with radius 2.3 is 16.61sq.unit\n",
      "====================\n",
      "Calculating area of square!!!\n",
      "Enter the side of the square : 4\n",
      "Area of the square with radius 4.0 is 16.00sq.unit\n"
     ]
    }
   ],
   "source": [
    "print(\"Calculating area of circle!!!\")\n",
    "radius = float(input(\"Enter the radius of the circle : \"))\n",
    "area = 3.14 * radius * radius\n",
    "print(\"Area of the circle with radius {} is {:.2f}sq.unit\".format(radius,area))\n",
    "\n",
    "print(\"====\"*8)\n",
    "\n",
    "print(\"Calculating area of square!!!\")\n",
    "side = float(input(\"Enter the side of the square : \"))\n",
    "area = side * side\n",
    "print(\"Area of the square with radius {} is {:.2f}sq.unit\".format(side,area))\n"
   ]
  },
  {
   "cell_type": "markdown",
   "id": "superior-retail",
   "metadata": {
    "solution2": "hidden",
    "solution2_first": true
   },
   "source": [
    "Task-2\n",
    "\n",
    "    Get any number from the user and perform the following operation\n",
    "    \n",
    "    n = input()\n",
    "    output = nnn+nn+n"
   ]
  },
  {
   "cell_type": "code",
   "execution_count": 55,
   "id": "valued-sheriff",
   "metadata": {
    "solution2": "hidden"
   },
   "outputs": [
    {
     "name": "stdout",
     "output_type": "stream",
     "text": [
      "Enter any number :5\n",
      "615\n"
     ]
    }
   ],
   "source": [
    "n = int(input(\"Enter any number :\"))\n",
    "output = int(str(n)*3 ) + int(str(n)*2) + n \n",
    "print(output)"
   ]
  },
  {
   "cell_type": "code",
   "execution_count": 57,
   "id": "synthetic-navigator",
   "metadata": {
    "solution2": "hidden"
   },
   "outputs": [
    {
     "name": "stdout",
     "output_type": "stream",
     "text": [
      "Enter any number :5\n",
      "615\n"
     ]
    }
   ],
   "source": [
    "n = input(\"Enter any number :\")\n",
    "output = int(n*3) + int(n*2) + int(n)\n",
    "print(output)"
   ]
  },
  {
   "cell_type": "code",
   "execution_count": 58,
   "id": "impressed-honor",
   "metadata": {
    "solution2": "hidden"
   },
   "outputs": [
    {
     "name": "stdout",
     "output_type": "stream",
     "text": [
      "Enter any number :5\n",
      "615\n"
     ]
    }
   ],
   "source": [
    "n = input(\"Enter any number :\")\n",
    "output = int(n+n+n) + int(n+n) + int(n)\n",
    "print(output)"
   ]
  },
  {
   "cell_type": "code",
   "execution_count": 4,
   "id": "careful-gabriel",
   "metadata": {},
   "outputs": [
    {
     "name": "stdout",
     "output_type": "stream",
     "text": [
      "Enter any number :11\n",
      "Number is odd.\n",
      "Done\n"
     ]
    }
   ],
   "source": [
    "num = int(input(\"Enter any number :\"))\n",
    "\n",
    "if num % 2 == 0:\n",
    "    print(\"Number is even.\")\n",
    "else:\n",
    "    print(\"Number is odd.\")"
   ]
  },
  {
   "cell_type": "code",
   "execution_count": 6,
   "id": "narrow-style",
   "metadata": {},
   "outputs": [
    {
     "name": "stdout",
     "output_type": "stream",
     "text": [
      "Enter any number :122\n"
     ]
    }
   ],
   "source": [
    "num = int(input(\"Enter any number :\"))\n",
    "\n",
    "if 0 < num <= 100:\n",
    "    print(\"Number is between 0 to 100.\")"
   ]
  },
  {
   "cell_type": "code",
   "execution_count": 9,
   "id": "combined-makeup",
   "metadata": {},
   "outputs": [
    {
     "name": "stdout",
     "output_type": "stream",
     "text": [
      "Enter any number :5\n",
      "Number is odd.\n"
     ]
    }
   ],
   "source": [
    "num = int(input(\"Enter any number :\"))\n",
    "\n",
    "if num % 2 == 0:\n",
    "    print(\"Number is even.\")\n",
    "    if num % 4 == 0:\n",
    "        print(\"Number is also divisible by 4.\")\n",
    "else:\n",
    "    print(\"Number is odd.\")"
   ]
  },
  {
   "cell_type": "code",
   "execution_count": 12,
   "id": "ranking-japanese",
   "metadata": {},
   "outputs": [
    {
     "name": "stdout",
     "output_type": "stream",
     "text": [
      "Enter any number :5\n",
      "Number is odd.\n"
     ]
    }
   ],
   "source": [
    "num = int(input(\"Enter any number :\"))\n",
    "\n",
    "if num % 4 == 0:\n",
    "    print(\"Number is also divisible by 4 and also even.\")\n",
    "elif num % 2 == 0:\n",
    "    print(\"Number is even.\")\n",
    "else:\n",
    "    print(\"Number is odd.\")"
   ]
  },
  {
   "cell_type": "code",
   "execution_count": 13,
   "id": "fantastic-puzzle",
   "metadata": {},
   "outputs": [
    {
     "name": "stdout",
     "output_type": "stream",
     "text": [
      "Enter any number :56\n",
      "Number is also divisible by 4 and also even.\n",
      "Enter any number :78\n",
      "Number is even.\n",
      "Enter any number :95\n",
      "Number is odd.\n",
      "Enter any number :34\n",
      "Number is even.\n",
      "Enter any number :52\n",
      "Number is also divisible by 4 and also even.\n"
     ]
    }
   ],
   "source": [
    "i = 1\n",
    "while i <= 5:\n",
    "    num = int(input(\"Enter any number :\"))\n",
    "    if num % 4 == 0:\n",
    "        print(\"Number is also divisible by 4 and also even.\")\n",
    "    elif num % 2 == 0:\n",
    "        print(\"Number is even.\")\n",
    "    else:\n",
    "        print(\"Number is odd.\")\n",
    "    i = i + 1 # i+=1"
   ]
  },
  {
   "cell_type": "code",
   "execution_count": 14,
   "id": "martial-redhead",
   "metadata": {},
   "outputs": [
    {
     "name": "stdout",
     "output_type": "stream",
     "text": [
      "Enter any number :21\n",
      "Number is odd.\n",
      "Do you want to continue? y/ny\n",
      "Enter any number :43\n",
      "Number is odd.\n",
      "Do you want to continue? y/nn\n"
     ]
    }
   ],
   "source": [
    "opt = 'y'\n",
    "while opt == 'y':\n",
    "    num = int(input(\"Enter any number :\"))\n",
    "    if num % 4 == 0:\n",
    "        print(\"Number is also divisible by 4 and also even.\")\n",
    "    elif num % 2 == 0:\n",
    "        print(\"Number is even.\")\n",
    "    else:\n",
    "        print(\"Number is odd.\")\n",
    "    opt = input(\"Do you want to continue? y/n :\")"
   ]
  },
  {
   "cell_type": "code",
   "execution_count": 17,
   "id": "sonic-responsibility",
   "metadata": {},
   "outputs": [
    {
     "name": "stdout",
     "output_type": "stream",
     "text": [
      "Enter any number :13\n",
      "Number is odd.\n",
      "Enter any number :14\n",
      "Number is even.\n",
      "Enter any number :56\n",
      "Number is also divisible by 4 and also even.\n",
      "Enter any number :25\n",
      "Skipping.....\n",
      "Enter any number :23\n",
      "Number is odd.\n",
      "Enter any number :15\n",
      "Stopping....\n"
     ]
    }
   ],
   "source": [
    "while True:\n",
    "    num = int(input(\"Enter any number :\"))\n",
    "    \n",
    "    if num == 15:\n",
    "        print(\"Stopping....\")\n",
    "        break\n",
    "    elif num == 25:\n",
    "        print(\"Skipping.....\")\n",
    "        continue\n",
    "\n",
    "    if num % 4 == 0:\n",
    "        print(\"Number is also divisible by 4 and also even.\")\n",
    "    elif num % 2 == 0:\n",
    "        print(\"Number is even.\")\n",
    "    else:\n",
    "        print(\"Number is odd.\")"
   ]
  },
  {
   "cell_type": "markdown",
   "id": "cultural-request",
   "metadata": {
    "solution2": "shown",
    "solution2_first": true
   },
   "source": [
    "Task-3\n",
    "\n",
    "Take any three objects like circle, square and calculate the area of those objects. But get input from user like if it's circle get radius or if it's square get side and also get the name of object to be calculated from the user."
   ]
  },
  {
   "cell_type": "code",
   "execution_count": 19,
   "id": "younger-royal",
   "metadata": {
    "solution2": "shown"
   },
   "outputs": [
    {
     "name": "stdout",
     "output_type": "stream",
     "text": [
      "I can calculate areas of the following objects. Choose one object!!!\n",
      "a. Circle\n",
      "b. Square\n",
      "--> square\n",
      "Calculating area of square!!!\n",
      "Enter the side of the square : 4\n",
      "Area of the square with radius 4.0 is 16.00sq.unit\n",
      "Do you want to continue? y/n: y\n",
      "I can calculate areas of the following objects. Choose one object!!!\n",
      "a. Circle\n",
      "b. Square\n",
      "--> c\n",
      "you have selected invalid options!!!!\n",
      "I can calculate areas of the following objects. Choose one object!!!\n",
      "a. Circle\n",
      "b. Square\n",
      "--> a\n",
      "Calculating area of circle!!!\n",
      "Enter the radius of the circle : 2.7\n",
      "Area of the circle with radius 2.7 is 22.89sq.unit\n",
      "Do you want to continue? y/n: n\n"
     ]
    }
   ],
   "source": [
    "opt = 'y'\n",
    "while opt == 'y':\n",
    "    print(\"I can calculate areas of the following objects. Choose one object!!!\")\n",
    "    obj = input(\"a. Circle\\nb. Square\\n--> \")\n",
    "\n",
    "    if obj == \"circle\" or obj == \"a\":\n",
    "        print(\"Calculating area of circle!!!\")\n",
    "        radius = float(input(\"Enter the radius of the circle : \"))\n",
    "        area = 3.14 * radius * radius\n",
    "        print(\"Area of the circle with radius {} is {:.2f}sq.unit\".format(radius,area))\n",
    "\n",
    "    elif obj == \"square\" or obj == \"b\":\n",
    "        print(\"Calculating area of square!!!\")\n",
    "        side = float(input(\"Enter the side of the square : \"))\n",
    "        area = side * side\n",
    "        print(\"Area of the square with radius {} is {:.2f}sq.unit\".format(side,area))\n",
    "\n",
    "    else:\n",
    "        print(\"you have selected invalid options!!!!\")\n",
    "        continue\n",
    "    \n",
    "    opt = input(\"Do you want to continue? y/n: \")\n"
   ]
  },
  {
   "cell_type": "markdown",
   "id": "indonesian-syntax",
   "metadata": {},
   "source": [
    "HW-1\n",
    "\n",
    "write a python program for rock paper scissor game. Use the following rules to determine the winner. \n",
    "\n",
    "        rock beats scissor\n",
    "        scissor beats paper\n",
    "        paper beats rock\n",
    "        \n",
    "PS: Refer to demo"
   ]
  },
  {
   "cell_type": "code",
   "execution_count": 23,
   "id": "further-superior",
   "metadata": {},
   "outputs": [],
   "source": [
    "sent = \"write a python program for rock paper scissor game. Use the following rules to determine the winner.\"\n",
    "name = \"elephant\""
   ]
  },
  {
   "cell_type": "code",
   "execution_count": 26,
   "id": "multiple-dealer",
   "metadata": {},
   "outputs": [
    {
     "data": {
      "text/plain": [
       "'elephant'"
      ]
     },
     "execution_count": 26,
     "metadata": {},
     "output_type": "execute_result"
    }
   ],
   "source": [
    "name ==> print(name)"
   ]
  },
  {
   "cell_type": "code",
   "execution_count": 27,
   "id": "ecological-contrast",
   "metadata": {},
   "outputs": [
    {
     "data": {
      "text/plain": [
       "(8, 100)"
      ]
     },
     "execution_count": 27,
     "metadata": {},
     "output_type": "execute_result"
    }
   ],
   "source": [
    "len(name),len(sent)"
   ]
  },
  {
   "cell_type": "code",
   "execution_count": 29,
   "id": "competitive-adaptation",
   "metadata": {},
   "outputs": [
    {
     "data": {
      "text/plain": [
       "('p', 'p')"
      ]
     },
     "execution_count": 29,
     "metadata": {},
     "output_type": "execute_result"
    }
   ],
   "source": [
    "name[3],name[-5]"
   ]
  },
  {
   "cell_type": "code",
   "execution_count": 30,
   "id": "coastal-parking",
   "metadata": {},
   "outputs": [
    {
     "data": {
      "text/plain": [
       "'ephant'"
      ]
     },
     "execution_count": 30,
     "metadata": {},
     "output_type": "execute_result"
    }
   ],
   "source": [
    "name[2:]"
   ]
  },
  {
   "cell_type": "code",
   "execution_count": 31,
   "id": "known-belarus",
   "metadata": {},
   "outputs": [
    {
     "data": {
      "text/plain": [
       "'eleph'"
      ]
     },
     "execution_count": 31,
     "metadata": {},
     "output_type": "execute_result"
    }
   ],
   "source": [
    "name[:5]"
   ]
  },
  {
   "cell_type": "code",
   "execution_count": 32,
   "id": "inside-consumer",
   "metadata": {},
   "outputs": [
    {
     "data": {
      "text/plain": [
       "'eph'"
      ]
     },
     "execution_count": 32,
     "metadata": {},
     "output_type": "execute_result"
    }
   ],
   "source": [
    "name[2:5]"
   ]
  },
  {
   "cell_type": "code",
   "execution_count": 34,
   "id": "normal-hardware",
   "metadata": {},
   "outputs": [
    {
     "data": {
      "text/plain": [
       "'ehn'"
      ]
     },
     "execution_count": 34,
     "metadata": {},
     "output_type": "execute_result"
    }
   ],
   "source": [
    "name[2:7:2]"
   ]
  },
  {
   "cell_type": "code",
   "execution_count": 35,
   "id": "reasonable-plate",
   "metadata": {},
   "outputs": [
    {
     "data": {
      "text/plain": [
       "'tnahpele'"
      ]
     },
     "execution_count": 35,
     "metadata": {},
     "output_type": "execute_result"
    }
   ],
   "source": [
    "name[::-1]"
   ]
  },
  {
   "cell_type": "code",
   "execution_count": 36,
   "id": "nonprofit-serbia",
   "metadata": {},
   "outputs": [
    {
     "data": {
      "text/plain": [
       "'ELEPHANT'"
      ]
     },
     "execution_count": 36,
     "metadata": {},
     "output_type": "execute_result"
    }
   ],
   "source": [
    "name.upper()"
   ]
  },
  {
   "cell_type": "code",
   "execution_count": 37,
   "id": "fifty-graduation",
   "metadata": {},
   "outputs": [
    {
     "data": {
      "text/plain": [
       "'elephant'"
      ]
     },
     "execution_count": 37,
     "metadata": {},
     "output_type": "execute_result"
    }
   ],
   "source": [
    "name.lower()"
   ]
  },
  {
   "cell_type": "code",
   "execution_count": 38,
   "id": "hearing-example",
   "metadata": {},
   "outputs": [
    {
     "data": {
      "text/plain": [
       "'Elephant'"
      ]
     },
     "execution_count": 38,
     "metadata": {},
     "output_type": "execute_result"
    }
   ],
   "source": [
    "name.capitalize()"
   ]
  },
  {
   "cell_type": "code",
   "execution_count": 39,
   "id": "metallic-lithuania",
   "metadata": {},
   "outputs": [
    {
     "data": {
      "text/plain": [
       "'Write a python program for rock paper scissor game. use the following rules to determine the winner.'"
      ]
     },
     "execution_count": 39,
     "metadata": {},
     "output_type": "execute_result"
    }
   ],
   "source": [
    "sent.capitalize()"
   ]
  },
  {
   "cell_type": "code",
   "execution_count": 40,
   "id": "stopped-nation",
   "metadata": {},
   "outputs": [
    {
     "data": {
      "text/plain": [
       "'Write A Python Program For Rock Paper Scissor Game. Use The Following Rules To Determine The Winner.'"
      ]
     },
     "execution_count": 40,
     "metadata": {},
     "output_type": "execute_result"
    }
   ],
   "source": [
    "sent.title()"
   ]
  },
  {
   "cell_type": "code",
   "execution_count": 42,
   "id": "previous-lemon",
   "metadata": {},
   "outputs": [
    {
     "data": {
      "text/plain": [
       "'NAme'"
      ]
     },
     "execution_count": 42,
     "metadata": {},
     "output_type": "execute_result"
    }
   ],
   "source": [
    "\"naME\".swapcase()"
   ]
  },
  {
   "cell_type": "code",
   "execution_count": 45,
   "id": "meaningful-wagner",
   "metadata": {},
   "outputs": [
    {
     "data": {
      "text/plain": [
       "0"
      ]
     },
     "execution_count": 45,
     "metadata": {},
     "output_type": "execute_result"
    }
   ],
   "source": [
    "name.count('x')"
   ]
  },
  {
   "cell_type": "code",
   "execution_count": 46,
   "id": "consolidated-baghdad",
   "metadata": {},
   "outputs": [
    {
     "data": {
      "text/plain": [
       "'eLephant'"
      ]
     },
     "execution_count": 46,
     "metadata": {},
     "output_type": "execute_result"
    }
   ],
   "source": [
    "name.replace(\"l\",\"L\")"
   ]
  },
  {
   "cell_type": "code",
   "execution_count": 49,
   "id": "liable-television",
   "metadata": {},
   "outputs": [
    {
     "data": {
      "text/plain": [
       "'elephant'"
      ]
     },
     "execution_count": 49,
     "metadata": {},
     "output_type": "execute_result"
    }
   ],
   "source": [
    "\" elephant \".strip()"
   ]
  },
  {
   "cell_type": "code",
   "execution_count": 52,
   "id": "miniature-flooring",
   "metadata": {},
   "outputs": [
    {
     "data": {
      "text/plain": [
       "'elepha'"
      ]
     },
     "execution_count": 52,
     "metadata": {},
     "output_type": "execute_result"
    }
   ],
   "source": [
    "(\"nt\"+name).strip(\"nt\")"
   ]
  },
  {
   "cell_type": "code",
   "execution_count": 53,
   "id": "personal-williams",
   "metadata": {},
   "outputs": [
    {
     "data": {
      "text/plain": [
       "['a. Circle', 'b. Square', '-->']"
      ]
     },
     "execution_count": 53,
     "metadata": {},
     "output_type": "execute_result"
    }
   ],
   "source": [
    "\"a. Circle\\nb. Square\\n-->\".splitlines()"
   ]
  },
  {
   "cell_type": "code",
   "execution_count": 55,
   "id": "exterior-cornell",
   "metadata": {},
   "outputs": [
    {
     "data": {
      "text/plain": [
       "['write a python program for rock paper scissor game',\n",
       " ' Use the following rules to determine the winner',\n",
       " '']"
      ]
     },
     "execution_count": 55,
     "metadata": {},
     "output_type": "execute_result"
    }
   ],
   "source": [
    "sent.split(\".\")"
   ]
  },
  {
   "cell_type": "code",
   "execution_count": 58,
   "id": "fantastic-girlfriend",
   "metadata": {},
   "outputs": [
    {
     "data": {
      "text/plain": [
       "['write a python program for rock paper scissor game',\n",
       " ' Use the following rules to determine the winner',\n",
       " '']"
      ]
     },
     "execution_count": 58,
     "metadata": {},
     "output_type": "execute_result"
    }
   ],
   "source": [
    "sent.split(\".\")"
   ]
  },
  {
   "cell_type": "code",
   "execution_count": 59,
   "id": "alpine-sussex",
   "metadata": {},
   "outputs": [
    {
     "data": {
      "text/plain": [
       "'write a python program for rock paper scissor game. Use the following rules to determine the winner.'"
      ]
     },
     "execution_count": 59,
     "metadata": {},
     "output_type": "execute_result"
    }
   ],
   "source": [
    "\".\".join(sent.split(\".\"))"
   ]
  },
  {
   "cell_type": "code",
   "execution_count": 60,
   "id": "proper-trinidad",
   "metadata": {},
   "outputs": [
    {
     "data": {
      "text/plain": [
       "'p'"
      ]
     },
     "execution_count": 60,
     "metadata": {},
     "output_type": "execute_result"
    }
   ],
   "source": [
    "name[3]"
   ]
  },
  {
   "cell_type": "code",
   "execution_count": 62,
   "id": "instrumental-instruction",
   "metadata": {},
   "outputs": [
    {
     "data": {
      "text/plain": [
       "(3, 3)"
      ]
     },
     "execution_count": 62,
     "metadata": {},
     "output_type": "execute_result"
    }
   ],
   "source": [
    "name.find('p'), name.index('p')"
   ]
  },
  {
   "cell_type": "code",
   "execution_count": 63,
   "id": "continuing-values",
   "metadata": {},
   "outputs": [
    {
     "data": {
      "text/plain": [
       "23"
      ]
     },
     "execution_count": 63,
     "metadata": {},
     "output_type": "execute_result"
    }
   ],
   "source": [
    "sent.find(\"for\")"
   ]
  },
  {
   "cell_type": "code",
   "execution_count": 64,
   "id": "combined-advertising",
   "metadata": {},
   "outputs": [
    {
     "data": {
      "text/plain": [
       "-1"
      ]
     },
     "execution_count": 64,
     "metadata": {},
     "output_type": "execute_result"
    }
   ],
   "source": [
    "name.find('x')"
   ]
  },
  {
   "cell_type": "code",
   "execution_count": 65,
   "id": "banned-joshua",
   "metadata": {},
   "outputs": [
    {
     "ename": "ValueError",
     "evalue": "substring not found",
     "output_type": "error",
     "traceback": [
      "\u001b[0;31m---------------------------------------------------------------------------\u001b[0m",
      "\u001b[0;31mValueError\u001b[0m                                Traceback (most recent call last)",
      "\u001b[0;32m<ipython-input-65-2f291c2687d2>\u001b[0m in \u001b[0;36m<module>\u001b[0;34m\u001b[0m\n\u001b[0;32m----> 1\u001b[0;31m \u001b[0mname\u001b[0m\u001b[0;34m.\u001b[0m\u001b[0mindex\u001b[0m\u001b[0;34m(\u001b[0m\u001b[0;34m'x'\u001b[0m\u001b[0;34m)\u001b[0m\u001b[0;34m\u001b[0m\u001b[0;34m\u001b[0m\u001b[0m\n\u001b[0m",
      "\u001b[0;31mValueError\u001b[0m: substring not found"
     ]
    }
   ],
   "source": [
    "name.index('x')"
   ]
  },
  {
   "cell_type": "code",
   "execution_count": 69,
   "id": "constant-orbit",
   "metadata": {},
   "outputs": [
    {
     "data": {
      "text/plain": [
       "False"
      ]
     },
     "execution_count": 69,
     "metadata": {},
     "output_type": "execute_result"
    }
   ],
   "source": [
    "name.isdigit()"
   ]
  },
  {
   "cell_type": "code",
   "execution_count": 70,
   "id": "waiting-sending",
   "metadata": {},
   "outputs": [
    {
     "data": {
      "text/plain": [
       "True"
      ]
     },
     "execution_count": 70,
     "metadata": {},
     "output_type": "execute_result"
    }
   ],
   "source": [
    "\"123\".isdigit()"
   ]
  },
  {
   "cell_type": "code",
   "execution_count": 72,
   "id": "heard-lithuania",
   "metadata": {},
   "outputs": [
    {
     "data": {
      "text/plain": [
       "False"
      ]
     },
     "execution_count": 72,
     "metadata": {},
     "output_type": "execute_result"
    }
   ],
   "source": [
    "\". \".isspace()"
   ]
  },
  {
   "cell_type": "code",
   "execution_count": 73,
   "id": "organizational-monroe",
   "metadata": {},
   "outputs": [],
   "source": [
    "L = [] # list()"
   ]
  },
  {
   "cell_type": "code",
   "execution_count": 75,
   "id": "green-leadership",
   "metadata": {},
   "outputs": [],
   "source": [
    "l = ['apple','mango','orange','kiwi',1,2,3,4,5,6,1,23,3,14,5,2]"
   ]
  },
  {
   "cell_type": "code",
   "execution_count": 77,
   "id": "final-moldova",
   "metadata": {},
   "outputs": [
    {
     "data": {
      "text/plain": [
       "16"
      ]
     },
     "execution_count": 77,
     "metadata": {},
     "output_type": "execute_result"
    }
   ],
   "source": [
    "len(l)"
   ]
  },
  {
   "cell_type": "code",
   "execution_count": 79,
   "id": "variable-comfort",
   "metadata": {},
   "outputs": [],
   "source": [
    "l[13] = 32"
   ]
  },
  {
   "cell_type": "code",
   "execution_count": 80,
   "id": "steady-storm",
   "metadata": {},
   "outputs": [
    {
     "data": {
      "text/plain": [
       "['apple', 'mango', 'orange', 'kiwi', 1, 2, 3, 4, 5, 6, 1, 23, 3, 32, 5, 2]"
      ]
     },
     "execution_count": 80,
     "metadata": {},
     "output_type": "execute_result"
    }
   ],
   "source": [
    "l"
   ]
  },
  {
   "cell_type": "code",
   "execution_count": 81,
   "id": "international-lecture",
   "metadata": {},
   "outputs": [],
   "source": [
    "del l[15]"
   ]
  },
  {
   "cell_type": "code",
   "execution_count": 82,
   "id": "faced-apparel",
   "metadata": {},
   "outputs": [
    {
     "data": {
      "text/plain": [
       "['apple', 'mango', 'orange', 'kiwi', 1, 2, 3, 4, 5, 6, 1, 23, 3, 32, 5]"
      ]
     },
     "execution_count": 82,
     "metadata": {},
     "output_type": "execute_result"
    }
   ],
   "source": [
    "l"
   ]
  },
  {
   "cell_type": "code",
   "execution_count": 83,
   "id": "ongoing-advertiser",
   "metadata": {},
   "outputs": [],
   "source": [
    "l.append(\"papaya\")"
   ]
  },
  {
   "cell_type": "code",
   "execution_count": 85,
   "id": "applied-agenda",
   "metadata": {},
   "outputs": [],
   "source": [
    "l.insert(7,\"grape\")"
   ]
  },
  {
   "cell_type": "code",
   "execution_count": 87,
   "id": "moderate-hebrew",
   "metadata": {},
   "outputs": [
    {
     "data": {
      "text/plain": [
       "12"
      ]
     },
     "execution_count": 87,
     "metadata": {},
     "output_type": "execute_result"
    }
   ],
   "source": [
    "l.index(23)"
   ]
  },
  {
   "cell_type": "code",
   "execution_count": null,
   "id": "answering-patio",
   "metadata": {},
   "outputs": [],
   "source": [
    "del l[12]"
   ]
  },
  {
   "cell_type": "code",
   "execution_count": 88,
   "id": "recovered-begin",
   "metadata": {},
   "outputs": [],
   "source": [
    "l.remove(23)"
   ]
  },
  {
   "cell_type": "code",
   "execution_count": 90,
   "id": "after-junction",
   "metadata": {},
   "outputs": [
    {
     "data": {
      "text/plain": [
       "'papaya'"
      ]
     },
     "execution_count": 90,
     "metadata": {},
     "output_type": "execute_result"
    }
   ],
   "source": [
    "l.pop()"
   ]
  },
  {
   "cell_type": "code",
   "execution_count": 91,
   "id": "legislative-share",
   "metadata": {},
   "outputs": [
    {
     "data": {
      "text/plain": [
       "['apple', 'mango', 'orange', 'kiwi', 1, 2, 3, 'grape', 4, 5, 6, 1, 3, 32, 5]"
      ]
     },
     "execution_count": 91,
     "metadata": {},
     "output_type": "execute_result"
    }
   ],
   "source": [
    "l"
   ]
  },
  {
   "cell_type": "code",
   "execution_count": 94,
   "id": "precious-paint",
   "metadata": {},
   "outputs": [],
   "source": [
    "L.append('apple')"
   ]
  },
  {
   "cell_type": "code",
   "execution_count": 95,
   "id": "rural-aviation",
   "metadata": {},
   "outputs": [
    {
     "data": {
      "text/plain": [
       "['apple', 'apple']"
      ]
     },
     "execution_count": 95,
     "metadata": {},
     "output_type": "execute_result"
    }
   ],
   "source": [
    "L"
   ]
  },
  {
   "cell_type": "code",
   "execution_count": 96,
   "id": "olympic-theta",
   "metadata": {},
   "outputs": [],
   "source": [
    "L.clear()"
   ]
  },
  {
   "cell_type": "code",
   "execution_count": 97,
   "id": "american-feature",
   "metadata": {},
   "outputs": [
    {
     "data": {
      "text/plain": [
       "[]"
      ]
     },
     "execution_count": 97,
     "metadata": {},
     "output_type": "execute_result"
    }
   ],
   "source": [
    "L"
   ]
  },
  {
   "cell_type": "code",
   "execution_count": 98,
   "id": "available-administrator",
   "metadata": {},
   "outputs": [],
   "source": [
    "f = l"
   ]
  },
  {
   "cell_type": "code",
   "execution_count": 100,
   "id": "wrong-funds",
   "metadata": {},
   "outputs": [],
   "source": [
    "f.remove(32)"
   ]
  },
  {
   "cell_type": "code",
   "execution_count": 101,
   "id": "greatest-latvia",
   "metadata": {},
   "outputs": [
    {
     "data": {
      "text/plain": [
       "['apple', 'mango', 'orange', 'kiwi', 1, 2, 3, 'grape', 4, 5, 6, 1, 3, 5]"
      ]
     },
     "execution_count": 101,
     "metadata": {},
     "output_type": "execute_result"
    }
   ],
   "source": [
    "f"
   ]
  },
  {
   "cell_type": "code",
   "execution_count": 102,
   "id": "received-turning",
   "metadata": {},
   "outputs": [
    {
     "data": {
      "text/plain": [
       "['apple', 'mango', 'orange', 'kiwi', 1, 2, 3, 'grape', 4, 5, 6, 1, 3, 5]"
      ]
     },
     "execution_count": 102,
     "metadata": {},
     "output_type": "execute_result"
    }
   ],
   "source": [
    "l"
   ]
  },
  {
   "cell_type": "code",
   "execution_count": 103,
   "id": "neither-class",
   "metadata": {},
   "outputs": [],
   "source": [
    "g = l.copy()"
   ]
  },
  {
   "cell_type": "code",
   "execution_count": 104,
   "id": "processed-blake",
   "metadata": {},
   "outputs": [
    {
     "data": {
      "text/plain": [
       "['apple', 'mango', 'orange', 'kiwi', 1, 2, 3, 'grape', 4, 5, 6, 1, 3, 5]"
      ]
     },
     "execution_count": 104,
     "metadata": {},
     "output_type": "execute_result"
    }
   ],
   "source": [
    "g"
   ]
  },
  {
   "cell_type": "code",
   "execution_count": 105,
   "id": "elder-deficit",
   "metadata": {},
   "outputs": [
    {
     "data": {
      "text/plain": [
       "5"
      ]
     },
     "execution_count": 105,
     "metadata": {},
     "output_type": "execute_result"
    }
   ],
   "source": [
    "g.pop()"
   ]
  },
  {
   "cell_type": "code",
   "execution_count": 106,
   "id": "radical-duncan",
   "metadata": {},
   "outputs": [
    {
     "data": {
      "text/plain": [
       "['apple', 'mango', 'orange', 'kiwi', 1, 2, 3, 'grape', 4, 5, 6, 1, 3]"
      ]
     },
     "execution_count": 106,
     "metadata": {},
     "output_type": "execute_result"
    }
   ],
   "source": [
    "g"
   ]
  },
  {
   "cell_type": "code",
   "execution_count": 107,
   "id": "premier-afghanistan",
   "metadata": {},
   "outputs": [
    {
     "data": {
      "text/plain": [
       "['apple', 'mango', 'orange', 'kiwi', 1, 2, 3, 'grape', 4, 5, 6, 1, 3, 5]"
      ]
     },
     "execution_count": 107,
     "metadata": {},
     "output_type": "execute_result"
    }
   ],
   "source": [
    "l"
   ]
  },
  {
   "cell_type": "code",
   "execution_count": 109,
   "id": "minus-topic",
   "metadata": {},
   "outputs": [],
   "source": [
    "L.extend(['apple', 'mango', 'orange', 'kiwi', 'grape'])"
   ]
  },
  {
   "cell_type": "code",
   "execution_count": 110,
   "id": "conditional-pendant",
   "metadata": {},
   "outputs": [
    {
     "data": {
      "text/plain": [
       "['apple', 'mango', 'orange', 'kiwi', 'grape']"
      ]
     },
     "execution_count": 110,
     "metadata": {},
     "output_type": "execute_result"
    }
   ],
   "source": [
    "L"
   ]
  },
  {
   "cell_type": "code",
   "execution_count": null,
   "id": "occupational-modem",
   "metadata": {},
   "outputs": [],
   "source": [
    "L.append('papaya')"
   ]
  },
  {
   "cell_type": "code",
   "execution_count": 112,
   "id": "fewer-basics",
   "metadata": {},
   "outputs": [
    {
     "data": {
      "text/plain": [
       "['apple', 'mango', 'orange', 'kiwi', 1, 2, 3, 'grape', 4, 5, 6, 1, 3, 5]"
      ]
     },
     "execution_count": 112,
     "metadata": {},
     "output_type": "execute_result"
    }
   ],
   "source": [
    "l"
   ]
  },
  {
   "cell_type": "code",
   "execution_count": 113,
   "id": "contrary-tender",
   "metadata": {},
   "outputs": [],
   "source": [
    "l.reverse()"
   ]
  },
  {
   "cell_type": "code",
   "execution_count": 114,
   "id": "stainless-people",
   "metadata": {},
   "outputs": [
    {
     "data": {
      "text/plain": [
       "[5, 3, 1, 6, 5, 4, 'grape', 3, 2, 1, 'kiwi', 'orange', 'mango', 'apple']"
      ]
     },
     "execution_count": 114,
     "metadata": {},
     "output_type": "execute_result"
    }
   ],
   "source": [
    "l"
   ]
  },
  {
   "cell_type": "code",
   "execution_count": 115,
   "id": "arbitrary-hostel",
   "metadata": {},
   "outputs": [
    {
     "ename": "TypeError",
     "evalue": "'<' not supported between instances of 'str' and 'int'",
     "output_type": "error",
     "traceback": [
      "\u001b[0;31m---------------------------------------------------------------------------\u001b[0m",
      "\u001b[0;31mTypeError\u001b[0m                                 Traceback (most recent call last)",
      "\u001b[0;32m<ipython-input-115-fb07ac7c73ab>\u001b[0m in \u001b[0;36m<module>\u001b[0;34m\u001b[0m\n\u001b[0;32m----> 1\u001b[0;31m \u001b[0ml\u001b[0m\u001b[0;34m.\u001b[0m\u001b[0msort\u001b[0m\u001b[0;34m(\u001b[0m\u001b[0;34m)\u001b[0m\u001b[0;34m\u001b[0m\u001b[0;34m\u001b[0m\u001b[0m\n\u001b[0m",
      "\u001b[0;31mTypeError\u001b[0m: '<' not supported between instances of 'str' and 'int'"
     ]
    }
   ],
   "source": [
    "l.sort()"
   ]
  },
  {
   "cell_type": "code",
   "execution_count": 119,
   "id": "interested-hospital",
   "metadata": {},
   "outputs": [],
   "source": [
    "L.sort(reverse=True)"
   ]
  },
  {
   "cell_type": "code",
   "execution_count": 120,
   "id": "raising-texas",
   "metadata": {},
   "outputs": [
    {
     "data": {
      "text/plain": [
       "['orange', 'mango', 'kiwi', 'grape', 'apple']"
      ]
     },
     "execution_count": 120,
     "metadata": {},
     "output_type": "execute_result"
    }
   ],
   "source": [
    "L"
   ]
  },
  {
   "cell_type": "code",
   "execution_count": 121,
   "id": "german-boutique",
   "metadata": {},
   "outputs": [],
   "source": [
    "t = ('orange', 'mango', 'kiwi', 'grape', 'apple')"
   ]
  },
  {
   "cell_type": "code",
   "execution_count": 122,
   "id": "ideal-british",
   "metadata": {},
   "outputs": [
    {
     "data": {
      "text/plain": [
       "('orange', 'mango', 'kiwi', 'grape', 'apple')"
      ]
     },
     "execution_count": 122,
     "metadata": {},
     "output_type": "execute_result"
    }
   ],
   "source": [
    "t"
   ]
  },
  {
   "cell_type": "code",
   "execution_count": 124,
   "id": "twelve-expense",
   "metadata": {},
   "outputs": [
    {
     "ename": "TypeError",
     "evalue": "'tuple' object doesn't support item deletion",
     "output_type": "error",
     "traceback": [
      "\u001b[0;31m---------------------------------------------------------------------------\u001b[0m",
      "\u001b[0;31mTypeError\u001b[0m                                 Traceback (most recent call last)",
      "\u001b[0;32m<ipython-input-124-fac3d15da1b1>\u001b[0m in \u001b[0;36m<module>\u001b[0;34m\u001b[0m\n\u001b[0;32m----> 1\u001b[0;31m \u001b[0;32mdel\u001b[0m \u001b[0mt\u001b[0m\u001b[0;34m[\u001b[0m\u001b[0;36m3\u001b[0m\u001b[0;34m]\u001b[0m\u001b[0;34m\u001b[0m\u001b[0;34m\u001b[0m\u001b[0m\n\u001b[0m",
      "\u001b[0;31mTypeError\u001b[0m: 'tuple' object doesn't support item deletion"
     ]
    }
   ],
   "source": [
    "del t[3]"
   ]
  },
  {
   "cell_type": "code",
   "execution_count": 125,
   "id": "emotional-sunset",
   "metadata": {},
   "outputs": [
    {
     "ename": "TypeError",
     "evalue": "'tuple' object does not support item assignment",
     "output_type": "error",
     "traceback": [
      "\u001b[0;31m---------------------------------------------------------------------------\u001b[0m",
      "\u001b[0;31mTypeError\u001b[0m                                 Traceback (most recent call last)",
      "\u001b[0;32m<ipython-input-125-b5ee24b55e71>\u001b[0m in \u001b[0;36m<module>\u001b[0;34m\u001b[0m\n\u001b[0;32m----> 1\u001b[0;31m \u001b[0mt\u001b[0m\u001b[0;34m[\u001b[0m\u001b[0;36m3\u001b[0m\u001b[0;34m]\u001b[0m \u001b[0;34m=\u001b[0m \u001b[0;34m'ball'\u001b[0m\u001b[0;34m\u001b[0m\u001b[0;34m\u001b[0m\u001b[0m\n\u001b[0m",
      "\u001b[0;31mTypeError\u001b[0m: 'tuple' object does not support item assignment"
     ]
    }
   ],
   "source": [
    "t[3] = 'ball'"
   ]
  },
  {
   "cell_type": "code",
   "execution_count": 130,
   "id": "thick-timing",
   "metadata": {},
   "outputs": [
    {
     "name": "stdout",
     "output_type": "stream",
     "text": [
      "hi\n",
      "hi\n",
      "hi\n",
      "hi\n",
      "hi\n"
     ]
    }
   ],
   "source": [
    "for _ in range(5):\n",
    "    print(\"hi\")"
   ]
  },
  {
   "cell_type": "code",
   "execution_count": 131,
   "id": "sudden-albania",
   "metadata": {},
   "outputs": [
    {
     "name": "stdout",
     "output_type": "stream",
     "text": [
      "hello\n",
      "hello\n",
      "hello\n",
      "hello\n",
      "hello\n",
      "hello\n",
      "hello\n",
      "hello\n"
     ]
    }
   ],
   "source": [
    "for i in range(len(name)):\n",
    "    print(\"hello\")"
   ]
  },
  {
   "cell_type": "code",
   "execution_count": 133,
   "id": "opposite-harbor",
   "metadata": {},
   "outputs": [
    {
     "name": "stdout",
     "output_type": "stream",
     "text": [
      "e\n",
      "\n",
      "l\n",
      "\n",
      "e\n",
      "\n",
      "p\n",
      "\n",
      "h\n",
      "\n",
      "a\n",
      "\n",
      "n\n",
      "\n",
      "t\n",
      "\n"
     ]
    }
   ],
   "source": [
    "for i in name:\n",
    "    print(i)\n",
    "    input()"
   ]
  },
  {
   "cell_type": "code",
   "execution_count": 136,
   "id": "formed-mexico",
   "metadata": {},
   "outputs": [
    {
     "name": "stdout",
     "output_type": "stream",
     "text": [
      "4\n",
      "5\n",
      "5\n",
      "6\n",
      "grape\n",
      "3\n",
      "2\n",
      "1\n",
      "kiwi\n",
      "orange\n",
      "mango\n",
      "apple\n"
     ]
    }
   ],
   "source": [
    "for i in l[2:]:\n",
    "    print(i)"
   ]
  },
  {
   "cell_type": "code",
   "execution_count": 137,
   "id": "continuing-consideration",
   "metadata": {},
   "outputs": [
    {
     "name": "stdout",
     "output_type": "stream",
     "text": [
      "1 orange\n",
      "3 mango\n",
      "4 kiwi\n",
      "5 grape\n",
      "5 apple\n"
     ]
    }
   ],
   "source": [
    "for i,j in zip(l,L):\n",
    "    print(i,j)"
   ]
  },
  {
   "cell_type": "code",
   "execution_count": 139,
   "id": "representative-danish",
   "metadata": {},
   "outputs": [
    {
     "name": "stdout",
     "output_type": "stream",
     "text": [
      "(1, 'orange')\n",
      "(3, 'mango')\n",
      "(4, 'kiwi')\n",
      "(5, 'grape')\n",
      "(5, 'apple')\n"
     ]
    }
   ],
   "source": [
    "for i in zip(l,L):\n",
    "    print(i)"
   ]
  },
  {
   "cell_type": "code",
   "execution_count": 142,
   "id": "strong-channels",
   "metadata": {},
   "outputs": [
    {
     "name": "stdout",
     "output_type": "stream",
     "text": [
      "0 5\n",
      "1 5\n",
      "2 6\n",
      "3 grape\n",
      "4 3\n",
      "5 2\n",
      "6 1\n",
      "7 kiwi\n",
      "8 orange\n",
      "9 mango\n",
      "10 apple\n"
     ]
    }
   ],
   "source": [
    "for i,ele in enumerate(l[3:]):\n",
    "    print(i, ele)"
   ]
  },
  {
   "cell_type": "markdown",
   "id": "automotive-gibson",
   "metadata": {
    "solution2": "shown",
    "solution2_first": true
   },
   "source": [
    "Task-4\n",
    "\n",
    "Take two list with repeated set of items in each list. write a python program to get the common values between two lists without duplicates as list.\n",
    "\n",
    "e.g \n",
    "\n",
    "        a = [1,1,1,2,2,3,4,5,5]\n",
    "        b = [1,1,2,3,4,4,5]\n",
    "        ans = [1,2,3,4,5]\n",
    "\n",
    "       "
   ]
  },
  {
   "cell_type": "code",
   "execution_count": 144,
   "id": "suspected-prayer",
   "metadata": {
    "solution2": "shown"
   },
   "outputs": [],
   "source": [
    "a = [1,1,1,2,2,3,4,5,5]\n",
    "b = [1,1,2,3,4,4,5]"
   ]
  },
  {
   "cell_type": "code",
   "execution_count": 157,
   "id": "level-replication",
   "metadata": {
    "solution2": "shown"
   },
   "outputs": [],
   "source": [
    "c = []\n",
    "for i in range(len(a)):\n",
    "    for j in range(len(b)):\n",
    "        if a[i] == b[j] and a[i] not in c:\n",
    "            c.append(a[i])"
   ]
  },
  {
   "cell_type": "code",
   "execution_count": 158,
   "id": "attractive-landing",
   "metadata": {
    "solution2": "shown"
   },
   "outputs": [
    {
     "data": {
      "text/plain": [
       "[1, 2, 3, 4, 5]"
      ]
     },
     "execution_count": 158,
     "metadata": {},
     "output_type": "execute_result"
    }
   ],
   "source": [
    "c"
   ]
  },
  {
   "cell_type": "code",
   "execution_count": 155,
   "id": "decimal-delivery",
   "metadata": {
    "solution2": "shown"
   },
   "outputs": [],
   "source": [
    "c = []\n",
    "for i in a:\n",
    "    for j in b:\n",
    "        if i == j and i not in c:\n",
    "            c.append(i)"
   ]
  },
  {
   "cell_type": "code",
   "execution_count": 156,
   "id": "universal-roots",
   "metadata": {
    "solution2": "shown"
   },
   "outputs": [
    {
     "data": {
      "text/plain": [
       "[1, 2, 3, 4, 5]"
      ]
     },
     "execution_count": 156,
     "metadata": {},
     "output_type": "execute_result"
    }
   ],
   "source": [
    "c"
   ]
  },
  {
   "cell_type": "code",
   "execution_count": 153,
   "id": "willing-silver",
   "metadata": {
    "solution2": "shown"
   },
   "outputs": [],
   "source": [
    "c = []\n",
    "for i in a:\n",
    "    if i in b and i not in c:\n",
    "        c.append(i)"
   ]
  },
  {
   "cell_type": "code",
   "execution_count": 154,
   "id": "broadband-digest",
   "metadata": {
    "solution2": "shown"
   },
   "outputs": [
    {
     "data": {
      "text/plain": [
       "[1, 2, 3, 4, 5]"
      ]
     },
     "execution_count": 154,
     "metadata": {},
     "output_type": "execute_result"
    }
   ],
   "source": [
    "c"
   ]
  },
  {
   "cell_type": "code",
   "execution_count": 160,
   "id": "atomic-tradition",
   "metadata": {
    "solution2": "shown"
   },
   "outputs": [
    {
     "data": {
      "text/plain": [
       "{1, 2, 3, 4, 5}"
      ]
     },
     "execution_count": 160,
     "metadata": {},
     "output_type": "execute_result"
    }
   ],
   "source": [
    "set(a)&set(b)"
   ]
  },
  {
   "cell_type": "code",
   "execution_count": null,
   "id": "bulgarian-influence",
   "metadata": {},
   "outputs": [],
   "source": [
    "c = []\n",
    "for i in a:\n",
    "    if i in b and i not in c:\n",
    "        c.append(i)"
   ]
  },
  {
   "cell_type": "code",
   "execution_count": 161,
   "id": "pleased-alfred",
   "metadata": {},
   "outputs": [],
   "source": [
    "c = [i for i in a if i in b ]  # list comprehension"
   ]
  },
  {
   "cell_type": "code",
   "execution_count": 162,
   "id": "casual-designer",
   "metadata": {},
   "outputs": [
    {
     "data": {
      "text/plain": [
       "[1, 1, 1, 2, 2, 3, 4, 5, 5]"
      ]
     },
     "execution_count": 162,
     "metadata": {},
     "output_type": "execute_result"
    }
   ],
   "source": [
    "c"
   ]
  },
  {
   "cell_type": "code",
   "execution_count": 164,
   "id": "earlier-panel",
   "metadata": {},
   "outputs": [],
   "source": [
    "A = set(a)"
   ]
  },
  {
   "cell_type": "code",
   "execution_count": 165,
   "id": "mighty-stanley",
   "metadata": {},
   "outputs": [
    {
     "data": {
      "text/plain": [
       "{1, 2, 3, 4, 5}"
      ]
     },
     "execution_count": 165,
     "metadata": {},
     "output_type": "execute_result"
    }
   ],
   "source": [
    "A.intersection(b)"
   ]
  },
  {
   "cell_type": "markdown",
   "id": "adolescent-nirvana",
   "metadata": {},
   "source": [
    "HW-2\n",
    "\n",
    "write a python program for cow-bull game by using the following rules. You can use the following snippet to generate the random number or you can manually enter the number.\n",
    "\n",
    "\n",
    "        cow -> correct number and correct position\n",
    "        bull -> correct number but wrong position\n",
    "        \n",
    "<code>import random as rd\n",
    "num = rd.randint(111,999)</code>"
   ]
  },
  {
   "cell_type": "code",
   "execution_count": 172,
   "id": "stylish-conversion",
   "metadata": {},
   "outputs": [
    {
     "name": "stdout",
     "output_type": "stream",
     "text": [
      "348\n"
     ]
    }
   ],
   "source": [
    "import random as rd\n",
    "num = rd.randint(111,999)\n",
    "print(num)"
   ]
  },
  {
   "cell_type": "code",
   "execution_count": 9,
   "id": "purple-gallery",
   "metadata": {},
   "outputs": [
    {
     "name": "stdout",
     "output_type": "stream",
     "text": [
      "Enter your choice :q\n",
      "Good Bye....\n",
      "all good\n"
     ]
    }
   ],
   "source": [
    "options = [\"rock\",\"scissor\",\"paper\",\"quit\",\"q\"]\n",
    "user = input(\"Enter your choice :\")\n",
    "\n",
    "if not user.lower() in options:\n",
    "    print(\"Please enter valid inputs {}\".format(\", \".join(options)))\n",
    "    \n",
    "if user == \"quit\" or user == \"q\":\n",
    "    print(\"Good Bye....\")\n",
    "\n",
    "print(\"all good\")"
   ]
  },
  {
   "cell_type": "code",
   "execution_count": 21,
   "id": "illegal-monday",
   "metadata": {},
   "outputs": [],
   "source": [
    "D = {} # dict()"
   ]
  },
  {
   "cell_type": "code",
   "execution_count": 22,
   "id": "velvet-diabetes",
   "metadata": {},
   "outputs": [],
   "source": [
    "d = {\"name\":\"sharma\",\"age\":12,\"contact\":12345566,\"addres\":[12,\"xyz road\",\"abc\",123456]}"
   ]
  },
  {
   "cell_type": "code",
   "execution_count": 24,
   "id": "banner-throat",
   "metadata": {},
   "outputs": [
    {
     "data": {
      "text/plain": [
       "12"
      ]
     },
     "execution_count": 24,
     "metadata": {},
     "output_type": "execute_result"
    }
   ],
   "source": [
    "d['age']"
   ]
  },
  {
   "cell_type": "code",
   "execution_count": 27,
   "id": "furnished-syracuse",
   "metadata": {},
   "outputs": [],
   "source": [
    "d[\"contact\"] = 10987654"
   ]
  },
  {
   "cell_type": "code",
   "execution_count": 28,
   "id": "substantial-punishment",
   "metadata": {},
   "outputs": [
    {
     "data": {
      "text/plain": [
       "10987654"
      ]
     },
     "execution_count": 28,
     "metadata": {},
     "output_type": "execute_result"
    }
   ],
   "source": [
    "d['contact']"
   ]
  },
  {
   "cell_type": "code",
   "execution_count": 29,
   "id": "local-overhead",
   "metadata": {},
   "outputs": [],
   "source": [
    "d[87]=\"jhgjkhb hjl hi jklj\""
   ]
  },
  {
   "cell_type": "code",
   "execution_count": 31,
   "id": "ongoing-georgia",
   "metadata": {},
   "outputs": [],
   "source": [
    "del d[87]"
   ]
  },
  {
   "cell_type": "code",
   "execution_count": 32,
   "id": "painful-investment",
   "metadata": {},
   "outputs": [
    {
     "data": {
      "text/plain": [
       "{'name': 'sharma',\n",
       " 'age': 12,\n",
       " 'contact': 10987654,\n",
       " 'addres': [12, 'xyz road', 'abc', 123456]}"
      ]
     },
     "execution_count": 32,
     "metadata": {},
     "output_type": "execute_result"
    }
   ],
   "source": [
    "d"
   ]
  },
  {
   "cell_type": "code",
   "execution_count": 35,
   "id": "horizontal-planning",
   "metadata": {},
   "outputs": [
    {
     "ename": "KeyError",
     "evalue": "3",
     "output_type": "error",
     "traceback": [
      "\u001b[0;31m---------------------------------------------------------------------------\u001b[0m",
      "\u001b[0;31mKeyError\u001b[0m                                  Traceback (most recent call last)",
      "\u001b[0;32m<ipython-input-35-0acadf17a380>\u001b[0m in \u001b[0;36m<module>\u001b[0;34m\u001b[0m\n\u001b[0;32m----> 1\u001b[0;31m \u001b[0md\u001b[0m\u001b[0;34m[\u001b[0m\u001b[0;36m3\u001b[0m\u001b[0;34m]\u001b[0m\u001b[0;34m\u001b[0m\u001b[0;34m\u001b[0m\u001b[0m\n\u001b[0m",
      "\u001b[0;31mKeyError\u001b[0m: 3"
     ]
    }
   ],
   "source": [
    "d[3]"
   ]
  },
  {
   "cell_type": "code",
   "execution_count": 39,
   "id": "specified-museum",
   "metadata": {},
   "outputs": [
    {
     "name": "stdout",
     "output_type": "stream",
     "text": [
      "No\n"
     ]
    }
   ],
   "source": [
    "print(d.get(3,\"No\"))"
   ]
  },
  {
   "cell_type": "code",
   "execution_count": 40,
   "id": "selective-uniform",
   "metadata": {},
   "outputs": [
    {
     "data": {
      "text/plain": [
       "dict_items([('name', 'sharma'), ('age', 12), ('contact', 10987654), ('addres', [12, 'xyz road', 'abc', 123456])])"
      ]
     },
     "execution_count": 40,
     "metadata": {},
     "output_type": "execute_result"
    }
   ],
   "source": [
    "d.items()"
   ]
  },
  {
   "cell_type": "code",
   "execution_count": 42,
   "id": "prescribed-plain",
   "metadata": {},
   "outputs": [
    {
     "data": {
      "text/plain": [
       "['name', 'age', 'contact', 'addres']"
      ]
     },
     "execution_count": 42,
     "metadata": {},
     "output_type": "execute_result"
    }
   ],
   "source": [
    "list(d.keys())"
   ]
  },
  {
   "cell_type": "code",
   "execution_count": 43,
   "id": "floppy-pursuit",
   "metadata": {},
   "outputs": [
    {
     "data": {
      "text/plain": [
       "dict_values(['sharma', 12, 10987654, [12, 'xyz road', 'abc', 123456]])"
      ]
     },
     "execution_count": 43,
     "metadata": {},
     "output_type": "execute_result"
    }
   ],
   "source": [
    "d.values()"
   ]
  },
  {
   "cell_type": "code",
   "execution_count": 44,
   "id": "exotic-submission",
   "metadata": {},
   "outputs": [],
   "source": [
    "d.update({'a':\"apple\",\"m\":\"mango\"})"
   ]
  },
  {
   "cell_type": "code",
   "execution_count": 45,
   "id": "built-contest",
   "metadata": {},
   "outputs": [
    {
     "data": {
      "text/plain": [
       "{'name': 'sharma',\n",
       " 'age': 12,\n",
       " 'contact': 10987654,\n",
       " 'addres': [12, 'xyz road', 'abc', 123456],\n",
       " 'a': 'apple',\n",
       " 'm': 'mango'}"
      ]
     },
     "execution_count": 45,
     "metadata": {},
     "output_type": "execute_result"
    }
   ],
   "source": [
    "d"
   ]
  },
  {
   "cell_type": "code",
   "execution_count": 46,
   "id": "endless-turkey",
   "metadata": {},
   "outputs": [
    {
     "data": {
      "text/plain": [
       "'apple'"
      ]
     },
     "execution_count": 46,
     "metadata": {},
     "output_type": "execute_result"
    }
   ],
   "source": [
    "d.pop('a')"
   ]
  },
  {
   "cell_type": "code",
   "execution_count": 48,
   "id": "contemporary-cheese",
   "metadata": {},
   "outputs": [
    {
     "data": {
      "text/plain": [
       "('m', 'mango')"
      ]
     },
     "execution_count": 48,
     "metadata": {},
     "output_type": "execute_result"
    }
   ],
   "source": [
    "d.popitem()"
   ]
  },
  {
   "cell_type": "code",
   "execution_count": 50,
   "id": "brilliant-cassette",
   "metadata": {},
   "outputs": [
    {
     "data": {
      "text/plain": [
       "{'a': None, 'b': None, 'c': None, 'd': None}"
      ]
     },
     "execution_count": 50,
     "metadata": {},
     "output_type": "execute_result"
    }
   ],
   "source": [
    "dict.fromkeys(['a','b','c','d'])"
   ]
  },
  {
   "cell_type": "code",
   "execution_count": null,
   "id": "royal-garbage",
   "metadata": {},
   "outputs": [],
   "source": []
  },
  {
   "cell_type": "code",
   "execution_count": 51,
   "id": "infinite-committee",
   "metadata": {},
   "outputs": [
    {
     "ename": "NameError",
     "evalue": "name 'x' is not defined",
     "output_type": "error",
     "traceback": [
      "\u001b[0;31m---------------------------------------------------------------------------\u001b[0m",
      "\u001b[0;31mNameError\u001b[0m                                 Traceback (most recent call last)",
      "\u001b[0;32m<ipython-input-51-0360f15e4616>\u001b[0m in \u001b[0;36m<module>\u001b[0;34m\u001b[0m\n\u001b[0;32m----> 1\u001b[0;31m \u001b[0mprint\u001b[0m\u001b[0;34m(\u001b[0m\u001b[0mx\u001b[0m\u001b[0;34m)\u001b[0m\u001b[0;34m\u001b[0m\u001b[0;34m\u001b[0m\u001b[0m\n\u001b[0m\u001b[1;32m      2\u001b[0m \u001b[0mprint\u001b[0m\u001b[0;34m(\u001b[0m\u001b[0;34m\"Hello world!!\"\u001b[0m\u001b[0;34m)\u001b[0m\u001b[0;34m\u001b[0m\u001b[0;34m\u001b[0m\u001b[0m\n",
      "\u001b[0;31mNameError\u001b[0m: name 'x' is not defined"
     ]
    }
   ],
   "source": [
    "print(x)\n",
    "print(\"Hello world!!\")"
   ]
  },
  {
   "cell_type": "code",
   "execution_count": 52,
   "id": "loved-enzyme",
   "metadata": {},
   "outputs": [
    {
     "name": "stdout",
     "output_type": "stream",
     "text": [
      "There is an error.\n",
      "hello world\n"
     ]
    }
   ],
   "source": [
    "try:\n",
    "    print(x)\n",
    "except:\n",
    "    print(\"There is an error.\")\n",
    "print(\"hello world\")"
   ]
  },
  {
   "cell_type": "code",
   "execution_count": 53,
   "id": "informative-continent",
   "metadata": {},
   "outputs": [
    {
     "name": "stdout",
     "output_type": "stream",
     "text": [
      "There is an error : name 'x' is not defined\n",
      "hello world\n"
     ]
    }
   ],
   "source": [
    "try:\n",
    "    print(x)\n",
    "except Exception as e:\n",
    "    print(\"There is an error : {}\".format(e))\n",
    "print(\"hello world\")"
   ]
  },
  {
   "cell_type": "code",
   "execution_count": 60,
   "id": "interested-knight",
   "metadata": {},
   "outputs": [
    {
     "name": "stdout",
     "output_type": "stream",
     "text": [
      "hi\n",
      "Generic error\n",
      "hello world\n"
     ]
    }
   ],
   "source": [
    "try:\n",
    "    print(\"hi\")\n",
    "    raise ValueError(\"This is for value error.\")\n",
    "except NameError as ne:\n",
    "    print(\"There is an error : {}\".format(ne))\n",
    "    x = 4\n",
    "except TypeError as te:\n",
    "    print(\"There is an type error : {}\".format(te))\n",
    "except Exception as e:\n",
    "    print(\"Generic error\")\n",
    "print(\"hello world\")"
   ]
  },
  {
   "cell_type": "code",
   "execution_count": 61,
   "id": "deadly-provider",
   "metadata": {},
   "outputs": [
    {
     "name": "stdout",
     "output_type": "stream",
     "text": [
      "Enter any number :sd\n",
      "There is an error: please enter numerical value\n",
      "Enter any number :1234\n"
     ]
    }
   ],
   "source": [
    "try:\n",
    "    num = input(\"Enter any number :\")\n",
    "    if not num.isdigit():\n",
    "        raise ValueError(\"please enter numerical value\")\n",
    "except Exception as e:\n",
    "    print(\"There is an error: {}\".format(e))\n",
    "    num = input(\"Enter any number :\")"
   ]
  },
  {
   "cell_type": "code",
   "execution_count": 64,
   "id": "checked-carnival",
   "metadata": {},
   "outputs": [
    {
     "name": "stdout",
     "output_type": "stream",
     "text": [
      "There is an error : 'x' is an invalid keyword argument for this function\n",
      "hello world\n"
     ]
    }
   ],
   "source": [
    "try:\n",
    "    print(x=4)\n",
    "except(NameError, TypeError) as e:\n",
    "    print(\"There is an error : {}\".format(e))\n",
    "except Exception as e:\n",
    "    print(\"Generic error\")\n",
    "print(\"hello world\")"
   ]
  },
  {
   "cell_type": "code",
   "execution_count": 66,
   "id": "divided-regulation",
   "metadata": {},
   "outputs": [
    {
     "name": "stdout",
     "output_type": "stream",
     "text": [
      "5\n",
      "Hello world\n"
     ]
    }
   ],
   "source": [
    "try:\n",
    "    x = 5\n",
    "    print(x)\n",
    "except Exception as e:\n",
    "    print(\"Error!!!\",e)\n",
    "finally:\n",
    "    print(\"Hello world\")"
   ]
  },
  {
   "cell_type": "code",
   "execution_count": 68,
   "id": "least-kuwait",
   "metadata": {},
   "outputs": [],
   "source": [
    "# no arg, no returns\n",
    "def addition():\n",
    "    a = float(input(\"enter any number for a: \"))\n",
    "    b = float(input(\"enter any number for b: \"))\n",
    "    print(a+b, a*b)"
   ]
  },
  {
   "cell_type": "code",
   "execution_count": 69,
   "id": "injured-stranger",
   "metadata": {},
   "outputs": [
    {
     "name": "stdout",
     "output_type": "stream",
     "text": [
      "enter any number for a: 4\n",
      "enter any number for b: 3\n",
      "7.0 12.0\n"
     ]
    }
   ],
   "source": [
    "addition()"
   ]
  },
  {
   "cell_type": "code",
   "execution_count": 70,
   "id": "romantic-watts",
   "metadata": {},
   "outputs": [],
   "source": [
    "# no arg, returns\n",
    "def addition():\n",
    "    a = float(input(\"enter any number for a: \"))\n",
    "    b = float(input(\"enter any number for b: \"))\n",
    "    return a+b, a*b"
   ]
  },
  {
   "cell_type": "code",
   "execution_count": 71,
   "id": "attended-principle",
   "metadata": {},
   "outputs": [
    {
     "name": "stdout",
     "output_type": "stream",
     "text": [
      "enter any number for a: 6\n",
      "enter any number for b: 8\n"
     ]
    }
   ],
   "source": [
    "s,m = addition()"
   ]
  },
  {
   "cell_type": "code",
   "execution_count": 72,
   "id": "indoor-document",
   "metadata": {},
   "outputs": [
    {
     "name": "stdout",
     "output_type": "stream",
     "text": [
      "14.0 48.0\n"
     ]
    }
   ],
   "source": [
    "print(s,m)"
   ]
  },
  {
   "cell_type": "code",
   "execution_count": 73,
   "id": "classified-marketplace",
   "metadata": {},
   "outputs": [],
   "source": [
    "# arg, returns\n",
    "def addition(a,b):\n",
    "    return a+b, a*b"
   ]
  },
  {
   "cell_type": "code",
   "execution_count": 75,
   "id": "multiple-message",
   "metadata": {},
   "outputs": [
    {
     "name": "stdout",
     "output_type": "stream",
     "text": [
      "enter any number for a: 2\n",
      "enter any number for b: 4\n"
     ]
    }
   ],
   "source": [
    "a = float(input(\"enter any number for a: \"))\n",
    "b = float(input(\"enter any number for b: \"))\n",
    "s,m = addition(a,b)"
   ]
  },
  {
   "cell_type": "code",
   "execution_count": 76,
   "id": "compliant-slovenia",
   "metadata": {},
   "outputs": [
    {
     "name": "stdout",
     "output_type": "stream",
     "text": [
      "6.0 8.0\n"
     ]
    }
   ],
   "source": [
    "print(s,m)"
   ]
  },
  {
   "cell_type": "code",
   "execution_count": 77,
   "id": "interior-caution",
   "metadata": {},
   "outputs": [],
   "source": [
    "# arg with default, returns\n",
    "def addition(b,a=5):\n",
    "    return a+b, a*b"
   ]
  },
  {
   "cell_type": "code",
   "execution_count": 78,
   "id": "downtown-cleveland",
   "metadata": {},
   "outputs": [
    {
     "name": "stdout",
     "output_type": "stream",
     "text": [
      "enter any number for a: 2\n",
      "enter any number for b: 6\n"
     ]
    }
   ],
   "source": [
    "a = float(input(\"enter any number for a: \"))\n",
    "b = float(input(\"enter any number for b: \"))\n",
    "s,m = addition(b=b)"
   ]
  },
  {
   "cell_type": "code",
   "execution_count": 80,
   "id": "reported-territory",
   "metadata": {},
   "outputs": [
    {
     "name": "stdout",
     "output_type": "stream",
     "text": [
      "enter any number for a: 3\n",
      "enter any number for b: 8\n"
     ]
    }
   ],
   "source": [
    "a = float(input(\"enter any number for a: \"))\n",
    "b = float(input(\"enter any number for b: \"))\n",
    "s,m = addition(a=a,b=b)"
   ]
  },
  {
   "cell_type": "code",
   "execution_count": 81,
   "id": "ecological-error",
   "metadata": {},
   "outputs": [
    {
     "name": "stdout",
     "output_type": "stream",
     "text": [
      "11.0 24.0\n"
     ]
    }
   ],
   "source": [
    "print(s,m)"
   ]
  },
  {
   "cell_type": "code",
   "execution_count": 108,
   "id": "southeast-sunset",
   "metadata": {},
   "outputs": [],
   "source": [
    "def isPrime(num):\n",
    "    for i in range(2, int(num/2)):\n",
    "        if num % i == 0:\n",
    "            return False\n",
    "    else:\n",
    "        return num"
   ]
  },
  {
   "cell_type": "code",
   "execution_count": 109,
   "id": "hairy-emperor",
   "metadata": {},
   "outputs": [],
   "source": [
    "numList = list(range(10,25))"
   ]
  },
  {
   "cell_type": "code",
   "execution_count": 110,
   "id": "lucky-swing",
   "metadata": {},
   "outputs": [
    {
     "data": {
      "text/plain": [
       "[10, 11, 12, 13, 14, 15, 16, 17, 18, 19, 20, 21, 22, 23, 24]"
      ]
     },
     "execution_count": 110,
     "metadata": {},
     "output_type": "execute_result"
    }
   ],
   "source": [
    "numList"
   ]
  },
  {
   "cell_type": "code",
   "execution_count": 91,
   "id": "ancient-contractor",
   "metadata": {},
   "outputs": [],
   "source": [
    "s = lambda a,b : a+b\n",
    "m = lambda a,b : a*b"
   ]
  },
  {
   "cell_type": "code",
   "execution_count": 96,
   "id": "former-recognition",
   "metadata": {},
   "outputs": [],
   "source": [
    "def s(a,b): return a+b"
   ]
  },
  {
   "cell_type": "code",
   "execution_count": 97,
   "id": "mathematical-eleven",
   "metadata": {
    "scrolled": true
   },
   "outputs": [
    {
     "data": {
      "text/plain": [
       "8"
      ]
     },
     "execution_count": 97,
     "metadata": {},
     "output_type": "execute_result"
    }
   ],
   "source": [
    "s(3,5)"
   ]
  },
  {
   "cell_type": "code",
   "execution_count": 93,
   "id": "empirical-peninsula",
   "metadata": {},
   "outputs": [
    {
     "data": {
      "text/plain": [
       "15"
      ]
     },
     "execution_count": 93,
     "metadata": {},
     "output_type": "execute_result"
    }
   ],
   "source": [
    "m(3,5)"
   ]
  },
  {
   "cell_type": "code",
   "execution_count": 98,
   "id": "congressional-survival",
   "metadata": {},
   "outputs": [],
   "source": [
    "u = lambda string: string.upper()"
   ]
  },
  {
   "cell_type": "code",
   "execution_count": 99,
   "id": "balanced-promise",
   "metadata": {},
   "outputs": [
    {
     "data": {
      "text/plain": [
       "'APPLE'"
      ]
     },
     "execution_count": 99,
     "metadata": {},
     "output_type": "execute_result"
    }
   ],
   "source": [
    "u('apple')"
   ]
  },
  {
   "cell_type": "code",
   "execution_count": 111,
   "id": "cardiovascular-picnic",
   "metadata": {},
   "outputs": [],
   "source": [
    "response = []\n",
    "for num in numList:\n",
    "    if isPrime(num):\n",
    "        response.append(isPrime(num))"
   ]
  },
  {
   "cell_type": "code",
   "execution_count": 112,
   "id": "least-rabbit",
   "metadata": {},
   "outputs": [
    {
     "data": {
      "text/plain": [
       "[11, 13, 17, 19, 23]"
      ]
     },
     "execution_count": 112,
     "metadata": {},
     "output_type": "execute_result"
    }
   ],
   "source": [
    "response"
   ]
  },
  {
   "cell_type": "code",
   "execution_count": 113,
   "id": "given-qatar",
   "metadata": {},
   "outputs": [
    {
     "data": {
      "text/plain": [
       "[False,\n",
       " 11,\n",
       " False,\n",
       " 13,\n",
       " False,\n",
       " False,\n",
       " False,\n",
       " 17,\n",
       " False,\n",
       " 19,\n",
       " False,\n",
       " False,\n",
       " False,\n",
       " 23,\n",
       " False]"
      ]
     },
     "execution_count": 113,
     "metadata": {},
     "output_type": "execute_result"
    }
   ],
   "source": [
    "list(map(isPrime,numList))"
   ]
  },
  {
   "cell_type": "code",
   "execution_count": 114,
   "id": "moved-childhood",
   "metadata": {},
   "outputs": [
    {
     "data": {
      "text/plain": [
       "[11, 13, 17, 19, 23]"
      ]
     },
     "execution_count": 114,
     "metadata": {},
     "output_type": "execute_result"
    }
   ],
   "source": [
    "list(filter(bool,map(isPrime,numList)))"
   ]
  },
  {
   "cell_type": "code",
   "execution_count": 119,
   "id": "elder-determination",
   "metadata": {},
   "outputs": [
    {
     "data": {
      "text/plain": [
       "13"
      ]
     },
     "execution_count": 119,
     "metadata": {},
     "output_type": "execute_result"
    }
   ],
   "source": [
    "random.choice(numList)"
   ]
  },
  {
   "cell_type": "code",
   "execution_count": null,
   "id": "round-lawsuit",
   "metadata": {},
   "outputs": [],
   "source": [
    "# to install any library\n",
    "option 1: use cmd and enter the installation cmd \n",
    "option 2: use the notebook and use ! before installation cmd  \n",
    "    \n",
    "pip install tensorflow\n",
    "!pip install tensorflow"
   ]
  },
  {
   "cell_type": "code",
   "execution_count": 120,
   "id": "adopted-platform",
   "metadata": {},
   "outputs": [],
   "source": [
    "import random \n",
    "import time"
   ]
  },
  {
   "cell_type": "code",
   "execution_count": 122,
   "id": "bigger-imaging",
   "metadata": {},
   "outputs": [
    {
     "data": {
      "text/plain": [
       "20"
      ]
     },
     "execution_count": 122,
     "metadata": {},
     "output_type": "execute_result"
    }
   ],
   "source": [
    "random.randint(0,100)"
   ]
  },
  {
   "cell_type": "code",
   "execution_count": 123,
   "id": "supported-hotel",
   "metadata": {},
   "outputs": [],
   "source": [
    "import random as rd"
   ]
  },
  {
   "cell_type": "code",
   "execution_count": 125,
   "id": "refined-teach",
   "metadata": {},
   "outputs": [
    {
     "data": {
      "text/plain": [
       "9"
      ]
     },
     "execution_count": 125,
     "metadata": {},
     "output_type": "execute_result"
    }
   ],
   "source": [
    "rd.randint(0,9)"
   ]
  },
  {
   "cell_type": "code",
   "execution_count": 126,
   "id": "latin-glasgow",
   "metadata": {},
   "outputs": [],
   "source": [
    "from math import sin, factorial, sqrt"
   ]
  },
  {
   "cell_type": "code",
   "execution_count": 127,
   "id": "aware-apache",
   "metadata": {},
   "outputs": [
    {
     "data": {
      "text/plain": [
       "120"
      ]
     },
     "execution_count": 127,
     "metadata": {},
     "output_type": "execute_result"
    }
   ],
   "source": [
    "factorial(5)"
   ]
  },
  {
   "cell_type": "code",
   "execution_count": 128,
   "id": "promising-checklist",
   "metadata": {},
   "outputs": [
    {
     "data": {
      "text/plain": [
       "4.0"
      ]
     },
     "execution_count": 128,
     "metadata": {},
     "output_type": "execute_result"
    }
   ],
   "source": [
    "sqrt(16)"
   ]
  },
  {
   "cell_type": "code",
   "execution_count": null,
   "id": "casual-bumper",
   "metadata": {},
   "outputs": [],
   "source": []
  },
  {
   "cell_type": "code",
   "execution_count": null,
   "id": "hungry-friendly",
   "metadata": {},
   "outputs": [],
   "source": [
    "file handling \n",
    "visualization \n",
    "\n",
    "maths 🧮 "
   ]
  }
 ],
 "metadata": {
  "kernelspec": {
   "display_name": "Python 3",
   "language": "python",
   "name": "python3"
  },
  "language_info": {
   "codemirror_mode": {
    "name": "ipython",
    "version": 3
   },
   "file_extension": ".py",
   "mimetype": "text/x-python",
   "name": "python",
   "nbconvert_exporter": "python",
   "pygments_lexer": "ipython3",
   "version": "3.6.8"
  },
  "nbTranslate": {
   "displayLangs": [
    "*"
   ],
   "hotkey": "alt-t",
   "langInMainMenu": true,
   "sourceLang": "en",
   "targetLang": "fr",
   "useGoogleTranslate": true
  },
  "toc": {
   "base_numbering": 1,
   "nav_menu": {},
   "number_sections": true,
   "sideBar": true,
   "skip_h1_title": false,
   "title_cell": "Table of Contents",
   "title_sidebar": "Contents",
   "toc_cell": false,
   "toc_position": {},
   "toc_section_display": true,
   "toc_window_display": false
  },
  "varInspector": {
   "cols": {
    "lenName": 16,
    "lenType": 16,
    "lenVar": 40
   },
   "kernels_config": {
    "python": {
     "delete_cmd_postfix": "",
     "delete_cmd_prefix": "del ",
     "library": "var_list.py",
     "varRefreshCmd": "print(var_dic_list())"
    },
    "r": {
     "delete_cmd_postfix": ") ",
     "delete_cmd_prefix": "rm(",
     "library": "var_list.r",
     "varRefreshCmd": "cat(var_dic_list()) "
    }
   },
   "types_to_exclude": [
    "module",
    "function",
    "builtin_function_or_method",
    "instance",
    "_Feature"
   ],
   "window_display": false
  }
 },
 "nbformat": 4,
 "nbformat_minor": 5
}
