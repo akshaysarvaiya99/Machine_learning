{
 "cells": [
  {
   "cell_type": "markdown",
   "id": "boxed-tissue",
   "metadata": {},
   "source": [
    "Reference\n",
    "\n",
    "This notebook link : https://bit.ly/aiml_2021\n",
    "\n",
    "python practice link: https://www.w3resource.com/python-exercises/, https://www.practicepython.org/"
   ]
  },
  {
   "cell_type": "code",
   "execution_count": 1,
   "id": "developmental-nirvana",
   "metadata": {},
   "outputs": [],
   "source": [
    "a = 5  # int\n",
    "b = 3.14  # float\n",
    "c = 'apple'  # string\n",
    "d = True  # bool"
   ]
  },
  {
   "cell_type": "code",
   "execution_count": 5,
   "id": "liberal-trick",
   "metadata": {},
   "outputs": [
    {
     "name": "stdout",
     "output_type": "stream",
     "text": [
      "5\n",
      "3.14\n",
      "apple\n",
      "True\n"
     ]
    }
   ],
   "source": [
    "print(a,b,c,d,sep=\"\\n\")"
   ]
  },
  {
   "cell_type": "code",
   "execution_count": 6,
   "id": "headed-retail",
   "metadata": {},
   "outputs": [
    {
     "name": "stdout",
     "output_type": "stream",
     "text": [
      "123\n"
     ]
    }
   ],
   "source": [
    "print(123)"
   ]
  },
  {
   "cell_type": "code",
   "execution_count": 7,
   "id": "egyptian-campus",
   "metadata": {},
   "outputs": [
    {
     "name": "stdout",
     "output_type": "stream",
     "text": [
      "hello world!!\n"
     ]
    }
   ],
   "source": [
    "print(\"hello world!!\")"
   ]
  },
  {
   "cell_type": "code",
   "execution_count": 8,
   "id": "endless-arrest",
   "metadata": {},
   "outputs": [
    {
     "name": "stdout",
     "output_type": "stream",
     "text": [
      "<class 'int'>\n",
      "<class 'float'>\n",
      "<class 'str'>\n",
      "<class 'bool'>\n"
     ]
    }
   ],
   "source": [
    "print(type(a),type(b),type(c),type(d),sep=\"\\n\")"
   ]
  },
  {
   "cell_type": "code",
   "execution_count": 9,
   "id": "likely-stock",
   "metadata": {},
   "outputs": [],
   "source": [
    "# hello apple\n",
    "# hello 5"
   ]
  },
  {
   "cell_type": "code",
   "execution_count": 17,
   "id": "weekly-counter",
   "metadata": {},
   "outputs": [
    {
     "name": "stdout",
     "output_type": "stream",
     "text": [
      "hello apple\n",
      "hello 5\n",
      "hello apple\n",
      "hello 5\n",
      "hello apple\n",
      "hello 5\n",
      "hello apple\n",
      "hello 5\n"
     ]
    }
   ],
   "source": [
    "# method-1\n",
    "print(\"hello\",c)\n",
    "print(\"hello\",a)\n",
    "\n",
    "# method-2\n",
    "print(\"hello \"+ c)\n",
    "print(\"hello \"+ str(a))\n",
    "\n",
    "# method-3\n",
    "print(\"hello %s\"%c)\n",
    "print(\"hello %d\"%a)\n",
    "\n",
    "# method-4\n",
    "print(\"hello {}\".format(c))\n",
    "print(\"hello {}\".format(a))"
   ]
  },
  {
   "cell_type": "code",
   "execution_count": 15,
   "id": "sealed-shopper",
   "metadata": {
    "scrolled": true
   },
   "outputs": [
    {
     "name": "stdout",
     "output_type": "stream",
     "text": [
      "<class 'str'>\n"
     ]
    }
   ],
   "source": [
    "print(type('15'))"
   ]
  },
  {
   "cell_type": "code",
   "execution_count": 22,
   "id": "academic-container",
   "metadata": {},
   "outputs": [
    {
     "name": "stdout",
     "output_type": "stream",
     "text": [
      "I bought a 3 kgs of Mango for 120.35 Rs.\n",
      "I bought a 3kgs of Mango for 120.35Rs.\n",
      "I bought a 3kgs of Mango for 120.35Rs.\n",
      "I bought a 3kgs of Mango for 120.35Rs.\n"
     ]
    }
   ],
   "source": [
    "# I bought a 3kgs of Mango for 120.35Rs\n",
    "w = 3\n",
    "f = \"Mango\"\n",
    "p = 120.35\n",
    "\n",
    "print(\"I bought a\",w,\"kgs of\",f,\"for\",p,\"Rs.\")\n",
    "print(\"I bought a \"+str(w)+\"kgs of \"+f+\" for \"+str(p)+\"Rs.\")\n",
    "print(\"I bought a %dkgs of %s for %0.2fRs.\"%(w,f,p))\n",
    "print(\"I bought a {}kgs of {} for {}Rs.\".format(w,f,p))"
   ]
  },
  {
   "cell_type": "code",
   "execution_count": 39,
   "id": "competent-lewis",
   "metadata": {},
   "outputs": [
    {
     "name": "stdout",
     "output_type": "stream",
     "text": [
      "Enter something: 45\n"
     ]
    }
   ],
   "source": [
    "a = int(input(\"Enter something: \"))"
   ]
  },
  {
   "cell_type": "code",
   "execution_count": 40,
   "id": "annoying-while",
   "metadata": {},
   "outputs": [
    {
     "name": "stdout",
     "output_type": "stream",
     "text": [
      "45 <class 'int'>\n"
     ]
    }
   ],
   "source": [
    "print(a, type(a))"
   ]
  },
  {
   "cell_type": "code",
   "execution_count": 47,
   "id": "capable-compression",
   "metadata": {},
   "outputs": [
    {
     "name": "stdout",
     "output_type": "stream",
     "text": [
      "10\n",
      "4\n",
      "21\n",
      "2.3333333333333335\n",
      "2\n",
      "1\n",
      "==========\n",
      "True\n",
      "False\n",
      "True\n",
      "False\n",
      "False\n",
      "True\n",
      "==========\n",
      "True\n",
      "False\n",
      "True\n",
      "False\n",
      "False\n",
      "True\n"
     ]
    }
   ],
   "source": [
    "a = 7\n",
    "b = 3\n",
    "\n",
    "# arthimetic \n",
    "print(a + b)\n",
    "print(a - b)\n",
    "print(a * b)\n",
    "print(a / b)\n",
    "print(a // b)\n",
    "print(a % b)\n",
    "print(\"=====\"*2)\n",
    "\n",
    "# conditional\n",
    "print(a > b)\n",
    "print(a < b)\n",
    "print(a >= b)\n",
    "print(a <= b)\n",
    "print(a == b)\n",
    "print(a != b)\n",
    "print(\"=====\"*2)\n",
    "\n",
    "# logical\n",
    "print(a > 5 and a < 15)\n",
    "print(a > 15 and a < 10)\n",
    "\n",
    "print(a > 15 or a < 10)\n",
    "print(a > 15 or a < 5)\n",
    "\n",
    "print(not a)\n",
    "a = None\n",
    "print(not a)"
   ]
  },
  {
   "cell_type": "markdown",
   "id": "native-quest",
   "metadata": {
    "solution2": "hidden",
    "solution2_first": true
   },
   "source": [
    "Task-1\n",
    "    \n",
    "    Take any three objects like circle, square and calculate the area of those objects. But get input from user like if it's circle get radius or if it's square get side.\n",
    "    \n",
    "    \n"
   ]
  },
  {
   "cell_type": "code",
   "execution_count": 54,
   "id": "guided-minnesota",
   "metadata": {
    "solution2": "hidden"
   },
   "outputs": [
    {
     "name": "stdout",
     "output_type": "stream",
     "text": [
      "Calculating area of circle!!!\n",
      "Enter the radius of the circle : 2.3\n",
      "Area of the circle with radius 2.3 is 16.61sq.unit\n",
      "====================\n",
      "Calculating area of square!!!\n",
      "Enter the side of the square : 4\n",
      "Area of the square with radius 4.0 is 16.00sq.unit\n"
     ]
    }
   ],
   "source": [
    "print(\"Calculating area of circle!!!\")\n",
    "radius = float(input(\"Enter the radius of the circle : \"))\n",
    "area = 3.14 * radius * radius\n",
    "print(\"Area of the circle with radius {} is {:.2f}sq.unit\".format(radius,area))\n",
    "\n",
    "print(\"====\"*8)\n",
    "\n",
    "print(\"Calculating area of square!!!\")\n",
    "side = float(input(\"Enter the side of the square : \"))\n",
    "area = side * side\n",
    "print(\"Area of the square with radius {} is {:.2f}sq.unit\".format(side,area))\n"
   ]
  },
  {
   "cell_type": "markdown",
   "id": "superior-retail",
   "metadata": {
    "solution2": "hidden",
    "solution2_first": true
   },
   "source": [
    "Task-2\n",
    "\n",
    "    Get any number from the user and perform the following operation\n",
    "    \n",
    "    n = input()\n",
    "    output = nnn+nn+n"
   ]
  },
  {
   "cell_type": "code",
   "execution_count": 55,
   "id": "valued-sheriff",
   "metadata": {
    "solution2": "hidden"
   },
   "outputs": [
    {
     "name": "stdout",
     "output_type": "stream",
     "text": [
      "Enter any number :5\n",
      "615\n"
     ]
    }
   ],
   "source": [
    "n = int(input(\"Enter any number :\"))\n",
    "output = int(str(n)*3 ) + int(str(n)*2) + n \n",
    "print(output)"
   ]
  },
  {
   "cell_type": "code",
   "execution_count": 57,
   "id": "synthetic-navigator",
   "metadata": {
    "solution2": "hidden"
   },
   "outputs": [
    {
     "name": "stdout",
     "output_type": "stream",
     "text": [
      "Enter any number :5\n",
      "615\n"
     ]
    }
   ],
   "source": [
    "n = input(\"Enter any number :\")\n",
    "output = int(n*3) + int(n*2) + int(n)\n",
    "print(output)"
   ]
  },
  {
   "cell_type": "code",
   "execution_count": 58,
   "id": "impressed-honor",
   "metadata": {
    "solution2": "hidden"
   },
   "outputs": [
    {
     "name": "stdout",
     "output_type": "stream",
     "text": [
      "Enter any number :5\n",
      "615\n"
     ]
    }
   ],
   "source": [
    "n = input(\"Enter any number :\")\n",
    "output = int(n+n+n) + int(n+n) + int(n)\n",
    "print(output)"
   ]
  },
  {
   "cell_type": "code",
   "execution_count": 4,
   "id": "central-royalty",
   "metadata": {},
   "outputs": [
    {
     "name": "stdout",
     "output_type": "stream",
     "text": [
      "Enter any number :11\n",
      "Number is odd.\n",
      "Done\n"
     ]
    }
   ],
   "source": [
    "num = int(input(\"Enter any number :\"))\n",
    "\n",
    "if num % 2 == 0:\n",
    "    print(\"Number is even.\")\n",
    "else:\n",
    "    print(\"Number is odd.\")"
   ]
  },
  {
   "cell_type": "code",
   "execution_count": 6,
   "id": "furnished-ensemble",
   "metadata": {},
   "outputs": [
    {
     "name": "stdout",
     "output_type": "stream",
     "text": [
      "Enter any number :122\n"
     ]
    }
   ],
   "source": [
    "num = int(input(\"Enter any number :\"))\n",
    "\n",
    "if 0 < num <= 100:\n",
    "    print(\"Number is between 0 to 100.\")"
   ]
  },
  {
   "cell_type": "code",
   "execution_count": 9,
   "id": "vietnamese-belfast",
   "metadata": {},
   "outputs": [
    {
     "name": "stdout",
     "output_type": "stream",
     "text": [
      "Enter any number :5\n",
      "Number is odd.\n"
     ]
    }
   ],
   "source": [
    "num = int(input(\"Enter any number :\"))\n",
    "\n",
    "if num % 2 == 0:\n",
    "    print(\"Number is even.\")\n",
    "    if num % 4 == 0:\n",
    "        print(\"Number is also divisible by 4.\")\n",
    "else:\n",
    "    print(\"Number is odd.\")"
   ]
  },
  {
   "cell_type": "code",
   "execution_count": 12,
   "id": "sublime-insurance",
   "metadata": {},
   "outputs": [
    {
     "name": "stdout",
     "output_type": "stream",
     "text": [
      "Enter any number :5\n",
      "Number is odd.\n"
     ]
    }
   ],
   "source": [
    "num = int(input(\"Enter any number :\"))\n",
    "\n",
    "if num % 4 == 0:\n",
    "    print(\"Number is also divisible by 4 and also even.\")\n",
    "elif num % 2 == 0:\n",
    "    print(\"Number is even.\")\n",
    "else:\n",
    "    print(\"Number is odd.\")"
   ]
  },
  {
   "cell_type": "code",
   "execution_count": 13,
   "id": "advisory-thickness",
   "metadata": {},
   "outputs": [
    {
     "name": "stdout",
     "output_type": "stream",
     "text": [
      "Enter any number :56\n",
      "Number is also divisible by 4 and also even.\n",
      "Enter any number :78\n",
      "Number is even.\n",
      "Enter any number :95\n",
      "Number is odd.\n",
      "Enter any number :34\n",
      "Number is even.\n",
      "Enter any number :52\n",
      "Number is also divisible by 4 and also even.\n"
     ]
    }
   ],
   "source": [
    "i = 1\n",
    "while i <= 5:\n",
    "    num = int(input(\"Enter any number :\"))\n",
    "    if num % 4 == 0:\n",
    "        print(\"Number is also divisible by 4 and also even.\")\n",
    "    elif num % 2 == 0:\n",
    "        print(\"Number is even.\")\n",
    "    else:\n",
    "        print(\"Number is odd.\")\n",
    "    i = i + 1 # i+=1"
   ]
  },
  {
   "cell_type": "code",
   "execution_count": 14,
   "id": "accompanied-prediction",
   "metadata": {},
   "outputs": [
    {
     "name": "stdout",
     "output_type": "stream",
     "text": [
      "Enter any number :21\n",
      "Number is odd.\n",
      "Do you want to continue? y/ny\n",
      "Enter any number :43\n",
      "Number is odd.\n",
      "Do you want to continue? y/nn\n"
     ]
    }
   ],
   "source": [
    "opt = 'y'\n",
    "while opt == 'y':\n",
    "    num = int(input(\"Enter any number :\"))\n",
    "    if num % 4 == 0:\n",
    "        print(\"Number is also divisible by 4 and also even.\")\n",
    "    elif num % 2 == 0:\n",
    "        print(\"Number is even.\")\n",
    "    else:\n",
    "        print(\"Number is odd.\")\n",
    "    opt = input(\"Do you want to continue? y/n :\")"
   ]
  },
  {
   "cell_type": "code",
   "execution_count": 17,
   "id": "mysterious-lingerie",
   "metadata": {},
   "outputs": [
    {
     "name": "stdout",
     "output_type": "stream",
     "text": [
      "Enter any number :13\n",
      "Number is odd.\n",
      "Enter any number :14\n",
      "Number is even.\n",
      "Enter any number :56\n",
      "Number is also divisible by 4 and also even.\n",
      "Enter any number :25\n",
      "Skipping.....\n",
      "Enter any number :23\n",
      "Number is odd.\n",
      "Enter any number :15\n",
      "Stopping....\n"
     ]
    }
   ],
   "source": [
    "while True:\n",
    "    num = int(input(\"Enter any number :\"))\n",
    "    \n",
    "    if num == 15:\n",
    "        print(\"Stopping....\")\n",
    "        break\n",
    "    elif num == 25:\n",
    "        print(\"Skipping.....\")\n",
    "        continue\n",
    "\n",
    "    if num % 4 == 0:\n",
    "        print(\"Number is also divisible by 4 and also even.\")\n",
    "    elif num % 2 == 0:\n",
    "        print(\"Number is even.\")\n",
    "    else:\n",
    "        print(\"Number is odd.\")"
   ]
  },
  {
   "cell_type": "markdown",
   "id": "tracked-editor",
   "metadata": {},
   "source": [
    "Task-3\n",
    "\n",
    "Take any three objects like circle, square and calculate the area of those objects. But get input from user like if it's circle get radius or if it's square get side and also get the name of object to be calculated from the user."
   ]
  },
  {
   "cell_type": "code",
   "execution_count": null,
   "id": "clinical-manor",
   "metadata": {},
   "outputs": [],
   "source": []
  },
  {
   "cell_type": "code",
   "execution_count": null,
   "id": "adjusted-encyclopedia",
   "metadata": {},
   "outputs": [],
   "source": []
  },
  {
   "cell_type": "code",
   "execution_count": null,
   "id": "hungry-friendly",
   "metadata": {},
   "outputs": [],
   "source": [
    "string operation\n",
    "list operation\n",
    "tuple operation\n",
    "\n",
    "dictionary \n",
    "functions\n",
    "error handling\n",
    "\n",
    "file handling \n",
    "visualization \n",
    "\n",
    "maths 🧮 "
   ]
  }
 ],
 "metadata": {
  "kernelspec": {
   "display_name": "Python 3",
   "language": "python",
   "name": "python3"
  },
  "language_info": {
   "codemirror_mode": {
    "name": "ipython",
    "version": 3
   },
   "file_extension": ".py",
   "mimetype": "text/x-python",
   "name": "python",
   "nbconvert_exporter": "python",
   "pygments_lexer": "ipython3",
   "version": "3.6.8"
  },
  "nbTranslate": {
   "displayLangs": [
    "*"
   ],
   "hotkey": "alt-t",
   "langInMainMenu": true,
   "sourceLang": "en",
   "targetLang": "fr",
   "useGoogleTranslate": true
  },
  "toc": {
   "base_numbering": 1,
   "nav_menu": {},
   "number_sections": true,
   "sideBar": true,
   "skip_h1_title": false,
   "title_cell": "Table of Contents",
   "title_sidebar": "Contents",
   "toc_cell": false,
   "toc_position": {},
   "toc_section_display": true,
   "toc_window_display": false
  },
  "varInspector": {
   "cols": {
    "lenName": 16,
    "lenType": 16,
    "lenVar": 40
   },
   "kernels_config": {
    "python": {
     "delete_cmd_postfix": "",
     "delete_cmd_prefix": "del ",
     "library": "var_list.py",
     "varRefreshCmd": "print(var_dic_list())"
    },
    "r": {
     "delete_cmd_postfix": ") ",
     "delete_cmd_prefix": "rm(",
     "library": "var_list.r",
     "varRefreshCmd": "cat(var_dic_list()) "
    }
   },
   "types_to_exclude": [
    "module",
    "function",
    "builtin_function_or_method",
    "instance",
    "_Feature"
   ],
   "window_display": false
  }
 },
 "nbformat": 4,
 "nbformat_minor": 5
}
