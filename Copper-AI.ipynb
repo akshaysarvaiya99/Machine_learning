{
 "cells": [
  {
   "cell_type": "code",
   "execution_count": 3,
   "metadata": {},
   "outputs": [
    {
     "name": "stdout",
     "output_type": "stream",
     "text": [
      "15\n"
     ]
    }
   ],
   "source": [
    "a=5\n",
    "b=10\n",
    "print(a+b)\n"
   ]
  },
  {
   "cell_type": "code",
   "execution_count": 4,
   "metadata": {},
   "outputs": [],
   "source": [
    "a=10#int\n",
    "b=True#bool\n",
    "c=3.14#float\n",
    "d='apple'#string\n"
   ]
  },
  {
   "cell_type": "code",
   "execution_count": 8,
   "metadata": {},
   "outputs": [
    {
     "name": "stdout",
     "output_type": "stream",
     "text": [
      "<class 'str'>\n"
     ]
    }
   ],
   "source": [
    "print(type(d))"
   ]
  },
  {
   "cell_type": "code",
   "execution_count": null,
   "metadata": {
    "collapsed": true
   },
   "outputs": [],
   "source": [
    "https://github.com/sharmasaravanan/Machine_learning"
   ]
  },
  {
   "cell_type": "code",
   "execution_count": 12,
   "metadata": {},
   "outputs": [
    {
     "name": "stdout",
     "output_type": "stream",
     "text": [
      "'hello world!!!'\n"
     ]
    }
   ],
   "source": [
    "print(\"'hello world!!!'\")"
   ]
  },
  {
   "cell_type": "code",
   "execution_count": 13,
   "metadata": {},
   "outputs": [
    {
     "name": "stdout",
     "output_type": "stream",
     "text": [
      "10\n"
     ]
    }
   ],
   "source": [
    "print(a)"
   ]
  },
  {
   "cell_type": "code",
   "execution_count": 18,
   "metadata": {},
   "outputs": [
    {
     "name": "stdout",
     "output_type": "stream",
     "text": [
      "hello apple\n",
      "hello 10\n",
      "hello 10\n"
     ]
    }
   ],
   "source": [
    "#hello apple\n",
    "print(\"hello \"+d)\n",
    "#hello 10\n",
    "print(\"hello \"+str(a))\n",
    "print(\"hello\",a)"
   ]
  },
  {
   "cell_type": "code",
   "execution_count": null,
   "metadata": {},
   "outputs": [],
   "source": [
    "+ - * / %\n",
    "and or not\n",
    "> < >= <= == !="
   ]
  },
  {
   "cell_type": "code",
   "execution_count": 29,
   "metadata": {},
   "outputs": [
    {
     "name": "stdout",
     "output_type": "stream",
     "text": [
      "492\n"
     ]
    }
   ],
   "source": [
    "n=4\n",
    "print(int(str(n)*3)+int(str(n)*2)+n)"
   ]
  },
  {
   "cell_type": "code",
   "execution_count": 44,
   "metadata": {},
   "outputs": [
    {
     "name": "stdout",
     "output_type": "stream",
     "text": [
      "Enter the numerical value :15\n",
      "odd\n"
     ]
    }
   ],
   "source": [
    "num=int(input(\"Enter the numerical value :\"))\n",
    "if num%4==0:\n",
    "    print(\"divisible by 4 and even\")\n",
    "elif num%2==0:\n",
    "    print(\"even\")\n",
    "else:\n",
    "    print(\"odd\")"
   ]
  },
  {
   "cell_type": "code",
   "execution_count": 43,
   "metadata": {},
   "outputs": [
    {
     "name": "stdout",
     "output_type": "stream",
     "text": [
      "<class 'int'>\n"
     ]
    }
   ],
   "source": [
    "print(type(num))"
   ]
  },
  {
   "cell_type": "code",
   "execution_count": 45,
   "metadata": {},
   "outputs": [
    {
     "name": "stdout",
     "output_type": "stream",
     "text": [
      "Do you want to play? y/ny\n",
      "yes\n"
     ]
    }
   ],
   "source": [
    "opt=input(\"Do you want to play? y/n\")\n",
    "if opt=='y':\n",
    "        print(\"yes\")\n",
    "else:\n",
    "    print(\"no\")"
   ]
  },
  {
   "cell_type": "code",
   "execution_count": 46,
   "metadata": {},
   "outputs": [
    {
     "ename": "SyntaxError",
     "evalue": "invalid syntax (<ipython-input-46-5b93975e9f44>, line 1)",
     "output_type": "error",
     "traceback": [
      "\u001b[0;36m  File \u001b[0;32m\"<ipython-input-46-5b93975e9f44>\"\u001b[0;36m, line \u001b[0;32m1\u001b[0m\n\u001b[0;31m    calculate area of circle,rectangle,triangle based on the user's option.\u001b[0m\n\u001b[0m                 ^\u001b[0m\n\u001b[0;31mSyntaxError\u001b[0m\u001b[0;31m:\u001b[0m invalid syntax\n"
     ]
    }
   ],
   "source": [
    "calculate area of circle,rectangle,triangle based on the user's option."
   ]
  },
  {
   "cell_type": "code",
   "execution_count": null,
   "metadata": {},
   "outputs": [],
   "source": [
    "rock beats scissor\n",
    "paper beats rock\n",
    "scissor beats paper"
   ]
  },
  {
   "cell_type": "code",
   "execution_count": 51,
   "metadata": {},
   "outputs": [
    {
     "name": "stdout",
     "output_type": "stream",
     "text": [
      "Enter the numerical value :47\n",
      "odd\n",
      "Do you want to play? y/n y\n",
      "Enter the numerical value :89\n",
      "odd\n",
      "Do you want to play? y/n n\n"
     ]
    }
   ],
   "source": [
    "opt='y'\n",
    "while opt=='y':\n",
    "    num=int(input(\"Enter the numerical value :\"))\n",
    "    if num==15:\n",
    "        print(\"good bye\")\n",
    "        break\n",
    "    elif num==25:\n",
    "        print(\"skipping\")\n",
    "        continue\n",
    "    if num%4==0:\n",
    "        print(\"divisible by 4 and even\")\n",
    "    elif num%2==0:\n",
    "        print(\"even\")\n",
    "    else:\n",
    "        print(\"odd\")\n",
    "    opt=input(\"Do you want to play? y/n \")"
   ]
  },
  {
   "cell_type": "code",
   "execution_count": 52,
   "metadata": {},
   "outputs": [],
   "source": [
    "import random as r\n"
   ]
  },
  {
   "cell_type": "code",
   "execution_count": 56,
   "metadata": {},
   "outputs": [
    {
     "data": {
      "text/plain": [
       "30"
      ]
     },
     "execution_count": 56,
     "metadata": {},
     "output_type": "execute_result"
    }
   ],
   "source": [
    "comp=r.randint(0,50)\n",
    "comp"
   ]
  },
  {
   "cell_type": "code",
   "execution_count": 61,
   "metadata": {},
   "outputs": [],
   "source": [
    "#string function\n",
    "name =  \" elephant \""
   ]
  },
  {
   "cell_type": "code",
   "execution_count": 16,
   "metadata": {},
   "outputs": [
    {
     "ename": "TypeError",
     "evalue": "'str' object does not support item assignment",
     "output_type": "error",
     "traceback": [
      "\u001b[0;31m---------------------------------------------------------------------------\u001b[0m",
      "\u001b[0;31mTypeError\u001b[0m                                 Traceback (most recent call last)",
      "\u001b[0;32m<ipython-input-16-e56143baac95>\u001b[0m in \u001b[0;36m<module>\u001b[0;34m()\u001b[0m\n\u001b[0;32m----> 1\u001b[0;31m \u001b[0mname\u001b[0m\u001b[0;34m[\u001b[0m\u001b[0;36m2\u001b[0m\u001b[0;34m]\u001b[0m\u001b[0;34m=\u001b[0m\u001b[0;34m\"a\"\u001b[0m\u001b[0;34m\u001b[0m\u001b[0m\n\u001b[0m",
      "\u001b[0;31mTypeError\u001b[0m: 'str' object does not support item assignment"
     ]
    }
   ],
   "source": [
    "name[2]=\"a\""
   ]
  },
  {
   "cell_type": "code",
   "execution_count": 17,
   "metadata": {},
   "outputs": [
    {
     "data": {
      "text/plain": [
       "'Elephant'"
      ]
     },
     "execution_count": 17,
     "metadata": {},
     "output_type": "execute_result"
    }
   ],
   "source": [
    "name.capitalize()"
   ]
  },
  {
   "cell_type": "code",
   "execution_count": 18,
   "metadata": {},
   "outputs": [
    {
     "data": {
      "text/plain": [
       "'elephant'"
      ]
     },
     "execution_count": 18,
     "metadata": {},
     "output_type": "execute_result"
    }
   ],
   "source": [
    "name.casefold()"
   ]
  },
  {
   "cell_type": "code",
   "execution_count": 64,
   "metadata": {},
   "outputs": [
    {
     "data": {
      "text/plain": [
       "'elephant'"
      ]
     },
     "execution_count": 64,
     "metadata": {},
     "output_type": "execute_result"
    }
   ],
   "source": [
    "name.swapcase()\n",
    "name.count('e')\n",
    "name.endswith('.pdf')\n",
    "name.startswith(\"els\")\n",
    "name.index('e')\n",
    "name.isalnum()\n",
    "name.lower()\n",
    "name.upper()\n",
    "name.rstrip()\n",
    "name.lstrip()\n",
    "name.strip()"
   ]
  },
  {
   "cell_type": "code",
   "execution_count": 52,
   "metadata": {},
   "outputs": [],
   "source": [
    "a=\"apple is a fruit\""
   ]
  },
  {
   "cell_type": "code",
   "execution_count": 49,
   "metadata": {},
   "outputs": [
    {
     "data": {
      "text/plain": [
       "True"
      ]
     },
     "execution_count": 49,
     "metadata": {},
     "output_type": "execute_result"
    }
   ],
   "source": [
    "a.isalnum()\n",
    "a.isdecimal()\n",
    "a.isdigit()\n",
    "a.isspace()"
   ]
  },
  {
   "cell_type": "code",
   "execution_count": 57,
   "metadata": {},
   "outputs": [],
   "source": [
    "d=a.split()"
   ]
  },
  {
   "cell_type": "code",
   "execution_count": 60,
   "metadata": {},
   "outputs": [
    {
     "data": {
      "text/plain": [
       "'apple is a fruit'"
      ]
     },
     "execution_count": 60,
     "metadata": {},
     "output_type": "execute_result"
    }
   ],
   "source": [
    "' '.join(d)"
   ]
  },
  {
   "cell_type": "code",
   "execution_count": 68,
   "metadata": {},
   "outputs": [
    {
     "data": {
      "text/plain": [
       "' tnahpele '"
      ]
     },
     "execution_count": 68,
     "metadata": {},
     "output_type": "execute_result"
    }
   ],
   "source": [
    "name[::-1]"
   ]
  },
  {
   "cell_type": "markdown",
   "metadata": {},
   "source": [
    "1. check for palindrome\n",
    "2. \"Elephant is an animal .\" -> \". animal an is Elephant\""
   ]
  },
  {
   "cell_type": "code",
   "execution_count": 72,
   "metadata": {},
   "outputs": [
    {
     "data": {
      "text/plain": [
       "'. animal an is Elephant'"
      ]
     },
     "execution_count": 72,
     "metadata": {},
     "output_type": "execute_result"
    }
   ],
   "source": [
    "d=\"Elephant is an animal .\"\n",
    "' '.join(d.split()[::-1])"
   ]
  },
  {
   "cell_type": "code",
   "execution_count": 73,
   "metadata": {},
   "outputs": [],
   "source": [
    "#list\n",
    "#tuple\n",
    "#for loop\n",
    "#dictionary\n",
    "l=[]\n",
    "L=[1,2,3,4,'a','apple','b','ball','c','cat']"
   ]
  },
  {
   "cell_type": "code",
   "execution_count": 80,
   "metadata": {},
   "outputs": [],
   "source": [
    "len(L)\n",
    "L[2:9:2]\n",
    "L.index('ball')\n",
    "L[7]='bat'"
   ]
  },
  {
   "cell_type": "code",
   "execution_count": 83,
   "metadata": {},
   "outputs": [],
   "source": [
    "del L[9]"
   ]
  },
  {
   "cell_type": "code",
   "execution_count": 85,
   "metadata": {},
   "outputs": [
    {
     "data": {
      "text/plain": [
       "['c', 'bat', 'b', 'apple', 'a', 4, 3, 2, 1]"
      ]
     },
     "execution_count": 85,
     "metadata": {},
     "output_type": "execute_result"
    }
   ],
   "source": [
    "L[::-1]"
   ]
  },
  {
   "cell_type": "code",
   "execution_count": 86,
   "metadata": {},
   "outputs": [
    {
     "data": {
      "text/plain": [
       "[1, 2, 3, 4, 'a', 'apple', 'b', 'bat', 'c']"
      ]
     },
     "execution_count": 86,
     "metadata": {},
     "output_type": "execute_result"
    }
   ],
   "source": [
    "L"
   ]
  },
  {
   "cell_type": "code",
   "execution_count": 99,
   "metadata": {},
   "outputs": [],
   "source": [
    "L.append(\"cat\")"
   ]
  },
  {
   "cell_type": "code",
   "execution_count": 90,
   "metadata": {},
   "outputs": [],
   "source": [
    "L.index('a')\n",
    "L.insert(4,5)"
   ]
  },
  {
   "cell_type": "code",
   "execution_count": 101,
   "metadata": {},
   "outputs": [
    {
     "data": {
      "text/plain": [
       "'cat'"
      ]
     },
     "execution_count": 101,
     "metadata": {},
     "output_type": "execute_result"
    }
   ],
   "source": [
    "L.pop()"
   ]
  },
  {
   "cell_type": "code",
   "execution_count": 92,
   "metadata": {},
   "outputs": [],
   "source": [
    "l.append(\"apple\")"
   ]
  },
  {
   "cell_type": "code",
   "execution_count": 102,
   "metadata": {},
   "outputs": [],
   "source": [
    "L.remove(5)"
   ]
  },
  {
   "cell_type": "code",
   "execution_count": 105,
   "metadata": {},
   "outputs": [
    {
     "data": {
      "text/plain": [
       "1"
      ]
     },
     "execution_count": 105,
     "metadata": {},
     "output_type": "execute_result"
    }
   ],
   "source": [
    "L.count(2)"
   ]
  },
  {
   "cell_type": "code",
   "execution_count": 106,
   "metadata": {},
   "outputs": [
    {
     "data": {
      "text/plain": [
       "[1, 2, 3, 4, 'a', 'apple', 'b', 'bat', 'c', 'cat']"
      ]
     },
     "execution_count": 106,
     "metadata": {},
     "output_type": "execute_result"
    }
   ],
   "source": [
    "L.copy()"
   ]
  },
  {
   "cell_type": "code",
   "execution_count": 108,
   "metadata": {},
   "outputs": [],
   "source": [
    "l.clear()"
   ]
  },
  {
   "cell_type": "code",
   "execution_count": 109,
   "metadata": {},
   "outputs": [
    {
     "data": {
      "text/plain": [
       "[]"
      ]
     },
     "execution_count": 109,
     "metadata": {},
     "output_type": "execute_result"
    }
   ],
   "source": [
    "l"
   ]
  },
  {
   "cell_type": "code",
   "execution_count": 114,
   "metadata": {},
   "outputs": [],
   "source": [
    "L.reverse()"
   ]
  },
  {
   "cell_type": "code",
   "execution_count": 113,
   "metadata": {},
   "outputs": [
    {
     "ename": "TypeError",
     "evalue": "'<' not supported between instances of 'int' and 'str'",
     "output_type": "error",
     "traceback": [
      "\u001b[0;31m---------------------------------------------------------------------------\u001b[0m",
      "\u001b[0;31mTypeError\u001b[0m                                 Traceback (most recent call last)",
      "\u001b[0;32m<ipython-input-113-93823a1b9e27>\u001b[0m in \u001b[0;36m<module>\u001b[0;34m()\u001b[0m\n\u001b[0;32m----> 1\u001b[0;31m \u001b[0mL\u001b[0m\u001b[0;34m.\u001b[0m\u001b[0msort\u001b[0m\u001b[0;34m(\u001b[0m\u001b[0;34m)\u001b[0m\u001b[0;34m\u001b[0m\u001b[0m\n\u001b[0m",
      "\u001b[0;31mTypeError\u001b[0m: '<' not supported between instances of 'int' and 'str'"
     ]
    }
   ],
   "source": [
    "L.sort()"
   ]
  },
  {
   "cell_type": "code",
   "execution_count": 121,
   "metadata": {},
   "outputs": [],
   "source": [
    "L.extend(['d','dog'])"
   ]
  },
  {
   "cell_type": "code",
   "execution_count": 119,
   "metadata": {},
   "outputs": [
    {
     "data": {
      "text/plain": [
       "'d'"
      ]
     },
     "execution_count": 119,
     "metadata": {},
     "output_type": "execute_result"
    }
   ],
   "source": [
    "L.pop()"
   ]
  },
  {
   "cell_type": "code",
   "execution_count": 117,
   "metadata": {},
   "outputs": [
    {
     "data": {
      "text/plain": [
       "[1, 2, 3, 4, 'a', 'apple', 'b', 'bat', 'c', 'cat', 'd', 'dog', 'd', 'dog']"
      ]
     },
     "execution_count": 117,
     "metadata": {},
     "output_type": "execute_result"
    }
   ],
   "source": [
    "L+['d','dog']"
   ]
  },
  {
   "cell_type": "code",
   "execution_count": 122,
   "metadata": {},
   "outputs": [
    {
     "data": {
      "text/plain": [
       "[1, 2, 3, 4, 'a', 'apple', 'b', 'bat', 'c', 'cat', 'd', 'dog']"
      ]
     },
     "execution_count": 122,
     "metadata": {},
     "output_type": "execute_result"
    }
   ],
   "source": [
    "L"
   ]
  },
  {
   "cell_type": "code",
   "execution_count": 123,
   "metadata": {},
   "outputs": [],
   "source": [
    "#tuple\n",
    "days=(\"Monday\",\"Tuesday\",\"Wednesday\",\"Thursday\",\"Friday\")"
   ]
  },
  {
   "cell_type": "code",
   "execution_count": 125,
   "metadata": {},
   "outputs": [
    {
     "data": {
      "text/plain": [
       "('Wednesday', 'Friday')"
      ]
     },
     "execution_count": 125,
     "metadata": {},
     "output_type": "execute_result"
    }
   ],
   "source": [
    "days[2:6:2]"
   ]
  },
  {
   "cell_type": "code",
   "execution_count": 128,
   "metadata": {},
   "outputs": [
    {
     "ename": "TypeError",
     "evalue": "'tuple' object doesn't support item deletion",
     "output_type": "error",
     "traceback": [
      "\u001b[0;31m---------------------------------------------------------------------------\u001b[0m",
      "\u001b[0;31mTypeError\u001b[0m                                 Traceback (most recent call last)",
      "\u001b[0;32m<ipython-input-128-479df75d84ec>\u001b[0m in \u001b[0;36m<module>\u001b[0;34m()\u001b[0m\n\u001b[1;32m      1\u001b[0m \u001b[0;31m#days[0]=\"Sunday\"\u001b[0m\u001b[0;34m\u001b[0m\u001b[0;34m\u001b[0m\u001b[0m\n\u001b[0;32m----> 2\u001b[0;31m \u001b[0;32mdel\u001b[0m \u001b[0mdays\u001b[0m\u001b[0;34m[\u001b[0m\u001b[0;36m0\u001b[0m\u001b[0;34m]\u001b[0m\u001b[0;34m\u001b[0m\u001b[0m\n\u001b[0m",
      "\u001b[0;31mTypeError\u001b[0m: 'tuple' object doesn't support item deletion"
     ]
    }
   ],
   "source": [
    "#days[0]=\"Sunday\"\n",
    "del days[0]"
   ]
  },
  {
   "cell_type": "code",
   "execution_count": 133,
   "metadata": {},
   "outputs": [
    {
     "name": "stdout",
     "output_type": "stream",
     "text": [
      "21\n",
      "23\n",
      "25\n",
      "27\n",
      "29\n"
     ]
    }
   ],
   "source": [
    "#for loop\n",
    "for i in range(21,30,2):\n",
    "    print(i)"
   ]
  },
  {
   "cell_type": "code",
   "execution_count": 139,
   "metadata": {},
   "outputs": [
    {
     "name": "stdout",
     "output_type": "stream",
     "text": [
      "0\t1\n",
      "1\t2\n",
      "2\t3\n",
      "3\t4\n",
      "4\ta\n",
      "5\tapple\n",
      "6\tb\n",
      "7\tbat\n",
      "8\tc\n",
      "9\tcat\n",
      "10\td\n",
      "11\tdog\n"
     ]
    }
   ],
   "source": [
    "for j,k in enumerate(L):\n",
    "    print(j,k,sep='\\t')"
   ]
  },
  {
   "cell_type": "markdown",
   "metadata": {},
   "source": [
    "1. Take two numerical lists of variable length and print the common numbers without duplicates.\n",
    "2. Take a numerical list and create a new list with the numbers less than 6 from the first list."
   ]
  },
  {
   "cell_type": "code",
   "execution_count": 140,
   "metadata": {},
   "outputs": [],
   "source": [
    "a=[1,1,2,2,3,4,5,6,7,7,8,9,9]\n",
    "b=[2,3,3,4,4,5,6,6,2,8]"
   ]
  },
  {
   "cell_type": "code",
   "execution_count": 141,
   "metadata": {},
   "outputs": [
    {
     "name": "stdout",
     "output_type": "stream",
     "text": [
      "2\n",
      "2\n",
      "2\n",
      "2\n",
      "3\n",
      "3\n",
      "4\n",
      "4\n",
      "5\n",
      "6\n",
      "6\n",
      "8\n"
     ]
    }
   ],
   "source": [
    "for i in range(len(a)):\n",
    "    print(i)\n",
    "    for j in range(len(b)):\n",
    "        if a[i]==b[j]:\n",
    "            print(a[i])"
   ]
  },
  {
   "cell_type": "code",
   "execution_count": 142,
   "metadata": {},
   "outputs": [
    {
     "name": "stdout",
     "output_type": "stream",
     "text": [
      "2\n",
      "2\n",
      "2\n",
      "2\n",
      "3\n",
      "3\n",
      "4\n",
      "4\n",
      "5\n",
      "6\n",
      "6\n",
      "8\n"
     ]
    }
   ],
   "source": []
  },
  {
   "cell_type": "code",
   "execution_count": 144,
   "metadata": {},
   "outputs": [],
   "source": [
    "c=[]\n",
    "for i in a:\n",
    "    if i in b and i not in c:\n",
    "        c.append(i)"
   ]
  },
  {
   "cell_type": "code",
   "execution_count": 145,
   "metadata": {},
   "outputs": [
    {
     "data": {
      "text/plain": [
       "[2, 3, 4, 5, 6, 8]"
      ]
     },
     "execution_count": 145,
     "metadata": {},
     "output_type": "execute_result"
    }
   ],
   "source": [
    "c"
   ]
  },
  {
   "cell_type": "code",
   "execution_count": 148,
   "metadata": {},
   "outputs": [
    {
     "data": {
      "text/plain": [
       "[2, 3, 4, 5, 6, 8]"
      ]
     },
     "execution_count": 148,
     "metadata": {},
     "output_type": "execute_result"
    }
   ],
   "source": [
    "list(set(a)&set(b))"
   ]
  },
  {
   "cell_type": "code",
   "execution_count": 147,
   "metadata": {},
   "outputs": [
    {
     "data": {
      "text/plain": [
       "{1, 2, 3, 4, 5, 6, 7, 8, 9}"
      ]
     },
     "execution_count": 147,
     "metadata": {},
     "output_type": "execute_result"
    }
   ],
   "source": [
    "set(a)"
   ]
  },
  {
   "cell_type": "code",
   "execution_count": 149,
   "metadata": {},
   "outputs": [
    {
     "name": "stdout",
     "output_type": "stream",
     "text": [
      "1\n",
      "1\n",
      "2\n",
      "2\n",
      "3\n",
      "4\n",
      "5\n",
      "6\n"
     ]
    }
   ],
   "source": [
    "for i in a:\n",
    "    if i<=6:\n",
    "        d.append(i)"
   ]
  },
  {
   "cell_type": "code",
   "execution_count": 150,
   "metadata": {},
   "outputs": [],
   "source": [
    "d=[i for i in a if i<=6]"
   ]
  },
  {
   "cell_type": "code",
   "execution_count": 151,
   "metadata": {},
   "outputs": [
    {
     "data": {
      "text/plain": [
       "[1, 1, 2, 2, 3, 4, 5, 6]"
      ]
     },
     "execution_count": 151,
     "metadata": {},
     "output_type": "execute_result"
    }
   ],
   "source": [
    "d"
   ]
  },
  {
   "cell_type": "code",
   "execution_count": 153,
   "metadata": {},
   "outputs": [
    {
     "name": "stdout",
     "output_type": "stream",
     "text": [
      "994\n"
     ]
    }
   ],
   "source": [
    "import random as r\n",
    "comp=r.randint(100,999)\n",
    "print(comp)"
   ]
  },
  {
   "cell_type": "markdown",
   "metadata": {},
   "source": [
    "cow  -> correct number and correct position <br>\n",
    "bull -> correct number and wrong position"
   ]
  },
  {
   "cell_type": "code",
   "execution_count": 154,
   "metadata": {},
   "outputs": [
    {
     "data": {
      "text/plain": [
       "33"
      ]
     },
     "execution_count": 154,
     "metadata": {},
     "output_type": "execute_result"
    }
   ],
   "source": [
    "import random as r\n",
    "comp=r.randint(0,100)\n",
    "comp"
   ]
  },
  {
   "cell_type": "code",
   "execution_count": null,
   "metadata": {},
   "outputs": [],
   "source": [
    "http://w3resource.com/python-exercises/"
   ]
  },
  {
   "cell_type": "code",
   "execution_count": null,
   "metadata": {},
   "outputs": [],
   "source": [
    "pip install numpy"
   ]
  },
  {
   "cell_type": "code",
   "execution_count": 1,
   "metadata": {},
   "outputs": [],
   "source": [
    "import random "
   ]
  },
  {
   "cell_type": "code",
   "execution_count": 3,
   "metadata": {},
   "outputs": [
    {
     "data": {
      "text/plain": [
       "80"
      ]
     },
     "execution_count": 3,
     "metadata": {},
     "output_type": "execute_result"
    }
   ],
   "source": [
    "random.randint(0,100)"
   ]
  },
  {
   "cell_type": "code",
   "execution_count": 4,
   "metadata": {},
   "outputs": [],
   "source": [
    "import random as r"
   ]
  },
  {
   "cell_type": "code",
   "execution_count": 5,
   "metadata": {},
   "outputs": [
    {
     "data": {
      "text/plain": [
       "21"
      ]
     },
     "execution_count": 5,
     "metadata": {},
     "output_type": "execute_result"
    }
   ],
   "source": [
    "r.randint(0,25)"
   ]
  },
  {
   "cell_type": "code",
   "execution_count": 6,
   "metadata": {},
   "outputs": [],
   "source": [
    "import sklearn.linear_model.LinearRegression"
   ]
  },
  {
   "cell_type": "code",
   "execution_count": 8,
   "metadata": {},
   "outputs": [],
   "source": [
    "from sklearn.linear_model import LinearRegression,LogisticRegression"
   ]
  },
  {
   "cell_type": "code",
   "execution_count": 9,
   "metadata": {},
   "outputs": [],
   "source": [
    "from math import factorial,log"
   ]
  },
  {
   "cell_type": "code",
   "execution_count": 10,
   "metadata": {},
   "outputs": [
    {
     "data": {
      "text/plain": [
       "120"
      ]
     },
     "execution_count": 10,
     "metadata": {},
     "output_type": "execute_result"
    }
   ],
   "source": [
    "factorial(5)"
   ]
  },
  {
   "cell_type": "code",
   "execution_count": 11,
   "metadata": {},
   "outputs": [],
   "source": [
    "from random import *"
   ]
  },
  {
   "cell_type": "code",
   "execution_count": null,
   "metadata": {},
   "outputs": [],
   "source": [
    "choice()"
   ]
  },
  {
   "cell_type": "code",
   "execution_count": 4,
   "metadata": {},
   "outputs": [
    {
     "name": "stdout",
     "output_type": "stream",
     "text": [
      "There is a type error\n",
      "'g' is an invalid keyword argument for this function\n"
     ]
    }
   ],
   "source": [
    "#error\n",
    "try:\n",
    "    print(g=2)\n",
    "    print(f)\n",
    "except NameError:\n",
    "    print(\"There is a name error\")\n",
    "except TypeError as e:\n",
    "    print(\"There is a type error\")\n",
    "    print(e)"
   ]
  },
  {
   "cell_type": "code",
   "execution_count": 25,
   "metadata": {},
   "outputs": [
    {
     "ename": "NameError",
     "evalue": "name 'g' is not defined",
     "output_type": "error",
     "traceback": [
      "\u001b[0;31m---------------------------------------------------------------------------\u001b[0m",
      "\u001b[0;31mNameError\u001b[0m                                 Traceback (most recent call last)",
      "\u001b[0;32m<ipython-input-25-27ac1e1e3b75>\u001b[0m in \u001b[0;36m<module>\u001b[0;34m()\u001b[0m\n\u001b[0;32m----> 1\u001b[0;31m \u001b[0mg\u001b[0m\u001b[0;34m\u001b[0m\u001b[0m\n\u001b[0m\u001b[1;32m      2\u001b[0m \u001b[0mprint\u001b[0m\u001b[0;34m(\u001b[0m\u001b[0;34m'hi'\u001b[0m\u001b[0;34m)\u001b[0m\u001b[0;34m\u001b[0m\u001b[0m\n",
      "\u001b[0;31mNameError\u001b[0m: name 'g' is not defined"
     ]
    }
   ],
   "source": [
    "g\n",
    "print('hi')"
   ]
  },
  {
   "cell_type": "markdown",
   "metadata": {},
   "source": [
    "### Linear Regression"
   ]
  },
  {
   "cell_type": "code",
   "execution_count": 2,
   "metadata": {},
   "outputs": [
    {
     "name": "stderr",
     "output_type": "stream",
     "text": [
      "/usr/lib/python3.6/importlib/_bootstrap.py:219: RuntimeWarning: numpy.dtype size changed, may indicate binary incompatibility. Expected 96, got 88\n",
      "  return f(*args, **kwds)\n",
      "/usr/lib/python3.6/importlib/_bootstrap.py:219: RuntimeWarning: numpy.dtype size changed, may indicate binary incompatibility. Expected 96, got 88\n",
      "  return f(*args, **kwds)\n"
     ]
    }
   ],
   "source": [
    "#step-1 load dataset\n",
    "import pandas as pd\n",
    "data = pd.read_csv(\"./Advertising.csv\",index_col=0)"
   ]
  },
  {
   "cell_type": "code",
   "execution_count": 3,
   "metadata": {},
   "outputs": [
    {
     "data": {
      "text/html": [
       "<div>\n",
       "<style scoped>\n",
       "    .dataframe tbody tr th:only-of-type {\n",
       "        vertical-align: middle;\n",
       "    }\n",
       "\n",
       "    .dataframe tbody tr th {\n",
       "        vertical-align: top;\n",
       "    }\n",
       "\n",
       "    .dataframe thead th {\n",
       "        text-align: right;\n",
       "    }\n",
       "</style>\n",
       "<table border=\"1\" class=\"dataframe\">\n",
       "  <thead>\n",
       "    <tr style=\"text-align: right;\">\n",
       "      <th></th>\n",
       "      <th>TV</th>\n",
       "      <th>radio</th>\n",
       "      <th>newspaper</th>\n",
       "      <th>sales</th>\n",
       "    </tr>\n",
       "  </thead>\n",
       "  <tbody>\n",
       "    <tr>\n",
       "      <th>1</th>\n",
       "      <td>230.1</td>\n",
       "      <td>37.8</td>\n",
       "      <td>69.2</td>\n",
       "      <td>22.1</td>\n",
       "    </tr>\n",
       "    <tr>\n",
       "      <th>2</th>\n",
       "      <td>44.5</td>\n",
       "      <td>39.3</td>\n",
       "      <td>45.1</td>\n",
       "      <td>10.4</td>\n",
       "    </tr>\n",
       "    <tr>\n",
       "      <th>3</th>\n",
       "      <td>17.2</td>\n",
       "      <td>45.9</td>\n",
       "      <td>69.3</td>\n",
       "      <td>9.3</td>\n",
       "    </tr>\n",
       "    <tr>\n",
       "      <th>4</th>\n",
       "      <td>151.5</td>\n",
       "      <td>41.3</td>\n",
       "      <td>58.5</td>\n",
       "      <td>18.5</td>\n",
       "    </tr>\n",
       "    <tr>\n",
       "      <th>5</th>\n",
       "      <td>180.8</td>\n",
       "      <td>10.8</td>\n",
       "      <td>58.4</td>\n",
       "      <td>12.9</td>\n",
       "    </tr>\n",
       "  </tbody>\n",
       "</table>\n",
       "</div>"
      ],
      "text/plain": [
       "      TV  radio  newspaper  sales\n",
       "1  230.1   37.8       69.2   22.1\n",
       "2   44.5   39.3       45.1   10.4\n",
       "3   17.2   45.9       69.3    9.3\n",
       "4  151.5   41.3       58.5   18.5\n",
       "5  180.8   10.8       58.4   12.9"
      ]
     },
     "execution_count": 3,
     "metadata": {},
     "output_type": "execute_result"
    }
   ],
   "source": [
    "data.head()"
   ]
  },
  {
   "cell_type": "code",
   "execution_count": 4,
   "metadata": {},
   "outputs": [],
   "source": [
    "#step-1a defining input and output\n",
    "#x = data.loc[:,\"TV\":\"newspaper\"] # --> for continuous input column\n",
    "x = data[[\"TV\",\"radio\"]] # --> for discrete input column\n",
    "y = data[\"sales\"]"
   ]
  },
  {
   "cell_type": "code",
   "execution_count": 5,
   "metadata": {},
   "outputs": [],
   "source": [
    "#step-2 split dataset\n",
    "from sklearn.model_selection import train_test_split\n",
    "x_train,x_test,y_train,y_test = train_test_split(x,y,test_size = 0.2,random_state=1)"
   ]
  },
  {
   "cell_type": "code",
   "execution_count": 6,
   "metadata": {},
   "outputs": [
    {
     "data": {
      "text/plain": [
       "(160, 2)"
      ]
     },
     "execution_count": 6,
     "metadata": {},
     "output_type": "execute_result"
    }
   ],
   "source": [
    "x_train.shape"
   ]
  },
  {
   "cell_type": "code",
   "execution_count": 7,
   "metadata": {},
   "outputs": [
    {
     "data": {
      "text/plain": [
       "(40, 2)"
      ]
     },
     "execution_count": 7,
     "metadata": {},
     "output_type": "execute_result"
    }
   ],
   "source": [
    "x_test.shape"
   ]
  },
  {
   "cell_type": "code",
   "execution_count": 8,
   "metadata": {},
   "outputs": [
    {
     "data": {
      "text/html": [
       "<div>\n",
       "<style scoped>\n",
       "    .dataframe tbody tr th:only-of-type {\n",
       "        vertical-align: middle;\n",
       "    }\n",
       "\n",
       "    .dataframe tbody tr th {\n",
       "        vertical-align: top;\n",
       "    }\n",
       "\n",
       "    .dataframe thead th {\n",
       "        text-align: right;\n",
       "    }\n",
       "</style>\n",
       "<table border=\"1\" class=\"dataframe\">\n",
       "  <thead>\n",
       "    <tr style=\"text-align: right;\">\n",
       "      <th></th>\n",
       "      <th>TV</th>\n",
       "      <th>radio</th>\n",
       "    </tr>\n",
       "  </thead>\n",
       "  <tbody>\n",
       "    <tr>\n",
       "      <th>109</th>\n",
       "      <td>13.1</td>\n",
       "      <td>0.4</td>\n",
       "    </tr>\n",
       "    <tr>\n",
       "      <th>108</th>\n",
       "      <td>90.4</td>\n",
       "      <td>0.3</td>\n",
       "    </tr>\n",
       "    <tr>\n",
       "      <th>190</th>\n",
       "      <td>18.7</td>\n",
       "      <td>12.1</td>\n",
       "    </tr>\n",
       "    <tr>\n",
       "      <th>15</th>\n",
       "      <td>204.1</td>\n",
       "      <td>32.9</td>\n",
       "    </tr>\n",
       "    <tr>\n",
       "      <th>57</th>\n",
       "      <td>7.3</td>\n",
       "      <td>28.1</td>\n",
       "    </tr>\n",
       "  </tbody>\n",
       "</table>\n",
       "</div>"
      ],
      "text/plain": [
       "        TV  radio\n",
       "109   13.1    0.4\n",
       "108   90.4    0.3\n",
       "190   18.7   12.1\n",
       "15   204.1   32.9\n",
       "57     7.3   28.1"
      ]
     },
     "execution_count": 8,
     "metadata": {},
     "output_type": "execute_result"
    }
   ],
   "source": [
    "x_train.head()"
   ]
  },
  {
   "cell_type": "code",
   "execution_count": 9,
   "metadata": {},
   "outputs": [],
   "source": [
    "#step-3 define an algorithm\n",
    "from sklearn.linear_model import LinearRegression\n",
    "model = DecisionTreeRegressor()\n",
    "model1 = LinearRegression()"
   ]
  },
  {
   "cell_type": "code",
   "execution_count": 10,
   "metadata": {},
   "outputs": [
    {
     "data": {
      "text/plain": [
       "DecisionTreeRegressor(criterion='mse', max_depth=None, max_features=None,\n",
       "           max_leaf_nodes=None, min_impurity_decrease=0.0,\n",
       "           min_impurity_split=None, min_samples_leaf=1,\n",
       "           min_samples_split=2, min_weight_fraction_leaf=0.0,\n",
       "           presort=False, random_state=None, splitter='best')"
      ]
     },
     "execution_count": 10,
     "metadata": {},
     "output_type": "execute_result"
    }
   ],
   "source": [
    "model"
   ]
  },
  {
   "cell_type": "code",
   "execution_count": 15,
   "metadata": {},
   "outputs": [
    {
     "data": {
      "text/plain": [
       "LinearRegression(copy_X=True, fit_intercept=True, n_jobs=1, normalize=False)"
      ]
     },
     "execution_count": 15,
     "metadata": {},
     "output_type": "execute_result"
    }
   ],
   "source": [
    "#step-4 training\n",
    "model1.fit(x_train,y_train)"
   ]
  },
  {
   "cell_type": "code",
   "execution_count": 16,
   "metadata": {},
   "outputs": [
    {
     "name": "stdout",
     "output_type": "stream",
     "text": [
      "1.955221885011318\n"
     ]
    }
   ],
   "source": [
    "#step-7 testing\n",
    "from sklearn.metrics import mean_squared_error\n",
    "\n",
    "y_pred = model1.predict(x_test)\n",
    "\n",
    "error = mean_squared_error(y_pred=y_pred,y_true=y_test)\n",
    "\n",
    "print(error)"
   ]
  },
  {
   "cell_type": "code",
   "execution_count": null,
   "metadata": {},
   "outputs": [],
   "source": [
    "model.intercept_"
   ]
  },
  {
   "cell_type": "code",
   "execution_count": 17,
   "metadata": {},
   "outputs": [
    {
     "data": {
      "text/plain": [
       "array([22.11991478])"
      ]
     },
     "execution_count": 17,
     "metadata": {},
     "output_type": "execute_result"
    }
   ],
   "source": [
    "model1.predict([[25,100]])"
   ]
  },
  {
   "cell_type": "code",
   "execution_count": 49,
   "metadata": {},
   "outputs": [],
   "source": [
    "#visualization\n",
    "import matplotlib.pyplot as plt\n"
   ]
  },
  {
   "cell_type": "code",
   "execution_count": 60,
   "metadata": {},
   "outputs": [
    {
     "data": {
      "image/png": "[encoded data removed]",
      "text/plain": [
       "<Figure size 432x288 with 1 Axes>"
      ]
     },
     "metadata": {},
     "output_type": "display_data"
    }
   ],
   "source": [
    "plt.scatter(x_test[\"TV\"],y_test,c=\"black\")\n",
    "plt.scatter(x_test[\"TV\"],y_pred)\n",
    "plt.show()"
   ]
  },
  {
   "cell_type": "code",
   "execution_count": 57,
   "metadata": {},
   "outputs": [],
   "source": [
    "plt.scatter?"
   ]
  },
  {
   "cell_type": "code",
   "execution_count": 123,
   "metadata": {},
   "outputs": [
    {
     "data": {
      "text/plain": [
       "<matplotlib.collections.PathCollection at 0x7f8082158240>"
      ]
     },
     "execution_count": 123,
     "metadata": {},
     "output_type": "execute_result"
    },
    {
     "data": {
      "image/png": "[encoded data removed]",
      "text/plain": [
       "<Figure size 432x288 with 1 Axes>"
      ]
     },
     "metadata": {},
     "output_type": "display_data"
    }
   ],
   "source": [
    "plt.scatter(data[\"newspaper\"],data.sales)"
   ]
  },
  {
   "cell_type": "code",
   "execution_count": 126,
   "metadata": {},
   "outputs": [
    {
     "data": {
      "text/html": [
       "<div>\n",
       "<style scoped>\n",
       "    .dataframe tbody tr th:only-of-type {\n",
       "        vertical-align: middle;\n",
       "    }\n",
       "\n",
       "    .dataframe tbody tr th {\n",
       "        vertical-align: top;\n",
       "    }\n",
       "\n",
       "    .dataframe thead th {\n",
       "        text-align: right;\n",
       "    }\n",
       "</style>\n",
       "<table border=\"1\" class=\"dataframe\">\n",
       "  <thead>\n",
       "    <tr style=\"text-align: right;\">\n",
       "      <th></th>\n",
       "      <th>TV</th>\n",
       "      <th>radio</th>\n",
       "      <th>newspaper</th>\n",
       "      <th>sales</th>\n",
       "    </tr>\n",
       "  </thead>\n",
       "  <tbody>\n",
       "    <tr>\n",
       "      <th>TV</th>\n",
       "      <td>1.000000</td>\n",
       "      <td>0.054809</td>\n",
       "      <td>0.056648</td>\n",
       "      <td>0.782224</td>\n",
       "    </tr>\n",
       "    <tr>\n",
       "      <th>radio</th>\n",
       "      <td>0.054809</td>\n",
       "      <td>1.000000</td>\n",
       "      <td>0.354104</td>\n",
       "      <td>0.576223</td>\n",
       "    </tr>\n",
       "    <tr>\n",
       "      <th>newspaper</th>\n",
       "      <td>0.056648</td>\n",
       "      <td>0.354104</td>\n",
       "      <td>1.000000</td>\n",
       "      <td>0.228299</td>\n",
       "    </tr>\n",
       "    <tr>\n",
       "      <th>sales</th>\n",
       "      <td>0.782224</td>\n",
       "      <td>0.576223</td>\n",
       "      <td>0.228299</td>\n",
       "      <td>1.000000</td>\n",
       "    </tr>\n",
       "  </tbody>\n",
       "</table>\n",
       "</div>"
      ],
      "text/plain": [
       "                 TV     radio  newspaper     sales\n",
       "TV         1.000000  0.054809   0.056648  0.782224\n",
       "radio      0.054809  1.000000   0.354104  0.576223\n",
       "newspaper  0.056648  0.354104   1.000000  0.228299\n",
       "sales      0.782224  0.576223   0.228299  1.000000"
      ]
     },
     "execution_count": 126,
     "metadata": {},
     "output_type": "execute_result"
    }
   ],
   "source": [
    "data.corr()"
   ]
  },
  {
   "cell_type": "code",
   "execution_count": 127,
   "metadata": {},
   "outputs": [
    {
     "data": {
      "image/png": "[encoded data removed]",
      "text/plain": [
       "<Figure size 432x288 with 2 Axes>"
      ]
     },
     "metadata": {},
     "output_type": "display_data"
    }
   ],
   "source": [
    "import matplotlib.pyplot as plt\n",
    "import numpy as np\n",
    "import pandas as pd\n",
    "\n",
    "data = pd.read_csv(\"./Advertising.csv\", index_col=0)\n",
    "corr = data.corr()\n",
    "fig = plt.figure()\n",
    "ax = fig.add_subplot(111)\n",
    "cax = ax.matshow(corr, cmap='coolwarm', vmin=-1, vmax=1)\n",
    "fig.colorbar(cax)\n",
    "ticks = np.arange(0, len(data.columns), 1)\n",
    "ax.set_xticks(ticks)\n",
    "plt.xticks(rotation=90)\n",
    "ax.set_yticks(ticks)\n",
    "ax.set_xticklabels(data.columns)\n",
    "ax.set_yticklabels(data.columns)\n",
    "plt.show()\n"
   ]
  },
  {
   "cell_type": "code",
   "execution_count": 128,
   "metadata": {},
   "outputs": [
    {
     "data": {
      "text/plain": [
       "LinearRegression(copy_X=True, fit_intercept=True, n_jobs=1, normalize=False)"
      ]
     },
     "execution_count": 128,
     "metadata": {},
     "output_type": "execute_result"
    }
   ],
   "source": [
    "model"
   ]
  },
  {
   "cell_type": "code",
   "execution_count": 130,
   "metadata": {},
   "outputs": [],
   "source": [
    "#pickle file generation\n",
    "import pickle\n",
    "pickle.dump(model,open(\"copper-AI.pkl\",\"wb\"))"
   ]
  },
  {
   "cell_type": "code",
   "execution_count": 2,
   "metadata": {},
   "outputs": [],
   "source": [
    "import pickle"
   ]
  },
  {
   "cell_type": "code",
   "execution_count": 3,
   "metadata": {},
   "outputs": [],
   "source": [
    "newModel = pickle.load(open(\"./copper-AI.pkl\",\"rb\"))"
   ]
  },
  {
   "cell_type": "code",
   "execution_count": 4,
   "metadata": {},
   "outputs": [
    {
     "data": {
      "text/plain": [
       "array([22.11991478])"
      ]
     },
     "execution_count": 4,
     "metadata": {},
     "output_type": "execute_result"
    }
   ],
   "source": [
    "newModel.predict([[25,100]])"
   ]
  },
  {
   "cell_type": "markdown",
   "metadata": {},
   "source": [
    "### Regresssion task \n",
    "Dateset:- \"USA_housing.csv\"\n",
    "\n",
    "1. Lasso Regression\n",
    "2. Ridge Regression\n",
    "3. Elasticnet Regression\n",
    "4. Linear Regression\n",
    "5. Huber Regression\n",
    "6. Randomforest Regression\n",
    "7. Adaboost Regression\n",
    "8. KNN regression"
   ]
  },
  {
   "cell_type": "code",
   "execution_count": 14,
   "metadata": {},
   "outputs": [],
   "source": [
    "import pandas as pd"
   ]
  },
  {
   "cell_type": "code",
   "execution_count": 15,
   "metadata": {},
   "outputs": [],
   "source": [
    "df = pd.read_csv(\"./labeledTrainData.tsv\",delimiter=\"\\t\")"
   ]
  },
  {
   "cell_type": "code",
   "execution_count": 16,
   "metadata": {},
   "outputs": [
    {
     "data": {
      "text/html": [
       "<div>\n",
       "<style scoped>\n",
       "    .dataframe tbody tr th:only-of-type {\n",
       "        vertical-align: middle;\n",
       "    }\n",
       "\n",
       "    .dataframe tbody tr th {\n",
       "        vertical-align: top;\n",
       "    }\n",
       "\n",
       "    .dataframe thead th {\n",
       "        text-align: right;\n",
       "    }\n",
       "</style>\n",
       "<table border=\"1\" class=\"dataframe\">\n",
       "  <thead>\n",
       "    <tr style=\"text-align: right;\">\n",
       "      <th></th>\n",
       "      <th>id</th>\n",
       "      <th>sentiment</th>\n",
       "      <th>review</th>\n",
       "    </tr>\n",
       "  </thead>\n",
       "  <tbody>\n",
       "    <tr>\n",
       "      <th>0</th>\n",
       "      <td>5814_8</td>\n",
       "      <td>1</td>\n",
       "      <td>With all this stuff going down at the moment w...</td>\n",
       "    </tr>\n",
       "    <tr>\n",
       "      <th>1</th>\n",
       "      <td>2381_9</td>\n",
       "      <td>1</td>\n",
       "      <td>\\The Classic War of the Worlds\\\" by Timothy Hi...</td>\n",
       "    </tr>\n",
       "    <tr>\n",
       "      <th>2</th>\n",
       "      <td>7759_3</td>\n",
       "      <td>0</td>\n",
       "      <td>The film starts with a manager (Nicholas Bell)...</td>\n",
       "    </tr>\n",
       "    <tr>\n",
       "      <th>3</th>\n",
       "      <td>3630_4</td>\n",
       "      <td>0</td>\n",
       "      <td>It must be assumed that those who praised this...</td>\n",
       "    </tr>\n",
       "    <tr>\n",
       "      <th>4</th>\n",
       "      <td>9495_8</td>\n",
       "      <td>1</td>\n",
       "      <td>Superbly trashy and wondrously unpretentious 8...</td>\n",
       "    </tr>\n",
       "  </tbody>\n",
       "</table>\n",
       "</div>"
      ],
      "text/plain": [
       "       id  sentiment                                             review\n",
       "0  5814_8          1  With all this stuff going down at the moment w...\n",
       "1  2381_9          1  \\The Classic War of the Worlds\\\" by Timothy Hi...\n",
       "2  7759_3          0  The film starts with a manager (Nicholas Bell)...\n",
       "3  3630_4          0  It must be assumed that those who praised this...\n",
       "4  9495_8          1  Superbly trashy and wondrously unpretentious 8..."
      ]
     },
     "execution_count": 16,
     "metadata": {},
     "output_type": "execute_result"
    }
   ],
   "source": [
    "df.head()"
   ]
  },
  {
   "cell_type": "code",
   "execution_count": 17,
   "metadata": {},
   "outputs": [],
   "source": [
    "import numpy as np\n",
    "df[\"label\"] = np.where(df[\"sentiment\"]>0,1,0)"
   ]
  },
  {
   "cell_type": "code",
   "execution_count": 18,
   "metadata": {},
   "outputs": [
    {
     "data": {
      "text/html": [
       "<div>\n",
       "<style scoped>\n",
       "    .dataframe tbody tr th:only-of-type {\n",
       "        vertical-align: middle;\n",
       "    }\n",
       "\n",
       "    .dataframe tbody tr th {\n",
       "        vertical-align: top;\n",
       "    }\n",
       "\n",
       "    .dataframe thead th {\n",
       "        text-align: right;\n",
       "    }\n",
       "</style>\n",
       "<table border=\"1\" class=\"dataframe\">\n",
       "  <thead>\n",
       "    <tr style=\"text-align: right;\">\n",
       "      <th></th>\n",
       "      <th>id</th>\n",
       "      <th>sentiment</th>\n",
       "      <th>review</th>\n",
       "      <th>label</th>\n",
       "    </tr>\n",
       "  </thead>\n",
       "  <tbody>\n",
       "    <tr>\n",
       "      <th>0</th>\n",
       "      <td>5814_8</td>\n",
       "      <td>1</td>\n",
       "      <td>With all this stuff going down at the moment w...</td>\n",
       "      <td>1</td>\n",
       "    </tr>\n",
       "    <tr>\n",
       "      <th>1</th>\n",
       "      <td>2381_9</td>\n",
       "      <td>1</td>\n",
       "      <td>\\The Classic War of the Worlds\\\" by Timothy Hi...</td>\n",
       "      <td>1</td>\n",
       "    </tr>\n",
       "    <tr>\n",
       "      <th>2</th>\n",
       "      <td>7759_3</td>\n",
       "      <td>0</td>\n",
       "      <td>The film starts with a manager (Nicholas Bell)...</td>\n",
       "      <td>0</td>\n",
       "    </tr>\n",
       "    <tr>\n",
       "      <th>3</th>\n",
       "      <td>3630_4</td>\n",
       "      <td>0</td>\n",
       "      <td>It must be assumed that those who praised this...</td>\n",
       "      <td>0</td>\n",
       "    </tr>\n",
       "    <tr>\n",
       "      <th>4</th>\n",
       "      <td>9495_8</td>\n",
       "      <td>1</td>\n",
       "      <td>Superbly trashy and wondrously unpretentious 8...</td>\n",
       "      <td>1</td>\n",
       "    </tr>\n",
       "  </tbody>\n",
       "</table>\n",
       "</div>"
      ],
      "text/plain": [
       "       id  sentiment                                             review  label\n",
       "0  5814_8          1  With all this stuff going down at the moment w...      1\n",
       "1  2381_9          1  \\The Classic War of the Worlds\\\" by Timothy Hi...      1\n",
       "2  7759_3          0  The film starts with a manager (Nicholas Bell)...      0\n",
       "3  3630_4          0  It must be assumed that those who praised this...      0\n",
       "4  9495_8          1  Superbly trashy and wondrously unpretentious 8...      1"
      ]
     },
     "execution_count": 18,
     "metadata": {},
     "output_type": "execute_result"
    }
   ],
   "source": [
    "df.head()"
   ]
  },
  {
   "cell_type": "code",
   "execution_count": 19,
   "metadata": {},
   "outputs": [],
   "source": [
    "from bs4 import BeautifulSoup\n",
    "import re\n",
    "from nltk.corpus import stopwords\n",
    "from nltk.tokenize import word_tokenize"
   ]
  },
  {
   "cell_type": "code",
   "execution_count": 20,
   "metadata": {},
   "outputs": [],
   "source": [
    "stop = stopwords.words(\"english\")\n",
    "def cleaning(rawText):\n",
    "        htmlFree = BeautifulSoup(rawText,\"html.parser\")\n",
    "        specialFree = re.sub('[^a-zA-Z0-9 ]',\" \",htmlFree.get_text())\n",
    "        caseFree = specialFree.lower()\n",
    "        stopFree =' '.join([word for word in word_tokenize(caseFree) if word not in stop])\n",
    "        return stopFree"
   ]
  },
  {
   "cell_type": "code",
   "execution_count": 21,
   "metadata": {},
   "outputs": [],
   "source": [
    "df[\"cleaned\"] = list(map(cleaning,df[\"review\"]))"
   ]
  },
  {
   "cell_type": "code",
   "execution_count": 22,
   "metadata": {},
   "outputs": [
    {
     "data": {
      "text/html": [
       "<div>\n",
       "<style scoped>\n",
       "    .dataframe tbody tr th:only-of-type {\n",
       "        vertical-align: middle;\n",
       "    }\n",
       "\n",
       "    .dataframe tbody tr th {\n",
       "        vertical-align: top;\n",
       "    }\n",
       "\n",
       "    .dataframe thead th {\n",
       "        text-align: right;\n",
       "    }\n",
       "</style>\n",
       "<table border=\"1\" class=\"dataframe\">\n",
       "  <thead>\n",
       "    <tr style=\"text-align: right;\">\n",
       "      <th></th>\n",
       "      <th>id</th>\n",
       "      <th>sentiment</th>\n",
       "      <th>review</th>\n",
       "      <th>label</th>\n",
       "      <th>cleaned</th>\n",
       "    </tr>\n",
       "  </thead>\n",
       "  <tbody>\n",
       "    <tr>\n",
       "      <th>0</th>\n",
       "      <td>5814_8</td>\n",
       "      <td>1</td>\n",
       "      <td>With all this stuff going down at the moment w...</td>\n",
       "      <td>1</td>\n",
       "      <td>stuff going moment mj started listening music ...</td>\n",
       "    </tr>\n",
       "    <tr>\n",
       "      <th>1</th>\n",
       "      <td>2381_9</td>\n",
       "      <td>1</td>\n",
       "      <td>\\The Classic War of the Worlds\\\" by Timothy Hi...</td>\n",
       "      <td>1</td>\n",
       "      <td>classic war worlds timothy hines entertaining ...</td>\n",
       "    </tr>\n",
       "    <tr>\n",
       "      <th>2</th>\n",
       "      <td>7759_3</td>\n",
       "      <td>0</td>\n",
       "      <td>The film starts with a manager (Nicholas Bell)...</td>\n",
       "      <td>0</td>\n",
       "      <td>film starts manager nicholas bell giving welco...</td>\n",
       "    </tr>\n",
       "    <tr>\n",
       "      <th>3</th>\n",
       "      <td>3630_4</td>\n",
       "      <td>0</td>\n",
       "      <td>It must be assumed that those who praised this...</td>\n",
       "      <td>0</td>\n",
       "      <td>must assumed praised film greatest filmed oper...</td>\n",
       "    </tr>\n",
       "    <tr>\n",
       "      <th>4</th>\n",
       "      <td>9495_8</td>\n",
       "      <td>1</td>\n",
       "      <td>Superbly trashy and wondrously unpretentious 8...</td>\n",
       "      <td>1</td>\n",
       "      <td>superbly trashy wondrously unpretentious 80 ex...</td>\n",
       "    </tr>\n",
       "  </tbody>\n",
       "</table>\n",
       "</div>"
      ],
      "text/plain": [
       "       id  sentiment                                             review  \\\n",
       "0  5814_8          1  With all this stuff going down at the moment w...   \n",
       "1  2381_9          1  \\The Classic War of the Worlds\\\" by Timothy Hi...   \n",
       "2  7759_3          0  The film starts with a manager (Nicholas Bell)...   \n",
       "3  3630_4          0  It must be assumed that those who praised this...   \n",
       "4  9495_8          1  Superbly trashy and wondrously unpretentious 8...   \n",
       "\n",
       "   label                                            cleaned  \n",
       "0      1  stuff going moment mj started listening music ...  \n",
       "1      1  classic war worlds timothy hines entertaining ...  \n",
       "2      0  film starts manager nicholas bell giving welco...  \n",
       "3      0  must assumed praised film greatest filmed oper...  \n",
       "4      1  superbly trashy wondrously unpretentious 80 ex...  "
      ]
     },
     "execution_count": 22,
     "metadata": {},
     "output_type": "execute_result"
    }
   ],
   "source": [
    "df.head()"
   ]
  },
  {
   "cell_type": "code",
   "execution_count": 23,
   "metadata": {},
   "outputs": [],
   "source": [
    "df.to_csv(\"./cleanedIMDb.csv\",index=False)"
   ]
  },
  {
   "cell_type": "code",
   "execution_count": 24,
   "metadata": {},
   "outputs": [],
   "source": [
    "DF2 = pd.read_csv(\"./cleanedIMDb.csv\")"
   ]
  },
  {
   "cell_type": "code",
   "execution_count": 25,
   "metadata": {},
   "outputs": [
    {
     "data": {
      "text/html": [
       "<div>\n",
       "<style scoped>\n",
       "    .dataframe tbody tr th:only-of-type {\n",
       "        vertical-align: middle;\n",
       "    }\n",
       "\n",
       "    .dataframe tbody tr th {\n",
       "        vertical-align: top;\n",
       "    }\n",
       "\n",
       "    .dataframe thead th {\n",
       "        text-align: right;\n",
       "    }\n",
       "</style>\n",
       "<table border=\"1\" class=\"dataframe\">\n",
       "  <thead>\n",
       "    <tr style=\"text-align: right;\">\n",
       "      <th></th>\n",
       "      <th>id</th>\n",
       "      <th>sentiment</th>\n",
       "      <th>review</th>\n",
       "      <th>label</th>\n",
       "      <th>cleaned</th>\n",
       "    </tr>\n",
       "  </thead>\n",
       "  <tbody>\n",
       "    <tr>\n",
       "      <th>0</th>\n",
       "      <td>5814_8</td>\n",
       "      <td>1</td>\n",
       "      <td>With all this stuff going down at the moment w...</td>\n",
       "      <td>1</td>\n",
       "      <td>stuff going moment mj started listening music ...</td>\n",
       "    </tr>\n",
       "    <tr>\n",
       "      <th>1</th>\n",
       "      <td>2381_9</td>\n",
       "      <td>1</td>\n",
       "      <td>\\The Classic War of the Worlds\\\" by Timothy Hi...</td>\n",
       "      <td>1</td>\n",
       "      <td>classic war worlds timothy hines entertaining ...</td>\n",
       "    </tr>\n",
       "    <tr>\n",
       "      <th>2</th>\n",
       "      <td>7759_3</td>\n",
       "      <td>0</td>\n",
       "      <td>The film starts with a manager (Nicholas Bell)...</td>\n",
       "      <td>0</td>\n",
       "      <td>film starts manager nicholas bell giving welco...</td>\n",
       "    </tr>\n",
       "    <tr>\n",
       "      <th>3</th>\n",
       "      <td>3630_4</td>\n",
       "      <td>0</td>\n",
       "      <td>It must be assumed that those who praised this...</td>\n",
       "      <td>0</td>\n",
       "      <td>must assumed praised film greatest filmed oper...</td>\n",
       "    </tr>\n",
       "    <tr>\n",
       "      <th>4</th>\n",
       "      <td>9495_8</td>\n",
       "      <td>1</td>\n",
       "      <td>Superbly trashy and wondrously unpretentious 8...</td>\n",
       "      <td>1</td>\n",
       "      <td>superbly trashy wondrously unpretentious 80 ex...</td>\n",
       "    </tr>\n",
       "  </tbody>\n",
       "</table>\n",
       "</div>"
      ],
      "text/plain": [
       "       id  sentiment                                             review  \\\n",
       "0  5814_8          1  With all this stuff going down at the moment w...   \n",
       "1  2381_9          1  \\The Classic War of the Worlds\\\" by Timothy Hi...   \n",
       "2  7759_3          0  The film starts with a manager (Nicholas Bell)...   \n",
       "3  3630_4          0  It must be assumed that those who praised this...   \n",
       "4  9495_8          1  Superbly trashy and wondrously unpretentious 8...   \n",
       "\n",
       "   label                                            cleaned  \n",
       "0      1  stuff going moment mj started listening music ...  \n",
       "1      1  classic war worlds timothy hines entertaining ...  \n",
       "2      0  film starts manager nicholas bell giving welco...  \n",
       "3      0  must assumed praised film greatest filmed oper...  \n",
       "4      1  superbly trashy wondrously unpretentious 80 ex...  "
      ]
     },
     "execution_count": 25,
     "metadata": {},
     "output_type": "execute_result"
    }
   ],
   "source": [
    "DF2.head()"
   ]
  },
  {
   "cell_type": "code",
   "execution_count": 26,
   "metadata": {},
   "outputs": [],
   "source": [
    "from sklearn.feature_extraction.text import CountVectorizer\n",
    "from sklearn.linear_model import LogisticRegression\n",
    "from sklearn.model_selection import train_test_split\n",
    "from sklearn.metrics import accuracy_score"
   ]
  },
  {
   "cell_type": "code",
   "execution_count": 27,
   "metadata": {},
   "outputs": [],
   "source": [
    "xUncleaned = DF2[\"review\"]\n",
    "xCleaned = DF2[\"cleaned\"]\n",
    "yUncleaned = DF2.sentiment\n",
    "yCleaned = DF2.label"
   ]
  },
  {
   "cell_type": "code",
   "execution_count": 28,
   "metadata": {},
   "outputs": [],
   "source": [
    "\n",
    "X_UCtrain, X_UCtest, y_UCtrain, y_UCtest = train_test_split(xUncleaned,yUncleaned,random_state=0)\n",
    "X_Ctrain, X_Ctest, y_Ctrain, y_Ctest = train_test_split(xCleaned,yCleaned,random_state=0)"
   ]
  },
  {
   "cell_type": "code",
   "execution_count": 29,
   "metadata": {},
   "outputs": [],
   "source": [
    "\n",
    "vectUC=CountVectorizer(min_df=3,ngram_range=(1,2)).fit(X_UCtrain)\n",
    "X_train_UCvetorised=vectUC.transform(X_UCtrain)\n",
    "\n",
    "\n",
    "vectC=CountVectorizer(min_df=3,ngram_range=(1,2)).fit(X_Ctrain)\n",
    "X_train_Cvetorised=vectC.transform(X_Ctrain)"
   ]
  },
  {
   "cell_type": "code",
   "execution_count": 107,
   "metadata": {},
   "outputs": [],
   "source": [
    "model = svm.SVC(kernel='linear', probability=True)"
   ]
  },
  {
   "cell_type": "code",
   "execution_count": null,
   "metadata": {},
   "outputs": [],
   "source": [
    "model.fit(X_train_UCvetorised,y_UCtrain)"
   ]
  },
  {
   "cell_type": "code",
   "execution_count": null,
   "metadata": {},
   "outputs": [],
   "source": [
    "y_UCpred = model.predict(vectUC.transform(X_UCtest))"
   ]
  },
  {
   "cell_type": "code",
   "execution_count": null,
   "metadata": {},
   "outputs": [],
   "source": [
    "accuracy_score(y_UCtest,y_UCpred)"
   ]
  },
  {
   "cell_type": "code",
   "execution_count": null,
   "metadata": {},
   "outputs": [],
   "source": [
    "testing=\"If you are French native, then you find this movie extremely funny. It's good, just good! Can though imagine that subtitles or translations don't mean much in english.\"\n",
    "print(testing)\n",
    "print(model.predict(vectUC.transform([testing])))\n",
    "print(model.predict_proba(vectUC.transform([testing])))\n",
    "print(model.classes_)"
   ]
  },
  {
   "cell_type": "code",
   "execution_count": null,
   "metadata": {
    "scrolled": true
   },
   "outputs": [],
   "source": [
    "model.fit(X_train_Cvetorised,y_Ctrain)"
   ]
  },
  {
   "cell_type": "code",
   "execution_count": null,
   "metadata": {},
   "outputs": [],
   "source": [
    "y_Cpred = model.predict(vectC.transform(X_Ctest))"
   ]
  },
  {
   "cell_type": "code",
   "execution_count": null,
   "metadata": {},
   "outputs": [],
   "source": [
    "accuracy_score(y_Ctest,y_Cpred)"
   ]
  },
  {
   "cell_type": "code",
   "execution_count": null,
   "metadata": {},
   "outputs": [],
   "source": [
    "testing=\"If you are French native, then you find this movie extremely funny. It's good, just good! Can though imagine that subtitles or translations don't mean much in english.\"\n",
    "print(testing)\n",
    "print(model.predict(vectC.transform([testing])))\n",
    "print(model.predict_proba(vectC.transform([testing])))\n",
    "print(model.classes_)"
   ]
  },
  {
   "cell_type": "code",
   "execution_count": 84,
   "metadata": {},
   "outputs": [
    {
     "name": "stdout",
     "output_type": "stream",
     "text": [
      "small coeff : {} ['worst' 'waste' 'disappointment' 'awful' 'poorly' 'boring'\n",
      " 'disappointing' 'dull' 'worse' 'lacks']\n"
     ]
    }
   ],
   "source": [
    "feature_name=np.array(vectC.get_feature_names())\n",
    "\n",
    "sort_coeff=model.coef_[0].argsort()\n",
    "\n",
    "print (\"Negatives coeff : {}\",format(feature_name[sort_coeff[:10]]))\n",
    "\n"
   ]
  },
  {
   "cell_type": "code",
   "execution_count": 85,
   "metadata": {},
   "outputs": [
    {
     "name": "stdout",
     "output_type": "stream",
     "text": [
      "large coeff : {} ['excellent' 'perfect' 'funniest' 'surprisingly' '10 10' 'superb'\n",
      " 'refreshing' 'must see' 'wonderful' 'well worth']\n"
     ]
    }
   ],
   "source": [
    "print (\"Positive coeff : {}\",format(feature_name[sort_coeff[:-11:-1]]))\n"
   ]
  },
  {
   "cell_type": "code",
   "execution_count": 90,
   "metadata": {},
   "outputs": [
    {
     "name": "stdout",
     "output_type": "stream",
     "text": [
      "Negatives coeff : {} ['worst' 'awful' 'waste' 'boring' 'poor' 'disappointing' 'disappointment'\n",
      " 'worse' 'the worst' 'poorly']\n"
     ]
    }
   ],
   "source": [
    "feature_name=np.array(vectUC.get_feature_names())\n",
    "\n",
    "sort_coeff=model.coef_[0].argsort()\n",
    "\n",
    "print (\"Negatives coeff : {}\",format(feature_name[sort_coeff[:10]]))\n",
    "\n"
   ]
  },
  {
   "cell_type": "code",
   "execution_count": 91,
   "metadata": {},
   "outputs": [
    {
     "name": "stdout",
     "output_type": "stream",
     "text": [
      "Positive coeff : {} ['excellent' 'perfect' 'wonderful' 'enjoyable' 'amazing' 'surprisingly'\n",
      " 'superb' 'great' 'believable' 'today']\n"
     ]
    }
   ],
   "source": [
    "print (\"Positive coeff : {}\",format(feature_name[sort_coeff[:-11:-1]]))\n"
   ]
  },
  {
   "cell_type": "code",
   "execution_count": null,
   "metadata": {},
   "outputs": [],
   "source": [
    "# Uncleaned\n",
    "\n",
    "Negatives coeff : {} ['worst' 'awful' 'waste' 'boring' 'poor' 'disappointing' 'disappointment'\n",
    " 'worse' 'the worst' 'poorly']\n",
    "\n",
    "Positive coeff : {} ['excellent' 'perfect' 'wonderful' 'enjoyable' 'amazing' 'surprisingly'\n",
    " 'superb' 'great' 'believable' 'today']\n",
    "\n",
    "#cleaned\n",
    "small coeff : {} ['worst' 'waste' 'disappointment' 'awful' 'poorly' 'boring'\n",
    " 'disappointing' 'dull' 'worse' 'lacks']\n",
    "    \n",
    "large coeff : {} ['excellent' 'perfect' 'funniest' 'surprisingly' '10 10' 'superb'\n",
    " 'refreshing' 'must see' 'wonderful' 'well worth']"
   ]
  },
  {
   "cell_type": "code",
   "execution_count": 101,
   "metadata": {},
   "outputs": [
    {
     "data": {
      "text/plain": [
       "SVC(C=1.0, cache_size=200, class_weight=None, coef0=0.0,\n",
       "  decision_function_shape='ovr', degree=3, gamma='auto', kernel='linear',\n",
       "  max_iter=-1, probability=True, random_state=None, shrinking=True,\n",
       "  tol=0.001, verbose=False)"
      ]
     },
     "execution_count": 101,
     "metadata": {},
     "output_type": "execute_result"
    }
   ],
   "source": [
    "import numpy as np\n",
    "from sklearn import svm\n",
    "\n",
    "x =np.array([[1,2],\n",
    "             [5,8],\n",
    "             [1.5,1.8],\n",
    "             [8,8],\n",
    "             [1,0.6],\n",
    "             [9,11]])\n",
    "y = [0,1,0,1,0,1]\n",
    "\n",
    "clf = svm.SVC(kernel='linear', probability=True)\n",
    "clf.fit(x,y)\n"
   ]
  },
  {
   "cell_type": "code",
   "execution_count": 104,
   "metadata": {},
   "outputs": [
    {
     "data": {
      "text/plain": [
       "array([[0.80805071, 0.19194929]])"
      ]
     },
     "execution_count": 104,
     "metadata": {},
     "output_type": "execute_result"
    }
   ],
   "source": [
    "clf.predict([[0.58,0.76]])\n",
    "\n",
    "clf.predict_proba([[0.58,0.76]])"
   ]
  },
  {
   "cell_type": "code",
   "execution_count": 105,
   "metadata": {},
   "outputs": [
    {
     "data": {
      "text/plain": [
       "array([[0.08961653, 0.91038347]])"
      ]
     },
     "execution_count": 105,
     "metadata": {},
     "output_type": "execute_result"
    }
   ],
   "source": [
    "clf.predict([[10.58,10.76]])\n",
    "clf.predict_proba([[10.58,10.76]])"
   ]
  },
  {
   "cell_type": "code",
   "execution_count": 106,
   "metadata": {},
   "outputs": [
    {
     "data": {
      "text/plain": [
       "array([0, 1])"
      ]
     },
     "execution_count": 106,
     "metadata": {},
     "output_type": "execute_result"
    }
   ],
   "source": [
    "clf.classes_"
   ]
  },
  {
   "cell_type": "markdown",
   "metadata": {},
   "source": [
    "### Classification Task\n",
    "Dataset:- Twitter dataset (Biclass/Multiclass)\n",
    "\n",
    "1. Logistic classification\n",
    "2. SVM\n",
    "3. Naive Baye's\n",
    "4. Decision Tree\n",
    "5. RandomForest classifier\n",
    "6. AdaBoost classifier\n",
    "7. KNN classifier"
   ]
  },
  {
   "cell_type": "code",
   "execution_count": 1,
   "metadata": {},
   "outputs": [],
   "source": [
    "from sklearn.tree import DecisionTreeRegressor"
   ]
  },
  {
   "cell_type": "code",
   "execution_count": 22,
   "metadata": {},
   "outputs": [
    {
     "name": "stdout",
     "output_type": "stream",
     "text": [
      "[[ 6.5         8.        ]\n",
      " [ 1.16666667  1.46666667]\n",
      " [ 9.         11.        ]]\n",
      "[1 0 1 0 1 2]\n"
     ]
    }
   ],
   "source": [
    "import matplotlib.pyplot as plt\n",
    "import numpy as np\n",
    "from sklearn.cluster import KMeans\n",
    "\n",
    "X = np.array([[1, 2],\n",
    "              [5, 8],\n",
    "              [1.5, 1.8],\n",
    "              [8, 8],\n",
    "              [1, 0.6],\n",
    "              [9, 11]])\n",
    "kmeans = KMeans(n_clusters=3)\n",
    "kmeans.fit(X)\n",
    "\n",
    "centroids = kmeans.cluster_centers_\n",
    "labels = kmeans.labels_\n",
    "\n",
    "print(centroids)\n",
    "print(labels)"
   ]
  },
  {
   "cell_type": "code",
   "execution_count": 23,
   "metadata": {},
   "outputs": [
    {
     "name": "stdout",
     "output_type": "stream",
     "text": [
      "coordinate: [1. 2.] label: 1\n",
      "coordinate: [5. 8.] label: 0\n",
      "coordinate: [1.5 1.8] label: 1\n",
      "coordinate: [8. 8.] label: 0\n",
      "coordinate: [1.  0.6] label: 1\n",
      "coordinate: [ 9. 11.] label: 2\n"
     ]
    },
    {
     "data": {
      "image/png": "[encoded data removed]",
      "text/plain": [
       "<Figure size 432x288 with 1 Axes>"
      ]
     },
     "metadata": {},
     "output_type": "display_data"
    }
   ],
   "source": [
    "colors = [\"g.\",\"r.\",\"c.\",\"y.\"]\n",
    "\n",
    "for i in range(len(X)):\n",
    "    print(\"coordinate:\",X[i], \"label:\", labels[i])\n",
    "    plt.plot(X[i][0], X[i][1], colors[labels[i]], markersize = 10)\n",
    "\n",
    "\n",
    "plt.scatter(centroids[:, 0],centroids[:, 1], marker = \"x\", s=150, linewidths = 5, zorder = 10)\n",
    "\n",
    "plt.show()"
   ]
  },
  {
   "cell_type": "code",
   "execution_count": 24,
   "metadata": {},
   "outputs": [],
   "source": [
    "rdata = pd.read_csv(\"./Advertising.csv\",index_col=0)\n",
    "cdata = pd.read_csv(\"./train.csv\")"
   ]
  },
  {
   "cell_type": "code",
   "execution_count": 25,
   "metadata": {},
   "outputs": [
    {
     "data": {
      "text/html": [
       "<div>\n",
       "<style scoped>\n",
       "    .dataframe tbody tr th:only-of-type {\n",
       "        vertical-align: middle;\n",
       "    }\n",
       "\n",
       "    .dataframe tbody tr th {\n",
       "        vertical-align: top;\n",
       "    }\n",
       "\n",
       "    .dataframe thead th {\n",
       "        text-align: right;\n",
       "    }\n",
       "</style>\n",
       "<table border=\"1\" class=\"dataframe\">\n",
       "  <thead>\n",
       "    <tr style=\"text-align: right;\">\n",
       "      <th></th>\n",
       "      <th>TV</th>\n",
       "      <th>radio</th>\n",
       "      <th>newspaper</th>\n",
       "      <th>sales</th>\n",
       "    </tr>\n",
       "  </thead>\n",
       "  <tbody>\n",
       "    <tr>\n",
       "      <th>1</th>\n",
       "      <td>230.1</td>\n",
       "      <td>37.8</td>\n",
       "      <td>69.2</td>\n",
       "      <td>22.1</td>\n",
       "    </tr>\n",
       "    <tr>\n",
       "      <th>2</th>\n",
       "      <td>44.5</td>\n",
       "      <td>39.3</td>\n",
       "      <td>45.1</td>\n",
       "      <td>10.4</td>\n",
       "    </tr>\n",
       "    <tr>\n",
       "      <th>3</th>\n",
       "      <td>17.2</td>\n",
       "      <td>45.9</td>\n",
       "      <td>69.3</td>\n",
       "      <td>9.3</td>\n",
       "    </tr>\n",
       "    <tr>\n",
       "      <th>4</th>\n",
       "      <td>151.5</td>\n",
       "      <td>41.3</td>\n",
       "      <td>58.5</td>\n",
       "      <td>18.5</td>\n",
       "    </tr>\n",
       "    <tr>\n",
       "      <th>5</th>\n",
       "      <td>180.8</td>\n",
       "      <td>10.8</td>\n",
       "      <td>58.4</td>\n",
       "      <td>12.9</td>\n",
       "    </tr>\n",
       "  </tbody>\n",
       "</table>\n",
       "</div>"
      ],
      "text/plain": [
       "      TV  radio  newspaper  sales\n",
       "1  230.1   37.8       69.2   22.1\n",
       "2   44.5   39.3       45.1   10.4\n",
       "3   17.2   45.9       69.3    9.3\n",
       "4  151.5   41.3       58.5   18.5\n",
       "5  180.8   10.8       58.4   12.9"
      ]
     },
     "execution_count": 25,
     "metadata": {},
     "output_type": "execute_result"
    }
   ],
   "source": [
    "rdata.head()"
   ]
  },
  {
   "cell_type": "code",
   "execution_count": 26,
   "metadata": {},
   "outputs": [
    {
     "data": {
      "text/html": [
       "<div>\n",
       "<style scoped>\n",
       "    .dataframe tbody tr th:only-of-type {\n",
       "        vertical-align: middle;\n",
       "    }\n",
       "\n",
       "    .dataframe tbody tr th {\n",
       "        vertical-align: top;\n",
       "    }\n",
       "\n",
       "    .dataframe thead th {\n",
       "        text-align: right;\n",
       "    }\n",
       "</style>\n",
       "<table border=\"1\" class=\"dataframe\">\n",
       "  <thead>\n",
       "    <tr style=\"text-align: right;\">\n",
       "      <th></th>\n",
       "      <th>class</th>\n",
       "      <th>petal_length</th>\n",
       "      <th>petal_width</th>\n",
       "      <th>sepal_length</th>\n",
       "      <th>sepal_width</th>\n",
       "    </tr>\n",
       "  </thead>\n",
       "  <tbody>\n",
       "    <tr>\n",
       "      <th>0</th>\n",
       "      <td>Iris-virginica</td>\n",
       "      <td>5.5</td>\n",
       "      <td>1.8</td>\n",
       "      <td>6.4</td>\n",
       "      <td>3.1</td>\n",
       "    </tr>\n",
       "    <tr>\n",
       "      <th>1</th>\n",
       "      <td>Iris-virginica</td>\n",
       "      <td>5.9</td>\n",
       "      <td>2.3</td>\n",
       "      <td>6.8</td>\n",
       "      <td>3.2</td>\n",
       "    </tr>\n",
       "    <tr>\n",
       "      <th>2</th>\n",
       "      <td>Iris-virginica</td>\n",
       "      <td>5.4</td>\n",
       "      <td>2.3</td>\n",
       "      <td>6.2</td>\n",
       "      <td>3.4</td>\n",
       "    </tr>\n",
       "    <tr>\n",
       "      <th>3</th>\n",
       "      <td>Iris-virginica</td>\n",
       "      <td>4.8</td>\n",
       "      <td>1.8</td>\n",
       "      <td>6.0</td>\n",
       "      <td>3.0</td>\n",
       "    </tr>\n",
       "    <tr>\n",
       "      <th>4</th>\n",
       "      <td>Iris-virginica</td>\n",
       "      <td>5.1</td>\n",
       "      <td>2.3</td>\n",
       "      <td>6.9</td>\n",
       "      <td>3.1</td>\n",
       "    </tr>\n",
       "  </tbody>\n",
       "</table>\n",
       "</div>"
      ],
      "text/plain": [
       "            class  petal_length  petal_width  sepal_length  sepal_width\n",
       "0  Iris-virginica           5.5          1.8           6.4          3.1\n",
       "1  Iris-virginica           5.9          2.3           6.8          3.2\n",
       "2  Iris-virginica           5.4          2.3           6.2          3.4\n",
       "3  Iris-virginica           4.8          1.8           6.0          3.0\n",
       "4  Iris-virginica           5.1          2.3           6.9          3.1"
      ]
     },
     "execution_count": 26,
     "metadata": {},
     "output_type": "execute_result"
    }
   ],
   "source": [
    "cdata.head()"
   ]
  },
  {
   "cell_type": "code",
   "execution_count": 27,
   "metadata": {},
   "outputs": [
    {
     "data": {
      "text/html": [
       "<div>\n",
       "<style scoped>\n",
       "    .dataframe tbody tr th:only-of-type {\n",
       "        vertical-align: middle;\n",
       "    }\n",
       "\n",
       "    .dataframe tbody tr th {\n",
       "        vertical-align: top;\n",
       "    }\n",
       "\n",
       "    .dataframe thead th {\n",
       "        text-align: right;\n",
       "    }\n",
       "</style>\n",
       "<table border=\"1\" class=\"dataframe\">\n",
       "  <thead>\n",
       "    <tr style=\"text-align: right;\">\n",
       "      <th></th>\n",
       "      <th>TV</th>\n",
       "      <th>radio</th>\n",
       "      <th>newspaper</th>\n",
       "    </tr>\n",
       "    <tr>\n",
       "      <th>sales</th>\n",
       "      <th></th>\n",
       "      <th></th>\n",
       "      <th></th>\n",
       "    </tr>\n",
       "  </thead>\n",
       "  <tbody>\n",
       "    <tr>\n",
       "      <th>1.6</th>\n",
       "      <td>1</td>\n",
       "      <td>1</td>\n",
       "      <td>1</td>\n",
       "    </tr>\n",
       "    <tr>\n",
       "      <th>3.2</th>\n",
       "      <td>1</td>\n",
       "      <td>1</td>\n",
       "      <td>1</td>\n",
       "    </tr>\n",
       "    <tr>\n",
       "      <th>4.8</th>\n",
       "      <td>1</td>\n",
       "      <td>1</td>\n",
       "      <td>1</td>\n",
       "    </tr>\n",
       "    <tr>\n",
       "      <th>5.3</th>\n",
       "      <td>2</td>\n",
       "      <td>2</td>\n",
       "      <td>2</td>\n",
       "    </tr>\n",
       "    <tr>\n",
       "      <th>5.5</th>\n",
       "      <td>1</td>\n",
       "      <td>1</td>\n",
       "      <td>1</td>\n",
       "    </tr>\n",
       "    <tr>\n",
       "      <th>5.6</th>\n",
       "      <td>1</td>\n",
       "      <td>1</td>\n",
       "      <td>1</td>\n",
       "    </tr>\n",
       "    <tr>\n",
       "      <th>5.7</th>\n",
       "      <td>1</td>\n",
       "      <td>1</td>\n",
       "      <td>1</td>\n",
       "    </tr>\n",
       "    <tr>\n",
       "      <th>5.9</th>\n",
       "      <td>1</td>\n",
       "      <td>1</td>\n",
       "      <td>1</td>\n",
       "    </tr>\n",
       "    <tr>\n",
       "      <th>6.6</th>\n",
       "      <td>2</td>\n",
       "      <td>2</td>\n",
       "      <td>2</td>\n",
       "    </tr>\n",
       "    <tr>\n",
       "      <th>6.7</th>\n",
       "      <td>1</td>\n",
       "      <td>1</td>\n",
       "      <td>1</td>\n",
       "    </tr>\n",
       "    <tr>\n",
       "      <th>6.9</th>\n",
       "      <td>1</td>\n",
       "      <td>1</td>\n",
       "      <td>1</td>\n",
       "    </tr>\n",
       "    <tr>\n",
       "      <th>7.0</th>\n",
       "      <td>1</td>\n",
       "      <td>1</td>\n",
       "      <td>1</td>\n",
       "    </tr>\n",
       "    <tr>\n",
       "      <th>7.2</th>\n",
       "      <td>2</td>\n",
       "      <td>2</td>\n",
       "      <td>2</td>\n",
       "    </tr>\n",
       "    <tr>\n",
       "      <th>7.3</th>\n",
       "      <td>2</td>\n",
       "      <td>2</td>\n",
       "      <td>2</td>\n",
       "    </tr>\n",
       "    <tr>\n",
       "      <th>7.6</th>\n",
       "      <td>2</td>\n",
       "      <td>2</td>\n",
       "      <td>2</td>\n",
       "    </tr>\n",
       "    <tr>\n",
       "      <th>8.0</th>\n",
       "      <td>1</td>\n",
       "      <td>1</td>\n",
       "      <td>1</td>\n",
       "    </tr>\n",
       "    <tr>\n",
       "      <th>8.1</th>\n",
       "      <td>1</td>\n",
       "      <td>1</td>\n",
       "      <td>1</td>\n",
       "    </tr>\n",
       "    <tr>\n",
       "      <th>8.4</th>\n",
       "      <td>1</td>\n",
       "      <td>1</td>\n",
       "      <td>1</td>\n",
       "    </tr>\n",
       "    <tr>\n",
       "      <th>8.5</th>\n",
       "      <td>1</td>\n",
       "      <td>1</td>\n",
       "      <td>1</td>\n",
       "    </tr>\n",
       "    <tr>\n",
       "      <th>8.6</th>\n",
       "      <td>1</td>\n",
       "      <td>1</td>\n",
       "      <td>1</td>\n",
       "    </tr>\n",
       "    <tr>\n",
       "      <th>8.7</th>\n",
       "      <td>3</td>\n",
       "      <td>3</td>\n",
       "      <td>3</td>\n",
       "    </tr>\n",
       "    <tr>\n",
       "      <th>8.8</th>\n",
       "      <td>2</td>\n",
       "      <td>2</td>\n",
       "      <td>2</td>\n",
       "    </tr>\n",
       "    <tr>\n",
       "      <th>9.2</th>\n",
       "      <td>1</td>\n",
       "      <td>1</td>\n",
       "      <td>1</td>\n",
       "    </tr>\n",
       "    <tr>\n",
       "      <th>9.3</th>\n",
       "      <td>2</td>\n",
       "      <td>2</td>\n",
       "      <td>2</td>\n",
       "    </tr>\n",
       "    <tr>\n",
       "      <th>9.4</th>\n",
       "      <td>1</td>\n",
       "      <td>1</td>\n",
       "      <td>1</td>\n",
       "    </tr>\n",
       "    <tr>\n",
       "      <th>9.5</th>\n",
       "      <td>3</td>\n",
       "      <td>3</td>\n",
       "      <td>3</td>\n",
       "    </tr>\n",
       "    <tr>\n",
       "      <th>9.6</th>\n",
       "      <td>2</td>\n",
       "      <td>2</td>\n",
       "      <td>2</td>\n",
       "    </tr>\n",
       "    <tr>\n",
       "      <th>9.7</th>\n",
       "      <td>5</td>\n",
       "      <td>5</td>\n",
       "      <td>5</td>\n",
       "    </tr>\n",
       "    <tr>\n",
       "      <th>9.9</th>\n",
       "      <td>1</td>\n",
       "      <td>1</td>\n",
       "      <td>1</td>\n",
       "    </tr>\n",
       "    <tr>\n",
       "      <th>10.1</th>\n",
       "      <td>3</td>\n",
       "      <td>3</td>\n",
       "      <td>3</td>\n",
       "    </tr>\n",
       "    <tr>\n",
       "      <th>...</th>\n",
       "      <td>...</td>\n",
       "      <td>...</td>\n",
       "      <td>...</td>\n",
       "    </tr>\n",
       "    <tr>\n",
       "      <th>19.0</th>\n",
       "      <td>2</td>\n",
       "      <td>2</td>\n",
       "      <td>2</td>\n",
       "    </tr>\n",
       "    <tr>\n",
       "      <th>19.2</th>\n",
       "      <td>2</td>\n",
       "      <td>2</td>\n",
       "      <td>2</td>\n",
       "    </tr>\n",
       "    <tr>\n",
       "      <th>19.4</th>\n",
       "      <td>1</td>\n",
       "      <td>1</td>\n",
       "      <td>1</td>\n",
       "    </tr>\n",
       "    <tr>\n",
       "      <th>19.6</th>\n",
       "      <td>2</td>\n",
       "      <td>2</td>\n",
       "      <td>2</td>\n",
       "    </tr>\n",
       "    <tr>\n",
       "      <th>19.7</th>\n",
       "      <td>1</td>\n",
       "      <td>1</td>\n",
       "      <td>1</td>\n",
       "    </tr>\n",
       "    <tr>\n",
       "      <th>19.8</th>\n",
       "      <td>1</td>\n",
       "      <td>1</td>\n",
       "      <td>1</td>\n",
       "    </tr>\n",
       "    <tr>\n",
       "      <th>20.1</th>\n",
       "      <td>1</td>\n",
       "      <td>1</td>\n",
       "      <td>1</td>\n",
       "    </tr>\n",
       "    <tr>\n",
       "      <th>20.2</th>\n",
       "      <td>2</td>\n",
       "      <td>2</td>\n",
       "      <td>2</td>\n",
       "    </tr>\n",
       "    <tr>\n",
       "      <th>20.7</th>\n",
       "      <td>3</td>\n",
       "      <td>3</td>\n",
       "      <td>3</td>\n",
       "    </tr>\n",
       "    <tr>\n",
       "      <th>20.8</th>\n",
       "      <td>1</td>\n",
       "      <td>1</td>\n",
       "      <td>1</td>\n",
       "    </tr>\n",
       "    <tr>\n",
       "      <th>21.2</th>\n",
       "      <td>1</td>\n",
       "      <td>1</td>\n",
       "      <td>1</td>\n",
       "    </tr>\n",
       "    <tr>\n",
       "      <th>21.4</th>\n",
       "      <td>1</td>\n",
       "      <td>1</td>\n",
       "      <td>1</td>\n",
       "    </tr>\n",
       "    <tr>\n",
       "      <th>21.5</th>\n",
       "      <td>1</td>\n",
       "      <td>1</td>\n",
       "      <td>1</td>\n",
       "    </tr>\n",
       "    <tr>\n",
       "      <th>21.7</th>\n",
       "      <td>1</td>\n",
       "      <td>1</td>\n",
       "      <td>1</td>\n",
       "    </tr>\n",
       "    <tr>\n",
       "      <th>21.8</th>\n",
       "      <td>1</td>\n",
       "      <td>1</td>\n",
       "      <td>1</td>\n",
       "    </tr>\n",
       "    <tr>\n",
       "      <th>22.1</th>\n",
       "      <td>1</td>\n",
       "      <td>1</td>\n",
       "      <td>1</td>\n",
       "    </tr>\n",
       "    <tr>\n",
       "      <th>22.2</th>\n",
       "      <td>1</td>\n",
       "      <td>1</td>\n",
       "      <td>1</td>\n",
       "    </tr>\n",
       "    <tr>\n",
       "      <th>22.3</th>\n",
       "      <td>1</td>\n",
       "      <td>1</td>\n",
       "      <td>1</td>\n",
       "    </tr>\n",
       "    <tr>\n",
       "      <th>22.4</th>\n",
       "      <td>1</td>\n",
       "      <td>1</td>\n",
       "      <td>1</td>\n",
       "    </tr>\n",
       "    <tr>\n",
       "      <th>22.6</th>\n",
       "      <td>2</td>\n",
       "      <td>2</td>\n",
       "      <td>2</td>\n",
       "    </tr>\n",
       "    <tr>\n",
       "      <th>23.2</th>\n",
       "      <td>1</td>\n",
       "      <td>1</td>\n",
       "      <td>1</td>\n",
       "    </tr>\n",
       "    <tr>\n",
       "      <th>23.7</th>\n",
       "      <td>1</td>\n",
       "      <td>1</td>\n",
       "      <td>1</td>\n",
       "    </tr>\n",
       "    <tr>\n",
       "      <th>23.8</th>\n",
       "      <td>2</td>\n",
       "      <td>2</td>\n",
       "      <td>2</td>\n",
       "    </tr>\n",
       "    <tr>\n",
       "      <th>24.2</th>\n",
       "      <td>1</td>\n",
       "      <td>1</td>\n",
       "      <td>1</td>\n",
       "    </tr>\n",
       "    <tr>\n",
       "      <th>24.4</th>\n",
       "      <td>1</td>\n",
       "      <td>1</td>\n",
       "      <td>1</td>\n",
       "    </tr>\n",
       "    <tr>\n",
       "      <th>24.7</th>\n",
       "      <td>1</td>\n",
       "      <td>1</td>\n",
       "      <td>1</td>\n",
       "    </tr>\n",
       "    <tr>\n",
       "      <th>25.4</th>\n",
       "      <td>3</td>\n",
       "      <td>3</td>\n",
       "      <td>3</td>\n",
       "    </tr>\n",
       "    <tr>\n",
       "      <th>25.5</th>\n",
       "      <td>1</td>\n",
       "      <td>1</td>\n",
       "      <td>1</td>\n",
       "    </tr>\n",
       "    <tr>\n",
       "      <th>26.2</th>\n",
       "      <td>1</td>\n",
       "      <td>1</td>\n",
       "      <td>1</td>\n",
       "    </tr>\n",
       "    <tr>\n",
       "      <th>27.0</th>\n",
       "      <td>1</td>\n",
       "      <td>1</td>\n",
       "      <td>1</td>\n",
       "    </tr>\n",
       "  </tbody>\n",
       "</table>\n",
       "<p>121 rows × 3 columns</p>\n",
       "</div>"
      ],
      "text/plain": [
       "       TV  radio  newspaper\n",
       "sales                      \n",
       "1.6     1      1          1\n",
       "3.2     1      1          1\n",
       "4.8     1      1          1\n",
       "5.3     2      2          2\n",
       "5.5     1      1          1\n",
       "5.6     1      1          1\n",
       "5.7     1      1          1\n",
       "5.9     1      1          1\n",
       "6.6     2      2          2\n",
       "6.7     1      1          1\n",
       "6.9     1      1          1\n",
       "7.0     1      1          1\n",
       "7.2     2      2          2\n",
       "7.3     2      2          2\n",
       "7.6     2      2          2\n",
       "8.0     1      1          1\n",
       "8.1     1      1          1\n",
       "8.4     1      1          1\n",
       "8.5     1      1          1\n",
       "8.6     1      1          1\n",
       "8.7     3      3          3\n",
       "8.8     2      2          2\n",
       "9.2     1      1          1\n",
       "9.3     2      2          2\n",
       "9.4     1      1          1\n",
       "9.5     3      3          3\n",
       "9.6     2      2          2\n",
       "9.7     5      5          5\n",
       "9.9     1      1          1\n",
       "10.1    3      3          3\n",
       "...    ..    ...        ...\n",
       "19.0    2      2          2\n",
       "19.2    2      2          2\n",
       "19.4    1      1          1\n",
       "19.6    2      2          2\n",
       "19.7    1      1          1\n",
       "19.8    1      1          1\n",
       "20.1    1      1          1\n",
       "20.2    2      2          2\n",
       "20.7    3      3          3\n",
       "20.8    1      1          1\n",
       "21.2    1      1          1\n",
       "21.4    1      1          1\n",
       "21.5    1      1          1\n",
       "21.7    1      1          1\n",
       "21.8    1      1          1\n",
       "22.1    1      1          1\n",
       "22.2    1      1          1\n",
       "22.3    1      1          1\n",
       "22.4    1      1          1\n",
       "22.6    2      2          2\n",
       "23.2    1      1          1\n",
       "23.7    1      1          1\n",
       "23.8    2      2          2\n",
       "24.2    1      1          1\n",
       "24.4    1      1          1\n",
       "24.7    1      1          1\n",
       "25.4    3      3          3\n",
       "25.5    1      1          1\n",
       "26.2    1      1          1\n",
       "27.0    1      1          1\n",
       "\n",
       "[121 rows x 3 columns]"
      ]
     },
     "execution_count": 27,
     "metadata": {},
     "output_type": "execute_result"
    }
   ],
   "source": [
    "rdata.groupby('sales').count()"
   ]
  },
  {
   "cell_type": "code",
   "execution_count": 28,
   "metadata": {},
   "outputs": [
    {
     "data": {
      "text/html": [
       "<div>\n",
       "<style scoped>\n",
       "    .dataframe tbody tr th:only-of-type {\n",
       "        vertical-align: middle;\n",
       "    }\n",
       "\n",
       "    .dataframe tbody tr th {\n",
       "        vertical-align: top;\n",
       "    }\n",
       "\n",
       "    .dataframe thead th {\n",
       "        text-align: right;\n",
       "    }\n",
       "</style>\n",
       "<table border=\"1\" class=\"dataframe\">\n",
       "  <thead>\n",
       "    <tr style=\"text-align: right;\">\n",
       "      <th></th>\n",
       "      <th>petal_length</th>\n",
       "      <th>petal_width</th>\n",
       "      <th>sepal_length</th>\n",
       "      <th>sepal_width</th>\n",
       "    </tr>\n",
       "    <tr>\n",
       "      <th>class</th>\n",
       "      <th></th>\n",
       "      <th></th>\n",
       "      <th></th>\n",
       "      <th></th>\n",
       "    </tr>\n",
       "  </thead>\n",
       "  <tbody>\n",
       "    <tr>\n",
       "      <th>Iris-setosa</th>\n",
       "      <td>35</td>\n",
       "      <td>35</td>\n",
       "      <td>35</td>\n",
       "      <td>35</td>\n",
       "    </tr>\n",
       "    <tr>\n",
       "      <th>Iris-versicolor</th>\n",
       "      <td>35</td>\n",
       "      <td>35</td>\n",
       "      <td>35</td>\n",
       "      <td>35</td>\n",
       "    </tr>\n",
       "    <tr>\n",
       "      <th>Iris-virginica</th>\n",
       "      <td>35</td>\n",
       "      <td>35</td>\n",
       "      <td>35</td>\n",
       "      <td>35</td>\n",
       "    </tr>\n",
       "  </tbody>\n",
       "</table>\n",
       "</div>"
      ],
      "text/plain": [
       "                 petal_length  petal_width  sepal_length  sepal_width\n",
       "class                                                                \n",
       "Iris-setosa                35           35            35           35\n",
       "Iris-versicolor            35           35            35           35\n",
       "Iris-virginica             35           35            35           35"
      ]
     },
     "execution_count": 28,
     "metadata": {},
     "output_type": "execute_result"
    }
   ],
   "source": [
    "cdata.groupby('class').count()"
   ]
  },
  {
   "cell_type": "code",
   "execution_count": 31,
   "metadata": {},
   "outputs": [
    {
     "data": {
      "text/html": [
       "<div>\n",
       "<style scoped>\n",
       "    .dataframe tbody tr th:only-of-type {\n",
       "        vertical-align: middle;\n",
       "    }\n",
       "\n",
       "    .dataframe tbody tr th {\n",
       "        vertical-align: top;\n",
       "    }\n",
       "\n",
       "    .dataframe thead th {\n",
       "        text-align: right;\n",
       "    }\n",
       "</style>\n",
       "<table border=\"1\" class=\"dataframe\">\n",
       "  <thead>\n",
       "    <tr style=\"text-align: right;\">\n",
       "      <th></th>\n",
       "      <th>class</th>\n",
       "      <th>petal_length</th>\n",
       "      <th>petal_width</th>\n",
       "      <th>sepal_length</th>\n",
       "      <th>sepal_width</th>\n",
       "    </tr>\n",
       "  </thead>\n",
       "  <tbody>\n",
       "    <tr>\n",
       "      <th>70</th>\n",
       "      <td>Iris-setosa</td>\n",
       "      <td>1.4</td>\n",
       "      <td>0.2</td>\n",
       "      <td>4.9</td>\n",
       "      <td>3.0</td>\n",
       "    </tr>\n",
       "    <tr>\n",
       "      <th>71</th>\n",
       "      <td>Iris-setosa</td>\n",
       "      <td>1.6</td>\n",
       "      <td>0.4</td>\n",
       "      <td>5.0</td>\n",
       "      <td>3.4</td>\n",
       "    </tr>\n",
       "    <tr>\n",
       "      <th>72</th>\n",
       "      <td>Iris-setosa</td>\n",
       "      <td>1.4</td>\n",
       "      <td>0.1</td>\n",
       "      <td>4.8</td>\n",
       "      <td>3.0</td>\n",
       "    </tr>\n",
       "    <tr>\n",
       "      <th>73</th>\n",
       "      <td>Iris-setosa</td>\n",
       "      <td>1.5</td>\n",
       "      <td>0.4</td>\n",
       "      <td>5.7</td>\n",
       "      <td>4.4</td>\n",
       "    </tr>\n",
       "    <tr>\n",
       "      <th>74</th>\n",
       "      <td>Iris-setosa</td>\n",
       "      <td>1.4</td>\n",
       "      <td>0.2</td>\n",
       "      <td>5.2</td>\n",
       "      <td>3.4</td>\n",
       "    </tr>\n",
       "    <tr>\n",
       "      <th>75</th>\n",
       "      <td>Iris-setosa</td>\n",
       "      <td>1.5</td>\n",
       "      <td>0.2</td>\n",
       "      <td>5.4</td>\n",
       "      <td>3.7</td>\n",
       "    </tr>\n",
       "    <tr>\n",
       "      <th>76</th>\n",
       "      <td>Iris-setosa</td>\n",
       "      <td>1.5</td>\n",
       "      <td>0.2</td>\n",
       "      <td>5.1</td>\n",
       "      <td>3.4</td>\n",
       "    </tr>\n",
       "    <tr>\n",
       "      <th>77</th>\n",
       "      <td>Iris-setosa</td>\n",
       "      <td>1.9</td>\n",
       "      <td>0.2</td>\n",
       "      <td>4.8</td>\n",
       "      <td>3.4</td>\n",
       "    </tr>\n",
       "    <tr>\n",
       "      <th>78</th>\n",
       "      <td>Iris-setosa</td>\n",
       "      <td>1.5</td>\n",
       "      <td>0.4</td>\n",
       "      <td>5.1</td>\n",
       "      <td>3.7</td>\n",
       "    </tr>\n",
       "    <tr>\n",
       "      <th>79</th>\n",
       "      <td>Iris-setosa</td>\n",
       "      <td>1.5</td>\n",
       "      <td>0.1</td>\n",
       "      <td>4.9</td>\n",
       "      <td>3.1</td>\n",
       "    </tr>\n",
       "    <tr>\n",
       "      <th>80</th>\n",
       "      <td>Iris-setosa</td>\n",
       "      <td>1.3</td>\n",
       "      <td>0.2</td>\n",
       "      <td>4.4</td>\n",
       "      <td>3.2</td>\n",
       "    </tr>\n",
       "    <tr>\n",
       "      <th>81</th>\n",
       "      <td>Iris-setosa</td>\n",
       "      <td>1.3</td>\n",
       "      <td>0.2</td>\n",
       "      <td>5.5</td>\n",
       "      <td>3.5</td>\n",
       "    </tr>\n",
       "    <tr>\n",
       "      <th>82</th>\n",
       "      <td>Iris-setosa</td>\n",
       "      <td>1.4</td>\n",
       "      <td>0.3</td>\n",
       "      <td>5.1</td>\n",
       "      <td>3.5</td>\n",
       "    </tr>\n",
       "    <tr>\n",
       "      <th>83</th>\n",
       "      <td>Iris-setosa</td>\n",
       "      <td>1.4</td>\n",
       "      <td>0.2</td>\n",
       "      <td>5.0</td>\n",
       "      <td>3.3</td>\n",
       "    </tr>\n",
       "    <tr>\n",
       "      <th>84</th>\n",
       "      <td>Iris-setosa</td>\n",
       "      <td>1.6</td>\n",
       "      <td>0.2</td>\n",
       "      <td>4.8</td>\n",
       "      <td>3.4</td>\n",
       "    </tr>\n",
       "    <tr>\n",
       "      <th>85</th>\n",
       "      <td>Iris-setosa</td>\n",
       "      <td>1.5</td>\n",
       "      <td>0.2</td>\n",
       "      <td>4.6</td>\n",
       "      <td>3.1</td>\n",
       "    </tr>\n",
       "    <tr>\n",
       "      <th>86</th>\n",
       "      <td>Iris-setosa</td>\n",
       "      <td>1.4</td>\n",
       "      <td>0.3</td>\n",
       "      <td>4.8</td>\n",
       "      <td>3.0</td>\n",
       "    </tr>\n",
       "    <tr>\n",
       "      <th>87</th>\n",
       "      <td>Iris-setosa</td>\n",
       "      <td>1.6</td>\n",
       "      <td>0.6</td>\n",
       "      <td>5.0</td>\n",
       "      <td>3.5</td>\n",
       "    </tr>\n",
       "    <tr>\n",
       "      <th>88</th>\n",
       "      <td>Iris-setosa</td>\n",
       "      <td>1.5</td>\n",
       "      <td>0.2</td>\n",
       "      <td>5.2</td>\n",
       "      <td>3.5</td>\n",
       "    </tr>\n",
       "    <tr>\n",
       "      <th>89</th>\n",
       "      <td>Iris-setosa</td>\n",
       "      <td>1.5</td>\n",
       "      <td>0.1</td>\n",
       "      <td>4.9</td>\n",
       "      <td>3.1</td>\n",
       "    </tr>\n",
       "    <tr>\n",
       "      <th>90</th>\n",
       "      <td>Iris-setosa</td>\n",
       "      <td>1.4</td>\n",
       "      <td>0.2</td>\n",
       "      <td>5.5</td>\n",
       "      <td>4.2</td>\n",
       "    </tr>\n",
       "    <tr>\n",
       "      <th>91</th>\n",
       "      <td>Iris-setosa</td>\n",
       "      <td>1.5</td>\n",
       "      <td>0.4</td>\n",
       "      <td>5.4</td>\n",
       "      <td>3.4</td>\n",
       "    </tr>\n",
       "    <tr>\n",
       "      <th>92</th>\n",
       "      <td>Iris-setosa</td>\n",
       "      <td>1.5</td>\n",
       "      <td>0.1</td>\n",
       "      <td>5.2</td>\n",
       "      <td>4.1</td>\n",
       "    </tr>\n",
       "    <tr>\n",
       "      <th>93</th>\n",
       "      <td>Iris-setosa</td>\n",
       "      <td>1.0</td>\n",
       "      <td>0.2</td>\n",
       "      <td>4.6</td>\n",
       "      <td>3.6</td>\n",
       "    </tr>\n",
       "    <tr>\n",
       "      <th>94</th>\n",
       "      <td>Iris-setosa</td>\n",
       "      <td>1.6</td>\n",
       "      <td>0.2</td>\n",
       "      <td>5.1</td>\n",
       "      <td>3.8</td>\n",
       "    </tr>\n",
       "    <tr>\n",
       "      <th>95</th>\n",
       "      <td>Iris-setosa</td>\n",
       "      <td>1.4</td>\n",
       "      <td>0.2</td>\n",
       "      <td>4.6</td>\n",
       "      <td>3.2</td>\n",
       "    </tr>\n",
       "    <tr>\n",
       "      <th>96</th>\n",
       "      <td>Iris-setosa</td>\n",
       "      <td>1.4</td>\n",
       "      <td>0.2</td>\n",
       "      <td>4.4</td>\n",
       "      <td>2.9</td>\n",
       "    </tr>\n",
       "    <tr>\n",
       "      <th>97</th>\n",
       "      <td>Iris-setosa</td>\n",
       "      <td>1.5</td>\n",
       "      <td>0.3</td>\n",
       "      <td>5.1</td>\n",
       "      <td>3.8</td>\n",
       "    </tr>\n",
       "    <tr>\n",
       "      <th>98</th>\n",
       "      <td>Iris-setosa</td>\n",
       "      <td>1.4</td>\n",
       "      <td>0.2</td>\n",
       "      <td>5.0</td>\n",
       "      <td>3.6</td>\n",
       "    </tr>\n",
       "    <tr>\n",
       "      <th>99</th>\n",
       "      <td>Iris-setosa</td>\n",
       "      <td>1.3</td>\n",
       "      <td>0.2</td>\n",
       "      <td>4.7</td>\n",
       "      <td>3.2</td>\n",
       "    </tr>\n",
       "    <tr>\n",
       "      <th>100</th>\n",
       "      <td>Iris-setosa</td>\n",
       "      <td>1.5</td>\n",
       "      <td>0.2</td>\n",
       "      <td>5.0</td>\n",
       "      <td>3.4</td>\n",
       "    </tr>\n",
       "    <tr>\n",
       "      <th>101</th>\n",
       "      <td>Iris-setosa</td>\n",
       "      <td>1.7</td>\n",
       "      <td>0.3</td>\n",
       "      <td>5.7</td>\n",
       "      <td>3.8</td>\n",
       "    </tr>\n",
       "    <tr>\n",
       "      <th>102</th>\n",
       "      <td>Iris-setosa</td>\n",
       "      <td>1.3</td>\n",
       "      <td>0.4</td>\n",
       "      <td>5.4</td>\n",
       "      <td>3.9</td>\n",
       "    </tr>\n",
       "    <tr>\n",
       "      <th>103</th>\n",
       "      <td>Iris-setosa</td>\n",
       "      <td>1.9</td>\n",
       "      <td>0.4</td>\n",
       "      <td>5.1</td>\n",
       "      <td>3.8</td>\n",
       "    </tr>\n",
       "    <tr>\n",
       "      <th>104</th>\n",
       "      <td>Iris-setosa</td>\n",
       "      <td>1.6</td>\n",
       "      <td>0.2</td>\n",
       "      <td>5.0</td>\n",
       "      <td>3.0</td>\n",
       "    </tr>\n",
       "  </tbody>\n",
       "</table>\n",
       "</div>"
      ],
      "text/plain": [
       "           class  petal_length  petal_width  sepal_length  sepal_width\n",
       "70   Iris-setosa           1.4          0.2           4.9          3.0\n",
       "71   Iris-setosa           1.6          0.4           5.0          3.4\n",
       "72   Iris-setosa           1.4          0.1           4.8          3.0\n",
       "73   Iris-setosa           1.5          0.4           5.7          4.4\n",
       "74   Iris-setosa           1.4          0.2           5.2          3.4\n",
       "75   Iris-setosa           1.5          0.2           5.4          3.7\n",
       "76   Iris-setosa           1.5          0.2           5.1          3.4\n",
       "77   Iris-setosa           1.9          0.2           4.8          3.4\n",
       "78   Iris-setosa           1.5          0.4           5.1          3.7\n",
       "79   Iris-setosa           1.5          0.1           4.9          3.1\n",
       "80   Iris-setosa           1.3          0.2           4.4          3.2\n",
       "81   Iris-setosa           1.3          0.2           5.5          3.5\n",
       "82   Iris-setosa           1.4          0.3           5.1          3.5\n",
       "83   Iris-setosa           1.4          0.2           5.0          3.3\n",
       "84   Iris-setosa           1.6          0.2           4.8          3.4\n",
       "85   Iris-setosa           1.5          0.2           4.6          3.1\n",
       "86   Iris-setosa           1.4          0.3           4.8          3.0\n",
       "87   Iris-setosa           1.6          0.6           5.0          3.5\n",
       "88   Iris-setosa           1.5          0.2           5.2          3.5\n",
       "89   Iris-setosa           1.5          0.1           4.9          3.1\n",
       "90   Iris-setosa           1.4          0.2           5.5          4.2\n",
       "91   Iris-setosa           1.5          0.4           5.4          3.4\n",
       "92   Iris-setosa           1.5          0.1           5.2          4.1\n",
       "93   Iris-setosa           1.0          0.2           4.6          3.6\n",
       "94   Iris-setosa           1.6          0.2           5.1          3.8\n",
       "95   Iris-setosa           1.4          0.2           4.6          3.2\n",
       "96   Iris-setosa           1.4          0.2           4.4          2.9\n",
       "97   Iris-setosa           1.5          0.3           5.1          3.8\n",
       "98   Iris-setosa           1.4          0.2           5.0          3.6\n",
       "99   Iris-setosa           1.3          0.2           4.7          3.2\n",
       "100  Iris-setosa           1.5          0.2           5.0          3.4\n",
       "101  Iris-setosa           1.7          0.3           5.7          3.8\n",
       "102  Iris-setosa           1.3          0.4           5.4          3.9\n",
       "103  Iris-setosa           1.9          0.4           5.1          3.8\n",
       "104  Iris-setosa           1.6          0.2           5.0          3.0"
      ]
     },
     "execution_count": 31,
     "metadata": {},
     "output_type": "execute_result"
    }
   ],
   "source": [
    "cdata[cdata['class'] ==\"Iris-setosa\"]"
   ]
  },
  {
   "cell_type": "code",
   "execution_count": 34,
   "metadata": {},
   "outputs": [
    {
     "name": "stdout",
     "output_type": "stream",
     "text": [
      "[[5.58125    2.003125   6.74375    3.0125    ]\n",
      " [1.47714286 0.24571429 5.02857143 3.46571429]\n",
      " [4.29736842 1.39210526 5.8        2.71842105]]\n",
      "[0, 0, 0, 2, 0, 0, 0, 0, 0, 0, 2, 2, 0, 0, 0, 0, 0, 0, 2, 0, 0, 0, 0, 0, 0, 0, 2, 0, 0, 0, 0, 0, 2, 2, 0, 2, 2, 2, 2, 2, 2, 2, 2, 2, 2, 2, 2, 2, 2, 2, 0, 2, 2, 2, 2, 2, 2, 2, 0, 2, 2, 2, 2, 2, 2, 0, 2, 2, 2, 0, 1, 1, 1, 1, 1, 1, 1, 1, 1, 1, 1, 1, 1, 1, 1, 1, 1, 1, 1, 1, 1, 1, 1, 1, 1, 1, 1, 1, 1, 1, 1, 1, 1, 1, 1]\n"
     ]
    }
   ],
   "source": [
    "kmeans.fit(cdata.loc[:,\"petal_length\":\"sepal_width\"])\n",
    "\n",
    "centroids = kmeans.cluster_centers_\n",
    "labels = kmeans.labels_\n",
    "\n",
    "print(centroids)\n",
    "print(list(labels))"
   ]
  },
  {
   "cell_type": "code",
   "execution_count": 35,
   "metadata": {},
   "outputs": [],
   "source": [
    "l = [0, 0, 0, 2, 0, 0, 0, 0, 0, 0, 2, 2, 0, 0, 0, 0, 0, 0, 2, 0, 0, 0, 0, 0, 0, 0, 2, 0, 0, 0, 0, 0, 2, 2, 0, 2, 2, 2, 2, 2, 2, 2, 2, 2, 2, 2, 2, 2, 2, 2, 0, 2, 2, 2, 2, 2, 2, 2, 0, 2, 2, 2, 2, 2, 2, 0, 2, 2, 2, 0, 1, 1, 1, 1, 1, 1, 1, 1, 1, 1, 1, 1, 1, 1, 1, 1, 1, 1, 1, 1, 1, 1, 1, 1, 1, 1, 1, 1, 1, 1, 1, 1, 1, 1, 1]"
   ]
  },
  {
   "cell_type": "code",
   "execution_count": 36,
   "metadata": {},
   "outputs": [
    {
     "data": {
      "text/plain": [
       "38"
      ]
     },
     "execution_count": 36,
     "metadata": {},
     "output_type": "execute_result"
    }
   ],
   "source": [
    "l.count(2)"
   ]
  },
  {
   "cell_type": "code",
   "execution_count": 37,
   "metadata": {},
   "outputs": [
    {
     "data": {
      "text/plain": [
       "35"
      ]
     },
     "execution_count": 37,
     "metadata": {},
     "output_type": "execute_result"
    }
   ],
   "source": [
    "l.count(1)"
   ]
  },
  {
   "cell_type": "code",
   "execution_count": 38,
   "metadata": {},
   "outputs": [
    {
     "data": {
      "text/plain": [
       "32"
      ]
     },
     "execution_count": 38,
     "metadata": {},
     "output_type": "execute_result"
    }
   ],
   "source": [
    "l.count(0)"
   ]
  },
  {
   "cell_type": "code",
   "execution_count": 44,
   "metadata": {},
   "outputs": [
    {
     "name": "stdout",
     "output_type": "stream",
     "text": [
      "coordinate: class           Iris-virginica\n",
      "petal_length               5.5\n",
      "petal_width                1.8\n",
      "sepal_length               6.4\n",
      "sepal_width                3.1\n",
      "Name: 0, dtype: object label: 0\n",
      "coordinate: class           Iris-virginica\n",
      "petal_length               5.9\n",
      "petal_width                2.3\n",
      "sepal_length               6.8\n",
      "sepal_width                3.2\n",
      "Name: 1, dtype: object label: 0\n",
      "coordinate: class           Iris-virginica\n",
      "petal_length               5.4\n",
      "petal_width                2.3\n",
      "sepal_length               6.2\n",
      "sepal_width                3.4\n",
      "Name: 2, dtype: object label: 0\n",
      "coordinate: class           Iris-virginica\n",
      "petal_length               4.8\n",
      "petal_width                1.8\n",
      "sepal_length                 6\n",
      "sepal_width                  3\n",
      "Name: 3, dtype: object label: 2\n",
      "coordinate: class           Iris-virginica\n",
      "petal_length               5.1\n",
      "petal_width                2.3\n",
      "sepal_length               6.9\n",
      "sepal_width                3.1\n",
      "Name: 4, dtype: object label: 0\n",
      "coordinate: class           Iris-virginica\n",
      "petal_length               5.6\n",
      "petal_width                2.4\n",
      "sepal_length               6.3\n",
      "sepal_width                3.4\n",
      "Name: 5, dtype: object label: 0\n",
      "coordinate: class           Iris-virginica\n",
      "petal_length               5.2\n",
      "petal_width                2.3\n",
      "sepal_length               6.7\n",
      "sepal_width                  3\n",
      "Name: 6, dtype: object label: 0\n",
      "coordinate: class           Iris-virginica\n",
      "petal_length               6.7\n",
      "petal_width                  2\n",
      "sepal_length               7.7\n",
      "sepal_width                2.8\n",
      "Name: 7, dtype: object label: 0\n",
      "coordinate: class           Iris-virginica\n",
      "petal_length               5.8\n",
      "petal_width                2.2\n",
      "sepal_length               6.5\n",
      "sepal_width                  3\n",
      "Name: 8, dtype: object label: 0\n",
      "coordinate: class           Iris-virginica\n",
      "petal_length               5.3\n",
      "petal_width                1.9\n",
      "sepal_length               6.4\n",
      "sepal_width                2.7\n",
      "Name: 9, dtype: object label: 0\n",
      "coordinate: class           Iris-virginica\n",
      "petal_length                 5\n",
      "petal_width                  2\n",
      "sepal_length               5.7\n",
      "sepal_width                2.5\n",
      "Name: 10, dtype: object label: 2\n",
      "coordinate: class           Iris-virginica\n",
      "petal_length               5.1\n",
      "petal_width                1.9\n",
      "sepal_length               5.8\n",
      "sepal_width                2.7\n",
      "Name: 11, dtype: object label: 2\n",
      "coordinate: class           Iris-virginica\n",
      "petal_length               5.6\n",
      "petal_width                1.8\n",
      "sepal_length               6.3\n",
      "sepal_width                2.9\n",
      "Name: 12, dtype: object label: 0\n",
      "coordinate: class           Iris-virginica\n",
      "petal_length                 5\n",
      "petal_width                1.9\n",
      "sepal_length               6.3\n",
      "sepal_width                2.5\n",
      "Name: 13, dtype: object label: 0\n",
      "coordinate: class           Iris-virginica\n",
      "petal_length               5.8\n",
      "petal_width                1.8\n",
      "sepal_length               6.7\n",
      "sepal_width                2.5\n",
      "Name: 14, dtype: object label: 0\n",
      "coordinate: class           Iris-virginica\n",
      "petal_length               5.7\n",
      "petal_width                2.1\n",
      "sepal_length               6.7\n",
      "sepal_width                3.3\n",
      "Name: 15, dtype: object label: 0\n",
      "coordinate: class           Iris-virginica\n",
      "petal_length               5.5\n",
      "petal_width                1.8\n",
      "sepal_length               6.5\n",
      "sepal_width                  3\n",
      "Name: 16, dtype: object label: 0\n",
      "coordinate: class           Iris-virginica\n",
      "petal_length               5.6\n",
      "petal_width                1.4\n",
      "sepal_length               6.1\n",
      "sepal_width                2.6\n",
      "Name: 17, dtype: object label: 0\n",
      "coordinate: class           Iris-virginica\n",
      "petal_length                 5\n",
      "petal_width                1.5\n",
      "sepal_length                 6\n",
      "sepal_width                2.2\n",
      "Name: 18, dtype: object label: 2\n",
      "coordinate: class           Iris-virginica\n",
      "petal_length               5.2\n",
      "petal_width                  2\n",
      "sepal_length               6.5\n",
      "sepal_width                  3\n",
      "Name: 19, dtype: object label: 0\n",
      "coordinate: class           Iris-virginica\n",
      "petal_length               6.1\n",
      "petal_width                1.9\n",
      "sepal_length               7.4\n",
      "sepal_width                2.8\n",
      "Name: 20, dtype: object label: 0\n",
      "coordinate: class           Iris-virginica\n",
      "petal_length               6.1\n",
      "petal_width                2.3\n",
      "sepal_length               7.7\n",
      "sepal_width                  3\n",
      "Name: 21, dtype: object label: 0\n",
      "coordinate: class           Iris-virginica\n",
      "petal_length               6.1\n",
      "petal_width                2.5\n",
      "sepal_length               7.2\n",
      "sepal_width                3.6\n",
      "Name: 22, dtype: object label: 0\n",
      "coordinate: class           Iris-virginica\n",
      "petal_length               5.9\n",
      "petal_width                2.1\n",
      "sepal_length               7.1\n",
      "sepal_width                  3\n",
      "Name: 23, dtype: object label: 0\n",
      "coordinate: class           Iris-virginica\n",
      "petal_length                 6\n",
      "petal_width                2.5\n",
      "sepal_length               6.3\n",
      "sepal_width                3.3\n",
      "Name: 24, dtype: object label: 0\n",
      "coordinate: class           Iris-virginica\n",
      "petal_length               5.1\n",
      "petal_width                1.5\n",
      "sepal_length               6.3\n",
      "sepal_width                2.8\n",
      "Name: 25, dtype: object label: 0\n",
      "coordinate: class           Iris-virginica\n",
      "petal_length               5.1\n",
      "petal_width                1.9\n",
      "sepal_length               5.8\n",
      "sepal_width                2.7\n",
      "Name: 26, dtype: object label: 2\n",
      "coordinate: class           Iris-virginica\n",
      "petal_length                 6\n",
      "petal_width                1.8\n",
      "sepal_length               7.2\n",
      "sepal_width                3.2\n",
      "Name: 27, dtype: object label: 0\n",
      "coordinate: class           Iris-virginica\n",
      "petal_length               5.7\n",
      "petal_width                2.5\n",
      "sepal_length               6.7\n",
      "sepal_width                3.3\n",
      "Name: 28, dtype: object label: 0\n",
      "coordinate: class           Iris-virginica\n",
      "petal_length               6.9\n",
      "petal_width                2.3\n",
      "sepal_length               7.7\n",
      "sepal_width                2.6\n",
      "Name: 29, dtype: object label: 0\n",
      "coordinate: class           Iris-virginica\n",
      "petal_length               5.7\n",
      "petal_width                2.3\n",
      "sepal_length               6.9\n",
      "sepal_width                3.2\n",
      "Name: 30, dtype: object label: 0\n",
      "coordinate: class           Iris-virginica\n",
      "petal_length               5.6\n",
      "petal_width                2.1\n",
      "sepal_length               6.4\n",
      "sepal_width                2.8\n",
      "Name: 31, dtype: object label: 0\n",
      "coordinate: class           Iris-virginica\n",
      "petal_length               4.8\n",
      "petal_width                1.8\n",
      "sepal_length               6.2\n",
      "sepal_width                2.8\n",
      "Name: 32, dtype: object label: 2\n",
      "coordinate: class           Iris-virginica\n",
      "petal_length               4.5\n",
      "petal_width                1.7\n",
      "sepal_length               4.9\n",
      "sepal_width                2.5\n",
      "Name: 33, dtype: object label: 2\n",
      "coordinate: class           Iris-virginica\n",
      "petal_length               5.1\n",
      "petal_width                  2\n",
      "sepal_length               6.5\n",
      "sepal_width                3.2\n",
      "Name: 34, dtype: object label: 0\n",
      "coordinate: class           Iris-versicolor\n",
      "petal_length                4.8\n",
      "petal_width                 1.8\n",
      "sepal_length                5.9\n",
      "sepal_width                 3.2\n",
      "Name: 35, dtype: object label: 2\n",
      "coordinate: class           Iris-versicolor\n",
      "petal_length                4.1\n",
      "petal_width                 1.3\n",
      "sepal_length                5.7\n",
      "sepal_width                 2.8\n",
      "Name: 36, dtype: object label: 2\n",
      "coordinate: class           Iris-versicolor\n",
      "petal_length                  4\n",
      "petal_width                 1.3\n",
      "sepal_length                6.1\n",
      "sepal_width                 2.8\n",
      "Name: 37, dtype: object label: 2\n",
      "coordinate: class           Iris-versicolor\n",
      "petal_length                3.6\n",
      "petal_width                 1.3\n",
      "sepal_length                5.6\n",
      "sepal_width                 2.9\n",
      "Name: 38, dtype: object label: 2\n",
      "coordinate: class           Iris-versicolor\n",
      "petal_length                3.9\n",
      "petal_width                 1.1\n",
      "sepal_length                5.6\n",
      "sepal_width                 2.5\n",
      "Name: 39, dtype: object label: 2\n",
      "coordinate: class           Iris-versicolor\n",
      "petal_length                4.1\n",
      "petal_width                   1\n",
      "sepal_length                5.8\n",
      "sepal_width                 2.7\n",
      "Name: 40, dtype: object label: 2\n",
      "coordinate: class           Iris-versicolor\n",
      "petal_length                4.9\n",
      "petal_width                 1.5\n",
      "sepal_length                6.3\n",
      "sepal_width                 2.5\n",
      "Name: 41, dtype: object label: 2\n",
      "coordinate: class           Iris-versicolor\n",
      "petal_length                3.5\n",
      "petal_width                   1\n",
      "sepal_length                  5\n",
      "sepal_width                   2\n",
      "Name: 42, dtype: object label: 2\n",
      "coordinate: class           Iris-versicolor\n",
      "petal_length                4.4\n",
      "petal_width                 1.4\n",
      "sepal_length                6.6\n",
      "sepal_width                   3\n",
      "Name: 43, dtype: object label: 2\n",
      "coordinate: class           Iris-versicolor\n",
      "petal_length                4.7\n",
      "petal_width                 1.4\n",
      "sepal_length                6.1\n",
      "sepal_width                 2.9\n",
      "Name: 44, dtype: object label: 2\n",
      "coordinate: class           Iris-versicolor\n",
      "petal_length                  4\n",
      "petal_width                   1\n",
      "sepal_length                  6\n",
      "sepal_width                 2.2\n",
      "Name: 45, dtype: object label: 2\n",
      "coordinate: class           Iris-versicolor\n",
      "petal_length                4.5\n",
      "petal_width                 1.5\n",
      "sepal_length                6.4\n",
      "sepal_width                 3.2\n",
      "Name: 46, dtype: object label: 2\n",
      "coordinate: class           Iris-versicolor\n",
      "petal_length                4.4\n",
      "petal_width                 1.2\n",
      "sepal_length                5.5\n",
      "sepal_width                 2.6\n",
      "Name: 47, dtype: object label: 2\n",
      "coordinate: class           Iris-versicolor\n",
      "petal_length                3.5\n",
      "petal_width                   1\n",
      "sepal_length                5.7\n",
      "sepal_width                 2.6\n",
      "Name: 48, dtype: object label: 2\n",
      "coordinate: class           Iris-versicolor\n",
      "petal_length                4.7\n",
      "petal_width                 1.6\n",
      "sepal_length                6.3\n",
      "sepal_width                 3.3\n",
      "Name: 49, dtype: object label: 2\n",
      "coordinate: class           Iris-versicolor\n",
      "petal_length                4.8\n",
      "petal_width                 1.4\n",
      "sepal_length                6.8\n",
      "sepal_width                 2.8\n",
      "Name: 50, dtype: object label: 0\n",
      "coordinate: class           Iris-versicolor\n",
      "petal_length                4.5\n",
      "petal_width                 1.5\n",
      "sepal_length                6.2\n",
      "sepal_width                 2.2\n",
      "Name: 51, dtype: object label: 2\n",
      "coordinate: class           Iris-versicolor\n",
      "petal_length                4.2\n",
      "petal_width                 1.2\n",
      "sepal_length                5.7\n",
      "sepal_width                   3\n",
      "Name: 52, dtype: object label: 2\n",
      "coordinate: class           Iris-versicolor\n",
      "petal_length                  3\n",
      "petal_width                 1.1\n",
      "sepal_length                5.1\n",
      "sepal_width                 2.5\n",
      "Name: 53, dtype: object label: 2\n",
      "coordinate: class           Iris-versicolor\n",
      "petal_length                3.7\n",
      "petal_width                   1\n",
      "sepal_length                5.5\n",
      "sepal_width                 2.4\n",
      "Name: 54, dtype: object label: 2\n",
      "coordinate: class           Iris-versicolor\n",
      "petal_length                4.4\n",
      "petal_width                 1.4\n",
      "sepal_length                6.7\n",
      "sepal_width                 3.1\n",
      "Name: 55, dtype: object label: 2\n",
      "coordinate: class           Iris-versicolor\n",
      "petal_length                4.2\n",
      "petal_width                 1.3\n",
      "sepal_length                5.7\n",
      "sepal_width                 2.9\n",
      "Name: 56, dtype: object label: 2\n",
      "coordinate: class           Iris-versicolor\n",
      "petal_length                4.2\n",
      "petal_width                 1.3\n",
      "sepal_length                5.6\n",
      "sepal_width                 2.7\n",
      "Name: 57, dtype: object label: 2\n",
      "coordinate: class           Iris-versicolor\n",
      "petal_length                  5\n",
      "petal_width                 1.7\n",
      "sepal_length                6.7\n",
      "sepal_width                   3\n",
      "Name: 58, dtype: object label: 0\n",
      "coordinate: class           Iris-versicolor\n",
      "petal_length                3.8\n",
      "petal_width                 1.1\n",
      "sepal_length                5.5\n",
      "sepal_width                 2.4\n",
      "Name: 59, dtype: object label: 2\n",
      "coordinate: class           Iris-versicolor\n",
      "petal_length                3.3\n",
      "petal_width                   1\n",
      "sepal_length                  5\n",
      "sepal_width                 2.3\n",
      "Name: 60, dtype: object label: 2\n",
      "coordinate: class           Iris-versicolor\n",
      "petal_length                4.1\n",
      "petal_width                 1.3\n",
      "sepal_length                5.6\n",
      "sepal_width                   3\n",
      "Name: 61, dtype: object label: 2\n",
      "coordinate: class           Iris-versicolor\n",
      "petal_length                4.5\n",
      "petal_width                 1.6\n",
      "sepal_length                  6\n",
      "sepal_width                 3.4\n",
      "Name: 62, dtype: object label: 2\n",
      "coordinate: class           Iris-versicolor\n",
      "petal_length                4.5\n",
      "petal_width                 1.5\n",
      "sepal_length                5.4\n",
      "sepal_width                   3\n",
      "Name: 63, dtype: object label: 2\n",
      "coordinate: class           Iris-versicolor\n",
      "petal_length                4.6\n",
      "petal_width                 1.5\n",
      "sepal_length                6.5\n",
      "sepal_width                 2.8\n",
      "Name: 64, dtype: object label: 2\n",
      "coordinate: class           Iris-versicolor\n",
      "petal_length                4.9\n",
      "petal_width                 1.5\n",
      "sepal_length                6.9\n",
      "sepal_width                 3.1\n",
      "Name: 65, dtype: object label: 0\n",
      "coordinate: class           Iris-versicolor\n",
      "petal_length                3.3\n",
      "petal_width                   1\n",
      "sepal_length                4.9\n",
      "sepal_width                 2.4\n",
      "Name: 66, dtype: object label: 2\n",
      "coordinate: class           Iris-versicolor\n",
      "petal_length                4.5\n",
      "petal_width                 1.5\n",
      "sepal_length                  6\n",
      "sepal_width                 2.9\n",
      "Name: 67, dtype: object label: 2\n",
      "coordinate: class           Iris-versicolor\n",
      "petal_length                5.1\n",
      "petal_width                 1.6\n",
      "sepal_length                  6\n",
      "sepal_width                 2.7\n",
      "Name: 68, dtype: object label: 2\n",
      "coordinate: class           Iris-versicolor\n",
      "petal_length                4.7\n",
      "petal_width                 1.4\n",
      "sepal_length                  7\n",
      "sepal_width                 3.2\n",
      "Name: 69, dtype: object label: 0\n",
      "coordinate: class           Iris-setosa\n",
      "petal_length            1.4\n",
      "petal_width             0.2\n",
      "sepal_length            4.9\n",
      "sepal_width               3\n",
      "Name: 70, dtype: object label: 1\n",
      "coordinate: class           Iris-setosa\n",
      "petal_length            1.6\n",
      "petal_width             0.4\n",
      "sepal_length              5\n",
      "sepal_width             3.4\n",
      "Name: 71, dtype: object label: 1\n",
      "coordinate: class           Iris-setosa\n",
      "petal_length            1.4\n",
      "petal_width             0.1\n",
      "sepal_length            4.8\n",
      "sepal_width               3\n",
      "Name: 72, dtype: object label: 1\n",
      "coordinate: class           Iris-setosa\n",
      "petal_length            1.5\n",
      "petal_width             0.4\n",
      "sepal_length            5.7\n",
      "sepal_width             4.4\n",
      "Name: 73, dtype: object label: 1\n",
      "coordinate: class           Iris-setosa\n",
      "petal_length            1.4\n",
      "petal_width             0.2\n",
      "sepal_length            5.2\n",
      "sepal_width             3.4\n",
      "Name: 74, dtype: object label: 1\n",
      "coordinate: class           Iris-setosa\n",
      "petal_length            1.5\n",
      "petal_width             0.2\n",
      "sepal_length            5.4\n",
      "sepal_width             3.7\n",
      "Name: 75, dtype: object label: 1\n",
      "coordinate: class           Iris-setosa\n",
      "petal_length            1.5\n",
      "petal_width             0.2\n",
      "sepal_length            5.1\n",
      "sepal_width             3.4\n",
      "Name: 76, dtype: object label: 1\n",
      "coordinate: class           Iris-setosa\n",
      "petal_length            1.9\n",
      "petal_width             0.2\n",
      "sepal_length            4.8\n",
      "sepal_width             3.4\n",
      "Name: 77, dtype: object label: 1\n",
      "coordinate: class           Iris-setosa\n",
      "petal_length            1.5\n",
      "petal_width             0.4\n",
      "sepal_length            5.1\n",
      "sepal_width             3.7\n",
      "Name: 78, dtype: object label: 1\n",
      "coordinate: class           Iris-setosa\n",
      "petal_length            1.5\n",
      "petal_width             0.1\n",
      "sepal_length            4.9\n",
      "sepal_width             3.1\n",
      "Name: 79, dtype: object label: 1\n",
      "coordinate: class           Iris-setosa\n",
      "petal_length            1.3\n",
      "petal_width             0.2\n",
      "sepal_length            4.4\n",
      "sepal_width             3.2\n",
      "Name: 80, dtype: object label: 1\n",
      "coordinate: class           Iris-setosa\n",
      "petal_length            1.3\n",
      "petal_width             0.2\n",
      "sepal_length            5.5\n",
      "sepal_width             3.5\n",
      "Name: 81, dtype: object label: 1\n",
      "coordinate: class           Iris-setosa\n",
      "petal_length            1.4\n",
      "petal_width             0.3\n",
      "sepal_length            5.1\n",
      "sepal_width             3.5\n",
      "Name: 82, dtype: object label: 1\n",
      "coordinate: class           Iris-setosa\n",
      "petal_length            1.4\n",
      "petal_width             0.2\n",
      "sepal_length              5\n",
      "sepal_width             3.3\n",
      "Name: 83, dtype: object label: 1\n",
      "coordinate: class           Iris-setosa\n",
      "petal_length            1.6\n",
      "petal_width             0.2\n",
      "sepal_length            4.8\n",
      "sepal_width             3.4\n",
      "Name: 84, dtype: object label: 1\n",
      "coordinate: class           Iris-setosa\n",
      "petal_length            1.5\n",
      "petal_width             0.2\n",
      "sepal_length            4.6\n",
      "sepal_width             3.1\n",
      "Name: 85, dtype: object label: 1\n",
      "coordinate: class           Iris-setosa\n",
      "petal_length            1.4\n",
      "petal_width             0.3\n",
      "sepal_length            4.8\n",
      "sepal_width               3\n",
      "Name: 86, dtype: object label: 1\n",
      "coordinate: class           Iris-setosa\n",
      "petal_length            1.6\n",
      "petal_width             0.6\n",
      "sepal_length              5\n",
      "sepal_width             3.5\n",
      "Name: 87, dtype: object label: 1\n",
      "coordinate: class           Iris-setosa\n",
      "petal_length            1.5\n",
      "petal_width             0.2\n",
      "sepal_length            5.2\n",
      "sepal_width             3.5\n",
      "Name: 88, dtype: object label: 1\n",
      "coordinate: class           Iris-setosa\n",
      "petal_length            1.5\n",
      "petal_width             0.1\n",
      "sepal_length            4.9\n",
      "sepal_width             3.1\n",
      "Name: 89, dtype: object label: 1\n",
      "coordinate: class           Iris-setosa\n",
      "petal_length            1.4\n",
      "petal_width             0.2\n",
      "sepal_length            5.5\n",
      "sepal_width             4.2\n",
      "Name: 90, dtype: object label: 1\n",
      "coordinate: class           Iris-setosa\n",
      "petal_length            1.5\n",
      "petal_width             0.4\n",
      "sepal_length            5.4\n",
      "sepal_width             3.4\n",
      "Name: 91, dtype: object label: 1\n",
      "coordinate: class           Iris-setosa\n",
      "petal_length            1.5\n",
      "petal_width             0.1\n",
      "sepal_length            5.2\n",
      "sepal_width             4.1\n",
      "Name: 92, dtype: object label: 1\n",
      "coordinate: class           Iris-setosa\n",
      "petal_length              1\n",
      "petal_width             0.2\n",
      "sepal_length            4.6\n",
      "sepal_width             3.6\n",
      "Name: 93, dtype: object label: 1\n",
      "coordinate: class           Iris-setosa\n",
      "petal_length            1.6\n",
      "petal_width             0.2\n",
      "sepal_length            5.1\n",
      "sepal_width             3.8\n",
      "Name: 94, dtype: object label: 1\n",
      "coordinate: class           Iris-setosa\n",
      "petal_length            1.4\n",
      "petal_width             0.2\n",
      "sepal_length            4.6\n",
      "sepal_width             3.2\n",
      "Name: 95, dtype: object label: 1\n",
      "coordinate: class           Iris-setosa\n",
      "petal_length            1.4\n",
      "petal_width             0.2\n",
      "sepal_length            4.4\n",
      "sepal_width             2.9\n",
      "Name: 96, dtype: object label: 1\n",
      "coordinate: class           Iris-setosa\n",
      "petal_length            1.5\n",
      "petal_width             0.3\n",
      "sepal_length            5.1\n",
      "sepal_width             3.8\n",
      "Name: 97, dtype: object label: 1\n",
      "coordinate: class           Iris-setosa\n",
      "petal_length            1.4\n",
      "petal_width             0.2\n",
      "sepal_length              5\n",
      "sepal_width             3.6\n",
      "Name: 98, dtype: object label: 1\n",
      "coordinate: class           Iris-setosa\n",
      "petal_length            1.3\n",
      "petal_width             0.2\n",
      "sepal_length            4.7\n",
      "sepal_width             3.2\n",
      "Name: 99, dtype: object label: 1\n",
      "coordinate: class           Iris-setosa\n",
      "petal_length            1.5\n",
      "petal_width             0.2\n",
      "sepal_length              5\n",
      "sepal_width             3.4\n",
      "Name: 100, dtype: object label: 1\n",
      "coordinate: class           Iris-setosa\n",
      "petal_length            1.7\n",
      "petal_width             0.3\n",
      "sepal_length            5.7\n",
      "sepal_width             3.8\n",
      "Name: 101, dtype: object label: 1\n",
      "coordinate: class           Iris-setosa\n",
      "petal_length            1.3\n",
      "petal_width             0.4\n",
      "sepal_length            5.4\n",
      "sepal_width             3.9\n",
      "Name: 102, dtype: object label: 1\n",
      "coordinate: class           Iris-setosa\n",
      "petal_length            1.9\n",
      "petal_width             0.4\n",
      "sepal_length            5.1\n",
      "sepal_width             3.8\n",
      "Name: 103, dtype: object label: 1\n",
      "coordinate: class           Iris-setosa\n",
      "petal_length            1.6\n",
      "petal_width             0.2\n",
      "sepal_length              5\n",
      "sepal_width               3\n",
      "Name: 104, dtype: object label: 1\n"
     ]
    }
   ],
   "source": [
    "\n",
    "for i in range(cdata.shape[0]):\n",
    "    print(\"coordinate:\",cdata.iloc[i], \"label:\", labels[i])"
   ]
  },
  {
   "cell_type": "code",
   "execution_count": 45,
   "metadata": {},
   "outputs": [
    {
     "data": {
      "text/plain": [
       "<matplotlib.collections.PathCollection at 0x7fb827c63dd8>"
      ]
     },
     "execution_count": 45,
     "metadata": {},
     "output_type": "execute_result"
    },
    {
     "data": {
      "image/png": "[encoded data removed]",
      "text/plain": [
       "<Figure size 432x288 with 1 Axes>"
      ]
     },
     "metadata": {},
     "output_type": "display_data"
    }
   ],
   "source": [
    "import numpy as np\n",
    "from scipy.cluster.hierarchy import linkage,dendrogram\n",
    "import matplotlib.pyplot as plt\n",
    "\n",
    "x=np.array([[1,1],[1.1,1.1],[3,3],[4,4],[3,3.5],[3.5,4]])\n",
    "\n",
    "plt.scatter(x[:,0],x[:,1],s=50)"
   ]
  },
  {
   "cell_type": "code",
   "execution_count": 57,
   "metadata": {},
   "outputs": [],
   "source": [
    "linkage_matrix=linkage(cdata.loc[:,\"petal_length\":\"sepal_width\"],\"single\")\n"
   ]
  },
  {
   "cell_type": "code",
   "execution_count": 58,
   "metadata": {
    "scrolled": true
   },
   "outputs": [
    {
     "data": {
      "text/plain": [
       "array([[1.10000000e+01, 2.60000000e+01, 0.00000000e+00, 2.00000000e+00],\n",
       "       [7.90000000e+01, 8.90000000e+01, 0.00000000e+00, 2.00000000e+00],\n",
       "       [7.60000000e+01, 1.00000000e+02, 1.00000000e-01, 2.00000000e+00],\n",
       "       [7.80000000e+01, 9.70000000e+01, 1.41421356e-01, 2.00000000e+00],\n",
       "       [0.00000000e+00, 1.60000000e+01, 1.41421356e-01, 2.00000000e+00],\n",
       "       [5.40000000e+01, 5.90000000e+01, 1.41421356e-01, 2.00000000e+00],\n",
       "       [6.00000000e+01, 6.60000000e+01, 1.41421356e-01, 2.00000000e+00],\n",
       "       [9.40000000e+01, 1.08000000e+02, 1.41421356e-01, 3.00000000e+00],\n",
       "       [5.20000000e+01, 5.60000000e+01, 1.41421356e-01, 2.00000000e+00],\n",
       "       [8.30000000e+01, 1.07000000e+02, 1.41421356e-01, 3.00000000e+00],\n",
       "       [7.40000000e+01, 8.80000000e+01, 1.41421356e-01, 2.00000000e+00],\n",
       "       [8.50000000e+01, 9.50000000e+01, 1.41421356e-01, 2.00000000e+00],\n",
       "       [9.90000000e+01, 1.16000000e+02, 1.41421356e-01, 3.00000000e+00],\n",
       "       [7.00000000e+01, 8.60000000e+01, 1.41421356e-01, 2.00000000e+00],\n",
       "       [7.20000000e+01, 1.18000000e+02, 1.41421356e-01, 3.00000000e+00],\n",
       "       [4.30000000e+01, 5.50000000e+01, 1.41421356e-01, 2.00000000e+00],\n",
       "       [3.60000000e+01, 1.13000000e+02, 1.41421356e-01, 3.00000000e+00],\n",
       "       [1.14000000e+02, 1.15000000e+02, 1.41421356e-01, 5.00000000e+00],\n",
       "       [8.20000000e+01, 9.80000000e+01, 1.73205081e-01, 2.00000000e+00],\n",
       "       [3.90000000e+01, 1.10000000e+02, 1.73205081e-01, 3.00000000e+00],\n",
       "       [1.22000000e+02, 1.23000000e+02, 1.73205081e-01, 7.00000000e+00],\n",
       "       [1.06000000e+02, 1.19000000e+02, 1.73205081e-01, 5.00000000e+00],\n",
       "       [5.70000000e+01, 1.21000000e+02, 1.73205081e-01, 4.00000000e+00],\n",
       "       [6.10000000e+01, 1.27000000e+02, 1.73205081e-01, 5.00000000e+00],\n",
       "       [1.04000000e+02, 1.26000000e+02, 2.00000000e-01, 6.00000000e+00],\n",
       "       [8.00000000e+01, 1.17000000e+02, 2.23606798e-01, 4.00000000e+00],\n",
       "       [3.00000000e+00, 3.50000000e+01, 2.23606798e-01, 2.00000000e+00],\n",
       "       [7.10000000e+01, 8.70000000e+01, 2.23606798e-01, 2.00000000e+00],\n",
       "       [1.25000000e+02, 1.32000000e+02, 2.23606798e-01, 9.00000000e+00],\n",
       "       [8.40000000e+01, 1.33000000e+02, 2.23606798e-01, 1.00000000e+01],\n",
       "       [1.90000000e+01, 3.40000000e+01, 2.23606798e-01, 2.00000000e+00],\n",
       "       [1.00000000e+00, 3.00000000e+01, 2.23606798e-01, 2.00000000e+00],\n",
       "       [2.00000000e+00, 5.00000000e+00, 2.44948974e-01, 2.00000000e+00],\n",
       "       [4.40000000e+01, 6.70000000e+01, 2.44948974e-01, 2.00000000e+00],\n",
       "       [1.20000000e+01, 1.09000000e+02, 2.44948974e-01, 3.00000000e+00],\n",
       "       [1.12000000e+02, 1.34000000e+02, 2.44948974e-01, 1.30000000e+01],\n",
       "       [4.00000000e+00, 6.00000000e+00, 2.44948974e-01, 2.00000000e+00],\n",
       "       [1.29000000e+02, 1.40000000e+02, 2.64575131e-01, 1.90000000e+01],\n",
       "       [1.00000000e+01, 1.05000000e+02, 2.64575131e-01, 3.00000000e+00],\n",
       "       [1.30000000e+02, 1.42000000e+02, 2.64575131e-01, 2.30000000e+01],\n",
       "       [6.50000000e+01, 6.90000000e+01, 2.64575131e-01, 2.00000000e+00],\n",
       "       [4.70000000e+01, 1.28000000e+02, 2.64575131e-01, 6.00000000e+00],\n",
       "       [4.60000000e+01, 4.90000000e+01, 2.64575131e-01, 2.00000000e+00],\n",
       "       [3.20000000e+01, 1.31000000e+02, 2.82842712e-01, 3.00000000e+00],\n",
       "       [7.50000000e+01, 1.44000000e+02, 2.82842712e-01, 2.40000000e+01],\n",
       "       [9.60000000e+01, 1.49000000e+02, 3.00000000e-01, 2.50000000e+01],\n",
       "       [1.50000000e+01, 1.36000000e+02, 3.00000000e-01, 3.00000000e+00],\n",
       "       [7.70000000e+01, 1.50000000e+02, 3.00000000e-01, 2.60000000e+01],\n",
       "       [8.10000000e+01, 1.52000000e+02, 3.00000000e-01, 2.70000000e+01],\n",
       "       [2.80000000e+01, 1.51000000e+02, 3.00000000e-01, 4.00000000e+00],\n",
       "       [9.10000000e+01, 1.53000000e+02, 3.00000000e-01, 2.80000000e+01],\n",
       "       [6.40000000e+01, 1.20000000e+02, 3.16227766e-01, 3.00000000e+00],\n",
       "       [1.47000000e+02, 1.56000000e+02, 3.16227766e-01, 5.00000000e+00],\n",
       "       [5.80000000e+01, 1.45000000e+02, 3.16227766e-01, 3.00000000e+00],\n",
       "       [8.00000000e+00, 3.10000000e+01, 3.16227766e-01, 2.00000000e+00],\n",
       "       [2.50000000e+01, 6.80000000e+01, 3.31662479e-01, 2.00000000e+00],\n",
       "       [4.00000000e+01, 1.46000000e+02, 3.31662479e-01, 7.00000000e+00],\n",
       "       [1.39000000e+02, 1.59000000e+02, 3.31662479e-01, 5.00000000e+00],\n",
       "       [9.00000000e+00, 1.35000000e+02, 3.46410162e-01, 3.00000000e+00],\n",
       "       [1.02000000e+02, 1.55000000e+02, 3.46410162e-01, 2.90000000e+01],\n",
       "       [9.20000000e+01, 1.64000000e+02, 3.46410162e-01, 3.00000000e+01],\n",
       "       [9.00000000e+01, 1.65000000e+02, 3.46410162e-01, 3.10000000e+01],\n",
       "       [4.80000000e+01, 1.24000000e+02, 3.46410162e-01, 4.00000000e+00],\n",
       "       [5.00000000e+01, 1.58000000e+02, 3.46410162e-01, 4.00000000e+00],\n",
       "       [4.10000000e+01, 1.60000000e+02, 3.60555128e-01, 3.00000000e+00],\n",
       "       [1.62000000e+02, 1.63000000e+02, 3.60555128e-01, 8.00000000e+00],\n",
       "       [1.03000000e+02, 1.66000000e+02, 3.60555128e-01, 3.20000000e+01],\n",
       "       [1.41000000e+02, 1.70000000e+02, 3.60555128e-01, 1.00000000e+01],\n",
       "       [1.43000000e+02, 1.69000000e+02, 3.60555128e-01, 6.00000000e+00],\n",
       "       [4.20000000e+01, 1.11000000e+02, 3.60555128e-01, 3.00000000e+00],\n",
       "       [1.61000000e+02, 1.67000000e+02, 3.60555128e-01, 1.10000000e+01],\n",
       "       [7.30000000e+01, 1.71000000e+02, 3.60555128e-01, 3.30000000e+01],\n",
       "       [1.57000000e+02, 1.68000000e+02, 3.74165739e-01, 9.00000000e+00],\n",
       "       [6.20000000e+01, 1.77000000e+02, 3.74165739e-01, 1.00000000e+01],\n",
       "       [1.30000000e+01, 1.72000000e+02, 3.74165739e-01, 1.10000000e+01],\n",
       "       [5.30000000e+01, 1.74000000e+02, 3.87298335e-01, 4.00000000e+00],\n",
       "       [1.01000000e+02, 1.76000000e+02, 3.87298335e-01, 3.40000000e+01],\n",
       "       [1.48000000e+02, 1.79000000e+02, 3.87298335e-01, 1.40000000e+01],\n",
       "       [1.54000000e+02, 1.82000000e+02, 3.87298335e-01, 1.80000000e+01],\n",
       "       [2.30000000e+01, 2.70000000e+01, 3.87298335e-01, 2.00000000e+00],\n",
       "       [1.83000000e+02, 1.84000000e+02, 4.00000000e-01, 2.00000000e+01],\n",
       "       [3.70000000e+01, 1.75000000e+02, 4.12310563e-01, 1.20000000e+01],\n",
       "       [1.73000000e+02, 1.85000000e+02, 4.12310563e-01, 2.60000000e+01],\n",
       "       [7.00000000e+00, 2.90000000e+01, 4.12310563e-01, 2.00000000e+00],\n",
       "       [1.78000000e+02, 1.87000000e+02, 4.12310563e-01, 3.60000000e+01],\n",
       "       [2.40000000e+01, 1.37000000e+02, 4.24264069e-01, 3.00000000e+00],\n",
       "       [1.80000000e+01, 1.89000000e+02, 4.35889894e-01, 3.70000000e+01],\n",
       "       [1.38000000e+02, 1.91000000e+02, 4.35889894e-01, 3.90000000e+01],\n",
       "       [1.90000000e+02, 1.92000000e+02, 4.35889894e-01, 4.20000000e+01],\n",
       "       [3.80000000e+01, 1.86000000e+02, 4.47213595e-01, 1.30000000e+01],\n",
       "       [2.00000000e+01, 1.93000000e+02, 4.58257569e-01, 4.30000000e+01],\n",
       "       [1.94000000e+02, 1.95000000e+02, 4.69041576e-01, 5.60000000e+01],\n",
       "       [6.30000000e+01, 1.96000000e+02, 4.79583152e-01, 5.70000000e+01],\n",
       "       [9.30000000e+01, 1.81000000e+02, 5.09901951e-01, 3.50000000e+01],\n",
       "       [5.10000000e+01, 1.97000000e+02, 5.09901951e-01, 5.80000000e+01],\n",
       "       [4.50000000e+01, 1.99000000e+02, 5.19615242e-01, 5.90000000e+01],\n",
       "       [2.10000000e+01, 2.00000000e+02, 5.38516481e-01, 6.00000000e+01],\n",
       "       [1.70000000e+01, 2.01000000e+02, 5.38516481e-01, 6.10000000e+01],\n",
       "       [1.40000000e+01, 2.02000000e+02, 5.56776436e-01, 6.20000000e+01],\n",
       "       [2.20000000e+01, 2.03000000e+02, 6.32455532e-01, 6.30000000e+01],\n",
       "       [1.80000000e+02, 2.04000000e+02, 6.48074070e-01, 6.70000000e+01],\n",
       "       [1.88000000e+02, 2.05000000e+02, 6.78232998e-01, 6.90000000e+01],\n",
       "       [3.30000000e+01, 2.06000000e+02, 7.34846923e-01, 7.00000000e+01],\n",
       "       [1.98000000e+02, 2.07000000e+02, 1.70880075e+00, 1.05000000e+02]])"
      ]
     },
     "execution_count": 58,
     "metadata": {},
     "output_type": "execute_result"
    }
   ],
   "source": [
    "linkage_matrix"
   ]
  },
  {
   "cell_type": "code",
   "execution_count": 64,
   "metadata": {},
   "outputs": [
    {
     "data": {
      "image/png": "[encoded data removed]",
      "text/plain": [
       "<Figure size 432x288 with 1 Axes>"
      ]
     },
     "metadata": {},
     "output_type": "display_data"
    }
   ],
   "source": [
    "dend=dendrogram(linkage_matrix,truncate_mode='lastp',p=4)\n",
    "\n",
    "plt.title(\"Hierarchial clustering\")\n",
    "plt.savefig(\"hierarchial.jpg\")\n",
    "\n",
    "plt.show()"
   ]
  },
  {
   "cell_type": "code",
   "execution_count": null,
   "metadata": {},
   "outputs": [],
   "source": [
    "lda \n",
    "tfidf\n",
    "\n",
    "NN\n",
    "PCA(coding)"
   ]
  },
  {
   "cell_type": "code",
   "execution_count": 1,
   "metadata": {},
   "outputs": [
    {
     "name": "stderr",
     "output_type": "stream",
     "text": [
      "/usr/lib/python3.6/importlib/_bootstrap.py:219: RuntimeWarning: numpy.dtype size changed, may indicate binary incompatibility. Expected 96, got 88\n",
      "  return f(*args, **kwds)\n",
      "/usr/lib/python3.6/importlib/_bootstrap.py:219: RuntimeWarning: numpy.dtype size changed, may indicate binary incompatibility. Expected 96, got 88\n",
      "  return f(*args, **kwds)\n"
     ]
    }
   ],
   "source": [
    "import pandas as pd\n",
    "from sklearn.ensemble import RandomForestClassifier\n",
    "from sklearn.metrics import accuracy_score,classification_report"
   ]
  },
  {
   "cell_type": "code",
   "execution_count": 2,
   "metadata": {},
   "outputs": [],
   "source": [
    "train = pd.read_csv(\"./train.csv\")\n",
    "test = pd.read_csv(\"./test.csv\")"
   ]
  },
  {
   "cell_type": "code",
   "execution_count": 3,
   "metadata": {},
   "outputs": [
    {
     "data": {
      "text/html": [
       "<div>\n",
       "<style scoped>\n",
       "    .dataframe tbody tr th:only-of-type {\n",
       "        vertical-align: middle;\n",
       "    }\n",
       "\n",
       "    .dataframe tbody tr th {\n",
       "        vertical-align: top;\n",
       "    }\n",
       "\n",
       "    .dataframe thead th {\n",
       "        text-align: right;\n",
       "    }\n",
       "</style>\n",
       "<table border=\"1\" class=\"dataframe\">\n",
       "  <thead>\n",
       "    <tr style=\"text-align: right;\">\n",
       "      <th></th>\n",
       "      <th>class</th>\n",
       "      <th>petal_length</th>\n",
       "      <th>petal_width</th>\n",
       "      <th>sepal_length</th>\n",
       "      <th>sepal_width</th>\n",
       "    </tr>\n",
       "  </thead>\n",
       "  <tbody>\n",
       "    <tr>\n",
       "      <th>0</th>\n",
       "      <td>Iris-virginica</td>\n",
       "      <td>5.5</td>\n",
       "      <td>1.8</td>\n",
       "      <td>6.4</td>\n",
       "      <td>3.1</td>\n",
       "    </tr>\n",
       "    <tr>\n",
       "      <th>1</th>\n",
       "      <td>Iris-virginica</td>\n",
       "      <td>5.9</td>\n",
       "      <td>2.3</td>\n",
       "      <td>6.8</td>\n",
       "      <td>3.2</td>\n",
       "    </tr>\n",
       "    <tr>\n",
       "      <th>2</th>\n",
       "      <td>Iris-virginica</td>\n",
       "      <td>5.4</td>\n",
       "      <td>2.3</td>\n",
       "      <td>6.2</td>\n",
       "      <td>3.4</td>\n",
       "    </tr>\n",
       "    <tr>\n",
       "      <th>3</th>\n",
       "      <td>Iris-virginica</td>\n",
       "      <td>4.8</td>\n",
       "      <td>1.8</td>\n",
       "      <td>6.0</td>\n",
       "      <td>3.0</td>\n",
       "    </tr>\n",
       "    <tr>\n",
       "      <th>4</th>\n",
       "      <td>Iris-virginica</td>\n",
       "      <td>5.1</td>\n",
       "      <td>2.3</td>\n",
       "      <td>6.9</td>\n",
       "      <td>3.1</td>\n",
       "    </tr>\n",
       "  </tbody>\n",
       "</table>\n",
       "</div>"
      ],
      "text/plain": [
       "            class  petal_length  petal_width  sepal_length  sepal_width\n",
       "0  Iris-virginica           5.5          1.8           6.4          3.1\n",
       "1  Iris-virginica           5.9          2.3           6.8          3.2\n",
       "2  Iris-virginica           5.4          2.3           6.2          3.4\n",
       "3  Iris-virginica           4.8          1.8           6.0          3.0\n",
       "4  Iris-virginica           5.1          2.3           6.9          3.1"
      ]
     },
     "execution_count": 3,
     "metadata": {},
     "output_type": "execute_result"
    }
   ],
   "source": [
    "train.head()"
   ]
  },
  {
   "cell_type": "code",
   "execution_count": 4,
   "metadata": {},
   "outputs": [],
   "source": [
    "x = train.loc[:,\"petal_length\":\"sepal_width\"]\n",
    "y = train['class']"
   ]
  },
  {
   "cell_type": "code",
   "execution_count": 35,
   "metadata": {},
   "outputs": [],
   "source": [
    "model = RandomForestClassifier(n_estimators=500,criterion='entropy')"
   ]
  },
  {
   "cell_type": "code",
   "execution_count": 36,
   "metadata": {},
   "outputs": [
    {
     "data": {
      "text/plain": [
       "RandomForestClassifier(bootstrap=True, class_weight=None, criterion='entropy',\n",
       "            max_depth=None, max_features='auto', max_leaf_nodes=None,\n",
       "            min_impurity_decrease=0.0, min_impurity_split=None,\n",
       "            min_samples_leaf=1, min_samples_split=2,\n",
       "            min_weight_fraction_leaf=0.0, n_estimators=500, n_jobs=1,\n",
       "            oob_score=False, random_state=None, verbose=0,\n",
       "            warm_start=False)"
      ]
     },
     "execution_count": 36,
     "metadata": {},
     "output_type": "execute_result"
    }
   ],
   "source": [
    "model.fit(x,y)"
   ]
  },
  {
   "cell_type": "code",
   "execution_count": 37,
   "metadata": {},
   "outputs": [],
   "source": [
    "ypred = model.predict(test.loc[:,\"petal_length\":\"sepal_width\"])"
   ]
  },
  {
   "cell_type": "code",
   "execution_count": 38,
   "metadata": {},
   "outputs": [
    {
     "data": {
      "text/plain": [
       "1.0"
      ]
     },
     "execution_count": 38,
     "metadata": {},
     "output_type": "execute_result"
    }
   ],
   "source": [
    "accuracy_score(ypred,test['class'])"
   ]
  },
  {
   "cell_type": "code",
   "execution_count": 41,
   "metadata": {},
   "outputs": [
    {
     "data": {
      "text/plain": [
       "RandomForestClassifier(bootstrap=True, class_weight=None, criterion='entropy',\n",
       "            max_depth=None, max_features='auto', max_leaf_nodes=None,\n",
       "            min_impurity_decrease=0.0, min_impurity_split=None,\n",
       "            min_samples_leaf=1, min_samples_split=2,\n",
       "            min_weight_fraction_leaf=0.0, n_estimators=500, n_jobs=1,\n",
       "            oob_score=False, random_state=None, verbose=0,\n",
       "            warm_start=False)"
      ]
     },
     "execution_count": 41,
     "metadata": {},
     "output_type": "execute_result"
    }
   ],
   "source": [
    "#using IMDb data set uncleaned review and cleaned review\n",
    "model.fit(X_train_Cvetorised,y_Ctrain)"
   ]
  },
  {
   "cell_type": "code",
   "execution_count": 42,
   "metadata": {},
   "outputs": [
    {
     "data": {
      "text/plain": [
       "0.87392"
      ]
     },
     "execution_count": 42,
     "metadata": {},
     "output_type": "execute_result"
    }
   ],
   "source": [
    "y_Cpred = model.predict(vectC.transform(X_Ctest))\n",
    "\n",
    "accuracy_score(y_Ctest,y_Cpred)"
   ]
  },
  {
   "cell_type": "code",
   "execution_count": 43,
   "metadata": {},
   "outputs": [],
   "source": [
    "import pandas as pd\n",
    "from mlxtend.preprocessing import TransactionEncoder\n",
    "from mlxtend.frequent_patterns import apriori\n",
    "\n",
    "dataset = [['Milk', 'Onion', 'Nutmeg', 'Kidney Beans', 'Eggs', 'Yogurt'],\n",
    "           ['Dill', 'Onion', 'Nutmeg', 'Kidney Beans', 'Eggs', 'Yogurt'],\n",
    "           ['Milk', 'Apple', 'Kidney Beans', 'Eggs'],\n",
    "           ['Milk', 'Unicorn', 'Corn', 'Kidney Beans', 'Yogurt'],\n",
    "           ['Corn', 'Onion', 'Onion', 'Kidney Beans', 'Ice cream', 'Eggs']]\n"
   ]
  },
  {
   "cell_type": "code",
   "execution_count": 44,
   "metadata": {},
   "outputs": [
    {
     "data": {
      "text/plain": [
       "[['Milk', 'Onion', 'Nutmeg', 'Kidney Beans', 'Eggs', 'Yogurt'],\n",
       " ['Dill', 'Onion', 'Nutmeg', 'Kidney Beans', 'Eggs', 'Yogurt'],\n",
       " ['Milk', 'Apple', 'Kidney Beans', 'Eggs'],\n",
       " ['Milk', 'Unicorn', 'Corn', 'Kidney Beans', 'Yogurt'],\n",
       " ['Corn', 'Onion', 'Onion', 'Kidney Beans', 'Ice cream', 'Eggs']]"
      ]
     },
     "execution_count": 44,
     "metadata": {},
     "output_type": "execute_result"
    }
   ],
   "source": [
    "dataset"
   ]
  },
  {
   "cell_type": "code",
   "execution_count": 45,
   "metadata": {},
   "outputs": [],
   "source": [
    "te = TransactionEncoder()\n",
    "te_ary = te.fit_transform(dataset)"
   ]
  },
  {
   "cell_type": "code",
   "execution_count": 46,
   "metadata": {},
   "outputs": [
    {
     "data": {
      "text/plain": [
       "array([[False, False, False,  True, False,  True,  True,  True,  True,\n",
       "        False,  True],\n",
       "       [False, False,  True,  True, False,  True, False,  True,  True,\n",
       "        False,  True],\n",
       "       [ True, False, False,  True, False,  True,  True, False, False,\n",
       "        False, False],\n",
       "       [False,  True, False, False, False,  True,  True, False, False,\n",
       "         True,  True],\n",
       "       [False,  True, False,  True,  True,  True, False, False,  True,\n",
       "        False, False]])"
      ]
     },
     "execution_count": 46,
     "metadata": {},
     "output_type": "execute_result"
    }
   ],
   "source": [
    "te_ary"
   ]
  },
  {
   "cell_type": "code",
   "execution_count": 47,
   "metadata": {},
   "outputs": [],
   "source": [
    "df = pd.DataFrame(te_ary, columns=te.columns_)\n"
   ]
  },
  {
   "cell_type": "code",
   "execution_count": 48,
   "metadata": {},
   "outputs": [
    {
     "data": {
      "text/html": [
       "<div>\n",
       "<style scoped>\n",
       "    .dataframe tbody tr th:only-of-type {\n",
       "        vertical-align: middle;\n",
       "    }\n",
       "\n",
       "    .dataframe tbody tr th {\n",
       "        vertical-align: top;\n",
       "    }\n",
       "\n",
       "    .dataframe thead th {\n",
       "        text-align: right;\n",
       "    }\n",
       "</style>\n",
       "<table border=\"1\" class=\"dataframe\">\n",
       "  <thead>\n",
       "    <tr style=\"text-align: right;\">\n",
       "      <th></th>\n",
       "      <th>Apple</th>\n",
       "      <th>Corn</th>\n",
       "      <th>Dill</th>\n",
       "      <th>Eggs</th>\n",
       "      <th>Ice cream</th>\n",
       "      <th>Kidney Beans</th>\n",
       "      <th>Milk</th>\n",
       "      <th>Nutmeg</th>\n",
       "      <th>Onion</th>\n",
       "      <th>Unicorn</th>\n",
       "      <th>Yogurt</th>\n",
       "    </tr>\n",
       "  </thead>\n",
       "  <tbody>\n",
       "    <tr>\n",
       "      <th>0</th>\n",
       "      <td>False</td>\n",
       "      <td>False</td>\n",
       "      <td>False</td>\n",
       "      <td>True</td>\n",
       "      <td>False</td>\n",
       "      <td>True</td>\n",
       "      <td>True</td>\n",
       "      <td>True</td>\n",
       "      <td>True</td>\n",
       "      <td>False</td>\n",
       "      <td>True</td>\n",
       "    </tr>\n",
       "    <tr>\n",
       "      <th>1</th>\n",
       "      <td>False</td>\n",
       "      <td>False</td>\n",
       "      <td>True</td>\n",
       "      <td>True</td>\n",
       "      <td>False</td>\n",
       "      <td>True</td>\n",
       "      <td>False</td>\n",
       "      <td>True</td>\n",
       "      <td>True</td>\n",
       "      <td>False</td>\n",
       "      <td>True</td>\n",
       "    </tr>\n",
       "    <tr>\n",
       "      <th>2</th>\n",
       "      <td>True</td>\n",
       "      <td>False</td>\n",
       "      <td>False</td>\n",
       "      <td>True</td>\n",
       "      <td>False</td>\n",
       "      <td>True</td>\n",
       "      <td>True</td>\n",
       "      <td>False</td>\n",
       "      <td>False</td>\n",
       "      <td>False</td>\n",
       "      <td>False</td>\n",
       "    </tr>\n",
       "    <tr>\n",
       "      <th>3</th>\n",
       "      <td>False</td>\n",
       "      <td>True</td>\n",
       "      <td>False</td>\n",
       "      <td>False</td>\n",
       "      <td>False</td>\n",
       "      <td>True</td>\n",
       "      <td>True</td>\n",
       "      <td>False</td>\n",
       "      <td>False</td>\n",
       "      <td>True</td>\n",
       "      <td>True</td>\n",
       "    </tr>\n",
       "    <tr>\n",
       "      <th>4</th>\n",
       "      <td>False</td>\n",
       "      <td>True</td>\n",
       "      <td>False</td>\n",
       "      <td>True</td>\n",
       "      <td>True</td>\n",
       "      <td>True</td>\n",
       "      <td>False</td>\n",
       "      <td>False</td>\n",
       "      <td>True</td>\n",
       "      <td>False</td>\n",
       "      <td>False</td>\n",
       "    </tr>\n",
       "  </tbody>\n",
       "</table>\n",
       "</div>"
      ],
      "text/plain": [
       "   Apple   Corn   Dill   Eggs  Ice cream  Kidney Beans   Milk  Nutmeg  Onion  \\\n",
       "0  False  False  False   True      False          True   True    True   True   \n",
       "1  False  False   True   True      False          True  False    True   True   \n",
       "2   True  False  False   True      False          True   True   False  False   \n",
       "3  False   True  False  False      False          True   True   False  False   \n",
       "4  False   True  False   True       True          True  False   False   True   \n",
       "\n",
       "   Unicorn  Yogurt  \n",
       "0    False    True  \n",
       "1    False    True  \n",
       "2    False   False  \n",
       "3     True    True  \n",
       "4    False   False  "
      ]
     },
     "execution_count": 48,
     "metadata": {},
     "output_type": "execute_result"
    }
   ],
   "source": [
    "df"
   ]
  },
  {
   "cell_type": "code",
   "execution_count": 56,
   "metadata": {},
   "outputs": [],
   "source": [
    "frequent_itemsets = apriori(df, min_support=0.6, use_colnames=True)\n",
    "frequent_itemsets['length'] = frequent_itemsets['itemsets'].apply(lambda x: len(x))\n"
   ]
  },
  {
   "cell_type": "code",
   "execution_count": 55,
   "metadata": {},
   "outputs": [
    {
     "data": {
      "text/html": [
       "<div>\n",
       "<style scoped>\n",
       "    .dataframe tbody tr th:only-of-type {\n",
       "        vertical-align: middle;\n",
       "    }\n",
       "\n",
       "    .dataframe tbody tr th {\n",
       "        vertical-align: top;\n",
       "    }\n",
       "\n",
       "    .dataframe thead th {\n",
       "        text-align: right;\n",
       "    }\n",
       "</style>\n",
       "<table border=\"1\" class=\"dataframe\">\n",
       "  <thead>\n",
       "    <tr style=\"text-align: right;\">\n",
       "      <th></th>\n",
       "      <th>support</th>\n",
       "      <th>itemsets</th>\n",
       "      <th>length</th>\n",
       "    </tr>\n",
       "  </thead>\n",
       "  <tbody>\n",
       "    <tr>\n",
       "      <th>0</th>\n",
       "      <td>0.8</td>\n",
       "      <td>(Eggs)</td>\n",
       "      <td>1</td>\n",
       "    </tr>\n",
       "    <tr>\n",
       "      <th>1</th>\n",
       "      <td>1.0</td>\n",
       "      <td>(Kidney Beans)</td>\n",
       "      <td>1</td>\n",
       "    </tr>\n",
       "    <tr>\n",
       "      <th>2</th>\n",
       "      <td>0.6</td>\n",
       "      <td>(Milk)</td>\n",
       "      <td>1</td>\n",
       "    </tr>\n",
       "    <tr>\n",
       "      <th>3</th>\n",
       "      <td>0.6</td>\n",
       "      <td>(Onion)</td>\n",
       "      <td>1</td>\n",
       "    </tr>\n",
       "    <tr>\n",
       "      <th>4</th>\n",
       "      <td>0.6</td>\n",
       "      <td>(Yogurt)</td>\n",
       "      <td>1</td>\n",
       "    </tr>\n",
       "    <tr>\n",
       "      <th>5</th>\n",
       "      <td>0.8</td>\n",
       "      <td>(Kidney Beans, Eggs)</td>\n",
       "      <td>2</td>\n",
       "    </tr>\n",
       "    <tr>\n",
       "      <th>6</th>\n",
       "      <td>0.6</td>\n",
       "      <td>(Eggs, Onion)</td>\n",
       "      <td>2</td>\n",
       "    </tr>\n",
       "    <tr>\n",
       "      <th>7</th>\n",
       "      <td>0.6</td>\n",
       "      <td>(Milk, Kidney Beans)</td>\n",
       "      <td>2</td>\n",
       "    </tr>\n",
       "    <tr>\n",
       "      <th>8</th>\n",
       "      <td>0.6</td>\n",
       "      <td>(Kidney Beans, Onion)</td>\n",
       "      <td>2</td>\n",
       "    </tr>\n",
       "    <tr>\n",
       "      <th>9</th>\n",
       "      <td>0.6</td>\n",
       "      <td>(Yogurt, Kidney Beans)</td>\n",
       "      <td>2</td>\n",
       "    </tr>\n",
       "  </tbody>\n",
       "</table>\n",
       "</div>"
      ],
      "text/plain": [
       "   support                itemsets  length\n",
       "0      0.8                  (Eggs)       1\n",
       "1      1.0          (Kidney Beans)       1\n",
       "2      0.6                  (Milk)       1\n",
       "3      0.6                 (Onion)       1\n",
       "4      0.6                (Yogurt)       1\n",
       "5      0.8    (Kidney Beans, Eggs)       2\n",
       "6      0.6           (Eggs, Onion)       2\n",
       "7      0.6    (Milk, Kidney Beans)       2\n",
       "8      0.6   (Kidney Beans, Onion)       2\n",
       "9      0.6  (Yogurt, Kidney Beans)       2"
      ]
     },
     "execution_count": 55,
     "metadata": {},
     "output_type": "execute_result"
    }
   ],
   "source": [
    "frequent_itemsets"
   ]
  },
  {
   "cell_type": "code",
   "execution_count": 52,
   "metadata": {},
   "outputs": [
    {
     "data": {
      "text/plain": [
       "<function mlxtend.frequent_patterns.apriori.apriori(df, min_support=0.5, use_colnames=False, max_len=None, n_jobs=1)>"
      ]
     },
     "execution_count": 52,
     "metadata": {},
     "output_type": "execute_result"
    }
   ],
   "source": [
    "apriori"
   ]
  },
  {
   "cell_type": "markdown",
   "metadata": {},
   "source": [
    "#### Associative task\n",
    "Dataset:- hardcoded dataset (transaction dataset)\n",
    "\n",
    "1. Apriori\n",
    "2. Eclat\n",
    "\n",
    "Note:- Computational time comparison"
   ]
  },
  {
   "cell_type": "code",
   "execution_count": 2,
   "metadata": {},
   "outputs": [],
   "source": [
    "import string\n",
    "\n",
    "import gensim\n",
    "from gensim import corpora\n",
    "from nltk.corpus import stopwords\n",
    "from nltk.stem.wordnet import WordNetLemmatizer\n",
    "\n",
    "stop = set(stopwords.words('english'))\n",
    "exclude = set(string.punctuation) \n",
    "lemma = WordNetLemmatizer()"
   ]
  },
  {
   "cell_type": "code",
   "execution_count": 3,
   "metadata": {},
   "outputs": [
    {
     "data": {
      "text/plain": [
       "{'!',\n",
       " '\"',\n",
       " '#',\n",
       " '$',\n",
       " '%',\n",
       " '&',\n",
       " \"'\",\n",
       " '(',\n",
       " ')',\n",
       " '*',\n",
       " '+',\n",
       " ',',\n",
       " '-',\n",
       " '.',\n",
       " '/',\n",
       " ':',\n",
       " ';',\n",
       " '<',\n",
       " '=',\n",
       " '>',\n",
       " '?',\n",
       " '@',\n",
       " '[',\n",
       " '\\\\',\n",
       " ']',\n",
       " '^',\n",
       " '_',\n",
       " '`',\n",
       " '{',\n",
       " '|',\n",
       " '}',\n",
       " '~'}"
      ]
     },
     "execution_count": 3,
     "metadata": {},
     "output_type": "execute_result"
    }
   ],
   "source": [
    "exclude"
   ]
  },
  {
   "cell_type": "code",
   "execution_count": 10,
   "metadata": {},
   "outputs": [],
   "source": [
    "def clean(doc):\n",
    "    print(doc)\n",
    "    stop_free = \" \".join([i for i in doc.lower().split() if i not in stop])\n",
    "    print(stop_free)\n",
    "    punc_free = ''.join(ch for ch in stop_free if ch not in exclude)\n",
    "    print(punc_free)\n",
    "    normalized = \" \".join(lemma.lemmatize(word) for word in punc_free.split())\n",
    "    print(normalized)\n",
    "    return normalized"
   ]
  },
  {
   "cell_type": "code",
   "execution_count": 11,
   "metadata": {},
   "outputs": [],
   "source": [
    "doc1 = \"Sugar is bad to consume. My sister likes to have sugar, but not my father.\"\n",
    "doc2 = \"My father spends a lot of time driving my sister around to dance practice.\"\n",
    "doc3 = \"Doctors suggest that driving may cause increased stress and blood pressure.\"\n",
    "doc4 = \"Sometimes I feel pressure to perform well at school, but my father never seems to drive my sister to do better.\"\n",
    "doc5 = \"Health experts say that Sugar is not good for your lifestyle.\"\n",
    "\n",
    "doc_complete = [doc1, doc2, doc3, doc4, doc5]"
   ]
  },
  {
   "cell_type": "code",
   "execution_count": 12,
   "metadata": {},
   "outputs": [
    {
     "name": "stdout",
     "output_type": "stream",
     "text": [
      "Sugar is bad to consume. My sister likes to have sugar, but not my father.\n",
      "sugar bad consume. sister likes sugar, father.\n",
      "sugar bad consume sister likes sugar father\n",
      "sugar bad consume sister like sugar father\n",
      "My father spends a lot of time driving my sister around to dance practice.\n",
      "father spends lot time driving sister around dance practice.\n",
      "father spends lot time driving sister around dance practice\n",
      "father spends lot time driving sister around dance practice\n",
      "Doctors suggest that driving may cause increased stress and blood pressure.\n",
      "doctors suggest driving may cause increased stress blood pressure.\n",
      "doctors suggest driving may cause increased stress blood pressure\n",
      "doctor suggest driving may cause increased stress blood pressure\n",
      "Sometimes I feel pressure to perform well at school, but my father never seems to drive my sister to do better.\n",
      "sometimes feel pressure perform well school, father never seems drive sister better.\n",
      "sometimes feel pressure perform well school father never seems drive sister better\n",
      "sometimes feel pressure perform well school father never seems drive sister better\n",
      "Health experts say that Sugar is not good for your lifestyle.\n",
      "health experts say sugar good lifestyle.\n",
      "health experts say sugar good lifestyle\n",
      "health expert say sugar good lifestyle\n"
     ]
    }
   ],
   "source": [
    "doc_clean = [clean(doc).split() for doc in doc_complete]\n"
   ]
  },
  {
   "cell_type": "code",
   "execution_count": 13,
   "metadata": {},
   "outputs": [
    {
     "data": {
      "text/plain": [
       "[['sugar', 'bad', 'consume', 'sister', 'like', 'sugar', 'father'],\n",
       " ['father',\n",
       "  'spends',\n",
       "  'lot',\n",
       "  'time',\n",
       "  'driving',\n",
       "  'sister',\n",
       "  'around',\n",
       "  'dance',\n",
       "  'practice'],\n",
       " ['doctor',\n",
       "  'suggest',\n",
       "  'driving',\n",
       "  'may',\n",
       "  'cause',\n",
       "  'increased',\n",
       "  'stress',\n",
       "  'blood',\n",
       "  'pressure'],\n",
       " ['sometimes',\n",
       "  'feel',\n",
       "  'pressure',\n",
       "  'perform',\n",
       "  'well',\n",
       "  'school',\n",
       "  'father',\n",
       "  'never',\n",
       "  'seems',\n",
       "  'drive',\n",
       "  'sister',\n",
       "  'better'],\n",
       " ['health', 'expert', 'say', 'sugar', 'good', 'lifestyle']]"
      ]
     },
     "execution_count": 13,
     "metadata": {},
     "output_type": "execute_result"
    }
   ],
   "source": [
    "doc_clean"
   ]
  },
  {
   "cell_type": "code",
   "execution_count": 32,
   "metadata": {},
   "outputs": [],
   "source": [
    "dictionary = corpora.Dictionary(doc_clean)\n",
    "\n",
    "doc_term_matrix = [dictionary.doc2bow(doc) for doc in doc_clean]\n",
    "\n",
    "Lda = gensim.models.ldamodel.LdaModel"
   ]
  },
  {
   "cell_type": "code",
   "execution_count": 28,
   "metadata": {},
   "outputs": [],
   "source": [
    "dictionary.save_as_text(\"copper.txt\")"
   ]
  },
  {
   "cell_type": "code",
   "execution_count": 33,
   "metadata": {},
   "outputs": [
    {
     "data": {
      "text/plain": [
       "[[(0, 1), (1, 1), (2, 1), (3, 1), (4, 1), (5, 2)],\n",
       " [(2, 1), (4, 1), (6, 1), (7, 1), (8, 1), (9, 1), (10, 1), (11, 1), (12, 1)],\n",
       " [(8, 1),\n",
       "  (13, 1),\n",
       "  (14, 1),\n",
       "  (15, 1),\n",
       "  (16, 1),\n",
       "  (17, 1),\n",
       "  (18, 1),\n",
       "  (19, 1),\n",
       "  (20, 1)],\n",
       " [(2, 1),\n",
       "  (4, 1),\n",
       "  (18, 1),\n",
       "  (21, 1),\n",
       "  (22, 1),\n",
       "  (23, 1),\n",
       "  (24, 1),\n",
       "  (25, 1),\n",
       "  (26, 1),\n",
       "  (27, 1),\n",
       "  (28, 1),\n",
       "  (29, 1)],\n",
       " [(5, 1), (30, 1), (31, 1), (32, 1), (33, 1), (34, 1)]]"
      ]
     },
     "execution_count": 33,
     "metadata": {},
     "output_type": "execute_result"
    }
   ],
   "source": [
    "doc_term_matrix"
   ]
  },
  {
   "cell_type": "code",
   "execution_count": 37,
   "metadata": {},
   "outputs": [
    {
     "data": {
      "text/plain": [
       "[(0, '0.063*\"sister\" + 0.063*\"father\" + 0.063*\"perform\"'),\n",
       " (1, '0.029*\"sister\" + 0.029*\"father\" + 0.029*\"driving\"'),\n",
       " (2, '0.075*\"father\" + 0.075*\"sister\" + 0.075*\"driving\"'),\n",
       " (3, '0.160*\"sugar\" + 0.060*\"like\" + 0.060*\"consume\"'),\n",
       " (4, '0.075*\"pressure\" + 0.075*\"driving\" + 0.075*\"blood\"')]"
      ]
     },
     "execution_count": 37,
     "metadata": {},
     "output_type": "execute_result"
    }
   ],
   "source": [
    "\n",
    "ldamodel = Lda(doc_term_matrix, id2word = dictionary, passes=50,num_topics=5)\n",
    "\n",
    "ldamodel.print_topics(num_words=3)"
   ]
  },
  {
   "cell_type": "code",
   "execution_count": 38,
   "metadata": {},
   "outputs": [],
   "source": [
    "from sklearn.feature_extraction.text import TfidfVectorizer\n"
   ]
  },
  {
   "cell_type": "code",
   "execution_count": 39,
   "metadata": {},
   "outputs": [
    {
     "name": "stdout",
     "output_type": "stream",
     "text": [
      "sugar  -  0.446815157794078\n",
      "is  -  0.223407578897039\n",
      "bad  -  0.27690793561128163\n",
      "to  -  0.3708969434339065\n",
      "consume  -  0.27690793561128163\n",
      "my  -  0.3708969434339065\n",
      "sister  -  0.18544847171695325\n",
      "likes  -  0.27690793561128163\n",
      "have  -  0.27690793561128163\n",
      "but  -  0.223407578897039\n",
      "not  -  0.223407578897039\n",
      "father  -  0.18544847171695325\n",
      "to  -  0.3708969434339065\n",
      "my  -  0.3708969434339065\n",
      "sister  -  0.18544847171695325\n",
      "father  -  0.18544847171695325\n",
      "spends  -  0.0\n",
      "lot  -  0.0\n",
      "of  -  0.0\n",
      "time  -  0.0\n",
      "driving  -  0.0\n",
      "around  -  0.0\n",
      "dance  -  0.0\n",
      "practice  -  0.0\n",
      "driving  -  0.0\n",
      "doctors  -  0.0\n",
      "suggest  -  0.0\n",
      "that  -  0.0\n",
      "may  -  0.0\n",
      "cause  -  0.0\n",
      "increased  -  0.0\n",
      "stress  -  0.0\n",
      "and  -  0.0\n",
      "blood  -  0.0\n",
      "pressure  -  0.0\n",
      "to  -  0.3708969434339065\n",
      "my  -  0.3708969434339065\n",
      "sister  -  0.18544847171695325\n",
      "but  -  0.223407578897039\n",
      "father  -  0.18544847171695325\n",
      "pressure  -  0.0\n",
      "sometimes  -  0.0\n",
      "feel  -  0.0\n",
      "perform  -  0.0\n",
      "well  -  0.0\n",
      "at  -  0.0\n",
      "school  -  0.0\n",
      "never  -  0.0\n",
      "seems  -  0.0\n",
      "drive  -  0.0\n",
      "do  -  0.0\n",
      "better  -  0.0\n",
      "sugar  -  0.446815157794078\n",
      "is  -  0.223407578897039\n",
      "not  -  0.223407578897039\n",
      "that  -  0.0\n",
      "health  -  0.0\n",
      "experts  -  0.0\n",
      "say  -  0.0\n",
      "good  -  0.0\n",
      "for  -  0.0\n",
      "your  -  0.0\n",
      "lifestyle  -  0.0\n"
     ]
    }
   ],
   "source": [
    "tfidf = TfidfVectorizer()\n",
    "\n",
    "response = tfidf.fit_transform(doc_complete)\n",
    "\n",
    "feature_names = tfidf.get_feature_names()\n",
    "for col in response.nonzero()[1]:\n",
    "    print (feature_names[col], ' - ', response[0, col])"
   ]
  },
  {
   "cell_type": "code",
   "execution_count": null,
   "metadata": {},
   "outputs": [],
   "source": []
  }
 ],
 "metadata": {
  "kernelspec": {
   "display_name": "Python 3",
   "language": "python",
   "name": "python3"
  },
  "language_info": {
   "codemirror_mode": {
    "name": "ipython",
    "version": 3
   },
   "file_extension": ".py",
   "mimetype": "text/x-python",
   "name": "python",
   "nbconvert_exporter": "python",
   "pygments_lexer": "ipython3",
   "version": "3.6.6"
  }
 },
 "nbformat": 4,
 "nbformat_minor": 2
}
