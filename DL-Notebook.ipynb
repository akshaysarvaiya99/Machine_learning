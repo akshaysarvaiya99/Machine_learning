{
 "cells": [
  {
   "cell_type": "markdown",
   "metadata": {},
   "source": [
    "## Vanilla Neural Network"
   ]
  },
  {
   "cell_type": "markdown",
   "metadata": {},
   "source": [
    "### Importing libs"
   ]
  },
  {
   "cell_type": "code",
   "execution_count": 1,
   "metadata": {},
   "outputs": [
    {
     "name": "stderr",
     "output_type": "stream",
     "text": [
      "Using TensorFlow backend.\n",
      "/usr/local/lib/python3.6/dist-packages/tensorflow/python/framework/dtypes.py:526: FutureWarning: Passing (type, 1) or '1type' as a synonym of type is deprecated; in a future version of numpy, it will be understood as (type, (1,)) / '(1,)type'.\n",
      "  _np_qint8 = np.dtype([(\"qint8\", np.int8, 1)])\n",
      "/usr/local/lib/python3.6/dist-packages/tensorflow/python/framework/dtypes.py:527: FutureWarning: Passing (type, 1) or '1type' as a synonym of type is deprecated; in a future version of numpy, it will be understood as (type, (1,)) / '(1,)type'.\n",
      "  _np_quint8 = np.dtype([(\"quint8\", np.uint8, 1)])\n",
      "/usr/local/lib/python3.6/dist-packages/tensorflow/python/framework/dtypes.py:528: FutureWarning: Passing (type, 1) or '1type' as a synonym of type is deprecated; in a future version of numpy, it will be understood as (type, (1,)) / '(1,)type'.\n",
      "  _np_qint16 = np.dtype([(\"qint16\", np.int16, 1)])\n",
      "/usr/local/lib/python3.6/dist-packages/tensorflow/python/framework/dtypes.py:529: FutureWarning: Passing (type, 1) or '1type' as a synonym of type is deprecated; in a future version of numpy, it will be understood as (type, (1,)) / '(1,)type'.\n",
      "  _np_quint16 = np.dtype([(\"quint16\", np.uint16, 1)])\n",
      "/usr/local/lib/python3.6/dist-packages/tensorflow/python/framework/dtypes.py:530: FutureWarning: Passing (type, 1) or '1type' as a synonym of type is deprecated; in a future version of numpy, it will be understood as (type, (1,)) / '(1,)type'.\n",
      "  _np_qint32 = np.dtype([(\"qint32\", np.int32, 1)])\n",
      "/usr/local/lib/python3.6/dist-packages/tensorflow/python/framework/dtypes.py:535: FutureWarning: Passing (type, 1) or '1type' as a synonym of type is deprecated; in a future version of numpy, it will be understood as (type, (1,)) / '(1,)type'.\n",
      "  np_resource = np.dtype([(\"resource\", np.ubyte, 1)])\n"
     ]
    }
   ],
   "source": [
    "from keras.datasets import mnist\n",
    "from keras.layers.core import Dense, Dropout, Activation\n",
    "from keras.models import Sequential\n",
    "from keras.optimizers import RMSprop,SGD,Adam\n",
    "from keras.utils import np_utils\n",
    "import matplotlib.pyplot as plt\n",
    "import cv2\n",
    "from keras_preprocessing.image import img_to_array\n",
    "import tensorflow as tf\n",
    "from keras.models import load_model"
   ]
  },
  {
   "cell_type": "markdown",
   "metadata": {},
   "source": [
    "### load datasets"
   ]
  },
  {
   "cell_type": "code",
   "execution_count": 2,
   "metadata": {},
   "outputs": [],
   "source": [
    "(X_train, y_train), (X_test, y_test) = mnist.load_data()"
   ]
  },
  {
   "cell_type": "code",
   "execution_count": 3,
   "metadata": {},
   "outputs": [
    {
     "data": {
      "text/plain": [
       "(60000, 28, 28)"
      ]
     },
     "execution_count": 3,
     "metadata": {},
     "output_type": "execute_result"
    }
   ],
   "source": [
    "X_train.shape"
   ]
  },
  {
   "cell_type": "code",
   "execution_count": 4,
   "metadata": {},
   "outputs": [
    {
     "data": {
      "text/plain": [
       "(10000, 28, 28)"
      ]
     },
     "execution_count": 4,
     "metadata": {},
     "output_type": "execute_result"
    }
   ],
   "source": [
    "X_test.shape"
   ]
  },
  {
   "cell_type": "code",
   "execution_count": 5,
   "metadata": {
    "scrolled": true
   },
   "outputs": [
    {
     "data": {
      "text/plain": [
       "array([[  0,   0,   0,   0,   0,   0,   0,   0,   0,   0,   0,   0,   0,\n",
       "          0,   0,   0,   0,   0,   0,   0,   0,   0,   0,   0,   0,   0,\n",
       "          0,   0],\n",
       "       [  0,   0,   0,   0,   0,   0,   0,   0,   0,   0,   0,   0,   0,\n",
       "          0,   0,   0,   0,   0,   0,   0,   0,   0,   0,   0,   0,   0,\n",
       "          0,   0],\n",
       "       [  0,   0,   0,   0,   0,   0,   0,   0,   0,   0,   0,   0,   0,\n",
       "          0,   0,   0,   0,   0,   0,   0,   0,   0,   0,   0,   0,   0,\n",
       "          0,   0],\n",
       "       [  0,   0,   0,   0,   0,   0,   0,   0,   0,   0,   0,   0,   0,\n",
       "          0,   0,   0,   0,   0,   0,   0,   0,   0,   0,   0,   0,   0,\n",
       "          0,   0],\n",
       "       [  0,   0,   0,   0,   0,   0,   0,   0,   0,   0,   0,   0,   0,\n",
       "          0,   0,   0,   0,   0,   0,   0,   0,   0,   0,   0,   0,   0,\n",
       "          0,   0],\n",
       "       [  0,   0,   0,   0,   0,   0,   0,   0,   0,   0,   0,   0,   0,\n",
       "          0,   0,  13,  25, 100, 122,   7,   0,   0,   0,   0,   0,   0,\n",
       "          0,   0],\n",
       "       [  0,   0,   0,   0,   0,   0,   0,   0,   0,   0,   0,   0,   0,\n",
       "         33, 151, 208, 252, 252, 252, 146,   0,   0,   0,   0,   0,   0,\n",
       "          0,   0],\n",
       "       [  0,   0,   0,   0,   0,   0,   0,   0,   0,   0,   0,  40, 152,\n",
       "        244, 252, 253, 224, 211, 252, 232,  40,   0,   0,   0,   0,   0,\n",
       "          0,   0],\n",
       "       [  0,   0,   0,   0,   0,   0,   0,   0,   0,  15, 152, 239, 252,\n",
       "        252, 252, 216,  31,  37, 252, 252,  60,   0,   0,   0,   0,   0,\n",
       "          0,   0],\n",
       "       [  0,   0,   0,   0,   0,   0,   0,   0,   0,  96, 252, 252, 252,\n",
       "        252, 217,  29,   0,  37, 252, 252,  60,   0,   0,   0,   0,   0,\n",
       "          0,   0],\n",
       "       [  0,   0,   0,   0,   0,   0,   0,   0,   0, 181, 252, 252, 220,\n",
       "        167,  30,   0,   0,  77, 252, 252,  60,   0,   0,   0,   0,   0,\n",
       "          0,   0],\n",
       "       [  0,   0,   0,   0,   0,   0,   0,   0,   0,  26, 128,  58,  22,\n",
       "          0,   0,   0,   0, 100, 252, 252,  60,   0,   0,   0,   0,   0,\n",
       "          0,   0],\n",
       "       [  0,   0,   0,   0,   0,   0,   0,   0,   0,   0,   0,   0,   0,\n",
       "          0,   0,   0,   0, 157, 252, 252,  60,   0,   0,   0,   0,   0,\n",
       "          0,   0],\n",
       "       [  0,   0,   0,   0,   0,   0,   0,   0,   0,   0,   0,   0,   0,\n",
       "        110, 121, 122, 121, 202, 252, 194,   3,   0,   0,   0,   0,   0,\n",
       "          0,   0],\n",
       "       [  0,   0,   0,   0,   0,   0,   0,   0,   0,   0,  10,  53, 179,\n",
       "        253, 253, 255, 253, 253, 228,  35,   0,   0,   0,   0,   0,   0,\n",
       "          0,   0],\n",
       "       [  0,   0,   0,   0,   0,   0,   0,   0,   5,  54, 227, 252, 243,\n",
       "        228, 170, 242, 252, 252, 231, 117,   6,   0,   0,   0,   0,   0,\n",
       "          0,   0],\n",
       "       [  0,   0,   0,   0,   0,   0,   0,   6,  78, 252, 252, 125,  59,\n",
       "          0,  18, 208, 252, 252, 252, 252,  87,   7,   0,   0,   0,   0,\n",
       "          0,   0],\n",
       "       [  0,   0,   0,   0,   0,   0,   5, 135, 252, 252, 180,  16,   0,\n",
       "         21, 203, 253, 247, 129, 173, 252, 252, 184,  66,  49,  49,   0,\n",
       "          0,   0],\n",
       "       [  0,   0,   0,   0,   0,   3, 136, 252, 241, 106,  17,   0,  53,\n",
       "        200, 252, 216,  65,   0,  14,  72, 163, 241, 252, 252, 223,   0,\n",
       "          0,   0],\n",
       "       [  0,   0,   0,   0,   0, 105, 252, 242,  88,  18,  73, 170, 244,\n",
       "        252, 126,  29,   0,   0,   0,   0,   0,  89, 180, 180,  37,   0,\n",
       "          0,   0],\n",
       "       [  0,   0,   0,   0,   0, 231, 252, 245, 205, 216, 252, 252, 252,\n",
       "        124,   3,   0,   0,   0,   0,   0,   0,   0,   0,   0,   0,   0,\n",
       "          0,   0],\n",
       "       [  0,   0,   0,   0,   0, 207, 252, 252, 252, 252, 178, 116,  36,\n",
       "          4,   0,   0,   0,   0,   0,   0,   0,   0,   0,   0,   0,   0,\n",
       "          0,   0],\n",
       "       [  0,   0,   0,   0,   0,  13,  93, 143, 121,  23,   6,   0,   0,\n",
       "          0,   0,   0,   0,   0,   0,   0,   0,   0,   0,   0,   0,   0,\n",
       "          0,   0],\n",
       "       [  0,   0,   0,   0,   0,   0,   0,   0,   0,   0,   0,   0,   0,\n",
       "          0,   0,   0,   0,   0,   0,   0,   0,   0,   0,   0,   0,   0,\n",
       "          0,   0],\n",
       "       [  0,   0,   0,   0,   0,   0,   0,   0,   0,   0,   0,   0,   0,\n",
       "          0,   0,   0,   0,   0,   0,   0,   0,   0,   0,   0,   0,   0,\n",
       "          0,   0],\n",
       "       [  0,   0,   0,   0,   0,   0,   0,   0,   0,   0,   0,   0,   0,\n",
       "          0,   0,   0,   0,   0,   0,   0,   0,   0,   0,   0,   0,   0,\n",
       "          0,   0],\n",
       "       [  0,   0,   0,   0,   0,   0,   0,   0,   0,   0,   0,   0,   0,\n",
       "          0,   0,   0,   0,   0,   0,   0,   0,   0,   0,   0,   0,   0,\n",
       "          0,   0],\n",
       "       [  0,   0,   0,   0,   0,   0,   0,   0,   0,   0,   0,   0,   0,\n",
       "          0,   0,   0,   0,   0,   0,   0,   0,   0,   0,   0,   0,   0,\n",
       "          0,   0]], dtype=uint8)"
      ]
     },
     "execution_count": 5,
     "metadata": {},
     "output_type": "execute_result"
    }
   ],
   "source": [
    "X_train[5]"
   ]
  },
  {
   "cell_type": "markdown",
   "metadata": {},
   "source": [
    "### preprocessing input data"
   ]
  },
  {
   "cell_type": "code",
   "execution_count": 6,
   "metadata": {},
   "outputs": [
    {
     "name": "stdout",
     "output_type": "stream",
     "text": [
      "(60000, 784) train samples\n",
      "(10000, 784) test samples\n"
     ]
    }
   ],
   "source": [
    "RESHAPED = 784\n",
    "\n",
    "X_train = X_train.reshape(60000, RESHAPED)\n",
    "X_test = X_test.reshape(10000, RESHAPED)\n",
    "X_train = X_train.astype('float32')\n",
    "X_test = X_test.astype('float32')\n",
    "\n",
    "X_train /= 255\n",
    "X_test /= 255\n",
    "\n",
    "print(X_train.shape, 'train samples')\n",
    "print(X_test.shape, 'test samples')"
   ]
  },
  {
   "cell_type": "code",
   "execution_count": 7,
   "metadata": {},
   "outputs": [
    {
     "data": {
      "text/plain": [
       "array([0.        , 0.        , 0.        , 0.        , 0.        ,\n",
       "       0.        , 0.        , 0.        , 0.        , 0.        ,\n",
       "       0.        , 0.        , 0.        , 0.        , 0.        ,\n",
       "       0.        , 0.        , 0.        , 0.        , 0.        ,\n",
       "       0.        , 0.        , 0.        , 0.        , 0.        ,\n",
       "       0.        , 0.        , 0.        , 0.        , 0.        ,\n",
       "       0.        , 0.        , 0.        , 0.        , 0.        ,\n",
       "       0.        , 0.        , 0.        , 0.        , 0.        ,\n",
       "       0.        , 0.        , 0.        , 0.        , 0.        ,\n",
       "       0.        , 0.        , 0.        , 0.        , 0.        ,\n",
       "       0.        , 0.        , 0.        , 0.        , 0.        ,\n",
       "       0.        , 0.        , 0.        , 0.        , 0.        ,\n",
       "       0.        , 0.        , 0.        , 0.        , 0.        ,\n",
       "       0.        , 0.        , 0.        , 0.        , 0.        ,\n",
       "       0.        , 0.        , 0.        , 0.        , 0.        ,\n",
       "       0.        , 0.        , 0.        , 0.        , 0.        ,\n",
       "       0.        , 0.        , 0.        , 0.        , 0.        ,\n",
       "       0.        , 0.        , 0.        , 0.        , 0.        ,\n",
       "       0.        , 0.        , 0.        , 0.        , 0.        ,\n",
       "       0.        , 0.        , 0.        , 0.        , 0.        ,\n",
       "       0.        , 0.        , 0.        , 0.        , 0.        ,\n",
       "       0.        , 0.        , 0.        , 0.        , 0.        ,\n",
       "       0.        , 0.        , 0.        , 0.        , 0.        ,\n",
       "       0.        , 0.        , 0.        , 0.        , 0.        ,\n",
       "       0.        , 0.        , 0.        , 0.        , 0.        ,\n",
       "       0.        , 0.        , 0.        , 0.        , 0.        ,\n",
       "       0.        , 0.        , 0.        , 0.        , 0.        ,\n",
       "       0.        , 0.        , 0.        , 0.        , 0.        ,\n",
       "       0.        , 0.        , 0.        , 0.        , 0.        ,\n",
       "       0.        , 0.        , 0.        , 0.        , 0.        ,\n",
       "       0.        , 0.        , 0.        , 0.        , 0.        ,\n",
       "       0.05098039, 0.09803922, 0.39215687, 0.47843137, 0.02745098,\n",
       "       0.        , 0.        , 0.        , 0.        , 0.        ,\n",
       "       0.        , 0.        , 0.        , 0.        , 0.        ,\n",
       "       0.        , 0.        , 0.        , 0.        , 0.        ,\n",
       "       0.        , 0.        , 0.        , 0.        , 0.        ,\n",
       "       0.        , 0.12941177, 0.5921569 , 0.8156863 , 0.9882353 ,\n",
       "       0.9882353 , 0.9882353 , 0.57254905, 0.        , 0.        ,\n",
       "       0.        , 0.        , 0.        , 0.        , 0.        ,\n",
       "       0.        , 0.        , 0.        , 0.        , 0.        ,\n",
       "       0.        , 0.        , 0.        , 0.        , 0.        ,\n",
       "       0.        , 0.        , 0.15686275, 0.59607846, 0.95686275,\n",
       "       0.9882353 , 0.99215686, 0.8784314 , 0.827451  , 0.9882353 ,\n",
       "       0.9098039 , 0.15686275, 0.        , 0.        , 0.        ,\n",
       "       0.        , 0.        , 0.        , 0.        , 0.        ,\n",
       "       0.        , 0.        , 0.        , 0.        , 0.        ,\n",
       "       0.        , 0.        , 0.        , 0.05882353, 0.59607846,\n",
       "       0.9372549 , 0.9882353 , 0.9882353 , 0.9882353 , 0.84705883,\n",
       "       0.12156863, 0.14509805, 0.9882353 , 0.9882353 , 0.23529412,\n",
       "       0.        , 0.        , 0.        , 0.        , 0.        ,\n",
       "       0.        , 0.        , 0.        , 0.        , 0.        ,\n",
       "       0.        , 0.        , 0.        , 0.        , 0.        ,\n",
       "       0.        , 0.3764706 , 0.9882353 , 0.9882353 , 0.9882353 ,\n",
       "       0.9882353 , 0.8509804 , 0.11372549, 0.        , 0.14509805,\n",
       "       0.9882353 , 0.9882353 , 0.23529412, 0.        , 0.        ,\n",
       "       0.        , 0.        , 0.        , 0.        , 0.        ,\n",
       "       0.        , 0.        , 0.        , 0.        , 0.        ,\n",
       "       0.        , 0.        , 0.        , 0.        , 0.70980394,\n",
       "       0.9882353 , 0.9882353 , 0.8627451 , 0.654902  , 0.11764706,\n",
       "       0.        , 0.        , 0.3019608 , 0.9882353 , 0.9882353 ,\n",
       "       0.23529412, 0.        , 0.        , 0.        , 0.        ,\n",
       "       0.        , 0.        , 0.        , 0.        , 0.        ,\n",
       "       0.        , 0.        , 0.        , 0.        , 0.        ,\n",
       "       0.        , 0.        , 0.10196079, 0.5019608 , 0.22745098,\n",
       "       0.08627451, 0.        , 0.        , 0.        , 0.        ,\n",
       "       0.39215687, 0.9882353 , 0.9882353 , 0.23529412, 0.        ,\n",
       "       0.        , 0.        , 0.        , 0.        , 0.        ,\n",
       "       0.        , 0.        , 0.        , 0.        , 0.        ,\n",
       "       0.        , 0.        , 0.        , 0.        , 0.        ,\n",
       "       0.        , 0.        , 0.        , 0.        , 0.        ,\n",
       "       0.        , 0.        , 0.        , 0.6156863 , 0.9882353 ,\n",
       "       0.9882353 , 0.23529412, 0.        , 0.        , 0.        ,\n",
       "       0.        , 0.        , 0.        , 0.        , 0.        ,\n",
       "       0.        , 0.        , 0.        , 0.        , 0.        ,\n",
       "       0.        , 0.        , 0.        , 0.        , 0.        ,\n",
       "       0.        , 0.        , 0.43137255, 0.4745098 , 0.47843137,\n",
       "       0.4745098 , 0.7921569 , 0.9882353 , 0.7607843 , 0.01176471,\n",
       "       0.        , 0.        , 0.        , 0.        , 0.        ,\n",
       "       0.        , 0.        , 0.        , 0.        , 0.        ,\n",
       "       0.        , 0.        , 0.        , 0.        , 0.        ,\n",
       "       0.        , 0.        , 0.03921569, 0.20784314, 0.7019608 ,\n",
       "       0.99215686, 0.99215686, 1.        , 0.99215686, 0.99215686,\n",
       "       0.89411765, 0.13725491, 0.        , 0.        , 0.        ,\n",
       "       0.        , 0.        , 0.        , 0.        , 0.        ,\n",
       "       0.        , 0.        , 0.        , 0.        , 0.        ,\n",
       "       0.        , 0.        , 0.        , 0.01960784, 0.21176471,\n",
       "       0.8901961 , 0.9882353 , 0.9529412 , 0.89411765, 0.6666667 ,\n",
       "       0.9490196 , 0.9882353 , 0.9882353 , 0.90588236, 0.45882353,\n",
       "       0.02352941, 0.        , 0.        , 0.        , 0.        ,\n",
       "       0.        , 0.        , 0.        , 0.        , 0.        ,\n",
       "       0.        , 0.        , 0.        , 0.        , 0.        ,\n",
       "       0.02352941, 0.30588236, 0.9882353 , 0.9882353 , 0.49019608,\n",
       "       0.23137255, 0.        , 0.07058824, 0.8156863 , 0.9882353 ,\n",
       "       0.9882353 , 0.9882353 , 0.9882353 , 0.34117648, 0.02745098,\n",
       "       0.        , 0.        , 0.        , 0.        , 0.        ,\n",
       "       0.        , 0.        , 0.        , 0.        , 0.        ,\n",
       "       0.        , 0.        , 0.01960784, 0.5294118 , 0.9882353 ,\n",
       "       0.9882353 , 0.7058824 , 0.0627451 , 0.        , 0.08235294,\n",
       "       0.79607844, 0.99215686, 0.96862745, 0.5058824 , 0.6784314 ,\n",
       "       0.9882353 , 0.9882353 , 0.72156864, 0.25882354, 0.19215687,\n",
       "       0.19215687, 0.        , 0.        , 0.        , 0.        ,\n",
       "       0.        , 0.        , 0.        , 0.        , 0.01176471,\n",
       "       0.53333336, 0.9882353 , 0.94509804, 0.41568628, 0.06666667,\n",
       "       0.        , 0.20784314, 0.78431374, 0.9882353 , 0.84705883,\n",
       "       0.25490198, 0.        , 0.05490196, 0.28235295, 0.6392157 ,\n",
       "       0.94509804, 0.9882353 , 0.9882353 , 0.8745098 , 0.        ,\n",
       "       0.        , 0.        , 0.        , 0.        , 0.        ,\n",
       "       0.        , 0.        , 0.4117647 , 0.9882353 , 0.9490196 ,\n",
       "       0.34509805, 0.07058824, 0.28627452, 0.6666667 , 0.95686275,\n",
       "       0.9882353 , 0.49411765, 0.11372549, 0.        , 0.        ,\n",
       "       0.        , 0.        , 0.        , 0.34901962, 0.7058824 ,\n",
       "       0.7058824 , 0.14509805, 0.        , 0.        , 0.        ,\n",
       "       0.        , 0.        , 0.        , 0.        , 0.        ,\n",
       "       0.90588236, 0.9882353 , 0.9607843 , 0.8039216 , 0.84705883,\n",
       "       0.9882353 , 0.9882353 , 0.9882353 , 0.4862745 , 0.01176471,\n",
       "       0.        , 0.        , 0.        , 0.        , 0.        ,\n",
       "       0.        , 0.        , 0.        , 0.        , 0.        ,\n",
       "       0.        , 0.        , 0.        , 0.        , 0.        ,\n",
       "       0.        , 0.        , 0.        , 0.8117647 , 0.9882353 ,\n",
       "       0.9882353 , 0.9882353 , 0.9882353 , 0.69803923, 0.45490196,\n",
       "       0.14117648, 0.01568628, 0.        , 0.        , 0.        ,\n",
       "       0.        , 0.        , 0.        , 0.        , 0.        ,\n",
       "       0.        , 0.        , 0.        , 0.        , 0.        ,\n",
       "       0.        , 0.        , 0.        , 0.        , 0.        ,\n",
       "       0.        , 0.05098039, 0.3647059 , 0.56078434, 0.4745098 ,\n",
       "       0.09019608, 0.02352941, 0.        , 0.        , 0.        ,\n",
       "       0.        , 0.        , 0.        , 0.        , 0.        ,\n",
       "       0.        , 0.        , 0.        , 0.        , 0.        ,\n",
       "       0.        , 0.        , 0.        , 0.        , 0.        ,\n",
       "       0.        , 0.        , 0.        , 0.        , 0.        ,\n",
       "       0.        , 0.        , 0.        , 0.        , 0.        ,\n",
       "       0.        , 0.        , 0.        , 0.        , 0.        ,\n",
       "       0.        , 0.        , 0.        , 0.        , 0.        ,\n",
       "       0.        , 0.        , 0.        , 0.        , 0.        ,\n",
       "       0.        , 0.        , 0.        , 0.        , 0.        ,\n",
       "       0.        , 0.        , 0.        , 0.        , 0.        ,\n",
       "       0.        , 0.        , 0.        , 0.        , 0.        ,\n",
       "       0.        , 0.        , 0.        , 0.        , 0.        ,\n",
       "       0.        , 0.        , 0.        , 0.        , 0.        ,\n",
       "       0.        , 0.        , 0.        , 0.        , 0.        ,\n",
       "       0.        , 0.        , 0.        , 0.        , 0.        ,\n",
       "       0.        , 0.        , 0.        , 0.        , 0.        ,\n",
       "       0.        , 0.        , 0.        , 0.        , 0.        ,\n",
       "       0.        , 0.        , 0.        , 0.        , 0.        ,\n",
       "       0.        , 0.        , 0.        , 0.        , 0.        ,\n",
       "       0.        , 0.        , 0.        , 0.        , 0.        ,\n",
       "       0.        , 0.        , 0.        , 0.        , 0.        ,\n",
       "       0.        , 0.        , 0.        , 0.        , 0.        ,\n",
       "       0.        , 0.        , 0.        , 0.        , 0.        ,\n",
       "       0.        , 0.        , 0.        , 0.        , 0.        ,\n",
       "       0.        , 0.        , 0.        , 0.        , 0.        ,\n",
       "       0.        , 0.        , 0.        , 0.        , 0.        ,\n",
       "       0.        , 0.        , 0.        , 0.        , 0.        ,\n",
       "       0.        , 0.        , 0.        , 0.        , 0.        ,\n",
       "       0.        , 0.        , 0.        , 0.        , 0.        ,\n",
       "       0.        , 0.        , 0.        , 0.        , 0.        ,\n",
       "       0.        , 0.        , 0.        , 0.        ], dtype=float32)"
      ]
     },
     "execution_count": 7,
     "metadata": {},
     "output_type": "execute_result"
    }
   ],
   "source": [
    "X_train[5]"
   ]
  },
  {
   "cell_type": "markdown",
   "metadata": {},
   "source": [
    "###  preprocessing output data"
   ]
  },
  {
   "cell_type": "code",
   "execution_count": 8,
   "metadata": {},
   "outputs": [
    {
     "data": {
      "text/plain": [
       "array([5, 0, 4, 1, 9], dtype=uint8)"
      ]
     },
     "execution_count": 8,
     "metadata": {},
     "output_type": "execute_result"
    }
   ],
   "source": [
    "y_train[:5]"
   ]
  },
  {
   "cell_type": "code",
   "execution_count": 9,
   "metadata": {},
   "outputs": [],
   "source": [
    "Y_train = np_utils.to_categorical(y_train, len(set(y_train)))\n",
    "Y_test = np_utils.to_categorical(y_test, len(set(y_train)))"
   ]
  },
  {
   "cell_type": "code",
   "execution_count": 10,
   "metadata": {},
   "outputs": [
    {
     "data": {
      "text/plain": [
       "array([[0., 0., 0., 0., 0., 1., 0., 0., 0., 0.],\n",
       "       [1., 0., 0., 0., 0., 0., 0., 0., 0., 0.],\n",
       "       [0., 0., 0., 0., 1., 0., 0., 0., 0., 0.],\n",
       "       [0., 1., 0., 0., 0., 0., 0., 0., 0., 0.],\n",
       "       [0., 0., 0., 0., 0., 0., 0., 0., 0., 1.]], dtype=float32)"
      ]
     },
     "execution_count": 10,
     "metadata": {},
     "output_type": "execute_result"
    }
   ],
   "source": [
    "Y_train[:5]"
   ]
  },
  {
   "cell_type": "markdown",
   "metadata": {},
   "source": [
    "### initializing the parameters"
   ]
  },
  {
   "cell_type": "code",
   "execution_count": 11,
   "metadata": {},
   "outputs": [
    {
     "name": "stdout",
     "output_type": "stream",
     "text": [
      "WARNING:tensorflow:From /usr/local/lib/python3.6/dist-packages/tensorflow/python/framework/op_def_library.py:263: colocate_with (from tensorflow.python.framework.ops) is deprecated and will be removed in a future version.\n",
      "Instructions for updating:\n",
      "Colocations handled automatically by placer.\n"
     ]
    }
   ],
   "source": [
    "NB_EPOCH = 30  # epoch -> iterations -> 20 to 200\n",
    "BATCH_SIZE = 128 # multiples of 64\n",
    "VERBOSE = 1 \n",
    "NB_CLASSES = 10 # output classes\n",
    "\n",
    "OPTIMIZER = RMSprop()\n",
    "N_HIDDEN = 128  # multiples of 64\n",
    "VALIDATION_SPLIT = 0.1\n",
    "\n",
    "DROPOUT = 0.1\n",
    "# graph = tf.get_default_graph()"
   ]
  },
  {
   "cell_type": "markdown",
   "metadata": {},
   "source": [
    "### model defining"
   ]
  },
  {
   "cell_type": "code",
   "execution_count": 12,
   "metadata": {},
   "outputs": [
    {
     "name": "stdout",
     "output_type": "stream",
     "text": [
      "_________________________________________________________________\n",
      "Layer (type)                 Output Shape              Param #   \n",
      "=================================================================\n",
      "dense_1 (Dense)              (None, 10)                7850      \n",
      "_________________________________________________________________\n",
      "activation_1 (Activation)    (None, 10)                0         \n",
      "=================================================================\n",
      "Total params: 7,850\n",
      "Trainable params: 7,850\n",
      "Non-trainable params: 0\n",
      "_________________________________________________________________\n"
     ]
    }
   ],
   "source": [
    "# # simple architecture\n",
    "# model = Sequential()\n",
    "\n",
    "# model.add(Dense(NB_CLASSES, input_shape=(RESHAPED,)))\n",
    "# model.add(Activation('relu'))\n",
    "\n",
    "\n",
    "# model.compile(loss='categorical_crossentropy', optimizer=OPTIMIZER, metrics=['accuracy'])\n",
    "# model.summary()"
   ]
  },
  {
   "cell_type": "code",
   "execution_count": 32,
   "metadata": {},
   "outputs": [
    {
     "name": "stdout",
     "output_type": "stream",
     "text": [
      "_________________________________________________________________\n",
      "Layer (type)                 Output Shape              Param #   \n",
      "=================================================================\n",
      "dense_4 (Dense)              (None, 128)               100480    \n",
      "_________________________________________________________________\n",
      "activation_4 (Activation)    (None, 128)               0         \n",
      "_________________________________________________________________\n",
      "dense_5 (Dense)              (None, 128)               16512     \n",
      "_________________________________________________________________\n",
      "activation_5 (Activation)    (None, 128)               0         \n",
      "_________________________________________________________________\n",
      "dense_6 (Dense)              (None, 128)               16512     \n",
      "_________________________________________________________________\n",
      "activation_6 (Activation)    (None, 128)               0         \n",
      "_________________________________________________________________\n",
      "dense_7 (Dense)              (None, 10)                1290      \n",
      "_________________________________________________________________\n",
      "activation_7 (Activation)    (None, 10)                0         \n",
      "=================================================================\n",
      "Total params: 134,794\n",
      "Trainable params: 134,794\n",
      "Non-trainable params: 0\n",
      "_________________________________________________________________\n"
     ]
    }
   ],
   "source": [
    "# # with hidden layers \n",
    "# model = Sequential()\n",
    "# model.add(Dense(N_HIDDEN, input_shape=(RESHAPED,)))\n",
    "# model.add(Activation('relu'))\n",
    "# model.add(Dense(N_HIDDEN))\n",
    "# model.add(Activation('relu'))\n",
    "# model.add(Dense(N_HIDDEN))\n",
    "# model.add(Activation('relu'))\n",
    "# model.add(Dense(NB_CLASSES))\n",
    "# model.add(Activation('softmax'))\n",
    "\n",
    "# model.compile(loss='categorical_crossentropy', optimizer=OPTIMIZER, metrics=['accuracy'])\n",
    "# model.summary()"
   ]
  },
  {
   "cell_type": "code",
   "execution_count": 12,
   "metadata": {},
   "outputs": [
    {
     "name": "stdout",
     "output_type": "stream",
     "text": [
      "WARNING:tensorflow:From /usr/local/lib/python3.6/dist-packages/keras/backend/tensorflow_backend.py:3368: calling dropout (from tensorflow.python.ops.nn_ops) with keep_prob is deprecated and will be removed in a future version.\n",
      "Instructions for updating:\n",
      "Please use `rate` instead of `keep_prob`. Rate should be set to `rate = 1 - keep_prob`.\n",
      "_________________________________________________________________\n",
      "Layer (type)                 Output Shape              Param #   \n",
      "=================================================================\n",
      "dense_1 (Dense)              (None, 128)               100480    \n",
      "_________________________________________________________________\n",
      "activation_1 (Activation)    (None, 128)               0         \n",
      "_________________________________________________________________\n",
      "dropout_1 (Dropout)          (None, 128)               0         \n",
      "_________________________________________________________________\n",
      "dense_2 (Dense)              (None, 128)               16512     \n",
      "_________________________________________________________________\n",
      "activation_2 (Activation)    (None, 128)               0         \n",
      "_________________________________________________________________\n",
      "dropout_2 (Dropout)          (None, 128)               0         \n",
      "_________________________________________________________________\n",
      "dense_3 (Dense)              (None, 10)                1290      \n",
      "_________________________________________________________________\n",
      "activation_3 (Activation)    (None, 10)                0         \n",
      "=================================================================\n",
      "Total params: 118,282\n",
      "Trainable params: 118,282\n",
      "Non-trainable params: 0\n",
      "_________________________________________________________________\n"
     ]
    }
   ],
   "source": [
    "model = Sequential()\n",
    "model.add(Dense(N_HIDDEN, input_shape=(RESHAPED,)))\n",
    "model.add(Activation('relu'))\n",
    "model.add(Dropout(DROPOUT))\n",
    "model.add(Dense(N_HIDDEN))\n",
    "model.add(Activation('relu'))\n",
    "model.add(Dropout(DROPOUT))\n",
    "model.add(Dense(NB_CLASSES))\n",
    "model.add(Activation('softmax'))\n",
    "\n",
    "model.compile(loss='categorical_crossentropy', optimizer=OPTIMIZER, metrics=['accuracy'])\n",
    "model.summary()"
   ]
  },
  {
   "cell_type": "markdown",
   "metadata": {},
   "source": [
    "### training"
   ]
  },
  {
   "cell_type": "code",
   "execution_count": 13,
   "metadata": {},
   "outputs": [
    {
     "name": "stdout",
     "output_type": "stream",
     "text": [
      "WARNING:tensorflow:From /usr/local/lib/python3.6/dist-packages/tensorflow/python/ops/math_ops.py:3066: to_int32 (from tensorflow.python.ops.math_ops) is deprecated and will be removed in a future version.\n",
      "Instructions for updating:\n",
      "Use tf.cast instead.\n",
      "Train on 54000 samples, validate on 6000 samples\n",
      "Epoch 1/30\n",
      "54000/54000 [==============================] - 2s 37us/step - loss: 0.3593 - acc: 0.8955 - val_loss: 0.1356 - val_acc: 0.9607\n",
      "Epoch 2/30\n",
      "54000/54000 [==============================] - 2s 30us/step - loss: 0.1543 - acc: 0.9535 - val_loss: 0.0936 - val_acc: 0.9728\n",
      "Epoch 3/30\n",
      "54000/54000 [==============================] - 2s 30us/step - loss: 0.1150 - acc: 0.9647 - val_loss: 0.0860 - val_acc: 0.9735\n",
      "Epoch 4/30\n",
      "54000/54000 [==============================] - 2s 30us/step - loss: 0.0904 - acc: 0.9719 - val_loss: 0.0792 - val_acc: 0.9783\n",
      "Epoch 5/30\n",
      "54000/54000 [==============================] - 2s 30us/step - loss: 0.0762 - acc: 0.9765 - val_loss: 0.0786 - val_acc: 0.9780\n",
      "Epoch 6/30\n",
      "54000/54000 [==============================] - 2s 30us/step - loss: 0.0646 - acc: 0.9800 - val_loss: 0.0734 - val_acc: 0.9802\n",
      "Epoch 7/30\n",
      "54000/54000 [==============================] - 2s 30us/step - loss: 0.0602 - acc: 0.9814 - val_loss: 0.0729 - val_acc: 0.9795\n",
      "Epoch 8/30\n",
      "54000/54000 [==============================] - 2s 30us/step - loss: 0.0530 - acc: 0.9832 - val_loss: 0.0794 - val_acc: 0.9787\n",
      "Epoch 9/30\n",
      "54000/54000 [==============================] - 2s 30us/step - loss: 0.0451 - acc: 0.9861 - val_loss: 0.0710 - val_acc: 0.9820\n",
      "Epoch 10/30\n",
      "54000/54000 [==============================] - 2s 30us/step - loss: 0.0424 - acc: 0.9864 - val_loss: 0.0689 - val_acc: 0.9817\n",
      "Epoch 11/30\n",
      "54000/54000 [==============================] - 2s 31us/step - loss: 0.0384 - acc: 0.9880 - val_loss: 0.0778 - val_acc: 0.9820\n",
      "Epoch 12/30\n",
      "54000/54000 [==============================] - 2s 31us/step - loss: 0.0350 - acc: 0.9889 - val_loss: 0.0674 - val_acc: 0.9827\n",
      "Epoch 13/30\n",
      "54000/54000 [==============================] - 2s 31us/step - loss: 0.0340 - acc: 0.9886 - val_loss: 0.0813 - val_acc: 0.9820\n",
      "Epoch 14/30\n",
      "54000/54000 [==============================] - 2s 31us/step - loss: 0.0298 - acc: 0.9901 - val_loss: 0.0796 - val_acc: 0.9820\n",
      "Epoch 15/30\n",
      "54000/54000 [==============================] - 2s 31us/step - loss: 0.0291 - acc: 0.9906 - val_loss: 0.0793 - val_acc: 0.9832\n",
      "Epoch 16/30\n",
      "54000/54000 [==============================] - 2s 31us/step - loss: 0.0264 - acc: 0.9915 - val_loss: 0.0796 - val_acc: 0.9838\n",
      "Epoch 17/30\n",
      "54000/54000 [==============================] - 2s 31us/step - loss: 0.0259 - acc: 0.9918 - val_loss: 0.0851 - val_acc: 0.9800\n",
      "Epoch 18/30\n",
      "54000/54000 [==============================] - 2s 31us/step - loss: 0.0233 - acc: 0.9918 - val_loss: 0.0900 - val_acc: 0.9808\n",
      "Epoch 19/30\n",
      "54000/54000 [==============================] - 2s 31us/step - loss: 0.0217 - acc: 0.9924 - val_loss: 0.0866 - val_acc: 0.9837\n",
      "Epoch 20/30\n",
      "54000/54000 [==============================] - 2s 31us/step - loss: 0.0224 - acc: 0.9930 - val_loss: 0.0883 - val_acc: 0.9808\n",
      "Epoch 21/30\n",
      "54000/54000 [==============================] - 2s 31us/step - loss: 0.0206 - acc: 0.9932 - val_loss: 0.0909 - val_acc: 0.9828\n",
      "Epoch 22/30\n",
      "54000/54000 [==============================] - 2s 34us/step - loss: 0.0207 - acc: 0.9937 - val_loss: 0.1031 - val_acc: 0.9810\n",
      "Epoch 23/30\n",
      "54000/54000 [==============================] - 2s 37us/step - loss: 0.0194 - acc: 0.9936 - val_loss: 0.0980 - val_acc: 0.9820\n",
      "Epoch 24/30\n",
      "54000/54000 [==============================] - 2s 36us/step - loss: 0.0190 - acc: 0.9931 - val_loss: 0.0992 - val_acc: 0.9805\n",
      "Epoch 25/30\n",
      "54000/54000 [==============================] - 2s 35us/step - loss: 0.0186 - acc: 0.9940 - val_loss: 0.0988 - val_acc: 0.9813\n",
      "Epoch 26/30\n",
      "54000/54000 [==============================] - 2s 30us/step - loss: 0.0164 - acc: 0.9947 - val_loss: 0.0975 - val_acc: 0.9823\n",
      "Epoch 27/30\n",
      "54000/54000 [==============================] - 2s 31us/step - loss: 0.0170 - acc: 0.9947 - val_loss: 0.1041 - val_acc: 0.9807\n",
      "Epoch 28/30\n",
      "54000/54000 [==============================] - 2s 30us/step - loss: 0.0171 - acc: 0.9948 - val_loss: 0.0966 - val_acc: 0.9815\n",
      "Epoch 29/30\n",
      "54000/54000 [==============================] - 2s 30us/step - loss: 0.0167 - acc: 0.9946 - val_loss: 0.0980 - val_acc: 0.9810\n",
      "Epoch 30/30\n",
      "54000/54000 [==============================] - 2s 31us/step - loss: 0.0159 - acc: 0.9949 - val_loss: 0.0902 - val_acc: 0.9823\n"
     ]
    }
   ],
   "source": [
    "history = model.fit(X_train, Y_train, batch_size=BATCH_SIZE, epochs=NB_EPOCH,verbose=VERBOSE, validation_split=VALIDATION_SPLIT)\n"
   ]
  },
  {
   "cell_type": "markdown",
   "metadata": {},
   "source": [
    "### testing"
   ]
  },
  {
   "cell_type": "code",
   "execution_count": 15,
   "metadata": {},
   "outputs": [
    {
     "name": "stdout",
     "output_type": "stream",
     "text": [
      "10000/10000 [==============================] - 0s 19us/step\n",
      "Test accuracy: 0.9804\n"
     ]
    }
   ],
   "source": [
    "score = model.evaluate(X_test, Y_test, verbose=VERBOSE)\n",
    "print('Test accuracy:', score[1])"
   ]
  },
  {
   "cell_type": "markdown",
   "metadata": {},
   "source": [
    "### results visualization"
   ]
  },
  {
   "cell_type": "code",
   "execution_count": 16,
   "metadata": {},
   "outputs": [
    {
     "data": {
      "image/png": "[encoded data removed]",
      "text/plain": [
       "<Figure size 432x288 with 1 Axes>"
      ]
     },
     "metadata": {},
     "output_type": "display_data"
    },
    {
     "data": {
      "image/png": "[encoded data removed]",
      "text/plain": [
       "<Figure size 432x288 with 1 Axes>"
      ]
     },
     "metadata": {},
     "output_type": "display_data"
    }
   ],
   "source": [
    "plt.plot(history.history['acc'])\n",
    "plt.plot(history.history['val_acc'])\n",
    "plt.title('model accuracy')\n",
    "plt.ylabel('accuracy')\n",
    "plt.xlabel('epoch')\n",
    "plt.legend(['train', 'test'], loc='upper left')\n",
    "plt.show()\n",
    "\n",
    "plt.plot(history.history['loss'])\n",
    "plt.plot(history.history['val_loss'])\n",
    "plt.title('model loss')\n",
    "plt.ylabel('loss')\n",
    "plt.xlabel('epoch')\n",
    "plt.legend(['train', 'test'], loc='upper left')\n",
    "plt.show()"
   ]
  },
  {
   "cell_type": "markdown",
   "metadata": {},
   "source": [
    "### saving model"
   ]
  },
  {
   "cell_type": "code",
   "execution_count": 16,
   "metadata": {},
   "outputs": [],
   "source": [
    "# method-1\n",
    "model_json = model.to_json()\n",
    "open('Maize-DL_architecture.json', 'w').write(model_json)\n",
    "model.save_weights('Maize-DL_weights.h5', overwrite=True)"
   ]
  },
  {
   "cell_type": "code",
   "execution_count": 35,
   "metadata": {},
   "outputs": [],
   "source": [
    "# method-2\n",
    "model.save(\"./Deep_Learning/DL.model\")"
   ]
  },
  {
   "cell_type": "markdown",
   "metadata": {},
   "source": [
    "### Real-time prediction"
   ]
  },
  {
   "cell_type": "code",
   "execution_count": 2,
   "metadata": {},
   "outputs": [],
   "source": [
    "img = cv2.imread(\"./Deep_Learning/zeros.png\",0)"
   ]
  },
  {
   "cell_type": "code",
   "execution_count": 3,
   "metadata": {},
   "outputs": [
    {
     "data": {
      "image/png": "[encoded data removed]",
      "text/plain": [
       "<Figure size 432x288 with 1 Axes>"
      ]
     },
     "metadata": {},
     "output_type": "display_data"
    }
   ],
   "source": [
    "plt.imshow(img)\n",
    "plt.show()"
   ]
  },
  {
   "cell_type": "code",
   "execution_count": 4,
   "metadata": {},
   "outputs": [],
   "source": [
    "img = cv2.resize(img,(28,28))"
   ]
  },
  {
   "cell_type": "code",
   "execution_count": 5,
   "metadata": {},
   "outputs": [],
   "source": [
    "img = img_to_array(img)"
   ]
  },
  {
   "cell_type": "code",
   "execution_count": 6,
   "metadata": {},
   "outputs": [],
   "source": [
    "img = np.expand_dims(img,axis=0)"
   ]
  },
  {
   "cell_type": "code",
   "execution_count": 7,
   "metadata": {},
   "outputs": [],
   "source": [
    "img=img.reshape(1,784)"
   ]
  },
  {
   "cell_type": "code",
   "execution_count": 8,
   "metadata": {},
   "outputs": [
    {
     "data": {
      "text/plain": [
       "(1, 784)"
      ]
     },
     "execution_count": 8,
     "metadata": {},
     "output_type": "execute_result"
    }
   ],
   "source": [
    "img.shape"
   ]
  },
  {
   "cell_type": "code",
   "execution_count": 9,
   "metadata": {},
   "outputs": [
    {
     "name": "stdout",
     "output_type": "stream",
     "text": [
      "WARNING:tensorflow:From /usr/local/lib/python3.6/dist-packages/tensorflow/python/framework/op_def_library.py:263: colocate_with (from tensorflow.python.framework.ops) is deprecated and will be removed in a future version.\n",
      "Instructions for updating:\n",
      "Colocations handled automatically by placer.\n",
      "WARNING:tensorflow:From /usr/local/lib/python3.6/dist-packages/keras/backend/tensorflow_backend.py:3368: calling dropout (from tensorflow.python.ops.nn_ops) with keep_prob is deprecated and will be removed in a future version.\n",
      "Instructions for updating:\n",
      "Please use `rate` instead of `keep_prob`. Rate should be set to `rate = 1 - keep_prob`.\n",
      "WARNING:tensorflow:From /usr/local/lib/python3.6/dist-packages/tensorflow/python/ops/math_ops.py:3066: to_int32 (from tensorflow.python.ops.math_ops) is deprecated and will be removed in a future version.\n",
      "Instructions for updating:\n",
      "Use tf.cast instead.\n"
     ]
    }
   ],
   "source": [
    "model = load_model(\"./Deep_Learning/DL.model\")"
   ]
  },
  {
   "cell_type": "code",
   "execution_count": 10,
   "metadata": {},
   "outputs": [
    {
     "data": {
      "text/plain": [
       "array([[0., 0., 1., 0., 0., 0., 0., 0., 0., 0.]], dtype=float32)"
      ]
     },
     "execution_count": 10,
     "metadata": {},
     "output_type": "execute_result"
    }
   ],
   "source": [
    "model.predict(img)"
   ]
  },
  {
   "cell_type": "code",
   "execution_count": 11,
   "metadata": {},
   "outputs": [
    {
     "data": {
      "text/plain": [
       "array([2])"
      ]
     },
     "execution_count": 11,
     "metadata": {},
     "output_type": "execute_result"
    }
   ],
   "source": [
    "model.predict_classes(img)"
   ]
  },
  {
   "cell_type": "code",
   "execution_count": 12,
   "metadata": {},
   "outputs": [],
   "source": [
    "LoadedModel = load_model(\"./Deep_Learning/DL-Maize.model\")"
   ]
  },
  {
   "cell_type": "code",
   "execution_count": 13,
   "metadata": {},
   "outputs": [
    {
     "data": {
      "text/plain": [
       "array([[0., 0., 1., 0., 0., 0., 0., 0., 0., 0.]], dtype=float32)"
      ]
     },
     "execution_count": 13,
     "metadata": {},
     "output_type": "execute_result"
    }
   ],
   "source": [
    "LoadedModel.predict([img])"
   ]
  },
  {
   "cell_type": "code",
   "execution_count": 56,
   "metadata": {},
   "outputs": [
    {
     "data": {
      "text/plain": [
       "2"
      ]
     },
     "execution_count": 56,
     "metadata": {},
     "output_type": "execute_result"
    }
   ],
   "source": [
    "LoadedModel.predict_classes([img])[0]"
   ]
  },
  {
   "cell_type": "code",
   "execution_count": 42,
   "metadata": {},
   "outputs": [
    {
     "data": {
      "text/plain": [
       "array([[0., 0., 1., 0., 0., 0., 0., 0., 0., 0.]], dtype=float32)"
      ]
     },
     "execution_count": 42,
     "metadata": {},
     "output_type": "execute_result"
    }
   ],
   "source": [
    "LoadedModel.predict_proba([img])"
   ]
  },
  {
   "cell_type": "markdown",
   "metadata": {},
   "source": [
    "## Simple RNN"
   ]
  },
  {
   "cell_type": "markdown",
   "metadata": {},
   "source": [
    "### importing libs"
   ]
  },
  {
   "cell_type": "code",
   "execution_count": 1,
   "metadata": {},
   "outputs": [
    {
     "name": "stderr",
     "output_type": "stream",
     "text": [
      "Using TensorFlow backend.\n",
      "/usr/local/lib/python3.6/dist-packages/tensorflow/python/framework/dtypes.py:526: FutureWarning: Passing (type, 1) or '1type' as a synonym of type is deprecated; in a future version of numpy, it will be understood as (type, (1,)) / '(1,)type'.\n",
      "  _np_qint8 = np.dtype([(\"qint8\", np.int8, 1)])\n",
      "/usr/local/lib/python3.6/dist-packages/tensorflow/python/framework/dtypes.py:527: FutureWarning: Passing (type, 1) or '1type' as a synonym of type is deprecated; in a future version of numpy, it will be understood as (type, (1,)) / '(1,)type'.\n",
      "  _np_quint8 = np.dtype([(\"quint8\", np.uint8, 1)])\n",
      "/usr/local/lib/python3.6/dist-packages/tensorflow/python/framework/dtypes.py:528: FutureWarning: Passing (type, 1) or '1type' as a synonym of type is deprecated; in a future version of numpy, it will be understood as (type, (1,)) / '(1,)type'.\n",
      "  _np_qint16 = np.dtype([(\"qint16\", np.int16, 1)])\n",
      "/usr/local/lib/python3.6/dist-packages/tensorflow/python/framework/dtypes.py:529: FutureWarning: Passing (type, 1) or '1type' as a synonym of type is deprecated; in a future version of numpy, it will be understood as (type, (1,)) / '(1,)type'.\n",
      "  _np_quint16 = np.dtype([(\"quint16\", np.uint16, 1)])\n",
      "/usr/local/lib/python3.6/dist-packages/tensorflow/python/framework/dtypes.py:530: FutureWarning: Passing (type, 1) or '1type' as a synonym of type is deprecated; in a future version of numpy, it will be understood as (type, (1,)) / '(1,)type'.\n",
      "  _np_qint32 = np.dtype([(\"qint32\", np.int32, 1)])\n",
      "/usr/local/lib/python3.6/dist-packages/tensorflow/python/framework/dtypes.py:535: FutureWarning: Passing (type, 1) or '1type' as a synonym of type is deprecated; in a future version of numpy, it will be understood as (type, (1,)) / '(1,)type'.\n",
      "  np_resource = np.dtype([(\"resource\", np.ubyte, 1)])\n"
     ]
    }
   ],
   "source": [
    "import numpy as np\n",
    "from keras.layers import Dense, Activation\n",
    "from keras.layers.recurrent import SimpleRNN\n",
    "from keras.models import Sequential"
   ]
  },
  {
   "cell_type": "markdown",
   "metadata": {},
   "source": [
    "### loading datasets"
   ]
  },
  {
   "cell_type": "code",
   "execution_count": 2,
   "metadata": {},
   "outputs": [],
   "source": [
    "fin = open(\"./Deep_Learning/11.txt\", 'rb')\n",
    "lines = []\n",
    "for line in fin:\n",
    "    line = line.strip().lower()\n",
    "    line = line.decode(\"ascii\", \"ignore\")\n",
    "    if len(line) == 0:\n",
    "        continue\n",
    "    lines.append(line)\n",
    "fin.close()\n",
    "\n",
    "text = \" \".join(lines)"
   ]
  },
  {
   "cell_type": "code",
   "execution_count": 3,
   "metadata": {},
   "outputs": [
    {
     "data": {
      "text/plain": [
       "['project gutenbergs alices adventures in wonderland, by lewis carroll',\n",
       " 'this ebook is for the use of anyone anywhere at no cost and with',\n",
       " 'almost no restrictions whatsoever.  you may copy it, give it away or',\n",
       " 're-use it under the terms of the project gutenberg license included',\n",
       " 'with this ebook or online at www.gutenberg.org']"
      ]
     },
     "execution_count": 3,
     "metadata": {},
     "output_type": "execute_result"
    }
   ],
   "source": [
    "lines[:5]"
   ]
  },
  {
   "cell_type": "code",
   "execution_count": 4,
   "metadata": {
    "scrolled": true
   },
   "outputs": [
    {
     "data": {
      "text/plain": [
       "'project gutenbergs alices adventures in wonderland, by lewis carroll this ebook is for the use of anyone anywhere at no cost and with almost no restrictions whatsoever.  you may copy it, give it away or re-use it under the terms of the project gutenberg license included with this ebook or online at www.gutenberg.org title: alices adventures in wonderland author: lewis carroll posting date: june 25, 2008 [ebook #11] release date: march, 1994 last updated: october 6, 2016 language: english character set encoding: utf-8 *** start of this project gutenberg ebook alices adventures in wonderland *** alices adventures in wonderland lewis carroll the millennium fulcrum edition 3.0 chapter i. down the rabbit-hole alice was beginning to get very tired of sitting by her sister on the bank, and of having nothing to do: once or twice she had peeped into the book her sister was reading, but it had no pictures or conversations in it, and what is the use of a book, thought alice without pictures or conversations? so she was considering in her own mind (as well as she could, for the hot day made her feel very sleepy and stupid), whether the pleasure of making a daisy-chain would be worth the trouble of getting up and picking the daisies, when suddenly a white rabbit with pink eyes ran close by her. there was nothing so very remarkable in that; nor did alice think it so very much out of the way to hear the rabbit say to itself, oh dear! oh dear! i shall be late! (when she thought it over afterwards, it occurred to her that she ought to have wondered at this, but at the time it all seemed quite natural); but when the rabbit actually took a watch out of its waistcoat-pocket, and looked at it, and then hurried on, alice started to her feet, for it flashed across her mind that she had never before seen a rabbit with either a waistcoat-pocket, or a watch to take out of it, and burning with curiosity, she ran across the field after it, and fortunately was just in time to see it pop down a large rabbit-hole under the hedge. in another moment down went alice after it, never once considering how in the world she was to get out again. the rabbit-hole went straight on like a tunnel for some way, and then dipped suddenly down, so suddenly that alice had not a moment to think about stopping herself before she found herself falling down a very deep well. either the well was very deep, or she fell very slowly, for she had plenty of time as she went down to look about her and to wonder what was going to happen next. first, she tried to look down and make out what she was coming to, but it was too dark to see anything; then she looked at the sides of the well, and noticed that they were filled with cupboards and book-shelves; here and there she saw maps and pictures hung upon pegs. she took down a jar from one of the shelves as she passed; it was labelled orange marmalade, but to her great disappointment it was empty: she did not like to drop the jar for fear of killing somebody, so managed to put it into one of the cupboards as she fell past it. well! thought alice to herself, after such a fall as this, i shall think nothing of tumbling down stairs! how brave theyll all think me at home! why, i wouldnt say anything about it, even if i fell off the top of the house! (which was very likely true.) down, down, down. would the fall never come to an end! i wonder how many miles ive fallen by this time? she said aloud. i must be getting somewhere near the centre of the earth. let me see: that would be four thousand miles down, i think-- (for, you see, alice had learnt several things of this sort in her lessons in the schoolroom, and though this was not a very good opportunity for showing off her knowledge, as there was no one to listen to her, still it was good practice to say it over) --yes, thats about the right distance--but then i wonder what latitude or longitude ive got to? (alice had no idea what latitude was, or longitude either, but thought they were nice grand words to say.) presently she began again. i wonder if i shall fall right through the earth! how funny itll seem to come out among the people that walk with their heads downward! the antipathies, i think-- (she was rather glad there was no one listening, this time, as it didnt sound at all the right word) --but i shall have to ask them what the name of the country is, you know. please, maam, is this new zealand or australia? (and she tried to curtsey as she spoke--fancy curtseying as youre falling through the air! do you think you could manage it?) and what an ignorant little girl shell think me for asking! no, itll never do to ask: perhaps i shall see it written up somewhere. down, down, down. there was nothing else to do, so alice soon began talking again. dinahll miss me very much to-night, i should think! (dinah was the cat.) i hope theyll remember her saucer of milk at tea-time. dinah my dear! i wish you were down here with me! there are no mice in the air, im afraid, but you might catch a bat, and thats very like a mouse, you know. but do cats eat bats, i wonder? and here alice began to get rather sleepy, and went on saying to herself, in a dreamy sort of way, do cats eat bats? do cats eat bats? and sometimes, do bats eat cats? for, you see, as she couldnt answer either question, it didnt much matter which way she put it. she felt that she was dozing off, and had just begun to dream that she was walking hand in hand with dinah, and saying to her very earnestly, now, dinah, tell me the truth: did you ever eat a bat? when suddenly, thump! thump! down she came upon a heap of sticks and dry leaves, and the fall was over. alice was not a bit hurt, and she jumped up on to her feet in a moment: she looked up, but it was all dark overhead; before her was another long passage, and the white rabbit was still in sight, hurrying down it. there was not a moment to be lost: away went alice like the wind, and was just in time to hear it say, as it turned a corner, oh my ears and whiskers, how late its getting! she was close behind it when she turned the corner, but the rabbit was no longer to be seen: she found herself in a long, low hall, which was lit up by a row of lamps hanging from the roof. there were doors all round the hall, but they were all locked; and when alice had been all the way down one side and up the other, trying every door, she walked sadly down the middle, wondering how she was ever to get out again. suddenly she came upon a little three-legged table, all made of solid glass; there was nothing on it except a tiny golden key, and alices first thought was that it might belong to one of the doors of the hall; but, alas! either the locks were too large, or the key was too small, but at any rate it would not open any of them. however, on the second time round, she came upon a low curtain she had not noticed before, and behind it was a little door about fifteen inches high: she tried the little golden key in the lock, and to her great delight it fitted! alice opened the door and found that it led into a small passage, not much larger than a rat-hole: she knelt down and looked along the passage into the loveliest garden you ever saw. how she longed to get out of that dark hall, and wander about among those beds of bright flowers and those cool fountains, but she could not even get her head through the doorway; and even if my head would go through, thought poor alice, it would be of very little use without my shoulders. oh, how i wish i could shut up like a telescope! i think i could, if i only knew how to begin. for, you see, so many out-of-the-way things had happened lately, that alice had begun to think that very few things indeed were really impossible. there seemed to be no use in waiting by the little door, so she went back to the table, half hoping she might find another key on it, or at any rate a book of rules for shutting people up like telescopes: this time she found a little bottle on it, [which certainly was not here before, said alice,) and round the neck of the bottle was a paper label, with the words drink me beautifully printed on it in large letters. it was all very well to say drink me, but the wise little alice was not going to do that in a hurry. no, ill look first, she said, and see whether its marked poison or not; for she had read several nice little histories about children who had got burnt, and eaten up by wild beasts and other unpleasant things, all because they would not remember the simple rules their friends had taught them: such as, that a red-hot poker will burn you if you hold it too long; and that if you cut your finger very deeply with a knife, it usually bleeds; and she had never forgotten that, if you drink much from a bottle marked poison, it is almost certain to disagree with you, sooner or later. however, this bottle was not marked poison, so alice ventured to taste it, and finding it very nice, (it had, in fact, a sort of mixed flavour of cherry-tart, custard, pine-apple, roast turkey, toffee, and hot buttered toast,) she very soon finished it off. *    *    *    *    *    *    * *    *    *    *    *    * *    *    *    *    *    *    * what a curious feeling! said alice; i must be shutting up like a telescope. and so it was indeed: she was now only ten inches high, and her face brightened up at the thought that she was now the right size for going through the little door into that lovely garden. first, however, she waited for a few minutes to see if she was going to shrink any further: she felt a little nervous about this; for it might end, you know, said alice to herself, in my going out altogether, like a candle. i wonder what i should be like then? and she tried to fancy what the flame of a candle is like after the candle is blown out, for she could not remember ever having seen such a thing. after a while, finding that nothing more happened, she decided on going into the garden at once; but, alas for poor alice! when she got to the door, she found she had forgotten the little golden key, and when she went back to the table for it, she found she could not possibly reach it: she could see it quite plainly through the glass, and she tried her best to climb up one of the legs of the table, but it was too slippery; and when she had tired herself out with trying, the poor little thing sat down and cried. come, theres no use in crying like that! said alice to herself, rather sharply; i advise you to leave off this minute! she generally gave herself very good advice, (though she very seldom followed it), and sometimes she scolded herself so severely as to bring tears into her eyes; and once she remembered trying to box her own ears for having cheated herself in a game of croquet she was playing against herself, for this curious child was very fond of pretending to be two people. but its no use now, thought poor alice, to pretend to be two people! why, theres hardly enough of me left to make one respectable person! soon her eye fell on a little glass box that was lying under the table: she opened it, and found in it a very small cake, on which the words eat me were beautifully marked in currants. well, ill eat it, said alice, and if it makes me grow larger, i can reach the key; and if it makes me grow smaller, i can creep under the door; so either way ill get into the garden, and i dont care which happens! she ate a little bit, and said anxiously to herself, which way? which way?, holding her hand on the top of her head to feel which way it was growing, and she was quite surprised to find that she remained the same size: to be sure, this generally happens when one eats cake, but alice had got so much into the way of expecting nothing but out-of-the-way things to happen, that it seemed quite dull and stupid for life to go on in the common way. so she set to work, and very soon finished off the cake. *    *    *    *    *    *    * *    *    *    *    *    * *    *    *    *    *    *    * chapter ii. the pool of tears curiouser and curiouser! cried alice (she was so much surprised, that for the moment she quite forgot how to speak good english); now im opening out like the largest telescope that ever was! good-bye, feet! (for when she looked down at her feet, they seemed to be almost out of sight, they were getting so far off). oh, my poor little feet, i wonder who will put on your shoes and stockings for you now, dears? im sure _i_ shant be able! i shall be a great deal too far off to trouble myself about you: you must manage the best way you can;--but i must be kind to them, thought alice, or perhaps they wont walk the way i want to go! let me see: ill give them a new pair of boots every christmas. and she went on planning to herself how she would manage it. they must go by the carrier, she thought; and how funny itll seem, sending presents to ones own feet! and how odd the directions will look! alices right foot, esq. hearthrug, near the fender, (with alices love). oh dear, what nonsense im talking! just then her head struck against the roof of the hall: in fact she was now more than nine feet high, and she at once took up the little golden key and hurried off to the garden door. poor alice! it was as much as she could do, lying down on one side, to look through into the garden with one eye; but to get through was more hopeless than ever: she sat down and began to cry again. you ought to be ashamed of yourself, said alice, a great girl like you, (she might well say this), to go on crying in this way! stop this moment, i tell you! but she went on all the same, shedding gallons of tears, until there was a large pool all round her, about four inches deep and reaching half down the hall. after a time she heard a little pattering of feet in the distance, and she hastily dried her eyes to see what was coming. it was the white rabbit returning, splendidly dressed, with a pair of white kid gloves in one hand and a large fan in the other: he came trotting along in a great hurry, muttering to himself as he came, oh! the duchess, the duchess! oh! wont she be savage if ive kept her waiting! alice felt so desperate that she was ready to ask help of any one; so, when the rabbit came near her, she began, in a low, timid voice, if you please, sir-- the rabbit started violently, dropped the white kid gloves and the fan, and skurried away into the darkness as hard as he could go. alice took up the fan and gloves, and, as the hall was very hot, she kept fanning herself all the time she went on talking: dear, dear! how queer everything is to-day! and yesterday things went on just as usual. i wonder if ive been changed in the night? let me think: was i the same when i got up this morning? i almost think i can remember feeling a little different. but if im not the same, the next question is, who in the world am i? ah, thats the great puzzle! and she began thinking over all the children she knew that were of the same age as herself, to see if she could have been changed for any of them. im sure im not ada, she said, for her hair goes in such long ringlets, and mine doesnt go in ringlets at all; and im sure i cant be mabel, for i know all sorts of things, and she, oh! she knows such a very little! besides, shes she, and im i, and--oh dear, how puzzling it all is! ill try if i know all the things i used to know. let me see: four times five is twelve, and four times six is thirteen, and four times seven is--oh dear! i shall never get to twenty at that rate! however, the multiplication table doesnt signify: lets try geography. london is the capital of paris, and paris is the capital of rome, and rome--no, thats all wrong, im certain! i must have been changed for mabel! ill try and say how doth the little-- and she crossed her hands on her lap as if she were saying lessons, and began to repeat it, but her voice sounded hoarse and strange, and the words did not come the same as they used to do:-- how doth the little crocodile improve his shining tail, and pour the waters of the nile on every golden scale! how cheerfully he seems to grin, how neatly spread his claws, and welcome little fishes in with gently smiling jaws! im sure those are not the right words, said poor alice, and her eyes filled with tears again as she went on, i must be mabel after all, and i shall have to go and live in that poky little house, and have next to no toys to play with, and oh! ever so many lessons to learn! no, ive made up my mind about it; if im mabel, ill stay down here! itll be no use their putting their heads down and saying come up again, dear! i shall only look up and say who am i then? tell me that first, and then, if i like being that person, ill come up: if not, ill stay down here till im somebody else--but, oh dear! cried alice, with a sudden burst of tears, i do wish they would put their heads down! i am so very tired of being all alone here! as she said this she looked down at her hands, and was surprised to see that she had put on one of the rabbits little white kid gloves while she was talking. how can i have done that? she thought. i must be growing small again. she got up and went to the table to measure herself by it, and found that, as nearly as she could guess, she was now about two feet high, and was going on shrinking rapidly: she soon found out that the cause of this was the fan she was holding, and she dropped it hastily, just in time to avoid shrinking away altogether. that was a narrow escape! said alice, a good deal frightened at the sudden change, but very glad to find herself still in existence; and now for the garden! and she ran with all speed back to the little door: but, alas! the little door was shut again, and the little golden key was lying on the glass table as before, and things are worse than ever, thought the poor child, for i never was so small as this before, never! and i declare its too bad, that it is! as she said these words her foot slipped, and in another moment, splash! she was up to her chin in salt water. her first idea was that she had somehow fallen into the sea, and in that case i can go back by railway, she said to herself. (alice had been to the seaside once in her life, and had come to the general conclusion, that wherever you go to on the english coast you find a number of bathing machines in the sea, some children digging in the sand with wooden spades, then a row of lodging houses, and behind them a railway station.) however, she soon made out that she was in the pool of tears which she had wept when she was nine feet high. i wish i hadnt cried so much! said alice, as she swam about, trying to find her way out. i shall be punished for it now, i suppose, by being drowned in my own tears! that will be a queer thing, to be sure! however, everything is queer to-day. just then she heard something splashing about in the pool a little way off, and she swam nearer to make out what it was: at first she thought it must be a walrus or hippopotamus, but then she remembered how small she was now, and she soon made out that it was only a mouse that had slipped in like herself. would it be of any use, now, thought alice, to speak to this mouse? everything is so out-of-the-way down here, that i should think very likely it can talk: at any rate, theres no harm in trying. so she began: o mouse, do you know the way out of this pool? i am very tired of swimming about here, o mouse! (alice thought this must be the right way of speaking to a mouse: she had never done such a thing before, but she remembered having seen in her brothers latin grammar, a mouse--of a mouse--to a mouse--a mouse--o mouse!) the mouse looked at her rather inquisitively, and seemed to her to wink with one of its little eyes, but it said nothing. perhaps it doesnt understand english, thought alice; i daresay its a french mouse, come over with william the conqueror. (for, with all her knowledge of history, alice had no very clear notion how long ago anything had happened.) so she began again: ou est ma chatte? which was the first sentence in her french lesson-book. the mouse gave a sudden leap out of the water, and seemed to quiver all over with fright. oh, i beg your pardon! cried alice hastily, afraid that she had hurt the poor animals feelings. i quite forgot you didnt like cats. not like cats! cried the mouse, in a shrill, passionate voice. would you like cats if you were me? well, perhaps not, said alice in a soothing tone: dont be angry about it. and yet i wish i could show you our cat dinah: i think youd take a fancy to cats if you could only see her. she is such a dear quiet thing, alice went on, half to herself, as she swam lazily about in the pool, and she sits purring so nicely by the fire, licking her paws and washing her face--and she is such a nice soft thing to nurse--and shes such a capital one for catching mice--oh, i beg your pardon! cried alice again, for this time the mouse was bristling all over, and she felt certain it must be really offended. we wont talk about her any more if youd rather not. we indeed! cried the mouse, who was trembling down to the end of his tail. as if i would talk on such a subject! our family always hated cats: nasty, low, vulgar things! dont let me hear the name again! i wont indeed! said alice, in a great hurry to change the subject of conversation. are you--are you fond--of--of dogs? the mouse did not answer, so alice went on eagerly: there is such a nice little dog near our house i should like to show you! a little bright-eyed terrier, you know, with oh, such long curly brown hair! and itll fetch things when you throw them, and itll sit up and beg for its dinner, and all sorts of things--i cant remember half of them--and it belongs to a farmer, you know, and he says its so useful, its worth a hundred pounds! he says it kills all the rats and--oh dear! cried alice in a sorrowful tone, im afraid ive offended it again! for the mouse was swimming away from her as hard as it could go, and making quite a commotion in the pool as it went. so she called softly after it, mouse dear! do come back again, and we wont talk about cats or dogs either, if you dont like them! when the mouse heard this, it turned round and swam slowly back to her: its face was quite pale (with passion, alice thought), and it said in a low trembling voice, let us get to the shore, and then ill tell you my history, and youll understand why it is i hate cats and dogs. it was high time to go, for the pool was getting quite crowded with the birds and animals that had fallen into it: there were a duck and a dodo, a lory and an eaglet, and several other curious creatures. alice led the way, and the whole party swam to the shore. chapter iii. a caucus-race and a long tale they were indeed a queer-looking party that assembled on the bank--the birds with draggled feathers, the animals with their fur clinging close to them, and all dripping wet, cross, and uncomfortable. the first question of course was, how to get dry again: they had a consultation about this, and after a few minutes it seemed quite natural to alice to find herself talking familiarly with them, as if she had known them all her life. indeed, she had quite a long argument with the lory, who at last turned sulky, and would only say, i am older than you, and must know better; and this alice would not allow without knowing how old it was, and, as the lory positively refused to tell its age, there was no more to be said. at last the mouse, who seemed to be a person of authority among them, called out, sit down, all of you, and listen to me! ill soon make you dry enough! they all sat down at once, in a large ring, with the mouse in the middle. alice kept her eyes anxiously fixed on it, for she felt sure she would catch a bad cold if she did not get dry very soon. ahem! said the mouse with an important air, are you all ready? this is the driest thing i know. silence all round, if you please! william the conqueror, whose cause was favoured by the pope, was soon submitted to by the english, who wanted leaders, and had been of late much accustomed to usurpation and conquest. edwin and morcar, the earls of mercia and northumbria-- ugh! said the lory, with a shiver. i beg your pardon! said the mouse, frowning, but very politely: did you speak? not i! said the lory hastily. i thought you did, said the mouse. --i proceed. edwin and morcar, the earls of mercia and northumbria, declared for him: and even stigand, the patriotic archbishop of canterbury, found it advisable-- found what? said the duck. found it, the mouse replied rather crossly: of course you know what it means. i know what it means well enough, when i find a thing, said the duck: its generally a frog or a worm. the question is, what did the archbishop find? the mouse did not notice this question, but hurriedly went on, --found it advisable to go with edgar atheling to meet william and offer him the crown. williams conduct at first was moderate. but the insolence of his normans-- how are you getting on now, my dear? it continued, turning to alice as it spoke. as wet as ever, said alice in a melancholy tone: it doesnt seem to dry me at all. in that case, said the dodo solemnly, rising to its feet, i move that the meeting adjourn, for the immediate adoption of more energetic remedies-- speak english! said the eaglet. i dont know the meaning of half those long words, and, whats more, i dont believe you do either! and the eaglet bent down its head to hide a smile: some of the other birds tittered audibly. what i was going to say, said the dodo in an offended tone, was, that the best thing to get us dry would be a caucus-race. what is a caucus-race? said alice; not that she wanted much to know, but the dodo had paused as if it thought that somebody ought to speak, and no one else seemed inclined to say anything. why, said the dodo, the best way to explain it is to do it. (and, as you might like to try the thing yourself, some winter day, i will tell you how the dodo managed it.) first it marked out a race-course, in a sort of circle, [the exact shape doesnt matter, it said,) and then all the party were placed along the course, here and there. there was no one, two, three, and away, but they began running when they liked, and left off when they liked, so that it was not easy to know when the race was over. however, when they had been running half an hour or so, and were quite dry again, the dodo suddenly called out the race is over! and they all crowded round it, panting, and asking, but who has won? this question the dodo could not answer without a great deal of thought, and it sat for a long time with one finger pressed upon its forehead (the position in which you usually see shakespeare, in the pictures of him), while the rest waited in silence. at last the dodo said, everybody has won, and all must have prizes. but who is to give the prizes? quite a chorus of voices asked. why, she, of course, said the dodo, pointing to alice with one finger; and the whole party at once crowded round her, calling out in a confused way, prizes! prizes! alice had no idea what to do, and in despair she put her hand in her pocket, and pulled out a box of comfits, (luckily the salt water had not got into it), and handed them round as prizes. there was exactly one a-piece all round. but she must have a prize herself, you know, said the mouse. of course, the dodo replied very gravely. what else have you got in your pocket? he went on, turning to alice. only a thimble, said alice sadly. hand it over here, said the dodo. then they all crowded round her once more, while the dodo solemnly presented the thimble, saying we beg your acceptance of this elegant thimble; and, when it had finished this short speech, they all cheered. alice thought the whole thing very absurd, but they all looked so grave that she did not dare to laugh; and, as she could not think of anything to say, she simply bowed, and took the thimble, looking as solemn as she could. the next thing was to eat the comfits: this caused some noise and confusion, as the large birds complained that they could not taste theirs, and the small ones choked and had to be patted on the back. however, it was over at last, and they sat down again in a ring, and begged the mouse to tell them something more. you promised to tell me your history, you know, said alice, and why it is you hate--c and d, she added in a whisper, half afraid that it would be offended again. mine is a long and a sad tale! said the mouse, turning to alice, and sighing. it is a long tail, certainly, said alice, looking down with wonder at the mouses tail; but why do you call it sad? and she kept on puzzling about it while the mouse was speaking, so that her idea of the tale was something like this:-- fury said to a mouse, that he met in the house, let us both go to law: i will prosecute you.--come, ill take no denial; we must have a trial: for really this morning ive nothing to do. said the mouse to the cur, such a trial, dear sir, with no jury or judge, would be wasting our breath. ill be judge, ill be jury, said cunning old fury: ill try the whole cause, and condemn you to death. you are not attending! said the mouse to alice severely. what are you thinking of? i beg your pardon, said alice very humbly: you had got to the fifth bend, i think? i had not! cried the mouse, sharply and very angrily. a knot! said alice, always ready to make herself useful, and looking anxiously about her. oh, do let me help to undo it! i shall do nothing of the sort, said the mouse, getting up and walking away. you insult me by talking such nonsense! i didnt mean it! pleaded poor alice. but youre so easily offended, you know! the mouse only growled in reply. please come back and finish your story! alice called after it; and the others all joined in chorus, yes, please do! but the mouse only shook its head impatiently, and walked a little quicker. what a pity it wouldnt stay! sighed the lory, as soon as it was quite out of sight; and an old crab took the opportunity of saying to her daughter ah, my dear! let this be a lesson to you never to lose your temper! hold your tongue, ma! said the young crab, a little snappishly. youre enough to try the patience of an oyster! i wish i had our dinah here, i know i do! said alice aloud, addressing nobody in particular. shed soon fetch it back! and who is dinah, if i might venture to ask the question? said the lory. alice replied eagerly, for she was always ready to talk about her pet: dinahs our cat. and shes such a capital one for catching mice you cant think! and oh, i wish you could see her after the birds! why, shell eat a little bird as soon as look at it! this speech caused a remarkable sensation among the party. some of the birds hurried off at once: one old magpie began wrapping itself up very carefully, remarking, i really must be getting home; the night-air doesnt suit my throat! and a canary called out in a trembling voice to its children, come away, my dears! its high time you were all in bed! on various pretexts they all moved off, and alice was soon left alone. i wish i hadnt mentioned dinah! she said to herself in a melancholy tone. nobody seems to like her, down here, and im sure shes the best cat in the world! oh, my dear dinah! i wonder if i shall ever see you any more! and here poor alice began to cry again, for she felt very lonely and low-spirited. in a little while, however, she again heard a little pattering of footsteps in the distance, and she looked up eagerly, half hoping that the mouse had changed his mind, and was coming back to finish his story. chapter iv. the rabbit sends in a little bill it was the white rabbit, trotting slowly back again, and looking anxiously about as it went, as if it had lost something; and she heard it muttering to itself the duchess! the duchess! oh my dear paws! oh my fur and whiskers! shell get me executed, as sure as ferrets are ferrets! where can i have dropped them, i wonder? alice guessed in a moment that it was looking for the fan and the pair of white kid gloves, and she very good-naturedly began hunting about for them, but they were nowhere to be seen--everything seemed to have changed since her swim in the pool, and the great hall, with the glass table and the little door, had vanished completely. very soon the rabbit noticed alice, as she went hunting about, and called out to her in an angry tone, why, mary ann, what are you doing out here? run home this moment, and fetch me a pair of gloves and a fan! quick, now! and alice was so much frightened that she ran off at once in the direction it pointed to, without trying to explain the mistake it had made. he took me for his housemaid, she said to herself as she ran. how surprised hell be when he finds out who i am! but id better take him his fan and gloves--that is, if i can find them. as she said this, she came upon a neat little house, on the door of which was a bright brass plate with the name w. rabbit engraved upon it. she went in without knocking, and hurried upstairs, in great fear lest she should meet the real mary ann, and be turned out of the house before she had found the fan and gloves. how queer it seems, alice said to herself, to be going messages for a rabbit! i suppose dinahll be sending me on messages next! and she began fancying the sort of thing that would happen: miss alice! come here directly, and get ready for your walk! coming in a minute, nurse! but ive got to see that the mouse doesnt get out. only i dont think, alice went on, that theyd let dinah stop in the house if it began ordering people about like that! by this time she had found her way into a tidy little room with a table in the window, and on it (as she had hoped) a fan and two or three pairs of tiny white kid gloves: she took up the fan and a pair of the gloves, and was just going to leave the room, when her eye fell upon a little bottle that stood near the looking-glass. there was no label this time with the words drink me, but nevertheless she uncorked it and put it to her lips. i know something interesting is sure to happen, she said to herself, whenever i eat or drink anything; so ill just see what this bottle does. i do hope itll make me grow large again, for really im quite tired of being such a tiny little thing! it did so indeed, and much sooner than she had expected: before she had drunk half the bottle, she found her head pressing against the ceiling, and had to stoop to save her neck from being broken. she hastily put down the bottle, saying to herself thats quite enough--i hope i shant grow any more--as it is, i cant get out at the door--i do wish i hadnt drunk quite so much! alas! it was too late to wish that! she went on growing, and growing, and very soon had to kneel down on the floor: in another minute there was not even room for this, and she tried the effect of lying down with one elbow against the door, and the other arm curled round her head. still she went on growing, and, as a last resource, she put one arm out of the window, and one foot up the chimney, and said to herself now i can do no more, whatever happens. what will become of me? luckily for alice, the little magic bottle had now had its full effect, and she grew no larger: still it was very uncomfortable, and, as there seemed to be no sort of chance of her ever getting out of the room again, no wonder she felt unhappy. it was much pleasanter at home, thought poor alice, when one wasnt always growing larger and smaller, and being ordered about by mice and rabbits. i almost wish i hadnt gone down that rabbit-hole--and yet--and yet--its rather curious, you know, this sort of life! i do wonder what can have happened to me! when i used to read fairy-tales, i fancied that kind of thing never happened, and now here i am in the middle of one! there ought to be a book written about me, that there ought! and when i grow up, ill write one--but im grown up now, she added in a sorrowful tone; at least theres no room to grow up any more here. but then, thought alice, shall i never get any older than i am now? thatll be a comfort, one way--never to be an old woman--but then--always to have lessons to learn! oh, i shouldnt like that! oh, you foolish alice! she answered herself. how can you learn lessons in here? why, theres hardly room for you, and no room at all for any lesson-books! and so she went on, taking first one side and then the other, and making quite a conversation of it altogether; but after a few minutes she heard a voice outside, and stopped to listen. mary ann! mary ann! said the voice. fetch me my gloves this moment! then came a little pattering of feet on the stairs. alice knew it was the rabbit coming to look for her, and she trembled till she shook the house, quite forgetting that she was now about a thousand times as large as the rabbit, and had no reason to be afraid of it. presently the rabbit came up to the door, and tried to open it; but, as the door opened inwards, and alices elbow was pressed hard against it, that attempt proved a failure. alice heard it say to itself then ill go round and get in at the window. that you wont thought alice, and, after waiting till she fancied she heard the rabbit just under the window, she suddenly spread out her hand, and made a snatch in the air. she did not get hold of anything, but she heard a little shriek and a fall, and a crash of broken glass, from which she concluded that it was just possible it had fallen into a cucumber-frame, or something of the sort. next came an angry voice--the rabbits--pat! pat! where are you? and then a voice she had never heard before, sure then im here! digging for apples, yer honour! digging for apples, indeed! said the rabbit angrily. here! come and help me out of this! (sounds of more broken glass.) now tell me, pat, whats that in the window? sure, its an arm, yer honour! (he pronounced it arrum.) an arm, you goose! who ever saw one that size? why, it fills the whole window! sure, it does, yer honour: but its an arm for all that. well, its got no business there, at any rate: go and take it away! there was a long silence after this, and alice could only hear whispers now and then; such as, sure, i dont like it, yer honour, at all, at all! do as i tell you, you coward! and at last she spread out her hand again, and made another snatch in the air. this time there were two little shrieks, and more sounds of broken glass. what a number of cucumber-frames there must be! thought alice. i wonder what theyll do next! as for pulling me out of the window, i only wish they could! im sure i dont want to stay in here any longer! she waited for some time without hearing anything more: at last came a rumbling of little cartwheels, and the sound of a good many voices all talking together: she made out the words: wheres the other ladder?--why, i hadnt to bring but one; bills got the other--bill! fetch it here, lad!--here, put em up at this corner--no, tie em together first--they dont reach half high enough yet--oh! theyll do well enough; dont be particular--here, bill! catch hold of this rope--will the roof bear?--mind that loose slate--oh, its coming down! heads below! (a loud crash)--now, who did that?--it was bill, i fancy--whos to go down the chimney?--nay, i shant! you do it!--that i wont, then!--bills to go down--here, bill! the master says youre to go down the chimney! oh! so bills got to come down the chimney, has he? said alice to herself. shy, they seem to put everything upon bill! i wouldnt be in bills place for a good deal: this fireplace is narrow, to be sure; but i think i can kick a little! she drew her foot as far down the chimney as she could, and waited till she heard a little animal (she couldnt guess of what sort it was) scratching and scrambling about in the chimney close above her: then, saying to herself this is bill, she gave one sharp kick, and waited to see what would happen next. the first thing she heard was a general chorus of there goes bill! then the rabbits voice along--catch him, you by the hedge! then silence, and then another confusion of voices--hold up his head--brandy now--dont choke him--how was it, old fellow? what happened to you? tell us all about it! last came a little feeble, squeaking voice, [thats bill, thought alice,) well, i hardly know--no more, thank ye; im better now--but im a deal too flustered to tell you--all i know is, something comes at me like a jack-in-the-box, and up i goes like a sky-rocket! so you did, old fellow! said the others. we must burn the house down! said the rabbits voice; and alice called out as loud as she could, if you do. ill set dinah at you! there was a dead silence instantly, and alice thought to herself, i wonder what they will do next! if they had any sense, theyd take the roof off. after a minute or two, they began moving about again, and alice heard the rabbit say, a barrowful will do, to begin with. a barrowful of what? thought alice; but she had not long to doubt, for the next moment a shower of little pebbles came rattling in at the window, and some of them hit her in the face. ill put a stop to this, she said to herself, and shouted out, youd better not do that again! which produced another dead silence. alice noticed with some surprise that the pebbles were all turning into little cakes as they lay on the floor, and a bright idea came into her head. if i eat one of these cakes, she thought, its sure to make some change in my size; and as it cant possibly make me larger, it must make me smaller, i suppose. so she swallowed one of the cakes, and was delighted to find that she began shrinking directly. as soon as she was small enough to get through the door, she ran out of the house, and found quite a crowd of little animals and birds waiting outside. the poor little lizard, bill, was in the middle, being held up by two guinea-pigs, who were giving it something out of a bottle. they all made a rush at alice the moment she appeared; but she ran off as hard as she could, and soon found herself safe in a thick wood. the first thing ive got to do, said alice to herself, as she wandered about in the wood, is to grow to my right size again; and the second thing is to find my way into that lovely garden. i think that will be the best plan. it sounded an excellent plan, no doubt, and very neatly and simply arranged; the only difficulty was, that she had not the smallest idea how to set about it; and while she was peering about anxiously among the trees, a little sharp bark just over her head made her look up in a great hurry. an enormous puppy was looking down at her with large round eyes, and feebly stretching out one paw, trying to touch her. poor little thing! said alice, in a coaxing tone, and she tried hard to whistle to it; but she was terribly frightened all the time at the thought that it might be hungry, in which case it would be very likely to eat her up in spite of all her coaxing. hardly knowing what she did, she picked up a little bit of stick, and held it out to the puppy; whereupon the puppy jumped into the air off all its feet at once, with a yelp of delight, and rushed at the stick, and made believe to worry it; then alice dodged behind a great thistle, to keep herself from being run over; and the moment she appeared on the other side, the puppy made another rush at the stick, and tumbled head over heels in its hurry to get hold of it; then alice, thinking it was very like having a game of play with a cart-horse, and expecting every moment to be trampled under its feet, ran round the thistle again; then the puppy began a series of short charges at the stick, running a very little way forwards each time and a long way back, and barking hoarsely all the while, till at last it sat down a good way off, panting, with its tongue hanging out of its mouth, and its great eyes half shut. this seemed to alice a good opportunity for making her escape; so she set off at once, and ran till she was quite tired and out of breath, and till the puppys bark sounded quite faint in the distance. and yet what a dear little puppy it was! said alice, as she leant against a buttercup to rest herself, and fanned herself with one of the leaves: i should have liked teaching it tricks very much, if--if id only been the right size to do it! oh dear! id nearly forgotten that ive got to grow up again! let me see--how is it to be managed? i suppose i ought to eat or drink something or other; but the great question is, what? the great question certainly was, what? alice looked all round her at the flowers and the blades of grass, but she did not see anything that looked like the right thing to eat or drink under the circumstances. there was a large mushroom growing near her, about the same height as herself; and when she had looked under it, and on both sides of it, and behind it, it occurred to her that she might as well look and see what was on the top of it. she stretched herself up on tiptoe, and peeped over the edge of the mushroom, and her eyes immediately met those of a large caterpillar, that was sitting on the top with its arms folded, quietly smoking a long hookah, and taking not the smallest notice of her or of anything else. chapter v. advice from a caterpillar the caterpillar and alice looked at each other for some time in silence: at last the caterpillar took the hookah out of its mouth, and addressed her in a languid, sleepy voice. who are you? said the caterpillar. this was not an encouraging opening for a conversation. alice replied, rather shyly, i--i hardly know, sir, just at present--at least i know who i was when i got up this morning, but i think i must have been changed several times since then. what do you mean by that? said the caterpillar sternly. explain yourself! i cant explain myself, im afraid, sir said alice, because im not myself, you see. i dont see, said the caterpillar. im afraid i cant put it more clearly, alice replied very politely, for i cant understand it myself to begin with; and being so many different sizes in a day is very confusing. it isnt, said the caterpillar. well, perhaps you havent found it so yet, said alice; but when you have to turn into a chrysalis--you will some day, you know--and then after that into a butterfly, i should think youll feel it a little queer, wont you? not a bit, said the caterpillar. well, perhaps your feelings may be different, said alice; all i know is, it would feel very queer to me. you! said the caterpillar contemptuously. who are you? which brought them back again to the beginning of the conversation. alice felt a little irritated at the caterpillars making such very short remarks, and she drew herself up and said, very gravely, i think, you ought to tell me who you are, first. why? said the caterpillar. here was another puzzling question; and as alice could not think of any good reason, and as the caterpillar seemed to be in a very unpleasant state of mind, she turned away. come back! the caterpillar called after her. ive something important to say! this sounded promising, certainly: alice turned and came back again. keep your temper, said the caterpillar. is that all? said alice, swallowing down her anger as well as she could. no, said the caterpillar. alice thought she might as well wait, as she had nothing else to do, and perhaps after all it might tell her something worth hearing. for some minutes it puffed away without speaking, but at last it unfolded its arms, took the hookah out of its mouth again, and said, so you think youre changed, do you? im afraid i am, sir, said alice; i cant remember things as i used--and i dont keep the same size for ten minutes together! cant remember what things? said the caterpillar. well, ive tried to say how doth the little busy bee, but it all came different! alice replied in a very melancholy voice. repeat, you are old, father william, said the caterpillar. alice folded her hands, and began:-- you are old, father william, the young man said, and your hair has become very white; and yet you incessantly stand on your head-- do you think, at your age, it is right? in my youth, father william replied to his son, i feared it might injure the brain; but, now that im perfectly sure i have none, why, i do it again and again. you are old, said the youth, as i mentioned before, and have grown most uncommonly fat; yet you turned a back-somersault in at the door-- pray, what is the reason of that? in my youth, said the sage, as he shook his grey locks, i kept all my limbs very supple by the use of this ointment--one shilling the box-- allow me to sell you a couple? you are old, said the youth, and your jaws are too weak for anything tougher than suet; yet you finished the goose, with the bones and the beak-- pray how did you manage to do it? in my youth, said his father, i took to the law, and argued each case with my wife; and the muscular strength, which it gave to my jaw, has lasted the rest of my life. you are old, said the youth, one would hardly suppose that your eye was as steady as ever; yet you balanced an eel on the end of your nose-- what made you so awfully clever? i have answered three questions, and that is enough, said his father; dont give yourself airs! do you think i can listen all day to such stuff? be off, or ill kick you down stairs! that is not said right, said the caterpillar. not quite right, im afraid, said alice, timidly; some of the words have got altered. it is wrong from beginning to end, said the caterpillar decidedly, and there was silence for some minutes. the caterpillar was the first to speak. what size do you want to be? it asked. oh, im not particular as to size, alice hastily replied; only one doesnt like changing so often, you know. i dont know, said the caterpillar. alice said nothing: she had never been so much contradicted in her life before, and she felt that she was losing her temper. are you content now? said the caterpillar. well, i should like to be a little larger, sir, if you wouldnt mind, said alice: three inches is such a wretched height to be. it is a very good height indeed! said the caterpillar angrily, rearing itself upright as it spoke (it was exactly three inches high). but im not used to it! pleaded poor alice in a piteous tone. and she thought of herself, i wish the creatures wouldnt be so easily offended! youll get used to it in time, said the caterpillar; and it put the hookah into its mouth and began smoking again. this time alice waited patiently until it chose to speak again. in a minute or two the caterpillar took the hookah out of its mouth and yawned once or twice, and shook itself. then it got down off the mushroom, and crawled away in the grass, merely remarking as it went, one side will make you grow taller, and the other side will make you grow shorter. one side of what? the other side of what? thought alice to herself. of the mushroom, said the caterpillar, just as if she had asked it aloud; and in another moment it was out of sight. alice remained looking thoughtfully at the mushroom for a minute, trying to make out which were the two sides of it; and as it was perfectly round, she found this a very difficult question. however, at last she stretched her arms round it as far as they would go, and broke off a bit of the edge with each hand. and now which is which? she said to herself, and nibbled a little of the right-hand bit to try the effect: the next moment she felt a violent blow underneath her chin: it had struck her foot! she was a good deal frightened by this very sudden change, but she felt that there was no time to be lost, as she was shrinking rapidly; so she set to work at once to eat some of the other bit. her chin was pressed so closely against her foot, that there was hardly room to open her mouth; but she did it at last, and managed to swallow a morsel of the lefthand bit. *    *    *    *    *    *    * *    *    *    *    *    * *    *    *    *    *    *    * come, my heads free at last! said alice in a tone of delight, which changed into alarm in another moment, when she found that her shoulders were nowhere to be found: all she could see, when she looked down, was an immense length of neck, which seemed to rise like a stalk out of a sea of green leaves that lay far below her. what can all that green stuff be? said alice. and where have my shoulders got to? and oh, my poor hands, how is it i cant see you? she was moving them about as she spoke, but no result seemed to follow, except a little shaking among the distant green leaves. as there seemed to be no chance of getting her hands up to her head, she tried to get her head down to them, and was delighted to find that her neck would bend about easily in any direction, like a serpent. she had just succeeded in curving it down into a graceful zigzag, and was going to dive in among the leaves, which she found to be nothing but the tops of the trees under which she had been wandering, when a sharp hiss made her draw back in a hurry: a large pigeon had flown into her face, and was beating her violently with its wings. serpent! screamed the pigeon. im not a serpent! said alice indignantly. let me alone! serpent, i say again! repeated the pigeon, but in a more subdued tone, and added with a kind of sob, ive tried every way, and nothing seems to suit them! i havent the least idea what youre talking about, said alice. ive tried the roots of trees, and ive tried banks, and ive tried hedges, the pigeon went on, without attending to her; but those serpents! theres no pleasing them! alice was more and more puzzled, but she thought there was no use in saying anything more till the pigeon had finished. as if it wasnt trouble enough hatching the eggs, said the pigeon; but i must be on the look-out for serpents night and day! why, i havent had a wink of sleep these three weeks! im very sorry youve been annoyed, said alice, who was beginning to see its meaning. and just as id taken the highest tree in the wood, continued the pigeon, raising its voice to a shriek, and just as i was thinking i should be free of them at last, they must needs come wriggling down from the sky! ugh, serpent! but im not a serpent, i tell you! said alice. im a--im a-- well! what are you? said the pigeon. i can see youre trying to invent something! i--im a little girl, said alice, rather doubtfully, as she remembered the number of changes she had gone through that day. a likely story indeed! said the pigeon in a tone of the deepest contempt. ive seen a good many little girls in my time, but never one with such a neck as that! no, no! youre a serpent; and theres no use denying it. i suppose youll be telling me next that you never tasted an egg! i have tasted eggs, certainly, said alice, who was a very truthful child; but little girls eat eggs quite as much as serpents do, you know. i dont believe it, said the pigeon; but if they do, why then theyre a kind of serpent, thats all i can say. this was such a new idea to alice, that she was quite silent for a minute or two, which gave the pigeon the opportunity of adding, youre looking for eggs, i know that well enough; and what does it matter to me whether youre a little girl or a serpent? it matters a good deal to me, said alice hastily; but im not looking for eggs, as it happens; and if i was, i shouldnt want yours: i dont like them raw. well, be off, then! said the pigeon in a sulky tone, as it settled down again into its nest. alice crouched down among the trees as well as she could, for her neck kept getting entangled among the branches, and every now and then she had to stop and untwist it. after a while she remembered that she still held the pieces of mushroom in her hands, and she set to work very carefully, nibbling first at one and then at the other, and growing sometimes taller and sometimes shorter, until she had succeeded in bringing herself down to her usual height. it was so long since she had been anything near the right size, that it felt quite strange at first; but she got used to it in a few minutes, and began talking to herself, as usual. come, theres half my plan done now! how puzzling all these changes are! im never sure what im going to be, from one minute to another! however, ive got back to my right size: the next thing is, to get into that beautiful garden--how is that to be done, i wonder? as she said this, she came suddenly upon an open place, with a little house in it about four feet high. whoever lives there, thought alice, itll never do to come upon them this size: why, i should frighten them out of their wits! so she began nibbling at the righthand bit again, and did not venture to go near the house till she had brought herself down to nine inches high. chapter vi. pig and pepper for a minute or two she stood looking at the house, and wondering what to do next, when suddenly a footman in livery came running out of the wood--(she considered him to be a footman because he was in livery: otherwise, judging by his face only, she would have called him a fish)--and rapped loudly at the door with his knuckles. it was opened by another footman in livery, with a round face, and large eyes like a frog; and both footmen, alice noticed, had powdered hair that curled all over their heads. she felt very curious to know what it was all about, and crept a little way out of the wood to listen. the fish-footman began by producing from under his arm a great letter, nearly as large as himself, and this he handed over to the other, saying, in a solemn tone, for the duchess. an invitation from the queen to play croquet. the frog-footman repeated, in the same solemn tone, only changing the order of the words a little, from the queen. an invitation for the duchess to play croquet. then they both bowed low, and their curls got entangled together. alice laughed so much at this, that she had to run back into the wood for fear of their hearing her; and when she next peeped out the fish-footman was gone, and the other was sitting on the ground near the door, staring stupidly up into the sky. alice went timidly up to the door, and knocked. theres no sort of use in knocking, said the footman, and that for two reasons. first, because im on the same side of the door as you are; secondly, because theyre making such a noise inside, no one could possibly hear you. and certainly there was a most extraordinary noise going on within--a constant howling and sneezing, and every now and then a great crash, as if a dish or kettle had been broken to pieces. please, then, said alice, how am i to get in? there might be some sense in your knocking, the footman went on without attending to her, if we had the door between us. for instance, if you were inside, you might knock, and i could let you out, you know. he was looking up into the sky all the time he was speaking, and this alice thought decidedly uncivil. but perhaps he cant help it, she said to herself; his eyes are so very nearly at the top of his head. but at any rate he might answer questions.--how am i to get in? she repeated, aloud. i shall sit here, the footman remarked, till tomorrow-- at this moment the door of the house opened, and a large plate came skimming out, straight at the footmans head: it just grazed his nose, and broke to pieces against one of the trees behind him. --or next day, maybe, the footman continued in the same tone, exactly as if nothing had happened. how am i to get in? asked alice again, in a louder tone. are you to get in at all? said the footman. thats the first question, you know. it was, no doubt: only alice did not like to be told so. its really dreadful, she muttered to herself, the way all the creatures argue. its enough to drive one crazy! the footman seemed to think this a good opportunity for repeating his remark, with variations. i shall sit here, he said, on and off, for days and days. but what am i to do? said alice. anything you like, said the footman, and began whistling. oh, theres no use in talking to him, said alice desperately: hes perfectly idiotic! and she opened the door and went in. the door led right into a large kitchen, which was full of smoke from one end to the other: the duchess was sitting on a three-legged stool in the middle, nursing a baby; the cook was leaning over the fire, stirring a large cauldron which seemed to be full of soup. theres certainly too much pepper in that soup! alice said to herself, as well as she could for sneezing. there was certainly too much of it in the air. even the duchess sneezed occasionally; and as for the baby, it was sneezing and howling alternately without a moments pause. the only things in the kitchen that did not sneeze, were the cook, and a large cat which was sitting on the hearth and grinning from ear to ear. please would you tell me, said alice, a little timidly, for she was not quite sure whether it was good manners for her to speak first, why your cat grins like that? its a cheshire cat, said the duchess, and thats why. pig! she said the last word with such sudden violence that alice quite jumped; but she saw in another moment that it was addressed to the baby, and not to her, so she took courage, and went on again:-- i didnt know that cheshire cats always grinned; in fact, i didnt know that cats could grin. they all can, said the duchess; and most of em do. i dont know of any that do, alice said very politely, feeling quite pleased to have got into a conversation. you dont know much, said the duchess; and thats a fact. alice did not at all like the tone of this remark, and thought it would be as well to introduce some other subject of conversation. while she was trying to fix on one, the cook took the cauldron of soup off the fire, and at once set to work throwing everything within her reach at the duchess and the baby--the fire-irons came first; then followed a shower of saucepans, plates, and dishes. the duchess took no notice of them even when they hit her; and the baby was howling so much already, that it was quite impossible to say whether the blows hurt it or not. oh, please mind what youre doing! cried alice, jumping up and down in an agony of terror. oh, there goes his precious nose; as an unusually large saucepan flew close by it, and very nearly carried it off. if everybody minded their own business, the duchess said in a hoarse growl, the world would go round a deal faster than it does. which would not be an advantage, said alice, who felt very glad to get an opportunity of showing off a little of her knowledge. just think of what work it would make with the day and night! you see the earth takes twenty-four hours to turn round on its axis-- talking of axes, said the duchess, chop off her head! alice glanced rather anxiously at the cook, to see if she meant to take the hint; but the cook was busily stirring the soup, and seemed not to be listening, so she went on again: twenty-four hours, i think; or is it twelve? i-- oh, dont bother me, said the duchess; i never could abide figures! and with that she began nursing her child again, singing a sort of lullaby to it as she did so, and giving it a violent shake at the end of every line: speak roughly to your little boy, and beat him when he sneezes: he only does it to annoy, because he knows it teases. chorus. (in which the cook and the baby joined):-- wow! wow! wow! while the duchess sang the second verse of the song, she kept tossing the baby violently up and down, and the poor little thing howled so, that alice could hardly hear the words:-- i speak severely to my boy, i beat him when he sneezes; for he can thoroughly enjoy the pepper when he pleases! chorus. wow! wow! wow! here! you may nurse it a bit, if you like! the duchess said to alice, flinging the baby at her as she spoke. i must go and get ready to play croquet with the queen, and she hurried out of the room. the cook threw a frying-pan after her as she went out, but it just missed her. alice caught the baby with some difficulty, as it was a queer-shaped little creature, and held out its arms and legs in all directions, just like a star-fish, thought alice. the poor little thing was snorting like a steam-engine when she caught it, and kept doubling itself up and straightening itself out again, so that altogether, for the first minute or two, it was as much as she could do to hold it. as soon as she had made out the proper way of nursing it, (which was to twist it up into a sort of knot, and then keep tight hold of its right ear and left foot, so as to prevent its undoing itself,) she carried it out into the open air. if i dont take this child away with me, thought alice, theyre sure to kill it in a day or two: wouldnt it be murder to leave it behind? she said the last words out loud, and the little thing grunted in reply (it had left off sneezing by this time). dont grunt, said alice; thats not at all a proper way of expressing yourself. the baby grunted again, and alice looked very anxiously into its face to see what was the matter with it. there could be no doubt that it had a very turn-up nose, much more like a snout than a real nose; also its eyes were getting extremely small for a baby: altogether alice did not like the look of the thing at all. but perhaps it was only sobbing, she thought, and looked into its eyes again, to see if there were any tears. no, there were no tears. if youre going to turn into a pig, my dear, said alice, seriously, ill have nothing more to do with you. mind now! the poor little thing sobbed again (or grunted, it was impossible to say which), and they went on for some while in silence. alice was just beginning to think to herself, now, what am i to do with this creature when i get it home? when it grunted again, so violently, that she looked down into its face in some alarm. this time there could be no mistake about it: it was neither more nor less than a pig, and she felt that it would be quite absurd for her to carry it further. so she set the little creature down, and felt quite relieved to see it trot away quietly into the wood. if it had grown up, she said to herself, it would have made a dreadfully ugly child: but it makes rather a handsome pig, i think. and she began thinking over other children she knew, who might do very well as pigs, and was just saying to herself, if one only knew the right way to change them-- when she was a little startled by seeing the cheshire cat sitting on a bough of a tree a few yards off. the cat only grinned when it saw alice. it looked good-natured, she thought: still it had very long claws and a great many teeth, so she felt that it ought to be treated with respect. cheshire puss, she began, rather timidly, as she did not at all know whether it would like the name: however, it only grinned a little wider. come, its pleased so far, thought alice, and she went on. would you tell me, please, which way i ought to go from here? that depends a good deal on where you want to get to, said the cat. i dont much care where-- said alice. then it doesnt matter which way you go, said the cat. --so long as i get somewhere, alice added as an explanation. oh, youre sure to do that, said the cat, if you only walk long enough. alice felt that this could not be denied, so she tried another question. what sort of people live about here? in that direction, the cat said, waving its right paw round, lives a hatter: and in that direction, waving the other paw, lives a march hare. visit either you like: theyre both mad. but i dont want to go among mad people, alice remarked. oh, you cant help that, said the cat: were all mad here. im mad. youre mad. how do you know im mad? said alice. you must be, said the cat, or you wouldnt have come here. alice didnt think that proved it at all; however, she went on and how do you know that youre mad? to begin with, said the cat, a dogs not mad. you grant that? i suppose so, said alice. well, then, the cat went on, you see, a dog growls when its angry, and wags its tail when its pleased. now i growl when im pleased, and wag my tail when im angry. therefore im mad. i call it purring, not growling, said alice. call it what you like, said the cat. do you play croquet with the queen to-day? i should like it very much, said alice, but i havent been invited yet. youll see me there, said the cat, and vanished. alice was not much surprised at this, she was getting so used to queer things happening. while she was looking at the place where it had been, it suddenly appeared again. by-the-bye, what became of the baby? said the cat. id nearly forgotten to ask. it turned into a pig, alice quietly said, just as if it had come back in a natural way. i thought it would, said the cat, and vanished again. alice waited a little, half expecting to see it again, but it did not appear, and after a minute or two she walked on in the direction in which the march hare was said to live. ive seen hatters before, she said to herself; the march hare will be much the most interesting, and perhaps as this is may it wont be raving mad--at least not so mad as it was in march. as she said this, she looked up, and there was the cat again, sitting on a branch of a tree. did you say pig, or fig? said the cat. i said pig, replied alice; and i wish you wouldnt keep appearing and vanishing so suddenly: you make one quite giddy. all right, said the cat; and this time it vanished quite slowly, beginning with the end of the tail, and ending with the grin, which remained some time after the rest of it had gone. well! ive often seen a cat without a grin, thought alice; but a grin without a cat! its the most curious thing i ever saw in my life! she had not gone much farther before she came in sight of the house of the march hare: she thought it must be the right house, because the chimneys were shaped like ears and the roof was thatched with fur. it was so large a house, that she did not like to go nearer till she had nibbled some more of the lefthand bit of mushroom, and raised herself to about two feet high: even then she walked up towards it rather timidly, saying to herself suppose it should be raving mad after all! i almost wish id gone to see the hatter instead! chapter vii. a mad tea-party there was a table set out under a tree in front of the house, and the march hare and the hatter were having tea at it: a dormouse was sitting between them, fast asleep, and the other two were using it as a cushion, resting their elbows on it, and talking over its head. very uncomfortable for the dormouse, thought alice; only, as its asleep, i suppose it doesnt mind. the table was a large one, but the three were all crowded together at one corner of it: no room! no room! they cried out when they saw alice coming. theres plenty of room! said alice indignantly, and she sat down in a large arm-chair at one end of the table. have some wine, the march hare said in an encouraging tone. alice looked all round the table, but there was nothing on it but tea. i dont see any wine, she remarked. there isnt any, said the march hare. then it wasnt very civil of you to offer it, said alice angrily. it wasnt very civil of you to sit down without being invited, said the march hare. i didnt know it was your table, said alice; its laid for a great many more than three. your hair wants cutting, said the hatter. he had been looking at alice for some time with great curiosity, and this was his first speech. you should learn not to make personal remarks, alice said with some severity; its very rude. the hatter opened his eyes very wide on hearing this; but all he said was, why is a raven like a writing-desk? come, we shall have some fun now! thought alice. im glad theyve begun asking riddles.--i believe i can guess that, she added aloud. do you mean that you think you can find out the answer to it? said the march hare. exactly so, said alice. then you should say what you mean, the march hare went on. i do, alice hastily replied; at least--at least i mean what i say--thats the same thing, you know. not the same thing a bit! said the hatter. you might just as well say that i see what i eat is the same thing as i eat what i see! you might just as well say, added the march hare, that i like what i get is the same thing as i get what i like! you might just as well say, added the dormouse, who seemed to be talking in his sleep, that i breathe when i sleep is the same thing as i sleep when i breathe! it is the same thing with you, said the hatter, and here the conversation dropped, and the party sat silent for a minute, while alice thought over all she could remember about ravens and writing-desks, which wasnt much. the hatter was the first to break the silence. what day of the month is it? he said, turning to alice: he had taken his watch out of his pocket, and was looking at it uneasily, shaking it every now and then, and holding it to his ear. alice considered a little, and then said the fourth. two days wrong! sighed the hatter. i told you butter wouldnt suit the works! he added looking angrily at the march hare. it was the best butter, the march hare meekly replied. yes, but some crumbs must have got in as well, the hatter grumbled: you shouldnt have put it in with the bread-knife. the march hare took the watch and looked at it gloomily: then he dipped it into his cup of tea, and looked at it again: but he could think of nothing better to say than his first remark, it was the best butter, you know. alice had been looking over his shoulder with some curiosity. what a funny watch! she remarked. it tells the day of the month, and doesnt tell what oclock it is! why should it? muttered the hatter. does your watch tell you what year it is? of course not, alice replied very readily: but thats because it stays the same year for such a long time together. which is just the case with mine, said the hatter. alice felt dreadfully puzzled. the hatters remark seemed to have no sort of meaning in it, and yet it was certainly english. i dont quite understand you, she said, as politely as she could. the dormouse is asleep again, said the hatter, and he poured a little hot tea upon its nose. the dormouse shook its head impatiently, and said, without opening its eyes, of course, of course; just what i was going to remark myself. have you guessed the riddle yet? the hatter said, turning to alice again. no, i give it up, alice replied: whats the answer? i havent the slightest idea, said the hatter. nor i, said the march hare. alice sighed wearily. i think you might do something better with the time, she said, than waste it in asking riddles that have no answers. if you knew time as well as i do, said the hatter, you wouldnt talk about wasting it. its him. i dont know what you mean, said alice. of course you dont! the hatter said, tossing his head contemptuously. i dare say you never even spoke to time! perhaps not, alice cautiously replied: but i know i have to beat time when i learn music. ah! that accounts for it, said the hatter. he wont stand beating. now, if you only kept on good terms with him, hed do almost anything you liked with the clock. for instance, suppose it were nine oclock in the morning, just time to begin lessons: youd only have to whisper a hint to time, and round goes the clock in a twinkling! half-past one, time for dinner! [i only wish it was, the march hare said to itself in a whisper.) that would be grand, certainly, said alice thoughtfully: but then--i shouldnt be hungry for it, you know. not at first, perhaps, said the hatter: but you could keep it to half-past one as long as you liked. is that the way you manage? alice asked. the hatter shook his head mournfully. not i! he replied. we quarrelled last march--just before he went mad, you know-- (pointing with his tea spoon at the march hare,) --it was at the great concert given by the queen of hearts, and i had to sing twinkle, twinkle, little bat! how i wonder what youre at! you know the song, perhaps? ive heard something like it, said alice. it goes on, you know, the hatter continued, in this way:-- up above the world you fly, like a tea-tray in the sky. twinkle, twinkle-- here the dormouse shook itself, and began singing in its sleep twinkle, twinkle, twinkle, twinkle-- and went on so long that they had to pinch it to make it stop. well, id hardly finished the first verse, said the hatter, when the queen jumped up and bawled out, hes murdering the time! off with his head! how dreadfully savage! exclaimed alice. and ever since that, the hatter went on in a mournful tone, he wont do a thing i ask! its always six oclock now. a bright idea came into alices head. is that the reason so many tea-things are put out here? she asked. yes, thats it, said the hatter with a sigh: its always tea-time, and weve no time to wash the things between whiles. then you keep moving round, i suppose? said alice. exactly so, said the hatter: as the things get used up. but what happens when you come to the beginning again? alice ventured to ask. suppose we change the subject, the march hare interrupted, yawning. im getting tired of this. i vote the young lady tells us a story. im afraid i dont know one, said alice, rather alarmed at the proposal. then the dormouse shall! they both cried. wake up, dormouse! and they pinched it on both sides at once. the dormouse slowly opened his eyes. i wasnt asleep, he said in a hoarse, feeble voice: i heard every word you fellows were saying. tell us a story! said the march hare. yes, please do! pleaded alice. and be quick about it, added the hatter, or youll be asleep again before its done. once upon a time there were three little sisters, the dormouse began in a great hurry; and their names were elsie, lacie, and tillie; and they lived at the bottom of a well-- what did they live on? said alice, who always took a great interest in questions of eating and drinking. they lived on treacle, said the dormouse, after thinking a minute or two. they couldnt have done that, you know, alice gently remarked; theyd have been ill. so they were, said the dormouse; very ill. alice tried to fancy to herself what such an extraordinary ways of living would be like, but it puzzled her too much, so she went on: but why did they live at the bottom of a well? take some more tea, the march hare said to alice, very earnestly. ive had nothing yet, alice replied in an offended tone, so i cant take more. you mean you cant take less, said the hatter: its very easy to take more than nothing. nobody asked your opinion, said alice. whos making personal remarks now? the hatter asked triumphantly. alice did not quite know what to say to this: so she helped herself to some tea and bread-and-butter, and then turned to the dormouse, and repeated her question. why did they live at the bottom of a well? the dormouse again took a minute or two to think about it, and then said, it was a treacle-well. theres no such thing! alice was beginning very angrily, but the hatter and the march hare went sh! sh! and the dormouse sulkily remarked, if you cant be civil, youd better finish the story for yourself. no, please go on! alice said very humbly; i wont interrupt again. i dare say there may be one. one, indeed! said the dormouse indignantly. however, he consented to go on. and so these three little sisters--they were learning to draw, you know-- what did they draw? said alice, quite forgetting her promise. treacle, said the dormouse, without considering at all this time. i want a clean cup, interrupted the hatter: lets all move one place on. he moved on as he spoke, and the dormouse followed him: the march hare moved into the dormouses place, and alice rather unwillingly took the place of the march hare. the hatter was the only one who got any advantage from the change: and alice was a good deal worse off than before, as the march hare had just upset the milk-jug into his plate. alice did not wish to offend the dormouse again, so she began very cautiously: but i dont understand. where did they draw the treacle from? you can draw water out of a water-well, said the hatter; so i should think you could draw treacle out of a treacle-well--eh, stupid? but they were in the well, alice said to the dormouse, not choosing to notice this last remark. of course they were, said the dormouse; --well in. this answer so confused poor alice, that she let the dormouse go on for some time without interrupting it. they were learning to draw, the dormouse went on, yawning and rubbing its eyes, for it was getting very sleepy; and they drew all manner of things--everything that begins with an m-- why with an m? said alice. why not? said the march hare. alice was silent. the dormouse had closed its eyes by this time, and was going off into a doze; but, on being pinched by the hatter, it woke up again with a little shriek, and went on: --that begins with an m, such as mouse-traps, and the moon, and memory, and muchness--you know you say things are much of a muchness--did you ever see such a thing as a drawing of a muchness? really, now you ask me, said alice, very much confused, i dont think-- then you shouldnt talk, said the hatter. this piece of rudeness was more than alice could bear: she got up in great disgust, and walked off; the dormouse fell asleep instantly, and neither of the others took the least notice of her going, though she looked back once or twice, half hoping that they would call after her: the last time she saw them, they were trying to put the dormouse into the teapot. at any rate ill never go there again! said alice as she picked her way through the wood. its the stupidest tea-party i ever was at in all my life! just as she said this, she noticed that one of the trees had a door leading right into it. thats very curious! she thought. but everythings curious today. i think i may as well go in at once. and in she went. once more she found herself in the long hall, and close to the little glass table. now, ill manage better this time, she said to herself, and began by taking the little golden key, and unlocking the door that led into the garden. then she went to work nibbling at the mushroom (she had kept a piece of it in her pocket) till she was about a foot high: then she walked down the little passage: and then--she found herself at last in the beautiful garden, among the bright flower-beds and the cool fountains. chapter viii. the queens croquet-ground a large rose-tree stood near the entrance of the garden: the roses growing on it were white, but there were three gardeners at it, busily painting them red. alice thought this a very curious thing, and she went nearer to watch them, and just as she came up to them she heard one of them say, look out now, five! dont go splashing paint over me like that! i couldnt help it, said five, in a sulky tone; seven jogged my elbow. on which seven looked up and said, thats right, five! always lay the blame on others! youd better not talk! said five. i heard the queen say only yesterday you deserved to be beheaded! what for? said the one who had spoken first. thats none of your business, two! said seven. yes, it is his business! said five, and ill tell him--it was for bringing the cook tulip-roots instead of onions. seven flung down his brush, and had just begun well, of all the unjust things-- when his eye chanced to fall upon alice, as she stood watching them, and he checked himself suddenly: the others looked round also, and all of them bowed low. would you tell me, said alice, a little timidly, why you are painting those roses? five and seven said nothing, but looked at two. two began in a low voice, why the fact is, you see, miss, this here ought to have been a red rose-tree, and we put a white one in by mistake; and if the queen was to find it out, we should all have our heads cut off, you know. so you see, miss, were doing our best, afore she comes, to-- at this moment five, who had been anxiously looking across the garden, called out the queen! the queen! and the three gardeners instantly threw themselves flat upon their faces. there was a sound of many footsteps, and alice looked round, eager to see the queen. first came ten soldiers carrying clubs; these were all shaped like the three gardeners, oblong and flat, with their hands and feet at the corners: next the ten courtiers; these were ornamented all over with diamonds, and walked two and two, as the soldiers did. after these came the royal children; there were ten of them, and the little dears came jumping merrily along hand in hand, in couples: they were all ornamented with hearts. next came the guests, mostly kings and queens, and among them alice recognised the white rabbit: it was talking in a hurried nervous manner, smiling at everything that was said, and went by without noticing her. then followed the knave of hearts, carrying the kings crown on a crimson velvet cushion; and, last of all this grand procession, came the king and queen of hearts. alice was rather doubtful whether she ought not to lie down on her face like the three gardeners, but she could not remember ever having heard of such a rule at processions; and besides, what would be the use of a procession, thought she, if people had all to lie down upon their faces, so that they couldnt see it? so she stood still where she was, and waited. when the procession came opposite to alice, they all stopped and looked at her, and the queen said severely who is this? she said it to the knave of hearts, who only bowed and smiled in reply. idiot! said the queen, tossing her head impatiently; and, turning to alice, she went on, whats your name, child? my name is alice, so please your majesty, said alice very politely; but she added, to herself, why, theyre only a pack of cards, after all. i neednt be afraid of them! and who are these? said the queen, pointing to the three gardeners who were lying round the rosetree; for, you see, as they were lying on their faces, and the pattern on their backs was the same as the rest of the pack, she could not tell whether they were gardeners, or soldiers, or courtiers, or three of her own children. how should i know? said alice, surprised at her own courage. its no business of mine. the queen turned crimson with fury, and, after glaring at her for a moment like a wild beast, screamed off with her head! off-- nonsense! said alice, very loudly and decidedly, and the queen was silent. the king laid his hand upon her arm, and timidly said consider, my dear: she is only a child! the queen turned angrily away from him, and said to the knave turn them over! the knave did so, very carefully, with one foot. get up! said the queen, in a shrill, loud voice, and the three gardeners instantly jumped up, and began bowing to the king, the queen, the royal children, and everybody else. leave off that! screamed the queen. you make me giddy. and then, turning to the rose-tree, she went on, what have you been doing here? may it please your majesty, said two, in a very humble tone, going down on one knee as he spoke, we were trying-- i see! said the queen, who had meanwhile been examining the roses. off with their heads! and the procession moved on, three of the soldiers remaining behind to execute the unfortunate gardeners, who ran to alice for protection. you shant be beheaded! said alice, and she put them into a large flower-pot that stood near. the three soldiers wandered about for a minute or two, looking for them, and then quietly marched off after the others. are their heads off? shouted the queen. their heads are gone, if it please your majesty! the soldiers shouted in reply. thats right! shouted the queen. can you play croquet? the soldiers were silent, and looked at alice, as the question was evidently meant for her. yes! shouted alice. come on, then! roared the queen, and alice joined the procession, wondering very much what would happen next. its--its a very fine day! said a timid voice at her side. she was walking by the white rabbit, who was peeping anxiously into her face. very, said alice: --wheres the duchess? hush! hush! said the rabbit in a low, hurried tone. he looked anxiously over his shoulder as he spoke, and then raised himself upon tiptoe, put his mouth close to her ear, and whispered shes under sentence of execution. what for? said alice. did you say what a pity!? the rabbit asked. no, i didnt, said alice: i dont think its at all a pity. i said what for? she boxed the queens ears-- the rabbit began. alice gave a little scream of laughter. oh, hush! the rabbit whispered in a frightened tone. the queen will hear you! you see, she came rather late, and the queen said-- get to your places! shouted the queen in a voice of thunder, and people began running about in all directions, tumbling up against each other; however, they got settled down in a minute or two, and the game began. alice thought she had never seen such a curious croquet-ground in her life; it was all ridges and furrows; the balls were live hedgehogs, the mallets live flamingoes, and the soldiers had to double themselves up and to stand on their hands and feet, to make the arches. the chief difficulty alice found at first was in managing her flamingo: she succeeded in getting its body tucked away, comfortably enough, under her arm, with its legs hanging down, but generally, just as she had got its neck nicely straightened out, and was going to give the hedgehog a blow with its head, it would twist itself round and look up in her face, with such a puzzled expression that she could not help bursting out laughing: and when she had got its head down, and was going to begin again, it was very provoking to find that the hedgehog had unrolled itself, and was in the act of crawling away: besides all this, there was generally a ridge or furrow in the way wherever she wanted to send the hedgehog to, and, as the doubled-up soldiers were always getting up and walking off to other parts of the ground, alice soon came to the conclusion that it was a very difficult game indeed. the players all played at once without waiting for turns, quarrelling all the while, and fighting for the hedgehogs; and in a very short time the queen was in a furious passion, and went stamping about, and shouting off with his head! or off with her head! about once in a minute. alice began to feel very uneasy: to be sure, she had not as yet had any dispute with the queen, but she knew that it might happen any minute, and then, thought she, what would become of me? theyre dreadfully fond of beheading people here; the great wonder is, that theres any one left alive! she was looking about for some way of escape, and wondering whether she could get away without being seen, when she noticed a curious appearance in the air: it puzzled her very much at first, but, after watching it a minute or two, she made it out to be a grin, and she said to herself its the cheshire cat: now i shall have somebody to talk to. how are you getting on? said the cat, as soon as there was mouth enough for it to speak with. alice waited till the eyes appeared, and then nodded. its no use speaking to it, she thought, till its ears have come, or at least one of them. in another minute the whole head appeared, and then alice put down her flamingo, and began an account of the game, feeling very glad she had someone to listen to her. the cat seemed to think that there was enough of it now in sight, and no more of it appeared. i dont think they play at all fairly, alice began, in rather a complaining tone, and they all quarrel so dreadfully one cant hear oneself speak--and they dont seem to have any rules in particular; at least, if there are, nobody attends to them--and youve no idea how confusing it is all the things being alive; for instance, theres the arch ive got to go through next walking about at the other end of the ground--and i should have croqueted the queens hedgehog just now, only it ran away when it saw mine coming! how do you like the queen? said the cat in a low voice. not at all, said alice: shes so extremely-- just then she noticed that the queen was close behind her, listening: so she went on, --likely to win, that its hardly worth while finishing the game. the queen smiled and passed on. who are you talking to? said the king, going up to alice, and looking at the cats head with great curiosity. its a friend of mine--a cheshire cat, said alice: allow me to introduce it. i dont like the look of it at all, said the king: however, it may kiss my hand if it likes. id rather not, the cat remarked. dont be impertinent, said the king, and dont look at me like that! he got behind alice as he spoke. a cat may look at a king, said alice. ive read that in some book, but i dont remember where. well, it must be removed, said the king very decidedly, and he called the queen, who was passing at the moment, my dear! i wish you would have this cat removed! the queen had only one way of settling all difficulties, great or small. off with his head! she said, without even looking round. ill fetch the executioner myself, said the king eagerly, and he hurried off. alice thought she might as well go back, and see how the game was going on, as she heard the queens voice in the distance, screaming with passion. she had already heard her sentence three of the players to be executed for having missed their turns, and she did not like the look of things at all, as the game was in such confusion that she never knew whether it was her turn or not. so she went in search of her hedgehog. the hedgehog was engaged in a fight with another hedgehog, which seemed to alice an excellent opportunity for croqueting one of them with the other: the only difficulty was, that her flamingo was gone across to the other side of the garden, where alice could see it trying in a helpless sort of way to fly up into a tree. by the time she had caught the flamingo and brought it back, the fight was over, and both the hedgehogs were out of sight: but it doesnt matter much, thought alice, as all the arches are gone from this side of the ground. so she tucked it away under her arm, that it might not escape again, and went back for a little more conversation with her friend. when she got back to the cheshire cat, she was surprised to find quite a large crowd collected round it: there was a dispute going on between the executioner, the king, and the queen, who were all talking at once, while all the rest were quite silent, and looked very uncomfortable. the moment alice appeared, she was appealed to by all three to settle the question, and they repeated their arguments to her, though, as they all spoke at once, she found it very hard indeed to make out exactly what they said. the executioners argument was, that you couldnt cut off a head unless there was a body to cut it off from: that he had never had to do such a thing before, and he wasnt going to begin at his time of life. the kings argument was, that anything that had a head could be beheaded, and that you werent to talk nonsense. the queens argument was, that if something wasnt done about it in less than no time shed have everybody executed, all round. (it was this last remark that had made the whole party look so grave and anxious.) alice could think of nothing else to say but it belongs to the duchess: youd better ask her about it. shes in prison, the queen said to the executioner: fetch her here. and the executioner went off like an arrow. the cats head began fading away the moment he was gone, and, by the time he had come back with the duchess, it had entirely disappeared; so the king and the executioner ran wildly up and down looking for it, while the rest of the party went back to the game. chapter ix. the mock turtles story you cant think how glad i am to see you again, you dear old thing! said the duchess, as she tucked her arm affectionately into alices, and they walked off together. alice was very glad to find her in such a pleasant temper, and thought to herself that perhaps it was only the pepper that had made her so savage when they met in the kitchen. when im a duchess, she said to herself, (not in a very hopeful tone though), i wont have any pepper in my kitchen at all. soup does very well without--maybe its always pepper that makes people hot-tempered, she went on, very much pleased at having found out a new kind of rule, and vinegar that makes them sour--and camomile that makes them bitter--and--and barley-sugar and such things that make children sweet-tempered. i only wish people knew that: then they wouldnt be so stingy about it, you know-- she had quite forgotten the duchess by this time, and was a little startled when she heard her voice close to her ear. youre thinking about something, my dear, and that makes you forget to talk. i cant tell you just now what the moral of that is, but i shall remember it in a bit. perhaps it hasnt one, alice ventured to remark. tut, tut, child! said the duchess. everythings got a moral, if only you can find it. and she squeezed herself up closer to alices side as she spoke. alice did not much like keeping so close to her: first, because the duchess was very ugly; and secondly, because she was exactly the right height to rest her chin upon alices shoulder, and it was an uncomfortably sharp chin. however, she did not like to be rude, so she bore it as well as she could. the games going on rather better now, she said, by way of keeping up the conversation a little. tis so, said the duchess: and the moral of that is--oh, tis love, tis love, that makes the world go round! somebody said, alice whispered, that its done by everybody minding their own business! ah, well! it means much the same thing, said the duchess, digging her sharp little chin into alices shoulder as she added, and the moral of that is--take care of the sense, and the sounds will take care of themselves. how fond she is of finding morals in things! alice thought to herself. i dare say youre wondering why i dont put my arm round your waist, the duchess said after a pause: the reason is, that im doubtful about the temper of your flamingo. shall i try the experiment? he might bite, alice cautiously replied, not feeling at all anxious to have the experiment tried. very true, said the duchess: flamingoes and mustard both bite. and the moral of that is--birds of a feather flock together. only mustard isnt a bird, alice remarked. right, as usual, said the duchess: what a clear way you have of putting things! its a mineral, i think, said alice. of course it is, said the duchess, who seemed ready to agree to everything that alice said; theres a large mustard-mine near here. and the moral of that is--the more there is of mine, the less there is of yours. oh, i know! exclaimed alice, who had not attended to this last remark, its a vegetable. it doesnt look like one, but it is. i quite agree with you, said the duchess; and the moral of that is--be what you would seem to be--or if youd like it put more simply--never imagine yourself not to be otherwise than what it might appear to others that what you were or might have been was not otherwise than what you had been would have appeared to them to be otherwise. i think i should understand that better, alice said very politely, if i had it written down: but i cant quite follow it as you say it. thats nothing to what i could say if i chose, the duchess replied, in a pleased tone. pray dont trouble yourself to say it any longer than that, said alice. oh, dont talk about trouble! said the duchess. i make you a present of everything ive said as yet. a cheap sort of present! thought alice. im glad they dont give birthday presents like that! but she did not venture to say it out loud. thinking again? the duchess asked, with another dig of her sharp little chin. ive a right to think, said alice sharply, for she was beginning to feel a little worried. just about as much right, said the duchess, as pigs have to fly; and the m-- but here, to alices great surprise, the duchesss voice died away, even in the middle of her favourite word moral, and the arm that was linked into hers began to tremble. alice looked up, and there stood the queen in front of them, with her arms folded, frowning like a thunderstorm. a fine day, your majesty! the duchess began in a low, weak voice. now, i give you fair warning, shouted the queen, stamping on the ground as she spoke; either you or your head must be off, and that in about half no time! take your choice! the duchess took her choice, and was gone in a moment. lets go on with the game, the queen said to alice; and alice was too much frightened to say a word, but slowly followed her back to the croquet-ground. the other guests had taken advantage of the queens absence, and were resting in the shade: however, the moment they saw her, they hurried back to the game, the queen merely remarking that a moments delay would cost them their lives. all the time they were playing the queen never left off quarrelling with the other players, and shouting off with his head! or off with her head! those whom she sentenced were taken into custody by the soldiers, who of course had to leave off being arches to do this, so that by the end of half an hour or so there were no arches left, and all the players, except the king, the queen, and alice, were in custody and under sentence of execution. then the queen left off, quite out of breath, and said to alice, have you seen the mock turtle yet? no, said alice. i dont even know what a mock turtle is. its the thing mock turtle soup is made from, said the queen. i never saw one, or heard of one, said alice. come on, then, said the queen, and he shall tell you his history, as they walked off together, alice heard the king say in a low voice, to the company generally, you are all pardoned. come, thats a good thing! she said to herself, for she had felt quite unhappy at the number of executions the queen had ordered. they very soon came upon a gryphon, lying fast asleep in the sun. (if you dont know what a gryphon is, look at the picture.) up, lazy thing! said the queen, and take this young lady to see the mock turtle, and to hear his history. i must go back and see after some executions i have ordered; and she walked off, leaving alice alone with the gryphon. alice did not quite like the look of the creature, but on the whole she thought it would be quite as safe to stay with it as to go after that savage queen: so she waited. the gryphon sat up and rubbed its eyes: then it watched the queen till she was out of sight: then it chuckled. what fun! said the gryphon, half to itself, half to alice. what is the fun? said alice. why, she, said the gryphon. its all her fancy, that: they never executes nobody, you know. come on! everybody says come on! here, thought alice, as she went slowly after it: i never was so ordered about in all my life, never! they had not gone far before they saw the mock turtle in the distance, sitting sad and lonely on a little ledge of rock, and, as they came nearer, alice could hear him sighing as if his heart would break. she pitied him deeply. what is his sorrow? she asked the gryphon, and the gryphon answered, very nearly in the same words as before, its all his fancy, that: he hasnt got no sorrow, you know. come on! so they went up to the mock turtle, who looked at them with large eyes full of tears, but said nothing. this here young lady, said the gryphon, she wants for to know your history, she do. ill tell it her, said the mock turtle in a deep, hollow tone: sit down, both of you, and dont speak a word till ive finished. so they sat down, and nobody spoke for some minutes. alice thought to herself, i dont see how he can even finish, if he doesnt begin. but she waited patiently. once, said the mock turtle at last, with a deep sigh, i was a real turtle. these words were followed by a very long silence, broken only by an occasional exclamation of hjckrrh! from the gryphon, and the constant heavy sobbing of the mock turtle. alice was very nearly getting up and saying, thank you, sir, for your interesting story, but she could not help thinking there must be more to come, so she sat still and said nothing. when we were little, the mock turtle went on at last, more calmly, though still sobbing a little now and then, we went to school in the sea. the master was an old turtle--we used to call him tortoise-- why did you call him tortoise, if he wasnt one? alice asked. we called him tortoise because he taught us, said the mock turtle angrily: really you are very dull! you ought to be ashamed of yourself for asking such a simple question, added the gryphon; and then they both sat silent and looked at poor alice, who felt ready to sink into the earth. at last the gryphon said to the mock turtle, drive on, old fellow! dont be all day about it! and he went on in these words: yes, we went to school in the sea, though you maynt believe it-- i never said i didnt! interrupted alice. you did, said the mock turtle. hold your tongue! added the gryphon, before alice could speak again. the mock turtle went on. we had the best of educations--in fact, we went to school every day-- ive been to a day-school, too, said alice; you neednt be so proud as all that. with extras? asked the mock turtle a little anxiously. yes, said alice, we learned french and music. and washing? said the mock turtle. certainly not! said alice indignantly. ah! then yours wasnt a really good school, said the mock turtle in a tone of great relief. now at ours they had at the end of the bill, french, music, and washing--extra. you couldnt have wanted it much, said alice; living at the bottom of the sea. i couldnt afford to learn it. said the mock turtle with a sigh. i only took the regular course. what was that? inquired alice. reeling and writhing, of course, to begin with, the mock turtle replied; and then the different branches of arithmetic--ambition, distraction, uglification, and derision. i never heard of uglification, alice ventured to say. what is it? the gryphon lifted up both its paws in surprise. what! never heard of uglifying! it exclaimed. you know what to beautify is, i suppose? yes, said alice doubtfully: it means--to--make--anything--prettier. well, then, the gryphon went on, if you dont know what to uglify is, you are a simpleton. alice did not feel encouraged to ask any more questions about it, so she turned to the mock turtle, and said what else had you to learn? well, there was mystery, the mock turtle replied, counting off the subjects on his flappers, --mystery, ancient and modern, with seaography: then drawling--the drawling-master was an old conger-eel, that used to come once a week: he taught us drawling, stretching, and fainting in coils. what was that like? said alice. well, i cant show it you myself, the mock turtle said: im too stiff. and the gryphon never learnt it. hadnt time, said the gryphon: i went to the classics master, though. he was an old crab, he was. i never went to him, the mock turtle said with a sigh: he taught laughing and grief, they used to say. so he did, so he did, said the gryphon, sighing in his turn; and both creatures hid their faces in their paws. and how many hours a day did you do lessons? said alice, in a hurry to change the subject. ten hours the first day, said the mock turtle: nine the next, and so on. what a curious plan! exclaimed alice. thats the reason theyre called lessons, the gryphon remarked: because they lessen from day to day. this was quite a new idea to alice, and she thought it over a little before she made her next remark. then the eleventh day must have been a holiday? of course it was, said the mock turtle. and how did you manage on the twelfth? alice went on eagerly. thats enough about lessons, the gryphon interrupted in a very decided tone: tell her something about the games now. chapter x. the lobster quadrille the mock turtle sighed deeply, and drew the back of one flapper across his eyes. he looked at alice, and tried to speak, but for a minute or two sobs choked his voice. same as if he had a bone in his throat, said the gryphon: and it set to work shaking him and punching him in the back. at last the mock turtle recovered his voice, and, with tears running down his cheeks, he went on again:-- you may not have lived much under the sea-- [i havent, said alice)--and perhaps you were never even introduced to a lobster-- (alice began to say i once tasted-- but checked herself hastily, and said no, never) --so you can have no idea what a delightful thing a lobster quadrille is! no, indeed, said alice. what sort of a dance is it? why, said the gryphon, you first form into a line along the sea-shore-- two lines! cried the mock turtle. seals, turtles, salmon, and so on; then, when youve cleared all the jelly-fish out of the way-- that generally takes some time, interrupted the gryphon. --you advance twice-- each with a lobster as a partner! cried the gryphon. of course, the mock turtle said: advance twice, set to partners-- --change lobsters, and retire in same order, continued the gryphon. then, you know, the mock turtle went on, you throw the-- the lobsters! shouted the gryphon, with a bound into the air. --as far out to sea as you can-- swim after them! screamed the gryphon. turn a somersault in the sea! cried the mock turtle, capering wildly about. change lobsters again! yelled the gryphon at the top of its voice. back to land again, and thats all the first figure, said the mock turtle, suddenly dropping his voice; and the two creatures, who had been jumping about like mad things all this time, sat down again very sadly and quietly, and looked at alice. it must be a very pretty dance, said alice timidly. would you like to see a little of it? said the mock turtle. very much indeed, said alice. come, lets try the first figure! said the mock turtle to the gryphon. we can do without lobsters, you know. which shall sing? oh, you sing, said the gryphon. ive forgotten the words. so they began solemnly dancing round and round alice, every now and then treading on her toes when they passed too close, and waving their forepaws to mark the time, while the mock turtle sang this, very slowly and sadly:-- will you walk a little faster? said a whiting to a snail. theres a porpoise close behind us, and hes treading on my tail. see how eagerly the lobsters and the turtles all advance! they are waiting on the shingle--will you come and join the dance? will you, wont you, will you, wont you, will you join the dance? will you, wont you, will you, wont you, wont you join the dance? you can really have no notion how delightful it will be when they take us up and throw us, with the lobsters, out to sea! but the snail replied too far, too far! and gave a look askance-- said he thanked the whiting kindly, but he would not join the dance. would not, could not, would not, could not, would not join the dance. would not, could not, would not, could not, could not join the dance. what matters it how far we go? his scaly friend replied. there is another shore, you know, upon the other side. the further off from england the nearer is to france-- then turn not pale, beloved snail, but come and join the dance. will you, wont you, will you, wont you, will you join the dance? will you, wont you, will you, wont you, wont you join the dance? thank you, its a very interesting dance to watch, said alice, feeling very glad that it was over at last: and i do so like that curious song about the whiting! oh, as to the whiting, said the mock turtle, they--youve seen them, of course? yes, said alice, ive often seen them at dinn-- she checked herself hastily. i dont know where dinn may be, said the mock turtle, but if youve seen them so often, of course you know what theyre like. i believe so, alice replied thoughtfully. they have their tails in their mouths--and theyre all over crumbs. youre wrong about the crumbs, said the mock turtle: crumbs would all wash off in the sea. but they have their tails in their mouths; and the reason is-- here the mock turtle yawned and shut his eyes.--tell her about the reason and all that, he said to the gryphon. the reason is, said the gryphon, that they would go with the lobsters to the dance. so they got thrown out to sea. so they had to fall a long way. so they got their tails fast in their mouths. so they couldnt get them out again. thats all. thank you, said alice, its very interesting. i never knew so much about a whiting before. i can tell you more than that, if you like, said the gryphon. do you know why its called a whiting? i never thought about it, said alice. why? it does the boots and shoes. the gryphon replied very solemnly. alice was thoroughly puzzled. does the boots and shoes! she repeated in a wondering tone. why, what are your shoes done with? said the gryphon. i mean, what makes them so shiny? alice looked down at them, and considered a little before she gave her answer. theyre done with blacking, i believe. boots and shoes under the sea, the gryphon went on in a deep voice, are done with a whiting. now you know. and what are they made of? alice asked in a tone of great curiosity. soles and eels, of course, the gryphon replied rather impatiently: any shrimp could have told you that. if id been the whiting, said alice, whose thoughts were still running on the song, id have said to the porpoise, keep back, please: we dont want you with us! they were obliged to have him with them, the mock turtle said: no wise fish would go anywhere without a porpoise. wouldnt it really? said alice in a tone of great surprise. of course not, said the mock turtle: why, if a fish came to me, and told me he was going a journey, i should say with what porpoise? dont you mean purpose? said alice. i mean what i say, the mock turtle replied in an offended tone. and the gryphon added come, lets hear some of your adventures. i could tell you my adventures--beginning from this morning, said alice a little timidly: but its no use going back to yesterday, because i was a different person then. explain all that, said the mock turtle. no, no! the adventures first, said the gryphon in an impatient tone: explanations take such a dreadful time. so alice began telling them her adventures from the time when she first saw the white rabbit. she was a little nervous about it just at first, the two creatures got so close to her, one on each side, and opened their eyes and mouths so very wide, but she gained courage as she went on. her listeners were perfectly quiet till she got to the part about her repeating you are old, father william, to the caterpillar, and the words all coming different, and then the mock turtle drew a long breath, and said thats very curious. its all about as curious as it can be, said the gryphon. it all came different! the mock turtle repeated thoughtfully. i should like to hear her try and repeat something now. tell her to begin. he looked at the gryphon as if he thought it had some kind of authority over alice. stand up and repeat tis the voice of the sluggard, said the gryphon. how the creatures order one about, and make one repeat lessons! thought alice; i might as well be at school at once. however, she got up, and began to repeat it, but her head was so full of the lobster quadrille, that she hardly knew what she was saying, and the words came very queer indeed:-- tis the voice of the lobster; i heard him declare, you have baked me too brown, i must sugar my hair. as a duck with its eyelids, so he with his nose trims his belt and his buttons, and turns out his toes. [later editions continued as follows when the sands are all dry, he is gay as a lark, and will talk in contemptuous tones of the shark, but, when the tide rises and sharks are around, his voice has a timid and tremulous sound.] thats different from what i used to say when i was a child, said the gryphon. well, i never heard it before, said the mock turtle; but it sounds uncommon nonsense. alice said nothing; she had sat down with her face in her hands, wondering if anything would ever happen in a natural way again. i should like to have it explained, said the mock turtle. she cant explain it, said the gryphon hastily. go on with the next verse. but about his toes? the mock turtle persisted. how could he turn them out with his nose, you know? its the first position in dancing. alice said; but was dreadfully puzzled by the whole thing, and longed to change the subject. go on with the next verse, the gryphon repeated impatiently: it begins i passed by his garden. alice did not dare to disobey, though she felt sure it would all come wrong, and she went on in a trembling voice:-- i passed by his garden, and marked, with one eye, how the owl and the panther were sharing a pie-- [later editions continued as follows the panther took pie-crust, and gravy, and meat, while the owl had the dish as its share of the treat. when the pie was all finished, the owl, as a boon, was kindly permitted to pocket the spoon: while the panther received knife and fork with a growl, and concluded the banquet--] what is the use of repeating all that stuff, the mock turtle interrupted, if you dont explain it as you go on? its by far the most confusing thing i ever heard! yes, i think youd better leave off, said the gryphon: and alice was only too glad to do so. shall we try another figure of the lobster quadrille? the gryphon went on. or would you like the mock turtle to sing you a song? oh, a song, please, if the mock turtle would be so kind, alice replied, so eagerly that the gryphon said, in a rather offended tone, hm! no accounting for tastes! sing her turtle soup, will you, old fellow? the mock turtle sighed deeply, and began, in a voice sometimes choked with sobs, to sing this:-- beautiful soup, so rich and green, waiting in a hot tureen! who for such dainties would not stoop? soup of the evening, beautiful soup! soup of the evening, beautiful soup! beau--ootiful soo--oop! beau--ootiful soo--oop! soo--oop of the e--e--evening, beautiful, beautiful soup! beautiful soup! who cares for fish, game, or any other dish? who would not give all else for two pennyworth only of beautiful soup? pennyworth only of beautiful soup? beau--ootiful soo--oop! beau--ootiful soo--oop! soo--oop of the e--e--evening, beautiful, beauti--ful soup! chorus again! cried the gryphon, and the mock turtle had just begun to repeat it, when a cry of the trials beginning! was heard in the distance. come on! cried the gryphon, and, taking alice by the hand, it hurried off, without waiting for the end of the song. what trial is it? alice panted as she ran; but the gryphon only answered come on! and ran the faster, while more and more faintly came, carried on the breeze that followed them, the melancholy words:-- soo--oop of the e--e--evening, beautiful, beautiful soup! chapter xi. who stole the tarts? the king and queen of hearts were seated on their throne when they arrived, with a great crowd assembled about them--all sorts of little birds and beasts, as well as the whole pack of cards: the knave was standing before them, in chains, with a soldier on each side to guard him; and near the king was the white rabbit, with a trumpet in one hand, and a scroll of parchment in the other. in the very middle of the court was a table, with a large dish of tarts upon it: they looked so good, that it made alice quite hungry to look at them--i wish theyd get the trial done, she thought, and hand round the refreshments! but there seemed to be no chance of this, so she began looking at everything about her, to pass away the time. alice had never been in a court of justice before, but she had read about them in books, and she was quite pleased to find that she knew the name of nearly everything there. thats the judge, she said to herself, because of his great wig. the judge, by the way, was the king; and as he wore his crown over the wig, (look at the frontispiece if you want to see how he did it,) he did not look at all comfortable, and it was certainly not becoming. and thats the jury-box, thought alice, and those twelve creatures, (she was obliged to say creatures, you see, because some of them were animals, and some were birds,) i suppose they are the jurors. she said this last word two or three times over to herself, being rather proud of it: for she thought, and rightly too, that very few little girls of her age knew the meaning of it at all. however, jury-men would have done just as well. the twelve jurors were all writing very busily on slates. what are they doing? alice whispered to the gryphon. they cant have anything to put down yet, before the trials begun. theyre putting down their names, the gryphon whispered in reply, for fear they should forget them before the end of the trial. stupid things! alice began in a loud, indignant voice, but she stopped hastily, for the white rabbit cried out, silence in the court! and the king put on his spectacles and looked anxiously round, to make out who was talking. alice could see, as well as if she were looking over their shoulders, that all the jurors were writing down stupid things! on their slates, and she could even make out that one of them didnt know how to spell stupid, and that he had to ask his neighbour to tell him. a nice muddle their slatesll be in before the trials over! thought alice. one of the jurors had a pencil that squeaked. this of course, alice could not stand, and she went round the court and got behind him, and very soon found an opportunity of taking it away. she did it so quickly that the poor little juror (it was bill, the lizard) could not make out at all what had become of it; so, after hunting all about for it, he was obliged to write with one finger for the rest of the day; and this was of very little use, as it left no mark on the slate. herald, read the accusation! said the king. on this the white rabbit blew three blasts on the trumpet, and then unrolled the parchment scroll, and read as follows:-- the queen of hearts, she made some tarts, all on a summer day: the knave of hearts, he stole those tarts, and took them quite away! consider your verdict, the king said to the jury. not yet, not yet! the rabbit hastily interrupted. theres a great deal to come before that! call the first witness, said the king; and the white rabbit blew three blasts on the trumpet, and called out, first witness! the first witness was the hatter. he came in with a teacup in one hand and a piece of bread-and-butter in the other. i beg pardon, your majesty, he began, for bringing these in: but i hadnt quite finished my tea when i was sent for. you ought to have finished, said the king. when did you begin? the hatter looked at the march hare, who had followed him into the court, arm-in-arm with the dormouse. fourteenth of march, i think it was, he said. fifteenth, said the march hare. sixteenth, added the dormouse. write that down, the king said to the jury, and the jury eagerly wrote down all three dates on their slates, and then added them up, and reduced the answer to shillings and pence. take off your hat, the king said to the hatter. it isnt mine, said the hatter. stolen! the king exclaimed, turning to the jury, who instantly made a memorandum of the fact. i keep them to sell, the hatter added as an explanation; ive none of my own. im a hatter. here the queen put on her spectacles, and began staring at the hatter, who turned pale and fidgeted. give your evidence, said the king; and dont be nervous, or ill have you executed on the spot. this did not seem to encourage the witness at all: he kept shifting from one foot to the other, looking uneasily at the queen, and in his confusion he bit a large piece out of his teacup instead of the bread-and-butter. just at this moment alice felt a very curious sensation, which puzzled her a good deal until she made out what it was: she was beginning to grow larger again, and she thought at first she would get up and leave the court; but on second thoughts she decided to remain where she was as long as there was room for her. i wish you wouldnt squeeze so. said the dormouse, who was sitting next to her. i can hardly breathe. i cant help it, said alice very meekly: im growing. youve no right to grow here, said the dormouse. dont talk nonsense, said alice more boldly: you know youre growing too. yes, but i grow at a reasonable pace, said the dormouse: not in that ridiculous fashion. and he got up very sulkily and crossed over to the other side of the court. all this time the queen had never left off staring at the hatter, and, just as the dormouse crossed the court, she said to one of the officers of the court, bring me the list of the singers in the last concert! on which the wretched hatter trembled so, that he shook both his shoes off. give your evidence, the king repeated angrily, or ill have you executed, whether youre nervous or not. im a poor man, your majesty, the hatter began, in a trembling voice, --and i hadnt begun my tea--not above a week or so--and what with the bread-and-butter getting so thin--and the twinkling of the tea-- the twinkling of the what? said the king. it began with the tea, the hatter replied. of course twinkling begins with a t! said the king sharply. do you take me for a dunce? go on! im a poor man, the hatter went on, and most things twinkled after that--only the march hare said-- i didnt! the march hare interrupted in a great hurry. you did! said the hatter. i deny it! said the march hare. he denies it, said the king: leave out that part. well, at any rate, the dormouse said-- the hatter went on, looking anxiously round to see if he would deny it too: but the dormouse denied nothing, being fast asleep. after that, continued the hatter, i cut some more bread-and-butter-- but what did the dormouse say? one of the jury asked. that i cant remember, said the hatter. you must remember, remarked the king, or ill have you executed. the miserable hatter dropped his teacup and bread-and-butter, and went down on one knee. im a poor man, your majesty, he began. youre a very poor speaker, said the king. here one of the guinea-pigs cheered, and was immediately suppressed by the officers of the court. (as that is rather a hard word, i will just explain to you how it was done. they had a large canvas bag, which tied up at the mouth with strings: into this they slipped the guinea-pig, head first, and then sat upon it.) im glad ive seen that done, thought alice. ive so often read in the newspapers, at the end of trials, there was some attempts at applause, which was immediately suppressed by the officers of the court, and i never understood what it meant till now. if thats all you know about it, you may stand down, continued the king. i cant go no lower, said the hatter: im on the floor, as it is. then you may sit down, the king replied. here the other guinea-pig cheered, and was suppressed. come, that finished the guinea-pigs! thought alice. now we shall get on better. id rather finish my tea, said the hatter, with an anxious look at the queen, who was reading the list of singers. you may go, said the king, and the hatter hurriedly left the court, without even waiting to put his shoes on. --and just take his head off outside, the queen added to one of the officers: but the hatter was out of sight before the officer could get to the door. call the next witness! said the king. the next witness was the duchesss cook. she carried the pepper-box in her hand, and alice guessed who it was, even before she got into the court, by the way the people near the door began sneezing all at once. give your evidence, said the king. shant, said the cook. the king looked anxiously at the white rabbit, who said in a low voice, your majesty must cross-examine this witness. well, if i must, i must, the king said, with a melancholy air, and, after folding his arms and frowning at the cook till his eyes were nearly out of sight, he said in a deep voice, what are tarts made of? pepper, mostly, said the cook. treacle, said a sleepy voice behind her. collar that dormouse, the queen shrieked out. behead that dormouse! turn that dormouse out of court! suppress him! pinch him! off with his whiskers! for some minutes the whole court was in confusion, getting the dormouse turned out, and, by the time they had settled down again, the cook had disappeared. never mind! said the king, with an air of great relief. call the next witness. and he added in an undertone to the queen, really, my dear, you must cross-examine the next witness. it quite makes my forehead ache! alice watched the white rabbit as he fumbled over the list, feeling very curious to see what the next witness would be like, --for they havent got much evidence yet, she said to herself. imagine her surprise, when the white rabbit read out, at the top of his shrill little voice, the name alice! chapter xii. alices evidence here! cried alice, quite forgetting in the flurry of the moment how large she had grown in the last few minutes, and she jumped up in such a hurry that she tipped over the jury-box with the edge of her skirt, upsetting all the jurymen on to the heads of the crowd below, and there they lay sprawling about, reminding her very much of a globe of goldfish she had accidentally upset the week before. oh, i beg your pardon! she exclaimed in a tone of great dismay, and began picking them up again as quickly as she could, for the accident of the goldfish kept running in her head, and she had a vague sort of idea that they must be collected at once and put back into the jury-box, or they would die. the trial cannot proceed, said the king in a very grave voice, until all the jurymen are back in their proper places--all, he repeated with great emphasis, looking hard at alice as he said do. alice looked at the jury-box, and saw that, in her haste, she had put the lizard in head downwards, and the poor little thing was waving its tail about in a melancholy way, being quite unable to move. she soon got it out again, and put it right; not that it signifies much, she said to herself; i should think it would be quite as much use in the trial one way up as the other. as soon as the jury had a little recovered from the shock of being upset, and their slates and pencils had been found and handed back to them, they set to work very diligently to write out a history of the accident, all except the lizard, who seemed too much overcome to do anything but sit with its mouth open, gazing up into the roof of the court. what do you know about this business? the king said to alice. nothing, said alice. nothing whatever? persisted the king. nothing whatever, said alice. thats very important, the king said, turning to the jury. they were just beginning to write this down on their slates, when the white rabbit interrupted: unimportant, your majesty means, of course, he said in a very respectful tone, but frowning and making faces at him as he spoke. unimportant, of course, i meant, the king hastily said, and went on to himself in an undertone, important--unimportant--unimportant--important-- as if he were trying which word sounded best. some of the jury wrote it down important, and some unimportant. alice could see this, as she was near enough to look over their slates; but it doesnt matter a bit, she thought to herself. at this moment the king, who had been for some time busily writing in his note-book, cackled out silence! and read out from his book, rule forty-two. all persons more than a mile high to leave the court. everybody looked at alice. im not a mile high, said alice. you are, said the king. nearly two miles high, added the queen. well, i shant go, at any rate, said alice: besides, thats not a regular rule: you invented it just now. its the oldest rule in the book, said the king. then it ought to be number one, said alice. the king turned pale, and shut his note-book hastily. consider your verdict, he said to the jury, in a low, trembling voice. theres more evidence to come yet, please your majesty, said the white rabbit, jumping up in a great hurry; this paper has just been picked up. whats in it? said the queen. i havent opened it yet, said the white rabbit, but it seems to be a letter, written by the prisoner to--to somebody. it must have been that, said the king, unless it was written to nobody, which isnt usual, you know. who is it directed to? said one of the jurymen. it isnt directed at all, said the white rabbit; in fact, theres nothing written on the outside. he unfolded the paper as he spoke, and added it isnt a letter, after all: its a set of verses. are they in the prisoners handwriting? asked another of the jurymen. no, theyre not, said the white rabbit, and thats the queerest thing about it. (the jury all looked puzzled.) he must have imitated somebody elses hand, said the king. (the jury all brightened up again.) please your majesty, said the knave, i didnt write it, and they cant prove i did: theres no name signed at the end. if you didnt sign it, said the king, that only makes the matter worse. you must have meant some mischief, or else youd have signed your name like an honest man. there was a general clapping of hands at this: it was the first really clever thing the king had said that day. that proves his guilt, said the queen. it proves nothing of the sort! said alice. why, you dont even know what theyre about! read them, said the king. the white rabbit put on his spectacles. where shall i begin, please your majesty? he asked. begin at the beginning, the king said gravely, and go on till you come to the end: then stop. these were the verses the white rabbit read:-- they told me you had been to her, and mentioned me to him: she gave me a good character, but said i could not swim. he sent them word i had not gone (we know it to be true): if she should push the matter on, what would become of you? i gave her one, they gave him two, you gave us three or more; they all returned from him to you, though they were mine before. if i or she should chance to be involved in this affair, he trusts to you to set them free, exactly as we were. my notion was that you had been (before she had this fit) an obstacle that came between him, and ourselves, and it. dont let him know she liked them best, for this must ever be a secret, kept from all the rest, between yourself and me. thats the most important piece of evidence weve heard yet, said the king, rubbing his hands; so now let the jury-- if any one of them can explain it, said alice, (she had grown so large in the last few minutes that she wasnt a bit afraid of interrupting him,) ill give him sixpence. _i_ dont believe theres an atom of meaning in it. the jury all wrote down on their slates, she doesnt believe theres an atom of meaning in it, but none of them attempted to explain the paper. if theres no meaning in it, said the king, that saves a world of trouble, you know, as we neednt try to find any. and yet i dont know, he went on, spreading out the verses on his knee, and looking at them with one eye; i seem to see some meaning in them, after all. --said i could not swim-- you cant swim, can you? he added, turning to the knave. the knave shook his head sadly. do i look like it? he said. (which he certainly did not, being made entirely of cardboard.) all right, so far, said the king, and he went on muttering over the verses to himself: we know it to be true-- thats the jury, of course--i gave her one, they gave him two-- why, that must be what he did with the tarts, you know-- but, it goes on they all returned from him to you, said alice. why, there they are! said the king triumphantly, pointing to the tarts on the table. nothing can be clearer than that. then again--before she had this fit-- you never had fits, my dear, i think? he said to the queen. never! said the queen furiously, throwing an inkstand at the lizard as she spoke. (the unfortunate little bill had left off writing on his slate with one finger, as he found it made no mark; but he now hastily began again, using the ink, that was trickling down his face, as long as it lasted.) then the words dont fit you, said the king, looking round the court with a smile. there was a dead silence. its a pun! the king added in an offended tone, and everybody laughed, let the jury consider their verdict, the king said, for about the twentieth time that day. no, no! said the queen. sentence first--verdict afterwards. stuff and nonsense! said alice loudly. the idea of having the sentence first! hold your tongue! said the queen, turning purple. i wont! said alice. off with her head! the queen shouted at the top of her voice. nobody moved. who cares for you? said alice, (she had grown to her full size by this time.) youre nothing but a pack of cards! at this the whole pack rose up into the air, and came flying down upon her: she gave a little scream, half of fright and half of anger, and tried to beat them off, and found herself lying on the bank, with her head in the lap of her sister, who was gently brushing away some dead leaves that had fluttered down from the trees upon her face. wake up, alice dear! said her sister; why, what a long sleep youve had! oh, ive had such a curious dream! said alice, and she told her sister, as well as she could remember them, all these strange adventures of hers that you have just been reading about; and when she had finished, her sister kissed her, and said, it was a curious dream, dear, certainly: but now run in to your tea; its getting late. so alice got up and ran off, thinking while she ran, as well she might, what a wonderful dream it had been. but her sister sat still just as she left her, leaning her head on her hand, watching the setting sun, and thinking of little alice and all her wonderful adventures, till she too began dreaming after a fashion, and this was her dream:-- first, she dreamed of little alice herself, and once again the tiny hands were clasped upon her knee, and the bright eager eyes were looking up into hers--she could hear the very tones of her voice, and see that queer little toss of her head to keep back the wandering hair that would always get into her eyes--and still as she listened, or seemed to listen, the whole place around her became alive with the strange creatures of her little sisters dream. the long grass rustled at her feet as the white rabbit hurried by--the frightened mouse splashed his way through the neighbouring pool--she could hear the rattle of the teacups as the march hare and his friends shared their never-ending meal, and the shrill voice of the queen ordering off her unfortunate guests to execution--once more the pig-baby was sneezing on the duchesss knee, while plates and dishes crashed around it--once more the shriek of the gryphon, the squeaking of the lizards slate-pencil, and the choking of the suppressed guinea-pigs, filled the air, mixed up with the distant sobs of the miserable mock turtle. so she sat on, with closed eyes, and half believed herself in wonderland, though she knew she had but to open them again, and all would change to dull reality--the grass would be only rustling in the wind, and the pool rippling to the waving of the reeds--the rattling teacups would change to tinkling sheep-bells, and the queens shrill cries to the voice of the shepherd boy--and the sneeze of the baby, the shriek of the gryphon, and all the other queer noises, would change (she knew) to the confused clamour of the busy farm-yard--while the lowing of the cattle in the distance would take the place of the mock turtles heavy sobs. lastly, she pictured to herself how this same little sister of hers would, in the after-time, be herself a grown woman; and how she would keep, through all her riper years, the simple and loving heart of her childhood: and how she would gather about her other little children, and make their eyes bright and eager with many a strange tale, perhaps even with the dream of wonderland of long ago: and how she would feel with all their simple sorrows, and find a pleasure in all their simple joys, remembering her own child-life, and the happy summer days. the end end of project gutenbergs alices adventures in wonderland, by lewis carroll *** end of this project gutenberg ebook alices adventures in wonderland *** ***** this file should be named 11-0.txt or 11-0.zip ***** this and all associated files of various formats will be found in: http://www.gutenberg.org/1/11/ updated editions will replace the previous one--the old editions will be renamed. creating the works from public domain print editions means that no one owns a united states copyright in these works, so the foundation (and you!) can copy and distribute it in the united states without permission and without paying copyright royalties.  special rules, set forth in the general terms of use part of this license, apply to copying and distributing project gutenberg-tm electronic works to protect the project gutenberg-tm concept and trademark.  project gutenberg is a registered trademark, and may not be used if you charge for the ebooks, unless you receive specific permission.  if you do not charge anything for copies of this ebook, complying with the rules is very easy.  you may use this ebook for nearly any purpose such as creation of derivative works, reports, performances and research.  they may be modified and printed and given away--you may do practically anything with public domain ebooks.  redistribution is subject to the trademark license, especially commercial redistribution. *** start: full license *** the full project gutenberg license please read this before you distribute or use this work to protect the project gutenberg-tm mission of promoting the free distribution of electronic works, by using or distributing this work (or any other work associated in any way with the phrase project gutenberg), you agree to comply with all the terms of the full project gutenberg-tm license (available with this file or online at http://gutenberg.org/license). section 1.  general terms of use and redistributing project gutenberg-tm electronic works 1.a.  by reading or using any part of this project gutenberg-tm electronic work, you indicate that you have read, understand, agree to and accept all the terms of this license and intellectual property (trademark/copyright) agreement.  if you do not agree to abide by all the terms of this agreement, you must cease using and return or destroy all copies of project gutenberg-tm electronic works in your possession. if you paid a fee for obtaining a copy of or access to a project gutenberg-tm electronic work and you do not agree to be bound by the terms of this agreement, you may obtain a refund from the person or entity to whom you paid the fee as set forth in paragraph 1.e.8. 1.b.  project gutenberg is a registered trademark.  it may only be used on or associated in any way with an electronic work by people who agree to be bound by the terms of this agreement.  there are a few things that you can do with most project gutenberg-tm electronic works even without complying with the full terms of this agreement.  see paragraph 1.c below.  there are a lot of things you can do with project gutenberg-tm electronic works if you follow the terms of this agreement and help preserve free future access to project gutenberg-tm electronic works.  see paragraph 1.e below. 1.c.  the project gutenberg literary archive foundation (the foundation or pglaf), owns a compilation copyright in the collection of project gutenberg-tm electronic works.  nearly all the individual works in the collection are in the public domain in the united states.  if an individual work is in the public domain in the united states and you are located in the united states, we do not claim a right to prevent you from copying, distributing, performing, displaying or creating derivative works based on the work as long as all references to project gutenberg are removed.  of course, we hope that you will support the project gutenberg-tm mission of promoting free access to electronic works by freely sharing project gutenberg-tm works in compliance with the terms of this agreement for keeping the project gutenberg-tm name associated with the work.  you can easily comply with the terms of this agreement by keeping this work in the same format with its attached full project gutenberg-tm license when you share it without charge with others. 1.d.  the copyright laws of the place where you are located also govern what you can do with this work.  copyright laws in most countries are in a constant state of change.  if you are outside the united states, check the laws of your country in addition to the terms of this agreement before downloading, copying, displaying, performing, distributing or creating derivative works based on this work or any other project gutenberg-tm work.  the foundation makes no representations concerning the copyright status of any work in any country outside the united states. 1.e.  unless you have removed all references to project gutenberg: 1.e.1.  the following sentence, with active links to, or other immediate access to, the full project gutenberg-tm license must appear prominently whenever any copy of a project gutenberg-tm work (any work on which the phrase project gutenberg appears, or with which the phrase project gutenberg is associated) is accessed, displayed, performed, viewed, copied or distributed: this ebook is for the use of anyone anywhere at no cost and with almost no restrictions whatsoever.  you may copy it, give it away or re-use it under the terms of the project gutenberg license included with this ebook or online at www.gutenberg.org 1.e.2.  if an individual project gutenberg-tm electronic work is derived from the public domain (does not contain a notice indicating that it is posted with permission of the copyright holder), the work can be copied and distributed to anyone in the united states without paying any fees or charges.  if you are redistributing or providing access to a work with the phrase project gutenberg associated with or appearing on the work, you must comply either with the requirements of paragraphs 1.e.1 through 1.e.7 or obtain permission for the use of the work and the project gutenberg-tm trademark as set forth in paragraphs 1.e.8 or 1.e.9. 1.e.3.  if an individual project gutenberg-tm electronic work is posted with the permission of the copyright holder, your use and distribution must comply with both paragraphs 1.e.1 through 1.e.7 and any additional terms imposed by the copyright holder.  additional terms will be linked to the project gutenberg-tm license for all works posted with the permission of the copyright holder found at the beginning of this work. 1.e.4.  do not unlink or detach or remove the full project gutenberg-tm license terms from this work, or any files containing a part of this work or any other work associated with project gutenberg-tm. 1.e.5.  do not copy, display, perform, distribute or redistribute this electronic work, or any part of this electronic work, without prominently displaying the sentence set forth in paragraph 1.e.1 with active links or immediate access to the full terms of the project gutenberg-tm license. 1.e.6.  you may convert to and distribute this work in any binary, compressed, marked up, nonproprietary or proprietary form, including any word processing or hypertext form.  however, if you provide access to or distribute copies of a project gutenberg-tm work in a format other than plain vanilla ascii or other format used in the official version posted on the official project gutenberg-tm web site (www.gutenberg.org), you must, at no additional cost, fee or expense to the user, provide a copy, a means of exporting a copy, or a means of obtaining a copy upon request, of the work in its original plain vanilla ascii or other form.  any alternate format must include the full project gutenberg-tm license as specified in paragraph 1.e.1. 1.e.7.  do not charge a fee for access to, viewing, displaying, performing, copying or distributing any project gutenberg-tm works unless you comply with paragraph 1.e.8 or 1.e.9. 1.e.8.  you may charge a reasonable fee for copies of or providing access to or distributing project gutenberg-tm electronic works provided that - you pay a royalty fee of 20% of the gross profits you derive from the use of project gutenberg-tm works calculated using the method you already use to calculate your applicable taxes.  the fee is owed to the owner of the project gutenberg-tm trademark, but he has agreed to donate royalties under this paragraph to the project gutenberg literary archive foundation.  royalty payments must be paid within 60 days following each date on which you prepare (or are legally required to prepare) your periodic tax returns.  royalty payments should be clearly marked as such and sent to the project gutenberg literary archive foundation at the address specified in section 4, information about donations to the project gutenberg literary archive foundation. - you provide a full refund of any money paid by a user who notifies you in writing (or by e-mail) within 30 days of receipt that s/he does not agree to the terms of the full project gutenberg-tm license.  you must require such a user to return or destroy all copies of the works possessed in a physical medium and discontinue all use of and all access to other copies of project gutenberg-tm works. - you provide, in accordance with paragraph 1.f.3, a full refund of any money paid for a work or a replacement copy, if a defect in the electronic work is discovered and reported to you within 90 days of receipt of the work. - you comply with all other terms of this agreement for free distribution of project gutenberg-tm works. 1.e.9.  if you wish to charge a fee or distribute a project gutenberg-tm electronic work or group of works on different terms than are set forth in this agreement, you must obtain permission in writing from both the project gutenberg literary archive foundation and michael hart, the owner of the project gutenberg-tm trademark.  contact the foundation as set forth in section 3 below. 1.f. 1.f.1.  project gutenberg volunteers and employees expend considerable effort to identify, do copyright research on, transcribe and proofread public domain works in creating the project gutenberg-tm collection.  despite these efforts, project gutenberg-tm electronic works, and the medium on which they may be stored, may contain defects, such as, but not limited to, incomplete, inaccurate or corrupt data, transcription errors, a copyright or other intellectual property infringement, a defective or damaged disk or other medium, a computer virus, or computer codes that damage or cannot be read by your equipment. 1.f.2.  limited warranty, disclaimer of damages - except for the right of replacement or refund described in paragraph 1.f.3, the project gutenberg literary archive foundation, the owner of the project gutenberg-tm trademark, and any other party distributing a project gutenberg-tm electronic work under this agreement, disclaim all liability to you for damages, costs and expenses, including legal fees.  you agree that you have no remedies for negligence, strict liability, breach of warranty or breach of contract except those provided in paragraph f3.  you agree that the foundation, the trademark owner, and any distributor under this agreement will not be liable to you for actual, direct, indirect, consequential, punitive or incidental damages even if you give notice of the possibility of such damage. 1.f.3.  limited right of replacement or refund - if you discover a defect in this electronic work within 90 days of receiving it, you can receive a refund of the money (if any) you paid for it by sending a written explanation to the person you received the work from.  if you received the work on a physical medium, you must return the medium with your written explanation.  the person or entity that provided you with the defective work may elect to provide a replacement copy in lieu of a refund.  if you received the work electronically, the person or entity providing it to you may choose to give you a second opportunity to receive the work electronically in lieu of a refund.  if the second copy is also defective, you may demand a refund in writing without further opportunities to fix the problem. 1.f.4.  except for the limited right of replacement or refund set forth in paragraph 1.f.3, this work is provided to you as-is with no other warranties of any kind, express or implied, including but not limited to warranties of merchantibility or fitness for any purpose. 1.f.5.  some states do not allow disclaimers of certain implied warranties or the exclusion or limitation of certain types of damages. if any disclaimer or limitation set forth in this agreement violates the law of the state applicable to this agreement, the agreement shall be interpreted to make the maximum disclaimer or limitation permitted by the applicable state law.  the invalidity or unenforceability of any provision of this agreement shall not void the remaining provisions. 1.f.6.  indemnity - you agree to indemnify and hold the foundation, the trademark owner, any agent or employee of the foundation, anyone providing copies of project gutenberg-tm electronic works in accordance with this agreement, and any volunteers associated with the production, promotion and distribution of project gutenberg-tm electronic works, harmless from all liability, costs and expenses, including legal fees, that arise directly or indirectly from any of the following which you do or cause to occur: (a) distribution of this or any project gutenberg-tm work, (b) alteration, modification, or additions or deletions to any project gutenberg-tm work, and (c) any defect you cause. section  2.  information about the mission of project gutenberg-tm project gutenberg-tm is synonymous with the free distribution of electronic works in formats readable by the widest variety of computers including obsolete, old, middle-aged and new computers.  it exists because of the efforts of hundreds of volunteers and donations from people in all walks of life. volunteers and financial support to provide volunteers with the assistance they need, is critical to reaching project gutenberg-tms goals and ensuring that the project gutenberg-tm collection will remain freely available for generations to come.  in 2001, the project gutenberg literary archive foundation was created to provide a secure and permanent future for project gutenberg-tm and future generations. to learn more about the project gutenberg literary archive foundation and how your efforts and donations can help, see sections 3 and 4 and the foundation web page at http://www.pglaf.org. section 3.  information about the project gutenberg literary archive foundation the project gutenberg literary archive foundation is a non profit 501(c)(3) educational corporation organized under the laws of the state of mississippi and granted tax exempt status by the internal revenue service.  the foundations ein or federal tax identification number is 64-6221541.  its 501(c)(3) letter is posted at http://pglaf.org/fundraising.  contributions to the project gutenberg literary archive foundation are tax deductible to the full extent permitted by u.s. federal laws and your states laws. the foundations principal office is located at 4557 melan dr. s. fairbanks, ak, 99712., but its volunteers and employees are scattered throughout numerous locations.  its business office is located at 809 north 1500 west, salt lake city, ut 84116, (801) 596-1887, email business@pglaf.org.  email contact links and up to date contact information can be found at the foundations web site and official page at http://pglaf.org for additional contact information: dr. gregory b. newby chief executive and director gbnewby@pglaf.org section 4.  information about donations to the project gutenberg literary archive foundation project gutenberg-tm depends upon and cannot survive without wide spread public support and donations to carry out its mission of increasing the number of public domain and licensed works that can be freely distributed in machine readable form accessible by the widest array of equipment including outdated equipment.  many small donations ($1 to $5,000) are particularly important to maintaining tax exempt status with the irs. the foundation is committed to complying with the laws regulating charities and charitable donations in all 50 states of the united states.  compliance requirements are not uniform and it takes a considerable effort, much paperwork and many fees to meet and keep up with these requirements.  we do not solicit donations in locations where we have not received written confirmation of compliance.  to send donations or determine the status of compliance for any particular state visit http://pglaf.org while we cannot and do not solicit contributions from states where we have not met the solicitation requirements, we know of no prohibition against accepting unsolicited donations from donors in such states who approach us with offers to donate. international donations are gratefully accepted, but we cannot make any statements concerning tax treatment of donations received from outside the united states.  u.s. laws alone swamp our small staff. please check the project gutenberg web pages for current donation methods and addresses.  donations are accepted in a number of other ways including checks, online payments and credit card donations. to donate, please visit: http://pglaf.org/donate section 5.  general information about project gutenberg-tm electronic works. professor michael s. hart is the originator of the project gutenberg-tm concept of a library of electronic works that could be freely shared with anyone.  for thirty years, he produced and distributed project gutenberg-tm ebooks with only a loose network of volunteer support. project gutenberg-tm ebooks are often created from several printed editions, all of which are confirmed as public domain in the u.s. unless a copyright notice is included.  thus, we do not necessarily keep ebooks in compliance with any particular paper edition. most people start at our web site which has the main pg search facility: http://www.gutenberg.org this web site includes information about project gutenberg-tm, including how to make donations to the project gutenberg literary archive foundation, how to help produce our new ebooks, and how to subscribe to our email newsletter to hear about new ebooks.'"
      ]
     },
     "execution_count": 4,
     "metadata": {},
     "output_type": "execute_result"
    }
   ],
   "source": [
    "text"
   ]
  },
  {
   "cell_type": "markdown",
   "metadata": {},
   "source": [
    "### character extraction and vectorization"
   ]
  },
  {
   "cell_type": "code",
   "execution_count": 8,
   "metadata": {},
   "outputs": [],
   "source": [
    "chars = set(text)\n",
    "nb_chars = len(chars)\n",
    "\n",
    "char2index = dict((c, i) for i, c in enumerate(chars))\n",
    "index2char = dict((i, c) for i, c in enumerate(chars))\n"
   ]
  },
  {
   "cell_type": "code",
   "execution_count": 9,
   "metadata": {},
   "outputs": [
    {
     "data": {
      "text/plain": [
       "55"
      ]
     },
     "execution_count": 9,
     "metadata": {},
     "output_type": "execute_result"
    }
   ],
   "source": [
    "nb_chars"
   ]
  },
  {
   "cell_type": "code",
   "execution_count": 10,
   "metadata": {},
   "outputs": [
    {
     "data": {
      "text/plain": [
       "{0: '3',\n",
       " 1: '(',\n",
       " 2: 'l',\n",
       " 3: 'x',\n",
       " 4: 'd',\n",
       " 5: 'j',\n",
       " 6: '*',\n",
       " 7: 'v',\n",
       " 8: '_',\n",
       " 9: 'w',\n",
       " 10: '/',\n",
       " 11: 'g',\n",
       " 12: '4',\n",
       " 13: '-',\n",
       " 14: 'o',\n",
       " 15: 'c',\n",
       " 16: 'e',\n",
       " 17: 'z',\n",
       " 18: '?',\n",
       " 19: 'b',\n",
       " 20: '%',\n",
       " 21: 'f',\n",
       " 22: '0',\n",
       " 23: '[',\n",
       " 24: ' ',\n",
       " 25: '8',\n",
       " 26: 's',\n",
       " 27: '6',\n",
       " 28: '5',\n",
       " 29: '$',\n",
       " 30: ',',\n",
       " 31: '@',\n",
       " 32: ')',\n",
       " 33: ';',\n",
       " 34: 'h',\n",
       " 35: '7',\n",
       " 36: 'q',\n",
       " 37: ':',\n",
       " 38: '2',\n",
       " 39: 'u',\n",
       " 40: '1',\n",
       " 41: 'y',\n",
       " 42: 'n',\n",
       " 43: 'm',\n",
       " 44: 't',\n",
       " 45: '9',\n",
       " 46: 'p',\n",
       " 47: 'k',\n",
       " 48: '#',\n",
       " 49: '.',\n",
       " 50: 'i',\n",
       " 51: 'r',\n",
       " 52: '!',\n",
       " 53: 'a',\n",
       " 54: ']'}"
      ]
     },
     "execution_count": 10,
     "metadata": {},
     "output_type": "execute_result"
    }
   ],
   "source": [
    "index2char"
   ]
  },
  {
   "cell_type": "markdown",
   "metadata": {},
   "source": [
    "### separating input and output"
   ]
  },
  {
   "cell_type": "code",
   "execution_count": 11,
   "metadata": {},
   "outputs": [],
   "source": [
    "SEQLEN = 10\n",
    "STEP = 1\n",
    "input_chars = []\n",
    "label_chars = []\n",
    "\n",
    "for i in range(0, len(text) - SEQLEN, STEP):\n",
    "    input_chars.append(text[i:i + SEQLEN])\n",
    "    label_chars.append(text[i + SEQLEN])\n"
   ]
  },
  {
   "cell_type": "code",
   "execution_count": 12,
   "metadata": {},
   "outputs": [
    {
     "data": {
      "text/plain": [
       "['project gu', 'roject gut', 'oject gute', 'ject guten', 'ect gutenb']"
      ]
     },
     "execution_count": 12,
     "metadata": {},
     "output_type": "execute_result"
    }
   ],
   "source": [
    "input_chars[:5]"
   ]
  },
  {
   "cell_type": "code",
   "execution_count": 13,
   "metadata": {},
   "outputs": [
    {
     "data": {
      "text/plain": [
       "['t', 'e', 'n', 'b', 'e']"
      ]
     },
     "execution_count": 13,
     "metadata": {},
     "output_type": "execute_result"
    }
   ],
   "source": [
    "label_chars[:5]"
   ]
  },
  {
   "cell_type": "code",
   "execution_count": 14,
   "metadata": {},
   "outputs": [
    {
     "data": {
      "text/plain": [
       "(158773, 158773)"
      ]
     },
     "execution_count": 14,
     "metadata": {},
     "output_type": "execute_result"
    }
   ],
   "source": [
    "len(input_chars),len(label_chars)"
   ]
  },
  {
   "cell_type": "markdown",
   "metadata": {},
   "source": [
    "### creating 3D vector matrix for input"
   ]
  },
  {
   "cell_type": "code",
   "execution_count": 15,
   "metadata": {},
   "outputs": [],
   "source": [
    "X = np.zeros((len(input_chars), SEQLEN, nb_chars), dtype=np.bool)#5000 x 10 x 55\n",
    "y = np.zeros((len(input_chars), nb_chars), dtype=np.bool)\n",
    "\n"
   ]
  },
  {
   "cell_type": "code",
   "execution_count": 16,
   "metadata": {},
   "outputs": [
    {
     "data": {
      "text/plain": [
       "array([[False, False, False, False, False, False, False, False, False,\n",
       "        False, False, False, False, False, False, False, False, False,\n",
       "        False, False, False, False, False, False, False, False, False,\n",
       "        False, False, False, False, False, False, False, False, False,\n",
       "        False, False, False, False, False, False, False, False, False,\n",
       "        False, False, False, False, False, False, False, False, False,\n",
       "        False],\n",
       "       [False, False, False, False, False, False, False, False, False,\n",
       "        False, False, False, False, False, False, False, False, False,\n",
       "        False, False, False, False, False, False, False, False, False,\n",
       "        False, False, False, False, False, False, False, False, False,\n",
       "        False, False, False, False, False, False, False, False, False,\n",
       "        False, False, False, False, False, False, False, False, False,\n",
       "        False],\n",
       "       [False, False, False, False, False, False, False, False, False,\n",
       "        False, False, False, False, False, False, False, False, False,\n",
       "        False, False, False, False, False, False, False, False, False,\n",
       "        False, False, False, False, False, False, False, False, False,\n",
       "        False, False, False, False, False, False, False, False, False,\n",
       "        False, False, False, False, False, False, False, False, False,\n",
       "        False],\n",
       "       [False, False, False, False, False, False, False, False, False,\n",
       "        False, False, False, False, False, False, False, False, False,\n",
       "        False, False, False, False, False, False, False, False, False,\n",
       "        False, False, False, False, False, False, False, False, False,\n",
       "        False, False, False, False, False, False, False, False, False,\n",
       "        False, False, False, False, False, False, False, False, False,\n",
       "        False],\n",
       "       [False, False, False, False, False, False, False, False, False,\n",
       "        False, False, False, False, False, False, False, False, False,\n",
       "        False, False, False, False, False, False, False, False, False,\n",
       "        False, False, False, False, False, False, False, False, False,\n",
       "        False, False, False, False, False, False, False, False, False,\n",
       "        False, False, False, False, False, False, False, False, False,\n",
       "        False],\n",
       "       [False, False, False, False, False, False, False, False, False,\n",
       "        False, False, False, False, False, False, False, False, False,\n",
       "        False, False, False, False, False, False, False, False, False,\n",
       "        False, False, False, False, False, False, False, False, False,\n",
       "        False, False, False, False, False, False, False, False, False,\n",
       "        False, False, False, False, False, False, False, False, False,\n",
       "        False],\n",
       "       [False, False, False, False, False, False, False, False, False,\n",
       "        False, False, False, False, False, False, False, False, False,\n",
       "        False, False, False, False, False, False, False, False, False,\n",
       "        False, False, False, False, False, False, False, False, False,\n",
       "        False, False, False, False, False, False, False, False, False,\n",
       "        False, False, False, False, False, False, False, False, False,\n",
       "        False],\n",
       "       [False, False, False, False, False, False, False, False, False,\n",
       "        False, False, False, False, False, False, False, False, False,\n",
       "        False, False, False, False, False, False, False, False, False,\n",
       "        False, False, False, False, False, False, False, False, False,\n",
       "        False, False, False, False, False, False, False, False, False,\n",
       "        False, False, False, False, False, False, False, False, False,\n",
       "        False],\n",
       "       [False, False, False, False, False, False, False, False, False,\n",
       "        False, False, False, False, False, False, False, False, False,\n",
       "        False, False, False, False, False, False, False, False, False,\n",
       "        False, False, False, False, False, False, False, False, False,\n",
       "        False, False, False, False, False, False, False, False, False,\n",
       "        False, False, False, False, False, False, False, False, False,\n",
       "        False],\n",
       "       [False, False, False, False, False, False, False, False, False,\n",
       "        False, False, False, False, False, False, False, False, False,\n",
       "        False, False, False, False, False, False, False, False, False,\n",
       "        False, False, False, False, False, False, False, False, False,\n",
       "        False, False, False, False, False, False, False, False, False,\n",
       "        False, False, False, False, False, False, False, False, False,\n",
       "        False]])"
      ]
     },
     "execution_count": 16,
     "metadata": {},
     "output_type": "execute_result"
    }
   ],
   "source": [
    "X[1]"
   ]
  },
  {
   "cell_type": "code",
   "execution_count": 17,
   "metadata": {},
   "outputs": [],
   "source": [
    "for i, input_char in enumerate(input_chars):\n",
    "    for j, ch in enumerate(input_char):\n",
    "        X[i, j, char2index[ch]] = 1\n",
    "    y[i, char2index[label_chars[i]]] = 1"
   ]
  },
  {
   "cell_type": "code",
   "execution_count": 19,
   "metadata": {},
   "outputs": [
    {
     "data": {
      "text/plain": [
       "array([[False, False, False, False, False, False, False, False, False,\n",
       "        False, False, False, False, False, False, False, False, False,\n",
       "        False, False, False, False, False, False, False, False, False,\n",
       "        False, False, False, False, False, False, False, False, False,\n",
       "        False, False, False, False, False, False, False, False, False,\n",
       "        False,  True, False, False, False, False, False, False, False,\n",
       "        False],\n",
       "       [False, False, False, False, False, False, False, False, False,\n",
       "        False, False, False, False, False, False, False, False, False,\n",
       "        False, False, False, False, False, False, False, False, False,\n",
       "        False, False, False, False, False, False, False, False, False,\n",
       "        False, False, False, False, False, False, False, False, False,\n",
       "        False, False, False, False, False, False,  True, False, False,\n",
       "        False],\n",
       "       [False, False, False, False, False, False, False, False, False,\n",
       "        False, False, False, False, False,  True, False, False, False,\n",
       "        False, False, False, False, False, False, False, False, False,\n",
       "        False, False, False, False, False, False, False, False, False,\n",
       "        False, False, False, False, False, False, False, False, False,\n",
       "        False, False, False, False, False, False, False, False, False,\n",
       "        False],\n",
       "       [False, False, False, False, False,  True, False, False, False,\n",
       "        False, False, False, False, False, False, False, False, False,\n",
       "        False, False, False, False, False, False, False, False, False,\n",
       "        False, False, False, False, False, False, False, False, False,\n",
       "        False, False, False, False, False, False, False, False, False,\n",
       "        False, False, False, False, False, False, False, False, False,\n",
       "        False],\n",
       "       [False, False, False, False, False, False, False, False, False,\n",
       "        False, False, False, False, False, False, False,  True, False,\n",
       "        False, False, False, False, False, False, False, False, False,\n",
       "        False, False, False, False, False, False, False, False, False,\n",
       "        False, False, False, False, False, False, False, False, False,\n",
       "        False, False, False, False, False, False, False, False, False,\n",
       "        False],\n",
       "       [False, False, False, False, False, False, False, False, False,\n",
       "        False, False, False, False, False, False,  True, False, False,\n",
       "        False, False, False, False, False, False, False, False, False,\n",
       "        False, False, False, False, False, False, False, False, False,\n",
       "        False, False, False, False, False, False, False, False, False,\n",
       "        False, False, False, False, False, False, False, False, False,\n",
       "        False],\n",
       "       [False, False, False, False, False, False, False, False, False,\n",
       "        False, False, False, False, False, False, False, False, False,\n",
       "        False, False, False, False, False, False, False, False, False,\n",
       "        False, False, False, False, False, False, False, False, False,\n",
       "        False, False, False, False, False, False, False, False,  True,\n",
       "        False, False, False, False, False, False, False, False, False,\n",
       "        False],\n",
       "       [False, False, False, False, False, False, False, False, False,\n",
       "        False, False, False, False, False, False, False, False, False,\n",
       "        False, False, False, False, False, False,  True, False, False,\n",
       "        False, False, False, False, False, False, False, False, False,\n",
       "        False, False, False, False, False, False, False, False, False,\n",
       "        False, False, False, False, False, False, False, False, False,\n",
       "        False],\n",
       "       [False, False, False, False, False, False, False, False, False,\n",
       "        False, False,  True, False, False, False, False, False, False,\n",
       "        False, False, False, False, False, False, False, False, False,\n",
       "        False, False, False, False, False, False, False, False, False,\n",
       "        False, False, False, False, False, False, False, False, False,\n",
       "        False, False, False, False, False, False, False, False, False,\n",
       "        False],\n",
       "       [False, False, False, False, False, False, False, False, False,\n",
       "        False, False, False, False, False, False, False, False, False,\n",
       "        False, False, False, False, False, False, False, False, False,\n",
       "        False, False, False, False, False, False, False, False, False,\n",
       "        False, False, False,  True, False, False, False, False, False,\n",
       "        False, False, False, False, False, False, False, False, False,\n",
       "        False]])"
      ]
     },
     "execution_count": 19,
     "metadata": {},
     "output_type": "execute_result"
    }
   ],
   "source": [
    "X[0]"
   ]
  },
  {
   "cell_type": "markdown",
   "metadata": {},
   "source": [
    "### model defining"
   ]
  },
  {
   "cell_type": "code",
   "execution_count": 20,
   "metadata": {},
   "outputs": [
    {
     "name": "stdout",
     "output_type": "stream",
     "text": [
      "WARNING:tensorflow:From /usr/local/lib/python3.6/dist-packages/tensorflow/python/framework/op_def_library.py:263: colocate_with (from tensorflow.python.framework.ops) is deprecated and will be removed in a future version.\n",
      "Instructions for updating:\n",
      "Colocations handled automatically by placer.\n",
      "_________________________________________________________________\n",
      "Layer (type)                 Output Shape              Param #   \n",
      "=================================================================\n",
      "simple_rnn_1 (SimpleRNN)     (None, 128)               23552     \n",
      "_________________________________________________________________\n",
      "dense_1 (Dense)              (None, 55)                7095      \n",
      "_________________________________________________________________\n",
      "activation_1 (Activation)    (None, 55)                0         \n",
      "=================================================================\n",
      "Total params: 30,647\n",
      "Trainable params: 30,647\n",
      "Non-trainable params: 0\n",
      "_________________________________________________________________\n"
     ]
    }
   ],
   "source": [
    "HIDDEN_SIZE = 128\n",
    "BATCH_SIZE = 128\n",
    "NUM_ITERATIONS = 20\n",
    "NUM_EPOCHS_PER_ITERATION = 1\n",
    "NUM_PREDS_PER_EPOCH = 100\n",
    "\n",
    "model = Sequential()\n",
    "model.add(SimpleRNN(HIDDEN_SIZE, return_sequences=False,input_shape=(SEQLEN, nb_chars),unroll=True))\n",
    "model.add(Dense(nb_chars))\n",
    "model.add(Activation(\"softmax\"))\n",
    "model.compile(loss=\"categorical_crossentropy\", optimizer=\"rmsprop\")\n",
    "model.summary()"
   ]
  },
  {
   "cell_type": "markdown",
   "metadata": {},
   "source": [
    "### training"
   ]
  },
  {
   "cell_type": "code",
   "execution_count": 21,
   "metadata": {},
   "outputs": [
    {
     "name": "stdout",
     "output_type": "stream",
     "text": [
      "WARNING:tensorflow:From /usr/local/lib/python3.6/dist-packages/tensorflow/python/ops/math_ops.py:3066: to_int32 (from tensorflow.python.ops.math_ops) is deprecated and will be removed in a future version.\n",
      "Instructions for updating:\n",
      "Use tf.cast instead.\n",
      "Epoch 1/20\n",
      "158773/158773 [==============================] - 8s 52us/step - loss: 2.3319\n",
      "Epoch 2/20\n",
      "158773/158773 [==============================] - 7s 43us/step - loss: 2.0456\n",
      "Epoch 3/20\n",
      "158773/158773 [==============================] - 7s 42us/step - loss: 1.9402\n",
      "Epoch 4/20\n",
      "158773/158773 [==============================] - 7s 46us/step - loss: 1.8583\n",
      "Epoch 5/20\n",
      "158773/158773 [==============================] - 7s 43us/step - loss: 1.7932\n",
      "Epoch 6/20\n",
      "158773/158773 [==============================] - 7s 44us/step - loss: 1.7397\n",
      "Epoch 7/20\n",
      "158773/158773 [==============================] - 7s 42us/step - loss: 1.6955\n",
      "Epoch 8/20\n",
      "158773/158773 [==============================] - 7s 43us/step - loss: 1.6581\n",
      "Epoch 9/20\n",
      "158773/158773 [==============================] - 7s 41us/step - loss: 1.6249\n",
      "Epoch 10/20\n",
      "158773/158773 [==============================] - 7s 43us/step - loss: 1.5967\n",
      "Epoch 11/20\n",
      "158773/158773 [==============================] - 7s 42us/step - loss: 1.5726\n",
      "Epoch 12/20\n",
      "158773/158773 [==============================] - 7s 43us/step - loss: 1.5517\n",
      "Epoch 13/20\n",
      "158773/158773 [==============================] - 7s 44us/step - loss: 1.5312\n",
      "Epoch 14/20\n",
      "158773/158773 [==============================] - 7s 47us/step - loss: 1.5147\n",
      "Epoch 15/20\n",
      "158773/158773 [==============================] - 7s 44us/step - loss: 1.4990\n",
      "Epoch 16/20\n",
      "158773/158773 [==============================] - 8s 51us/step - loss: 1.4862\n",
      "Epoch 17/20\n",
      "158773/158773 [==============================] - 7s 45us/step - loss: 1.4738\n",
      "Epoch 18/20\n",
      "158773/158773 [==============================] - 7s 43us/step - loss: 1.4619\n",
      "Epoch 19/20\n",
      "158773/158773 [==============================] - 7s 45us/step - loss: 1.4520\n",
      "Epoch 20/20\n",
      "158773/158773 [==============================] - 7s 44us/step - loss: 1.4425\n"
     ]
    },
    {
     "data": {
      "text/plain": [
       "<keras.callbacks.History at 0x7f7979f84198>"
      ]
     },
     "execution_count": 21,
     "metadata": {},
     "output_type": "execute_result"
    }
   ],
   "source": [
    "model.fit(X, y, batch_size=BATCH_SIZE, epochs=NUM_ITERATIONS)"
   ]
  },
  {
   "cell_type": "markdown",
   "metadata": {},
   "source": [
    "### prediction"
   ]
  },
  {
   "cell_type": "code",
   "execution_count": 25,
   "metadata": {},
   "outputs": [
    {
     "name": "stdout",
     "output_type": "stream",
     "text": [
      "Generating from seed: learning t\n"
     ]
    }
   ],
   "source": [
    "test_chars = \"learning t\"\n",
    "print(\"Generating from seed: %s\" % (test_chars))\n",
    "output = test_chars\n"
   ]
  },
  {
   "cell_type": "code",
   "execution_count": 26,
   "metadata": {},
   "outputs": [],
   "source": [
    "for i in range(NUM_PREDS_PER_EPOCH):\n",
    "    Xtest = np.zeros((1, SEQLEN, nb_chars))\n",
    "    for i, ch in enumerate(test_chars):\n",
    "        Xtest[0, i, char2index[ch]] = 1\n",
    "    pred = model.predict(Xtest, verbose=0)[0]\n",
    "    ypred = index2char[np.argmax(pred)]\n",
    "    output += ypred\n",
    "    test_chars = test_chars[1:] + ypred\n"
   ]
  },
  {
   "cell_type": "code",
   "execution_count": 27,
   "metadata": {},
   "outputs": [
    {
     "data": {
      "text/plain": [
       "'learning the poor and had found the poor and had found the poor and had found the poor and had found the poor '"
      ]
     },
     "execution_count": 27,
     "metadata": {},
     "output_type": "execute_result"
    }
   ],
   "source": [
    "output"
   ]
  },
  {
   "cell_type": "markdown",
   "metadata": {},
   "source": [
    "## LSTM"
   ]
  },
  {
   "cell_type": "markdown",
   "metadata": {},
   "source": [
    "### importing libs"
   ]
  },
  {
   "cell_type": "code",
   "execution_count": 28,
   "metadata": {},
   "outputs": [],
   "source": [
    "import collections\n",
    "\n",
    "import matplotlib.pyplot as plt\n",
    "import nltk\n",
    "import numpy as np\n",
    "from keras.layers.core import Activation, Dense, Dropout\n",
    "from keras.layers.embeddings import Embedding\n",
    "from keras.layers.recurrent import LSTM\n",
    "from keras.models import Sequential\n",
    "from keras.preprocessing import sequence\n",
    "from sklearn.model_selection import train_test_split"
   ]
  },
  {
   "cell_type": "code",
   "execution_count": 30,
   "metadata": {},
   "outputs": [],
   "source": [
    "maxlen = 0\n",
    "word_freqs = collections.Counter()\n",
    "num_recs = 0"
   ]
  },
  {
   "cell_type": "code",
   "execution_count": 31,
   "metadata": {},
   "outputs": [],
   "source": [
    "ftrain = open(\"./Deep_Learning/training.txt\", \"r\")\n",
    "\n",
    "for line in ftrain:\n",
    "    label, sentence = line.strip().split(\"\\t\")\n",
    "    words = nltk.word_tokenize(sentence.lower())\n",
    "    if len(words) > maxlen:\n",
    "        maxlen = len(words)\n",
    "    for word in words:\n",
    "        word_freqs[word] += 1\n",
    "    num_recs += 1\n",
    "ftrain.close()"
   ]
  },
  {
   "cell_type": "code",
   "execution_count": 32,
   "metadata": {},
   "outputs": [
    {
     "data": {
      "text/plain": [
       "42"
      ]
     },
     "execution_count": 32,
     "metadata": {},
     "output_type": "execute_result"
    }
   ],
   "source": [
    "maxlen"
   ]
  },
  {
   "cell_type": "code",
   "execution_count": 33,
   "metadata": {},
   "outputs": [
    {
     "data": {
      "text/plain": [
       "2328"
      ]
     },
     "execution_count": 33,
     "metadata": {},
     "output_type": "execute_result"
    }
   ],
   "source": [
    "len(word_freqs)"
   ]
  },
  {
   "cell_type": "code",
   "execution_count": 34,
   "metadata": {},
   "outputs": [],
   "source": [
    "MAX_FEATURES = 2000\n",
    "MAX_SENTENCE_LENGTH = 20"
   ]
  },
  {
   "cell_type": "code",
   "execution_count": 35,
   "metadata": {},
   "outputs": [],
   "source": [
    "vocab_size = min(MAX_FEATURES, len(word_freqs)) + 2\n",
    "word2index = {x[0]: i+2 for i, x in enumerate(word_freqs.most_common(MAX_FEATURES))}\n",
    "word2index[\"PAD\"] = 0\n",
    "word2index[\"UNK\"] = 1\n",
    "index2word = {v:k for k, v in word2index.items()}"
   ]
  },
  {
   "cell_type": "code",
   "execution_count": 36,
   "metadata": {},
   "outputs": [],
   "source": [
    "X = np.empty((num_recs, ), dtype=list)\n",
    "y = np.zeros((num_recs, ))\n",
    "i = 0\n",
    "\n",
    "ftrain = open(\"./Deep_Learning/training.txt\", \"r\")\n",
    "\n",
    "for i,line in enumerate(ftrain):\n",
    "    label, sentence = line.strip().split(\"\\t\")\n",
    "    words = nltk.word_tokenize(sentence.lower())\n",
    "    seqs = []\n",
    "    for word in words:\n",
    "        if word in word2index:\n",
    "            seqs.append(word2index[word])\n",
    "        else:\n",
    "            seqs.append(word2index[\"UNK\"])\n",
    "    X[i] = seqs\n",
    "    y[i] = int(label)\n",
    "    i += 1\n",
    "ftrain.close()\n"
   ]
  },
  {
   "cell_type": "code",
   "execution_count": 38,
   "metadata": {},
   "outputs": [
    {
     "data": {
      "text/plain": [
       "(7086,)"
      ]
     },
     "execution_count": 38,
     "metadata": {},
     "output_type": "execute_result"
    }
   ],
   "source": [
    "X.shape"
   ]
  },
  {
   "cell_type": "code",
   "execution_count": 39,
   "metadata": {},
   "outputs": [],
   "source": [
    "X = sequence.pad_sequences(X, maxlen=MAX_SENTENCE_LENGTH)"
   ]
  },
  {
   "cell_type": "code",
   "execution_count": 40,
   "metadata": {},
   "outputs": [
    {
     "data": {
      "text/plain": [
       "array([  0,   0,   0,   0,   0,   0,   0,   0,   0,   0,   0,   0,   0,\n",
       "         0,   0,   2,  59,  10,   9, 387], dtype=int32)"
      ]
     },
     "execution_count": 40,
     "metadata": {},
     "output_type": "execute_result"
    }
   ],
   "source": [
    "X[15]"
   ]
  },
  {
   "cell_type": "code",
   "execution_count": 41,
   "metadata": {},
   "outputs": [
    {
     "data": {
      "text/plain": [
       "(7086, 20)"
      ]
     },
     "execution_count": 41,
     "metadata": {},
     "output_type": "execute_result"
    }
   ],
   "source": [
    "X.shape"
   ]
  },
  {
   "cell_type": "code",
   "execution_count": 42,
   "metadata": {},
   "outputs": [],
   "source": [
    "Xtrain, Xtest, ytrain, ytest = train_test_split(X, y, test_size=0.2, random_state=42)"
   ]
  },
  {
   "cell_type": "code",
   "execution_count": 43,
   "metadata": {},
   "outputs": [
    {
     "name": "stdout",
     "output_type": "stream",
     "text": [
      "WARNING:tensorflow:From /usr/local/lib/python3.6/dist-packages/keras/backend/tensorflow_backend.py:3368: calling dropout (from tensorflow.python.ops.nn_ops) with keep_prob is deprecated and will be removed in a future version.\n",
      "Instructions for updating:\n",
      "Please use `rate` instead of `keep_prob`. Rate should be set to `rate = 1 - keep_prob`.\n",
      "_________________________________________________________________\n",
      "Layer (type)                 Output Shape              Param #   \n",
      "=================================================================\n",
      "embedding_1 (Embedding)      (None, 20, 128)           256256    \n",
      "_________________________________________________________________\n",
      "dropout_1 (Dropout)          (None, 20, 128)           0         \n",
      "_________________________________________________________________\n",
      "lstm_1 (LSTM)                (None, 64)                49408     \n",
      "_________________________________________________________________\n",
      "dense_2 (Dense)              (None, 1)                 65        \n",
      "_________________________________________________________________\n",
      "activation_2 (Activation)    (None, 1)                 0         \n",
      "=================================================================\n",
      "Total params: 305,729\n",
      "Trainable params: 305,729\n",
      "Non-trainable params: 0\n",
      "_________________________________________________________________\n"
     ]
    }
   ],
   "source": [
    "EMBEDDING_SIZE = 128\n",
    "HIDDEN_LAYER_SIZE = 64\n",
    "BATCH_SIZE = 32\n",
    "NUM_EPOCHS = 10\n",
    "\n",
    "model = Sequential()\n",
    "model.add(Embedding(vocab_size, EMBEDDING_SIZE,input_length=MAX_SENTENCE_LENGTH))\n",
    "model.add(Dropout(0.2))\n",
    "model.add(LSTM(HIDDEN_LAYER_SIZE, dropout=0.2, recurrent_dropout=0.2))\n",
    "model.add(Dense(1))\n",
    "model.add(Activation(\"sigmoid\"))\n",
    "model.compile(loss=\"binary_crossentropy\", optimizer=\"adam\",metrics=[\"accuracy\"])\n",
    "model.summary()"
   ]
  },
  {
   "cell_type": "code",
   "execution_count": 44,
   "metadata": {},
   "outputs": [
    {
     "name": "stdout",
     "output_type": "stream",
     "text": [
      "Train on 5668 samples, validate on 1418 samples\n",
      "Epoch 1/10\n",
      "5668/5668 [==============================] - 5s 866us/step - loss: 0.2242 - acc: 0.9001 - val_loss: 0.0695 - val_acc: 0.9753\n",
      "Epoch 2/10\n",
      "5668/5668 [==============================] - 4s 660us/step - loss: 0.0246 - acc: 0.9929 - val_loss: 0.0515 - val_acc: 0.9824\n",
      "Epoch 3/10\n",
      "5668/5668 [==============================] - 4s 677us/step - loss: 0.0066 - acc: 0.9977 - val_loss: 0.0757 - val_acc: 0.9824\n",
      "Epoch 4/10\n",
      "5668/5668 [==============================] - 4s 672us/step - loss: 0.0049 - acc: 0.9993 - val_loss: 0.0659 - val_acc: 0.9824\n",
      "Epoch 5/10\n",
      "5668/5668 [==============================] - 4s 662us/step - loss: 0.0018 - acc: 0.9998 - val_loss: 0.0961 - val_acc: 0.9817\n",
      "Epoch 6/10\n",
      "5668/5668 [==============================] - 4s 672us/step - loss: 0.0018 - acc: 0.9996 - val_loss: 0.1035 - val_acc: 0.9817\n",
      "Epoch 7/10\n",
      "5668/5668 [==============================] - 4s 674us/step - loss: 0.0047 - acc: 0.9989 - val_loss: 0.0812 - val_acc: 0.9817\n",
      "Epoch 8/10\n",
      "5668/5668 [==============================] - 4s 676us/step - loss: 0.0088 - acc: 0.9984 - val_loss: 0.1165 - val_acc: 0.9803\n",
      "Epoch 9/10\n",
      "5668/5668 [==============================] - 4s 686us/step - loss: 0.0021 - acc: 0.9996 - val_loss: 0.0747 - val_acc: 0.9838\n",
      "Epoch 10/10\n",
      "5668/5668 [==============================] - 4s 673us/step - loss: 0.0012 - acc: 0.9996 - val_loss: 0.0690 - val_acc: 0.9831\n"
     ]
    }
   ],
   "source": [
    "history = model.fit(Xtrain, ytrain, batch_size=BATCH_SIZE, epochs=NUM_EPOCHS,validation_data=(Xtest, ytest))"
   ]
  },
  {
   "cell_type": "code",
   "execution_count": 45,
   "metadata": {},
   "outputs": [
    {
     "name": "stdout",
     "output_type": "stream",
     "text": [
      "1418/1418 [==============================] - 0s 124us/step\n",
      "Test score: 0.069, accuracy: 0.983\n"
     ]
    }
   ],
   "source": [
    "score, acc = model.evaluate(Xtest, ytest, batch_size=BATCH_SIZE)\n",
    "print(\"Test score: %.3f, accuracy: %.3f\" % (score, acc))"
   ]
  },
  {
   "cell_type": "code",
   "execution_count": 46,
   "metadata": {},
   "outputs": [
    {
     "data": {
      "image/png": "[encoded data removed]",
      "text/plain": [
       "<Figure size 432x288 with 2 Axes>"
      ]
     },
     "metadata": {},
     "output_type": "display_data"
    }
   ],
   "source": [
    "plt.subplot(211)\n",
    "plt.title(\"Accuracy\")\n",
    "plt.plot(history.history[\"acc\"], color=\"g\", label=\"Train\")\n",
    "plt.plot(history.history[\"val_acc\"], color=\"b\", label=\"Validation\")\n",
    "plt.legend(loc=\"best\")\n",
    "plt.subplot(212)\n",
    "plt.title(\"Loss\")\n",
    "plt.plot(history.history[\"loss\"], color=\"g\", label=\"Train\")\n",
    "plt.plot(history.history[\"val_loss\"], color=\"b\", label=\"Validation\")\n",
    "plt.legend(loc=\"best\")\n",
    "plt.tight_layout()\n",
    "plt.show()"
   ]
  },
  {
   "cell_type": "code",
   "execution_count": 53,
   "metadata": {
    "scrolled": true
   },
   "outputs": [
    {
     "name": "stdout",
     "output_type": "stream",
     "text": [
      "Predicted\tActual\t\tsentence\n",
      "1\t\t1\t\tbrokeback mountain was an awesome movie .\n",
      "Predicted\tActual\t\tsentence\n",
      "1\t\t1\t\twhy i said silent hill turned into reality coz i was hella like goin mission impossible down that bitch .\n",
      "Predicted\tActual\t\tsentence\n",
      "1\t\t1\t\tdudeee i loved brokeback mountain ! ! ! !\n",
      "Predicted\tActual\t\tsentence\n",
      "1\t\t1\t\ti love being a sentry for mission impossible and a station for bonkers .\n",
      "Predicted\tActual\t\tsentence\n",
      "0\t\t0\t\ti heard da vinci code sucked soo much only 2.5 stars :\n"
     ]
    }
   ],
   "source": [
    "for i in range(5):\n",
    "    idx = np.random.randint(len(Xtest))\n",
    "    xtest = Xtest[idx].reshape(1,20)\n",
    "    ylabel = ytest[idx]\n",
    "    ypred = model.predict(xtest)[0][0]\n",
    "    sent = \" \".join([index2word[x] for x in xtest[0].tolist() if x != 0])\n",
    "    print(\"Predicted\\tActual\\t\\tsentence\")\n",
    "    print(\"%.0f\\t\\t%d\\t\\t%s\" % (ypred, ylabel, sent))"
   ]
  },
  {
   "cell_type": "code",
   "execution_count": null,
   "metadata": {},
   "outputs": [],
   "source": []
  }
 ],
 "metadata": {
  "kernelspec": {
   "display_name": "Python 3",
   "language": "python",
   "name": "python3"
  },
  "language_info": {
   "codemirror_mode": {
    "name": "ipython",
    "version": 3
   },
   "file_extension": ".py",
   "mimetype": "text/x-python",
   "name": "python",
   "nbconvert_exporter": "python",
   "pygments_lexer": "ipython3",
   "version": "3.6.8"
  },
  "toc": {
   "base_numbering": 1,
   "nav_menu": {},
   "number_sections": true,
   "sideBar": true,
   "skip_h1_title": false,
   "title_cell": "Table of Contents",
   "title_sidebar": "Contents",
   "toc_cell": false,
   "toc_position": {
    "height": "calc(100% - 180px)",
    "left": "10px",
    "top": "150px",
    "width": "211.768px"
   },
   "toc_section_display": true,
   "toc_window_display": false
  },
  "varInspector": {
   "cols": {
    "lenName": 16,
    "lenType": 16,
    "lenVar": 40
   },
   "kernels_config": {
    "python": {
     "delete_cmd_postfix": "",
     "delete_cmd_prefix": "del ",
     "library": "var_list.py",
     "varRefreshCmd": "print(var_dic_list())"
    },
    "r": {
     "delete_cmd_postfix": ") ",
     "delete_cmd_prefix": "rm(",
     "library": "var_list.r",
     "varRefreshCmd": "cat(var_dic_list()) "
    }
   },
   "types_to_exclude": [
    "module",
    "function",
    "builtin_function_or_method",
    "instance",
    "_Feature"
   ],
   "window_display": false
  }
 },
 "nbformat": 4,
 "nbformat_minor": 2
}
