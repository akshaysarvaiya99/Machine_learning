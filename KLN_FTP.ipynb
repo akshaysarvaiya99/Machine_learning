{
 "cells": [
  {
   "cell_type": "markdown",
   "id": "induced-objective",
   "metadata": {},
   "source": [
    "### reference"
   ]
  },
  {
   "cell_type": "markdown",
   "id": "european-thousand",
   "metadata": {},
   "source": [
    "Cheatsheet :- http://bit.ly/AIcheatsheet\n",
    "\n",
    "Books :- http://bit.ly/AI_material\n",
    "\n",
    "Videos :- http://bit.ly/AI_videos\n",
    "\n",
    "GitHub :- http://bit.ly/AI_repos\n",
    "\n",
    "Notebook :- https://bit.ly/3aKzQww\n",
    "\n",
    "PPT :- https://1drv.ms/p/s!ArLkuKvmnNQcjEDo6gmjlidufaek?e=MPGGDQ"
   ]
  },
  {
   "cell_type": "markdown",
   "id": "domestic-budget",
   "metadata": {},
   "source": [
    "### contact links"
   ]
  },
  {
   "cell_type": "markdown",
   "id": "conceptual-gibraltar",
   "metadata": {},
   "source": [
    "https://www.linkedin.com/in/sharmasaravanan/\n",
    "    \n",
    "https://www.sharmasaravanan.com/\n",
    "\n",
    "https://besoins.in"
   ]
  },
  {
   "cell_type": "code",
   "execution_count": null,
   "id": "mounted-hopkins",
   "metadata": {},
   "outputs": [],
   "source": []
  },
  {
   "cell_type": "markdown",
   "id": "another-fantasy",
   "metadata": {},
   "source": [
    "### Stock Open Price Predictions"
   ]
  },
  {
   "cell_type": "code",
   "execution_count": 3,
   "id": "victorian-census",
   "metadata": {},
   "outputs": [],
   "source": [
    "# importing all libs\n",
    "import re\n",
    "from collections import Counter\n",
    "from itertools import chain\n",
    "\n",
    "import numpy as np\n",
    "import pandas as pd\n",
    "\n",
    "from nltk.corpus import stopwords\n",
    "\n",
    "from sklearn.metrics import mean_squared_error as mse\n",
    "\n",
    "from sklearn.model_selection import train_test_split\n",
    "\n",
    "from sklearn.linear_model import LinearRegression,HuberRegressor\n",
    "from sklearn.svm import SVR\n",
    "from sklearn.ensemble import RandomForestRegressor\n",
    "from sklearn.neighbors import KNeighborsRegressor\n",
    "from sklearn.ensemble import AdaBoostRegressor, GradientBoostingRegressor\n"
   ]
  },
  {
   "cell_type": "code",
   "execution_count": null,
   "id": "continued-fiber",
   "metadata": {},
   "outputs": [],
   "source": [
    "# regression technique\n",
    "\n",
    "y = mx + c\n",
    "\n",
    "y = m1x1+m2x2+....+c\n",
    "\n"
   ]
  },
  {
   "cell_type": "code",
   "execution_count": 6,
   "id": "located-seating",
   "metadata": {},
   "outputs": [],
   "source": [
    "stop = stopwords.words('english')"
   ]
  },
  {
   "cell_type": "code",
   "execution_count": 7,
   "id": "surgical-culture",
   "metadata": {},
   "outputs": [],
   "source": [
    "appleDataset = pd.read_csv(\"/Users/sharma/April_2021/satya/jay_friend/final/AppleNewsStock.csv\")"
   ]
  },
  {
   "cell_type": "code",
   "execution_count": 8,
   "id": "spiritual-carry",
   "metadata": {},
   "outputs": [
    {
     "data": {
      "text/html": [
       "<div>\n",
       "<style scoped>\n",
       "    .dataframe tbody tr th:only-of-type {\n",
       "        vertical-align: middle;\n",
       "    }\n",
       "\n",
       "    .dataframe tbody tr th {\n",
       "        vertical-align: top;\n",
       "    }\n",
       "\n",
       "    .dataframe thead th {\n",
       "        text-align: right;\n",
       "    }\n",
       "</style>\n",
       "<table border=\"1\" class=\"dataframe\">\n",
       "  <thead>\n",
       "    <tr style=\"text-align: right;\">\n",
       "      <th></th>\n",
       "      <th>Date</th>\n",
       "      <th>Open</th>\n",
       "      <th>High</th>\n",
       "      <th>Low</th>\n",
       "      <th>Close</th>\n",
       "      <th>Adj Close</th>\n",
       "      <th>Volume</th>\n",
       "      <th>News</th>\n",
       "    </tr>\n",
       "  </thead>\n",
       "  <tbody>\n",
       "    <tr>\n",
       "      <th>0</th>\n",
       "      <td>2006-12-01</td>\n",
       "      <td>13.114285</td>\n",
       "      <td>13.190000</td>\n",
       "      <td>12.871428</td>\n",
       "      <td>91.320000</td>\n",
       "      <td>13.045714</td>\n",
       "      <td>198769900</td>\n",
       "      <td>WHAT'S ON TONIGHT : 8 P.M. (TLC) ASHLEY JUDD A...</td>\n",
       "    </tr>\n",
       "    <tr>\n",
       "      <th>1</th>\n",
       "      <td>2006-12-04</td>\n",
       "      <td>13.125714</td>\n",
       "      <td>13.150000</td>\n",
       "      <td>12.928572</td>\n",
       "      <td>91.120003</td>\n",
       "      <td>13.017143</td>\n",
       "      <td>177384200</td>\n",
       "      <td>More on Housing Prices : The broadest governme...</td>\n",
       "    </tr>\n",
       "    <tr>\n",
       "      <th>2</th>\n",
       "      <td>2006-12-05</td>\n",
       "      <td>13.092857</td>\n",
       "      <td>13.190000</td>\n",
       "      <td>12.981428</td>\n",
       "      <td>91.269997</td>\n",
       "      <td>13.038571</td>\n",
       "      <td>165709600</td>\n",
       "      <td>NaN</td>\n",
       "    </tr>\n",
       "    <tr>\n",
       "      <th>3</th>\n",
       "      <td>2006-12-06</td>\n",
       "      <td>12.948571</td>\n",
       "      <td>13.055715</td>\n",
       "      <td>12.810000</td>\n",
       "      <td>89.830002</td>\n",
       "      <td>12.832857</td>\n",
       "      <td>159546100</td>\n",
       "      <td>Honoring R.W. Apple in Words and Food : About ...</td>\n",
       "    </tr>\n",
       "    <tr>\n",
       "      <th>4</th>\n",
       "      <td>2006-12-07</td>\n",
       "      <td>12.861428</td>\n",
       "      <td>12.928572</td>\n",
       "      <td>12.414286</td>\n",
       "      <td>87.040001</td>\n",
       "      <td>12.434286</td>\n",
       "      <td>251206900</td>\n",
       "      <td>Homebuilders, and Worries Over Jobs, Lead a De...</td>\n",
       "    </tr>\n",
       "  </tbody>\n",
       "</table>\n",
       "</div>"
      ],
      "text/plain": [
       "         Date       Open       High        Low      Close  Adj Close  \\\n",
       "0  2006-12-01  13.114285  13.190000  12.871428  91.320000  13.045714   \n",
       "1  2006-12-04  13.125714  13.150000  12.928572  91.120003  13.017143   \n",
       "2  2006-12-05  13.092857  13.190000  12.981428  91.269997  13.038571   \n",
       "3  2006-12-06  12.948571  13.055715  12.810000  89.830002  12.832857   \n",
       "4  2006-12-07  12.861428  12.928572  12.414286  87.040001  12.434286   \n",
       "\n",
       "      Volume                                               News  \n",
       "0  198769900  WHAT'S ON TONIGHT : 8 P.M. (TLC) ASHLEY JUDD A...  \n",
       "1  177384200  More on Housing Prices : The broadest governme...  \n",
       "2  165709600                                                NaN  \n",
       "3  159546100  Honoring R.W. Apple in Words and Food : About ...  \n",
       "4  251206900  Homebuilders, and Worries Over Jobs, Lead a De...  "
      ]
     },
     "execution_count": 8,
     "metadata": {},
     "output_type": "execute_result"
    }
   ],
   "source": [
    "appleDataset.head()"
   ]
  },
  {
   "cell_type": "code",
   "execution_count": 9,
   "id": "educational-motor",
   "metadata": {},
   "outputs": [
    {
     "data": {
      "text/html": [
       "<div>\n",
       "<style scoped>\n",
       "    .dataframe tbody tr th:only-of-type {\n",
       "        vertical-align: middle;\n",
       "    }\n",
       "\n",
       "    .dataframe tbody tr th {\n",
       "        vertical-align: top;\n",
       "    }\n",
       "\n",
       "    .dataframe thead th {\n",
       "        text-align: right;\n",
       "    }\n",
       "</style>\n",
       "<table border=\"1\" class=\"dataframe\">\n",
       "  <thead>\n",
       "    <tr style=\"text-align: right;\">\n",
       "      <th></th>\n",
       "      <th>Open</th>\n",
       "      <th>High</th>\n",
       "      <th>Low</th>\n",
       "      <th>Close</th>\n",
       "      <th>Adj Close</th>\n",
       "      <th>Volume</th>\n",
       "    </tr>\n",
       "  </thead>\n",
       "  <tbody>\n",
       "    <tr>\n",
       "      <th>count</th>\n",
       "      <td>2517.000000</td>\n",
       "      <td>2517.000000</td>\n",
       "      <td>2517.000000</td>\n",
       "      <td>2517.000000</td>\n",
       "      <td>2517.000000</td>\n",
       "      <td>2.517000e+03</td>\n",
       "    </tr>\n",
       "    <tr>\n",
       "      <th>mean</th>\n",
       "      <td>60.719774</td>\n",
       "      <td>61.302098</td>\n",
       "      <td>60.065740</td>\n",
       "      <td>260.556404</td>\n",
       "      <td>60.695236</td>\n",
       "      <td>1.345639e+08</td>\n",
       "    </tr>\n",
       "    <tr>\n",
       "      <th>std</th>\n",
       "      <td>36.218609</td>\n",
       "      <td>36.482248</td>\n",
       "      <td>35.930683</td>\n",
       "      <td>175.576176</td>\n",
       "      <td>36.204898</td>\n",
       "      <td>9.904975e+07</td>\n",
       "    </tr>\n",
       "    <tr>\n",
       "      <th>min</th>\n",
       "      <td>11.164286</td>\n",
       "      <td>11.607142</td>\n",
       "      <td>10.967143</td>\n",
       "      <td>78.199997</td>\n",
       "      <td>11.171429</td>\n",
       "      <td>1.147590e+07</td>\n",
       "    </tr>\n",
       "    <tr>\n",
       "      <th>25%</th>\n",
       "      <td>25.577143</td>\n",
       "      <td>25.857143</td>\n",
       "      <td>25.049999</td>\n",
       "      <td>112.879997</td>\n",
       "      <td>25.540001</td>\n",
       "      <td>6.363350e+07</td>\n",
       "    </tr>\n",
       "    <tr>\n",
       "      <th>50%</th>\n",
       "      <td>57.142857</td>\n",
       "      <td>57.655716</td>\n",
       "      <td>56.480000</td>\n",
       "      <td>179.300003</td>\n",
       "      <td>57.104286</td>\n",
       "      <td>1.077881e+08</td>\n",
       "    </tr>\n",
       "    <tr>\n",
       "      <th>75%</th>\n",
       "      <td>93.790001</td>\n",
       "      <td>94.639999</td>\n",
       "      <td>92.680000</td>\n",
       "      <td>400.289978</td>\n",
       "      <td>93.699997</td>\n",
       "      <td>1.774899e+08</td>\n",
       "    </tr>\n",
       "    <tr>\n",
       "      <th>max</th>\n",
       "      <td>134.460007</td>\n",
       "      <td>134.539993</td>\n",
       "      <td>131.399994</td>\n",
       "      <td>702.100037</td>\n",
       "      <td>133.000000</td>\n",
       "      <td>8.432424e+08</td>\n",
       "    </tr>\n",
       "  </tbody>\n",
       "</table>\n",
       "</div>"
      ],
      "text/plain": [
       "              Open         High          Low        Close    Adj Close  \\\n",
       "count  2517.000000  2517.000000  2517.000000  2517.000000  2517.000000   \n",
       "mean     60.719774    61.302098    60.065740   260.556404    60.695236   \n",
       "std      36.218609    36.482248    35.930683   175.576176    36.204898   \n",
       "min      11.164286    11.607142    10.967143    78.199997    11.171429   \n",
       "25%      25.577143    25.857143    25.049999   112.879997    25.540001   \n",
       "50%      57.142857    57.655716    56.480000   179.300003    57.104286   \n",
       "75%      93.790001    94.639999    92.680000   400.289978    93.699997   \n",
       "max     134.460007   134.539993   131.399994   702.100037   133.000000   \n",
       "\n",
       "             Volume  \n",
       "count  2.517000e+03  \n",
       "mean   1.345639e+08  \n",
       "std    9.904975e+07  \n",
       "min    1.147590e+07  \n",
       "25%    6.363350e+07  \n",
       "50%    1.077881e+08  \n",
       "75%    1.774899e+08  \n",
       "max    8.432424e+08  "
      ]
     },
     "execution_count": 9,
     "metadata": {},
     "output_type": "execute_result"
    }
   ],
   "source": [
    "appleDataset.describe()"
   ]
  },
  {
   "cell_type": "code",
   "execution_count": 10,
   "id": "curious-audience",
   "metadata": {},
   "outputs": [
    {
     "data": {
      "text/plain": [
       "(2517, 8)"
      ]
     },
     "execution_count": 10,
     "metadata": {},
     "output_type": "execute_result"
    }
   ],
   "source": [
    "appleDataset.shape"
   ]
  },
  {
   "cell_type": "code",
   "execution_count": 11,
   "id": "mature-batman",
   "metadata": {},
   "outputs": [],
   "source": [
    "# separating dataset into two sets as stock data and news data\n",
    "stockData = appleDataset.loc[:, \"Date\":\"Volume\"]\n",
    "newsData = appleDataset[['Date', \"News\"]]"
   ]
  },
  {
   "cell_type": "code",
   "execution_count": 12,
   "id": "faced-memory",
   "metadata": {},
   "outputs": [
    {
     "data": {
      "text/html": [
       "<div>\n",
       "<style scoped>\n",
       "    .dataframe tbody tr th:only-of-type {\n",
       "        vertical-align: middle;\n",
       "    }\n",
       "\n",
       "    .dataframe tbody tr th {\n",
       "        vertical-align: top;\n",
       "    }\n",
       "\n",
       "    .dataframe thead th {\n",
       "        text-align: right;\n",
       "    }\n",
       "</style>\n",
       "<table border=\"1\" class=\"dataframe\">\n",
       "  <thead>\n",
       "    <tr style=\"text-align: right;\">\n",
       "      <th></th>\n",
       "      <th>Date</th>\n",
       "      <th>Open</th>\n",
       "      <th>High</th>\n",
       "      <th>Low</th>\n",
       "      <th>Close</th>\n",
       "      <th>Adj Close</th>\n",
       "      <th>Volume</th>\n",
       "    </tr>\n",
       "  </thead>\n",
       "  <tbody>\n",
       "    <tr>\n",
       "      <th>0</th>\n",
       "      <td>2006-12-01</td>\n",
       "      <td>13.114285</td>\n",
       "      <td>13.190000</td>\n",
       "      <td>12.871428</td>\n",
       "      <td>91.320000</td>\n",
       "      <td>13.045714</td>\n",
       "      <td>198769900</td>\n",
       "    </tr>\n",
       "    <tr>\n",
       "      <th>1</th>\n",
       "      <td>2006-12-04</td>\n",
       "      <td>13.125714</td>\n",
       "      <td>13.150000</td>\n",
       "      <td>12.928572</td>\n",
       "      <td>91.120003</td>\n",
       "      <td>13.017143</td>\n",
       "      <td>177384200</td>\n",
       "    </tr>\n",
       "    <tr>\n",
       "      <th>2</th>\n",
       "      <td>2006-12-05</td>\n",
       "      <td>13.092857</td>\n",
       "      <td>13.190000</td>\n",
       "      <td>12.981428</td>\n",
       "      <td>91.269997</td>\n",
       "      <td>13.038571</td>\n",
       "      <td>165709600</td>\n",
       "    </tr>\n",
       "    <tr>\n",
       "      <th>3</th>\n",
       "      <td>2006-12-06</td>\n",
       "      <td>12.948571</td>\n",
       "      <td>13.055715</td>\n",
       "      <td>12.810000</td>\n",
       "      <td>89.830002</td>\n",
       "      <td>12.832857</td>\n",
       "      <td>159546100</td>\n",
       "    </tr>\n",
       "    <tr>\n",
       "      <th>4</th>\n",
       "      <td>2006-12-07</td>\n",
       "      <td>12.861428</td>\n",
       "      <td>12.928572</td>\n",
       "      <td>12.414286</td>\n",
       "      <td>87.040001</td>\n",
       "      <td>12.434286</td>\n",
       "      <td>251206900</td>\n",
       "    </tr>\n",
       "  </tbody>\n",
       "</table>\n",
       "</div>"
      ],
      "text/plain": [
       "         Date       Open       High        Low      Close  Adj Close  \\\n",
       "0  2006-12-01  13.114285  13.190000  12.871428  91.320000  13.045714   \n",
       "1  2006-12-04  13.125714  13.150000  12.928572  91.120003  13.017143   \n",
       "2  2006-12-05  13.092857  13.190000  12.981428  91.269997  13.038571   \n",
       "3  2006-12-06  12.948571  13.055715  12.810000  89.830002  12.832857   \n",
       "4  2006-12-07  12.861428  12.928572  12.414286  87.040001  12.434286   \n",
       "\n",
       "      Volume  \n",
       "0  198769900  \n",
       "1  177384200  \n",
       "2  165709600  \n",
       "3  159546100  \n",
       "4  251206900  "
      ]
     },
     "execution_count": 12,
     "metadata": {},
     "output_type": "execute_result"
    }
   ],
   "source": [
    "stockData.head()"
   ]
  },
  {
   "cell_type": "code",
   "execution_count": 13,
   "id": "national-warehouse",
   "metadata": {},
   "outputs": [
    {
     "data": {
      "text/html": [
       "<div>\n",
       "<style scoped>\n",
       "    .dataframe tbody tr th:only-of-type {\n",
       "        vertical-align: middle;\n",
       "    }\n",
       "\n",
       "    .dataframe tbody tr th {\n",
       "        vertical-align: top;\n",
       "    }\n",
       "\n",
       "    .dataframe thead th {\n",
       "        text-align: right;\n",
       "    }\n",
       "</style>\n",
       "<table border=\"1\" class=\"dataframe\">\n",
       "  <thead>\n",
       "    <tr style=\"text-align: right;\">\n",
       "      <th></th>\n",
       "      <th>Date</th>\n",
       "      <th>News</th>\n",
       "    </tr>\n",
       "  </thead>\n",
       "  <tbody>\n",
       "    <tr>\n",
       "      <th>0</th>\n",
       "      <td>2006-12-01</td>\n",
       "      <td>WHAT'S ON TONIGHT : 8 P.M. (TLC) ASHLEY JUDD A...</td>\n",
       "    </tr>\n",
       "    <tr>\n",
       "      <th>1</th>\n",
       "      <td>2006-12-04</td>\n",
       "      <td>More on Housing Prices : The broadest governme...</td>\n",
       "    </tr>\n",
       "    <tr>\n",
       "      <th>2</th>\n",
       "      <td>2006-12-05</td>\n",
       "      <td>NaN</td>\n",
       "    </tr>\n",
       "    <tr>\n",
       "      <th>3</th>\n",
       "      <td>2006-12-06</td>\n",
       "      <td>Honoring R.W. Apple in Words and Food : About ...</td>\n",
       "    </tr>\n",
       "    <tr>\n",
       "      <th>4</th>\n",
       "      <td>2006-12-07</td>\n",
       "      <td>Homebuilders, and Worries Over Jobs, Lead a De...</td>\n",
       "    </tr>\n",
       "  </tbody>\n",
       "</table>\n",
       "</div>"
      ],
      "text/plain": [
       "         Date                                               News\n",
       "0  2006-12-01  WHAT'S ON TONIGHT : 8 P.M. (TLC) ASHLEY JUDD A...\n",
       "1  2006-12-04  More on Housing Prices : The broadest governme...\n",
       "2  2006-12-05                                                NaN\n",
       "3  2006-12-06  Honoring R.W. Apple in Words and Food : About ...\n",
       "4  2006-12-07  Homebuilders, and Worries Over Jobs, Lead a De..."
      ]
     },
     "execution_count": 13,
     "metadata": {},
     "output_type": "execute_result"
    }
   ],
   "source": [
    "newsData.head()"
   ]
  },
  {
   "cell_type": "code",
   "execution_count": 14,
   "id": "sharp-activity",
   "metadata": {},
   "outputs": [
    {
     "name": "stdout",
     "output_type": "stream",
     "text": [
      "Stock data result : \n",
      "Date         False\n",
      "Open         False\n",
      "High         False\n",
      "Low          False\n",
      "Close        False\n",
      "Adj Close    False\n",
      "Volume       False\n",
      "dtype: bool\n",
      "News data result : \n",
      "Date    False\n",
      "News     True\n",
      "dtype: bool\n"
     ]
    }
   ],
   "source": [
    "# checking for any value\n",
    "print(\"Stock data result : \", stockData.isnull().any(), sep=\"\\n\")\n",
    "print(\"News data result : \", newsData.isnull().any(), sep=\"\\n\")"
   ]
  },
  {
   "cell_type": "code",
   "execution_count": 15,
   "id": "steady-companion",
   "metadata": {},
   "outputs": [
    {
     "name": "stderr",
     "output_type": "stream",
     "text": [
      "/Library/Frameworks/Python.framework/Versions/3.6/lib/python3.6/site-packages/pandas/core/frame.py:4327: SettingWithCopyWarning: \n",
      "A value is trying to be set on a copy of a slice from a DataFrame\n",
      "\n",
      "See the caveats in the documentation: https://pandas.pydata.org/pandas-docs/stable/user_guide/indexing.html#returning-a-view-versus-a-copy\n",
      "  downcast=downcast,\n"
     ]
    }
   ],
   "source": [
    "# filling the null values in news data\n",
    "newsData.fillna(method='ffill', inplace=True)"
   ]
  },
  {
   "cell_type": "code",
   "execution_count": 16,
   "id": "necessary-bobby",
   "metadata": {},
   "outputs": [
    {
     "data": {
      "text/html": [
       "<div>\n",
       "<style scoped>\n",
       "    .dataframe tbody tr th:only-of-type {\n",
       "        vertical-align: middle;\n",
       "    }\n",
       "\n",
       "    .dataframe tbody tr th {\n",
       "        vertical-align: top;\n",
       "    }\n",
       "\n",
       "    .dataframe thead th {\n",
       "        text-align: right;\n",
       "    }\n",
       "</style>\n",
       "<table border=\"1\" class=\"dataframe\">\n",
       "  <thead>\n",
       "    <tr style=\"text-align: right;\">\n",
       "      <th></th>\n",
       "      <th>Date</th>\n",
       "      <th>News</th>\n",
       "    </tr>\n",
       "  </thead>\n",
       "  <tbody>\n",
       "    <tr>\n",
       "      <th>0</th>\n",
       "      <td>2006-12-01</td>\n",
       "      <td>WHAT'S ON TONIGHT : 8 P.M. (TLC) ASHLEY JUDD A...</td>\n",
       "    </tr>\n",
       "    <tr>\n",
       "      <th>1</th>\n",
       "      <td>2006-12-04</td>\n",
       "      <td>More on Housing Prices : The broadest governme...</td>\n",
       "    </tr>\n",
       "    <tr>\n",
       "      <th>2</th>\n",
       "      <td>2006-12-05</td>\n",
       "      <td>More on Housing Prices : The broadest governme...</td>\n",
       "    </tr>\n",
       "    <tr>\n",
       "      <th>3</th>\n",
       "      <td>2006-12-06</td>\n",
       "      <td>Honoring R.W. Apple in Words and Food : About ...</td>\n",
       "    </tr>\n",
       "    <tr>\n",
       "      <th>4</th>\n",
       "      <td>2006-12-07</td>\n",
       "      <td>Homebuilders, and Worries Over Jobs, Lead a De...</td>\n",
       "    </tr>\n",
       "  </tbody>\n",
       "</table>\n",
       "</div>"
      ],
      "text/plain": [
       "         Date                                               News\n",
       "0  2006-12-01  WHAT'S ON TONIGHT : 8 P.M. (TLC) ASHLEY JUDD A...\n",
       "1  2006-12-04  More on Housing Prices : The broadest governme...\n",
       "2  2006-12-05  More on Housing Prices : The broadest governme...\n",
       "3  2006-12-06  Honoring R.W. Apple in Words and Food : About ...\n",
       "4  2006-12-07  Homebuilders, and Worries Over Jobs, Lead a De..."
      ]
     },
     "execution_count": 16,
     "metadata": {},
     "output_type": "execute_result"
    }
   ],
   "source": [
    "newsData.head()"
   ]
  },
  {
   "cell_type": "code",
   "execution_count": 17,
   "id": "advanced-petite",
   "metadata": {},
   "outputs": [],
   "source": [
    "# considering one day value by taking the difference betweem next day\n",
    "stockData = stockData.set_index('Date').diff(periods=1)\n",
    "stockData['Date'] = stockData.index\n",
    "stockData = stockData.reset_index(drop=True)\n"
   ]
  },
  {
   "cell_type": "code",
   "execution_count": 21,
   "id": "interstate-demonstration",
   "metadata": {},
   "outputs": [
    {
     "data": {
      "text/html": [
       "<div>\n",
       "<style scoped>\n",
       "    .dataframe tbody tr th:only-of-type {\n",
       "        vertical-align: middle;\n",
       "    }\n",
       "\n",
       "    .dataframe tbody tr th {\n",
       "        vertical-align: top;\n",
       "    }\n",
       "\n",
       "    .dataframe thead th {\n",
       "        text-align: right;\n",
       "    }\n",
       "</style>\n",
       "<table border=\"1\" class=\"dataframe\">\n",
       "  <thead>\n",
       "    <tr style=\"text-align: right;\">\n",
       "      <th></th>\n",
       "      <th>Open</th>\n",
       "      <th>Date</th>\n",
       "    </tr>\n",
       "  </thead>\n",
       "  <tbody>\n",
       "    <tr>\n",
       "      <th>0</th>\n",
       "      <td>NaN</td>\n",
       "      <td>2006-12-01</td>\n",
       "    </tr>\n",
       "    <tr>\n",
       "      <th>1</th>\n",
       "      <td>0.011429</td>\n",
       "      <td>2006-12-04</td>\n",
       "    </tr>\n",
       "    <tr>\n",
       "      <th>2</th>\n",
       "      <td>-0.032857</td>\n",
       "      <td>2006-12-05</td>\n",
       "    </tr>\n",
       "    <tr>\n",
       "      <th>3</th>\n",
       "      <td>-0.144286</td>\n",
       "      <td>2006-12-06</td>\n",
       "    </tr>\n",
       "    <tr>\n",
       "      <th>4</th>\n",
       "      <td>-0.087143</td>\n",
       "      <td>2006-12-07</td>\n",
       "    </tr>\n",
       "  </tbody>\n",
       "</table>\n",
       "</div>"
      ],
      "text/plain": [
       "       Open        Date\n",
       "0       NaN  2006-12-01\n",
       "1  0.011429  2006-12-04\n",
       "2 -0.032857  2006-12-05\n",
       "3 -0.144286  2006-12-06\n",
       "4 -0.087143  2006-12-07"
      ]
     },
     "execution_count": 21,
     "metadata": {},
     "output_type": "execute_result"
    }
   ],
   "source": [
    "stockData.head()"
   ]
  },
  {
   "cell_type": "code",
   "execution_count": 19,
   "id": "seeing-breakdown",
   "metadata": {},
   "outputs": [],
   "source": [
    "# dropping unwanted columns since we need only open data\n",
    "stockData = stockData.drop(['High', 'Low', 'Close', 'Volume', 'Adj Close'], 1)\n"
   ]
  },
  {
   "cell_type": "code",
   "execution_count": 20,
   "id": "documented-width",
   "metadata": {},
   "outputs": [
    {
     "data": {
      "text/html": [
       "<div>\n",
       "<style scoped>\n",
       "    .dataframe tbody tr th:only-of-type {\n",
       "        vertical-align: middle;\n",
       "    }\n",
       "\n",
       "    .dataframe tbody tr th {\n",
       "        vertical-align: top;\n",
       "    }\n",
       "\n",
       "    .dataframe thead th {\n",
       "        text-align: right;\n",
       "    }\n",
       "</style>\n",
       "<table border=\"1\" class=\"dataframe\">\n",
       "  <thead>\n",
       "    <tr style=\"text-align: right;\">\n",
       "      <th></th>\n",
       "      <th>Open</th>\n",
       "      <th>Date</th>\n",
       "    </tr>\n",
       "  </thead>\n",
       "  <tbody>\n",
       "    <tr>\n",
       "      <th>0</th>\n",
       "      <td>NaN</td>\n",
       "      <td>2006-12-01</td>\n",
       "    </tr>\n",
       "    <tr>\n",
       "      <th>1</th>\n",
       "      <td>0.011429</td>\n",
       "      <td>2006-12-04</td>\n",
       "    </tr>\n",
       "    <tr>\n",
       "      <th>2</th>\n",
       "      <td>-0.032857</td>\n",
       "      <td>2006-12-05</td>\n",
       "    </tr>\n",
       "    <tr>\n",
       "      <th>3</th>\n",
       "      <td>-0.144286</td>\n",
       "      <td>2006-12-06</td>\n",
       "    </tr>\n",
       "    <tr>\n",
       "      <th>4</th>\n",
       "      <td>-0.087143</td>\n",
       "      <td>2006-12-07</td>\n",
       "    </tr>\n",
       "  </tbody>\n",
       "</table>\n",
       "</div>"
      ],
      "text/plain": [
       "       Open        Date\n",
       "0       NaN  2006-12-01\n",
       "1  0.011429  2006-12-04\n",
       "2 -0.032857  2006-12-05\n",
       "3 -0.144286  2006-12-06\n",
       "4 -0.087143  2006-12-07"
      ]
     },
     "execution_count": 20,
     "metadata": {},
     "output_type": "execute_result"
    }
   ],
   "source": [
    "stockData.head()"
   ]
  },
  {
   "cell_type": "code",
   "execution_count": 22,
   "id": "grave-xerox",
   "metadata": {},
   "outputs": [
    {
     "name": "stdout",
     "output_type": "stream",
     "text": [
      "\n",
      "       Open        Date\n",
      "1  0.011429  2006-12-04\n",
      "2 -0.032857  2006-12-05\n",
      "3 -0.144286  2006-12-06\n",
      "4 -0.087143  2006-12-07\n",
      "5 -0.399999  2006-12-08\n"
     ]
    }
   ],
   "source": [
    "# dropping null rows\n",
    "stockData = stockData[stockData.Open.notnull()]\n",
    "print()\n",
    "print(stockData.head())"
   ]
  },
  {
   "cell_type": "code",
   "execution_count": 23,
   "id": "proprietary-grounds",
   "metadata": {},
   "outputs": [
    {
     "name": "stdout",
     "output_type": "stream",
     "text": [
      "\n",
      "News : 2516 Opening Price : 2516\n"
     ]
    }
   ],
   "source": [
    "# creating new data where date and corresponding news along with opening price\n",
    "news = []\n",
    "openingPrice = []\n",
    "\n",
    "for row in stockData.iterrows():\n",
    "    openingPrice.append(row[1]['Open'])\n",
    "    headline = newsData[newsData['Date'] == row[1][\"Date\"]]\n",
    "    news.append(headline['News'].item())\n",
    "\n",
    "# length of the price and news\n",
    "print()\n",
    "print(\"News :\", len(news), \"Opening Price :\", len(openingPrice))"
   ]
  },
  {
   "cell_type": "code",
   "execution_count": 24,
   "id": "appreciated-merchant",
   "metadata": {},
   "outputs": [],
   "source": [
    "shortWord_Dictionary = {\n",
    "\"ain't\": \"am not\",\n",
    "\"aren't\": \"are not\",\n",
    "\"can't\": \"cannot\",\n",
    "\"can't've\": \"cannot have\",\n",
    "\"'cause\": \"because\",\n",
    "\"could've\": \"could have\",\n",
    "\"couldn't\": \"could not\",\n",
    "\"couldn't've\": \"could not have\",\n",
    "\"didn't\": \"did not\",\n",
    "\"doesn't\": \"does not\",\n",
    "\"don't\": \"do not\",\n",
    "\"hadn't\": \"had not\",\n",
    "\"hadn't've\": \"had not have\",\n",
    "\"hasn't\": \"has not\",\n",
    "\"haven't\": \"have not\",\n",
    "\"he'd\": \"he would\",\n",
    "\"he'd've\": \"he would have\",\n",
    "\"he'll\": \"he will\",\n",
    "\"he's\": \"he is\",\n",
    "\"how'd\": \"how did\",\n",
    "\"how'll\": \"how will\",\n",
    "\"how's\": \"how is\",\n",
    "\"i'd\": \"i would\",\n",
    "\"i'll\": \"i will\",\n",
    "\"i'm\": \"i am\",\n",
    "\"i've\": \"i have\",\n",
    "\"isn't\": \"is not\",\n",
    "\"it'd\": \"it would\",\n",
    "\"it'll\": \"it will\",\n",
    "\"it's\": \"it is\",\n",
    "\"let's\": \"let us\",\n",
    "\"ma'am\": \"madam\",\n",
    "\"mayn't\": \"may not\",\n",
    "\"might've\": \"might have\",\n",
    "\"mightn't\": \"might not\",\n",
    "\"must've\": \"must have\",\n",
    "\"mustn't\": \"must not\",\n",
    "\"needn't\": \"need not\",\n",
    "\"oughtn't\": \"ought not\",\n",
    "\"shan't\": \"shall not\",\n",
    "\"sha'n't\": \"shall not\",\n",
    "\"she'd\": \"she would\",\n",
    "\"she'll\": \"she will\",\n",
    "\"she's\": \"she is\",\n",
    "\"should've\": \"should have\",\n",
    "\"shouldn't\": \"should not\",\n",
    "\"that'd\": \"that would\",\n",
    "\"that's\": \"that is\",\n",
    "\"there'd\": \"there had\",\n",
    "\"there's\": \"there is\",\n",
    "\"they'd\": \"they would\",\n",
    "\"they'll\": \"they will\",\n",
    "\"they're\": \"they are\",\n",
    "\"they've\": \"they have\",\n",
    "\"wasn't\": \"was not\",\n",
    "\"we'd\": \"we would\",\n",
    "\"we'll\": \"we will\",\n",
    "\"we're\": \"we are\",\n",
    "\"we've\": \"we have\",\n",
    "\"weren't\": \"were not\",\n",
    "\"what'll\": \"what will\",\n",
    "\"what're\": \"what are\",\n",
    "\"what's\": \"what is\",\n",
    "\"what've\": \"what have\",\n",
    "\"where'd\": \"where did\",\n",
    "\"where's\": \"where is\",\n",
    "\"who'll\": \"who will\",\n",
    "\"who's\": \"who is\",\n",
    "\"won't\": \"will not\",\n",
    "\"wouldn't\": \"would not\",\n",
    "\"you'd\": \"you would\",\n",
    "\"you'll\": \"you will\",\n",
    "\"you're\": \"you are\"\n",
    "}"
   ]
  },
  {
   "cell_type": "code",
   "execution_count": 25,
   "id": "voluntary-columbus",
   "metadata": {},
   "outputs": [],
   "source": [
    "# function for cleaning the text\n",
    "def cleaning(raw):\n",
    "    # replacing shortwords in text\n",
    "    shortword_free = [shortWord_Dictionary[word] if word in shortWord_Dictionary else word for word in\n",
    "                      raw.lower().split()]\n",
    "    # removing special characters\n",
    "    only_alphanumeric = re.sub(\"[^a-zA-Z0-9]\", \" \", ' '.join(shortword_free))\n",
    "    # removing stop words from the text\n",
    "    stopword_free = [word for word in only_alphanumeric.split() if word not in stop]\n",
    "    return \" \".join(stopword_free)"
   ]
  },
  {
   "cell_type": "code",
   "execution_count": 26,
   "id": "responsible-journal",
   "metadata": {},
   "outputs": [
    {
     "data": {
      "text/plain": [
       "'More on Housing Prices : The broadest government measure of house prices is calculated by the Office of Federal Housing Enterprise Oversight, the agency that oversees Fannie Mae and Freddie Mac. The idea at the heart of the index is a good one. It tries to do the same sor...Bucking McCain the Maverick : McCain goes maverick on Iraq; Borat as cultural ambassador; Iceland as eco-villain.Foolishly, an Angel Falls in Love and Rushes In ... and Up : This new stage adaptation of the Wim Wenders movie, in a production at the American Repertory Theater in Cambridge, Mass., is alternately stimulating and unsatisfying.As Ad Costs Rise, a Move to Challenge Pay-Per-Click : On some new shopping search sites, advertisers pay only when someone actually buys something, or when users view an ad.'"
      ]
     },
     "execution_count": 26,
     "metadata": {},
     "output_type": "execute_result"
    }
   ],
   "source": [
    "news[0]"
   ]
  },
  {
   "cell_type": "code",
   "execution_count": 27,
   "id": "modern-arrow",
   "metadata": {},
   "outputs": [
    {
     "data": {
      "text/plain": [
       "'housing prices broadest government measure house prices calculated office federal housing enterprise oversight agency oversees fannie mae freddie mac idea heart index good one tries sor bucking mccain maverick mccain goes maverick iraq borat cultural ambassador iceland eco villain foolishly angel falls love rushes new stage adaptation wim wenders movie production american repertory theater cambridge mass alternately stimulating unsatisfying ad costs rise move challenge pay per click new shopping search sites advertisers pay someone actually buys something users view ad'"
      ]
     },
     "execution_count": 27,
     "metadata": {},
     "output_type": "execute_result"
    }
   ],
   "source": [
    "cleaning(news[0])"
   ]
  },
  {
   "cell_type": "code",
   "execution_count": 28,
   "id": "photographic-recall",
   "metadata": {},
   "outputs": [],
   "source": [
    "cleanedNews = list(map(cleaning, news))"
   ]
  },
  {
   "cell_type": "code",
   "execution_count": 30,
   "id": "helpful-barrel",
   "metadata": {},
   "outputs": [
    {
     "name": "stdout",
     "output_type": "stream",
     "text": [
      "\n",
      "Before normalization :- \n",
      "-15.55999700000001\n",
      "16.239998\n",
      "0.03914376510333863\n",
      "\n",
      "After normalization :- \n",
      "0.0\n",
      "1.0\n",
      "0.49053909489933395\n"
     ]
    }
   ],
   "source": [
    "# time to normalize opening price\n",
    "minCost = min(openingPrice)\n",
    "maxCost = max(openingPrice)\n",
    "misc = dict()\n",
    "misc['minCost'] = minCost\n",
    "misc['maxCost'] = maxCost\n",
    "\n",
    "def normalize(cost):\n",
    "    return (cost - minCost) / (maxCost - minCost)\n",
    "\n",
    "normalizedOpeningprice = list(map(normalize, openingPrice))\n",
    "\n",
    "print()\n",
    "print('Before normalization :- ')\n",
    "print(minCost)\n",
    "print(maxCost)\n",
    "print(np.mean(openingPrice))\n",
    "\n",
    "print()\n",
    "print('After normalization :- ')\n",
    "print(min(normalizedOpeningprice))\n",
    "print(max(normalizedOpeningprice))\n",
    "print(np.mean(normalizedOpeningprice))"
   ]
  },
  {
   "cell_type": "code",
   "execution_count": 31,
   "id": "atmospheric-colon",
   "metadata": {},
   "outputs": [],
   "source": [
    "# splitting the dataset into train and test\n",
    "x_train, x_test, y_train, y_test = train_test_split(cleanedNews, normalizedOpeningprice, test_size=0.2,\n",
    "                                                    random_state=3)"
   ]
  },
  {
   "cell_type": "code",
   "execution_count": 33,
   "id": "macro-balance",
   "metadata": {},
   "outputs": [
    {
     "data": {
      "text/plain": [
       "(2012, 504)"
      ]
     },
     "execution_count": 33,
     "metadata": {},
     "output_type": "execute_result"
    }
   ],
   "source": [
    "len(x_train),len(x_test)"
   ]
  },
  {
   "cell_type": "code",
   "execution_count": 35,
   "id": "expanded-person",
   "metadata": {},
   "outputs": [],
   "source": [
    "from sklearn.feature_extraction.text import CountVectorizer\n",
    "vect = CountVectorizer(min_df=3, ngram_range=(1,2))"
   ]
  },
  {
   "cell_type": "code",
   "execution_count": 36,
   "id": "aquatic-japan",
   "metadata": {},
   "outputs": [],
   "source": [
    "x_trainVectorised = vect.fit_transform(x_train)\n",
    "x_testVectorised = vect.transform(x_test)"
   ]
  },
  {
   "cell_type": "code",
   "execution_count": 37,
   "id": "effective-watson",
   "metadata": {},
   "outputs": [
    {
     "data": {
      "text/plain": [
       "<2012x25159 sparse matrix of type '<class 'numpy.int64'>'\n",
       "\twith 323418 stored elements in Compressed Sparse Row format>"
      ]
     },
     "execution_count": 37,
     "metadata": {},
     "output_type": "execute_result"
    }
   ],
   "source": [
    "x_trainVectorised"
   ]
  },
  {
   "cell_type": "code",
   "execution_count": 39,
   "id": "overhead-detective",
   "metadata": {},
   "outputs": [],
   "source": [
    "# defining models\n",
    "LR = LinearRegression()\n",
    "SVM = SVR()\n",
    "RF = RandomForestRegressor()\n",
    "KNN = KNeighborsRegressor()\n",
    "AB = AdaBoostRegressor()\n",
    "GB = GradientBoostingRegressor()\n",
    "huber = HuberRegressor()"
   ]
  },
  {
   "cell_type": "code",
   "execution_count": 40,
   "id": "manual-calculation",
   "metadata": {},
   "outputs": [],
   "source": [
    "# function for training and prediction\n",
    "def train_predict(model, trainX, trainY, testX, testY):\n",
    "    model.fit(trainX, trainY)\n",
    "    y_pred = model.predict(testX)\n",
    "    acc_test = np.sqrt(mse(testY, y_pred))\n",
    "    return acc_test"
   ]
  },
  {
   "cell_type": "code",
   "execution_count": 41,
   "id": "native-operator",
   "metadata": {},
   "outputs": [
    {
     "name": "stdout",
     "output_type": "stream",
     "text": [
      "The error score of Linear Regression is 0.063910\n",
      "The error score of SVM is 0.048059\n",
      "The error score of Random Forest Regressior   is 0.049845\n",
      "The error score of K-nearest neighbour is 0.047553\n",
      "The error score of adaboosting is 0.049152\n",
      "The error score of gradient boosting is 0.050172\n"
     ]
    }
   ],
   "source": [
    "LR_acc = train_predict(LR, x_trainVectorised, y_train, x_testVectorised, y_test)\n",
    "print(\"The error score of Linear Regression is %f\" % LR_acc)\n",
    "SVM_acc = train_predict(SVM, x_trainVectorised, y_train, x_testVectorised, y_test)\n",
    "print(\"The error score of SVM is %f\" % SVM_acc)\n",
    "RF_acc = train_predict(RF, x_trainVectorised, y_train, x_testVectorised, y_test)\n",
    "print(\"The error score of Random Forest Regressior   is %f\" % RF_acc)\n",
    "KNN_acc = train_predict(KNN, x_trainVectorised, y_train, x_testVectorised, y_test)\n",
    "print(\"The error score of K-nearest neighbour is %f\" % KNN_acc)\n",
    "AB_ac = train_predict(AB, x_trainVectorised, y_train, x_testVectorised, y_test)\n",
    "print(\"The error score of adaboosting is %f\" % AB_ac)\n",
    "GB_ac = train_predict(GB, x_trainVectorised, y_train, x_testVectorised, y_test)\n",
    "print(\"The error score of gradient boosting is %f\" % GB_ac)\n"
   ]
  },
  {
   "cell_type": "code",
   "execution_count": 42,
   "id": "introductory-stockholm",
   "metadata": {},
   "outputs": [
    {
     "name": "stdout",
     "output_type": "stream",
     "text": [
      "The error score of huber boosting is 0.074347\n"
     ]
    },
    {
     "name": "stderr",
     "output_type": "stream",
     "text": [
      "/Library/Frameworks/Python.framework/Versions/3.6/lib/python3.6/site-packages/sklearn/linear_model/_huber.py:296: ConvergenceWarning: lbfgs failed to converge (status=1):\n",
      "STOP: TOTAL NO. of ITERATIONS REACHED LIMIT.\n",
      "\n",
      "Increase the number of iterations (max_iter) or scale the data as shown in:\n",
      "    https://scikit-learn.org/stable/modules/preprocessing.html\n",
      "  self.n_iter_ = _check_optimize_result(\"lbfgs\", opt_res, self.max_iter)\n"
     ]
    }
   ],
   "source": [
    "huber_ac = train_predict(huber, x_trainVectorised, y_train, x_testVectorised, y_test)\n",
    "print(\"The error score of huber boosting is %f\" % huber_ac)\n"
   ]
  },
  {
   "cell_type": "code",
   "execution_count": 45,
   "id": "handmade-evanescence",
   "metadata": {},
   "outputs": [
    {
     "data": {
      "text/plain": [
       "KNeighborsRegressor()"
      ]
     },
     "execution_count": 45,
     "metadata": {},
     "output_type": "execute_result"
    }
   ],
   "source": [
    "KNN.fit(x_trainVectorised, y_train)"
   ]
  },
  {
   "cell_type": "code",
   "execution_count": 46,
   "id": "civilian-packaging",
   "metadata": {},
   "outputs": [],
   "source": [
    "testNews = \"Leaked document reveals Facebook conducted research to target emotionally vulnerable and insecure youth. Woman says note from Chinese 'prisoner' was hidden in new purse. 21,000 AT&T workers poised for Monday strike housands march against Trump climate policies in D.C., across USA  Kentucky judge won't hear gay adoptions because it's not in the child's \\\"best interest\\\"Multiple victims shot in UTC area apartment complex Drones Lead Police to Illegal Dumping in Riverside County | NBC Southern California An 86-year-old Californian woman has died trying to fight a man who was allegedly sexually assaulting her 61-year-old friend.\""
   ]
  },
  {
   "cell_type": "code",
   "execution_count": 47,
   "id": "compatible-australian",
   "metadata": {},
   "outputs": [
    {
     "data": {
      "text/plain": [
       "array([0.47554358])"
      ]
     },
     "execution_count": 47,
     "metadata": {},
     "output_type": "execute_result"
    }
   ],
   "source": [
    "KNN.predict(vect.transform([cleaning(testNews)]))"
   ]
  },
  {
   "cell_type": "code",
   "execution_count": 48,
   "id": "recorded-berry",
   "metadata": {},
   "outputs": [
    {
     "data": {
      "text/plain": [
       "-0.4377135337179041"
      ]
     },
     "execution_count": 48,
     "metadata": {},
     "output_type": "execute_result"
    }
   ],
   "source": [
    "0.47554358 * (misc[\"maxCost\"] - misc[\"minCost\"]) + misc[\"minCost\"]"
   ]
  },
  {
   "cell_type": "code",
   "execution_count": 52,
   "id": "color-graphic",
   "metadata": {},
   "outputs": [],
   "source": [
    "from flask import Flask, request, render_template\n",
    "import numpy as np\n",
    "\n",
    "app = Flask(__name__)"
   ]
  },
  {
   "cell_type": "code",
   "execution_count": 53,
   "id": "numeric-elite",
   "metadata": {},
   "outputs": [
    {
     "name": "stdout",
     "output_type": "stream",
     "text": [
      " * Serving Flask app \"__main__\" (lazy loading)\n",
      " * Environment: production\n",
      "\u001b[31m   WARNING: Do not use the development server in a production environment.\u001b[0m\n",
      "\u001b[2m   Use a production WSGI server instead.\u001b[0m\n",
      " * Debug mode: off\n"
     ]
    },
    {
     "name": "stderr",
     "output_type": "stream",
     "text": [
      " * Running on http://127.0.0.1:5000/ (Press CTRL+C to quit)\n",
      "127.0.0.1 - - [28/Apr/2021 11:13:11] \"\u001b[37mPOST / HTTP/1.1\u001b[0m\" 200 -\n",
      "127.0.0.1 - - [28/Apr/2021 11:13:12] \"\u001b[33mGET /favicon.ico HTTP/1.1\u001b[0m\" 404 -\n",
      "127.0.0.1 - - [28/Apr/2021 11:13:14] \"\u001b[37mGET / HTTP/1.1\u001b[0m\" 200 -\n",
      "127.0.0.1 - - [28/Apr/2021 11:13:16] \"\u001b[37mGET / HTTP/1.1\u001b[0m\" 200 -\n",
      "127.0.0.1 - - [28/Apr/2021 11:13:17] \"\u001b[37mGET / HTTP/1.1\u001b[0m\" 200 -\n",
      "127.0.0.1 - - [28/Apr/2021 11:13:18] \"\u001b[33mGET /favicon.ico HTTP/1.1\u001b[0m\" 404 -\n",
      "127.0.0.1 - - [28/Apr/2021 11:13:20] \"\u001b[37mPOST / HTTP/1.1\u001b[0m\" 200 -\n"
     ]
    }
   ],
   "source": [
    "@app.route(\"/\", methods=[\"POST\", \"GET\"])\n",
    "def predict():\n",
    "    if request.method == 'GET':\n",
    "        return render_template('index.html')\n",
    "    elif request.method == \"POST\":\n",
    "        news = request.form.get('news')\n",
    "        score = KNN.predict(vect.transform([cleaning(news)]))[0]\n",
    "        value = round(score * (misc[\"maxCost\"] - misc[\"minCost\"]) + misc[\"minCost\"],3)\n",
    "        kwargs = {'score': value}\n",
    "        return render_template('index.html', **kwargs)\n",
    "\n",
    "\n",
    "if __name__ == '__main__':\n",
    "    app.run()\n"
   ]
  },
  {
   "cell_type": "markdown",
   "id": "thermal-subcommittee",
   "metadata": {},
   "source": [
    "ANN/NN\n",
    "\n",
    "1. VNN / MLP -> vector \n",
    "2. CNN -> image (LeNet5, alexnet, inception v5, imagenet, Resnet, densenet)\n",
    "3. RNN -> Text, time series \n",
    "\n",
    "    3.1 LSTM -> DMN, DCN, Bi-LSTM, BiDAF\n",
    "\n",
    "    3.2 GRU\n",
    "    "
   ]
  },
  {
   "cell_type": "markdown",
   "id": "young-writing",
   "metadata": {},
   "source": [
    "load dataset\n",
    "\n",
    "split dataset \n",
    "\n",
    "define a model\n",
    "\n",
    "training\n",
    "\n",
    "validation\n",
    "\n",
    "tuning\n",
    "\n",
    "cross validation"
   ]
  },
  {
   "cell_type": "code",
   "execution_count": null,
   "id": "favorite-handle",
   "metadata": {},
   "outputs": [],
   "source": []
  }
 ],
 "metadata": {
  "kernelspec": {
   "display_name": "Python 3",
   "language": "python",
   "name": "python3"
  },
  "language_info": {
   "codemirror_mode": {
    "name": "ipython",
    "version": 3
   },
   "file_extension": ".py",
   "mimetype": "text/x-python",
   "name": "python",
   "nbconvert_exporter": "python",
   "pygments_lexer": "ipython3",
   "version": "3.6.8"
  },
  "nbTranslate": {
   "displayLangs": [
    "*"
   ],
   "hotkey": "alt-t",
   "langInMainMenu": true,
   "sourceLang": "en",
   "targetLang": "fr",
   "useGoogleTranslate": true
  },
  "toc": {
   "base_numbering": 1,
   "nav_menu": {},
   "number_sections": true,
   "sideBar": true,
   "skip_h1_title": false,
   "title_cell": "Table of Contents",
   "title_sidebar": "Contents",
   "toc_cell": false,
   "toc_position": {},
   "toc_section_display": true,
   "toc_window_display": false
  },
  "varInspector": {
   "cols": {
    "lenName": 16,
    "lenType": 16,
    "lenVar": 40
   },
   "kernels_config": {
    "python": {
     "delete_cmd_postfix": "",
     "delete_cmd_prefix": "del ",
     "library": "var_list.py",
     "varRefreshCmd": "print(var_dic_list())"
    },
    "r": {
     "delete_cmd_postfix": ") ",
     "delete_cmd_prefix": "rm(",
     "library": "var_list.r",
     "varRefreshCmd": "cat(var_dic_list()) "
    }
   },
   "types_to_exclude": [
    "module",
    "function",
    "builtin_function_or_method",
    "instance",
    "_Feature"
   ],
   "window_display": false
  }
 },
 "nbformat": 4,
 "nbformat_minor": 5
}
