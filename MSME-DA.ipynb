{
 "cells": [
  {
   "cell_type": "code",
   "execution_count": 4,
   "metadata": {},
   "outputs": [
    {
     "name": "stdout",
     "output_type": "stream",
     "text": [
      "15\n"
     ]
    }
   ],
   "source": [
    "a = 5\n",
    "b = 10\n",
    "print(a+b)\n"
   ]
  },
  {
   "cell_type": "code",
   "execution_count": 7,
   "metadata": {},
   "outputs": [],
   "source": [
    "num = 10\n",
    "pi = 3.14\n",
    "name = \"apple\"\n",
    "p = True "
   ]
  },
  {
   "cell_type": "code",
   "execution_count": 8,
   "metadata": {},
   "outputs": [
    {
     "name": "stdout",
     "output_type": "stream",
     "text": [
      "<class 'int'>\n"
     ]
    }
   ],
   "source": [
    "print(type(num))"
   ]
  },
  {
   "cell_type": "code",
   "execution_count": 9,
   "metadata": {},
   "outputs": [
    {
     "data": {
      "text/plain": [
       "float"
      ]
     },
     "execution_count": 9,
     "metadata": {},
     "output_type": "execute_result"
    }
   ],
   "source": [
    "type(pi)"
   ]
  },
  {
   "cell_type": "code",
   "execution_count": 11,
   "metadata": {},
   "outputs": [
    {
     "data": {
      "text/plain": [
       "str"
      ]
     },
     "execution_count": 11,
     "metadata": {},
     "output_type": "execute_result"
    }
   ],
   "source": [
    "type(name)"
   ]
  },
  {
   "cell_type": "code",
   "execution_count": 12,
   "metadata": {},
   "outputs": [
    {
     "data": {
      "text/plain": [
       "bool"
      ]
     },
     "execution_count": 12,
     "metadata": {},
     "output_type": "execute_result"
    }
   ],
   "source": [
    "type(p)"
   ]
  },
  {
   "cell_type": "code",
   "execution_count": 15,
   "metadata": {},
   "outputs": [
    {
     "name": "stdout",
     "output_type": "stream",
     "text": [
      "hello world!!!\n"
     ]
    }
   ],
   "source": [
    "print('hello world!!!')"
   ]
  },
  {
   "cell_type": "code",
   "execution_count": 22,
   "metadata": {},
   "outputs": [
    {
     "name": "stdout",
     "output_type": "stream",
     "text": [
      "apple 3.14 10\n"
     ]
    }
   ],
   "source": [
    "print(name,pi,num)\n"
   ]
  },
  {
   "cell_type": "code",
   "execution_count": 20,
   "metadata": {},
   "outputs": [
    {
     "name": "stdout",
     "output_type": "stream",
     "text": [
      "<class 'str'>\n"
     ]
    }
   ],
   "source": [
    "print(type(n))"
   ]
  },
  {
   "cell_type": "code",
   "execution_count": 25,
   "metadata": {},
   "outputs": [
    {
     "name": "stdout",
     "output_type": "stream",
     "text": [
      "hello apple\n"
     ]
    }
   ],
   "source": [
    "print(\"hello \"+name)"
   ]
  },
  {
   "cell_type": "code",
   "execution_count": 27,
   "metadata": {},
   "outputs": [
    {
     "name": "stdout",
     "output_type": "stream",
     "text": [
      "hello 10\n"
     ]
    }
   ],
   "source": [
    "print(\"hello \"+str(num))"
   ]
  },
  {
   "cell_type": "code",
   "execution_count": 28,
   "metadata": {},
   "outputs": [
    {
     "name": "stdout",
     "output_type": "stream",
     "text": [
      "hello 10\n"
     ]
    }
   ],
   "source": [
    "print(\"hello\",num)"
   ]
  },
  {
   "cell_type": "code",
   "execution_count": 39,
   "metadata": {},
   "outputs": [
    {
     "name": "stdout",
     "output_type": "stream",
     "text": [
      "615\n"
     ]
    }
   ],
   "source": [
    "n=\"5\"\n",
    "print(int(n*3)+int(n*2)+int(n))"
   ]
  },
  {
   "cell_type": "code",
   "execution_count": 50,
   "metadata": {},
   "outputs": [
    {
     "name": "stdout",
     "output_type": "stream",
     "text": [
      "Enter numerical value :4\n",
      "Enter the string :hi\n"
     ]
    }
   ],
   "source": [
    "num = float(input('Enter numerical value :'))\n",
    "name = input(\"Enter the string :\")"
   ]
  },
  {
   "cell_type": "code",
   "execution_count": 51,
   "metadata": {},
   "outputs": [
    {
     "data": {
      "text/plain": [
       "4.0"
      ]
     },
     "execution_count": 51,
     "metadata": {},
     "output_type": "execute_result"
    }
   ],
   "source": [
    "num"
   ]
  },
  {
   "cell_type": "code",
   "execution_count": 48,
   "metadata": {},
   "outputs": [
    {
     "data": {
      "text/plain": [
       "'hello'"
      ]
     },
     "execution_count": 48,
     "metadata": {},
     "output_type": "execute_result"
    }
   ],
   "source": [
    "name"
   ]
  },
  {
   "cell_type": "code",
   "execution_count": null,
   "metadata": {},
   "outputs": [],
   "source": [
    "+ - * / %\n",
    "and or not\n",
    "> < >= <= == != \n"
   ]
  },
  {
   "cell_type": "code",
   "execution_count": 52,
   "metadata": {},
   "outputs": [],
   "source": [
    "name =\"apple\""
   ]
  },
  {
   "cell_type": "code",
   "execution_count": 53,
   "metadata": {},
   "outputs": [
    {
     "name": "stdout",
     "output_type": "stream",
     "text": [
      "An apple a day keeps doctor away...!!!\n"
     ]
    }
   ],
   "source": [
    "print(\"An\",name,\"a day keeps doctor away...!!!\")"
   ]
  },
  {
   "cell_type": "code",
   "execution_count": 54,
   "metadata": {},
   "outputs": [
    {
     "name": "stdout",
     "output_type": "stream",
     "text": [
      "An apple a day keeps doctor away...!!!\n"
     ]
    }
   ],
   "source": [
    "print(\"An \"+name+\" a day keeps doctor away...!!!\")"
   ]
  },
  {
   "cell_type": "code",
   "execution_count": 55,
   "metadata": {},
   "outputs": [
    {
     "name": "stdout",
     "output_type": "stream",
     "text": [
      "An apple a day keeps doctor away...!!!\n"
     ]
    }
   ],
   "source": [
    "print(\"An %s a day keeps doctor away...!!!\"%name)"
   ]
  },
  {
   "cell_type": "code",
   "execution_count": 58,
   "metadata": {},
   "outputs": [
    {
     "name": "stdout",
     "output_type": "stream",
     "text": [
      "An apple a day keeps doctor away.. 4.00 .!!!\n"
     ]
    }
   ],
   "source": [
    "print(\"An %s a day keeps doctor away.. %0.2f .!!!\"%(name,num))"
   ]
  },
  {
   "cell_type": "code",
   "execution_count": 71,
   "metadata": {},
   "outputs": [
    {
     "data": {
      "text/plain": [
       "'\\nr = int(input(\"Enter the radius of the circle :\"))\\narea_c =3.14*r*r\\nprint(\"The area of the circle is %0.2f sq.cm\"%(area_c))\\n'"
      ]
     },
     "execution_count": 71,
     "metadata": {},
     "output_type": "execute_result"
    }
   ],
   "source": [
    "r = int(input(\"Enter the radius of the circle :\"))\n",
    "area_c =3.14*r*r\n",
    "print(\"The area of the circle is %0.2f sq.cm\"%(area_c))"
   ]
  },
  {
   "cell_type": "code",
   "execution_count": 76,
   "metadata": {},
   "outputs": [
    {
     "name": "stdout",
     "output_type": "stream",
     "text": [
      "Enter any number :48\n",
      "Even\n"
     ]
    }
   ],
   "source": [
    "#if-else\n",
    "num = int(input(\"Enter any number :\"))\n",
    "if num%2!=0:\n",
    "    print(\"odd\")\n",
    "else:\n",
    "    print(\"Even\")"
   ]
  },
  {
   "cell_type": "code",
   "execution_count": 79,
   "metadata": {},
   "outputs": [
    {
     "name": "stdout",
     "output_type": "stream",
     "text": [
      "Enter any number :15\n",
      "Odd\n"
     ]
    }
   ],
   "source": [
    "#if-elseif \n",
    "num = int(input(\"Enter any number :\"))\n",
    "if num%4==0:\n",
    "    print(\"divisible by 4 and even\")\n",
    "elif num%2==0:\n",
    "    print(\"Even\")\n",
    "else:\n",
    "    print(\"Odd\")"
   ]
  },
  {
   "cell_type": "code",
   "execution_count": 83,
   "metadata": {},
   "outputs": [
    {
     "name": "stdout",
     "output_type": "stream",
     "text": [
      "Enter any of the following \n",
      "a. circle\n",
      "b. rectangle\n",
      "c. triangle\n",
      "a\n",
      "circle\n"
     ]
    }
   ],
   "source": [
    "opt = input(\"Enter any of the following \\na. circle\\nb. rectangle\\nc. triangle\\n\")\n",
    "if opt==\"circle\" or opt=='a':\n",
    "    r = \n",
    "    area_c\n",
    "    print()\n",
    "elif opt == \"re\"\n",
    "elif opt == tr\n",
    "else:\n",
    "    print()"
   ]
  },
  {
   "cell_type": "code",
   "execution_count": 91,
   "metadata": {},
   "outputs": [
    {
     "name": "stdout",
     "output_type": "stream",
     "text": [
      "Enter any number :65\n",
      "Odd\n",
      "Do you want to continue y/n :y\n",
      "Enter any number :78\n",
      "Even\n",
      "Do you want to continue y/n :n\n"
     ]
    }
   ],
   "source": [
    "i = 0\n",
    "while i<=len(name):\n",
    "    num = int(input(\"Enter any number :\"))\n",
    "    if num == 15:\n",
    "        print(\"stopping.....\")\n",
    "        break\n",
    "    elif num == 10:\n",
    "        print(\"skipping......\")\n",
    "        continue\n",
    "    elif num == 20:\n",
    "        print(\"Notification.....\")\n",
    "        pass\n",
    "    if num%4==0:\n",
    "        print(\"divisible by 4 and even\")\n",
    "    elif num%2==0:\n",
    "        print(\"Even\")\n",
    "    else:\n",
    "        print(\"Odd\")\n",
    "    i+=1"
   ]
  },
  {
   "cell_type": "code",
   "execution_count": 93,
   "metadata": {},
   "outputs": [
    {
     "data": {
      "text/plain": [
       "5"
      ]
     },
     "execution_count": 93,
     "metadata": {},
     "output_type": "execute_result"
    }
   ],
   "source": [
    "rock,paper,scissor"
   ]
  },
  {
   "cell_type": "code",
   "execution_count": null,
   "metadata": {},
   "outputs": [],
   "source": [
    "rock -> paper = paper\n",
    "rock -> scissor = rock\n",
    "paper -> scissor = scissor"
   ]
  },
  {
   "cell_type": "code",
   "execution_count": 94,
   "metadata": {},
   "outputs": [],
   "source": [
    "import random as r\n",
    "j=[\"rock\",\"scissor\",\"paper\"]"
   ]
  },
  {
   "cell_type": "code",
   "execution_count": 97,
   "metadata": {},
   "outputs": [
    {
     "data": {
      "text/plain": [
       "'scissor'"
      ]
     },
     "execution_count": 97,
     "metadata": {},
     "output_type": "execute_result"
    }
   ],
   "source": [
    "r.choice(j)"
   ]
  },
  {
   "cell_type": "code",
   "execution_count": 98,
   "metadata": {},
   "outputs": [],
   "source": [
    "#https://github.com/sharmasaravanan/Machine_learning"
   ]
  },
  {
   "cell_type": "code",
   "execution_count": 99,
   "metadata": {},
   "outputs": [],
   "source": [
    "#pip install numpy"
   ]
  },
  {
   "cell_type": "code",
   "execution_count": 100,
   "metadata": {},
   "outputs": [],
   "source": [
    "import numpy "
   ]
  },
  {
   "cell_type": "code",
   "execution_count": null,
   "metadata": {},
   "outputs": [],
   "source": [
    "numpy.matrix"
   ]
  },
  {
   "cell_type": "code",
   "execution_count": 101,
   "metadata": {},
   "outputs": [],
   "source": [
    "import numpy as np"
   ]
  },
  {
   "cell_type": "code",
   "execution_count": null,
   "metadata": {},
   "outputs": [],
   "source": [
    "np.matrix"
   ]
  },
  {
   "cell_type": "code",
   "execution_count": 115,
   "metadata": {},
   "outputs": [],
   "source": [
    "from math import sin,cos,tan,factorial"
   ]
  },
  {
   "cell_type": "code",
   "execution_count": 103,
   "metadata": {},
   "outputs": [
    {
     "data": {
      "text/plain": [
       "0.8939966636005579"
      ]
     },
     "execution_count": 103,
     "metadata": {},
     "output_type": "execute_result"
    }
   ],
   "source": [
    "sin(90)"
   ]
  },
  {
   "cell_type": "code",
   "execution_count": 104,
   "metadata": {},
   "outputs": [],
   "source": [
    "from random import *"
   ]
  },
  {
   "cell_type": "code",
   "execution_count": 108,
   "metadata": {},
   "outputs": [
    {
     "data": {
      "text/plain": [
       "3"
      ]
     },
     "execution_count": 108,
     "metadata": {},
     "output_type": "execute_result"
    }
   ],
   "source": [
    "randint(0,20)"
   ]
  },
  {
   "cell_type": "code",
   "execution_count": 109,
   "metadata": {},
   "outputs": [
    {
     "data": {
      "text/plain": [
       "['rock', 'scissor', 'paper']"
      ]
     },
     "execution_count": 109,
     "metadata": {},
     "output_type": "execute_result"
    }
   ],
   "source": [
    "j"
   ]
  },
  {
   "cell_type": "code",
   "execution_count": 111,
   "metadata": {},
   "outputs": [
    {
     "data": {
      "text/plain": [
       "'paper'"
      ]
     },
     "execution_count": 111,
     "metadata": {},
     "output_type": "execute_result"
    }
   ],
   "source": [
    "choice(j)"
   ]
  },
  {
   "cell_type": "code",
   "execution_count": 114,
   "metadata": {},
   "outputs": [
    {
     "data": {
      "text/plain": [
       "4"
      ]
     },
     "execution_count": 114,
     "metadata": {},
     "output_type": "execute_result"
    }
   ],
   "source": [
    "randrange(0,10)"
   ]
  },
  {
   "cell_type": "code",
   "execution_count": 116,
   "metadata": {},
   "outputs": [
    {
     "data": {
      "text/plain": [
       "120"
      ]
     },
     "execution_count": 116,
     "metadata": {},
     "output_type": "execute_result"
    }
   ],
   "source": [
    "factorial(5)"
   ]
  },
  {
   "cell_type": "code",
   "execution_count": null,
   "metadata": {},
   "outputs": [],
   "source": [
    "numpy,matplotlib,scipy,scikit-learn,nltk"
   ]
  },
  {
   "cell_type": "code",
   "execution_count": null,
   "metadata": {},
   "outputs": [],
   "source": [
    "funtion\n",
    "text file read and write\n",
    "for loop\n",
    "list \n"
   ]
<<<<<<< HEAD
  },
  {
   "cell_type": "code",
   "execution_count": 1,
   "metadata": {},
   "outputs": [],
   "source": [
    "#pip install scikit-learn\n"
   ]
  },
  {
   "cell_type": "code",
   "execution_count": 2,
   "metadata": {},
   "outputs": [
    {
     "name": "stderr",
     "output_type": "stream",
     "text": [
      "/usr/local/lib/python3.6/dist-packages/sklearn/cross_validation.py:41: DeprecationWarning: This module was deprecated in version 0.18 in favor of the model_selection module into which all the refactored classes and functions are moved. Also note that the interface of the new CV iterators are different from that of this module. This module will be removed in 0.20.\n",
      "  \"This module will be removed in 0.20.\", DeprecationWarning)\n"
     ]
    }
   ],
   "source": [
    "import numpy as np\n",
    "import pandas as pd\n",
    "from sklearn.linear_model import LinearRegression\n",
    "from sklearn.cross_validation import train_test_split\n",
    "from sklearn import metrics"
   ]
  },
  {
   "cell_type": "code",
   "execution_count": 5,
   "metadata": {},
   "outputs": [],
   "source": [
    "df = pd.read_csv(\"./Advertising.csv\",index_col=0)"
   ]
  },
  {
   "cell_type": "code",
   "execution_count": 6,
   "metadata": {},
   "outputs": [
    {
     "data": {
      "text/html": [
       "<div>\n",
       "<style scoped>\n",
       "    .dataframe tbody tr th:only-of-type {\n",
       "        vertical-align: middle;\n",
       "    }\n",
       "\n",
       "    .dataframe tbody tr th {\n",
       "        vertical-align: top;\n",
       "    }\n",
       "\n",
       "    .dataframe thead th {\n",
       "        text-align: right;\n",
       "    }\n",
       "</style>\n",
       "<table border=\"1\" class=\"dataframe\">\n",
       "  <thead>\n",
       "    <tr style=\"text-align: right;\">\n",
       "      <th></th>\n",
       "      <th>TV</th>\n",
       "      <th>radio</th>\n",
       "      <th>newspaper</th>\n",
       "      <th>sales</th>\n",
       "    </tr>\n",
       "  </thead>\n",
       "  <tbody>\n",
       "    <tr>\n",
       "      <th>1</th>\n",
       "      <td>230.1</td>\n",
       "      <td>37.8</td>\n",
       "      <td>69.2</td>\n",
       "      <td>22.1</td>\n",
       "    </tr>\n",
       "    <tr>\n",
       "      <th>2</th>\n",
       "      <td>44.5</td>\n",
       "      <td>39.3</td>\n",
       "      <td>45.1</td>\n",
       "      <td>10.4</td>\n",
       "    </tr>\n",
       "    <tr>\n",
       "      <th>3</th>\n",
       "      <td>17.2</td>\n",
       "      <td>45.9</td>\n",
       "      <td>69.3</td>\n",
       "      <td>9.3</td>\n",
       "    </tr>\n",
       "    <tr>\n",
       "      <th>4</th>\n",
       "      <td>151.5</td>\n",
       "      <td>41.3</td>\n",
       "      <td>58.5</td>\n",
       "      <td>18.5</td>\n",
       "    </tr>\n",
       "    <tr>\n",
       "      <th>5</th>\n",
       "      <td>180.8</td>\n",
       "      <td>10.8</td>\n",
       "      <td>58.4</td>\n",
       "      <td>12.9</td>\n",
       "    </tr>\n",
       "  </tbody>\n",
       "</table>\n",
       "</div>"
      ],
      "text/plain": [
       "      TV  radio  newspaper  sales\n",
       "1  230.1   37.8       69.2   22.1\n",
       "2   44.5   39.3       45.1   10.4\n",
       "3   17.2   45.9       69.3    9.3\n",
       "4  151.5   41.3       58.5   18.5\n",
       "5  180.8   10.8       58.4   12.9"
      ]
     },
     "execution_count": 6,
     "metadata": {},
     "output_type": "execute_result"
    }
   ],
   "source": [
    "df.head()"
   ]
  },
  {
   "cell_type": "code",
   "execution_count": 53,
   "metadata": {},
   "outputs": [],
   "source": [
    "#x = df.loc[:,\"TV\":\"newspaper\"]\n",
    "\n",
    "feature_names = ['TV', 'radio', 'newspaper']\n",
    "\n",
    "x = df[feature_names]"
   ]
  },
  {
   "cell_type": "code",
   "execution_count": 54,
   "metadata": {},
   "outputs": [],
   "source": [
    "y = df.sales"
   ]
  },
  {
   "cell_type": "code",
   "execution_count": 55,
   "metadata": {},
   "outputs": [],
   "source": [
    "X_train, X_test, y_train, y_test = train_test_split(x, y)"
   ]
  },
  {
   "cell_type": "code",
   "execution_count": 56,
   "metadata": {},
   "outputs": [],
   "source": [
    "model = LinearRegression()"
   ]
  },
  {
   "cell_type": "code",
   "execution_count": 57,
   "metadata": {},
   "outputs": [
    {
     "data": {
      "text/plain": [
       "LinearRegression(copy_X=True, fit_intercept=True, n_jobs=1, normalize=False)"
      ]
     },
     "execution_count": 57,
     "metadata": {},
     "output_type": "execute_result"
    }
   ],
   "source": [
    "model.fit(X_train,y_train)"
   ]
  },
  {
   "cell_type": "code",
   "execution_count": 58,
   "metadata": {},
   "outputs": [],
   "source": [
    "y_pred =  model.predict(X_test)"
   ]
  },
  {
   "cell_type": "code",
   "execution_count": 59,
   "metadata": {},
   "outputs": [
    {
     "data": {
      "text/plain": [
       "array([ 6.24752277, 19.1894622 ,  7.07586723, 16.73367284, 23.97246775,\n",
       "       18.11679769, 15.51455022, 16.29017453, 22.30979248, 21.30208189,\n",
       "        9.16651644, 13.89882295, 18.2578397 ,  6.62423878, 12.55452437,\n",
       "       13.80998197, 20.41893787, 16.40189661, 21.92170459, 12.74432341,\n",
       "       11.88610891, 19.75926552,  7.49818929, 17.63995058, 12.54605476,\n",
       "        5.49572445,  7.09118767, 17.22591628, 24.70433941, 21.08142129,\n",
       "        9.08278425, 20.25143937,  8.73725161, 20.39640368, 10.07190482,\n",
       "        9.6562075 , 10.11384768,  9.59208758,  3.6807437 , 14.29158584,\n",
       "        5.4591075 , 10.60619108, 14.52990017, 14.2981262 ,  7.79853297,\n",
       "       14.63308739,  8.88621503,  6.98411842, 12.76751223,  9.20734122])"
      ]
     },
     "execution_count": 59,
     "metadata": {},
     "output_type": "execute_result"
    }
   ],
   "source": [
    "y_pred"
   ]
  },
  {
   "cell_type": "code",
   "execution_count": 60,
   "metadata": {},
   "outputs": [
    {
     "name": "stdout",
     "output_type": "stream",
     "text": [
      "1.8276057635836431\n"
     ]
    }
   ],
   "source": [
    "print(np.sqrt(metrics.mean_squared_error(y_test, y_pred)))\n"
   ]
  },
  {
   "cell_type": "code",
   "execution_count": 44,
   "metadata": {},
   "outputs": [
    {
     "data": {
      "text/plain": [
       "array([19.91376538])"
      ]
     },
     "execution_count": 44,
     "metadata": {},
     "output_type": "execute_result"
    }
   ],
   "source": [
    "model.predict([[75,75,75]])"
   ]
  },
  {
   "cell_type": "code",
   "execution_count": 1,
   "metadata": {},
   "outputs": [],
   "source": [
    "import pandas as pd\n",
    "import numpy as np\n",
    "import re\n",
    "import nltk\n",
    "from bs4 import BeautifulSoup\n",
    "from sklearn.model_selection import train_test_split\n",
    "from sklearn.feature_extraction.text import CountVectorizer\n",
    "from sklearn.linear_model import LogisticRegression\n",
    "from sklearn.metrics import roc_auc_score\n",
    "from nltk.corpus import stopwords"
   ]
  },
  {
   "cell_type": "code",
   "execution_count": 2,
   "metadata": {},
   "outputs": [],
   "source": [
    "df = pd.read_csv(\"labeledTrainData.tsv\", header=0, delimiter=\"\\t\", quoting=3)\n"
   ]
  },
  {
   "cell_type": "code",
   "execution_count": 4,
   "metadata": {},
   "outputs": [
    {
     "data": {
      "text/html": [
       "<div>\n",
       "<style scoped>\n",
       "    .dataframe tbody tr th:only-of-type {\n",
       "        vertical-align: middle;\n",
       "    }\n",
       "\n",
       "    .dataframe tbody tr th {\n",
       "        vertical-align: top;\n",
       "    }\n",
       "\n",
       "    .dataframe thead th {\n",
       "        text-align: right;\n",
       "    }\n",
       "</style>\n",
       "<table border=\"1\" class=\"dataframe\">\n",
       "  <thead>\n",
       "    <tr style=\"text-align: right;\">\n",
       "      <th></th>\n",
       "      <th>id</th>\n",
       "      <th>sentiment</th>\n",
       "      <th>review</th>\n",
       "    </tr>\n",
       "  </thead>\n",
       "  <tbody>\n",
       "    <tr>\n",
       "      <th>0</th>\n",
       "      <td>\"5814_8\"</td>\n",
       "      <td>1</td>\n",
       "      <td>\"With all this stuff going down at the moment ...</td>\n",
       "    </tr>\n",
       "    <tr>\n",
       "      <th>1</th>\n",
       "      <td>\"2381_9\"</td>\n",
       "      <td>1</td>\n",
       "      <td>\"\\\"The Classic War of the Worlds\\\" by Timothy ...</td>\n",
       "    </tr>\n",
       "    <tr>\n",
       "      <th>2</th>\n",
       "      <td>\"7759_3\"</td>\n",
       "      <td>0</td>\n",
       "      <td>\"The film starts with a manager (Nicholas Bell...</td>\n",
       "    </tr>\n",
       "    <tr>\n",
       "      <th>3</th>\n",
       "      <td>\"3630_4\"</td>\n",
       "      <td>0</td>\n",
       "      <td>\"It must be assumed that those who praised thi...</td>\n",
       "    </tr>\n",
       "    <tr>\n",
       "      <th>4</th>\n",
       "      <td>\"9495_8\"</td>\n",
       "      <td>1</td>\n",
       "      <td>\"Superbly trashy and wondrously unpretentious ...</td>\n",
       "    </tr>\n",
       "  </tbody>\n",
       "</table>\n",
       "</div>"
      ],
      "text/plain": [
       "         id  sentiment                                             review\n",
       "0  \"5814_8\"          1  \"With all this stuff going down at the moment ...\n",
       "1  \"2381_9\"          1  \"\\\"The Classic War of the Worlds\\\" by Timothy ...\n",
       "2  \"7759_3\"          0  \"The film starts with a manager (Nicholas Bell...\n",
       "3  \"3630_4\"          0  \"It must be assumed that those who praised thi...\n",
       "4  \"9495_8\"          1  \"Superbly trashy and wondrously unpretentious ..."
      ]
     },
     "execution_count": 4,
     "metadata": {},
     "output_type": "execute_result"
    }
   ],
   "source": [
    "df.head()"
   ]
  },
  {
   "cell_type": "code",
   "execution_count": 5,
   "metadata": {},
   "outputs": [],
   "source": [
    "df.dropna(inplace=True)\n",
    "df[\"rated\"]=np.where(df['sentiment']>0,1,0)"
   ]
  },
  {
   "cell_type": "code",
   "execution_count": 6,
   "metadata": {},
   "outputs": [
    {
     "data": {
      "text/html": [
       "<div>\n",
       "<style scoped>\n",
       "    .dataframe tbody tr th:only-of-type {\n",
       "        vertical-align: middle;\n",
       "    }\n",
       "\n",
       "    .dataframe tbody tr th {\n",
       "        vertical-align: top;\n",
       "    }\n",
       "\n",
       "    .dataframe thead th {\n",
       "        text-align: right;\n",
       "    }\n",
       "</style>\n",
       "<table border=\"1\" class=\"dataframe\">\n",
       "  <thead>\n",
       "    <tr style=\"text-align: right;\">\n",
       "      <th></th>\n",
       "      <th>id</th>\n",
       "      <th>sentiment</th>\n",
       "      <th>review</th>\n",
       "      <th>rated</th>\n",
       "    </tr>\n",
       "  </thead>\n",
       "  <tbody>\n",
       "    <tr>\n",
       "      <th>0</th>\n",
       "      <td>\"5814_8\"</td>\n",
       "      <td>1</td>\n",
       "      <td>\"With all this stuff going down at the moment ...</td>\n",
       "      <td>1</td>\n",
       "    </tr>\n",
       "    <tr>\n",
       "      <th>1</th>\n",
       "      <td>\"2381_9\"</td>\n",
       "      <td>1</td>\n",
       "      <td>\"\\\"The Classic War of the Worlds\\\" by Timothy ...</td>\n",
       "      <td>1</td>\n",
       "    </tr>\n",
       "    <tr>\n",
       "      <th>2</th>\n",
       "      <td>\"7759_3\"</td>\n",
       "      <td>0</td>\n",
       "      <td>\"The film starts with a manager (Nicholas Bell...</td>\n",
       "      <td>0</td>\n",
       "    </tr>\n",
       "    <tr>\n",
       "      <th>3</th>\n",
       "      <td>\"3630_4\"</td>\n",
       "      <td>0</td>\n",
       "      <td>\"It must be assumed that those who praised thi...</td>\n",
       "      <td>0</td>\n",
       "    </tr>\n",
       "    <tr>\n",
       "      <th>4</th>\n",
       "      <td>\"9495_8\"</td>\n",
       "      <td>1</td>\n",
       "      <td>\"Superbly trashy and wondrously unpretentious ...</td>\n",
       "      <td>1</td>\n",
       "    </tr>\n",
       "  </tbody>\n",
       "</table>\n",
       "</div>"
      ],
      "text/plain": [
       "         id  sentiment                                             review  \\\n",
       "0  \"5814_8\"          1  \"With all this stuff going down at the moment ...   \n",
       "1  \"2381_9\"          1  \"\\\"The Classic War of the Worlds\\\" by Timothy ...   \n",
       "2  \"7759_3\"          0  \"The film starts with a manager (Nicholas Bell...   \n",
       "3  \"3630_4\"          0  \"It must be assumed that those who praised thi...   \n",
       "4  \"9495_8\"          1  \"Superbly trashy and wondrously unpretentious ...   \n",
       "\n",
       "   rated  \n",
       "0      1  \n",
       "1      1  \n",
       "2      0  \n",
       "3      0  \n",
       "4      1  "
      ]
     },
     "execution_count": 6,
     "metadata": {},
     "output_type": "execute_result"
    }
   ],
   "source": [
    "df.head()"
   ]
  },
  {
   "cell_type": "code",
   "execution_count": 7,
   "metadata": {},
   "outputs": [
    {
     "data": {
      "text/plain": [
       "(25000, 4)"
      ]
     },
     "execution_count": 7,
     "metadata": {},
     "output_type": "execute_result"
    }
   ],
   "source": [
    "df.shape"
   ]
  },
  {
   "cell_type": "code",
   "execution_count": 14,
   "metadata": {},
   "outputs": [],
   "source": [
    "def cleaning_words(raw_words):\n",
    "    exam=BeautifulSoup(raw_words,\"html.parser\") #removing html tags\n",
    "    letters=re.sub(\"[^a-zA-Z]\",\" \",exam.get_text()) #removing numbers and others except small and capital alphabets\n",
    "    low=letters.lower() #Converting everything to lower case\n",
    "    words=low.split() #spiliting sentences into words\n",
    "    useful= [w for w in words if not w in stopwords.words(\"english\")] #removing stopping words \n",
    "    use_sent= \" \".join(useful)\n",
    "    return use_sent"
   ]
  },
  {
   "cell_type": "code",
   "execution_count": 15,
   "metadata": {},
   "outputs": [
    {
     "name": "stdout",
     "output_type": "stream",
     "text": [
      "0\n",
      "1000\n",
      "2000\n",
      "3000\n",
      "4000\n",
      "5000\n",
      "6000\n",
      "7000\n",
      "8000\n",
      "9000\n",
      "10000\n",
      "11000\n",
      "12000\n",
      "13000\n",
      "14000\n",
      "15000\n",
      "16000\n",
      "17000\n",
      "18000\n",
      "19000\n",
      "20000\n",
      "21000\n",
      "22000\n",
      "23000\n",
      "24000\n"
     ]
    }
   ],
   "source": [
    "perfect_review = []\n",
    "for i,rev in enumerate(df[\"review\"]):\n",
    "    if i%1000==0:\n",
    "        print(i)\n",
    "    perfect_review.append(cleaning_words(rev))"
   ]
  },
  {
   "cell_type": "code",
   "execution_count": 17,
   "metadata": {},
   "outputs": [],
   "source": [
    "X_train, X_test, y_train, y_test = train_test_split(perfect_review,df['rated'])"
   ]
  },
  {
   "cell_type": "code",
   "execution_count": 19,
   "metadata": {},
   "outputs": [],
   "source": [
    "vect=CountVectorizer(min_df=5,ngram_range=(1,2)).fit(X_train)\n",
    "\n",
    "X_train_vetorised=vect.transform(X_train)"
   ]
  },
  {
   "cell_type": "code",
   "execution_count": 23,
   "metadata": {},
   "outputs": [
    {
     "data": {
      "text/plain": [
       "LogisticRegression(C=1.0, class_weight=None, dual=False, fit_intercept=True,\n",
       "          intercept_scaling=1, max_iter=100, multi_class='ovr', n_jobs=1,\n",
       "          penalty='l2', random_state=None, solver='liblinear', tol=0.0001,\n",
       "          verbose=0, warm_start=False)"
      ]
     },
     "execution_count": 23,
     "metadata": {},
     "output_type": "execute_result"
    }
   ],
   "source": [
    "model=LogisticRegression()\n",
    "model.fit(X_train_vetorised,y_train)\n",
    "\n"
   ]
  },
  {
   "cell_type": "code",
   "execution_count": 24,
   "metadata": {},
   "outputs": [
    {
     "name": "stdout",
     "output_type": "stream",
     "text": [
      "AUC: 0.8930727430644632\n"
     ]
    }
   ],
   "source": [
    "predictions=model.predict(vect.transform(X_test))\n",
    "print (\"AUC:\",roc_auc_score(y_test,predictions))"
   ]
  },
  {
   "cell_type": "code",
   "execution_count": 25,
   "metadata": {},
   "outputs": [
    {
     "data": {
      "text/plain": [
       "array([0, 1])"
      ]
     },
     "execution_count": 25,
     "metadata": {},
     "output_type": "execute_result"
    }
   ],
   "source": [
    "model.classes_"
   ]
  },
  {
   "cell_type": "code",
   "execution_count": 26,
   "metadata": {},
   "outputs": [
    {
     "data": {
      "text/plain": [
       "array([1])"
      ]
     },
     "execution_count": 26,
     "metadata": {},
     "output_type": "execute_result"
    }
   ],
   "source": [
    "model.predict(vect.transform([\"Just saw 'The League of Gentlemen: Apocalypse' at a special screening in Manchester, with Mark Gatiss and Reece Shearsmith of the League in attendance.<br /><br />At the back was Peter Kay (who has a brief cameo in the film) affectionately heckling at the back during the Q & A session after the film.<br /><br />The film was complicated (in a good way) and very very funny. It follows Geoff Tipps, Hilary Briss and Herr Lipp as they try and save fictional Rosyton Vasey from the disinterest of their creators.<br /><br />The League play a wide range of their characters and themselves (or character based on themselves) and are ably supported by the cream of British character and comedy actors such as Bernard Hill, Victoria Wood and David Warner.<br /><br />Warner is a particular stand out reminding me of his smooth and cutting turn in 'Time Bandits'.<br /><br />The film swims in and out of various realities and allows some of the denizen's of Rosyton Vasey some space to grow beyond their usual limits of their comedy shtick.<br /><br />Steve Pemberton's Herr Lipp has a great Bretchian moment near the end of the movie and has to make a decision about his purpose and meaning in life which brings a lump to the throat at an unexpected moment and surprises you with its tender affection for the characters.<br /><br />This echoes something Mark and Reece said in the Q & A afterwards, that the plot of the league being tired of their famous characters is spurious and that the whole film is really a love letter to them.<br /><br />For a format that started as a radio character-based sketch show, these guys have really evolved the idea so far as to sustain a movie which takes you on a journey through fiction, 'reality', comedy, tragedy and a pleasing journey for two of the less obvious characters to carry a long form story from their 70 odd existing creations.<br /><br />The fans of the show will love it. It pays off dedication and attention to detail in spades, the uninitiated may be a little lost, but the joy of the LoG was always the ability to almost instantly tune into their acutely observed characters and take the stylistic leap into farce and expressionistic movie homage.<br /><br />There are homages a plenty in this one including 'The Shining' and 'La Belle et la Bete', to name but two I spotted and they ably demonstrate their love for cinema and history with a segment in 1690's England that makes perfect sense when you're engaged with the movie.<br /><br />What can I say, I marvelled, boggled, emoted and snickered throughout and they have definitely pulled off what many have failed at. A successful British TV comedy to cinema translation.<br /><br />If you've watched and enjoyed 'The League of Gentlemen' in the past, go see it; you will enjoy.<br /><br />If you haven't, rent/buy a DVD and then go see it.<br /><br />Well done guys and thanks for the charming and humorous Q & A.\"]))"
   ]
  },
  {
   "cell_type": "code",
   "execution_count": 27,
   "metadata": {},
   "outputs": [
    {
     "data": {
      "text/plain": [
       "array([[1.22195896e-04, 9.99877804e-01]])"
      ]
     },
     "execution_count": 27,
     "metadata": {},
     "output_type": "execute_result"
    }
   ],
   "source": [
    "model.predict_proba(vect.transform([\"Just saw 'The League of Gentlemen: Apocalypse' at a special screening in Manchester, with Mark Gatiss and Reece Shearsmith of the League in attendance.<br /><br />At the back was Peter Kay (who has a brief cameo in the film) affectionately heckling at the back during the Q & A session after the film.<br /><br />The film was complicated (in a good way) and very very funny. It follows Geoff Tipps, Hilary Briss and Herr Lipp as they try and save fictional Rosyton Vasey from the disinterest of their creators.<br /><br />The League play a wide range of their characters and themselves (or character based on themselves) and are ably supported by the cream of British character and comedy actors such as Bernard Hill, Victoria Wood and David Warner.<br /><br />Warner is a particular stand out reminding me of his smooth and cutting turn in 'Time Bandits'.<br /><br />The film swims in and out of various realities and allows some of the denizen's of Rosyton Vasey some space to grow beyond their usual limits of their comedy shtick.<br /><br />Steve Pemberton's Herr Lipp has a great Bretchian moment near the end of the movie and has to make a decision about his purpose and meaning in life which brings a lump to the throat at an unexpected moment and surprises you with its tender affection for the characters.<br /><br />This echoes something Mark and Reece said in the Q & A afterwards, that the plot of the league being tired of their famous characters is spurious and that the whole film is really a love letter to them.<br /><br />For a format that started as a radio character-based sketch show, these guys have really evolved the idea so far as to sustain a movie which takes you on a journey through fiction, 'reality', comedy, tragedy and a pleasing journey for two of the less obvious characters to carry a long form story from their 70 odd existing creations.<br /><br />The fans of the show will love it. It pays off dedication and attention to detail in spades, the uninitiated may be a little lost, but the joy of the LoG was always the ability to almost instantly tune into their acutely observed characters and take the stylistic leap into farce and expressionistic movie homage.<br /><br />There are homages a plenty in this one including 'The Shining' and 'La Belle et la Bete', to name but two I spotted and they ably demonstrate their love for cinema and history with a segment in 1690's England that makes perfect sense when you're engaged with the movie.<br /><br />What can I say, I marvelled, boggled, emoted and snickered throughout and they have definitely pulled off what many have failed at. A successful British TV comedy to cinema translation.<br /><br />If you've watched and enjoyed 'The League of Gentlemen' in the past, go see it; you will enjoy.<br /><br />If you haven't, rent/buy a DVD and then go see it.<br /><br />Well done guys and thanks for the charming and humorous Q & A.\"]))"
   ]
  },
  {
   "cell_type": "code",
   "execution_count": 28,
   "metadata": {},
   "outputs": [
    {
     "ename": "SyntaxError",
     "evalue": "invalid syntax (<ipython-input-28-e4e1415ce32c>, line 1)",
     "output_type": "error",
     "traceback": [
      "\u001b[0;36m  File \u001b[0;32m\"<ipython-input-28-e4e1415ce32c>\"\u001b[0;36m, line \u001b[0;32m1\u001b[0m\n\u001b[0;31m    Just saw 'The League of Gentlemen: Apocalypse' at a special screening in Manchester, with Mark Gatiss and Reece Shearsmith of the League in attendance.<br /><br />At the back was Peter Kay (who has a brief cameo in the film) affectionately heckling at the back during the Q & A session after the film.<br /><br />The film was complicated (in a good way) and very very funny. It follows Geoff Tipps, Hilary Briss and Herr Lipp as they try and save fictional Rosyton Vasey from the disinterest of their creators.<br /><br />The League play a wide range of their characters and themselves (or character based on themselves) and are ably supported by the cream of British character and comedy actors such as Bernard Hill, Victoria Wood and David Warner.<br /><br />Warner is a particular stand out reminding me of his smooth and cutting turn in 'Time Bandits'.<br /><br />The film swims in and out of various realities and allows some of the denizen's of Rosyton Vasey some space to grow beyond their usual limits of their comedy shtick.<br /><br />Steve Pemberton's Herr Lipp has a great Bretchian moment near the end of the movie and has to make a decision about his purpose and meaning in life which brings a lump to the throat at an unexpected moment and surprises you with its tender affection for the characters.<br /><br />This echoes something Mark and Reece said in the Q & A afterwards, that the plot of the league being tired of their famous characters is spurious and that the whole film is really a love letter to them.<br /><br />For a format that started as a radio character-based sketch show, these guys have really evolved the idea so far as to sustain a movie which takes you on a journey through fiction, 'reality', comedy, tragedy and a pleasing journey for two of the less obvious characters to carry a long form story from their 70 odd existing creations.<br /><br />The fans of the show will love it. It pays off dedication and attention to detail in spades, the uninitiated may be a little lost, but the joy of the LoG was always the ability to almost instantly tune into their acutely observed characters and take the stylistic leap into farce and expressionistic movie homage.<br /><br />There are homages a plenty in this one including 'The Shining' and 'La Belle et la Bete', to name but two I spotted and they ably demonstrate their love for cinema and history with a segment in 1690's England that makes perfect sense when you're engaged with the movie.<br /><br />What can I say, I marvelled, boggled, emoted and snickered throughout and they have definitely pulled off what many have failed at. A successful British TV comedy to cinema translation.<br /><br />If you've watched and enjoyed 'The League of Gentlemen' in the past, go see it; you will enjoy.<br /><br />If you haven't, rent/buy a DVD and then go see it.<br /><br />Well done guys and thanks for the charming and humorous Q & A.\u001b[0m\n\u001b[0m           ^\u001b[0m\n\u001b[0;31mSyntaxError\u001b[0m\u001b[0;31m:\u001b[0m invalid syntax\n"
     ]
    }
   ],
   "source": [
    "Just saw 'The League of Gentlemen: Apocalypse' at a special screening in Manchester, with Mark Gatiss and Reece Shearsmith of the League in attendance.<br /><br />At the back was Peter Kay (who has a brief cameo in the film) affectionately heckling at the back during the Q & A session after the film.<br /><br />The film was complicated (in a good way) and very very funny. It follows Geoff Tipps, Hilary Briss and Herr Lipp as they try and save fictional Rosyton Vasey from the disinterest of their creators.<br /><br />The League play a wide range of their characters and themselves (or character based on themselves) and are ably supported by the cream of British character and comedy actors such as Bernard Hill, Victoria Wood and David Warner.<br /><br />Warner is a particular stand out reminding me of his smooth and cutting turn in 'Time Bandits'.<br /><br />The film swims in and out of various realities and allows some of the denizen's of Rosyton Vasey some space to grow beyond their usual limits of their comedy shtick.<br /><br />Steve Pemberton's Herr Lipp has a great Bretchian moment near the end of the movie and has to make a decision about his purpose and meaning in life which brings a lump to the throat at an unexpected moment and surprises you with its tender affection for the characters.<br /><br />This echoes something Mark and Reece said in the Q & A afterwards, that the plot of the league being tired of their famous characters is spurious and that the whole film is really a love letter to them.<br /><br />For a format that started as a radio character-based sketch show, these guys have really evolved the idea so far as to sustain a movie which takes you on a journey through fiction, 'reality', comedy, tragedy and a pleasing journey for two of the less obvious characters to carry a long form story from their 70 odd existing creations.<br /><br />The fans of the show will love it. It pays off dedication and attention to detail in spades, the uninitiated may be a little lost, but the joy of the LoG was always the ability to almost instantly tune into their acutely observed characters and take the stylistic leap into farce and expressionistic movie homage.<br /><br />There are homages a plenty in this one including 'The Shining' and 'La Belle et la Bete', to name but two I spotted and they ably demonstrate their love for cinema and history with a segment in 1690's England that makes perfect sense when you're engaged with the movie.<br /><br />What can I say, I marvelled, boggled, emoted and snickered throughout and they have definitely pulled off what many have failed at. A successful British TV comedy to cinema translation.<br /><br />If you've watched and enjoyed 'The League of Gentlemen' in the past, go see it; you will enjoy.<br /><br />If you haven't, rent/buy a DVD and then go see it.<br /><br />Well done guys and thanks for the charming and humorous Q & A."
   ]
  },
  {
   "cell_type": "code",
   "execution_count": 30,
   "metadata": {},
   "outputs": [
    {
     "name": "stdout",
     "output_type": "stream",
     "text": [
      "small coeff : {} ['worst' 'waste' 'awful' 'disappointment' 'poorly' 'boring' 'fails'\n",
      " 'disappointing' 'lacks' 'save' 'terrible' 'mess' 'horrible' 'dull'\n",
      " 'laughable' 'worse' 'badly' 'forgettable' 'ridiculous' 'poor' 'weak'\n",
      " 'avoid' 'unfunny' 'lousy' 'lame' 'waste time' 'one worst' 'unfortunately'\n",
      " 'annoying' 'photo' 'predictable' 'baldwin' 'unless' 'obnoxious' 'wonder'\n",
      " 'mildly' 'britney' 'boredom' 'attempt' 'mediocre' 'confusing'\n",
      " 'uninteresting' 'pass' 'pointless' 'appears' 'hoping' 'connect' 'animal'\n",
      " 'bad' 'brain']\n",
      "large coeff : {} ['excellent' 'funniest' 'amazing' 'perfect' 'superb' 'wonderful' 'subtle'\n",
      " 'incredible' 'touching' 'wonderfully' 'favorite' 'refreshing' 'enjoyable'\n",
      " 'movie watch' 'kurosawa' 'must see' 'surprisingly' 'definitely worth'\n",
      " 'rare' 'perfectly' 'noir' 'gem' 'entertaining' 'unique' 'necessary'\n",
      " 'today' 'fantastic' 'underrated' 'hilarious' 'unlike' 'well worth'\n",
      " 'delightful' 'fascinating' 'hooked' 'recommended' 'brilliant' 'verhoeven'\n",
      " 'sweet' 'com' 'surprised' 'scariest' 'enjoyed' 'bravo' 'tight' 'best'\n",
      " 'highly' 'highly recommend' 'sensitive' 'jackie' 'pretty good']\n"
     ]
    }
   ],
   "source": [
    "\n",
    "feature_name=np.array(vect.get_feature_names())\n",
    "sort_coeff=model.coef_[0].argsort()\n",
    "print (\"small coeff : {}\",format(feature_name[sort_coeff[:50]]))\n",
    "print (\"large coeff : {}\",format(feature_name[sort_coeff[:-51:-1]]))"
   ]
  },
  {
   "cell_type": "code",
   "execution_count": null,
   "metadata": {},
   "outputs": [],
   "source": [
    "Kmeans\n",
    "decision tree \n",
    "naive baye's\n",
    "random forest\n"
   ]
  },
  {
   "cell_type": "code",
   "execution_count": 32,
   "metadata": {},
   "outputs": [],
   "source": [
    "import numpy as np\n",
    "import matplotlib.pyplot as plt\n",
    "from sklearn.cluster import KMeans\n"
   ]
  },
  {
   "cell_type": "code",
   "execution_count": 33,
   "metadata": {},
   "outputs": [],
   "source": [
    "X = np.array([[1, 2],\n",
    "              [5, 8],\n",
    "              [1.5, 1.8],\n",
    "              [8, 8],\n",
    "              [1, 0.6],\n",
    "              [9, 11]])\n"
   ]
  },
  {
   "cell_type": "code",
   "execution_count": 42,
   "metadata": {},
   "outputs": [
    {
     "data": {
      "text/plain": [
       "KMeans(algorithm='auto', copy_x=True, init='k-means++', max_iter=300,\n",
       "    n_clusters=2, n_init=10, n_jobs=1, precompute_distances='auto',\n",
       "    random_state=None, tol=0.0001, verbose=0)"
      ]
     },
     "execution_count": 42,
     "metadata": {},
     "output_type": "execute_result"
    }
   ],
   "source": [
    "kmeans = KMeans(n_clusters=2)\n",
    "kmeans.fit(X)\n",
    "\n",
    "\n"
   ]
  },
  {
   "cell_type": "code",
   "execution_count": 43,
   "metadata": {},
   "outputs": [
    {
     "name": "stdout",
     "output_type": "stream",
     "text": [
      "[[7.33333333 9.        ]\n",
      " [1.16666667 1.46666667]]\n",
      "[1 0 1 0 1 0]\n"
     ]
    }
   ],
   "source": [
    "centroids = kmeans.cluster_centers_\n",
    "labels = kmeans.labels_\n",
    "\n",
    "print(centroids)\n",
    "print(labels)\n",
    "\n"
   ]
  },
  {
   "cell_type": "code",
   "execution_count": 44,
   "metadata": {},
   "outputs": [
    {
     "name": "stdout",
     "output_type": "stream",
     "text": [
      "coordinate: [1. 2.] label: 1\n",
      "coordinate: [5. 8.] label: 0\n",
      "coordinate: [1.5 1.8] label: 1\n",
      "coordinate: [8. 8.] label: 0\n",
      "coordinate: [1.  0.6] label: 1\n",
      "coordinate: [ 9. 11.] label: 0\n"
     ]
    },
    {
     "data": {
      "text/plain": [
       "<matplotlib.collections.PathCollection at 0x7f71730eee48>"
      ]
     },
     "execution_count": 44,
     "metadata": {},
     "output_type": "execute_result"
    },
    {
     "data": {
      "image/png": "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\n",
      "text/plain": [
       "<Figure size 432x288 with 1 Axes>"
      ]
     },
     "metadata": {},
     "output_type": "display_data"
    }
   ],
   "source": [
    "colors = [\"g.\",\"r.\",\"c.\",\"y.\"]\n",
    "\n",
    "for i in range(len(X)):\n",
    "    print(\"coordinate:\",X[i], \"label:\", labels[i])\n",
    "    plt.plot(X[i][0], X[i][1], colors[labels[i]], markersize = 10)\n",
    "\n",
    "\n",
    "plt.scatter(centroids[:, 0],centroids[:, 1], marker = \"x\", s=150, linewidths = 5, zorder = 10)\n"
   ]
  },
  {
   "cell_type": "code",
   "execution_count": 53,
   "metadata": {},
   "outputs": [
    {
     "data": {
      "image/png": "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\n",
      "text/plain": [
       "<Figure size 432x288 with 1 Axes>"
      ]
     },
     "metadata": {},
     "output_type": "display_data"
    }
   ],
   "source": [
    "import numpy as np\n",
    "from scipy.cluster.hierarchy import linkage,dendrogram\n",
    "import matplotlib.pyplot as plt\n",
    "\n",
    "x=np.array([[1,1],[1.1,1.1],[3,3],[4,4],[3,3.5],[3.5,4]])\n",
    "\n",
    "#plt.scatter(x[:,0],x[:,1],s=50)\n",
    "\n",
    "linkage_matrix=linkage(x,\"single\")\n",
    "\n",
    "dend=dendrogram(linkage_matrix,truncate_mode=\"lastp\",p=5)\n",
    "\n",
    "plt.title(\"Hierarchial clustering\")\n",
    "\n",
    "plt.show()\n"
   ]
  },
  {
   "cell_type": "code",
   "execution_count": 54,
   "metadata": {},
   "outputs": [],
   "source": [
    "from sklearn import tree\n",
    "\n",
    "import pandas as pd\n",
    "\n",
    "df=pd.read_csv(\"./weather.csv\")\n",
    "\n",
    "\n"
   ]
  },
  {
   "cell_type": "code",
   "execution_count": 57,
   "metadata": {},
   "outputs": [],
   "source": [
    "x=df.loc[:,\"outlook\":\"wind\"]"
   ]
  },
  {
   "cell_type": "code",
   "execution_count": 59,
   "metadata": {},
   "outputs": [],
   "source": [
    "y = df.play"
   ]
  },
  {
   "cell_type": "code",
   "execution_count": 63,
   "metadata": {},
   "outputs": [],
   "source": [
    "model = tree.DecisionTreeClassifier(criterion=\"entropy\")"
   ]
  },
  {
   "cell_type": "code",
   "execution_count": 64,
   "metadata": {},
   "outputs": [
    {
     "data": {
      "text/plain": [
       "DecisionTreeClassifier(class_weight=None, criterion='entropy', max_depth=None,\n",
       "            max_features=None, max_leaf_nodes=None,\n",
       "            min_impurity_decrease=0.0, min_impurity_split=None,\n",
       "            min_samples_leaf=1, min_samples_split=2,\n",
       "            min_weight_fraction_leaf=0.0, presort=False, random_state=None,\n",
       "            splitter='best')"
      ]
     },
     "execution_count": 64,
     "metadata": {},
     "output_type": "execute_result"
    }
   ],
   "source": [
    "model"
   ]
  },
  {
   "cell_type": "code",
   "execution_count": 65,
   "metadata": {},
   "outputs": [
    {
     "data": {
      "text/plain": [
       "DecisionTreeClassifier(class_weight=None, criterion='entropy', max_depth=None,\n",
       "            max_features=None, max_leaf_nodes=None,\n",
       "            min_impurity_decrease=0.0, min_impurity_split=None,\n",
       "            min_samples_leaf=1, min_samples_split=2,\n",
       "            min_weight_fraction_leaf=0.0, presort=False, random_state=None,\n",
       "            splitter='best')"
      ]
     },
     "execution_count": 65,
     "metadata": {},
     "output_type": "execute_result"
    }
   ],
   "source": [
    "model.fit(x,y)"
   ]
  },
  {
   "cell_type": "code",
   "execution_count": 66,
   "metadata": {},
   "outputs": [
    {
     "data": {
      "text/plain": [
       "array(['no'], dtype=object)"
      ]
     },
     "execution_count": 66,
     "metadata": {},
     "output_type": "execute_result"
    }
   ],
   "source": [
    "model.predict([[2,1,1,1]])"
   ]
  },
  {
   "cell_type": "code",
   "execution_count": 67,
   "metadata": {},
   "outputs": [
    {
     "data": {
      "text/plain": [
       "array([[1., 0.]])"
      ]
     },
     "execution_count": 67,
     "metadata": {},
     "output_type": "execute_result"
    }
   ],
   "source": [
    "model.predict_proba([[2,1,1,1]])"
   ]
  },
  {
   "cell_type": "code",
   "execution_count": 68,
   "metadata": {},
   "outputs": [
    {
     "data": {
      "text/plain": [
       "array(['no', 'yes'], dtype=object)"
      ]
     },
     "execution_count": 68,
     "metadata": {},
     "output_type": "execute_result"
    }
   ],
   "source": [
    "model.classes_"
   ]
  },
  {
   "cell_type": "code",
   "execution_count": 69,
   "metadata": {},
   "outputs": [],
   "source": [
    "from sklearn.ensemble import RandomForestClassifier\n"
   ]
  },
  {
   "cell_type": "code",
   "execution_count": 70,
   "metadata": {},
   "outputs": [
    {
     "name": "stderr",
     "output_type": "stream",
     "text": [
      "/usr/local/lib/python3.6/dist-packages/ipykernel_launcher.py:9: FutureWarning: Method .as_matrix will be removed in a future version. Use .values instead.\n",
      "  if __name__ == '__main__':\n",
      "/usr/local/lib/python3.6/dist-packages/ipykernel_launcher.py:11: FutureWarning: Method .as_matrix will be removed in a future version. Use .values instead.\n",
      "  # This is added back by InteractiveShellApp.init_path()\n"
     ]
    }
   ],
   "source": [
    "train = pd.read_csv(\"train.csv\")\n",
    "\n",
    "test = pd.read_csv(\"test.csv\")\n",
    "\n",
    "cols = ['petal_length', 'petal_width', 'sepal_length', 'sepal_width'] \n",
    "\n",
    "colsRes = ['class']\n",
    "\n",
    "trainArr = train.as_matrix(cols) \n",
    "\n",
    "trainRes = train.as_matrix(colsRes)\n",
    "\n"
   ]
  },
  {
   "cell_type": "code",
   "execution_count": 72,
   "metadata": {},
   "outputs": [
    {
     "name": "stderr",
     "output_type": "stream",
     "text": [
      "/usr/local/lib/python3.6/dist-packages/ipykernel_launcher.py:4: DataConversionWarning: A column-vector y was passed when a 1d array was expected. Please change the shape of y to (n_samples,), for example using ravel().\n",
      "  after removing the cwd from sys.path.\n",
      "/usr/local/lib/python3.6/dist-packages/ipykernel_launcher.py:6: FutureWarning: Method .as_matrix will be removed in a future version. Use .values instead.\n",
      "  \n"
     ]
    }
   ],
   "source": [
    "\n",
    "rf = RandomForestClassifier(n_estimators=500) \n",
    "\n",
    "rf.fit(trainArr, trainRes)\n",
    "\n",
    "testArr = test.as_matrix(cols)\n",
    "\n",
    "results = rf.predict(testArr)\n",
    "\n",
    "test['predictions'] = results\n"
   ]
  },
  {
   "cell_type": "code",
   "execution_count": 73,
   "metadata": {},
   "outputs": [
    {
     "data": {
      "text/plain": [
       "RandomForestClassifier(bootstrap=True, class_weight=None, criterion='gini',\n",
       "            max_depth=None, max_features='auto', max_leaf_nodes=None,\n",
       "            min_impurity_decrease=0.0, min_impurity_split=None,\n",
       "            min_samples_leaf=1, min_samples_split=2,\n",
       "            min_weight_fraction_leaf=0.0, n_estimators=500, n_jobs=1,\n",
       "            oob_score=False, random_state=None, verbose=0,\n",
       "            warm_start=False)"
      ]
     },
     "execution_count": 73,
     "metadata": {},
     "output_type": "execute_result"
    }
   ],
   "source": [
    "rf"
   ]
  },
  {
   "cell_type": "code",
   "execution_count": 74,
   "metadata": {},
   "outputs": [
    {
     "data": {
      "text/html": [
       "<div>\n",
       "<style scoped>\n",
       "    .dataframe tbody tr th:only-of-type {\n",
       "        vertical-align: middle;\n",
       "    }\n",
       "\n",
       "    .dataframe tbody tr th {\n",
       "        vertical-align: top;\n",
       "    }\n",
       "\n",
       "    .dataframe thead th {\n",
       "        text-align: right;\n",
       "    }\n",
       "</style>\n",
       "<table border=\"1\" class=\"dataframe\">\n",
       "  <thead>\n",
       "    <tr style=\"text-align: right;\">\n",
       "      <th></th>\n",
       "      <th>class</th>\n",
       "      <th>petal_length</th>\n",
       "      <th>petal_width</th>\n",
       "      <th>sepal_length</th>\n",
       "      <th>sepal_width</th>\n",
       "      <th>predictions</th>\n",
       "    </tr>\n",
       "  </thead>\n",
       "  <tbody>\n",
       "    <tr>\n",
       "      <th>0</th>\n",
       "      <td>Iris-virginica</td>\n",
       "      <td>6.6</td>\n",
       "      <td>2.1</td>\n",
       "      <td>7.6</td>\n",
       "      <td>3.0</td>\n",
       "      <td>Iris-virginica</td>\n",
       "    </tr>\n",
       "    <tr>\n",
       "      <th>1</th>\n",
       "      <td>Iris-virginica</td>\n",
       "      <td>6.3</td>\n",
       "      <td>1.8</td>\n",
       "      <td>7.3</td>\n",
       "      <td>2.9</td>\n",
       "      <td>Iris-virginica</td>\n",
       "    </tr>\n",
       "    <tr>\n",
       "      <th>2</th>\n",
       "      <td>Iris-virginica</td>\n",
       "      <td>5.5</td>\n",
       "      <td>2.1</td>\n",
       "      <td>6.8</td>\n",
       "      <td>3.0</td>\n",
       "      <td>Iris-virginica</td>\n",
       "    </tr>\n",
       "    <tr>\n",
       "      <th>3</th>\n",
       "      <td>Iris-virginica</td>\n",
       "      <td>5.1</td>\n",
       "      <td>2.4</td>\n",
       "      <td>5.8</td>\n",
       "      <td>2.8</td>\n",
       "      <td>Iris-virginica</td>\n",
       "    </tr>\n",
       "    <tr>\n",
       "      <th>4</th>\n",
       "      <td>Iris-virginica</td>\n",
       "      <td>5.3</td>\n",
       "      <td>2.3</td>\n",
       "      <td>6.4</td>\n",
       "      <td>3.2</td>\n",
       "      <td>Iris-virginica</td>\n",
       "    </tr>\n",
       "    <tr>\n",
       "      <th>5</th>\n",
       "      <td>Iris-virginica</td>\n",
       "      <td>6.7</td>\n",
       "      <td>2.2</td>\n",
       "      <td>7.7</td>\n",
       "      <td>3.8</td>\n",
       "      <td>Iris-virginica</td>\n",
       "    </tr>\n",
       "    <tr>\n",
       "      <th>6</th>\n",
       "      <td>Iris-virginica</td>\n",
       "      <td>4.9</td>\n",
       "      <td>2.0</td>\n",
       "      <td>5.6</td>\n",
       "      <td>2.8</td>\n",
       "      <td>Iris-virginica</td>\n",
       "    </tr>\n",
       "    <tr>\n",
       "      <th>7</th>\n",
       "      <td>Iris-virginica</td>\n",
       "      <td>4.9</td>\n",
       "      <td>1.8</td>\n",
       "      <td>6.3</td>\n",
       "      <td>2.7</td>\n",
       "      <td>Iris-virginica</td>\n",
       "    </tr>\n",
       "    <tr>\n",
       "      <th>8</th>\n",
       "      <td>Iris-virginica</td>\n",
       "      <td>4.9</td>\n",
       "      <td>1.8</td>\n",
       "      <td>6.1</td>\n",
       "      <td>3.0</td>\n",
       "      <td>Iris-virginica</td>\n",
       "    </tr>\n",
       "    <tr>\n",
       "      <th>9</th>\n",
       "      <td>Iris-virginica</td>\n",
       "      <td>5.8</td>\n",
       "      <td>1.6</td>\n",
       "      <td>7.2</td>\n",
       "      <td>3.0</td>\n",
       "      <td>Iris-virginica</td>\n",
       "    </tr>\n",
       "    <tr>\n",
       "      <th>10</th>\n",
       "      <td>Iris-virginica</td>\n",
       "      <td>6.4</td>\n",
       "      <td>2.0</td>\n",
       "      <td>7.9</td>\n",
       "      <td>3.8</td>\n",
       "      <td>Iris-virginica</td>\n",
       "    </tr>\n",
       "    <tr>\n",
       "      <th>11</th>\n",
       "      <td>Iris-virginica</td>\n",
       "      <td>5.6</td>\n",
       "      <td>2.2</td>\n",
       "      <td>6.4</td>\n",
       "      <td>2.8</td>\n",
       "      <td>Iris-virginica</td>\n",
       "    </tr>\n",
       "    <tr>\n",
       "      <th>12</th>\n",
       "      <td>Iris-virginica</td>\n",
       "      <td>5.4</td>\n",
       "      <td>2.1</td>\n",
       "      <td>6.9</td>\n",
       "      <td>3.1</td>\n",
       "      <td>Iris-virginica</td>\n",
       "    </tr>\n",
       "    <tr>\n",
       "      <th>13</th>\n",
       "      <td>Iris-virginica</td>\n",
       "      <td>5.6</td>\n",
       "      <td>2.4</td>\n",
       "      <td>6.7</td>\n",
       "      <td>3.1</td>\n",
       "      <td>Iris-virginica</td>\n",
       "    </tr>\n",
       "    <tr>\n",
       "      <th>14</th>\n",
       "      <td>Iris-virginica</td>\n",
       "      <td>5.1</td>\n",
       "      <td>1.8</td>\n",
       "      <td>5.9</td>\n",
       "      <td>3.0</td>\n",
       "      <td>Iris-virginica</td>\n",
       "    </tr>\n",
       "    <tr>\n",
       "      <th>15</th>\n",
       "      <td>Iris-versicolor</td>\n",
       "      <td>4.0</td>\n",
       "      <td>1.3</td>\n",
       "      <td>5.5</td>\n",
       "      <td>2.3</td>\n",
       "      <td>Iris-versicolor</td>\n",
       "    </tr>\n",
       "    <tr>\n",
       "      <th>16</th>\n",
       "      <td>Iris-versicolor</td>\n",
       "      <td>4.5</td>\n",
       "      <td>1.3</td>\n",
       "      <td>5.7</td>\n",
       "      <td>2.8</td>\n",
       "      <td>Iris-versicolor</td>\n",
       "    </tr>\n",
       "    <tr>\n",
       "      <th>17</th>\n",
       "      <td>Iris-versicolor</td>\n",
       "      <td>4.6</td>\n",
       "      <td>1.3</td>\n",
       "      <td>6.6</td>\n",
       "      <td>2.9</td>\n",
       "      <td>Iris-versicolor</td>\n",
       "    </tr>\n",
       "    <tr>\n",
       "      <th>18</th>\n",
       "      <td>Iris-versicolor</td>\n",
       "      <td>3.9</td>\n",
       "      <td>1.4</td>\n",
       "      <td>5.2</td>\n",
       "      <td>2.7</td>\n",
       "      <td>Iris-versicolor</td>\n",
       "    </tr>\n",
       "    <tr>\n",
       "      <th>19</th>\n",
       "      <td>Iris-versicolor</td>\n",
       "      <td>4.2</td>\n",
       "      <td>1.5</td>\n",
       "      <td>5.9</td>\n",
       "      <td>3.0</td>\n",
       "      <td>Iris-versicolor</td>\n",
       "    </tr>\n",
       "    <tr>\n",
       "      <th>20</th>\n",
       "      <td>Iris-versicolor</td>\n",
       "      <td>4.5</td>\n",
       "      <td>1.5</td>\n",
       "      <td>5.6</td>\n",
       "      <td>3.0</td>\n",
       "      <td>Iris-versicolor</td>\n",
       "    </tr>\n",
       "    <tr>\n",
       "      <th>21</th>\n",
       "      <td>Iris-versicolor</td>\n",
       "      <td>4.7</td>\n",
       "      <td>1.2</td>\n",
       "      <td>6.1</td>\n",
       "      <td>2.8</td>\n",
       "      <td>Iris-versicolor</td>\n",
       "    </tr>\n",
       "    <tr>\n",
       "      <th>22</th>\n",
       "      <td>Iris-versicolor</td>\n",
       "      <td>4.3</td>\n",
       "      <td>1.3</td>\n",
       "      <td>6.4</td>\n",
       "      <td>2.9</td>\n",
       "      <td>Iris-versicolor</td>\n",
       "    </tr>\n",
       "    <tr>\n",
       "      <th>23</th>\n",
       "      <td>Iris-versicolor</td>\n",
       "      <td>3.9</td>\n",
       "      <td>1.2</td>\n",
       "      <td>5.8</td>\n",
       "      <td>2.7</td>\n",
       "      <td>Iris-versicolor</td>\n",
       "    </tr>\n",
       "    <tr>\n",
       "      <th>24</th>\n",
       "      <td>Iris-versicolor</td>\n",
       "      <td>4.7</td>\n",
       "      <td>1.5</td>\n",
       "      <td>6.7</td>\n",
       "      <td>3.1</td>\n",
       "      <td>Iris-versicolor</td>\n",
       "    </tr>\n",
       "    <tr>\n",
       "      <th>25</th>\n",
       "      <td>Iris-versicolor</td>\n",
       "      <td>4.4</td>\n",
       "      <td>1.3</td>\n",
       "      <td>6.3</td>\n",
       "      <td>2.3</td>\n",
       "      <td>Iris-versicolor</td>\n",
       "    </tr>\n",
       "    <tr>\n",
       "      <th>26</th>\n",
       "      <td>Iris-versicolor</td>\n",
       "      <td>4.0</td>\n",
       "      <td>1.3</td>\n",
       "      <td>5.5</td>\n",
       "      <td>2.5</td>\n",
       "      <td>Iris-versicolor</td>\n",
       "    </tr>\n",
       "    <tr>\n",
       "      <th>27</th>\n",
       "      <td>Iris-versicolor</td>\n",
       "      <td>4.6</td>\n",
       "      <td>1.4</td>\n",
       "      <td>6.1</td>\n",
       "      <td>3.0</td>\n",
       "      <td>Iris-versicolor</td>\n",
       "    </tr>\n",
       "    <tr>\n",
       "      <th>28</th>\n",
       "      <td>Iris-versicolor</td>\n",
       "      <td>4.0</td>\n",
       "      <td>1.2</td>\n",
       "      <td>5.8</td>\n",
       "      <td>2.6</td>\n",
       "      <td>Iris-versicolor</td>\n",
       "    </tr>\n",
       "    <tr>\n",
       "      <th>29</th>\n",
       "      <td>Iris-versicolor</td>\n",
       "      <td>4.3</td>\n",
       "      <td>1.3</td>\n",
       "      <td>6.2</td>\n",
       "      <td>2.9</td>\n",
       "      <td>Iris-versicolor</td>\n",
       "    </tr>\n",
       "    <tr>\n",
       "      <th>30</th>\n",
       "      <td>Iris-setosa</td>\n",
       "      <td>1.4</td>\n",
       "      <td>0.2</td>\n",
       "      <td>5.1</td>\n",
       "      <td>3.5</td>\n",
       "      <td>Iris-setosa</td>\n",
       "    </tr>\n",
       "    <tr>\n",
       "      <th>31</th>\n",
       "      <td>Iris-setosa</td>\n",
       "      <td>1.7</td>\n",
       "      <td>0.4</td>\n",
       "      <td>5.4</td>\n",
       "      <td>3.9</td>\n",
       "      <td>Iris-setosa</td>\n",
       "    </tr>\n",
       "    <tr>\n",
       "      <th>32</th>\n",
       "      <td>Iris-setosa</td>\n",
       "      <td>1.4</td>\n",
       "      <td>0.3</td>\n",
       "      <td>4.6</td>\n",
       "      <td>3.4</td>\n",
       "      <td>Iris-setosa</td>\n",
       "    </tr>\n",
       "    <tr>\n",
       "      <th>33</th>\n",
       "      <td>Iris-setosa</td>\n",
       "      <td>1.1</td>\n",
       "      <td>0.1</td>\n",
       "      <td>4.3</td>\n",
       "      <td>3.0</td>\n",
       "      <td>Iris-setosa</td>\n",
       "    </tr>\n",
       "    <tr>\n",
       "      <th>34</th>\n",
       "      <td>Iris-setosa</td>\n",
       "      <td>1.2</td>\n",
       "      <td>0.2</td>\n",
       "      <td>5.8</td>\n",
       "      <td>4.0</td>\n",
       "      <td>Iris-setosa</td>\n",
       "    </tr>\n",
       "    <tr>\n",
       "      <th>35</th>\n",
       "      <td>Iris-setosa</td>\n",
       "      <td>1.7</td>\n",
       "      <td>0.2</td>\n",
       "      <td>5.4</td>\n",
       "      <td>3.4</td>\n",
       "      <td>Iris-setosa</td>\n",
       "    </tr>\n",
       "    <tr>\n",
       "      <th>36</th>\n",
       "      <td>Iris-setosa</td>\n",
       "      <td>1.7</td>\n",
       "      <td>0.5</td>\n",
       "      <td>5.1</td>\n",
       "      <td>3.3</td>\n",
       "      <td>Iris-setosa</td>\n",
       "    </tr>\n",
       "    <tr>\n",
       "      <th>37</th>\n",
       "      <td>Iris-setosa</td>\n",
       "      <td>1.6</td>\n",
       "      <td>0.2</td>\n",
       "      <td>4.7</td>\n",
       "      <td>3.2</td>\n",
       "      <td>Iris-setosa</td>\n",
       "    </tr>\n",
       "    <tr>\n",
       "      <th>38</th>\n",
       "      <td>Iris-setosa</td>\n",
       "      <td>1.6</td>\n",
       "      <td>0.2</td>\n",
       "      <td>4.8</td>\n",
       "      <td>3.1</td>\n",
       "      <td>Iris-setosa</td>\n",
       "    </tr>\n",
       "    <tr>\n",
       "      <th>39</th>\n",
       "      <td>Iris-setosa</td>\n",
       "      <td>1.5</td>\n",
       "      <td>0.1</td>\n",
       "      <td>4.9</td>\n",
       "      <td>3.1</td>\n",
       "      <td>Iris-setosa</td>\n",
       "    </tr>\n",
       "    <tr>\n",
       "      <th>40</th>\n",
       "      <td>Iris-setosa</td>\n",
       "      <td>1.2</td>\n",
       "      <td>0.2</td>\n",
       "      <td>5.0</td>\n",
       "      <td>3.2</td>\n",
       "      <td>Iris-setosa</td>\n",
       "    </tr>\n",
       "    <tr>\n",
       "      <th>41</th>\n",
       "      <td>Iris-setosa</td>\n",
       "      <td>1.3</td>\n",
       "      <td>0.2</td>\n",
       "      <td>4.4</td>\n",
       "      <td>3.0</td>\n",
       "      <td>Iris-setosa</td>\n",
       "    </tr>\n",
       "    <tr>\n",
       "      <th>42</th>\n",
       "      <td>Iris-setosa</td>\n",
       "      <td>1.3</td>\n",
       "      <td>0.3</td>\n",
       "      <td>5.0</td>\n",
       "      <td>3.5</td>\n",
       "      <td>Iris-setosa</td>\n",
       "    </tr>\n",
       "    <tr>\n",
       "      <th>43</th>\n",
       "      <td>Iris-setosa</td>\n",
       "      <td>1.3</td>\n",
       "      <td>0.3</td>\n",
       "      <td>4.5</td>\n",
       "      <td>2.3</td>\n",
       "      <td>Iris-setosa</td>\n",
       "    </tr>\n",
       "    <tr>\n",
       "      <th>44</th>\n",
       "      <td>Iris-setosa</td>\n",
       "      <td>1.5</td>\n",
       "      <td>0.2</td>\n",
       "      <td>5.3</td>\n",
       "      <td>3.7</td>\n",
       "      <td>Iris-setosa</td>\n",
       "    </tr>\n",
       "  </tbody>\n",
       "</table>\n",
       "</div>"
      ],
      "text/plain": [
       "              class  petal_length  petal_width  sepal_length  sepal_width  \\\n",
       "0    Iris-virginica           6.6          2.1           7.6          3.0   \n",
       "1    Iris-virginica           6.3          1.8           7.3          2.9   \n",
       "2    Iris-virginica           5.5          2.1           6.8          3.0   \n",
       "3    Iris-virginica           5.1          2.4           5.8          2.8   \n",
       "4    Iris-virginica           5.3          2.3           6.4          3.2   \n",
       "5    Iris-virginica           6.7          2.2           7.7          3.8   \n",
       "6    Iris-virginica           4.9          2.0           5.6          2.8   \n",
       "7    Iris-virginica           4.9          1.8           6.3          2.7   \n",
       "8    Iris-virginica           4.9          1.8           6.1          3.0   \n",
       "9    Iris-virginica           5.8          1.6           7.2          3.0   \n",
       "10   Iris-virginica           6.4          2.0           7.9          3.8   \n",
       "11   Iris-virginica           5.6          2.2           6.4          2.8   \n",
       "12   Iris-virginica           5.4          2.1           6.9          3.1   \n",
       "13   Iris-virginica           5.6          2.4           6.7          3.1   \n",
       "14   Iris-virginica           5.1          1.8           5.9          3.0   \n",
       "15  Iris-versicolor           4.0          1.3           5.5          2.3   \n",
       "16  Iris-versicolor           4.5          1.3           5.7          2.8   \n",
       "17  Iris-versicolor           4.6          1.3           6.6          2.9   \n",
       "18  Iris-versicolor           3.9          1.4           5.2          2.7   \n",
       "19  Iris-versicolor           4.2          1.5           5.9          3.0   \n",
       "20  Iris-versicolor           4.5          1.5           5.6          3.0   \n",
       "21  Iris-versicolor           4.7          1.2           6.1          2.8   \n",
       "22  Iris-versicolor           4.3          1.3           6.4          2.9   \n",
       "23  Iris-versicolor           3.9          1.2           5.8          2.7   \n",
       "24  Iris-versicolor           4.7          1.5           6.7          3.1   \n",
       "25  Iris-versicolor           4.4          1.3           6.3          2.3   \n",
       "26  Iris-versicolor           4.0          1.3           5.5          2.5   \n",
       "27  Iris-versicolor           4.6          1.4           6.1          3.0   \n",
       "28  Iris-versicolor           4.0          1.2           5.8          2.6   \n",
       "29  Iris-versicolor           4.3          1.3           6.2          2.9   \n",
       "30      Iris-setosa           1.4          0.2           5.1          3.5   \n",
       "31      Iris-setosa           1.7          0.4           5.4          3.9   \n",
       "32      Iris-setosa           1.4          0.3           4.6          3.4   \n",
       "33      Iris-setosa           1.1          0.1           4.3          3.0   \n",
       "34      Iris-setosa           1.2          0.2           5.8          4.0   \n",
       "35      Iris-setosa           1.7          0.2           5.4          3.4   \n",
       "36      Iris-setosa           1.7          0.5           5.1          3.3   \n",
       "37      Iris-setosa           1.6          0.2           4.7          3.2   \n",
       "38      Iris-setosa           1.6          0.2           4.8          3.1   \n",
       "39      Iris-setosa           1.5          0.1           4.9          3.1   \n",
       "40      Iris-setosa           1.2          0.2           5.0          3.2   \n",
       "41      Iris-setosa           1.3          0.2           4.4          3.0   \n",
       "42      Iris-setosa           1.3          0.3           5.0          3.5   \n",
       "43      Iris-setosa           1.3          0.3           4.5          2.3   \n",
       "44      Iris-setosa           1.5          0.2           5.3          3.7   \n",
       "\n",
       "        predictions  \n",
       "0    Iris-virginica  \n",
       "1    Iris-virginica  \n",
       "2    Iris-virginica  \n",
       "3    Iris-virginica  \n",
       "4    Iris-virginica  \n",
       "5    Iris-virginica  \n",
       "6    Iris-virginica  \n",
       "7    Iris-virginica  \n",
       "8    Iris-virginica  \n",
       "9    Iris-virginica  \n",
       "10   Iris-virginica  \n",
       "11   Iris-virginica  \n",
       "12   Iris-virginica  \n",
       "13   Iris-virginica  \n",
       "14   Iris-virginica  \n",
       "15  Iris-versicolor  \n",
       "16  Iris-versicolor  \n",
       "17  Iris-versicolor  \n",
       "18  Iris-versicolor  \n",
       "19  Iris-versicolor  \n",
       "20  Iris-versicolor  \n",
       "21  Iris-versicolor  \n",
       "22  Iris-versicolor  \n",
       "23  Iris-versicolor  \n",
       "24  Iris-versicolor  \n",
       "25  Iris-versicolor  \n",
       "26  Iris-versicolor  \n",
       "27  Iris-versicolor  \n",
       "28  Iris-versicolor  \n",
       "29  Iris-versicolor  \n",
       "30      Iris-setosa  \n",
       "31      Iris-setosa  \n",
       "32      Iris-setosa  \n",
       "33      Iris-setosa  \n",
       "34      Iris-setosa  \n",
       "35      Iris-setosa  \n",
       "36      Iris-setosa  \n",
       "37      Iris-setosa  \n",
       "38      Iris-setosa  \n",
       "39      Iris-setosa  \n",
       "40      Iris-setosa  \n",
       "41      Iris-setosa  \n",
       "42      Iris-setosa  \n",
       "43      Iris-setosa  \n",
       "44      Iris-setosa  "
      ]
     },
     "execution_count": 74,
     "metadata": {},
     "output_type": "execute_result"
    }
   ],
   "source": [
    "test"
   ]
  },
  {
   "cell_type": "code",
   "execution_count": 75,
   "metadata": {},
   "outputs": [],
   "source": [
    "import pandas as pd\n",
    "from mlxtend.preprocessing import TransactionEncoder\n",
    "from mlxtend.frequent_patterns import apriori\n",
    "\n",
    "dataset = [['Milk', 'Onion', 'Nutmeg', 'Kidney Beans', 'Eggs', 'Yogurt'],\n",
    "           ['Dill', 'Onion', 'Nutmeg', 'Kidney Beans', 'Eggs', 'Yogurt'],\n",
    "           ['Milk', 'Apple', 'Kidney Beans', 'Eggs'],\n",
    "           ['Milk', 'Unicorn', 'Corn', 'Kidney Beans', 'Yogurt'],\n",
    "           ['Corn', 'Onion', 'Onion', 'Kidney Beans', 'Ice cream', 'Eggs']]"
   ]
  },
  {
   "cell_type": "code",
   "execution_count": 76,
   "metadata": {},
   "outputs": [
    {
     "data": {
      "text/plain": [
       "[['Milk', 'Onion', 'Nutmeg', 'Kidney Beans', 'Eggs', 'Yogurt'],\n",
       " ['Dill', 'Onion', 'Nutmeg', 'Kidney Beans', 'Eggs', 'Yogurt'],\n",
       " ['Milk', 'Apple', 'Kidney Beans', 'Eggs'],\n",
       " ['Milk', 'Unicorn', 'Corn', 'Kidney Beans', 'Yogurt'],\n",
       " ['Corn', 'Onion', 'Onion', 'Kidney Beans', 'Ice cream', 'Eggs']]"
      ]
     },
     "execution_count": 76,
     "metadata": {},
     "output_type": "execute_result"
    }
   ],
   "source": [
    "dataset"
   ]
  },
  {
   "cell_type": "code",
   "execution_count": 77,
   "metadata": {},
   "outputs": [],
   "source": [
    "te = TransactionEncoder()\n",
    "te_ary = te.fit(dataset).transform(dataset)\n",
    "df = pd.DataFrame(te_ary, columns=te.columns_)\n"
   ]
  },
  {
   "cell_type": "code",
   "execution_count": 79,
   "metadata": {},
   "outputs": [
    {
     "data": {
      "text/html": [
       "<div>\n",
       "<style scoped>\n",
       "    .dataframe tbody tr th:only-of-type {\n",
       "        vertical-align: middle;\n",
       "    }\n",
       "\n",
       "    .dataframe tbody tr th {\n",
       "        vertical-align: top;\n",
       "    }\n",
       "\n",
       "    .dataframe thead th {\n",
       "        text-align: right;\n",
       "    }\n",
       "</style>\n",
       "<table border=\"1\" class=\"dataframe\">\n",
       "  <thead>\n",
       "    <tr style=\"text-align: right;\">\n",
       "      <th></th>\n",
       "      <th>Apple</th>\n",
       "      <th>Corn</th>\n",
       "      <th>Dill</th>\n",
       "      <th>Eggs</th>\n",
       "      <th>Ice cream</th>\n",
       "      <th>Kidney Beans</th>\n",
       "      <th>Milk</th>\n",
       "      <th>Nutmeg</th>\n",
       "      <th>Onion</th>\n",
       "      <th>Unicorn</th>\n",
       "      <th>Yogurt</th>\n",
       "    </tr>\n",
       "  </thead>\n",
       "  <tbody>\n",
       "    <tr>\n",
       "      <th>0</th>\n",
       "      <td>False</td>\n",
       "      <td>False</td>\n",
       "      <td>False</td>\n",
       "      <td>True</td>\n",
       "      <td>False</td>\n",
       "      <td>True</td>\n",
       "      <td>True</td>\n",
       "      <td>True</td>\n",
       "      <td>True</td>\n",
       "      <td>False</td>\n",
       "      <td>True</td>\n",
       "    </tr>\n",
       "    <tr>\n",
       "      <th>1</th>\n",
       "      <td>False</td>\n",
       "      <td>False</td>\n",
       "      <td>True</td>\n",
       "      <td>True</td>\n",
       "      <td>False</td>\n",
       "      <td>True</td>\n",
       "      <td>False</td>\n",
       "      <td>True</td>\n",
       "      <td>True</td>\n",
       "      <td>False</td>\n",
       "      <td>True</td>\n",
       "    </tr>\n",
       "    <tr>\n",
       "      <th>2</th>\n",
       "      <td>True</td>\n",
       "      <td>False</td>\n",
       "      <td>False</td>\n",
       "      <td>True</td>\n",
       "      <td>False</td>\n",
       "      <td>True</td>\n",
       "      <td>True</td>\n",
       "      <td>False</td>\n",
       "      <td>False</td>\n",
       "      <td>False</td>\n",
       "      <td>False</td>\n",
       "    </tr>\n",
       "    <tr>\n",
       "      <th>3</th>\n",
       "      <td>False</td>\n",
       "      <td>True</td>\n",
       "      <td>False</td>\n",
       "      <td>False</td>\n",
       "      <td>False</td>\n",
       "      <td>True</td>\n",
       "      <td>True</td>\n",
       "      <td>False</td>\n",
       "      <td>False</td>\n",
       "      <td>True</td>\n",
       "      <td>True</td>\n",
       "    </tr>\n",
       "    <tr>\n",
       "      <th>4</th>\n",
       "      <td>False</td>\n",
       "      <td>True</td>\n",
       "      <td>False</td>\n",
       "      <td>True</td>\n",
       "      <td>True</td>\n",
       "      <td>True</td>\n",
       "      <td>False</td>\n",
       "      <td>False</td>\n",
       "      <td>True</td>\n",
       "      <td>False</td>\n",
       "      <td>False</td>\n",
       "    </tr>\n",
       "  </tbody>\n",
       "</table>\n",
       "</div>"
      ],
      "text/plain": [
       "   Apple   Corn   Dill   Eggs  Ice cream  Kidney Beans   Milk  Nutmeg  Onion  \\\n",
       "0  False  False  False   True      False          True   True    True   True   \n",
       "1  False  False   True   True      False          True  False    True   True   \n",
       "2   True  False  False   True      False          True   True   False  False   \n",
       "3  False   True  False  False      False          True   True   False  False   \n",
       "4  False   True  False   True       True          True  False   False   True   \n",
       "\n",
       "   Unicorn  Yogurt  \n",
       "0    False    True  \n",
       "1    False    True  \n",
       "2    False   False  \n",
       "3     True    True  \n",
       "4    False   False  "
      ]
     },
     "execution_count": 79,
     "metadata": {},
     "output_type": "execute_result"
    }
   ],
   "source": [
    "df"
   ]
  },
  {
   "cell_type": "code",
   "execution_count": 87,
   "metadata": {},
   "outputs": [],
   "source": [
    "frequent_itemsets = apriori(df, min_support=0.5, use_colnames=True)\n"
   ]
  },
  {
   "cell_type": "code",
   "execution_count": 88,
   "metadata": {},
   "outputs": [
    {
     "data": {
      "text/html": [
       "<div>\n",
       "<style scoped>\n",
       "    .dataframe tbody tr th:only-of-type {\n",
       "        vertical-align: middle;\n",
       "    }\n",
       "\n",
       "    .dataframe tbody tr th {\n",
       "        vertical-align: top;\n",
       "    }\n",
       "\n",
       "    .dataframe thead th {\n",
       "        text-align: right;\n",
       "    }\n",
       "</style>\n",
       "<table border=\"1\" class=\"dataframe\">\n",
       "  <thead>\n",
       "    <tr style=\"text-align: right;\">\n",
       "      <th></th>\n",
       "      <th>support</th>\n",
       "      <th>itemsets</th>\n",
       "    </tr>\n",
       "  </thead>\n",
       "  <tbody>\n",
       "    <tr>\n",
       "      <th>0</th>\n",
       "      <td>0.8</td>\n",
       "      <td>(Eggs)</td>\n",
       "    </tr>\n",
       "    <tr>\n",
       "      <th>1</th>\n",
       "      <td>1.0</td>\n",
       "      <td>(Kidney Beans)</td>\n",
       "    </tr>\n",
       "    <tr>\n",
       "      <th>2</th>\n",
       "      <td>0.6</td>\n",
       "      <td>(Milk)</td>\n",
       "    </tr>\n",
       "    <tr>\n",
       "      <th>3</th>\n",
       "      <td>0.6</td>\n",
       "      <td>(Onion)</td>\n",
       "    </tr>\n",
       "    <tr>\n",
       "      <th>4</th>\n",
       "      <td>0.6</td>\n",
       "      <td>(Yogurt)</td>\n",
       "    </tr>\n",
       "    <tr>\n",
       "      <th>5</th>\n",
       "      <td>0.8</td>\n",
       "      <td>(Kidney Beans, Eggs)</td>\n",
       "    </tr>\n",
       "    <tr>\n",
       "      <th>6</th>\n",
       "      <td>0.6</td>\n",
       "      <td>(Eggs, Onion)</td>\n",
       "    </tr>\n",
       "    <tr>\n",
       "      <th>7</th>\n",
       "      <td>0.6</td>\n",
       "      <td>(Milk, Kidney Beans)</td>\n",
       "    </tr>\n",
       "    <tr>\n",
       "      <th>8</th>\n",
       "      <td>0.6</td>\n",
       "      <td>(Kidney Beans, Onion)</td>\n",
       "    </tr>\n",
       "    <tr>\n",
       "      <th>9</th>\n",
       "      <td>0.6</td>\n",
       "      <td>(Yogurt, Kidney Beans)</td>\n",
       "    </tr>\n",
       "    <tr>\n",
       "      <th>10</th>\n",
       "      <td>0.6</td>\n",
       "      <td>(Kidney Beans, Eggs, Onion)</td>\n",
       "    </tr>\n",
       "  </tbody>\n",
       "</table>\n",
       "</div>"
      ],
      "text/plain": [
       "    support                     itemsets\n",
       "0       0.8                       (Eggs)\n",
       "1       1.0               (Kidney Beans)\n",
       "2       0.6                       (Milk)\n",
       "3       0.6                      (Onion)\n",
       "4       0.6                     (Yogurt)\n",
       "5       0.8         (Kidney Beans, Eggs)\n",
       "6       0.6                (Eggs, Onion)\n",
       "7       0.6         (Milk, Kidney Beans)\n",
       "8       0.6        (Kidney Beans, Onion)\n",
       "9       0.6       (Yogurt, Kidney Beans)\n",
       "10      0.6  (Kidney Beans, Eggs, Onion)"
      ]
     },
     "execution_count": 88,
     "metadata": {},
     "output_type": "execute_result"
    }
   ],
   "source": [
    "frequent_itemsets"
   ]
  },
  {
   "cell_type": "code",
   "execution_count": null,
   "metadata": {},
   "outputs": [],
   "source": []
||||||| 5ffaec5... updated on 25/7/18 from 19/7/18
=======
  },
  {
   "cell_type": "code",
   "execution_count": 1,
   "metadata": {},
   "outputs": [],
   "source": [
    "#14-7-18"
   ]
  },
  {
   "cell_type": "code",
   "execution_count": 2,
   "metadata": {},
   "outputs": [],
   "source": [
    "name = \"apple\""
   ]
  },
  {
   "cell_type": "code",
   "execution_count": 3,
   "metadata": {},
   "outputs": [
    {
     "data": {
      "text/plain": [
       "'Apple'"
      ]
     },
     "execution_count": 3,
     "metadata": {},
     "output_type": "execute_result"
    }
   ],
   "source": [
    "name.capitalize()"
   ]
  },
  {
   "cell_type": "code",
   "execution_count": 5,
   "metadata": {},
   "outputs": [
    {
     "data": {
      "text/plain": [
       "1"
      ]
     },
     "execution_count": 5,
     "metadata": {},
     "output_type": "execute_result"
    }
   ],
   "source": [
    "name.count('e')"
   ]
  },
  {
   "cell_type": "code",
   "execution_count": 7,
   "metadata": {},
   "outputs": [
    {
     "data": {
      "text/plain": [
       "b'apple'"
      ]
     },
     "execution_count": 7,
     "metadata": {},
     "output_type": "execute_result"
    }
   ],
   "source": [
    "name.encode(\"utf8\")"
   ]
  },
  {
   "cell_type": "code",
   "execution_count": 10,
   "metadata": {},
   "outputs": [
    {
     "data": {
      "text/plain": [
       "False"
      ]
     },
     "execution_count": 10,
     "metadata": {},
     "output_type": "execute_result"
    }
   ],
   "source": [
    "name.endswith('.txt')"
   ]
  },
  {
   "cell_type": "code",
   "execution_count": 11,
   "metadata": {},
   "outputs": [
    {
     "data": {
      "text/plain": [
       "3"
      ]
     },
     "execution_count": 11,
     "metadata": {},
     "output_type": "execute_result"
    }
   ],
   "source": [
    "name.find('l')"
   ]
  },
  {
   "cell_type": "code",
   "execution_count": 12,
   "metadata": {},
   "outputs": [
    {
     "data": {
      "text/plain": [
       "'ple'"
      ]
     },
     "execution_count": 12,
     "metadata": {},
     "output_type": "execute_result"
    }
   ],
   "source": [
    "name[2:]"
   ]
  },
  {
   "cell_type": "code",
   "execution_count": 14,
   "metadata": {},
   "outputs": [
    {
     "data": {
      "text/plain": [
       "'app'"
      ]
     },
     "execution_count": 14,
     "metadata": {},
     "output_type": "execute_result"
    }
   ],
   "source": [
    "name[:3]"
   ]
  },
  {
   "cell_type": "code",
   "execution_count": 15,
   "metadata": {},
   "outputs": [
    {
     "data": {
      "text/plain": [
       "'ppl'"
      ]
     },
     "execution_count": 15,
     "metadata": {},
     "output_type": "execute_result"
    }
   ],
   "source": [
    "name[1:4]"
   ]
  },
  {
   "cell_type": "code",
   "execution_count": 16,
   "metadata": {},
   "outputs": [],
   "source": [
    "name = \"elephant\""
   ]
  },
  {
   "cell_type": "code",
   "execution_count": 17,
   "metadata": {},
   "outputs": [
    {
     "data": {
      "text/plain": [
       "'lp'"
      ]
     },
     "execution_count": 17,
     "metadata": {},
     "output_type": "execute_result"
    }
   ],
   "source": [
    "name[1:5:2]"
   ]
  },
  {
   "cell_type": "code",
   "execution_count": 18,
   "metadata": {},
   "outputs": [
    {
     "data": {
      "text/plain": [
       "'leph'"
      ]
     },
     "execution_count": 18,
     "metadata": {},
     "output_type": "execute_result"
    }
   ],
   "source": [
    "name[1:5]"
   ]
  },
  {
   "cell_type": "code",
   "execution_count": 19,
   "metadata": {},
   "outputs": [
    {
     "data": {
      "text/plain": [
       "'tnahpele'"
      ]
     },
     "execution_count": 19,
     "metadata": {},
     "output_type": "execute_result"
    }
   ],
   "source": [
    "name[::-1]"
   ]
  },
  {
   "cell_type": "code",
   "execution_count": 22,
   "metadata": {},
   "outputs": [
    {
     "data": {
      "text/plain": [
       "'phan'"
      ]
     },
     "execution_count": 22,
     "metadata": {},
     "output_type": "execute_result"
    }
   ],
   "source": [
    "name[-5:-1]"
   ]
  },
  {
   "cell_type": "code",
   "execution_count": 24,
   "metadata": {},
   "outputs": [
    {
     "data": {
      "text/plain": [
       "3"
      ]
     },
     "execution_count": 24,
     "metadata": {},
     "output_type": "execute_result"
    }
   ],
   "source": [
    "name.index('p')"
   ]
  },
  {
   "cell_type": "code",
   "execution_count": 25,
   "metadata": {},
   "outputs": [
    {
     "data": {
      "text/plain": [
       "True"
      ]
     },
     "execution_count": 25,
     "metadata": {},
     "output_type": "execute_result"
    }
   ],
   "source": [
    "name.isalnum()"
   ]
  },
  {
   "cell_type": "code",
   "execution_count": 26,
   "metadata": {},
   "outputs": [
    {
     "data": {
      "text/plain": [
       "False"
      ]
     },
     "execution_count": 26,
     "metadata": {},
     "output_type": "execute_result"
    }
   ],
   "source": [
    "name.isdigit()"
   ]
  },
  {
   "cell_type": "code",
   "execution_count": 27,
   "metadata": {},
   "outputs": [
    {
     "data": {
      "text/plain": [
       "True"
      ]
     },
     "execution_count": 27,
     "metadata": {},
     "output_type": "execute_result"
    }
   ],
   "source": [
    "name.islower()"
   ]
  },
  {
   "cell_type": "code",
   "execution_count": 28,
   "metadata": {},
   "outputs": [
    {
     "data": {
      "text/plain": [
       "False"
      ]
     },
     "execution_count": 28,
     "metadata": {},
     "output_type": "execute_result"
    }
   ],
   "source": [
    "name.isupper()"
   ]
  },
  {
   "cell_type": "code",
   "execution_count": 29,
   "metadata": {},
   "outputs": [],
   "source": [
    "f= ' '"
   ]
  },
  {
   "cell_type": "code",
   "execution_count": 30,
   "metadata": {},
   "outputs": [
    {
     "data": {
      "text/plain": [
       "True"
      ]
     },
     "execution_count": 30,
     "metadata": {},
     "output_type": "execute_result"
    }
   ],
   "source": [
    "f.isspace()"
   ]
  },
  {
   "cell_type": "code",
   "execution_count": 31,
   "metadata": {},
   "outputs": [
    {
     "data": {
      "text/plain": [
       "'ELEPHANT'"
      ]
     },
     "execution_count": 31,
     "metadata": {},
     "output_type": "execute_result"
    }
   ],
   "source": [
    "name.upper()"
   ]
  },
  {
   "cell_type": "code",
   "execution_count": 32,
   "metadata": {},
   "outputs": [
    {
     "data": {
      "text/plain": [
       "'ELEPHANT'"
      ]
     },
     "execution_count": 32,
     "metadata": {},
     "output_type": "execute_result"
    }
   ],
   "source": [
    "name.swapcase()"
   ]
  },
  {
   "cell_type": "code",
   "execution_count": 33,
   "metadata": {},
   "outputs": [],
   "source": [
    "f=\"ApPlE\""
   ]
  },
  {
   "cell_type": "code",
   "execution_count": 34,
   "metadata": {},
   "outputs": [
    {
     "data": {
      "text/plain": [
       "'aPpLe'"
      ]
     },
     "execution_count": 34,
     "metadata": {},
     "output_type": "execute_result"
    }
   ],
   "source": [
    "f.swapcase()"
   ]
  },
  {
   "cell_type": "code",
   "execution_count": 35,
   "metadata": {},
   "outputs": [
    {
     "data": {
      "text/plain": [
       "True"
      ]
     },
     "execution_count": 35,
     "metadata": {},
     "output_type": "execute_result"
    }
   ],
   "source": [
    "name.startswith(\"el\")"
   ]
  },
  {
   "cell_type": "code",
   "execution_count": 36,
   "metadata": {},
   "outputs": [],
   "source": [
    "name = \" mango \""
   ]
  },
  {
   "cell_type": "code",
   "execution_count": 37,
   "metadata": {},
   "outputs": [
    {
     "data": {
      "text/plain": [
       "' mango '"
      ]
     },
     "execution_count": 37,
     "metadata": {},
     "output_type": "execute_result"
    }
   ],
   "source": [
    "name"
   ]
  },
  {
   "cell_type": "code",
   "execution_count": 38,
   "metadata": {},
   "outputs": [
    {
     "data": {
      "text/plain": [
       "' mango'"
      ]
     },
     "execution_count": 38,
     "metadata": {},
     "output_type": "execute_result"
    }
   ],
   "source": [
    "name.rstrip()"
   ]
  },
  {
   "cell_type": "code",
   "execution_count": 39,
   "metadata": {},
   "outputs": [
    {
     "data": {
      "text/plain": [
       "'mango '"
      ]
     },
     "execution_count": 39,
     "metadata": {},
     "output_type": "execute_result"
    }
   ],
   "source": [
    "name.lstrip()"
   ]
  },
  {
   "cell_type": "code",
   "execution_count": 40,
   "metadata": {},
   "outputs": [
    {
     "data": {
      "text/plain": [
       "'mango'"
      ]
     },
     "execution_count": 40,
     "metadata": {},
     "output_type": "execute_result"
    }
   ],
   "source": [
    "name.strip()"
   ]
  },
  {
   "cell_type": "code",
   "execution_count": 41,
   "metadata": {},
   "outputs": [],
   "source": [
    "sent = \"elephant is an animal\""
   ]
  },
  {
   "cell_type": "code",
   "execution_count": 55,
   "metadata": {},
   "outputs": [
    {
     "name": "stdout",
     "output_type": "stream",
     "text": [
      "['eleph', 't is ', ' ', 'imal']\n"
     ]
    }
   ],
   "source": [
    "d =sent.split(\"an\")\n",
    "\n",
    "print(d)"
   ]
  },
  {
   "cell_type": "code",
   "execution_count": 56,
   "metadata": {},
   "outputs": [],
   "source": [
    "g=\"an\".join(d)"
   ]
  },
  {
   "cell_type": "code",
   "execution_count": null,
   "metadata": {},
   "outputs": [],
   "source": []
  },
  {
   "cell_type": "markdown",
   "metadata": {},
   "source": [
    "\"Elephant is an animal .\" -> \". animal an is Elephant\""
   ]
  },
  {
   "cell_type": "code",
   "execution_count": 59,
   "metadata": {},
   "outputs": [],
   "source": [
    "d = \" \".join(g.split()[::-1])"
   ]
  },
  {
   "cell_type": "code",
   "execution_count": 68,
   "metadata": {},
   "outputs": [
    {
     "data": {
      "text/plain": [
       "'animal an is elephant'"
      ]
     },
     "execution_count": 68,
     "metadata": {},
     "output_type": "execute_result"
    }
   ],
   "source": [
    "\" \".join(g.split()[::-1])"
   ]
  },
  {
   "cell_type": "code",
   "execution_count": 70,
   "metadata": {},
   "outputs": [
    {
     "data": {
      "text/plain": [
       "['animal', '.']"
      ]
     },
     "execution_count": 70,
     "metadata": {},
     "output_type": "execute_result"
    }
   ],
   "source": [
    "\"animal .\".split()"
   ]
  },
  {
   "cell_type": "code",
   "execution_count": 71,
   "metadata": {},
   "outputs": [],
   "source": [
    "#list\n",
    "l = []"
   ]
  },
  {
   "cell_type": "code",
   "execution_count": 72,
   "metadata": {},
   "outputs": [],
   "source": [
    "ll = [1,\"a\",\"apple\",2,\"b\",\"ball\",3,'c','cat']"
   ]
  },
  {
   "cell_type": "code",
   "execution_count": 75,
   "metadata": {},
   "outputs": [
    {
     "data": {
      "text/plain": [
       "['cat', 'c', 3, 'ball', 'b', 2, 'apple', 'a', 1]"
      ]
     },
     "execution_count": 75,
     "metadata": {},
     "output_type": "execute_result"
    }
   ],
   "source": [
    "ll[::-1]"
   ]
  },
  {
   "cell_type": "code",
   "execution_count": 78,
   "metadata": {},
   "outputs": [],
   "source": [
    "ll.reverse()"
   ]
  },
  {
   "cell_type": "code",
   "execution_count": 82,
   "metadata": {},
   "outputs": [],
   "source": [
    "ll[4]=\"bat\""
   ]
  },
  {
   "cell_type": "code",
   "execution_count": 83,
   "metadata": {},
   "outputs": [
    {
     "data": {
      "text/plain": [
       "[1, 'a', 'apple', 2, 'bat', 'ball', 3, 'c', 'cat']"
      ]
     },
     "execution_count": 83,
     "metadata": {},
     "output_type": "execute_result"
    }
   ],
   "source": [
    "ll"
   ]
  },
  {
   "cell_type": "code",
   "execution_count": 84,
   "metadata": {},
   "outputs": [
    {
     "data": {
      "text/plain": [
       "6"
      ]
     },
     "execution_count": 84,
     "metadata": {},
     "output_type": "execute_result"
    }
   ],
   "source": [
    "ll.index(3)"
   ]
  },
  {
   "cell_type": "code",
   "execution_count": 85,
   "metadata": {},
   "outputs": [],
   "source": [
    "del ll[6]"
   ]
  },
  {
   "cell_type": "code",
   "execution_count": 86,
   "metadata": {},
   "outputs": [
    {
     "data": {
      "text/plain": [
       "[1, 'a', 'apple', 2, 'bat', 'ball', 'c', 'cat']"
      ]
     },
     "execution_count": 86,
     "metadata": {},
     "output_type": "execute_result"
    }
   ],
   "source": [
    "ll"
   ]
  },
  {
   "cell_type": "code",
   "execution_count": 94,
   "metadata": {},
   "outputs": [],
   "source": [
    "ll.append('dog')"
   ]
  },
  {
   "cell_type": "code",
   "execution_count": 95,
   "metadata": {},
   "outputs": [
    {
     "data": {
      "text/plain": [
       "[1, 'a', 'apple', 2, 'bat', 'ball', 'c', 'cat', 'dog', 'dog']"
      ]
     },
     "execution_count": 95,
     "metadata": {},
     "output_type": "execute_result"
    }
   ],
   "source": [
    "ll"
   ]
  },
  {
   "cell_type": "code",
   "execution_count": 90,
   "metadata": {},
   "outputs": [],
   "source": [
    "l.append(\"mango\")"
   ]
  },
  {
   "cell_type": "code",
   "execution_count": 96,
   "metadata": {},
   "outputs": [
    {
     "data": {
      "text/plain": [
       "'dog'"
      ]
     },
     "execution_count": 96,
     "metadata": {},
     "output_type": "execute_result"
    }
   ],
   "source": [
    "ll.pop()"
   ]
  },
  {
   "cell_type": "code",
   "execution_count": 97,
   "metadata": {},
   "outputs": [
    {
     "data": {
      "text/plain": [
       "[1, 'a', 'apple', 2, 'bat', 'ball', 'c', 'cat', 'dog']"
      ]
     },
     "execution_count": 97,
     "metadata": {},
     "output_type": "execute_result"
    }
   ],
   "source": [
    "ll"
   ]
  },
  {
   "cell_type": "code",
   "execution_count": 99,
   "metadata": {},
   "outputs": [],
   "source": [
    "ll.insert(4,\"mango\")"
   ]
  },
  {
   "cell_type": "code",
   "execution_count": 100,
   "metadata": {},
   "outputs": [
    {
     "data": {
      "text/plain": [
       "[1, 'a', 'apple', 2, 'mango', 'bat', 'ball', 'c', 'cat', 'dog']"
      ]
     },
     "execution_count": 100,
     "metadata": {},
     "output_type": "execute_result"
    }
   ],
   "source": [
    "ll"
   ]
  },
  {
   "cell_type": "code",
   "execution_count": 101,
   "metadata": {},
   "outputs": [],
   "source": [
    "ll.remove(2)"
   ]
  },
  {
   "cell_type": "code",
   "execution_count": 103,
   "metadata": {},
   "outputs": [
    {
     "data": {
      "text/plain": [
       "1"
      ]
     },
     "execution_count": 103,
     "metadata": {},
     "output_type": "execute_result"
    }
   ],
   "source": [
    "ll.count(\"a\")"
   ]
  },
  {
   "cell_type": "code",
   "execution_count": 104,
   "metadata": {},
   "outputs": [],
   "source": [
    "ll.extend(\"cat\")"
   ]
  },
  {
   "cell_type": "code",
   "execution_count": 108,
   "metadata": {},
   "outputs": [
    {
     "data": {
      "text/plain": [
       "'c'"
      ]
     },
     "execution_count": 108,
     "metadata": {},
     "output_type": "execute_result"
    }
   ],
   "source": [
    "ll.pop()"
   ]
  },
  {
   "cell_type": "code",
   "execution_count": 109,
   "metadata": {},
   "outputs": [
    {
     "data": {
      "text/plain": [
       "[1, 'a', 'apple', 'mango', 'bat', 'ball', 'c', 'cat', 'dog']"
      ]
     },
     "execution_count": 109,
     "metadata": {},
     "output_type": "execute_result"
    }
   ],
   "source": [
    "ll"
   ]
  },
  {
   "cell_type": "code",
   "execution_count": 111,
   "metadata": {},
   "outputs": [
    {
     "data": {
      "text/plain": [
       "[1, 'a', 'apple', 'mango', 'bat', 'ball', 'c', 'cat', 'dog']"
      ]
     },
     "execution_count": 111,
     "metadata": {},
     "output_type": "execute_result"
    }
   ],
   "source": [
    "ll"
   ]
  },
  {
   "cell_type": "code",
   "execution_count": 115,
   "metadata": {},
   "outputs": [
    {
     "name": "stdout",
     "output_type": "stream",
     "text": [
      "0\n",
      "1\n",
      "2\n",
      "3\n",
      "4\n",
      "5\n",
      "6\n",
      "7\n",
      "8\n"
     ]
    }
   ],
   "source": [
    "for i in range(len(ll)):\n",
    "    print(i)"
   ]
  },
  {
   "cell_type": "code",
   "execution_count": 116,
   "metadata": {},
   "outputs": [
    {
     "data": {
      "text/plain": [
       "9"
      ]
     },
     "execution_count": 116,
     "metadata": {},
     "output_type": "execute_result"
    }
   ],
   "source": [
    "len(ll)"
   ]
  },
  {
   "cell_type": "code",
   "execution_count": 125,
   "metadata": {},
   "outputs": [
    {
     "name": "stdout",
     "output_type": "stream",
     "text": [
      "1\n",
      "a\n",
      "apple\n",
      "mango\n",
      "bat\n",
      "ball\n",
      "c\n",
      "cat\n",
      "dog\n"
     ]
    }
   ],
   "source": [
    "for j in ll:\n",
    "    print(j)"
   ]
  },
  {
   "cell_type": "code",
   "execution_count": 123,
   "metadata": {},
   "outputs": [
    {
     "data": {
      "text/plain": [
       "True"
      ]
     },
     "execution_count": 123,
     "metadata": {},
     "output_type": "execute_result"
    }
   ],
   "source": [
    "\"5\".isdigit()"
   ]
  },
  {
   "cell_type": "code",
   "execution_count": 126,
   "metadata": {},
   "outputs": [],
   "source": [
    "t =(\"Monday\",\"Tuesday\",\"Wednesday\",\"Thursday\",\"Friday\") "
   ]
  },
  {
   "cell_type": "code",
   "execution_count": 129,
   "metadata": {},
   "outputs": [
    {
     "ename": "TypeError",
     "evalue": "'tuple' object does not support item assignment",
     "output_type": "error",
     "traceback": [
      "\u001b[0;31m---------------------------------------------------------------------------\u001b[0m",
      "\u001b[0;31mTypeError\u001b[0m                                 Traceback (most recent call last)",
      "\u001b[0;32m<ipython-input-129-6f978e8874f4>\u001b[0m in \u001b[0;36m<module>\u001b[0;34m()\u001b[0m\n\u001b[0;32m----> 1\u001b[0;31m \u001b[0mt\u001b[0m\u001b[0;34m[\u001b[0m\u001b[0;36m1\u001b[0m\u001b[0;34m]\u001b[0m\u001b[0;34m=\u001b[0m\u001b[0;34m\"Sunday\"\u001b[0m\u001b[0;34m\u001b[0m\u001b[0m\n\u001b[0m",
      "\u001b[0;31mTypeError\u001b[0m: 'tuple' object does not support item assignment"
     ]
    }
   ],
   "source": [
    "t[1]=\"Sunday\""
   ]
  },
  {
   "cell_type": "code",
   "execution_count": 130,
   "metadata": {},
   "outputs": [
    {
     "ename": "TypeError",
     "evalue": "'tuple' object doesn't support item deletion",
     "output_type": "error",
     "traceback": [
      "\u001b[0;31m---------------------------------------------------------------------------\u001b[0m",
      "\u001b[0;31mTypeError\u001b[0m                                 Traceback (most recent call last)",
      "\u001b[0;32m<ipython-input-130-77cea8bc7ee1>\u001b[0m in \u001b[0;36m<module>\u001b[0;34m()\u001b[0m\n\u001b[0;32m----> 1\u001b[0;31m \u001b[0;32mdel\u001b[0m \u001b[0mt\u001b[0m\u001b[0;34m[\u001b[0m\u001b[0;36m1\u001b[0m\u001b[0;34m]\u001b[0m\u001b[0;34m\u001b[0m\u001b[0m\n\u001b[0m",
      "\u001b[0;31mTypeError\u001b[0m: 'tuple' object doesn't support item deletion"
     ]
    }
   ],
   "source": [
    "del t[1]"
   ]
  },
  {
   "cell_type": "code",
   "execution_count": 133,
   "metadata": {},
   "outputs": [
    {
     "name": "stdout",
     "output_type": "stream",
     "text": [
      "Tuesday\n",
      "Wednesday\n",
      "Thursday\n"
     ]
    }
   ],
   "source": [
    "for i in t[1:4]:\n",
    "    print(i)"
   ]
  },
  {
   "cell_type": "code",
   "execution_count": 138,
   "metadata": {},
   "outputs": [],
   "source": [
    "d ={\"a\":\"apple\",\"b\":\"ball\",3:\"cat\",\"d\":4,\"a\":\"mango\"}"
   ]
  },
  {
   "cell_type": "code",
   "execution_count": 139,
   "metadata": {},
   "outputs": [
    {
     "data": {
      "text/plain": [
       "dict_keys(['a', 'b', 3, 'd'])"
      ]
     },
     "execution_count": 139,
     "metadata": {},
     "output_type": "execute_result"
    }
   ],
   "source": [
    "d.keys()"
   ]
  },
  {
   "cell_type": "code",
   "execution_count": 140,
   "metadata": {},
   "outputs": [
    {
     "data": {
      "text/plain": [
       "dict_values(['mango', 'ball', 'cat', 4])"
      ]
     },
     "execution_count": 140,
     "metadata": {},
     "output_type": "execute_result"
    }
   ],
   "source": [
    "d.values()"
   ]
  },
  {
   "cell_type": "code",
   "execution_count": 141,
   "metadata": {},
   "outputs": [
    {
     "data": {
      "text/plain": [
       "'mango'"
      ]
     },
     "execution_count": 141,
     "metadata": {},
     "output_type": "execute_result"
    }
   ],
   "source": [
    "d[\"a\"]"
   ]
  },
  {
   "cell_type": "code",
   "execution_count": 144,
   "metadata": {},
   "outputs": [],
   "source": [
    "d[\"c\"]=\"cat\""
   ]
  },
  {
   "cell_type": "code",
   "execution_count": 147,
   "metadata": {},
   "outputs": [
    {
     "name": "stdout",
     "output_type": "stream",
     "text": [
      "dict_items([('a', 'mango'), ('b', 'ball'), (3, 'cat'), ('d', 4), ('c', 'cat')])\n"
     ]
    }
   ],
   "source": [
    "print(d.items())"
   ]
  },
  {
   "cell_type": "code",
   "execution_count": 151,
   "metadata": {},
   "outputs": [
    {
     "name": "stdout",
     "output_type": "stream",
     "text": [
      "a\n",
      "mango\n",
      "b\n",
      "ball\n",
      "3\n",
      "cat\n",
      "d\n",
      "4\n",
      "c\n",
      "cat\n"
     ]
    }
   ],
   "source": [
    "for i,j in d.items():\n",
    "    print(i)\n",
    "    print(j)"
   ]
  },
  {
   "cell_type": "markdown",
   "metadata": {},
   "source": [
    "a = [4,5,9,14,15,20,53,45,7,8,11,78,3,11,13,45] -> create a new list with even numbers from the list a.\n"
   ]
  },
  {
   "cell_type": "markdown",
   "metadata": {},
   "source": [
    "a = [4,5,9,14,15,20,53,45,7,8,11,8,3,11,13,45] \n",
    "b = [4,9,21,5,3,4,11,17,19,45,79,45,65]\n",
    "\n",
    "Print the numbers available in the both list a and b without duplicates."
   ]
  },
  {
   "cell_type": "code",
   "execution_count": 153,
   "metadata": {},
   "outputs": [],
   "source": [
    "a = [4,5,9,14,15,20,53,45,7,8,11,78,3,11,13,45] "
   ]
  },
  {
   "cell_type": "code",
   "execution_count": 154,
   "metadata": {},
   "outputs": [],
   "source": [
    "d=[]\n",
    "for i in a:\n",
    "    if i%2==0:\n",
    "        d.append(i)"
   ]
  },
  {
   "cell_type": "code",
   "execution_count": 155,
   "metadata": {},
   "outputs": [
    {
     "data": {
      "text/plain": [
       "[4, 14, 20, 8, 78]"
      ]
     },
     "execution_count": 155,
     "metadata": {},
     "output_type": "execute_result"
    }
   ],
   "source": [
    "d"
   ]
  },
  {
   "cell_type": "code",
   "execution_count": 156,
   "metadata": {},
   "outputs": [],
   "source": [
    "f = [i for i in a if i%2==0]"
   ]
  },
  {
   "cell_type": "code",
   "execution_count": 157,
   "metadata": {},
   "outputs": [
    {
     "data": {
      "text/plain": [
       "[4, 14, 20, 8, 78]"
      ]
     },
     "execution_count": 157,
     "metadata": {},
     "output_type": "execute_result"
    }
   ],
   "source": [
    "f"
   ]
  },
  {
   "cell_type": "code",
   "execution_count": 159,
   "metadata": {},
   "outputs": [],
   "source": [
    "a = [4,5,9,14,15,20,53,45,7,8,11,8,3,11,13,45]\n",
    "b = [4,9,21,5,3,4,11,17,19,45,79,45,65]\n",
    "\n"
   ]
  },
  {
   "cell_type": "code",
   "execution_count": 164,
   "metadata": {},
   "outputs": [],
   "source": [
    "c=[]\n",
    "for i in a:\n",
    "    if i in b:\n",
    "        if i not in c:\n",
    "            c.append(i)"
   ]
  },
  {
   "cell_type": "code",
   "execution_count": 165,
   "metadata": {},
   "outputs": [
    {
     "data": {
      "text/plain": [
       "[4, 5, 9, 45, 11, 3]"
      ]
     },
     "execution_count": 165,
     "metadata": {},
     "output_type": "execute_result"
    }
   ],
   "source": [
    "c"
   ]
  },
  {
   "cell_type": "code",
   "execution_count": 169,
   "metadata": {},
   "outputs": [
    {
     "data": {
      "text/plain": [
       "[3, 4, 5, 9, 11, 45]"
      ]
     },
     "execution_count": 169,
     "metadata": {},
     "output_type": "execute_result"
    }
   ],
   "source": [
    "list(set(a)&set(b))"
   ]
  },
  {
   "cell_type": "code",
   "execution_count": 167,
   "metadata": {},
   "outputs": [
    {
     "data": {
      "text/plain": [
       "{3, 4, 5, 7, 8, 9, 11, 13, 14, 15, 20, 45, 53}"
      ]
     },
     "execution_count": 167,
     "metadata": {},
     "output_type": "execute_result"
    }
   ],
   "source": [
    "set(a)"
   ]
  },
  {
   "cell_type": "code",
   "execution_count": 168,
   "metadata": {},
   "outputs": [
    {
     "data": {
      "text/plain": [
       "{3, 4, 5, 9, 11, 17, 19, 21, 45, 65, 79}"
      ]
     },
     "execution_count": 168,
     "metadata": {},
     "output_type": "execute_result"
    }
   ],
   "source": [
    "set(b)"
   ]
  },
  {
   "cell_type": "code",
   "execution_count": 183,
   "metadata": {},
   "outputs": [],
   "source": [
    "def add(a,b,c=15):\n",
    "    return a+b,a*b,a+c"
   ]
  },
  {
   "cell_type": "code",
   "execution_count": 187,
   "metadata": {},
   "outputs": [
    {
     "name": "stdout",
     "output_type": "stream",
     "text": [
      "a :40\n",
      "b :50\n"
     ]
    }
   ],
   "source": [
    "c=int(input(\"a :\"))\n",
    "d=int(input(\"b :\"))\n",
    "s = add(c,d,100)"
   ]
  },
  {
   "cell_type": "code",
   "execution_count": 188,
   "metadata": {},
   "outputs": [
    {
     "data": {
      "text/plain": [
       "(90, 2000, 140)"
      ]
     },
     "execution_count": 188,
     "metadata": {},
     "output_type": "execute_result"
    }
   ],
   "source": [
    "s"
   ]
  },
  {
   "cell_type": "code",
   "execution_count": 180,
   "metadata": {},
   "outputs": [
    {
     "data": {
      "text/plain": [
       "450"
      ]
     },
     "execution_count": 180,
     "metadata": {},
     "output_type": "execute_result"
    }
   ],
   "source": [
    "m"
   ]
  },
  {
   "cell_type": "code",
   "execution_count": null,
   "metadata": {},
   "outputs": [],
   "source": [
    "add()"
   ]
>>>>>>> parent of 5ffaec5... updated on 25/7/18 from 19/7/18
  }
 ],
 "metadata": {
  "kernelspec": {
   "display_name": "Python 3",
   "language": "python",
   "name": "python3"
  },
  "language_info": {
   "codemirror_mode": {
    "name": "ipython",
    "version": 3
   },
   "file_extension": ".py",
   "mimetype": "text/x-python",
   "name": "python",
   "nbconvert_exporter": "python",
   "pygments_lexer": "ipython3",
   "version": "3.6.5"
  }
 },
 "nbformat": 4,
 "nbformat_minor": 2
}
