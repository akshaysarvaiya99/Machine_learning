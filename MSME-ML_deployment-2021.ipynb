{
 "cells": [
  {
   "cell_type": "markdown",
   "id": "simple-motivation",
   "metadata": {},
   "source": [
    "Reference Links:\n",
    "    \n",
    "    Cheatsheet :- http://bit.ly/AIcheatsheet\n",
    "    Books :- http://bit.ly/AI_material\n",
    "    GitHub :- http://bit.ly/AI_repos\n",
    "    String methods:- http://bit.ly/stringMethods\n",
    "    Exercise:- https://www.w3resource.com/python-exercises/ , https://www.practicepython.org/\n",
    "    Exception methods:- http://bit.ly/exceptionNames\n",
    "    python standard:- http://bit.ly/pythonStyle"
   ]
  },
  {
   "cell_type": "markdown",
   "id": "nominated-printing",
   "metadata": {},
   "source": [
    "Content:\n",
    "     \n",
    "    First week\n",
    "        Python\n",
    "\n",
    "    Second Week\n",
    "        ML Deployment overview\n",
    "        ML Implementation - 4-5 algorithms \n",
    "        ML Deployment for same algorithms\n",
    "        Docker\n",
    "   \n",
    "    Third Week\n",
    "       DL Implementation and its deployment\n",
    "       AWS Sagemaker"
   ]
  },
  {
   "cell_type": "markdown",
   "id": "valued-colonial",
   "metadata": {},
   "source": [
    "7 steps of implementation\n",
    "\n",
    "    1. Load dataset\n",
    "    2. Split dataset (70:30)\n",
    "    3. Define an algorithm\n",
    "    4. Training\n",
    "    5. Validation\n",
    "    6. Tuning\n",
    "    7. Cross validation"
   ]
  },
  {
   "cell_type": "markdown",
   "id": "hundred-russian",
   "metadata": {},
   "source": [
    "IDE I use\n",
    "    \n",
    "    pycharm -> industry \n",
    "    \n",
    "    notebook -> teaching and research"
   ]
  },
  {
   "cell_type": "code",
   "execution_count": 6,
   "id": "material-record",
   "metadata": {},
   "outputs": [
    {
     "name": "stdout",
     "output_type": "stream",
     "text": [
      "7\n"
     ]
    }
   ],
   "source": [
    "a = 5\n",
    "b = 2\n",
    "print(a+b)"
   ]
  },
  {
   "cell_type": "code",
   "execution_count": 8,
   "id": "ongoing-impact",
   "metadata": {},
   "outputs": [],
   "source": [
    "a = 5 # int\n",
    "b = 3.14  # float\n",
    "c = 'apple' # string\n",
    "d = True  # bool"
   ]
  },
  {
   "cell_type": "code",
   "execution_count": 9,
   "id": "interim-screening",
   "metadata": {},
   "outputs": [],
   "source": [
    "a ,A = 5,6"
   ]
  },
  {
   "cell_type": "code",
   "execution_count": 16,
   "id": "ignored-royal",
   "metadata": {},
   "outputs": [
    {
     "name": "stdout",
     "output_type": "stream",
     "text": [
      "Enter your name :ss\n",
      "Enter your age :12\n",
      "ss 12\n"
     ]
    }
   ],
   "source": [
    "# getting input and displaying output\n",
    "name = input(\"Enter your name :\")\n",
    "age = int(input(\"Enter your age :\"))\n",
    "print(name, age)"
   ]
  },
  {
   "cell_type": "code",
   "execution_count": 17,
   "id": "educated-cuisine",
   "metadata": {},
   "outputs": [
    {
     "name": "stdout",
     "output_type": "stream",
     "text": [
      "<class 'str'> <class 'int'>\n"
     ]
    }
   ],
   "source": [
    "print(type(name),type(age))"
   ]
  },
  {
   "cell_type": "code",
   "execution_count": null,
   "id": "baking-shanghai",
   "metadata": {},
   "outputs": [],
   "source": [
    "+ - * / % //\n",
    "\n",
    "< > <= >=  == !=\n",
    "\n",
    "and not or"
   ]
  },
  {
   "cell_type": "code",
   "execution_count": 20,
   "id": "together-upper",
   "metadata": {},
   "outputs": [
    {
     "name": "stdout",
     "output_type": "stream",
     "text": [
      "Enter any number: 31\n",
      "Number is odd\n"
     ]
    }
   ],
   "source": [
    "num = float(input(\"Enter any number: \"))\n",
    "if num % 2 == 0:\n",
    "    print('Number is even')\n",
    "else:\n",
    "    print(\"Number is odd\")"
   ]
  },
  {
   "cell_type": "code",
   "execution_count": 23,
   "id": "intellectual-biography",
   "metadata": {},
   "outputs": [
    {
     "name": "stdout",
     "output_type": "stream",
     "text": [
      "Enter any number: 5\n",
      "Number is odd\n"
     ]
    }
   ],
   "source": [
    "num = float(input(\"Enter any number: \"))\n",
    "if num % 4 == 0:\n",
    "    print(\"Number is divisible by 4 and even\")\n",
    "elif num % 2 == 0:\n",
    "    print('Number is even')\n",
    "else:\n",
    "    print(\"Number is odd\")"
   ]
  },
  {
   "cell_type": "code",
   "execution_count": 24,
   "id": "differential-capture",
   "metadata": {},
   "outputs": [
    {
     "name": "stdout",
     "output_type": "stream",
     "text": [
      "Enter any number: 12\n",
      "Number is divisible by 4 and even\n",
      "Enter any number: 32\n",
      "Number is divisible by 4 and even\n",
      "Enter any number: 45\n",
      "Number is odd\n",
      "Enter any number: 56\n",
      "Number is divisible by 4 and even\n"
     ]
    }
   ],
   "source": [
    "i = 1\n",
    "while i < 5:\n",
    "    num = float(input(\"Enter any number: \"))\n",
    "    if num % 4 == 0:\n",
    "        print(\"Number is divisible by 4 and even\")\n",
    "    elif num % 2 == 0:\n",
    "        print('Number is even')\n",
    "    else:\n",
    "        print(\"Number is odd\")\n",
    "    \n",
    "    i+= 1 # i = i + 1"
   ]
  },
  {
   "cell_type": "code",
   "execution_count": 25,
   "id": "described-detective",
   "metadata": {},
   "outputs": [
    {
     "name": "stdout",
     "output_type": "stream",
     "text": [
      "Enter any number: 45\n",
      "Number is odd\n",
      "Do you want to continue? y/n: y\n",
      "Enter any number: 12\n",
      "Number is divisible by 4 and even\n",
      "Do you want to continue? y/n: n\n"
     ]
    }
   ],
   "source": [
    "opt = 'y'\n",
    "while opt == 'y':\n",
    "    num = float(input(\"Enter any number: \"))\n",
    "    if num % 4 == 0:\n",
    "        print(\"Number is divisible by 4 and even\")\n",
    "    elif num % 2 == 0:\n",
    "        print('Number is even')\n",
    "    else:\n",
    "        print(\"Number is odd\")\n",
    "    opt = input(\"Do you want to continue? y/n: \")"
   ]
  },
  {
   "cell_type": "code",
   "execution_count": 29,
   "id": "adequate-distinction",
   "metadata": {},
   "outputs": [
    {
     "name": "stdout",
     "output_type": "stream",
     "text": [
      "Enter any number: 78\n",
      "Number is even\n",
      "Enter any number: 324\n",
      "Number is divisible by 4 and even\n",
      "Enter any number: 45\n",
      "Stopping......\n"
     ]
    }
   ],
   "source": [
    "while True:\n",
    "    num = float(input(\"Enter any number: \"))\n",
    "    \n",
    "    if num == 15 or num == 45:\n",
    "        print(\"Stopping......\")\n",
    "        break\n",
    "    elif num == 25:\n",
    "        print(\"Skipping......\")\n",
    "        continue\n",
    "        \n",
    "    if num % 4 == 0:\n",
    "        print(\"Number is divisible by 4 and even\")\n",
    "    elif num % 2 == 0:\n",
    "        print('Number is even')\n",
    "    else:\n",
    "        print(\"Number is odd\")"
   ]
  },
  {
   "cell_type": "markdown",
   "id": "literary-lightning",
   "metadata": {},
   "source": [
    "                                        HW-1\n",
    "Write a python code for rock-paper-scissor game.use the following rules to predict the winner\n",
    "        \n",
    "        rock beats scissor\n",
    "        scissor beats paper\n",
    "        paper beats rock"
   ]
  },
  {
   "cell_type": "code",
   "execution_count": 30,
   "id": "closed-palestine",
   "metadata": {},
   "outputs": [],
   "source": [
    "name = 'elephant'\n",
    "sent = 'elephant is an animal'"
   ]
  },
  {
   "cell_type": "code",
   "execution_count": 34,
   "id": "posted-football",
   "metadata": {},
   "outputs": [
    {
     "data": {
      "text/plain": [
       "('p', 'p')"
      ]
     },
     "execution_count": 34,
     "metadata": {},
     "output_type": "execute_result"
    }
   ],
   "source": [
    "name[3], name[-5]"
   ]
  },
  {
   "cell_type": "code",
   "execution_count": 35,
   "id": "handled-ecology",
   "metadata": {},
   "outputs": [
    {
     "data": {
      "text/plain": [
       "'ele'"
      ]
     },
     "execution_count": 35,
     "metadata": {},
     "output_type": "execute_result"
    }
   ],
   "source": [
    "name[:3]"
   ]
  },
  {
   "cell_type": "code",
   "execution_count": 36,
   "id": "alpine-repair",
   "metadata": {},
   "outputs": [
    {
     "data": {
      "text/plain": [
       "'phant'"
      ]
     },
     "execution_count": 36,
     "metadata": {},
     "output_type": "execute_result"
    }
   ],
   "source": [
    "name[3:]"
   ]
  },
  {
   "cell_type": "code",
   "execution_count": 37,
   "id": "single-gambling",
   "metadata": {},
   "outputs": [
    {
     "data": {
      "text/plain": [
       "'epha'"
      ]
     },
     "execution_count": 37,
     "metadata": {},
     "output_type": "execute_result"
    }
   ],
   "source": [
    "name[2:6]"
   ]
  },
  {
   "cell_type": "code",
   "execution_count": 38,
   "id": "rational-champagne",
   "metadata": {},
   "outputs": [
    {
     "data": {
      "text/plain": [
       "'eh'"
      ]
     },
     "execution_count": 38,
     "metadata": {},
     "output_type": "execute_result"
    }
   ],
   "source": [
    "name[2:6:2]"
   ]
  },
  {
   "cell_type": "code",
   "execution_count": 40,
   "id": "painful-dylan",
   "metadata": {},
   "outputs": [
    {
     "data": {
      "text/plain": [
       "'ehn sa'"
      ]
     },
     "execution_count": 40,
     "metadata": {},
     "output_type": "execute_result"
    }
   ],
   "source": [
    "sent[2:14:2]"
   ]
  },
  {
   "cell_type": "code",
   "execution_count": 41,
   "id": "beneficial-working",
   "metadata": {},
   "outputs": [
    {
     "data": {
      "text/plain": [
       "8"
      ]
     },
     "execution_count": 41,
     "metadata": {},
     "output_type": "execute_result"
    }
   ],
   "source": [
    "len(name)"
   ]
  },
  {
   "cell_type": "code",
   "execution_count": 45,
   "id": "chemical-recall",
   "metadata": {},
   "outputs": [
    {
     "data": {
      "text/plain": [
       "'Elephant is an animal'"
      ]
     },
     "execution_count": 45,
     "metadata": {},
     "output_type": "execute_result"
    }
   ],
   "source": [
    "sent.capitalize()"
   ]
  },
  {
   "cell_type": "code",
   "execution_count": 46,
   "id": "ongoing-bundle",
   "metadata": {},
   "outputs": [
    {
     "data": {
      "text/plain": [
       "'Elephant Is An Animal'"
      ]
     },
     "execution_count": 46,
     "metadata": {},
     "output_type": "execute_result"
    }
   ],
   "source": [
    "sent.title()"
   ]
  },
  {
   "cell_type": "code",
   "execution_count": 47,
   "id": "tested-communications",
   "metadata": {},
   "outputs": [
    {
     "data": {
      "text/plain": [
       "False"
      ]
     },
     "execution_count": 47,
     "metadata": {},
     "output_type": "execute_result"
    }
   ],
   "source": [
    "sent.isalnum()"
   ]
  },
  {
   "cell_type": "code",
   "execution_count": 51,
   "id": "native-consultancy",
   "metadata": {},
   "outputs": [
    {
     "data": {
      "text/plain": [
       "True"
      ]
     },
     "execution_count": 51,
     "metadata": {},
     "output_type": "execute_result"
    }
   ],
   "source": [
    "name.islower()"
   ]
  },
  {
   "cell_type": "code",
   "execution_count": 52,
   "id": "friendly-stretch",
   "metadata": {},
   "outputs": [
    {
     "data": {
      "text/plain": [
       "'eleyhant'"
      ]
     },
     "execution_count": 52,
     "metadata": {},
     "output_type": "execute_result"
    }
   ],
   "source": [
    "name.replace('p','y')"
   ]
  },
  {
   "cell_type": "code",
   "execution_count": 53,
   "id": "sapphire-reproduction",
   "metadata": {},
   "outputs": [],
   "source": [
    "L = [] # list()"
   ]
  },
  {
   "cell_type": "code",
   "execution_count": 54,
   "id": "invalid-civilization",
   "metadata": {},
   "outputs": [],
   "source": [
    "l = ['a','b','c',1,2,3,'apple','mango','kiwi',2.34]"
   ]
  },
  {
   "cell_type": "code",
   "execution_count": 55,
   "id": "encouraging-validation",
   "metadata": {},
   "outputs": [
    {
     "data": {
      "text/plain": [
       "'apple'"
      ]
     },
     "execution_count": 55,
     "metadata": {},
     "output_type": "execute_result"
    }
   ],
   "source": [
    "l[6]"
   ]
  },
  {
   "cell_type": "code",
   "execution_count": 57,
   "id": "described-ghost",
   "metadata": {},
   "outputs": [],
   "source": [
    "l[5] = 4"
   ]
  },
  {
   "cell_type": "code",
   "execution_count": 58,
   "id": "provincial-belle",
   "metadata": {},
   "outputs": [
    {
     "data": {
      "text/plain": [
       "['a', 'b', 'c', 1, 2, 4, 'apple', 'mango', 'kiwi', 2.34]"
      ]
     },
     "execution_count": 58,
     "metadata": {},
     "output_type": "execute_result"
    }
   ],
   "source": [
    "l"
   ]
  },
  {
   "cell_type": "code",
   "execution_count": 59,
   "id": "bottom-identification",
   "metadata": {},
   "outputs": [],
   "source": [
    "del l[4]"
   ]
  },
  {
   "cell_type": "code",
   "execution_count": 60,
   "id": "verbal-genome",
   "metadata": {},
   "outputs": [
    {
     "data": {
      "text/plain": [
       "['a', 'b', 'c', 1, 4, 'apple', 'mango', 'kiwi', 2.34]"
      ]
     },
     "execution_count": 60,
     "metadata": {},
     "output_type": "execute_result"
    }
   ],
   "source": [
    "l"
   ]
  },
  {
   "cell_type": "code",
   "execution_count": 61,
   "id": "spatial-elephant",
   "metadata": {},
   "outputs": [
    {
     "data": {
      "text/plain": [
       "9"
      ]
     },
     "execution_count": 61,
     "metadata": {},
     "output_type": "execute_result"
    }
   ],
   "source": [
    "len(l)"
   ]
  },
  {
   "cell_type": "code",
   "execution_count": 64,
   "id": "objective-sherman",
   "metadata": {},
   "outputs": [
    {
     "data": {
      "text/plain": [
       "'tnahpele'"
      ]
     },
     "execution_count": 64,
     "metadata": {},
     "output_type": "execute_result"
    }
   ],
   "source": [
    "name[::-1]"
   ]
  },
  {
   "cell_type": "code",
   "execution_count": 65,
   "id": "stone-blackjack",
   "metadata": {},
   "outputs": [
    {
     "data": {
      "text/plain": [
       "[2.34, 'kiwi', 'mango', 'apple', 4, 1, 'c', 'b', 'a']"
      ]
     },
     "execution_count": 65,
     "metadata": {},
     "output_type": "execute_result"
    }
   ],
   "source": [
    "l[::-1]"
   ]
  },
  {
   "cell_type": "code",
   "execution_count": 66,
   "id": "successful-dynamics",
   "metadata": {},
   "outputs": [],
   "source": [
    "l.append(\"papaya\")"
   ]
  },
  {
   "cell_type": "code",
   "execution_count": 67,
   "id": "vertical-divide",
   "metadata": {},
   "outputs": [
    {
     "data": {
      "text/plain": [
       "['a', 'b', 'c', 1, 4, 'apple', 'mango', 'kiwi', 2.34, 'papaya']"
      ]
     },
     "execution_count": 67,
     "metadata": {},
     "output_type": "execute_result"
    }
   ],
   "source": [
    "l"
   ]
  },
  {
   "cell_type": "code",
   "execution_count": 68,
   "id": "separate-brook",
   "metadata": {},
   "outputs": [],
   "source": [
    "l.insert(4, 'banana')"
   ]
  },
  {
   "cell_type": "code",
   "execution_count": 70,
   "id": "middle-laser",
   "metadata": {},
   "outputs": [
    {
     "data": {
      "text/plain": [
       "4"
      ]
     },
     "execution_count": 70,
     "metadata": {},
     "output_type": "execute_result"
    }
   ],
   "source": [
    "l.index('banana')"
   ]
  },
  {
   "cell_type": "code",
   "execution_count": 71,
   "id": "banner-skirt",
   "metadata": {},
   "outputs": [],
   "source": [
    "g = l"
   ]
  },
  {
   "cell_type": "code",
   "execution_count": 72,
   "id": "interracial-jumping",
   "metadata": {},
   "outputs": [
    {
     "data": {
      "text/plain": [
       "['a', 'b', 'c', 1, 'banana', 4, 'apple', 'mango', 'kiwi', 2.34, 'papaya']"
      ]
     },
     "execution_count": 72,
     "metadata": {},
     "output_type": "execute_result"
    }
   ],
   "source": [
    "g"
   ]
  },
  {
   "cell_type": "code",
   "execution_count": 73,
   "id": "sophisticated-money",
   "metadata": {},
   "outputs": [
    {
     "data": {
      "text/plain": [
       "'papaya'"
      ]
     },
     "execution_count": 73,
     "metadata": {},
     "output_type": "execute_result"
    }
   ],
   "source": [
    "l.pop()"
   ]
  },
  {
   "cell_type": "code",
   "execution_count": 76,
   "id": "advance-lightning",
   "metadata": {},
   "outputs": [],
   "source": [
    "f = l.copy()"
   ]
  },
  {
   "cell_type": "code",
   "execution_count": 78,
   "id": "disciplinary-nomination",
   "metadata": {},
   "outputs": [],
   "source": [
    "f.remove(2.34)"
   ]
  },
  {
   "cell_type": "code",
   "execution_count": 79,
   "id": "fourth-warrior",
   "metadata": {},
   "outputs": [
    {
     "data": {
      "text/plain": [
       "['a', 'b', 'c', 1, 'banana', 4, 'apple', 'mango', 'kiwi']"
      ]
     },
     "execution_count": 79,
     "metadata": {},
     "output_type": "execute_result"
    }
   ],
   "source": [
    "f"
   ]
  },
  {
   "cell_type": "code",
   "execution_count": 80,
   "id": "complex-drinking",
   "metadata": {},
   "outputs": [
    {
     "data": {
      "text/plain": [
       "['a', 'b', 'c', 1, 'banana', 4, 'apple', 'mango', 'kiwi', 2.34]"
      ]
     },
     "execution_count": 80,
     "metadata": {},
     "output_type": "execute_result"
    }
   ],
   "source": [
    "l"
   ]
  },
  {
   "cell_type": "code",
   "execution_count": 82,
   "id": "hispanic-carroll",
   "metadata": {},
   "outputs": [],
   "source": [
    "L.extend(f)"
   ]
  },
  {
   "cell_type": "code",
   "execution_count": 83,
   "id": "written-exclusive",
   "metadata": {},
   "outputs": [
    {
     "data": {
      "text/plain": [
       "['a', 'b', 'c', 1, 'banana', 4, 'apple', 'mango', 'kiwi']"
      ]
     },
     "execution_count": 83,
     "metadata": {},
     "output_type": "execute_result"
    }
   ],
   "source": [
    "f"
   ]
  },
  {
   "cell_type": "code",
   "execution_count": 84,
   "id": "concerned-party",
   "metadata": {},
   "outputs": [
    {
     "data": {
      "text/plain": [
       "['a', 'b', 'c', 1, 'banana', 4, 'apple', 'mango', 'kiwi']"
      ]
     },
     "execution_count": 84,
     "metadata": {},
     "output_type": "execute_result"
    }
   ],
   "source": [
    "L"
   ]
  },
  {
   "cell_type": "code",
   "execution_count": 89,
   "id": "cross-drawing",
   "metadata": {},
   "outputs": [],
   "source": [
    "l.remove(2.34)"
   ]
  },
  {
   "cell_type": "code",
   "execution_count": 93,
   "id": "stopped-community",
   "metadata": {},
   "outputs": [],
   "source": [
    "l.sort(reverse=True)"
   ]
  },
  {
   "cell_type": "code",
   "execution_count": 94,
   "id": "sharing-hunter",
   "metadata": {},
   "outputs": [
    {
     "data": {
      "text/plain": [
       "['mango', 'kiwi', 'c', 'banana', 'b', 'apple', 'a']"
      ]
     },
     "execution_count": 94,
     "metadata": {},
     "output_type": "execute_result"
    }
   ],
   "source": [
    "l"
   ]
  },
  {
   "cell_type": "code",
   "execution_count": 95,
   "id": "structured-picture",
   "metadata": {},
   "outputs": [
    {
     "name": "stdout",
     "output_type": "stream",
     "text": [
      "hi\n",
      "hi\n",
      "hi\n",
      "hi\n",
      "hi\n"
     ]
    }
   ],
   "source": [
    "for i in range(5):\n",
    "    print('hi')"
   ]
  },
  {
   "cell_type": "code",
   "execution_count": 96,
   "id": "hourly-classics",
   "metadata": {},
   "outputs": [
    {
     "name": "stdout",
     "output_type": "stream",
     "text": [
      "hi\n",
      "hi\n",
      "hi\n",
      "hi\n",
      "hi\n"
     ]
    }
   ],
   "source": [
    "for _ in range(5):\n",
    "    print('hi')"
   ]
  },
  {
   "cell_type": "code",
   "execution_count": 98,
   "id": "mysterious-treasure",
   "metadata": {},
   "outputs": [
    {
     "name": "stdout",
     "output_type": "stream",
     "text": [
      "10\n",
      "12\n",
      "14\n",
      "16\n",
      "18\n",
      "20\n",
      "22\n",
      "24\n"
     ]
    }
   ],
   "source": [
    "for i in range(10,25,2):\n",
    "    print(i)"
   ]
  },
  {
   "cell_type": "code",
   "execution_count": 99,
   "id": "junior-education",
   "metadata": {},
   "outputs": [
    {
     "name": "stdout",
     "output_type": "stream",
     "text": [
      "hi\n",
      "hi\n",
      "hi\n",
      "hi\n",
      "hi\n",
      "hi\n",
      "hi\n",
      "hi\n"
     ]
    }
   ],
   "source": [
    "for _ in range(len(name)):\n",
    "    print('hi')"
   ]
  },
  {
   "cell_type": "code",
   "execution_count": 100,
   "id": "chubby-department",
   "metadata": {},
   "outputs": [
    {
     "name": "stdout",
     "output_type": "stream",
     "text": [
      "e\n",
      "l\n",
      "e\n",
      "p\n",
      "h\n",
      "a\n",
      "n\n",
      "t\n"
     ]
    }
   ],
   "source": [
    "for i in name:\n",
    "    print(i)"
   ]
  },
  {
   "cell_type": "code",
   "execution_count": 101,
   "id": "comfortable-valuation",
   "metadata": {},
   "outputs": [
    {
     "name": "stdout",
     "output_type": "stream",
     "text": [
      "mango\n",
      "kiwi\n",
      "c\n",
      "banana\n",
      "b\n",
      "apple\n",
      "a\n"
     ]
    }
   ],
   "source": [
    "for i in l:\n",
    "    print(i)"
   ]
  },
  {
   "cell_type": "code",
   "execution_count": 103,
   "id": "blind-istanbul",
   "metadata": {},
   "outputs": [
    {
     "name": "stdout",
     "output_type": "stream",
     "text": [
      "0 e\n",
      "1 l\n",
      "2 e\n",
      "3 p\n",
      "4 h\n",
      "5 a\n",
      "6 n\n",
      "7 t\n"
     ]
    }
   ],
   "source": [
    "for i,ele in enumerate(name):\n",
    "    print(i,ele)"
   ]
  },
  {
   "cell_type": "code",
   "execution_count": 104,
   "id": "incorrect-struggle",
   "metadata": {},
   "outputs": [
    {
     "name": "stdout",
     "output_type": "stream",
     "text": [
      "0  ->  mango\n",
      "1  ->  kiwi\n",
      "2  ->  c\n",
      "3  ->  banana\n",
      "4  ->  b\n",
      "5  ->  apple\n",
      "6  ->  a\n"
     ]
    }
   ],
   "source": [
    "for i,ele in enumerate(l):\n",
    "    print(i,' -> ',ele)"
   ]
  },
  {
   "cell_type": "code",
   "execution_count": 106,
   "id": "serial-spotlight",
   "metadata": {},
   "outputs": [
    {
     "name": "stdout",
     "output_type": "stream",
     "text": [
      "a mango\n",
      "b kiwi\n",
      "c c\n",
      "1 banana\n",
      "banana b\n",
      "4 apple\n",
      "apple a\n"
     ]
    }
   ],
   "source": [
    "for i,j in zip(f,l):\n",
    "    print(i,j)"
   ]
  },
  {
   "cell_type": "code",
   "execution_count": 109,
   "id": "filled-interference",
   "metadata": {},
   "outputs": [
    {
     "name": "stdout",
     "output_type": "stream",
     "text": [
      "('a', 'mango')\n",
      "('b', 'kiwi')\n",
      "('c', 'c')\n",
      "(1, 'banana')\n",
      "('banana', 'b')\n",
      "(4, 'apple')\n",
      "('apple', 'a')\n"
     ]
    }
   ],
   "source": [
    "for i in zip(f,l):\n",
    "    print(i)"
   ]
  },
  {
   "cell_type": "code",
   "execution_count": 107,
   "id": "lasting-style",
   "metadata": {},
   "outputs": [
    {
     "data": {
      "text/plain": [
       "['a', 'b', 'c', 1, 'banana', 4, 'apple', 'mango', 'kiwi']"
      ]
     },
     "execution_count": 107,
     "metadata": {},
     "output_type": "execute_result"
    }
   ],
   "source": [
    "f"
   ]
  },
  {
   "cell_type": "code",
   "execution_count": 108,
   "id": "capable-judge",
   "metadata": {},
   "outputs": [
    {
     "data": {
      "text/plain": [
       "['mango', 'kiwi', 'c', 'banana', 'b', 'apple', 'a']"
      ]
     },
     "execution_count": 108,
     "metadata": {},
     "output_type": "execute_result"
    }
   ],
   "source": [
    "l"
   ]
  },
  {
   "cell_type": "markdown",
   "id": "oriented-cause",
   "metadata": {},
   "source": [
    "                                    HW-2\n",
    "write a python code for Hangman game.\n",
    "\n",
    "    Note: refer to the demo"
   ]
  },
  {
   "cell_type": "code",
   "execution_count": 110,
   "id": "hindu-baseline",
   "metadata": {},
   "outputs": [],
   "source": [
    "D = {} # dict()"
   ]
  },
  {
   "cell_type": "code",
   "execution_count": 111,
   "id": "looking-latter",
   "metadata": {},
   "outputs": [],
   "source": [
    "d = {'a':'apple', 'b':'ball', 2:name,3.14:l}"
   ]
  },
  {
   "cell_type": "code",
   "execution_count": 112,
   "id": "changing-mambo",
   "metadata": {},
   "outputs": [
    {
     "data": {
      "text/plain": [
       "{'a': 'apple',\n",
       " 'b': 'ball',\n",
       " 2: 'elephant',\n",
       " 3.14: ['mango', 'kiwi', 'c', 'banana', 'b', 'apple', 'a']}"
      ]
     },
     "execution_count": 112,
     "metadata": {},
     "output_type": "execute_result"
    }
   ],
   "source": [
    "d"
   ]
  },
  {
   "cell_type": "code",
   "execution_count": 113,
   "id": "annoying-hearing",
   "metadata": {},
   "outputs": [
    {
     "data": {
      "text/plain": [
       "'apple'"
      ]
     },
     "execution_count": 113,
     "metadata": {},
     "output_type": "execute_result"
    }
   ],
   "source": [
    "d['a']"
   ]
  },
  {
   "cell_type": "code",
   "execution_count": 114,
   "id": "diverse-priest",
   "metadata": {},
   "outputs": [
    {
     "data": {
      "text/plain": [
       "'elephant'"
      ]
     },
     "execution_count": 114,
     "metadata": {},
     "output_type": "execute_result"
    }
   ],
   "source": [
    "d[2]"
   ]
  },
  {
   "cell_type": "code",
   "execution_count": 116,
   "id": "southeast-detroit",
   "metadata": {},
   "outputs": [],
   "source": [
    "d['b'] ='bat'"
   ]
  },
  {
   "cell_type": "code",
   "execution_count": 117,
   "id": "absent-department",
   "metadata": {},
   "outputs": [
    {
     "data": {
      "text/plain": [
       "{'a': 'apple',\n",
       " 'b': 'bat',\n",
       " 2: 'elephant',\n",
       " 3.14: ['mango', 'kiwi', 'c', 'banana', 'b', 'apple', 'a']}"
      ]
     },
     "execution_count": 117,
     "metadata": {},
     "output_type": "execute_result"
    }
   ],
   "source": [
    "d"
   ]
  },
  {
   "cell_type": "code",
   "execution_count": 118,
   "id": "retained-complement",
   "metadata": {},
   "outputs": [],
   "source": [
    "del d[2]"
   ]
  },
  {
   "cell_type": "code",
   "execution_count": 119,
   "id": "favorite-billy",
   "metadata": {},
   "outputs": [
    {
     "data": {
      "text/plain": [
       "{'a': 'apple',\n",
       " 'b': 'bat',\n",
       " 3.14: ['mango', 'kiwi', 'c', 'banana', 'b', 'apple', 'a']}"
      ]
     },
     "execution_count": 119,
     "metadata": {},
     "output_type": "execute_result"
    }
   ],
   "source": [
    "d"
   ]
  },
  {
   "cell_type": "code",
   "execution_count": 120,
   "id": "exceptional-accessory",
   "metadata": {},
   "outputs": [],
   "source": [
    "d['p'] = 'papaya'"
   ]
  },
  {
   "cell_type": "code",
   "execution_count": 121,
   "id": "julian-bowling",
   "metadata": {},
   "outputs": [
    {
     "data": {
      "text/plain": [
       "{'a': 'apple',\n",
       " 'b': 'bat',\n",
       " 3.14: ['mango', 'kiwi', 'c', 'banana', 'b', 'apple', 'a'],\n",
       " 'p': 'papaya'}"
      ]
     },
     "execution_count": 121,
     "metadata": {},
     "output_type": "execute_result"
    }
   ],
   "source": [
    "d"
   ]
  },
  {
   "cell_type": "code",
   "execution_count": 124,
   "id": "quarterly-partnership",
   "metadata": {},
   "outputs": [
    {
     "data": {
      "text/plain": [
       "'apple'"
      ]
     },
     "execution_count": 124,
     "metadata": {},
     "output_type": "execute_result"
    }
   ],
   "source": [
    "d.get('a',\"No Key\")"
   ]
  },
  {
   "cell_type": "code",
   "execution_count": 122,
   "id": "emerging-framework",
   "metadata": {},
   "outputs": [
    {
     "ename": "KeyError",
     "evalue": "'y'",
     "output_type": "error",
     "traceback": [
      "\u001b[0;31m---------------------------------------------------------------------------\u001b[0m",
      "\u001b[0;31mKeyError\u001b[0m                                  Traceback (most recent call last)",
      "\u001b[0;32m<ipython-input-122-7ae159b89943>\u001b[0m in \u001b[0;36m<module>\u001b[0;34m\u001b[0m\n\u001b[0;32m----> 1\u001b[0;31m \u001b[0md\u001b[0m\u001b[0;34m[\u001b[0m\u001b[0;34m'y'\u001b[0m\u001b[0;34m]\u001b[0m\u001b[0;34m\u001b[0m\u001b[0;34m\u001b[0m\u001b[0m\n\u001b[0m",
      "\u001b[0;31mKeyError\u001b[0m: 'y'"
     ]
    }
   ],
   "source": [
    "d['y']"
   ]
  },
  {
   "cell_type": "code",
   "execution_count": 128,
   "id": "becoming-minutes",
   "metadata": {},
   "outputs": [],
   "source": [
    "D.update(d)"
   ]
  },
  {
   "cell_type": "code",
   "execution_count": 130,
   "id": "anonymous-survey",
   "metadata": {},
   "outputs": [
    {
     "data": {
      "text/plain": [
       "['mango', 'kiwi', 'c', 'banana', 'b', 'apple', 'a']"
      ]
     },
     "execution_count": 130,
     "metadata": {},
     "output_type": "execute_result"
    }
   ],
   "source": [
    "l"
   ]
  },
  {
   "cell_type": "code",
   "execution_count": 132,
   "id": "prostate-finnish",
   "metadata": {},
   "outputs": [
    {
     "data": {
      "text/plain": [
       "{'mango': 'test',\n",
       " 'kiwi': 'test',\n",
       " 'c': 'test',\n",
       " 'banana': 'test',\n",
       " 'b': 'test',\n",
       " 'apple': 'test',\n",
       " 'a': 'test'}"
      ]
     },
     "execution_count": 132,
     "metadata": {},
     "output_type": "execute_result"
    }
   ],
   "source": [
    "dict.fromkeys(l,\"test\")"
   ]
  },
  {
   "cell_type": "code",
   "execution_count": 133,
   "id": "black-breathing",
   "metadata": {},
   "outputs": [
    {
     "name": "stdout",
     "output_type": "stream",
     "text": [
      "a\n",
      "b\n",
      "3.14\n",
      "p\n"
     ]
    }
   ],
   "source": [
    "for k in d.keys():\n",
    "    print(k)"
   ]
  },
  {
   "cell_type": "code",
   "execution_count": 134,
   "id": "afraid-dominant",
   "metadata": {},
   "outputs": [
    {
     "name": "stdout",
     "output_type": "stream",
     "text": [
      "apple\n",
      "bat\n",
      "['mango', 'kiwi', 'c', 'banana', 'b', 'apple', 'a']\n",
      "papaya\n"
     ]
    }
   ],
   "source": [
    "for v in d.values():\n",
    "    print(v)"
   ]
  },
  {
   "cell_type": "code",
   "execution_count": 135,
   "id": "hired-living",
   "metadata": {},
   "outputs": [
    {
     "name": "stdout",
     "output_type": "stream",
     "text": [
      "a  ->  apple\n",
      "b  ->  bat\n",
      "3.14  ->  ['mango', 'kiwi', 'c', 'banana', 'b', 'apple', 'a']\n",
      "p  ->  papaya\n"
     ]
    }
   ],
   "source": [
    "for k,v in d.items():\n",
    "    print(k,\" -> \",v)"
   ]
  },
  {
   "cell_type": "code",
   "execution_count": 136,
   "id": "refined-sight",
   "metadata": {},
   "outputs": [
    {
     "data": {
      "text/plain": [
       "'elephant'"
      ]
     },
     "execution_count": 136,
     "metadata": {},
     "output_type": "execute_result"
    }
   ],
   "source": [
    "name"
   ]
  },
  {
   "cell_type": "code",
   "execution_count": 137,
   "id": "atlantic-reason",
   "metadata": {},
   "outputs": [
    {
     "data": {
      "text/plain": [
       "['e', 'l', 'e', 'p', 'h', 'a', 'n', 't']"
      ]
     },
     "execution_count": 137,
     "metadata": {},
     "output_type": "execute_result"
    }
   ],
   "source": [
    "list('elephant')"
   ]
  },
  {
   "cell_type": "code",
   "execution_count": 10,
   "id": "american-representative",
   "metadata": {},
   "outputs": [],
   "source": [
    "import math\n",
    "import pandas as pd\n",
    "from math import sin,factorial,sqrt\n",
    "from matplotlib.pyplot import *\n",
    "from test import testFunction"
   ]
  },
  {
   "cell_type": "code",
   "execution_count": 2,
   "id": "liked-society",
   "metadata": {},
   "outputs": [
    {
     "data": {
      "text/plain": [
       "3.605551275463989"
      ]
     },
     "execution_count": 2,
     "metadata": {},
     "output_type": "execute_result"
    }
   ],
   "source": [
    "math.sqrt(13)"
   ]
  },
  {
   "cell_type": "code",
   "execution_count": 3,
   "id": "final-enemy",
   "metadata": {},
   "outputs": [
    {
     "data": {
      "text/plain": [
       "120"
      ]
     },
     "execution_count": 3,
     "metadata": {},
     "output_type": "execute_result"
    }
   ],
   "source": [
    "math.factorial(5)"
   ]
  },
  {
   "cell_type": "code",
   "execution_count": 6,
   "id": "bridal-notice",
   "metadata": {},
   "outputs": [
    {
     "name": "stderr",
     "output_type": "stream",
     "text": [
      "/Library/Frameworks/Python.framework/Versions/3.6/lib/python3.6/site-packages/ipykernel_launcher.py:1: DeprecationWarning: The default dtype for empty Series will be 'object' instead of 'float64' in a future version. Specify a dtype explicitly to silence this warning.\n",
      "  \"\"\"Entry point for launching an IPython kernel.\n"
     ]
    },
    {
     "data": {
      "text/plain": [
       "Series([], dtype: float64)"
      ]
     },
     "execution_count": 6,
     "metadata": {},
     "output_type": "execute_result"
    }
   ],
   "source": [
    "pd.Series()"
   ]
  },
  {
   "cell_type": "code",
   "execution_count": 8,
   "id": "present-arrow",
   "metadata": {},
   "outputs": [
    {
     "data": {
      "text/plain": [
       "6.708203932499369"
      ]
     },
     "execution_count": 8,
     "metadata": {},
     "output_type": "execute_result"
    }
   ],
   "source": [
    "sqrt(45)"
   ]
  },
  {
   "cell_type": "code",
   "execution_count": 9,
   "id": "respective-replica",
   "metadata": {},
   "outputs": [
    {
     "data": {
      "text/plain": [
       "0.8939966636005579"
      ]
     },
     "execution_count": 9,
     "metadata": {},
     "output_type": "execute_result"
    }
   ],
   "source": [
    "sin(90)"
   ]
  },
  {
   "cell_type": "markdown",
   "id": "paperback-giving",
   "metadata": {},
   "source": [
    "seaborn matplotlib plotly"
   ]
  },
  {
   "cell_type": "code",
   "execution_count": 12,
   "id": "reasonable-tanzania",
   "metadata": {
    "scrolled": true
   },
   "outputs": [
    {
     "name": "stdout",
     "output_type": "stream",
     "text": [
      "Vanakam Vanga Hangman game veliyadunga\n",
      "ENter choice between 1-5 : 6\n",
      "['-', '-', '-', '-', '-', '-', '-']\n",
      "GUess the letter of word : w\n",
      "[0]\n",
      "['w', '-', '-', '-', '-', '-', '-']\n",
      "('No of trys: ', 1)\n",
      "['w', '-', '-', '-', '-', '-', '-']\n",
      "GUess the letter of word : e\n",
      "[1, 6]\n",
      "['w', 'e', '-', '-', '-', '-', '-']\n",
      "['w', 'e', '-', '-', '-', '-', 'e']\n",
      "('No of trys: ', 2)\n",
      "['w', 'e', '-', '-', '-', '-', 'e']\n",
      "GUess the letter of word : l\n",
      "[2]\n",
      "['w', 'e', 'l', '-', '-', '-', 'e']\n",
      "('No of trys: ', 3)\n",
      "['w', 'e', 'l', '-', '-', '-', 'e']\n",
      "GUess the letter of word : c\n",
      "[3]\n",
      "['w', 'e', 'l', 'c', '-', '-', 'e']\n",
      "('No of trys: ', 4)\n",
      "['w', 'e', 'l', 'c', '-', '-', 'e']\n",
      "GUess the letter of word : o\n",
      "[4]\n",
      "['w', 'e', 'l', 'c', 'o', '-', 'e']\n",
      "('No of trys: ', 5)\n",
      "['w', 'e', 'l', 'c', 'o', '-', 'e']\n",
      "GUess the letter of word : m\n",
      "[5]\n",
      "['w', 'e', 'l', 'c', 'o', 'm', 'e']\n",
      "('No of trys: ', 6)\n"
     ]
    }
   ],
   "source": [
    "# v.saravanakumar hangman python program\n",
    "words = {\n",
    "    1: 'welcome',\n",
    "    2: 'vanakam',\n",
    "    3: 'machine learning',\n",
    "    4: 'python',\n",
    "    5: 'king cobra'\n",
    "}\n",
    "count = 0\n",
    "print(\"Vanakam Vanga Hangman game veliyadunga\")\n",
    "no = int(eval(input(\"ENter choice between 1-5 : \")))\n",
    "text = list(words.get(no, words[1]))\n",
    "l = len(text)\n",
    "ptext = []\n",
    "for i in range(0, l):\n",
    "    ptext.append('-')\n",
    "\n",
    "for i in range(0, l):\n",
    "    if text[i] == ' ':\n",
    "        ptext[i] = ' '\n",
    "\n",
    "while ptext != text:\n",
    "    print(ptext)\n",
    "    count += 1\n",
    "    try:\n",
    "        s = input(\"GUess the letter of word : \")\n",
    "    except:\n",
    "        print(\"There is some error in the input. Please re-try.\")\n",
    "        continue\n",
    "    countl = [i for i, x in enumerate(text) if x == s]\n",
    "    print(countl)\n",
    "    for i in range(0, len(countl)):\n",
    "        ptext[countl[i]] = s\n",
    "        print(ptext)\n",
    "    if s == '0':\n",
    "        break\n",
    "    print((\"No of trys: \", count))"
   ]
  },
  {
   "cell_type": "code",
   "execution_count": 3,
   "id": "greatest-links",
   "metadata": {},
   "outputs": [
    {
     "name": "stdout",
     "output_type": "stream",
     "text": [
      "There is an error: name 'x' is not defined\n",
      "Hello world!!!!\n"
     ]
    }
   ],
   "source": [
    "try:\n",
    "    print(x)\n",
    "except Exception as e:\n",
    "    print(\"There is an error:\", e)\n",
    "print(\"Hello world!!!!\")"
   ]
  },
  {
   "cell_type": "code",
   "execution_count": 13,
   "id": "enclosed-abuse",
   "metadata": {},
   "outputs": [
    {
     "name": "stdout",
     "output_type": "stream",
     "text": [
      "6\n",
      "Hello world!!!!\n"
     ]
    }
   ],
   "source": [
    "try:\n",
    "    print(x)\n",
    "except NameError as e:\n",
    "    print(\"There is a name error:\", e)\n",
    "    x = 6\n",
    "except TypeError as e:\n",
    "    print(\"There is a type error:\", e)\n",
    "except Exception as e:\n",
    "    print(\"General error\")\n",
    "print(\"Hello world!!!!\")"
   ]
  },
  {
   "cell_type": "code",
   "execution_count": 16,
   "id": "sought-disposition",
   "metadata": {},
   "outputs": [
    {
     "name": "stdout",
     "output_type": "stream",
     "text": [
      "Enter any number : d\n",
      "You have entered string.Please enter numeric value\n",
      "Enter any number : 12\n"
     ]
    }
   ],
   "source": [
    "try:\n",
    "    num = float(input(\"Enter any number : \"))\n",
    "except ValueError:\n",
    "    print(\"You have entered string.Please enter numeric value\")\n",
    "    num = float(input(\"Enter any number : \"))"
   ]
  },
  {
   "cell_type": "code",
   "execution_count": 20,
   "id": "ethical-center",
   "metadata": {},
   "outputs": [
    {
     "name": "stdout",
     "output_type": "stream",
     "text": [
      "Enter any number : 12\n"
     ]
    }
   ],
   "source": [
    "num = input(\"Enter any number : \")\n",
    "\n",
    "if num.isalpha() or not num.isdigit():\n",
    "    raise ValueError(\"You have entered string.Please enter numeric value\")"
   ]
  },
  {
   "cell_type": "code",
   "execution_count": 27,
   "id": "remarkable-guyana",
   "metadata": {},
   "outputs": [],
   "source": [
    "# without any arg and without returns\n",
    "def addition():\n",
    "    a = float(eval(input(\"a : \")))\n",
    "    b = float(eval(input(\"b : \")))\n",
    "    print((a + b, round(a * b,2)))"
   ]
  },
  {
   "cell_type": "code",
   "execution_count": 29,
   "id": "voluntary-discount",
   "metadata": {},
   "outputs": [],
   "source": [
    "# without any arg and with returns\n",
    "def addition():\n",
    "    a = float(eval(input(\"a : \")))\n",
    "    b = float(eval(input(\"b : \")))\n",
    "    return a + b, round(a * b, 2)"
   ]
  },
  {
   "cell_type": "code",
   "execution_count": 35,
   "id": "cordless-maine",
   "metadata": {},
   "outputs": [],
   "source": [
    "# with any arg and with returns\n",
    "def addition(a,b):\n",
    "    return a + b, round(a * b, 2)"
   ]
  },
  {
   "cell_type": "code",
   "execution_count": 36,
   "id": "meaningful-great",
   "metadata": {},
   "outputs": [
    {
     "name": "stdout",
     "output_type": "stream",
     "text": [
      "a : 5\n",
      "b : 8\n"
     ]
    }
   ],
   "source": [
    "c = float(eval(input(\"a : \")))\n",
    "d = float(eval(input(\"b : \")))"
   ]
  },
  {
   "cell_type": "code",
   "execution_count": 39,
   "id": "opponent-paste",
   "metadata": {},
   "outputs": [],
   "source": [
    "# with any arg and with returns also with default value\n",
    "def addition(b,a=5):\n",
    "    return a + b, round(a * b, 2)"
   ]
  },
  {
   "cell_type": "code",
   "execution_count": 40,
   "id": "resident-coordinator",
   "metadata": {},
   "outputs": [],
   "source": [
    "ans = addition(c)"
   ]
  },
  {
   "cell_type": "code",
   "execution_count": 37,
   "id": "obvious-minority",
   "metadata": {
    "scrolled": true
   },
   "outputs": [],
   "source": [
    "ans = addition(c,d)"
   ]
  },
  {
   "cell_type": "code",
   "execution_count": 42,
   "id": "cheap-strain",
   "metadata": {},
   "outputs": [],
   "source": [
    "ans = addition(2.52,2.67)"
   ]
  },
  {
   "cell_type": "code",
   "execution_count": 43,
   "id": "psychological-harvard",
   "metadata": {},
   "outputs": [
    {
     "data": {
      "text/plain": [
       "(5.1899999999999995, 6.73)"
      ]
     },
     "execution_count": 43,
     "metadata": {},
     "output_type": "execute_result"
    }
   ],
   "source": [
    "ans"
   ]
  },
  {
   "cell_type": "code",
   "execution_count": 32,
   "id": "assumed-apache",
   "metadata": {},
   "outputs": [
    {
     "name": "stdout",
     "output_type": "stream",
     "text": [
      "a : 3\n",
      "b : 4\n"
     ]
    }
   ],
   "source": [
    "s,m = addition()"
   ]
  },
  {
   "cell_type": "code",
   "execution_count": 34,
   "id": "demonstrated-version",
   "metadata": {},
   "outputs": [
    {
     "data": {
      "text/plain": [
       "12.0"
      ]
     },
     "execution_count": 34,
     "metadata": {},
     "output_type": "execute_result"
    }
   ],
   "source": [
    "m"
   ]
  },
  {
   "cell_type": "code",
   "execution_count": 44,
   "id": "seeing-spain",
   "metadata": {},
   "outputs": [],
   "source": [
    "f = lambda a,b : a+b"
   ]
  },
  {
   "cell_type": "code",
   "execution_count": 46,
   "id": "super-fraction",
   "metadata": {},
   "outputs": [],
   "source": [
    "s = lambda s : str(s).upper()"
   ]
  },
  {
   "cell_type": "code",
   "execution_count": 45,
   "id": "palestinian-reach",
   "metadata": {},
   "outputs": [
    {
     "data": {
      "text/plain": [
       "9"
      ]
     },
     "execution_count": 45,
     "metadata": {},
     "output_type": "execute_result"
    }
   ],
   "source": [
    "f(4,5)"
   ]
  },
  {
   "cell_type": "code",
   "execution_count": 47,
   "id": "mounted-tissue",
   "metadata": {},
   "outputs": [
    {
     "data": {
      "text/plain": [
       "'APPLE'"
      ]
     },
     "execution_count": 47,
     "metadata": {},
     "output_type": "execute_result"
    }
   ],
   "source": [
    "s('apple')"
   ]
  },
  {
   "cell_type": "code",
   "execution_count": 48,
   "id": "substantial-amateur",
   "metadata": {},
   "outputs": [],
   "source": [
    "l = [None,2,None,3,4,5,None]"
   ]
  },
  {
   "cell_type": "code",
   "execution_count": 51,
   "id": "incorporated-egyptian",
   "metadata": {},
   "outputs": [],
   "source": [
    "l = [False,2,False,3,4,5,False]"
   ]
  },
  {
   "cell_type": "code",
   "execution_count": 50,
   "id": "subjective-reach",
   "metadata": {},
   "outputs": [
    {
     "data": {
      "text/plain": [
       "[2, 3, 4, 5]"
      ]
     },
     "execution_count": 50,
     "metadata": {},
     "output_type": "execute_result"
    }
   ],
   "source": [
    "list(filter(None,l))"
   ]
  },
  {
   "cell_type": "code",
   "execution_count": 52,
   "id": "ecological-problem",
   "metadata": {},
   "outputs": [
    {
     "data": {
      "text/plain": [
       "[2, 3, 4, 5]"
      ]
     },
     "execution_count": 52,
     "metadata": {},
     "output_type": "execute_result"
    }
   ],
   "source": [
    "list(filter(bool,l))"
   ]
  },
  {
   "cell_type": "code",
   "execution_count": 53,
   "id": "macro-charger",
   "metadata": {},
   "outputs": [],
   "source": [
    "numbers = list(range(1,20))"
   ]
  },
  {
   "cell_type": "code",
   "execution_count": 54,
   "id": "bacterial-associate",
   "metadata": {},
   "outputs": [
    {
     "data": {
      "text/plain": [
       "[1, 2, 3, 4, 5, 6, 7, 8, 9, 10, 11, 12, 13, 14, 15, 16, 17, 18, 19]"
      ]
     },
     "execution_count": 54,
     "metadata": {},
     "output_type": "execute_result"
    }
   ],
   "source": [
    "numbers"
   ]
  },
  {
   "cell_type": "code",
   "execution_count": 65,
   "id": "quarterly-yeast",
   "metadata": {},
   "outputs": [],
   "source": [
    "def isPrime(num):\n",
    "    for i in range(2,num):\n",
    "        if num % i == 0:\n",
    "            break\n",
    "    else:\n",
    "        if num > 2:\n",
    "            return num"
   ]
  },
  {
   "cell_type": "code",
   "execution_count": 66,
   "id": "cutting-wellington",
   "metadata": {},
   "outputs": [
    {
     "data": {
      "text/plain": [
       "13"
      ]
     },
     "execution_count": 66,
     "metadata": {},
     "output_type": "execute_result"
    }
   ],
   "source": [
    "isPrime(13)"
   ]
  },
  {
   "cell_type": "code",
   "execution_count": 60,
   "id": "measured-context",
   "metadata": {},
   "outputs": [],
   "source": [
    "primeNumbers = []\n",
    "for i in numbers:\n",
    "    if i > 2 and isPrime(i):\n",
    "        primeNumbers.append(i)"
   ]
  },
  {
   "cell_type": "code",
   "execution_count": 61,
   "id": "entertaining-patent",
   "metadata": {},
   "outputs": [
    {
     "data": {
      "text/plain": [
       "[3, 5, 7, 11, 13, 17, 19]"
      ]
     },
     "execution_count": 61,
     "metadata": {},
     "output_type": "execute_result"
    }
   ],
   "source": [
    "primeNumbers"
   ]
  },
  {
   "cell_type": "code",
   "execution_count": 62,
   "id": "choice-willow",
   "metadata": {},
   "outputs": [
    {
     "data": {
      "text/plain": [
       "[3, 5, 7, 11, 13, 17, 19]"
      ]
     },
     "execution_count": 62,
     "metadata": {},
     "output_type": "execute_result"
    }
   ],
   "source": [
    "[i for i in numbers if i > 2 and isPrime(i)]"
   ]
  },
  {
   "cell_type": "code",
   "execution_count": 69,
   "id": "finnish-failure",
   "metadata": {},
   "outputs": [
    {
     "data": {
      "text/plain": [
       "[3, 5, 7, 11, 13, 17, 19]"
      ]
     },
     "execution_count": 69,
     "metadata": {},
     "output_type": "execute_result"
    }
   ],
   "source": [
    "list(filter(None, map(isPrime, numbers)))"
   ]
  },
  {
   "cell_type": "code",
   "execution_count": null,
   "id": "expressed-height",
   "metadata": {},
   "outputs": [],
   "source": [
    "functions\n",
    "file handling\n",
    "visualization"
   ]
  },
  {
   "cell_type": "code",
   "execution_count": null,
   "id": "defensive-alpha",
   "metadata": {},
   "outputs": [],
   "source": [
    "pandas \n",
    "matplotlib\n",
    "xlrd\n",
    "xlwt"
   ]
  }
 ],
 "metadata": {
  "kernelspec": {
   "display_name": "Python 3",
   "language": "python",
   "name": "python3"
  },
  "language_info": {
   "codemirror_mode": {
    "name": "ipython",
    "version": 3
   },
   "file_extension": ".py",
   "mimetype": "text/x-python",
   "name": "python",
   "nbconvert_exporter": "python",
   "pygments_lexer": "ipython3",
   "version": "3.6.8"
  },
  "nbTranslate": {
   "displayLangs": [
    "*"
   ],
   "hotkey": "alt-t",
   "langInMainMenu": true,
   "sourceLang": "en",
   "targetLang": "fr",
   "useGoogleTranslate": true
  },
  "toc": {
   "base_numbering": 1,
   "nav_menu": {},
   "number_sections": true,
   "sideBar": true,
   "skip_h1_title": false,
   "title_cell": "Table of Contents",
   "title_sidebar": "Contents",
   "toc_cell": false,
   "toc_position": {},
   "toc_section_display": true,
   "toc_window_display": false
  },
  "varInspector": {
   "cols": {
    "lenName": 16,
    "lenType": 16,
    "lenVar": 40
   },
   "kernels_config": {
    "python": {
     "delete_cmd_postfix": "",
     "delete_cmd_prefix": "del ",
     "library": "var_list.py",
     "varRefreshCmd": "print(var_dic_list())"
    },
    "r": {
     "delete_cmd_postfix": ") ",
     "delete_cmd_prefix": "rm(",
     "library": "var_list.r",
     "varRefreshCmd": "cat(var_dic_list()) "
    }
   },
   "types_to_exclude": [
    "module",
    "function",
    "builtin_function_or_method",
    "instance",
    "_Feature"
   ],
   "window_display": false
  }
 },
 "nbformat": 4,
 "nbformat_minor": 5
}
