{
 "cells": [
  {
   "cell_type": "markdown",
   "id": "simple-motivation",
   "metadata": {},
   "source": [
    "Reference Links:\n",
    "    \n",
    "    Cheatsheet :- http://bit.ly/AIcheatsheet\n",
    "    Books :- http://bit.ly/AI_material\n",
    "    GitHub :- http://bit.ly/AI_repos\n",
    "    String methods:- http://bit.ly/stringMethods\n",
    "    Exercise:- https://www.w3resource.com/python-exercises/ , https://www.practicepython.org/\n",
    "    Exception methods:- http://bit.ly/exceptionNames\n",
    "    python standard:- http://bit.ly/pythonStyle\n",
    "    DIP Book:- http://bit.ly/bookDIP"
   ]
  },
  {
   "cell_type": "markdown",
   "id": "nominated-printing",
   "metadata": {},
   "source": [
    "Content:\n",
    "     \n",
    "    First week\n",
    "        Python\n",
    "\n",
    "    Second Week\n",
    "        ML Deployment overview\n",
    "        ML Implementation - 4-5 algorithms \n",
    "        ML Deployment for same algorithms\n",
    "        Docker\n",
    "   \n",
    "    Third Week\n",
    "       DL Implementation and its deployment\n",
    "       AWS Sagemaker"
   ]
  },
  {
   "cell_type": "markdown",
   "id": "valued-colonial",
   "metadata": {},
   "source": [
    "7 steps of implementation\n",
    "\n",
    "    1. Load dataset\n",
    "    2. Split dataset (70:30)\n",
    "    3. Define an algorithm\n",
    "    4. Training\n",
    "    5. Validation\n",
    "    6. Tuning\n",
    "    7. Cross validation"
   ]
  },
  {
   "cell_type": "markdown",
   "id": "hundred-russian",
   "metadata": {},
   "source": [
    "IDE I use\n",
    "    \n",
    "    pycharm -> industry \n",
    "    \n",
    "    notebook -> teaching and research"
   ]
  },
  {
   "cell_type": "markdown",
   "id": "liable-keyboard",
   "metadata": {},
   "source": [
    "ML Application Technologies\n",
    "\n",
    "    1. Image processing with ML -> DIP, opencv , tensorflow\n",
    "    2. NLP (NLU and NLG) -> tensorflow, NLP\n",
    "    3. Robotics -> Mechatronics background\n",
    "    4. Medical diagnosis -> medical background"
   ]
  },
  {
   "cell_type": "markdown",
   "id": "floating-cornwall",
   "metadata": {},
   "source": [
    "ways to reach me\n",
    "\n",
    "    1. Linkedin -> https://www.linkedin.com/in/sharmasaravanan/\n",
    "    2. mail -> sharma@besoins.in\n",
    "    3. web -> sharmasaravanan.com"
   ]
  },
  {
   "cell_type": "code",
   "execution_count": 6,
   "id": "material-record",
   "metadata": {},
   "outputs": [
    {
     "name": "stdout",
     "output_type": "stream",
     "text": [
      "7\n"
     ]
    }
   ],
   "source": [
    "a = 5\n",
    "b = 2\n",
    "print(a+b)"
   ]
  },
  {
   "cell_type": "code",
   "execution_count": 8,
   "id": "ongoing-impact",
   "metadata": {},
   "outputs": [],
   "source": [
    "a = 5 # int\n",
    "b = 3.14  # float\n",
    "c = 'apple' # string\n",
    "d = True  # bool"
   ]
  },
  {
   "cell_type": "code",
   "execution_count": 9,
   "id": "interim-screening",
   "metadata": {},
   "outputs": [],
   "source": [
    "a ,A = 5,6"
   ]
  },
  {
   "cell_type": "code",
   "execution_count": 16,
   "id": "ignored-royal",
   "metadata": {},
   "outputs": [
    {
     "name": "stdout",
     "output_type": "stream",
     "text": [
      "Enter your name :ss\n",
      "Enter your age :12\n",
      "ss 12\n"
     ]
    }
   ],
   "source": [
    "# getting input and displaying output\n",
    "name = input(\"Enter your name :\")\n",
    "age = int(input(\"Enter your age :\"))\n",
    "print(name, age)"
   ]
  },
  {
   "cell_type": "code",
   "execution_count": 17,
   "id": "educated-cuisine",
   "metadata": {},
   "outputs": [
    {
     "name": "stdout",
     "output_type": "stream",
     "text": [
      "<class 'str'> <class 'int'>\n"
     ]
    }
   ],
   "source": [
    "print(type(name),type(age))"
   ]
  },
  {
   "cell_type": "code",
   "execution_count": null,
   "id": "baking-shanghai",
   "metadata": {},
   "outputs": [],
   "source": [
    "+ - * / % //\n",
    "\n",
    "< > <= >=  == !=\n",
    "\n",
    "and not or"
   ]
  },
  {
   "cell_type": "code",
   "execution_count": 20,
   "id": "together-upper",
   "metadata": {},
   "outputs": [
    {
     "name": "stdout",
     "output_type": "stream",
     "text": [
      "Enter any number: 31\n",
      "Number is odd\n"
     ]
    }
   ],
   "source": [
    "num = float(input(\"Enter any number: \"))\n",
    "if num % 2 == 0:\n",
    "    print('Number is even')\n",
    "else:\n",
    "    print(\"Number is odd\")"
   ]
  },
  {
   "cell_type": "code",
   "execution_count": 23,
   "id": "intellectual-biography",
   "metadata": {},
   "outputs": [
    {
     "name": "stdout",
     "output_type": "stream",
     "text": [
      "Enter any number: 5\n",
      "Number is odd\n"
     ]
    }
   ],
   "source": [
    "num = float(input(\"Enter any number: \"))\n",
    "if num % 4 == 0:\n",
    "    print(\"Number is divisible by 4 and even\")\n",
    "elif num % 2 == 0:\n",
    "    print('Number is even')\n",
    "else:\n",
    "    print(\"Number is odd\")"
   ]
  },
  {
   "cell_type": "code",
   "execution_count": 24,
   "id": "differential-capture",
   "metadata": {},
   "outputs": [
    {
     "name": "stdout",
     "output_type": "stream",
     "text": [
      "Enter any number: 12\n",
      "Number is divisible by 4 and even\n",
      "Enter any number: 32\n",
      "Number is divisible by 4 and even\n",
      "Enter any number: 45\n",
      "Number is odd\n",
      "Enter any number: 56\n",
      "Number is divisible by 4 and even\n"
     ]
    }
   ],
   "source": [
    "i = 1\n",
    "while i < 5:\n",
    "    num = float(input(\"Enter any number: \"))\n",
    "    if num % 4 == 0:\n",
    "        print(\"Number is divisible by 4 and even\")\n",
    "    elif num % 2 == 0:\n",
    "        print('Number is even')\n",
    "    else:\n",
    "        print(\"Number is odd\")\n",
    "    \n",
    "    i+= 1 # i = i + 1"
   ]
  },
  {
   "cell_type": "code",
   "execution_count": 25,
   "id": "described-detective",
   "metadata": {},
   "outputs": [
    {
     "name": "stdout",
     "output_type": "stream",
     "text": [
      "Enter any number: 45\n",
      "Number is odd\n",
      "Do you want to continue? y/n: y\n",
      "Enter any number: 12\n",
      "Number is divisible by 4 and even\n",
      "Do you want to continue? y/n: n\n"
     ]
    }
   ],
   "source": [
    "opt = 'y'\n",
    "while opt == 'y':\n",
    "    num = float(input(\"Enter any number: \"))\n",
    "    if num % 4 == 0:\n",
    "        print(\"Number is divisible by 4 and even\")\n",
    "    elif num % 2 == 0:\n",
    "        print('Number is even')\n",
    "    else:\n",
    "        print(\"Number is odd\")\n",
    "    opt = input(\"Do you want to continue? y/n: \")"
   ]
  },
  {
   "cell_type": "code",
   "execution_count": 29,
   "id": "adequate-distinction",
   "metadata": {},
   "outputs": [
    {
     "name": "stdout",
     "output_type": "stream",
     "text": [
      "Enter any number: 78\n",
      "Number is even\n",
      "Enter any number: 324\n",
      "Number is divisible by 4 and even\n",
      "Enter any number: 45\n",
      "Stopping......\n"
     ]
    }
   ],
   "source": [
    "while True:\n",
    "    num = float(input(\"Enter any number: \"))\n",
    "    \n",
    "    if num == 15 or num == 45:\n",
    "        print(\"Stopping......\")\n",
    "        break\n",
    "    elif num == 25:\n",
    "        print(\"Skipping......\")\n",
    "        continue\n",
    "        \n",
    "    if num % 4 == 0:\n",
    "        print(\"Number is divisible by 4 and even\")\n",
    "    elif num % 2 == 0:\n",
    "        print('Number is even')\n",
    "    else:\n",
    "        print(\"Number is odd\")"
   ]
  },
  {
   "cell_type": "markdown",
   "id": "literary-lightning",
   "metadata": {},
   "source": [
    "                                        HW-1\n",
    "Write a python code for rock-paper-scissor game.use the following rules to predict the winner\n",
    "        \n",
    "        rock beats scissor\n",
    "        scissor beats paper\n",
    "        paper beats rock"
   ]
  },
  {
   "cell_type": "code",
   "execution_count": 30,
   "id": "closed-palestine",
   "metadata": {},
   "outputs": [],
   "source": [
    "name = 'elephant'\n",
    "sent = 'elephant is an animal'"
   ]
  },
  {
   "cell_type": "code",
   "execution_count": 34,
   "id": "posted-football",
   "metadata": {},
   "outputs": [
    {
     "data": {
      "text/plain": [
       "('p', 'p')"
      ]
     },
     "execution_count": 34,
     "metadata": {},
     "output_type": "execute_result"
    }
   ],
   "source": [
    "name[3], name[-5]"
   ]
  },
  {
   "cell_type": "code",
   "execution_count": 35,
   "id": "handled-ecology",
   "metadata": {},
   "outputs": [
    {
     "data": {
      "text/plain": [
       "'ele'"
      ]
     },
     "execution_count": 35,
     "metadata": {},
     "output_type": "execute_result"
    }
   ],
   "source": [
    "name[:3]"
   ]
  },
  {
   "cell_type": "code",
   "execution_count": 36,
   "id": "alpine-repair",
   "metadata": {},
   "outputs": [
    {
     "data": {
      "text/plain": [
       "'phant'"
      ]
     },
     "execution_count": 36,
     "metadata": {},
     "output_type": "execute_result"
    }
   ],
   "source": [
    "name[3:]"
   ]
  },
  {
   "cell_type": "code",
   "execution_count": 37,
   "id": "single-gambling",
   "metadata": {},
   "outputs": [
    {
     "data": {
      "text/plain": [
       "'epha'"
      ]
     },
     "execution_count": 37,
     "metadata": {},
     "output_type": "execute_result"
    }
   ],
   "source": [
    "name[2:6]"
   ]
  },
  {
   "cell_type": "code",
   "execution_count": 38,
   "id": "rational-champagne",
   "metadata": {},
   "outputs": [
    {
     "data": {
      "text/plain": [
       "'eh'"
      ]
     },
     "execution_count": 38,
     "metadata": {},
     "output_type": "execute_result"
    }
   ],
   "source": [
    "name[2:6:2]"
   ]
  },
  {
   "cell_type": "code",
   "execution_count": 40,
   "id": "painful-dylan",
   "metadata": {},
   "outputs": [
    {
     "data": {
      "text/plain": [
       "'ehn sa'"
      ]
     },
     "execution_count": 40,
     "metadata": {},
     "output_type": "execute_result"
    }
   ],
   "source": [
    "sent[2:14:2]"
   ]
  },
  {
   "cell_type": "code",
   "execution_count": 41,
   "id": "beneficial-working",
   "metadata": {},
   "outputs": [
    {
     "data": {
      "text/plain": [
       "8"
      ]
     },
     "execution_count": 41,
     "metadata": {},
     "output_type": "execute_result"
    }
   ],
   "source": [
    "len(name)"
   ]
  },
  {
   "cell_type": "code",
   "execution_count": 45,
   "id": "chemical-recall",
   "metadata": {},
   "outputs": [
    {
     "data": {
      "text/plain": [
       "'Elephant is an animal'"
      ]
     },
     "execution_count": 45,
     "metadata": {},
     "output_type": "execute_result"
    }
   ],
   "source": [
    "sent.capitalize()"
   ]
  },
  {
   "cell_type": "code",
   "execution_count": 46,
   "id": "ongoing-bundle",
   "metadata": {},
   "outputs": [
    {
     "data": {
      "text/plain": [
       "'Elephant Is An Animal'"
      ]
     },
     "execution_count": 46,
     "metadata": {},
     "output_type": "execute_result"
    }
   ],
   "source": [
    "sent.title()"
   ]
  },
  {
   "cell_type": "code",
   "execution_count": 47,
   "id": "tested-communications",
   "metadata": {},
   "outputs": [
    {
     "data": {
      "text/plain": [
       "False"
      ]
     },
     "execution_count": 47,
     "metadata": {},
     "output_type": "execute_result"
    }
   ],
   "source": [
    "sent.isalnum()"
   ]
  },
  {
   "cell_type": "code",
   "execution_count": 51,
   "id": "native-consultancy",
   "metadata": {},
   "outputs": [
    {
     "data": {
      "text/plain": [
       "True"
      ]
     },
     "execution_count": 51,
     "metadata": {},
     "output_type": "execute_result"
    }
   ],
   "source": [
    "name.islower()"
   ]
  },
  {
   "cell_type": "code",
   "execution_count": 52,
   "id": "friendly-stretch",
   "metadata": {},
   "outputs": [
    {
     "data": {
      "text/plain": [
       "'eleyhant'"
      ]
     },
     "execution_count": 52,
     "metadata": {},
     "output_type": "execute_result"
    }
   ],
   "source": [
    "name.replace('p','y')"
   ]
  },
  {
   "cell_type": "code",
   "execution_count": 53,
   "id": "sapphire-reproduction",
   "metadata": {},
   "outputs": [],
   "source": [
    "L = [] # list()"
   ]
  },
  {
   "cell_type": "code",
   "execution_count": 54,
   "id": "invalid-civilization",
   "metadata": {},
   "outputs": [],
   "source": [
    "l = ['a','b','c',1,2,3,'apple','mango','kiwi',2.34]"
   ]
  },
  {
   "cell_type": "code",
   "execution_count": 55,
   "id": "encouraging-validation",
   "metadata": {},
   "outputs": [
    {
     "data": {
      "text/plain": [
       "'apple'"
      ]
     },
     "execution_count": 55,
     "metadata": {},
     "output_type": "execute_result"
    }
   ],
   "source": [
    "l[6]"
   ]
  },
  {
   "cell_type": "code",
   "execution_count": 57,
   "id": "described-ghost",
   "metadata": {},
   "outputs": [],
   "source": [
    "l[5] = 4"
   ]
  },
  {
   "cell_type": "code",
   "execution_count": 58,
   "id": "provincial-belle",
   "metadata": {},
   "outputs": [
    {
     "data": {
      "text/plain": [
       "['a', 'b', 'c', 1, 2, 4, 'apple', 'mango', 'kiwi', 2.34]"
      ]
     },
     "execution_count": 58,
     "metadata": {},
     "output_type": "execute_result"
    }
   ],
   "source": [
    "l"
   ]
  },
  {
   "cell_type": "code",
   "execution_count": 59,
   "id": "bottom-identification",
   "metadata": {},
   "outputs": [],
   "source": [
    "del l[4]"
   ]
  },
  {
   "cell_type": "code",
   "execution_count": 60,
   "id": "verbal-genome",
   "metadata": {},
   "outputs": [
    {
     "data": {
      "text/plain": [
       "['a', 'b', 'c', 1, 4, 'apple', 'mango', 'kiwi', 2.34]"
      ]
     },
     "execution_count": 60,
     "metadata": {},
     "output_type": "execute_result"
    }
   ],
   "source": [
    "l"
   ]
  },
  {
   "cell_type": "code",
   "execution_count": 61,
   "id": "spatial-elephant",
   "metadata": {},
   "outputs": [
    {
     "data": {
      "text/plain": [
       "9"
      ]
     },
     "execution_count": 61,
     "metadata": {},
     "output_type": "execute_result"
    }
   ],
   "source": [
    "len(l)"
   ]
  },
  {
   "cell_type": "code",
   "execution_count": 64,
   "id": "objective-sherman",
   "metadata": {},
   "outputs": [
    {
     "data": {
      "text/plain": [
       "'tnahpele'"
      ]
     },
     "execution_count": 64,
     "metadata": {},
     "output_type": "execute_result"
    }
   ],
   "source": [
    "name[::-1]"
   ]
  },
  {
   "cell_type": "code",
   "execution_count": 65,
   "id": "stone-blackjack",
   "metadata": {},
   "outputs": [
    {
     "data": {
      "text/plain": [
       "[2.34, 'kiwi', 'mango', 'apple', 4, 1, 'c', 'b', 'a']"
      ]
     },
     "execution_count": 65,
     "metadata": {},
     "output_type": "execute_result"
    }
   ],
   "source": [
    "l[::-1]"
   ]
  },
  {
   "cell_type": "code",
   "execution_count": 66,
   "id": "successful-dynamics",
   "metadata": {},
   "outputs": [],
   "source": [
    "l.append(\"papaya\")"
   ]
  },
  {
   "cell_type": "code",
   "execution_count": 67,
   "id": "vertical-divide",
   "metadata": {},
   "outputs": [
    {
     "data": {
      "text/plain": [
       "['a', 'b', 'c', 1, 4, 'apple', 'mango', 'kiwi', 2.34, 'papaya']"
      ]
     },
     "execution_count": 67,
     "metadata": {},
     "output_type": "execute_result"
    }
   ],
   "source": [
    "l"
   ]
  },
  {
   "cell_type": "code",
   "execution_count": 68,
   "id": "separate-brook",
   "metadata": {},
   "outputs": [],
   "source": [
    "l.insert(4, 'banana')"
   ]
  },
  {
   "cell_type": "code",
   "execution_count": 70,
   "id": "middle-laser",
   "metadata": {},
   "outputs": [
    {
     "data": {
      "text/plain": [
       "4"
      ]
     },
     "execution_count": 70,
     "metadata": {},
     "output_type": "execute_result"
    }
   ],
   "source": [
    "l.index('banana')"
   ]
  },
  {
   "cell_type": "code",
   "execution_count": 71,
   "id": "banner-skirt",
   "metadata": {},
   "outputs": [],
   "source": [
    "g = l"
   ]
  },
  {
   "cell_type": "code",
   "execution_count": 72,
   "id": "interracial-jumping",
   "metadata": {},
   "outputs": [
    {
     "data": {
      "text/plain": [
       "['a', 'b', 'c', 1, 'banana', 4, 'apple', 'mango', 'kiwi', 2.34, 'papaya']"
      ]
     },
     "execution_count": 72,
     "metadata": {},
     "output_type": "execute_result"
    }
   ],
   "source": [
    "g"
   ]
  },
  {
   "cell_type": "code",
   "execution_count": 73,
   "id": "sophisticated-money",
   "metadata": {},
   "outputs": [
    {
     "data": {
      "text/plain": [
       "'papaya'"
      ]
     },
     "execution_count": 73,
     "metadata": {},
     "output_type": "execute_result"
    }
   ],
   "source": [
    "l.pop()"
   ]
  },
  {
   "cell_type": "code",
   "execution_count": 76,
   "id": "advance-lightning",
   "metadata": {},
   "outputs": [],
   "source": [
    "f = l.copy()"
   ]
  },
  {
   "cell_type": "code",
   "execution_count": 78,
   "id": "disciplinary-nomination",
   "metadata": {},
   "outputs": [],
   "source": [
    "f.remove(2.34)"
   ]
  },
  {
   "cell_type": "code",
   "execution_count": 79,
   "id": "fourth-warrior",
   "metadata": {},
   "outputs": [
    {
     "data": {
      "text/plain": [
       "['a', 'b', 'c', 1, 'banana', 4, 'apple', 'mango', 'kiwi']"
      ]
     },
     "execution_count": 79,
     "metadata": {},
     "output_type": "execute_result"
    }
   ],
   "source": [
    "f"
   ]
  },
  {
   "cell_type": "code",
   "execution_count": 80,
   "id": "complex-drinking",
   "metadata": {},
   "outputs": [
    {
     "data": {
      "text/plain": [
       "['a', 'b', 'c', 1, 'banana', 4, 'apple', 'mango', 'kiwi', 2.34]"
      ]
     },
     "execution_count": 80,
     "metadata": {},
     "output_type": "execute_result"
    }
   ],
   "source": [
    "l"
   ]
  },
  {
   "cell_type": "code",
   "execution_count": 82,
   "id": "hispanic-carroll",
   "metadata": {},
   "outputs": [],
   "source": [
    "L.extend(f)"
   ]
  },
  {
   "cell_type": "code",
   "execution_count": 83,
   "id": "written-exclusive",
   "metadata": {},
   "outputs": [
    {
     "data": {
      "text/plain": [
       "['a', 'b', 'c', 1, 'banana', 4, 'apple', 'mango', 'kiwi']"
      ]
     },
     "execution_count": 83,
     "metadata": {},
     "output_type": "execute_result"
    }
   ],
   "source": [
    "f"
   ]
  },
  {
   "cell_type": "code",
   "execution_count": 84,
   "id": "concerned-party",
   "metadata": {},
   "outputs": [
    {
     "data": {
      "text/plain": [
       "['a', 'b', 'c', 1, 'banana', 4, 'apple', 'mango', 'kiwi']"
      ]
     },
     "execution_count": 84,
     "metadata": {},
     "output_type": "execute_result"
    }
   ],
   "source": [
    "L"
   ]
  },
  {
   "cell_type": "code",
   "execution_count": 89,
   "id": "cross-drawing",
   "metadata": {},
   "outputs": [],
   "source": [
    "l.remove(2.34)"
   ]
  },
  {
   "cell_type": "code",
   "execution_count": 93,
   "id": "stopped-community",
   "metadata": {},
   "outputs": [],
   "source": [
    "l.sort(reverse=True)"
   ]
  },
  {
   "cell_type": "code",
   "execution_count": 94,
   "id": "sharing-hunter",
   "metadata": {},
   "outputs": [
    {
     "data": {
      "text/plain": [
       "['mango', 'kiwi', 'c', 'banana', 'b', 'apple', 'a']"
      ]
     },
     "execution_count": 94,
     "metadata": {},
     "output_type": "execute_result"
    }
   ],
   "source": [
    "l"
   ]
  },
  {
   "cell_type": "code",
   "execution_count": 95,
   "id": "structured-picture",
   "metadata": {},
   "outputs": [
    {
     "name": "stdout",
     "output_type": "stream",
     "text": [
      "hi\n",
      "hi\n",
      "hi\n",
      "hi\n",
      "hi\n"
     ]
    }
   ],
   "source": [
    "for i in range(5):\n",
    "    print('hi')"
   ]
  },
  {
   "cell_type": "code",
   "execution_count": 96,
   "id": "hourly-classics",
   "metadata": {},
   "outputs": [
    {
     "name": "stdout",
     "output_type": "stream",
     "text": [
      "hi\n",
      "hi\n",
      "hi\n",
      "hi\n",
      "hi\n"
     ]
    }
   ],
   "source": [
    "for _ in range(5):\n",
    "    print('hi')"
   ]
  },
  {
   "cell_type": "code",
   "execution_count": 98,
   "id": "mysterious-treasure",
   "metadata": {},
   "outputs": [
    {
     "name": "stdout",
     "output_type": "stream",
     "text": [
      "10\n",
      "12\n",
      "14\n",
      "16\n",
      "18\n",
      "20\n",
      "22\n",
      "24\n"
     ]
    }
   ],
   "source": [
    "for i in range(10,25,2):\n",
    "    print(i)"
   ]
  },
  {
   "cell_type": "code",
   "execution_count": 99,
   "id": "junior-education",
   "metadata": {},
   "outputs": [
    {
     "name": "stdout",
     "output_type": "stream",
     "text": [
      "hi\n",
      "hi\n",
      "hi\n",
      "hi\n",
      "hi\n",
      "hi\n",
      "hi\n",
      "hi\n"
     ]
    }
   ],
   "source": [
    "for _ in range(len(name)):\n",
    "    print('hi')"
   ]
  },
  {
   "cell_type": "code",
   "execution_count": 100,
   "id": "chubby-department",
   "metadata": {},
   "outputs": [
    {
     "name": "stdout",
     "output_type": "stream",
     "text": [
      "e\n",
      "l\n",
      "e\n",
      "p\n",
      "h\n",
      "a\n",
      "n\n",
      "t\n"
     ]
    }
   ],
   "source": [
    "for i in name:\n",
    "    print(i)"
   ]
  },
  {
   "cell_type": "code",
   "execution_count": 101,
   "id": "comfortable-valuation",
   "metadata": {},
   "outputs": [
    {
     "name": "stdout",
     "output_type": "stream",
     "text": [
      "mango\n",
      "kiwi\n",
      "c\n",
      "banana\n",
      "b\n",
      "apple\n",
      "a\n"
     ]
    }
   ],
   "source": [
    "for i in l:\n",
    "    print(i)"
   ]
  },
  {
   "cell_type": "code",
   "execution_count": 103,
   "id": "blind-istanbul",
   "metadata": {},
   "outputs": [
    {
     "name": "stdout",
     "output_type": "stream",
     "text": [
      "0 e\n",
      "1 l\n",
      "2 e\n",
      "3 p\n",
      "4 h\n",
      "5 a\n",
      "6 n\n",
      "7 t\n"
     ]
    }
   ],
   "source": [
    "for i,ele in enumerate(name):\n",
    "    print(i,ele)"
   ]
  },
  {
   "cell_type": "code",
   "execution_count": 104,
   "id": "incorrect-struggle",
   "metadata": {},
   "outputs": [
    {
     "name": "stdout",
     "output_type": "stream",
     "text": [
      "0  ->  mango\n",
      "1  ->  kiwi\n",
      "2  ->  c\n",
      "3  ->  banana\n",
      "4  ->  b\n",
      "5  ->  apple\n",
      "6  ->  a\n"
     ]
    }
   ],
   "source": [
    "for i,ele in enumerate(l):\n",
    "    print(i,' -> ',ele)"
   ]
  },
  {
   "cell_type": "code",
   "execution_count": 106,
   "id": "serial-spotlight",
   "metadata": {},
   "outputs": [
    {
     "name": "stdout",
     "output_type": "stream",
     "text": [
      "a mango\n",
      "b kiwi\n",
      "c c\n",
      "1 banana\n",
      "banana b\n",
      "4 apple\n",
      "apple a\n"
     ]
    }
   ],
   "source": [
    "for i,j in zip(f,l):\n",
    "    print(i,j)"
   ]
  },
  {
   "cell_type": "code",
   "execution_count": 109,
   "id": "filled-interference",
   "metadata": {},
   "outputs": [
    {
     "name": "stdout",
     "output_type": "stream",
     "text": [
      "('a', 'mango')\n",
      "('b', 'kiwi')\n",
      "('c', 'c')\n",
      "(1, 'banana')\n",
      "('banana', 'b')\n",
      "(4, 'apple')\n",
      "('apple', 'a')\n"
     ]
    }
   ],
   "source": [
    "for i in zip(f,l):\n",
    "    print(i)"
   ]
  },
  {
   "cell_type": "code",
   "execution_count": 107,
   "id": "lasting-style",
   "metadata": {},
   "outputs": [
    {
     "data": {
      "text/plain": [
       "['a', 'b', 'c', 1, 'banana', 4, 'apple', 'mango', 'kiwi']"
      ]
     },
     "execution_count": 107,
     "metadata": {},
     "output_type": "execute_result"
    }
   ],
   "source": [
    "f"
   ]
  },
  {
   "cell_type": "code",
   "execution_count": 108,
   "id": "capable-judge",
   "metadata": {},
   "outputs": [
    {
     "data": {
      "text/plain": [
       "['mango', 'kiwi', 'c', 'banana', 'b', 'apple', 'a']"
      ]
     },
     "execution_count": 108,
     "metadata": {},
     "output_type": "execute_result"
    }
   ],
   "source": [
    "l"
   ]
  },
  {
   "cell_type": "markdown",
   "id": "oriented-cause",
   "metadata": {},
   "source": [
    "                                    HW-2\n",
    "write a python code for Hangman game.\n",
    "\n",
    "    Note: refer to the demo"
   ]
  },
  {
   "cell_type": "code",
   "execution_count": 110,
   "id": "hindu-baseline",
   "metadata": {},
   "outputs": [],
   "source": [
    "D = {} # dict()"
   ]
  },
  {
   "cell_type": "code",
   "execution_count": 111,
   "id": "looking-latter",
   "metadata": {},
   "outputs": [],
   "source": [
    "d = {'a':'apple', 'b':'ball', 2:name,3.14:l}"
   ]
  },
  {
   "cell_type": "code",
   "execution_count": 112,
   "id": "changing-mambo",
   "metadata": {},
   "outputs": [
    {
     "data": {
      "text/plain": [
       "{'a': 'apple',\n",
       " 'b': 'ball',\n",
       " 2: 'elephant',\n",
       " 3.14: ['mango', 'kiwi', 'c', 'banana', 'b', 'apple', 'a']}"
      ]
     },
     "execution_count": 112,
     "metadata": {},
     "output_type": "execute_result"
    }
   ],
   "source": [
    "d"
   ]
  },
  {
   "cell_type": "code",
   "execution_count": 113,
   "id": "annoying-hearing",
   "metadata": {},
   "outputs": [
    {
     "data": {
      "text/plain": [
       "'apple'"
      ]
     },
     "execution_count": 113,
     "metadata": {},
     "output_type": "execute_result"
    }
   ],
   "source": [
    "d['a']"
   ]
  },
  {
   "cell_type": "code",
   "execution_count": 114,
   "id": "diverse-priest",
   "metadata": {},
   "outputs": [
    {
     "data": {
      "text/plain": [
       "'elephant'"
      ]
     },
     "execution_count": 114,
     "metadata": {},
     "output_type": "execute_result"
    }
   ],
   "source": [
    "d[2]"
   ]
  },
  {
   "cell_type": "code",
   "execution_count": 116,
   "id": "southeast-detroit",
   "metadata": {},
   "outputs": [],
   "source": [
    "d['b'] ='bat'"
   ]
  },
  {
   "cell_type": "code",
   "execution_count": 117,
   "id": "absent-department",
   "metadata": {},
   "outputs": [
    {
     "data": {
      "text/plain": [
       "{'a': 'apple',\n",
       " 'b': 'bat',\n",
       " 2: 'elephant',\n",
       " 3.14: ['mango', 'kiwi', 'c', 'banana', 'b', 'apple', 'a']}"
      ]
     },
     "execution_count": 117,
     "metadata": {},
     "output_type": "execute_result"
    }
   ],
   "source": [
    "d"
   ]
  },
  {
   "cell_type": "code",
   "execution_count": 118,
   "id": "retained-complement",
   "metadata": {},
   "outputs": [],
   "source": [
    "del d[2]"
   ]
  },
  {
   "cell_type": "code",
   "execution_count": 119,
   "id": "favorite-billy",
   "metadata": {},
   "outputs": [
    {
     "data": {
      "text/plain": [
       "{'a': 'apple',\n",
       " 'b': 'bat',\n",
       " 3.14: ['mango', 'kiwi', 'c', 'banana', 'b', 'apple', 'a']}"
      ]
     },
     "execution_count": 119,
     "metadata": {},
     "output_type": "execute_result"
    }
   ],
   "source": [
    "d"
   ]
  },
  {
   "cell_type": "code",
   "execution_count": 120,
   "id": "exceptional-accessory",
   "metadata": {},
   "outputs": [],
   "source": [
    "d['p'] = 'papaya'"
   ]
  },
  {
   "cell_type": "code",
   "execution_count": 121,
   "id": "julian-bowling",
   "metadata": {},
   "outputs": [
    {
     "data": {
      "text/plain": [
       "{'a': 'apple',\n",
       " 'b': 'bat',\n",
       " 3.14: ['mango', 'kiwi', 'c', 'banana', 'b', 'apple', 'a'],\n",
       " 'p': 'papaya'}"
      ]
     },
     "execution_count": 121,
     "metadata": {},
     "output_type": "execute_result"
    }
   ],
   "source": [
    "d"
   ]
  },
  {
   "cell_type": "code",
   "execution_count": 124,
   "id": "quarterly-partnership",
   "metadata": {},
   "outputs": [
    {
     "data": {
      "text/plain": [
       "'apple'"
      ]
     },
     "execution_count": 124,
     "metadata": {},
     "output_type": "execute_result"
    }
   ],
   "source": [
    "d.get('a',\"No Key\")"
   ]
  },
  {
   "cell_type": "code",
   "execution_count": 122,
   "id": "emerging-framework",
   "metadata": {},
   "outputs": [
    {
     "ename": "KeyError",
     "evalue": "'y'",
     "output_type": "error",
     "traceback": [
      "\u001b[0;31m---------------------------------------------------------------------------\u001b[0m",
      "\u001b[0;31mKeyError\u001b[0m                                  Traceback (most recent call last)",
      "\u001b[0;32m<ipython-input-122-7ae159b89943>\u001b[0m in \u001b[0;36m<module>\u001b[0;34m\u001b[0m\n\u001b[0;32m----> 1\u001b[0;31m \u001b[0md\u001b[0m\u001b[0;34m[\u001b[0m\u001b[0;34m'y'\u001b[0m\u001b[0;34m]\u001b[0m\u001b[0;34m\u001b[0m\u001b[0;34m\u001b[0m\u001b[0m\n\u001b[0m",
      "\u001b[0;31mKeyError\u001b[0m: 'y'"
     ]
    }
   ],
   "source": [
    "d['y']"
   ]
  },
  {
   "cell_type": "code",
   "execution_count": 128,
   "id": "becoming-minutes",
   "metadata": {},
   "outputs": [],
   "source": [
    "D.update(d)"
   ]
  },
  {
   "cell_type": "code",
   "execution_count": 130,
   "id": "anonymous-survey",
   "metadata": {},
   "outputs": [
    {
     "data": {
      "text/plain": [
       "['mango', 'kiwi', 'c', 'banana', 'b', 'apple', 'a']"
      ]
     },
     "execution_count": 130,
     "metadata": {},
     "output_type": "execute_result"
    }
   ],
   "source": [
    "l"
   ]
  },
  {
   "cell_type": "code",
   "execution_count": 132,
   "id": "prostate-finnish",
   "metadata": {},
   "outputs": [
    {
     "data": {
      "text/plain": [
       "{'mango': 'test',\n",
       " 'kiwi': 'test',\n",
       " 'c': 'test',\n",
       " 'banana': 'test',\n",
       " 'b': 'test',\n",
       " 'apple': 'test',\n",
       " 'a': 'test'}"
      ]
     },
     "execution_count": 132,
     "metadata": {},
     "output_type": "execute_result"
    }
   ],
   "source": [
    "dict.fromkeys(l,\"test\")"
   ]
  },
  {
   "cell_type": "code",
   "execution_count": 133,
   "id": "black-breathing",
   "metadata": {},
   "outputs": [
    {
     "name": "stdout",
     "output_type": "stream",
     "text": [
      "a\n",
      "b\n",
      "3.14\n",
      "p\n"
     ]
    }
   ],
   "source": [
    "for k in d.keys():\n",
    "    print(k)"
   ]
  },
  {
   "cell_type": "code",
   "execution_count": 134,
   "id": "afraid-dominant",
   "metadata": {},
   "outputs": [
    {
     "name": "stdout",
     "output_type": "stream",
     "text": [
      "apple\n",
      "bat\n",
      "['mango', 'kiwi', 'c', 'banana', 'b', 'apple', 'a']\n",
      "papaya\n"
     ]
    }
   ],
   "source": [
    "for v in d.values():\n",
    "    print(v)"
   ]
  },
  {
   "cell_type": "code",
   "execution_count": 135,
   "id": "hired-living",
   "metadata": {},
   "outputs": [
    {
     "name": "stdout",
     "output_type": "stream",
     "text": [
      "a  ->  apple\n",
      "b  ->  bat\n",
      "3.14  ->  ['mango', 'kiwi', 'c', 'banana', 'b', 'apple', 'a']\n",
      "p  ->  papaya\n"
     ]
    }
   ],
   "source": [
    "for k,v in d.items():\n",
    "    print(k,\" -> \",v)"
   ]
  },
  {
   "cell_type": "code",
   "execution_count": 136,
   "id": "refined-sight",
   "metadata": {},
   "outputs": [
    {
     "data": {
      "text/plain": [
       "'elephant'"
      ]
     },
     "execution_count": 136,
     "metadata": {},
     "output_type": "execute_result"
    }
   ],
   "source": [
    "name"
   ]
  },
  {
   "cell_type": "code",
   "execution_count": 137,
   "id": "atlantic-reason",
   "metadata": {},
   "outputs": [
    {
     "data": {
      "text/plain": [
       "['e', 'l', 'e', 'p', 'h', 'a', 'n', 't']"
      ]
     },
     "execution_count": 137,
     "metadata": {},
     "output_type": "execute_result"
    }
   ],
   "source": [
    "list('elephant')"
   ]
  },
  {
   "cell_type": "code",
   "execution_count": 10,
   "id": "brutal-cylinder",
   "metadata": {},
   "outputs": [],
   "source": [
    "import math\n",
    "import pandas as pd\n",
    "from math import sin,factorial,sqrt\n",
    "from matplotlib.pyplot import *\n",
    "from test import testFunction"
   ]
  },
  {
   "cell_type": "code",
   "execution_count": 2,
   "id": "miniature-average",
   "metadata": {},
   "outputs": [
    {
     "data": {
      "text/plain": [
       "3.605551275463989"
      ]
     },
     "execution_count": 2,
     "metadata": {},
     "output_type": "execute_result"
    }
   ],
   "source": [
    "math.sqrt(13)"
   ]
  },
  {
   "cell_type": "code",
   "execution_count": 3,
   "id": "velvet-michigan",
   "metadata": {},
   "outputs": [
    {
     "data": {
      "text/plain": [
       "120"
      ]
     },
     "execution_count": 3,
     "metadata": {},
     "output_type": "execute_result"
    }
   ],
   "source": [
    "math.factorial(5)"
   ]
  },
  {
   "cell_type": "code",
   "execution_count": 6,
   "id": "equal-regular",
   "metadata": {},
   "outputs": [
    {
     "name": "stderr",
     "output_type": "stream",
     "text": [
      "/Library/Frameworks/Python.framework/Versions/3.6/lib/python3.6/site-packages/ipykernel_launcher.py:1: DeprecationWarning: The default dtype for empty Series will be 'object' instead of 'float64' in a future version. Specify a dtype explicitly to silence this warning.\n",
      "  \"\"\"Entry point for launching an IPython kernel.\n"
     ]
    },
    {
     "data": {
      "text/plain": [
       "Series([], dtype: float64)"
      ]
     },
     "execution_count": 6,
     "metadata": {},
     "output_type": "execute_result"
    }
   ],
   "source": [
    "pd.Series()"
   ]
  },
  {
   "cell_type": "code",
   "execution_count": 8,
   "id": "solved-banks",
   "metadata": {},
   "outputs": [
    {
     "data": {
      "text/plain": [
       "6.708203932499369"
      ]
     },
     "execution_count": 8,
     "metadata": {},
     "output_type": "execute_result"
    }
   ],
   "source": [
    "sqrt(45)"
   ]
  },
  {
   "cell_type": "code",
   "execution_count": 9,
   "id": "intellectual-throw",
   "metadata": {},
   "outputs": [
    {
     "data": {
      "text/plain": [
       "0.8939966636005579"
      ]
     },
     "execution_count": 9,
     "metadata": {},
     "output_type": "execute_result"
    }
   ],
   "source": [
    "sin(90)"
   ]
  },
  {
   "cell_type": "markdown",
   "id": "accredited-occasion",
   "metadata": {},
   "source": [
    "seaborn matplotlib plotly"
   ]
  },
  {
   "cell_type": "code",
   "execution_count": 12,
   "id": "positive-boating",
   "metadata": {
    "scrolled": true
   },
   "outputs": [
    {
     "name": "stdout",
     "output_type": "stream",
     "text": [
      "Vanakam Vanga Hangman game veliyadunga\n",
      "ENter choice between 1-5 : 6\n",
      "['-', '-', '-', '-', '-', '-', '-']\n",
      "GUess the letter of word : w\n",
      "[0]\n",
      "['w', '-', '-', '-', '-', '-', '-']\n",
      "('No of trys: ', 1)\n",
      "['w', '-', '-', '-', '-', '-', '-']\n",
      "GUess the letter of word : e\n",
      "[1, 6]\n",
      "['w', 'e', '-', '-', '-', '-', '-']\n",
      "['w', 'e', '-', '-', '-', '-', 'e']\n",
      "('No of trys: ', 2)\n",
      "['w', 'e', '-', '-', '-', '-', 'e']\n",
      "GUess the letter of word : l\n",
      "[2]\n",
      "['w', 'e', 'l', '-', '-', '-', 'e']\n",
      "('No of trys: ', 3)\n",
      "['w', 'e', 'l', '-', '-', '-', 'e']\n",
      "GUess the letter of word : c\n",
      "[3]\n",
      "['w', 'e', 'l', 'c', '-', '-', 'e']\n",
      "('No of trys: ', 4)\n",
      "['w', 'e', 'l', 'c', '-', '-', 'e']\n",
      "GUess the letter of word : o\n",
      "[4]\n",
      "['w', 'e', 'l', 'c', 'o', '-', 'e']\n",
      "('No of trys: ', 5)\n",
      "['w', 'e', 'l', 'c', 'o', '-', 'e']\n",
      "GUess the letter of word : m\n",
      "[5]\n",
      "['w', 'e', 'l', 'c', 'o', 'm', 'e']\n",
      "('No of trys: ', 6)\n"
     ]
    }
   ],
   "source": [
    "# v.saravanakumar hangman python program\n",
    "words = {\n",
    "    1: 'welcome',\n",
    "    2: 'vanakam',\n",
    "    3: 'machine learning',\n",
    "    4: 'python',\n",
    "    5: 'king cobra'\n",
    "}\n",
    "count = 0\n",
    "print(\"Vanakam Vanga Hangman game veliyadunga\")\n",
    "no = int(eval(input(\"ENter choice between 1-5 : \")))\n",
    "text = list(words.get(no, words[1]))\n",
    "l = len(text)\n",
    "ptext = []\n",
    "for i in range(0, l):\n",
    "    ptext.append('-')\n",
    "\n",
    "for i in range(0, l):\n",
    "    if text[i] == ' ':\n",
    "        ptext[i] = ' '\n",
    "\n",
    "while ptext != text:\n",
    "    print(ptext)\n",
    "    count += 1\n",
    "    try:\n",
    "        s = input(\"GUess the letter of word : \")\n",
    "    except:\n",
    "        print(\"There is some error in the input. Please re-try.\")\n",
    "        continue\n",
    "    countl = [i for i, x in enumerate(text) if x == s]\n",
    "    print(countl)\n",
    "    for i in range(0, len(countl)):\n",
    "        ptext[countl[i]] = s\n",
    "        print(ptext)\n",
    "    if s == '0':\n",
    "        break\n",
    "    print((\"No of trys: \", count))"
   ]
  },
  {
   "cell_type": "code",
   "execution_count": 3,
   "id": "fallen-change",
   "metadata": {},
   "outputs": [
    {
     "name": "stdout",
     "output_type": "stream",
     "text": [
      "There is an error: name 'x' is not defined\n",
      "Hello world!!!!\n"
     ]
    }
   ],
   "source": [
    "try:\n",
    "    print(x)\n",
    "except Exception as e:\n",
    "    print(\"There is an error:\", e)\n",
    "print(\"Hello world!!!!\")"
   ]
  },
  {
   "cell_type": "code",
   "execution_count": 13,
   "id": "contrary-fiber",
   "metadata": {},
   "outputs": [
    {
     "name": "stdout",
     "output_type": "stream",
     "text": [
      "6\n",
      "Hello world!!!!\n"
     ]
    }
   ],
   "source": [
    "try:\n",
    "    print(x)\n",
    "except NameError as e:\n",
    "    print(\"There is a name error:\", e)\n",
    "    x = 6\n",
    "except TypeError as e:\n",
    "    print(\"There is a type error:\", e)\n",
    "except Exception as e:\n",
    "    print(\"General error\")\n",
    "print(\"Hello world!!!!\")"
   ]
  },
  {
   "cell_type": "code",
   "execution_count": 16,
   "id": "nominated-failure",
   "metadata": {},
   "outputs": [
    {
     "name": "stdout",
     "output_type": "stream",
     "text": [
      "Enter any number : d\n",
      "You have entered string.Please enter numeric value\n",
      "Enter any number : 12\n"
     ]
    }
   ],
   "source": [
    "try:\n",
    "    num = float(input(\"Enter any number : \"))\n",
    "except ValueError:\n",
    "    print(\"You have entered string.Please enter numeric value\")\n",
    "    num = float(input(\"Enter any number : \"))"
   ]
  },
  {
   "cell_type": "code",
   "execution_count": 20,
   "id": "internal-edmonton",
   "metadata": {},
   "outputs": [
    {
     "name": "stdout",
     "output_type": "stream",
     "text": [
      "Enter any number : 12\n"
     ]
    }
   ],
   "source": [
    "num = input(\"Enter any number : \")\n",
    "\n",
    "if num.isalpha() or not num.isdigit():\n",
    "    raise ValueError(\"You have entered string.Please enter numeric value\")"
   ]
  },
  {
   "cell_type": "code",
   "execution_count": 27,
   "id": "remarkable-guyana",
   "metadata": {},
   "outputs": [],
   "source": [
    "# without any arg and without returns\n",
    "def addition():\n",
    "    a = float(eval(input(\"a : \")))\n",
    "    b = float(eval(input(\"b : \")))\n",
    "    print((a + b, round(a * b,2)))"
   ]
  },
  {
   "cell_type": "code",
   "execution_count": 29,
   "id": "deadly-saver",
   "metadata": {},
   "outputs": [],
   "source": [
    "# without any arg and with returns\n",
    "def addition():\n",
    "    a = float(eval(input(\"a : \")))\n",
    "    b = float(eval(input(\"b : \")))\n",
    "    return a + b, round(a * b, 2)"
   ]
  },
  {
   "cell_type": "code",
   "execution_count": 35,
   "id": "separate-poster",
   "metadata": {},
   "outputs": [],
   "source": [
    "# with any arg and with returns\n",
    "def addition(a,b):\n",
    "    return a + b, round(a * b, 2)"
   ]
  },
  {
   "cell_type": "code",
   "execution_count": 36,
   "id": "public-cornwall",
   "metadata": {},
   "outputs": [
    {
     "name": "stdout",
     "output_type": "stream",
     "text": [
      "a : 5\n",
      "b : 8\n"
     ]
    }
   ],
   "source": [
    "c = float(eval(input(\"a : \")))\n",
    "d = float(eval(input(\"b : \")))"
   ]
  },
  {
   "cell_type": "code",
   "execution_count": 39,
   "id": "flush-defense",
   "metadata": {},
   "outputs": [],
   "source": [
    "# with any arg and with returns also with default value\n",
    "def addition(b,a=5):\n",
    "    return a + b, round(a * b, 2)"
   ]
  },
  {
   "cell_type": "code",
   "execution_count": 40,
   "id": "approved-joint",
   "metadata": {},
   "outputs": [],
   "source": [
    "ans = addition(c)"
   ]
  },
  {
   "cell_type": "code",
   "execution_count": 37,
   "id": "included-negative",
   "metadata": {
    "scrolled": true
   },
   "outputs": [],
   "source": [
    "ans = addition(c,d)"
   ]
  },
  {
   "cell_type": "code",
   "execution_count": 42,
   "id": "collaborative-jackson",
   "metadata": {},
   "outputs": [],
   "source": [
    "ans = addition(2.52,2.67)"
   ]
  },
  {
   "cell_type": "code",
   "execution_count": 43,
   "id": "welsh-reasoning",
   "metadata": {},
   "outputs": [
    {
     "data": {
      "text/plain": [
       "(5.1899999999999995, 6.73)"
      ]
     },
     "execution_count": 43,
     "metadata": {},
     "output_type": "execute_result"
    }
   ],
   "source": [
    "ans"
   ]
  },
  {
   "cell_type": "code",
   "execution_count": 32,
   "id": "polyphonic-technique",
   "metadata": {},
   "outputs": [
    {
     "name": "stdout",
     "output_type": "stream",
     "text": [
      "a : 3\n",
      "b : 4\n"
     ]
    }
   ],
   "source": [
    "s,m = addition()"
   ]
  },
  {
   "cell_type": "code",
   "execution_count": 34,
   "id": "recreational-uganda",
   "metadata": {},
   "outputs": [
    {
     "data": {
      "text/plain": [
       "12.0"
      ]
     },
     "execution_count": 34,
     "metadata": {},
     "output_type": "execute_result"
    }
   ],
   "source": [
    "m"
   ]
  },
  {
   "cell_type": "code",
   "execution_count": 44,
   "id": "pressing-trigger",
   "metadata": {},
   "outputs": [],
   "source": [
    "f = lambda a,b : a+b"
   ]
  },
  {
   "cell_type": "code",
   "execution_count": 46,
   "id": "conceptual-independence",
   "metadata": {},
   "outputs": [],
   "source": [
    "s = lambda s : str(s).upper()"
   ]
  },
  {
   "cell_type": "code",
   "execution_count": 45,
   "id": "considered-appeal",
   "metadata": {},
   "outputs": [
    {
     "data": {
      "text/plain": [
       "9"
      ]
     },
     "execution_count": 45,
     "metadata": {},
     "output_type": "execute_result"
    }
   ],
   "source": [
    "f(4,5)"
   ]
  },
  {
   "cell_type": "code",
   "execution_count": 47,
   "id": "central-pattern",
   "metadata": {},
   "outputs": [
    {
     "data": {
      "text/plain": [
       "'APPLE'"
      ]
     },
     "execution_count": 47,
     "metadata": {},
     "output_type": "execute_result"
    }
   ],
   "source": [
    "s('apple')"
   ]
  },
  {
   "cell_type": "code",
   "execution_count": 48,
   "id": "chicken-attribute",
   "metadata": {},
   "outputs": [],
   "source": [
    "l = [None,2,None,3,4,5,None]"
   ]
  },
  {
   "cell_type": "code",
   "execution_count": 51,
   "id": "crucial-envelope",
   "metadata": {},
   "outputs": [],
   "source": [
    "l = [False,2,False,3,4,5,False]"
   ]
  },
  {
   "cell_type": "code",
   "execution_count": 50,
   "id": "modified-deployment",
   "metadata": {},
   "outputs": [
    {
     "data": {
      "text/plain": [
       "[2, 3, 4, 5]"
      ]
     },
     "execution_count": 50,
     "metadata": {},
     "output_type": "execute_result"
    }
   ],
   "source": [
    "list(filter(None,l))"
   ]
  },
  {
   "cell_type": "code",
   "execution_count": 52,
   "id": "monetary-writer",
   "metadata": {},
   "outputs": [
    {
     "data": {
      "text/plain": [
       "[2, 3, 4, 5]"
      ]
     },
     "execution_count": 52,
     "metadata": {},
     "output_type": "execute_result"
    }
   ],
   "source": [
    "list(filter(bool,l))"
   ]
  },
  {
   "cell_type": "code",
   "execution_count": 53,
   "id": "tested-subdivision",
   "metadata": {},
   "outputs": [],
   "source": [
    "numbers = list(range(1,20))"
   ]
  },
  {
   "cell_type": "code",
   "execution_count": 54,
   "id": "offshore-holiday",
   "metadata": {},
   "outputs": [
    {
     "data": {
      "text/plain": [
       "[1, 2, 3, 4, 5, 6, 7, 8, 9, 10, 11, 12, 13, 14, 15, 16, 17, 18, 19]"
      ]
     },
     "execution_count": 54,
     "metadata": {},
     "output_type": "execute_result"
    }
   ],
   "source": [
    "numbers"
   ]
  },
  {
   "cell_type": "code",
   "execution_count": 65,
   "id": "warming-forward",
   "metadata": {},
   "outputs": [],
   "source": [
    "def isPrime(num):\n",
    "    for i in range(2,num):\n",
    "        if num % i == 0:\n",
    "            break\n",
    "    else:\n",
    "        if num > 2:\n",
    "            return num"
   ]
  },
  {
   "cell_type": "code",
   "execution_count": 66,
   "id": "norman-colleague",
   "metadata": {},
   "outputs": [
    {
     "data": {
      "text/plain": [
       "13"
      ]
     },
     "execution_count": 66,
     "metadata": {},
     "output_type": "execute_result"
    }
   ],
   "source": [
    "isPrime(13)"
   ]
  },
  {
   "cell_type": "code",
   "execution_count": 60,
   "id": "animal-crossing",
   "metadata": {},
   "outputs": [],
   "source": [
    "primeNumbers = []\n",
    "for i in numbers:\n",
    "    if i > 2 and isPrime(i):\n",
    "        primeNumbers.append(i)"
   ]
  },
  {
   "cell_type": "code",
   "execution_count": 61,
   "id": "macro-coordination",
   "metadata": {},
   "outputs": [
    {
     "data": {
      "text/plain": [
       "[3, 5, 7, 11, 13, 17, 19]"
      ]
     },
     "execution_count": 61,
     "metadata": {},
     "output_type": "execute_result"
    }
   ],
   "source": [
    "primeNumbers"
   ]
  },
  {
   "cell_type": "code",
   "execution_count": 62,
   "id": "innocent-despite",
   "metadata": {},
   "outputs": [
    {
     "data": {
      "text/plain": [
       "[3, 5, 7, 11, 13, 17, 19]"
      ]
     },
     "execution_count": 62,
     "metadata": {},
     "output_type": "execute_result"
    }
   ],
   "source": [
    "[i for i in numbers if i > 2 and isPrime(i)]"
   ]
  },
  {
   "cell_type": "code",
   "execution_count": 69,
   "id": "median-objective",
   "metadata": {},
   "outputs": [
    {
     "data": {
      "text/plain": [
       "[3, 5, 7, 11, 13, 17, 19]"
      ]
     },
     "execution_count": 69,
     "metadata": {},
     "output_type": "execute_result"
    }
   ],
   "source": [
    "list(filter(None, map(isPrime, numbers)))"
   ]
  },
  {
   "cell_type": "code",
   "execution_count": 72,
   "id": "parliamentary-overhead",
   "metadata": {},
   "outputs": [],
   "source": [
    "def addition(a, b, c=None):\n",
    "    if c:\n",
    "        return a + b + c\n",
    "    else:\n",
    "        return a + b"
   ]
  },
  {
   "cell_type": "code",
   "execution_count": 73,
   "id": "intermediate-fairy",
   "metadata": {},
   "outputs": [
    {
     "data": {
      "text/plain": [
       "12"
      ]
     },
     "execution_count": 73,
     "metadata": {},
     "output_type": "execute_result"
    }
   ],
   "source": [
    "addition(3,4,5)"
   ]
  },
  {
   "cell_type": "code",
   "execution_count": 74,
   "id": "detailed-colonial",
   "metadata": {},
   "outputs": [],
   "source": [
    "def addition(a, b):\n",
    "    return a + b"
   ]
  },
  {
   "cell_type": "code",
   "execution_count": 76,
   "id": "welsh-calgary",
   "metadata": {},
   "outputs": [],
   "source": [
    "from functools import reduce"
   ]
  },
  {
   "cell_type": "code",
   "execution_count": 78,
   "id": "stopped-landscape",
   "metadata": {},
   "outputs": [],
   "source": [
    "reduce?"
   ]
  },
  {
   "cell_type": "code",
   "execution_count": 79,
   "id": "bibliographic-kruger",
   "metadata": {},
   "outputs": [
    {
     "data": {
      "text/plain": [
       "[1, 2, 3, 4, 5, 6, 7, 8, 9, 10, 11, 12, 13, 14, 15, 16, 17, 18, 19]"
      ]
     },
     "execution_count": 79,
     "metadata": {},
     "output_type": "execute_result"
    }
   ],
   "source": [
    "numbers"
   ]
  },
  {
   "cell_type": "code",
   "execution_count": 80,
   "id": "august-punch",
   "metadata": {},
   "outputs": [
    {
     "data": {
      "text/plain": [
       "190"
      ]
     },
     "execution_count": 80,
     "metadata": {},
     "output_type": "execute_result"
    }
   ],
   "source": [
    "sum(numbers)"
   ]
  },
  {
   "cell_type": "code",
   "execution_count": null,
   "id": "better-compact",
   "metadata": {},
   "outputs": [],
   "source": [
    "txt, csv, tsv, excel, image, json"
   ]
  },
  {
   "cell_type": "code",
   "execution_count": null,
   "id": "indie-pledge",
   "metadata": {},
   "outputs": [],
   "source": [
    "import cv2\n",
    "\n",
    "# Get user supplied values\n",
    "imagePath = '/Users/sharma/CV2 examples/girls.jpg'\n",
    "\n",
    "# Read the image\n",
    "image = cv2.imread(imagePath)\n",
    "\n",
    "gray = cv2.cvtColor(image, cv2.COLOR_BGR2GRAY)\n",
    "edge = cv2.Canny(image,200,300)\n",
    "\n",
    "img_copy = image.copy()\n",
    "cv2.rectangle(img_copy, pt1 = (140, 92), pt2 = (620, 240), color = (255, 0, 0), thickness = 5)\n",
    "cv2.putText(img_copy, \"this is sample text\", (250, 120), cv2.FONT_HERSHEY_SIMPLEX, 0.7, color=(0, 0, 255), thickness = 2)\n",
    "\n",
    "croped_image =  image[140:600,100:235]\n",
    "resized_image =  cv2.resize(image,(100,100))\n",
    "\n",
    "blurred = cv2.blur(image,(1,20))\n",
    "\n",
    "cv2.imshow(\"original image\", image)\n",
    "cv2.imshow(\"gray image\", gray)\n",
    "cv2.imshow(\"edge image\", edge)\n",
    "cv2.imshow(\"rectangle\", img_copy)\n",
    "cv2.imshow(\"Cropped image\",croped_image)\n",
    "cv2.imshow(\"resized image\",resized_image)\n",
    "cv2.imshow(\"blurred image\",blurred)\n",
    "\n",
    "cv2.waitKey(0)"
   ]
  },
  {
   "cell_type": "code",
   "execution_count": 81,
   "id": "conceptual-standard",
   "metadata": {},
   "outputs": [],
   "source": [
    "import json"
   ]
  },
  {
   "cell_type": "code",
   "execution_count": 86,
   "id": "strange-milton",
   "metadata": {},
   "outputs": [
    {
     "data": {
      "text/plain": [
       "{'name': 'Products',\n",
       " 'industryId': '1234',\n",
       " 'intents': ['Do you offer', 'Need info']}"
      ]
     },
     "execution_count": 86,
     "metadata": {},
     "output_type": "execute_result"
    }
   ],
   "source": [
    "json.load(open('test.json'))"
   ]
  },
  {
   "cell_type": "code",
   "execution_count": 84,
   "id": "material-works",
   "metadata": {},
   "outputs": [],
   "source": [
    "dictExample = {\n",
    "    'name': 'Products',\n",
    "    'industryId': '1234',\n",
    "    'intents': ['Do you offer', 'Need info']\n",
    "}"
   ]
  },
  {
   "cell_type": "code",
   "execution_count": 85,
   "id": "given-tract",
   "metadata": {},
   "outputs": [],
   "source": [
    "json.dump(dictExample, open('test.json','w'))"
   ]
  },
  {
   "cell_type": "code",
   "execution_count": 95,
   "id": "alpha-attempt",
   "metadata": {},
   "outputs": [],
   "source": [
    "inputFile = open(\"msmeTxtFile.txt\",'a')"
   ]
  },
  {
   "cell_type": "code",
   "execution_count": 92,
   "id": "collectible-entertainment",
   "metadata": {},
   "outputs": [
    {
     "data": {
      "text/plain": [
       "15"
      ]
     },
     "execution_count": 92,
     "metadata": {},
     "output_type": "execute_result"
    }
   ],
   "source": [
    "inputFile.write(\"Hey,bonjour!!!\\n\")"
   ]
  },
  {
   "cell_type": "code",
   "execution_count": 96,
   "id": "competent-italy",
   "metadata": {},
   "outputs": [],
   "source": [
    "inputFile.writelines(\"yeah am doing great\\n\")"
   ]
  },
  {
   "cell_type": "code",
   "execution_count": 97,
   "id": "possible-milwaukee",
   "metadata": {},
   "outputs": [],
   "source": [
    "inputFile.close()"
   ]
  },
  {
   "cell_type": "code",
   "execution_count": 114,
   "id": "ancient-oliver",
   "metadata": {},
   "outputs": [],
   "source": [
    "outputFile =  open(\"msmeTxtFile.txt\",'r')"
   ]
  },
  {
   "cell_type": "code",
   "execution_count": 107,
   "id": "treated-silver",
   "metadata": {},
   "outputs": [
    {
     "data": {
      "text/plain": [
       "['Hey,bonjour!!!\\n', 'how do you doing?\\n', 'yeah am doing great\\n']"
      ]
     },
     "execution_count": 107,
     "metadata": {},
     "output_type": "execute_result"
    }
   ],
   "source": [
    "outputFile.readlines()"
   ]
  },
  {
   "cell_type": "code",
   "execution_count": 113,
   "id": "gentle-place",
   "metadata": {},
   "outputs": [
    {
     "data": {
      "text/plain": [
       "['Hey,bonjour!!!', 'how do you doing?', 'yeah am doing great']"
      ]
     },
     "execution_count": 113,
     "metadata": {},
     "output_type": "execute_result"
    }
   ],
   "source": [
    "outputFile.read().splitlines()"
   ]
  },
  {
   "cell_type": "code",
   "execution_count": 115,
   "id": "appropriate-croatia",
   "metadata": {},
   "outputs": [
    {
     "data": {
      "text/plain": [
       "'Hey,bonjour!!!\\nhow do you doing?\\nyeah am doing great\\n'"
      ]
     },
     "execution_count": 115,
     "metadata": {},
     "output_type": "execute_result"
    }
   ],
   "source": [
    "outputFile.read()"
   ]
  },
  {
   "cell_type": "code",
   "execution_count": 116,
   "id": "legendary-corpus",
   "metadata": {},
   "outputs": [],
   "source": [
    "import pandas as pd"
   ]
  },
  {
   "cell_type": "code",
   "execution_count": 117,
   "id": "neural-merchant",
   "metadata": {},
   "outputs": [],
   "source": [
    "csvFile = pd.read_csv(\"train.csv\")"
   ]
  },
  {
   "cell_type": "code",
   "execution_count": 120,
   "id": "executed-windsor",
   "metadata": {},
   "outputs": [
    {
     "data": {
      "text/html": [
       "<div>\n",
       "<style scoped>\n",
       "    .dataframe tbody tr th:only-of-type {\n",
       "        vertical-align: middle;\n",
       "    }\n",
       "\n",
       "    .dataframe tbody tr th {\n",
       "        vertical-align: top;\n",
       "    }\n",
       "\n",
       "    .dataframe thead th {\n",
       "        text-align: right;\n",
       "    }\n",
       "</style>\n",
       "<table border=\"1\" class=\"dataframe\">\n",
       "  <thead>\n",
       "    <tr style=\"text-align: right;\">\n",
       "      <th></th>\n",
       "      <th>class</th>\n",
       "      <th>petal_length</th>\n",
       "      <th>petal_width</th>\n",
       "      <th>sepal_length</th>\n",
       "      <th>sepal_width</th>\n",
       "    </tr>\n",
       "  </thead>\n",
       "  <tbody>\n",
       "    <tr>\n",
       "      <th>0</th>\n",
       "      <td>Iris-virginica</td>\n",
       "      <td>5.5</td>\n",
       "      <td>1.8</td>\n",
       "      <td>6.4</td>\n",
       "      <td>3.1</td>\n",
       "    </tr>\n",
       "    <tr>\n",
       "      <th>1</th>\n",
       "      <td>Iris-virginica</td>\n",
       "      <td>5.9</td>\n",
       "      <td>2.3</td>\n",
       "      <td>6.8</td>\n",
       "      <td>3.2</td>\n",
       "    </tr>\n",
       "    <tr>\n",
       "      <th>2</th>\n",
       "      <td>Iris-virginica</td>\n",
       "      <td>5.4</td>\n",
       "      <td>2.3</td>\n",
       "      <td>6.2</td>\n",
       "      <td>3.4</td>\n",
       "    </tr>\n",
       "    <tr>\n",
       "      <th>3</th>\n",
       "      <td>Iris-virginica</td>\n",
       "      <td>4.8</td>\n",
       "      <td>1.8</td>\n",
       "      <td>6.0</td>\n",
       "      <td>3.0</td>\n",
       "    </tr>\n",
       "    <tr>\n",
       "      <th>4</th>\n",
       "      <td>Iris-virginica</td>\n",
       "      <td>5.1</td>\n",
       "      <td>2.3</td>\n",
       "      <td>6.9</td>\n",
       "      <td>3.1</td>\n",
       "    </tr>\n",
       "    <tr>\n",
       "      <th>5</th>\n",
       "      <td>Iris-virginica</td>\n",
       "      <td>5.6</td>\n",
       "      <td>2.4</td>\n",
       "      <td>6.3</td>\n",
       "      <td>3.4</td>\n",
       "    </tr>\n",
       "  </tbody>\n",
       "</table>\n",
       "</div>"
      ],
      "text/plain": [
       "            class  petal_length  petal_width  sepal_length  sepal_width\n",
       "0  Iris-virginica           5.5          1.8           6.4          3.1\n",
       "1  Iris-virginica           5.9          2.3           6.8          3.2\n",
       "2  Iris-virginica           5.4          2.3           6.2          3.4\n",
       "3  Iris-virginica           4.8          1.8           6.0          3.0\n",
       "4  Iris-virginica           5.1          2.3           6.9          3.1\n",
       "5  Iris-virginica           5.6          2.4           6.3          3.4"
      ]
     },
     "execution_count": 120,
     "metadata": {},
     "output_type": "execute_result"
    }
   ],
   "source": [
    "csvFile.head(6)"
   ]
  },
  {
   "cell_type": "code",
   "execution_count": 121,
   "id": "acquired-edwards",
   "metadata": {},
   "outputs": [
    {
     "data": {
      "text/plain": [
       "(105, 5)"
      ]
     },
     "execution_count": 121,
     "metadata": {},
     "output_type": "execute_result"
    }
   ],
   "source": [
    "csvFile.shape"
   ]
  },
  {
   "cell_type": "code",
   "execution_count": 122,
   "id": "inside-nicaragua",
   "metadata": {},
   "outputs": [
    {
     "data": {
      "text/plain": [
       "Index(['class', 'petal_length', 'petal_width', 'sepal_length', 'sepal_width'], dtype='object')"
      ]
     },
     "execution_count": 122,
     "metadata": {},
     "output_type": "execute_result"
    }
   ],
   "source": [
    "csvFile.columns"
   ]
  },
  {
   "cell_type": "code",
   "execution_count": 123,
   "id": "regional-charleston",
   "metadata": {},
   "outputs": [
    {
     "data": {
      "text/html": [
       "<div>\n",
       "<style scoped>\n",
       "    .dataframe tbody tr th:only-of-type {\n",
       "        vertical-align: middle;\n",
       "    }\n",
       "\n",
       "    .dataframe tbody tr th {\n",
       "        vertical-align: top;\n",
       "    }\n",
       "\n",
       "    .dataframe thead th {\n",
       "        text-align: right;\n",
       "    }\n",
       "</style>\n",
       "<table border=\"1\" class=\"dataframe\">\n",
       "  <thead>\n",
       "    <tr style=\"text-align: right;\">\n",
       "      <th></th>\n",
       "      <th>petal_length</th>\n",
       "      <th>petal_width</th>\n",
       "      <th>sepal_length</th>\n",
       "      <th>sepal_width</th>\n",
       "    </tr>\n",
       "  </thead>\n",
       "  <tbody>\n",
       "    <tr>\n",
       "      <th>count</th>\n",
       "      <td>105.000000</td>\n",
       "      <td>105.000000</td>\n",
       "      <td>105.000000</td>\n",
       "      <td>105.000000</td>\n",
       "    </tr>\n",
       "    <tr>\n",
       "      <th>mean</th>\n",
       "      <td>3.748571</td>\n",
       "      <td>1.196190</td>\n",
       "      <td>5.830476</td>\n",
       "      <td>3.057143</td>\n",
       "    </tr>\n",
       "    <tr>\n",
       "      <th>std</th>\n",
       "      <td>1.753519</td>\n",
       "      <td>0.765723</td>\n",
       "      <td>0.800015</td>\n",
       "      <td>0.449969</td>\n",
       "    </tr>\n",
       "    <tr>\n",
       "      <th>min</th>\n",
       "      <td>1.000000</td>\n",
       "      <td>0.100000</td>\n",
       "      <td>4.400000</td>\n",
       "      <td>2.000000</td>\n",
       "    </tr>\n",
       "    <tr>\n",
       "      <th>25%</th>\n",
       "      <td>1.500000</td>\n",
       "      <td>0.300000</td>\n",
       "      <td>5.100000</td>\n",
       "      <td>2.800000</td>\n",
       "    </tr>\n",
       "    <tr>\n",
       "      <th>50%</th>\n",
       "      <td>4.400000</td>\n",
       "      <td>1.300000</td>\n",
       "      <td>5.700000</td>\n",
       "      <td>3.000000</td>\n",
       "    </tr>\n",
       "    <tr>\n",
       "      <th>75%</th>\n",
       "      <td>5.100000</td>\n",
       "      <td>1.800000</td>\n",
       "      <td>6.400000</td>\n",
       "      <td>3.400000</td>\n",
       "    </tr>\n",
       "    <tr>\n",
       "      <th>max</th>\n",
       "      <td>6.900000</td>\n",
       "      <td>2.500000</td>\n",
       "      <td>7.700000</td>\n",
       "      <td>4.400000</td>\n",
       "    </tr>\n",
       "  </tbody>\n",
       "</table>\n",
       "</div>"
      ],
      "text/plain": [
       "       petal_length  petal_width  sepal_length  sepal_width\n",
       "count    105.000000   105.000000    105.000000   105.000000\n",
       "mean       3.748571     1.196190      5.830476     3.057143\n",
       "std        1.753519     0.765723      0.800015     0.449969\n",
       "min        1.000000     0.100000      4.400000     2.000000\n",
       "25%        1.500000     0.300000      5.100000     2.800000\n",
       "50%        4.400000     1.300000      5.700000     3.000000\n",
       "75%        5.100000     1.800000      6.400000     3.400000\n",
       "max        6.900000     2.500000      7.700000     4.400000"
      ]
     },
     "execution_count": 123,
     "metadata": {},
     "output_type": "execute_result"
    }
   ],
   "source": [
    "csvFile.describe()"
   ]
  },
  {
   "cell_type": "code",
   "execution_count": 124,
   "id": "favorite-involvement",
   "metadata": {},
   "outputs": [
    {
     "data": {
      "text/html": [
       "<div>\n",
       "<style scoped>\n",
       "    .dataframe tbody tr th:only-of-type {\n",
       "        vertical-align: middle;\n",
       "    }\n",
       "\n",
       "    .dataframe tbody tr th {\n",
       "        vertical-align: top;\n",
       "    }\n",
       "\n",
       "    .dataframe thead th {\n",
       "        text-align: right;\n",
       "    }\n",
       "</style>\n",
       "<table border=\"1\" class=\"dataframe\">\n",
       "  <thead>\n",
       "    <tr style=\"text-align: right;\">\n",
       "      <th></th>\n",
       "      <th>petal_length</th>\n",
       "      <th>petal_width</th>\n",
       "      <th>sepal_length</th>\n",
       "      <th>sepal_width</th>\n",
       "    </tr>\n",
       "    <tr>\n",
       "      <th>class</th>\n",
       "      <th></th>\n",
       "      <th></th>\n",
       "      <th></th>\n",
       "      <th></th>\n",
       "    </tr>\n",
       "  </thead>\n",
       "  <tbody>\n",
       "    <tr>\n",
       "      <th>Iris-setosa</th>\n",
       "      <td>35</td>\n",
       "      <td>35</td>\n",
       "      <td>35</td>\n",
       "      <td>35</td>\n",
       "    </tr>\n",
       "    <tr>\n",
       "      <th>Iris-versicolor</th>\n",
       "      <td>35</td>\n",
       "      <td>35</td>\n",
       "      <td>35</td>\n",
       "      <td>35</td>\n",
       "    </tr>\n",
       "    <tr>\n",
       "      <th>Iris-virginica</th>\n",
       "      <td>35</td>\n",
       "      <td>35</td>\n",
       "      <td>35</td>\n",
       "      <td>35</td>\n",
       "    </tr>\n",
       "  </tbody>\n",
       "</table>\n",
       "</div>"
      ],
      "text/plain": [
       "                 petal_length  petal_width  sepal_length  sepal_width\n",
       "class                                                                \n",
       "Iris-setosa                35           35            35           35\n",
       "Iris-versicolor            35           35            35           35\n",
       "Iris-virginica             35           35            35           35"
      ]
     },
     "execution_count": 124,
     "metadata": {},
     "output_type": "execute_result"
    }
   ],
   "source": [
    "csvFile.groupby('class').count()"
   ]
  },
  {
   "cell_type": "code",
   "execution_count": 125,
   "id": "southern-depression",
   "metadata": {},
   "outputs": [],
   "source": [
    "tsvFile = pd.read_csv(\"labeledTrainData.tsv\",sep=\"\\t\")"
   ]
  },
  {
   "cell_type": "code",
   "execution_count": 126,
   "id": "considered-variance",
   "metadata": {},
   "outputs": [
    {
     "data": {
      "text/html": [
       "<div>\n",
       "<style scoped>\n",
       "    .dataframe tbody tr th:only-of-type {\n",
       "        vertical-align: middle;\n",
       "    }\n",
       "\n",
       "    .dataframe tbody tr th {\n",
       "        vertical-align: top;\n",
       "    }\n",
       "\n",
       "    .dataframe thead th {\n",
       "        text-align: right;\n",
       "    }\n",
       "</style>\n",
       "<table border=\"1\" class=\"dataframe\">\n",
       "  <thead>\n",
       "    <tr style=\"text-align: right;\">\n",
       "      <th></th>\n",
       "      <th>id</th>\n",
       "      <th>sentiment</th>\n",
       "      <th>review</th>\n",
       "    </tr>\n",
       "  </thead>\n",
       "  <tbody>\n",
       "    <tr>\n",
       "      <th>0</th>\n",
       "      <td>5814_8</td>\n",
       "      <td>1</td>\n",
       "      <td>With all this stuff going down at the moment w...</td>\n",
       "    </tr>\n",
       "    <tr>\n",
       "      <th>1</th>\n",
       "      <td>2381_9</td>\n",
       "      <td>1</td>\n",
       "      <td>\\The Classic War of the Worlds\\\" by Timothy Hi...</td>\n",
       "    </tr>\n",
       "    <tr>\n",
       "      <th>2</th>\n",
       "      <td>7759_3</td>\n",
       "      <td>0</td>\n",
       "      <td>The film starts with a manager (Nicholas Bell)...</td>\n",
       "    </tr>\n",
       "    <tr>\n",
       "      <th>3</th>\n",
       "      <td>3630_4</td>\n",
       "      <td>0</td>\n",
       "      <td>It must be assumed that those who praised this...</td>\n",
       "    </tr>\n",
       "    <tr>\n",
       "      <th>4</th>\n",
       "      <td>9495_8</td>\n",
       "      <td>1</td>\n",
       "      <td>Superbly trashy and wondrously unpretentious 8...</td>\n",
       "    </tr>\n",
       "  </tbody>\n",
       "</table>\n",
       "</div>"
      ],
      "text/plain": [
       "       id  sentiment                                             review\n",
       "0  5814_8          1  With all this stuff going down at the moment w...\n",
       "1  2381_9          1  \\The Classic War of the Worlds\\\" by Timothy Hi...\n",
       "2  7759_3          0  The film starts with a manager (Nicholas Bell)...\n",
       "3  3630_4          0  It must be assumed that those who praised this...\n",
       "4  9495_8          1  Superbly trashy and wondrously unpretentious 8..."
      ]
     },
     "execution_count": 126,
     "metadata": {},
     "output_type": "execute_result"
    }
   ],
   "source": [
    "tsvFile.head()"
   ]
  },
  {
   "cell_type": "code",
   "execution_count": 129,
   "id": "understood-prize",
   "metadata": {},
   "outputs": [],
   "source": [
    "excelFile = pd.read_excel(\"Course Syllabus.xlsx\",sheet_name=\"Deep Learning\")"
   ]
  },
  {
   "cell_type": "code",
   "execution_count": 130,
   "id": "distinct-startup",
   "metadata": {},
   "outputs": [
    {
     "data": {
      "text/html": [
       "<div>\n",
       "<style scoped>\n",
       "    .dataframe tbody tr th:only-of-type {\n",
       "        vertical-align: middle;\n",
       "    }\n",
       "\n",
       "    .dataframe tbody tr th {\n",
       "        vertical-align: top;\n",
       "    }\n",
       "\n",
       "    .dataframe thead th {\n",
       "        text-align: right;\n",
       "    }\n",
       "</style>\n",
       "<table border=\"1\" class=\"dataframe\">\n",
       "  <thead>\n",
       "    <tr style=\"text-align: right;\">\n",
       "      <th></th>\n",
       "      <th>Syllabus</th>\n",
       "      <th>Duration</th>\n",
       "    </tr>\n",
       "  </thead>\n",
       "  <tbody>\n",
       "    <tr>\n",
       "      <th>0</th>\n",
       "      <td>1. Introduction to Deep Learning (DL)</td>\n",
       "      <td>90 mins</td>\n",
       "    </tr>\n",
       "    <tr>\n",
       "      <th>1</th>\n",
       "      <td>2. Neural Network (NN) introduction</td>\n",
       "      <td>240 mins</td>\n",
       "    </tr>\n",
       "    <tr>\n",
       "      <th>2</th>\n",
       "      <td>Neurons and the Brain</td>\n",
       "      <td>NaN</td>\n",
       "    </tr>\n",
       "    <tr>\n",
       "      <th>3</th>\n",
       "      <td>Non-linear Hypothesis</td>\n",
       "      <td>NaN</td>\n",
       "    </tr>\n",
       "    <tr>\n",
       "      <th>4</th>\n",
       "      <td>perceptron</td>\n",
       "      <td>NaN</td>\n",
       "    </tr>\n",
       "  </tbody>\n",
       "</table>\n",
       "</div>"
      ],
      "text/plain": [
       "                                Syllabus  Duration\n",
       "0  1. Introduction to Deep Learning (DL)   90 mins\n",
       "1    2. Neural Network (NN) introduction  240 mins\n",
       "2                  Neurons and the Brain       NaN\n",
       "3                  Non-linear Hypothesis       NaN\n",
       "4                             perceptron       NaN"
      ]
     },
     "execution_count": 130,
     "metadata": {},
     "output_type": "execute_result"
    }
   ],
   "source": [
    "excelFile.head()"
   ]
  },
  {
   "cell_type": "code",
   "execution_count": 134,
   "id": "endangered-flight",
   "metadata": {},
   "outputs": [
    {
     "data": {
      "text/html": [
       "<div>\n",
       "<style scoped>\n",
       "    .dataframe tbody tr th:only-of-type {\n",
       "        vertical-align: middle;\n",
       "    }\n",
       "\n",
       "    .dataframe tbody tr th {\n",
       "        vertical-align: top;\n",
       "    }\n",
       "\n",
       "    .dataframe thead th {\n",
       "        text-align: right;\n",
       "    }\n",
       "</style>\n",
       "<table border=\"1\" class=\"dataframe\">\n",
       "  <thead>\n",
       "    <tr style=\"text-align: right;\">\n",
       "      <th></th>\n",
       "      <th>petal_length</th>\n",
       "      <th>sepal_length</th>\n",
       "    </tr>\n",
       "  </thead>\n",
       "  <tbody>\n",
       "    <tr>\n",
       "      <th>0</th>\n",
       "      <td>5.5</td>\n",
       "      <td>6.4</td>\n",
       "    </tr>\n",
       "    <tr>\n",
       "      <th>1</th>\n",
       "      <td>5.9</td>\n",
       "      <td>6.8</td>\n",
       "    </tr>\n",
       "    <tr>\n",
       "      <th>2</th>\n",
       "      <td>5.4</td>\n",
       "      <td>6.2</td>\n",
       "    </tr>\n",
       "    <tr>\n",
       "      <th>3</th>\n",
       "      <td>4.8</td>\n",
       "      <td>6.0</td>\n",
       "    </tr>\n",
       "    <tr>\n",
       "      <th>4</th>\n",
       "      <td>5.1</td>\n",
       "      <td>6.9</td>\n",
       "    </tr>\n",
       "  </tbody>\n",
       "</table>\n",
       "</div>"
      ],
      "text/plain": [
       "   petal_length  sepal_length\n",
       "0           5.5           6.4\n",
       "1           5.9           6.8\n",
       "2           5.4           6.2\n",
       "3           4.8           6.0\n",
       "4           5.1           6.9"
      ]
     },
     "execution_count": 134,
     "metadata": {},
     "output_type": "execute_result"
    }
   ],
   "source": [
    "csvFile[['petal_length','sepal_length']].head()"
   ]
  },
  {
   "cell_type": "code",
   "execution_count": 137,
   "id": "dramatic-speech",
   "metadata": {},
   "outputs": [
    {
     "data": {
      "text/html": [
       "<div>\n",
       "<style scoped>\n",
       "    .dataframe tbody tr th:only-of-type {\n",
       "        vertical-align: middle;\n",
       "    }\n",
       "\n",
       "    .dataframe tbody tr th {\n",
       "        vertical-align: top;\n",
       "    }\n",
       "\n",
       "    .dataframe thead th {\n",
       "        text-align: right;\n",
       "    }\n",
       "</style>\n",
       "<table border=\"1\" class=\"dataframe\">\n",
       "  <thead>\n",
       "    <tr style=\"text-align: right;\">\n",
       "      <th></th>\n",
       "      <th>petal_length</th>\n",
       "      <th>petal_width</th>\n",
       "      <th>sepal_length</th>\n",
       "      <th>sepal_width</th>\n",
       "    </tr>\n",
       "  </thead>\n",
       "  <tbody>\n",
       "    <tr>\n",
       "      <th>0</th>\n",
       "      <td>5.5</td>\n",
       "      <td>1.8</td>\n",
       "      <td>6.4</td>\n",
       "      <td>3.1</td>\n",
       "    </tr>\n",
       "    <tr>\n",
       "      <th>1</th>\n",
       "      <td>5.9</td>\n",
       "      <td>2.3</td>\n",
       "      <td>6.8</td>\n",
       "      <td>3.2</td>\n",
       "    </tr>\n",
       "    <tr>\n",
       "      <th>2</th>\n",
       "      <td>5.4</td>\n",
       "      <td>2.3</td>\n",
       "      <td>6.2</td>\n",
       "      <td>3.4</td>\n",
       "    </tr>\n",
       "    <tr>\n",
       "      <th>3</th>\n",
       "      <td>4.8</td>\n",
       "      <td>1.8</td>\n",
       "      <td>6.0</td>\n",
       "      <td>3.0</td>\n",
       "    </tr>\n",
       "    <tr>\n",
       "      <th>4</th>\n",
       "      <td>5.1</td>\n",
       "      <td>2.3</td>\n",
       "      <td>6.9</td>\n",
       "      <td>3.1</td>\n",
       "    </tr>\n",
       "    <tr>\n",
       "      <th>...</th>\n",
       "      <td>...</td>\n",
       "      <td>...</td>\n",
       "      <td>...</td>\n",
       "      <td>...</td>\n",
       "    </tr>\n",
       "    <tr>\n",
       "      <th>100</th>\n",
       "      <td>1.5</td>\n",
       "      <td>0.2</td>\n",
       "      <td>5.0</td>\n",
       "      <td>3.4</td>\n",
       "    </tr>\n",
       "    <tr>\n",
       "      <th>101</th>\n",
       "      <td>1.7</td>\n",
       "      <td>0.3</td>\n",
       "      <td>5.7</td>\n",
       "      <td>3.8</td>\n",
       "    </tr>\n",
       "    <tr>\n",
       "      <th>102</th>\n",
       "      <td>1.3</td>\n",
       "      <td>0.4</td>\n",
       "      <td>5.4</td>\n",
       "      <td>3.9</td>\n",
       "    </tr>\n",
       "    <tr>\n",
       "      <th>103</th>\n",
       "      <td>1.9</td>\n",
       "      <td>0.4</td>\n",
       "      <td>5.1</td>\n",
       "      <td>3.8</td>\n",
       "    </tr>\n",
       "    <tr>\n",
       "      <th>104</th>\n",
       "      <td>1.6</td>\n",
       "      <td>0.2</td>\n",
       "      <td>5.0</td>\n",
       "      <td>3.0</td>\n",
       "    </tr>\n",
       "  </tbody>\n",
       "</table>\n",
       "<p>105 rows × 4 columns</p>\n",
       "</div>"
      ],
      "text/plain": [
       "     petal_length  petal_width  sepal_length  sepal_width\n",
       "0             5.5          1.8           6.4          3.1\n",
       "1             5.9          2.3           6.8          3.2\n",
       "2             5.4          2.3           6.2          3.4\n",
       "3             4.8          1.8           6.0          3.0\n",
       "4             5.1          2.3           6.9          3.1\n",
       "..            ...          ...           ...          ...\n",
       "100           1.5          0.2           5.0          3.4\n",
       "101           1.7          0.3           5.7          3.8\n",
       "102           1.3          0.4           5.4          3.9\n",
       "103           1.9          0.4           5.1          3.8\n",
       "104           1.6          0.2           5.0          3.0\n",
       "\n",
       "[105 rows x 4 columns]"
      ]
     },
     "execution_count": 137,
     "metadata": {},
     "output_type": "execute_result"
    }
   ],
   "source": [
    "csvFile.drop(columns='class')"
   ]
  },
  {
   "cell_type": "code",
   "execution_count": 140,
   "id": "pacific-integrity",
   "metadata": {},
   "outputs": [],
   "source": [
    "tsvFile.drop(columns='id',inplace=True)"
   ]
  },
  {
   "cell_type": "code",
   "execution_count": 141,
   "id": "expressed-surgeon",
   "metadata": {},
   "outputs": [
    {
     "data": {
      "text/html": [
       "<div>\n",
       "<style scoped>\n",
       "    .dataframe tbody tr th:only-of-type {\n",
       "        vertical-align: middle;\n",
       "    }\n",
       "\n",
       "    .dataframe tbody tr th {\n",
       "        vertical-align: top;\n",
       "    }\n",
       "\n",
       "    .dataframe thead th {\n",
       "        text-align: right;\n",
       "    }\n",
       "</style>\n",
       "<table border=\"1\" class=\"dataframe\">\n",
       "  <thead>\n",
       "    <tr style=\"text-align: right;\">\n",
       "      <th></th>\n",
       "      <th>sentiment</th>\n",
       "      <th>review</th>\n",
       "    </tr>\n",
       "  </thead>\n",
       "  <tbody>\n",
       "    <tr>\n",
       "      <th>0</th>\n",
       "      <td>1</td>\n",
       "      <td>With all this stuff going down at the moment w...</td>\n",
       "    </tr>\n",
       "    <tr>\n",
       "      <th>1</th>\n",
       "      <td>1</td>\n",
       "      <td>\\The Classic War of the Worlds\\\" by Timothy Hi...</td>\n",
       "    </tr>\n",
       "    <tr>\n",
       "      <th>2</th>\n",
       "      <td>0</td>\n",
       "      <td>The film starts with a manager (Nicholas Bell)...</td>\n",
       "    </tr>\n",
       "    <tr>\n",
       "      <th>3</th>\n",
       "      <td>0</td>\n",
       "      <td>It must be assumed that those who praised this...</td>\n",
       "    </tr>\n",
       "    <tr>\n",
       "      <th>4</th>\n",
       "      <td>1</td>\n",
       "      <td>Superbly trashy and wondrously unpretentious 8...</td>\n",
       "    </tr>\n",
       "    <tr>\n",
       "      <th>...</th>\n",
       "      <td>...</td>\n",
       "      <td>...</td>\n",
       "    </tr>\n",
       "    <tr>\n",
       "      <th>24995</th>\n",
       "      <td>0</td>\n",
       "      <td>It seems like more consideration has gone into...</td>\n",
       "    </tr>\n",
       "    <tr>\n",
       "      <th>24996</th>\n",
       "      <td>0</td>\n",
       "      <td>I don't believe they made this film. Completel...</td>\n",
       "    </tr>\n",
       "    <tr>\n",
       "      <th>24997</th>\n",
       "      <td>0</td>\n",
       "      <td>Guy is a loser. Can't get girls, needs to buil...</td>\n",
       "    </tr>\n",
       "    <tr>\n",
       "      <th>24998</th>\n",
       "      <td>0</td>\n",
       "      <td>This 30 minute documentary Buñuel made in the ...</td>\n",
       "    </tr>\n",
       "    <tr>\n",
       "      <th>24999</th>\n",
       "      <td>1</td>\n",
       "      <td>I saw this movie as a child and it broke my he...</td>\n",
       "    </tr>\n",
       "  </tbody>\n",
       "</table>\n",
       "<p>25000 rows × 2 columns</p>\n",
       "</div>"
      ],
      "text/plain": [
       "       sentiment                                             review\n",
       "0              1  With all this stuff going down at the moment w...\n",
       "1              1  \\The Classic War of the Worlds\\\" by Timothy Hi...\n",
       "2              0  The film starts with a manager (Nicholas Bell)...\n",
       "3              0  It must be assumed that those who praised this...\n",
       "4              1  Superbly trashy and wondrously unpretentious 8...\n",
       "...          ...                                                ...\n",
       "24995          0  It seems like more consideration has gone into...\n",
       "24996          0  I don't believe they made this film. Completel...\n",
       "24997          0  Guy is a loser. Can't get girls, needs to buil...\n",
       "24998          0  This 30 minute documentary Buñuel made in the ...\n",
       "24999          1  I saw this movie as a child and it broke my he...\n",
       "\n",
       "[25000 rows x 2 columns]"
      ]
     },
     "execution_count": 141,
     "metadata": {},
     "output_type": "execute_result"
    }
   ],
   "source": [
    "tsvFile"
   ]
  },
  {
   "cell_type": "code",
   "execution_count": 144,
   "id": "vietnamese-permit",
   "metadata": {},
   "outputs": [
    {
     "data": {
      "text/html": [
       "<div>\n",
       "<style scoped>\n",
       "    .dataframe tbody tr th:only-of-type {\n",
       "        vertical-align: middle;\n",
       "    }\n",
       "\n",
       "    .dataframe tbody tr th {\n",
       "        vertical-align: top;\n",
       "    }\n",
       "\n",
       "    .dataframe thead th {\n",
       "        text-align: right;\n",
       "    }\n",
       "</style>\n",
       "<table border=\"1\" class=\"dataframe\">\n",
       "  <thead>\n",
       "    <tr style=\"text-align: right;\">\n",
       "      <th></th>\n",
       "      <th>Syllabus</th>\n",
       "      <th>Duration</th>\n",
       "    </tr>\n",
       "  </thead>\n",
       "  <tbody>\n",
       "    <tr>\n",
       "      <th>0</th>\n",
       "      <td>1. Introduction to Deep Learning (DL)</td>\n",
       "      <td>90 mins</td>\n",
       "    </tr>\n",
       "    <tr>\n",
       "      <th>1</th>\n",
       "      <td>2. Neural Network (NN) introduction</td>\n",
       "      <td>240 mins</td>\n",
       "    </tr>\n",
       "    <tr>\n",
       "      <th>2</th>\n",
       "      <td>Neurons and the Brain</td>\n",
       "      <td>60 mins</td>\n",
       "    </tr>\n",
       "    <tr>\n",
       "      <th>3</th>\n",
       "      <td>Non-linear Hypothesis</td>\n",
       "      <td>60 mins</td>\n",
       "    </tr>\n",
       "    <tr>\n",
       "      <th>4</th>\n",
       "      <td>perceptron</td>\n",
       "      <td>60 mins</td>\n",
       "    </tr>\n",
       "    <tr>\n",
       "      <th>5</th>\n",
       "      <td>Multilayer perceptron</td>\n",
       "      <td>60 mins</td>\n",
       "    </tr>\n",
       "    <tr>\n",
       "      <th>6</th>\n",
       "      <td>Training a neural network</td>\n",
       "      <td>60 mins</td>\n",
       "    </tr>\n",
       "    <tr>\n",
       "      <th>7</th>\n",
       "      <td>Backpropagation primer</td>\n",
       "      <td>60 mins</td>\n",
       "    </tr>\n",
       "    <tr>\n",
       "      <th>8</th>\n",
       "      <td>Gradients &amp; optimization</td>\n",
       "      <td>60 mins</td>\n",
       "    </tr>\n",
       "    <tr>\n",
       "      <th>9</th>\n",
       "      <td>3. Deep Learning for images</td>\n",
       "      <td>180 mins</td>\n",
       "    </tr>\n",
       "    <tr>\n",
       "      <th>10</th>\n",
       "      <td>CNN architecture</td>\n",
       "      <td>60 mins</td>\n",
       "    </tr>\n",
       "    <tr>\n",
       "      <th>11</th>\n",
       "      <td>Overview of modern CNN architectures</td>\n",
       "      <td>60 mins</td>\n",
       "    </tr>\n",
       "    <tr>\n",
       "      <th>12</th>\n",
       "      <td>pre-trained CNNs</td>\n",
       "      <td>60 mins</td>\n",
       "    </tr>\n",
       "    <tr>\n",
       "      <th>13</th>\n",
       "      <td>Alexnet/Googlenet</td>\n",
       "      <td>60 mins</td>\n",
       "    </tr>\n",
       "    <tr>\n",
       "      <th>14</th>\n",
       "      <td>OpenCV + NN</td>\n",
       "      <td>60 mins</td>\n",
       "    </tr>\n",
       "    <tr>\n",
       "      <th>15</th>\n",
       "      <td>3. Deep Learning for Text</td>\n",
       "      <td>150 mins</td>\n",
       "    </tr>\n",
       "    <tr>\n",
       "      <th>16</th>\n",
       "      <td>RNN</td>\n",
       "      <td>60 mins</td>\n",
       "    </tr>\n",
       "    <tr>\n",
       "      <th>17</th>\n",
       "      <td>LSTM</td>\n",
       "      <td>60 mins</td>\n",
       "    </tr>\n",
       "    <tr>\n",
       "      <th>18</th>\n",
       "      <td>GRU</td>\n",
       "      <td>60 mins</td>\n",
       "    </tr>\n",
       "    <tr>\n",
       "      <th>19</th>\n",
       "      <td>4.preprocessing Techniques for DL</td>\n",
       "      <td>120 mins</td>\n",
       "    </tr>\n",
       "    <tr>\n",
       "      <th>20</th>\n",
       "      <td>5.Tools for DL</td>\n",
       "      <td>150 mins</td>\n",
       "    </tr>\n",
       "    <tr>\n",
       "      <th>21</th>\n",
       "      <td>6.Practise</td>\n",
       "      <td>180 mins</td>\n",
       "    </tr>\n",
       "    <tr>\n",
       "      <th>22</th>\n",
       "      <td>60 mins</td>\n",
       "      <td>60 mins</td>\n",
       "    </tr>\n",
       "    <tr>\n",
       "      <th>23</th>\n",
       "      <td>Total</td>\n",
       "      <td>18.5 hours</td>\n",
       "    </tr>\n",
       "  </tbody>\n",
       "</table>\n",
       "</div>"
      ],
      "text/plain": [
       "                                 Syllabus    Duration\n",
       "0   1. Introduction to Deep Learning (DL)     90 mins\n",
       "1     2. Neural Network (NN) introduction    240 mins\n",
       "2                   Neurons and the Brain     60 mins\n",
       "3                   Non-linear Hypothesis     60 mins\n",
       "4                              perceptron     60 mins\n",
       "5                   Multilayer perceptron     60 mins\n",
       "6               Training a neural network     60 mins\n",
       "7                  Backpropagation primer     60 mins\n",
       "8                Gradients & optimization     60 mins\n",
       "9             3. Deep Learning for images    180 mins\n",
       "10                       CNN architecture     60 mins\n",
       "11   Overview of modern CNN architectures     60 mins\n",
       "12                       pre-trained CNNs     60 mins\n",
       "13                      Alexnet/Googlenet     60 mins\n",
       "14                            OpenCV + NN     60 mins\n",
       "15              3. Deep Learning for Text    150 mins\n",
       "16                                    RNN     60 mins\n",
       "17                                   LSTM     60 mins\n",
       "18                                    GRU     60 mins\n",
       "19      4.preprocessing Techniques for DL    120 mins\n",
       "20                         5.Tools for DL    150 mins\n",
       "21                             6.Practise    180 mins\n",
       "22                                60 mins     60 mins\n",
       "23                                  Total  18.5 hours"
      ]
     },
     "execution_count": 144,
     "metadata": {},
     "output_type": "execute_result"
    }
   ],
   "source": [
    "excelFile.fillna(value=\"60 mins\")"
   ]
  },
  {
   "cell_type": "code",
   "execution_count": 147,
   "id": "sustained-strip",
   "metadata": {},
   "outputs": [
    {
     "data": {
      "text/html": [
       "<div>\n",
       "<style scoped>\n",
       "    .dataframe tbody tr th:only-of-type {\n",
       "        vertical-align: middle;\n",
       "    }\n",
       "\n",
       "    .dataframe tbody tr th {\n",
       "        vertical-align: top;\n",
       "    }\n",
       "\n",
       "    .dataframe thead th {\n",
       "        text-align: right;\n",
       "    }\n",
       "</style>\n",
       "<table border=\"1\" class=\"dataframe\">\n",
       "  <thead>\n",
       "    <tr style=\"text-align: right;\">\n",
       "      <th></th>\n",
       "      <th>Syllabus</th>\n",
       "      <th>Duration</th>\n",
       "    </tr>\n",
       "  </thead>\n",
       "  <tbody>\n",
       "    <tr>\n",
       "      <th>0</th>\n",
       "      <td>1. Introduction to Deep Learning (DL)</td>\n",
       "      <td>90 mins</td>\n",
       "    </tr>\n",
       "    <tr>\n",
       "      <th>1</th>\n",
       "      <td>2. Neural Network (NN) introduction</td>\n",
       "      <td>240 mins</td>\n",
       "    </tr>\n",
       "    <tr>\n",
       "      <th>2</th>\n",
       "      <td>Neurons and the Brain</td>\n",
       "      <td>180 mins</td>\n",
       "    </tr>\n",
       "    <tr>\n",
       "      <th>3</th>\n",
       "      <td>Non-linear Hypothesis</td>\n",
       "      <td>180 mins</td>\n",
       "    </tr>\n",
       "    <tr>\n",
       "      <th>4</th>\n",
       "      <td>perceptron</td>\n",
       "      <td>180 mins</td>\n",
       "    </tr>\n",
       "    <tr>\n",
       "      <th>5</th>\n",
       "      <td>Multilayer perceptron</td>\n",
       "      <td>180 mins</td>\n",
       "    </tr>\n",
       "    <tr>\n",
       "      <th>6</th>\n",
       "      <td>Training a neural network</td>\n",
       "      <td>180 mins</td>\n",
       "    </tr>\n",
       "    <tr>\n",
       "      <th>7</th>\n",
       "      <td>Backpropagation primer</td>\n",
       "      <td>180 mins</td>\n",
       "    </tr>\n",
       "    <tr>\n",
       "      <th>8</th>\n",
       "      <td>Gradients &amp; optimization</td>\n",
       "      <td>180 mins</td>\n",
       "    </tr>\n",
       "    <tr>\n",
       "      <th>9</th>\n",
       "      <td>3. Deep Learning for images</td>\n",
       "      <td>180 mins</td>\n",
       "    </tr>\n",
       "    <tr>\n",
       "      <th>10</th>\n",
       "      <td>CNN architecture</td>\n",
       "      <td>150 mins</td>\n",
       "    </tr>\n",
       "    <tr>\n",
       "      <th>11</th>\n",
       "      <td>Overview of modern CNN architectures</td>\n",
       "      <td>150 mins</td>\n",
       "    </tr>\n",
       "    <tr>\n",
       "      <th>12</th>\n",
       "      <td>pre-trained CNNs</td>\n",
       "      <td>150 mins</td>\n",
       "    </tr>\n",
       "    <tr>\n",
       "      <th>13</th>\n",
       "      <td>Alexnet/Googlenet</td>\n",
       "      <td>150 mins</td>\n",
       "    </tr>\n",
       "    <tr>\n",
       "      <th>14</th>\n",
       "      <td>OpenCV + NN</td>\n",
       "      <td>150 mins</td>\n",
       "    </tr>\n",
       "    <tr>\n",
       "      <th>15</th>\n",
       "      <td>3. Deep Learning for Text</td>\n",
       "      <td>150 mins</td>\n",
       "    </tr>\n",
       "    <tr>\n",
       "      <th>16</th>\n",
       "      <td>RNN</td>\n",
       "      <td>120 mins</td>\n",
       "    </tr>\n",
       "    <tr>\n",
       "      <th>17</th>\n",
       "      <td>LSTM</td>\n",
       "      <td>120 mins</td>\n",
       "    </tr>\n",
       "    <tr>\n",
       "      <th>18</th>\n",
       "      <td>GRU</td>\n",
       "      <td>120 mins</td>\n",
       "    </tr>\n",
       "    <tr>\n",
       "      <th>19</th>\n",
       "      <td>4.preprocessing Techniques for DL</td>\n",
       "      <td>120 mins</td>\n",
       "    </tr>\n",
       "    <tr>\n",
       "      <th>20</th>\n",
       "      <td>5.Tools for DL</td>\n",
       "      <td>150 mins</td>\n",
       "    </tr>\n",
       "    <tr>\n",
       "      <th>21</th>\n",
       "      <td>6.Practise</td>\n",
       "      <td>180 mins</td>\n",
       "    </tr>\n",
       "    <tr>\n",
       "      <th>22</th>\n",
       "      <td>Total</td>\n",
       "      <td>18.5 hours</td>\n",
       "    </tr>\n",
       "    <tr>\n",
       "      <th>23</th>\n",
       "      <td>Total</td>\n",
       "      <td>18.5 hours</td>\n",
       "    </tr>\n",
       "  </tbody>\n",
       "</table>\n",
       "</div>"
      ],
      "text/plain": [
       "                                 Syllabus    Duration\n",
       "0   1. Introduction to Deep Learning (DL)     90 mins\n",
       "1     2. Neural Network (NN) introduction    240 mins\n",
       "2                   Neurons and the Brain    180 mins\n",
       "3                   Non-linear Hypothesis    180 mins\n",
       "4                              perceptron    180 mins\n",
       "5                   Multilayer perceptron    180 mins\n",
       "6               Training a neural network    180 mins\n",
       "7                  Backpropagation primer    180 mins\n",
       "8                Gradients & optimization    180 mins\n",
       "9             3. Deep Learning for images    180 mins\n",
       "10                       CNN architecture    150 mins\n",
       "11   Overview of modern CNN architectures    150 mins\n",
       "12                       pre-trained CNNs    150 mins\n",
       "13                      Alexnet/Googlenet    150 mins\n",
       "14                            OpenCV + NN    150 mins\n",
       "15              3. Deep Learning for Text    150 mins\n",
       "16                                    RNN    120 mins\n",
       "17                                   LSTM    120 mins\n",
       "18                                    GRU    120 mins\n",
       "19      4.preprocessing Techniques for DL    120 mins\n",
       "20                         5.Tools for DL    150 mins\n",
       "21                             6.Practise    180 mins\n",
       "22                                  Total  18.5 hours\n",
       "23                                  Total  18.5 hours"
      ]
     },
     "execution_count": 147,
     "metadata": {},
     "output_type": "execute_result"
    }
   ],
   "source": [
    "excelFile.fillna(method=\"bfill\")"
   ]
  },
  {
   "cell_type": "code",
   "execution_count": 148,
   "id": "superior-bench",
   "metadata": {},
   "outputs": [],
   "source": [
    "df = pd.DataFrame()"
   ]
  },
  {
   "cell_type": "code",
   "execution_count": 150,
   "id": "resistant-choir",
   "metadata": {},
   "outputs": [],
   "source": [
    "df['State'] = ['Tamilnadu','Kerala','Andhra Pradesh']"
   ]
  },
  {
   "cell_type": "code",
   "execution_count": 153,
   "id": "manual-order",
   "metadata": {},
   "outputs": [],
   "source": [
    "df['Shortcode'] = ['TN','KL','AP']"
   ]
  },
  {
   "cell_type": "code",
   "execution_count": 154,
   "id": "final-afternoon",
   "metadata": {},
   "outputs": [
    {
     "data": {
      "text/html": [
       "<div>\n",
       "<style scoped>\n",
       "    .dataframe tbody tr th:only-of-type {\n",
       "        vertical-align: middle;\n",
       "    }\n",
       "\n",
       "    .dataframe tbody tr th {\n",
       "        vertical-align: top;\n",
       "    }\n",
       "\n",
       "    .dataframe thead th {\n",
       "        text-align: right;\n",
       "    }\n",
       "</style>\n",
       "<table border=\"1\" class=\"dataframe\">\n",
       "  <thead>\n",
       "    <tr style=\"text-align: right;\">\n",
       "      <th></th>\n",
       "      <th>State</th>\n",
       "      <th>Shortcode</th>\n",
       "    </tr>\n",
       "  </thead>\n",
       "  <tbody>\n",
       "    <tr>\n",
       "      <th>0</th>\n",
       "      <td>Tamilnadu</td>\n",
       "      <td>TN</td>\n",
       "    </tr>\n",
       "    <tr>\n",
       "      <th>1</th>\n",
       "      <td>Kerala</td>\n",
       "      <td>KL</td>\n",
       "    </tr>\n",
       "    <tr>\n",
       "      <th>2</th>\n",
       "      <td>Andhra Pradesh</td>\n",
       "      <td>AP</td>\n",
       "    </tr>\n",
       "  </tbody>\n",
       "</table>\n",
       "</div>"
      ],
      "text/plain": [
       "            State Shortcode\n",
       "0       Tamilnadu        TN\n",
       "1          Kerala        KL\n",
       "2  Andhra Pradesh        AP"
      ]
     },
     "execution_count": 154,
     "metadata": {},
     "output_type": "execute_result"
    }
   ],
   "source": [
    "df"
   ]
  },
  {
   "cell_type": "code",
   "execution_count": null,
   "id": "genetic-resource",
   "metadata": {},
   "outputs": [],
   "source": [
    "df.to_csv(\"msme.csv\")\n",
    "df.to_csv(\"msme.tsv\",sep=\"\\t\")\n",
    "df.to_excel(\"msme.xlsx\",sheet_name=\"testing\")"
   ]
  },
  {
   "cell_type": "code",
   "execution_count": 155,
   "id": "bizarre-information",
   "metadata": {},
   "outputs": [],
   "source": [
    "data = pd.DataFrame({'food': ['bacon', 'pulled pork', 'bacon', 'Pastrami','corned beef', 'Bacon', 'pastrami', 'honey ham',\n",
    "'nova lox'],'ounces': [4, 3, 12, 6, 7.5, 8, 3, 5, 6]})"
   ]
  },
  {
   "cell_type": "code",
   "execution_count": 156,
   "id": "technical-peeing",
   "metadata": {},
   "outputs": [
    {
     "data": {
      "text/html": [
       "<div>\n",
       "<style scoped>\n",
       "    .dataframe tbody tr th:only-of-type {\n",
       "        vertical-align: middle;\n",
       "    }\n",
       "\n",
       "    .dataframe tbody tr th {\n",
       "        vertical-align: top;\n",
       "    }\n",
       "\n",
       "    .dataframe thead th {\n",
       "        text-align: right;\n",
       "    }\n",
       "</style>\n",
       "<table border=\"1\" class=\"dataframe\">\n",
       "  <thead>\n",
       "    <tr style=\"text-align: right;\">\n",
       "      <th></th>\n",
       "      <th>food</th>\n",
       "      <th>ounces</th>\n",
       "    </tr>\n",
       "  </thead>\n",
       "  <tbody>\n",
       "    <tr>\n",
       "      <th>0</th>\n",
       "      <td>bacon</td>\n",
       "      <td>4.0</td>\n",
       "    </tr>\n",
       "    <tr>\n",
       "      <th>1</th>\n",
       "      <td>pulled pork</td>\n",
       "      <td>3.0</td>\n",
       "    </tr>\n",
       "    <tr>\n",
       "      <th>2</th>\n",
       "      <td>bacon</td>\n",
       "      <td>12.0</td>\n",
       "    </tr>\n",
       "    <tr>\n",
       "      <th>3</th>\n",
       "      <td>Pastrami</td>\n",
       "      <td>6.0</td>\n",
       "    </tr>\n",
       "    <tr>\n",
       "      <th>4</th>\n",
       "      <td>corned beef</td>\n",
       "      <td>7.5</td>\n",
       "    </tr>\n",
       "    <tr>\n",
       "      <th>5</th>\n",
       "      <td>Bacon</td>\n",
       "      <td>8.0</td>\n",
       "    </tr>\n",
       "    <tr>\n",
       "      <th>6</th>\n",
       "      <td>pastrami</td>\n",
       "      <td>3.0</td>\n",
       "    </tr>\n",
       "    <tr>\n",
       "      <th>7</th>\n",
       "      <td>honey ham</td>\n",
       "      <td>5.0</td>\n",
       "    </tr>\n",
       "    <tr>\n",
       "      <th>8</th>\n",
       "      <td>nova lox</td>\n",
       "      <td>6.0</td>\n",
       "    </tr>\n",
       "  </tbody>\n",
       "</table>\n",
       "</div>"
      ],
      "text/plain": [
       "          food  ounces\n",
       "0        bacon     4.0\n",
       "1  pulled pork     3.0\n",
       "2        bacon    12.0\n",
       "3     Pastrami     6.0\n",
       "4  corned beef     7.5\n",
       "5        Bacon     8.0\n",
       "6     pastrami     3.0\n",
       "7    honey ham     5.0\n",
       "8     nova lox     6.0"
      ]
     },
     "execution_count": 156,
     "metadata": {},
     "output_type": "execute_result"
    }
   ],
   "source": [
    "data"
   ]
  },
  {
   "cell_type": "code",
   "execution_count": 157,
   "id": "beneficial-diagram",
   "metadata": {},
   "outputs": [],
   "source": [
    "meat_to_animal = {\n",
    "'bacon': 'pig',\n",
    "'pulled pork': 'pig',\n",
    "'pastrami': 'cow',\n",
    "'corned beef': 'cow',\n",
    "'honey ham': 'pig',\n",
    "'nova lox': 'salmon'\n",
    "}"
   ]
  },
  {
   "cell_type": "code",
   "execution_count": 158,
   "id": "broken-tracker",
   "metadata": {},
   "outputs": [],
   "source": [
    "data['animal'] = data['food'].map(str.lower).map(meat_to_animal)"
   ]
  },
  {
   "cell_type": "code",
   "execution_count": 159,
   "id": "closed-salem",
   "metadata": {},
   "outputs": [
    {
     "data": {
      "text/html": [
       "<div>\n",
       "<style scoped>\n",
       "    .dataframe tbody tr th:only-of-type {\n",
       "        vertical-align: middle;\n",
       "    }\n",
       "\n",
       "    .dataframe tbody tr th {\n",
       "        vertical-align: top;\n",
       "    }\n",
       "\n",
       "    .dataframe thead th {\n",
       "        text-align: right;\n",
       "    }\n",
       "</style>\n",
       "<table border=\"1\" class=\"dataframe\">\n",
       "  <thead>\n",
       "    <tr style=\"text-align: right;\">\n",
       "      <th></th>\n",
       "      <th>food</th>\n",
       "      <th>ounces</th>\n",
       "      <th>animal</th>\n",
       "    </tr>\n",
       "  </thead>\n",
       "  <tbody>\n",
       "    <tr>\n",
       "      <th>0</th>\n",
       "      <td>bacon</td>\n",
       "      <td>4.0</td>\n",
       "      <td>pig</td>\n",
       "    </tr>\n",
       "    <tr>\n",
       "      <th>1</th>\n",
       "      <td>pulled pork</td>\n",
       "      <td>3.0</td>\n",
       "      <td>pig</td>\n",
       "    </tr>\n",
       "    <tr>\n",
       "      <th>2</th>\n",
       "      <td>bacon</td>\n",
       "      <td>12.0</td>\n",
       "      <td>pig</td>\n",
       "    </tr>\n",
       "    <tr>\n",
       "      <th>3</th>\n",
       "      <td>Pastrami</td>\n",
       "      <td>6.0</td>\n",
       "      <td>cow</td>\n",
       "    </tr>\n",
       "    <tr>\n",
       "      <th>4</th>\n",
       "      <td>corned beef</td>\n",
       "      <td>7.5</td>\n",
       "      <td>cow</td>\n",
       "    </tr>\n",
       "    <tr>\n",
       "      <th>5</th>\n",
       "      <td>Bacon</td>\n",
       "      <td>8.0</td>\n",
       "      <td>pig</td>\n",
       "    </tr>\n",
       "    <tr>\n",
       "      <th>6</th>\n",
       "      <td>pastrami</td>\n",
       "      <td>3.0</td>\n",
       "      <td>cow</td>\n",
       "    </tr>\n",
       "    <tr>\n",
       "      <th>7</th>\n",
       "      <td>honey ham</td>\n",
       "      <td>5.0</td>\n",
       "      <td>pig</td>\n",
       "    </tr>\n",
       "    <tr>\n",
       "      <th>8</th>\n",
       "      <td>nova lox</td>\n",
       "      <td>6.0</td>\n",
       "      <td>salmon</td>\n",
       "    </tr>\n",
       "  </tbody>\n",
       "</table>\n",
       "</div>"
      ],
      "text/plain": [
       "          food  ounces  animal\n",
       "0        bacon     4.0     pig\n",
       "1  pulled pork     3.0     pig\n",
       "2        bacon    12.0     pig\n",
       "3     Pastrami     6.0     cow\n",
       "4  corned beef     7.5     cow\n",
       "5        Bacon     8.0     pig\n",
       "6     pastrami     3.0     cow\n",
       "7    honey ham     5.0     pig\n",
       "8     nova lox     6.0  salmon"
      ]
     },
     "execution_count": 159,
     "metadata": {},
     "output_type": "execute_result"
    }
   ],
   "source": [
    "data"
   ]
  },
  {
   "cell_type": "markdown",
   "id": "exempt-privacy",
   "metadata": {},
   "source": [
    "                                      HW-3\n",
    "write a python code for guess game.\n",
    "\n",
    "    A user can think any number between 1-100. \n",
    "    Computer should identify that number just by getting one word response.\n",
    "    Responses are high, low and bingo"
   ]
  },
  {
   "cell_type": "markdown",
   "id": "working-council",
   "metadata": {},
   "source": [
    "                                      HW-4\n",
    "write a python code for guess game in the reversed version.\n",
    "\n",
    "    A Computer can think any number between 1-100. \n",
    "    user should identify that number just by getting one word response from the computer.\n",
    "    Responses are high, low and bingo"
   ]
  },
  {
   "cell_type": "markdown",
   "id": "cardiovascular-utilization",
   "metadata": {},
   "source": [
    "                                      HW-5\n",
    "write a python code for cow bull game. Use the following rules\n",
    "    \n",
    "    cow -> Same number and same position\n",
    "    bull -> same number but different position\n",
    "    \n",
    "    Note: Refer to the demo"
   ]
  },
  {
   "cell_type": "code",
   "execution_count": 160,
   "id": "surprised-muscle",
   "metadata": {},
   "outputs": [],
   "source": [
    "import matplotlib.pyplot as plt"
   ]
  },
  {
   "cell_type": "code",
   "execution_count": 161,
   "id": "shared-washer",
   "metadata": {},
   "outputs": [],
   "source": [
    "x = list(range(1,6))\n",
    "y = [i**2 for i in x]\n",
    "y1 = [i**3 for i in x]"
   ]
  },
  {
   "cell_type": "code",
   "execution_count": 165,
   "id": "differential-syndication",
   "metadata": {},
   "outputs": [
    {
     "data": {
      "image/png": "[encoded data removed]",
      "text/plain": [
       "<Figure size 432x288 with 1 Axes>"
      ]
     },
     "metadata": {
      "needs_background": "light"
     },
     "output_type": "display_data"
    }
   ],
   "source": [
    "plt.plot(x,y)\n",
    "plt.show()"
   ]
  },
  {
   "cell_type": "code",
   "execution_count": 167,
   "id": "funky-bandwidth",
   "metadata": {},
   "outputs": [
    {
     "data": {
      "image/png": "[encoded data removed]",
      "text/plain": [
       "<Figure size 432x288 with 1 Axes>"
      ]
     },
     "metadata": {
      "needs_background": "light"
     },
     "output_type": "display_data"
    }
   ],
   "source": [
    "# 1 figure 1 plot 1 graph\n",
    "plt.plot(x,y,color='red',marker='o',ls='--')\n",
    "plt.xlabel(\"X\")\n",
    "plt.ylabel(\"X^2\")\n",
    "plt.title(\"Simple line chart\")\n",
    "plt.show()"
   ]
  },
  {
   "cell_type": "code",
   "execution_count": 170,
   "id": "virtual-start",
   "metadata": {},
   "outputs": [
    {
     "data": {
      "image/png": "[encoded data removed]",
      "text/plain": [
       "<Figure size 432x288 with 1 Axes>"
      ]
     },
     "metadata": {
      "needs_background": "light"
     },
     "output_type": "display_data"
    }
   ],
   "source": [
    "# 1 figure 1 plot 2 graph\n",
    "plt.plot(x,y,'ro--',x,y1,'bs-')\n",
    "plt.xlabel(\"X\")\n",
    "plt.ylabel(\"Y\")\n",
    "plt.legend(['X^2','X^3'])\n",
    "plt.title(\"Simple line chart\")\n",
    "plt.show()"
   ]
  },
  {
   "cell_type": "code",
   "execution_count": 169,
   "id": "excellent-scottish",
   "metadata": {},
   "outputs": [
    {
     "data": {
      "image/png": "[encoded data removed]",
      "text/plain": [
       "<Figure size 432x288 with 1 Axes>"
      ]
     },
     "metadata": {
      "needs_background": "light"
     },
     "output_type": "display_data"
    },
    {
     "data": {
      "image/png": "[encoded data removed]",
      "text/plain": [
       "<Figure size 432x288 with 1 Axes>"
      ]
     },
     "metadata": {
      "needs_background": "light"
     },
     "output_type": "display_data"
    }
   ],
   "source": [
    "# 2 figure 1 plot 2 graph\n",
    "plt.figure(1)\n",
    "plt.plot(x,y,'ro--')\n",
    "plt.xlabel(\"X\")\n",
    "plt.ylabel(\"X^2\")\n",
    "plt.title(\"Simple line chart\")\n",
    "\n",
    "plt.figure(2)\n",
    "plt.plot(x,y1,'bs-')\n",
    "plt.xlabel(\"X\")\n",
    "plt.ylabel(\"X^3\")\n",
    "plt.title(\"Simple line chart\")\n",
    "plt.show()"
   ]
  },
  {
   "cell_type": "code",
   "execution_count": 175,
   "id": "flush-priest",
   "metadata": {},
   "outputs": [
    {
     "data": {
      "image/png": "[encoded data removed]",
      "text/plain": [
       "<Figure size 432x288 with 2 Axes>"
      ]
     },
     "metadata": {
      "needs_background": "light"
     },
     "output_type": "display_data"
    }
   ],
   "source": [
    "# 1 figure 2 plot 2 graph\n",
    "plt.subplot(221)\n",
    "plt.plot(x,y,'ro--')\n",
    "plt.xlabel(\"X\")\n",
    "plt.ylabel(\"X^2\")\n",
    "plt.title(\"Simple line chart\")\n",
    "\n",
    "plt.subplot(224)\n",
    "plt.plot(x,y1,'bs-')\n",
    "plt.xlabel(\"X\")\n",
    "plt.ylabel(\"X^3\")\n",
    "plt.show()"
   ]
  },
  {
   "cell_type": "code",
   "execution_count": 180,
   "id": "competitive-junction",
   "metadata": {},
   "outputs": [
    {
     "data": {
      "image/png": "[encoded data removed]",
      "text/plain": [
       "<Figure size 432x288 with 1 Axes>"
      ]
     },
     "metadata": {
      "needs_background": "light"
     },
     "output_type": "display_data"
    }
   ],
   "source": [
    "plt.scatter(x,y,c='r',marker='p')\n",
    "plt.xlabel(\"X\")\n",
    "plt.ylabel(\"X^2\")\n",
    "plt.title(\"Simple line chart\")\n",
    "plt.show()"
   ]
  },
  {
   "cell_type": "code",
   "execution_count": 181,
   "id": "surface-simple",
   "metadata": {},
   "outputs": [],
   "source": [
    "x = ['apple','mango','orange']\n",
    "y = [21,25,22]"
   ]
  },
  {
   "cell_type": "code",
   "execution_count": 188,
   "id": "dynamic-simon",
   "metadata": {},
   "outputs": [
    {
     "data": {
      "image/png": "[encoded data removed]",
      "text/plain": [
       "<Figure size 432x288 with 1 Axes>"
      ]
     },
     "metadata": {
      "needs_background": "light"
     },
     "output_type": "display_data"
    }
   ],
   "source": [
    "plt.bar(x,y,facecolor=\"#6712AB\")\n",
    "for i,j in enumerate(y):\n",
    "    plt.text(i,j+1,x[i],ha='center')\n",
    "plt.ylim(0,30)\n",
    "plt.show()"
   ]
  },
  {
   "cell_type": "code",
   "execution_count": 189,
   "id": "arbitrary-premiere",
   "metadata": {},
   "outputs": [
    {
     "data": {
      "image/png": "[encoded data removed]",
      "text/plain": [
       "<Figure size 432x288 with 1 Axes>"
      ]
     },
     "metadata": {
      "needs_background": "light"
     },
     "output_type": "display_data"
    }
   ],
   "source": [
    "plt.barh(x,y,facecolor=\"#6712AB\")\n",
    "plt.show()"
   ]
  },
  {
   "cell_type": "code",
   "execution_count": 191,
   "id": "white-hotel",
   "metadata": {},
   "outputs": [
    {
     "data": {
      "image/png": "[encoded data removed]",
      "text/plain": [
       "<Figure size 432x288 with 1 Axes>"
      ]
     },
     "metadata": {
      "needs_background": "light"
     },
     "output_type": "display_data"
    }
   ],
   "source": [
    "plt.hist(csvFile['sepal_length'])\n",
    "plt.show()"
   ]
  },
  {
   "cell_type": "code",
   "execution_count": 195,
   "id": "sonic-particular",
   "metadata": {},
   "outputs": [
    {
     "data": {
      "image/png": "[encoded data removed]",
      "text/plain": [
       "<Figure size 432x288 with 4 Axes>"
      ]
     },
     "metadata": {
      "needs_background": "light"
     },
     "output_type": "display_data"
    }
   ],
   "source": [
    "csvFile.hist(grid=False)\n",
    "plt.show()"
   ]
  },
  {
   "cell_type": "code",
   "execution_count": 200,
   "id": "postal-death",
   "metadata": {},
   "outputs": [
    {
     "data": {
      "image/png": "[encoded data removed]",
      "text/plain": [
       "<Figure size 432x288 with 1 Axes>"
      ]
     },
     "metadata": {},
     "output_type": "display_data"
    }
   ],
   "source": [
    "plt.pie(y,labels=x,labeldistance=0.5,explode=[0,0,0.1])\n",
    "plt.show()"
   ]
  },
  {
   "cell_type": "code",
   "execution_count": 204,
   "id": "modern-crisis",
   "metadata": {},
   "outputs": [
    {
     "data": {
      "image/png": "[encoded data removed]",
      "text/plain": [
       "<Figure size 432x288 with 1 Axes>"
      ]
     },
     "metadata": {
      "needs_background": "light"
     },
     "output_type": "display_data"
    }
   ],
   "source": [
    "plt.boxplot(csvFile['sepal_length'],labels=['sepal_length'])\n",
    "plt.show()"
   ]
  },
  {
   "cell_type": "code",
   "execution_count": 207,
   "id": "better-cholesterol",
   "metadata": {},
   "outputs": [
    {
     "data": {
      "image/png": "[encoded data removed]",
      "text/plain": [
       "<Figure size 432x288 with 1 Axes>"
      ]
     },
     "metadata": {
      "needs_background": "light"
     },
     "output_type": "display_data"
    }
   ],
   "source": [
    "csvFile.boxplot(grid=False)\n",
    "plt.show()"
   ]
  },
  {
   "cell_type": "code",
   "execution_count": 210,
   "id": "developing-blues",
   "metadata": {},
   "outputs": [
    {
     "data": {
      "image/png": "[encoded data removed]",
      "text/plain": [
       "<Figure size 432x288 with 2 Axes>"
      ]
     },
     "metadata": {
      "needs_background": "light"
     },
     "output_type": "display_data"
    }
   ],
   "source": [
    "import matplotlib.pyplot as plt\n",
    "import numpy as np\n",
    "import pandas as pd\n",
    "\n",
    "data = pd.read_csv(\"./Advertising.csv\", index_col=0)\n",
    "corr = data.corr()\n",
    "fig = plt.figure()\n",
    "ax = fig.add_subplot(111)\n",
    "cax = ax.matshow(corr, cmap='coolwarm', vmin=-1, vmax=1)\n",
    "fig.colorbar(cax)\n",
    "ticks = np.arange(0, len(data.columns), 1)\n",
    "ax.set_xticks(ticks)\n",
    "plt.xticks(rotation=90)\n",
    "ax.set_yticks(ticks)\n",
    "ax.set_xticklabels(data.columns)\n",
    "ax.set_yticklabels(data.columns)\n",
    "plt.show()\n"
   ]
  },
  {
   "cell_type": "code",
   "execution_count": 213,
   "id": "alike-heating",
   "metadata": {},
   "outputs": [
    {
     "data": {
      "image/png": "[encoded data removed]",
      "text/plain": [
       "<Figure size 432x288 with 1 Axes>"
      ]
     },
     "metadata": {
      "needs_background": "light"
     },
     "output_type": "display_data"
    }
   ],
   "source": [
    "import numpy as np\n",
    "import matplotlib.pyplot as plt\n",
    "\n",
    "n = 12\n",
    "X = np.arange(n)\n",
    "Y1 = (1 - X / float(n)) * np.random.uniform(0.5, 1.0, n)\n",
    "Y2 = (1 - X / float(n)) * np.random.uniform(0.5, 1.0, n)\n",
    "\n",
    "plt.bar(X, +Y1, facecolor='#9999ff', edgecolor='white')\n",
    "plt.bar(X, -Y2, facecolor='#ff9999', edgecolor='white')\n",
    "\n",
    "for x, y in zip(X, Y1):\n",
    "    plt.text(x + 0.4, y + 0.05, '%.2f' % y, ha='center', va='bottom')\n",
    "\n",
    "plt.ylim(-1.25, +1.25)\n",
    "plt.show()"
   ]
  },
  {
   "cell_type": "code",
   "execution_count": null,
   "id": "celtic-orbit",
   "metadata": {},
   "outputs": [],
   "source": []
  }
 ],
 "metadata": {
  "kernelspec": {
   "display_name": "Python 3",
   "language": "python",
   "name": "python3"
  },
  "language_info": {
   "codemirror_mode": {
    "name": "ipython",
    "version": 3
   },
   "file_extension": ".py",
   "mimetype": "text/x-python",
   "name": "python",
   "nbconvert_exporter": "python",
   "pygments_lexer": "ipython3",
   "version": "3.6.8"
  },
  "nbTranslate": {
   "displayLangs": [
    "*"
   ],
   "hotkey": "alt-t",
   "langInMainMenu": true,
   "sourceLang": "en",
   "targetLang": "fr",
   "useGoogleTranslate": true
  },
  "toc": {
   "base_numbering": 1,
   "nav_menu": {},
   "number_sections": true,
   "sideBar": true,
   "skip_h1_title": false,
   "title_cell": "Table of Contents",
   "title_sidebar": "Contents",
   "toc_cell": false,
   "toc_position": {},
   "toc_section_display": true,
   "toc_window_display": false
  },
  "varInspector": {
   "cols": {
    "lenName": 16,
    "lenType": 16,
    "lenVar": 40
   },
   "kernels_config": {
    "python": {
     "delete_cmd_postfix": "",
     "delete_cmd_prefix": "del ",
     "library": "var_list.py",
     "varRefreshCmd": "print(var_dic_list())"
    },
    "r": {
     "delete_cmd_postfix": ") ",
     "delete_cmd_prefix": "rm(",
     "library": "var_list.r",
     "varRefreshCmd": "cat(var_dic_list()) "
    }
   },
   "types_to_exclude": [
    "module",
    "function",
    "builtin_function_or_method",
    "instance",
    "_Feature"
   ],
   "window_display": false
  }
 },
 "nbformat": 4,
 "nbformat_minor": 5
}
