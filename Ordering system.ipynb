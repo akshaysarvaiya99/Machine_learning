{
 "cells": [
  {
   "cell_type": "code",
   "execution_count": 1,
   "metadata": {},
   "outputs": [],
   "source": [
    "#storing pricing details in dictionary\n",
    "crust = {\n",
    "    \"Thin\":4.00,\n",
    "    \"Thick\":6.50,\n",
    "    \"Wood Fired\":8.50\n",
    "}\n",
    "\n",
    "cheese = {\n",
    "    \"Chedder\":0.5,\n",
    "    \"Colby\":0.5,\n",
    "    \"Edam\":0.5,\n",
    "    \"Emmental\":0.5,\n",
    "    \"Gruyere\":0.5,\n",
    "    \"Mozzarella\":0.5,\n",
    "    \"Provolone\":0.5,\n",
    "    \"Ricotta\":0.5\n",
    "}\n",
    "\n",
    "topping = {\n",
    "    \"Tomato\": 0.75,\n",
    "    \"Mushrooms\": 0.75,\n",
    "    \"Pepperoni\": 0.50,\n",
    "    \"Onions\": 0.25,\n",
    "    \"Black Olives\": 0.75,\n",
    "    \"Green Peppers\": 0.50,\n",
    "    \"Anchovies\": 0.25,\n",
    "    \"Garlic\": 0.50,\n",
    "    \"Ham\": 1.50,\n",
    "    \"Bacon\": 1.25\n",
    "}\n"
   ]
  },
  {
   "cell_type": "code",
   "execution_count": 2,
   "metadata": {},
   "outputs": [],
   "source": [
    "#initializing variables\n",
    "toppingLimit = 6\n",
    "cheeseLimit = 3"
   ]
  },
  {
   "cell_type": "code",
   "execution_count": 103,
   "metadata": {},
   "outputs": [
    {
     "name": "stdout",
     "output_type": "stream",
     "text": [
      "Enter your name :-ss\n",
      "How many pizza do you want? 1\n",
      "What type of pizza crust would you like?: Thin (1), Thick (2) or Wood Fired (3)1\n",
      "How many number of cheese style would you like to add? 1\n",
      "what type of cheese style do you like ?: \n",
      "Chedder (1), \n",
      "Colby (2), \n",
      "Edam (3), \n",
      "Emmental (4), \n",
      "Gruyere (5), \n",
      "Mozzarella (6), \n",
      "Provolone (7), \n",
      "Ricotta (8)\n",
      "1\n",
      "How many number of topping choices would you like to add? 1\n",
      "what type of topping choice do you like ?: \n",
      "Tomato (1), \n",
      "Mushrooms (2), \n",
      "Pepperoni (3), \n",
      "Onions (4), \n",
      "Black Olives (5), \n",
      "Green Peppers (6), \n",
      "Anchovies (7), \n",
      "Garlic (8), \n",
      "Ham (9), \n",
      "Bacon (10)\n",
      "1\n"
     ]
    }
   ],
   "source": [
    "customerName = input(\"Enter your name :-\") #getting name of the customer\n",
    "pizzaNum = int(input(\"How many pizza do you want? \")) #getting pizza count from the customer\n",
    "crustType = [] #setting empty list for crust type\n",
    "pizzaCount = 0\n",
    "cheeseType = []\n",
    "toppingType = []\n",
    "#getting order details from customer for the pizza\n",
    "while pizzaCount != pizzaNum:\n",
    "    #getting crust type from the customer\n",
    "    Crust_tempList = []\n",
    "    customer_crust_type = input(\"What type of pizza crust would you like?: Thin (1), Thick (2) or Wood Fired (3)\")\n",
    "    try:\n",
    "        Crust_tempList.append(int(customer_crust_type))\n",
    "    except ValueError:\n",
    "        print (\"You must choose either option 1, 2 or 3\") \n",
    "        continue\n",
    "    crustType.extend(Crust_tempList)\n",
    "        \n",
    "    #getting cheese choice \n",
    "    cheeseCount = 0\n",
    "    cheeseNum = input(\"How many number of cheese style would you like to add? \")\n",
    "    if int(cheeseNum) > cheeseLimit:\n",
    "        print (\"You much choose upto %d cheese style only\"%cheeseLimit)\n",
    "        continue\n",
    "    num = 1\n",
    "    Cheese_tempList = []\n",
    "    while num <= int(cheeseNum):\n",
    "        customer_cheese_type = input(\"what type of cheese style do you like ?: \\nChedder (1), \\nColby (2), \\nEdam (3), \\nEmmental (4), \\nGruyere (5), \\nMozzarella (6), \\nProvolone (7), \\nRicotta (8)\\n\")\n",
    "        try:\n",
    "            Cheese_tempList.append(int(customer_cheese_type))\n",
    "        except ValueError:\n",
    "            print(\"You must select option 1,2,...8\")\n",
    "            continue\n",
    "        num+=1\n",
    "    cheeseType.append(Cheese_tempList)\n",
    "       \n",
    "    #topping details from customer\n",
    "    toppingCount = 0\n",
    "    toppingNum = input(\"How many number of topping choices would you like to add? \")\n",
    "    if int(toppingNum) > toppingLimit: #checking the topping count is greater than acceptable limit\n",
    "        print (\"You much choose upto %d topping choice only\"%toppingLimit) \n",
    "        continue\n",
    "    topic_num = 1\n",
    "    Topping_tempList = []\n",
    "    while topic_num <= int(toppingNum):\n",
    "        customer_topping_choice = input(\"what type of topping choice do you like ?: \\nTomato (1), \\nMushrooms (2), \\nPepperoni (3), \\nOnions (4), \\nBlack Olives (5), \\nGreen Peppers (6), \\nAnchovies (7), \\nGarlic (8), \\nHam (9), \\nBacon (10)\\n\")\n",
    "        try:\n",
    "            Topping_tempList.append(int(customer_topping_choice))\n",
    "        except ValueError:\n",
    "            print(\"You must select option 1,2,...10\")\n",
    "            continue\n",
    "        topic_num+=1\n",
    "    toppingType.append(Topping_tempList)\n",
    "    \n",
    "    pizzaCount+=1\n"
   ]
  },
  {
   "cell_type": "code",
   "execution_count": 104,
   "metadata": {},
   "outputs": [
    {
     "name": "stdout",
     "output_type": "stream",
     "text": [
      "Your itemised bill : \n",
      "\n",
      "S.No\tCategory\t\tItem\t\t\tPrice\n",
      "\n",
      "1\tCrust   \t\tThin      \t\t4.00\n",
      " \tCheese  \t\tChedder   \t\t0.50\n",
      " \tTopping \t\tTomato    \t\t0.75\n",
      "\n",
      "\n",
      "Your total bill amount is 5.25\n"
     ]
    }
   ],
   "source": [
    "print(\"Your itemised bill : \\n\")\n",
    "print(\"S.No\\tCategory\\t\\tItem\\t\\t\\tPrice\\n\")\n",
    "total = 0\n",
    "\n",
    "for item in range(pizzaCount):\n",
    "    pizzaCrust = list(crust.keys())[crustType[item]-1]\n",
    "    print(\"{}\\t{:<8}\\t\\t{:<10}\\t\\t{:.2f}\".format(item+1,\"Crust\",pizzaCrust,crust[pizzaCrust]))\n",
    "    \n",
    "    cheeseChoice = [list(cheese.keys())[i-1] for i in cheeseType[item]]\n",
    "    print('\\n'.join([\" \\t{:<8}\\t\\t{:<10}\\t\\t{:.2f}\".format(\"Cheese\",choice,cheese[choice]) for choice in cheeseChoice ]))\n",
    "    \n",
    "    toppingChoice = [list(topping.keys())[i-1] for i in toppingType[item]]\n",
    "    print('\\n'.join([\" \\t{:<8}\\t\\t{:<10}\\t\\t{:.2f}\".format(\"Topping\",tchoice,topping[tchoice]) for tchoice in toppingChoice ]))\n",
    "    print(\"\\n\")\n",
    "    total += crust[pizzaCrust] + sum([cheese.get(item, item) for item in cheeseChoice])+ sum([topping.get(item, item) for item in toppingChoice])\n",
    "    \n",
    "print(\"Your total bill amount is %0.2f\"%total)"
   ]
  },
  {
   "cell_type": "code",
   "execution_count": null,
   "metadata": {},
   "outputs": [],
   "source": []
  }
 ],
 "metadata": {
  "kernelspec": {
   "display_name": "Python 3",
   "language": "python",
   "name": "python3"
  },
  "language_info": {
   "codemirror_mode": {
    "name": "ipython",
    "version": 3
   },
   "file_extension": ".py",
   "mimetype": "text/x-python",
   "name": "python",
   "nbconvert_exporter": "python",
   "pygments_lexer": "ipython3",
   "version": "3.6.9"
  },
  "toc": {
   "base_numbering": 1,
   "nav_menu": {},
   "number_sections": true,
   "sideBar": true,
   "skip_h1_title": false,
   "title_cell": "Table of Contents",
   "title_sidebar": "Contents",
   "toc_cell": false,
   "toc_position": {},
   "toc_section_display": true,
   "toc_window_display": false
  },
  "varInspector": {
   "cols": {
    "lenName": 16,
    "lenType": 16,
    "lenVar": 40
   },
   "kernels_config": {
    "python": {
     "delete_cmd_postfix": "",
     "delete_cmd_prefix": "del ",
     "library": "var_list.py",
     "varRefreshCmd": "print(var_dic_list())"
    },
    "r": {
     "delete_cmd_postfix": ") ",
     "delete_cmd_prefix": "rm(",
     "library": "var_list.r",
     "varRefreshCmd": "cat(var_dic_list()) "
    }
   },
   "types_to_exclude": [
    "module",
    "function",
    "builtin_function_or_method",
    "instance",
    "_Feature"
   ],
   "window_display": false
  }
 },
 "nbformat": 4,
 "nbformat_minor": 2
}
