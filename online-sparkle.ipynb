{
 "cells": [
  {
   "cell_type": "code",
   "execution_count": 1,
   "metadata": {},
   "outputs": [],
   "source": [
    "#datatypes\n",
    "#int,float,str,bool\n",
    "a=10\n",
    "pi=3.14\n",
    "b=True\n",
    "name=\"apple\""
   ]
  },
  {
   "cell_type": "code",
   "execution_count": 7,
   "metadata": {},
   "outputs": [
    {
     "name": "stdout",
     "output_type": "stream",
     "text": [
      "True\n",
      "<class 'bool'>\n"
     ]
    }
   ],
   "source": [
    "print(b)\n",
    "print(type(b))"
   ]
  },
  {
   "cell_type": "code",
   "execution_count": 10,
   "metadata": {},
   "outputs": [
    {
     "data": {
      "text/plain": [
       "str"
      ]
     },
     "execution_count": 10,
     "metadata": {},
     "output_type": "execute_result"
    }
   ],
   "source": [
    "type(str(a))"
   ]
  },
  {
   "cell_type": "code",
   "execution_count": 13,
   "metadata": {},
   "outputs": [
    {
     "name": "stdout",
     "output_type": "stream",
     "text": [
      "hello world\n"
     ]
    }
   ],
   "source": [
    "print(\"hello world\")"
   ]
  },
  {
   "cell_type": "code",
   "execution_count": 14,
   "metadata": {},
   "outputs": [
    {
     "name": "stdout",
     "output_type": "stream",
     "text": [
      "615\n"
     ]
    }
   ],
   "source": [
    "n=5\n",
    "ans = int(str(n)+str(n)+str(n))+int(str(n)+str(n))+n\n",
    "print(ans)"
   ]
  },
  {
   "cell_type": "code",
   "execution_count": 8,
   "metadata": {},
   "outputs": [
    {
     "name": "stdout",
     "output_type": "stream",
     "text": [
      "hello apple\n",
      "hello 10\n",
      "----------------------\n",
      "hello apple\n",
      "hello 10\n",
      "----------------------\n",
      "hello apple\n",
      "hello 10\n",
      "----------------------\n",
      "hello apple\n",
      "hello 10\n"
     ]
    }
   ],
   "source": [
    "#hello apple\n",
    "#hello 10\n",
    "\n",
    "#method 1\n",
    "print(\"hello \"+name)\n",
    "print(\"hello \"+str(a))\n",
    "print(\"----------------------\")\n",
    "\n",
    "#method 2\n",
    "print(\"hello\",name)\n",
    "print(\"hello\",a)\n",
    "print(\"----------------------\")\n",
    "\n",
    "#method 3\n",
    "print(\"hello %s\"%name)\n",
    "print(\"hello %d\"%a)\n",
    "print(\"----------------------\")\n",
    "\n",
    "#method 4\n",
    "print(\"hello {}\".format(name))\n",
    "print(\"hello {}\".format(a))\n"
   ]
  },
  {
   "cell_type": "code",
   "execution_count": null,
   "metadata": {},
   "outputs": [],
   "source": []
  },
  {
   "cell_type": "code",
   "execution_count": null,
   "metadata": {},
   "outputs": [],
   "source": [
    "+ - * / %\n",
    "and or not \n",
    "> < >= <= == !="
   ]
  },
  {
   "cell_type": "code",
   "execution_count": 12,
   "metadata": {},
   "outputs": [
    {
     "name": "stdout",
     "output_type": "stream",
     "text": [
      "Enter the numerical value :5\n",
      "odd\n"
     ]
    }
   ],
   "source": [
    "#if-else\n",
    "n=int(input(\"Enter the numerical value :\"))\n",
    "if n%2==0:\n",
    "    print(\"even\")\n",
    "else:\n",
    "    print(\"odd\")"
   ]
  },
  {
   "cell_type": "code",
   "execution_count": 15,
   "metadata": {},
   "outputs": [
    {
     "name": "stdout",
     "output_type": "stream",
     "text": [
      "Enter the numerical value :5\n",
      "odd\n"
     ]
    }
   ],
   "source": [
    "#if-elseif-else\n",
    "n=int(input(\"Enter the numerical value :\"))\n",
    "if n%4==0:\n",
    "    print(\"divisible by 4 and also even\")\n",
    "elif n%2==0:\n",
    "    print(\"even\")\n",
    "else:\n",
    "    print(\"odd\")"
   ]
  },
  {
   "cell_type": "code",
   "execution_count": 30,
   "metadata": {},
   "outputs": [],
   "source": [
    "m=\"mango\"\n",
    "if m==\"apple\" or m==\"orange\":\n",
    "    print('yes')"
   ]
  },
  {
   "cell_type": "code",
   "execution_count": 26,
   "metadata": {},
   "outputs": [
    {
     "name": "stdout",
     "output_type": "stream",
     "text": [
      "yes\n"
     ]
    }
   ],
   "source": [
    "if \"orange\":\n",
    "    print(\"yes\")"
   ]
  },
  {
   "cell_type": "code",
   "execution_count": 29,
   "metadata": {},
   "outputs": [
    {
     "name": "stdout",
     "output_type": "stream",
     "text": [
      "yes\n"
     ]
    }
   ],
   "source": [
    "if n:\n",
    "    print('yes')"
   ]
  },
  {
   "cell_type": "code",
   "execution_count": null,
   "metadata": {},
   "outputs": [],
   "source": [
    "area of circle,rectangle,triangle\n",
    "The area of the circle of radium 5cm is 85sq.cm"
   ]
  },
  {
   "cell_type": "code",
   "execution_count": null,
   "metadata": {},
   "outputs": [],
   "source": [
    "https://github.com/sharmasaravanan/Machine_learning"
   ]
  },
  {
   "cell_type": "code",
   "execution_count": 1,
   "metadata": {},
   "outputs": [
    {
     "name": "stdout",
     "output_type": "stream",
     "text": [
      "Enter the numerical value :20\n",
      "divisible by 4 and also even\n",
      "Enter the numerical value :45\n",
      "odd\n",
      "Enter the numerical value :89\n",
      "odd\n",
      "Enter the numerical value :96\n",
      "divisible by 4 and also even\n"
     ]
    }
   ],
   "source": [
    "i=1\n",
    "while i<=4:\n",
    "    n=int(input(\"Enter the numerical value :\"))\n",
    "    if n==15:\n",
    "        print(\"Goodbye...\")\n",
    "        break\n",
    "    elif n==25:\n",
    "        print(\"skipping....\")\n",
    "        continue\n",
    "    if n%4==0:\n",
    "        print(\"divisible by 4 and also even\")\n",
    "    elif n%2==0:\n",
    "        print(\"even\")\n",
    "    else:\n",
    "        print(\"odd\")\n",
    "    i+=1\n"
   ]
  },
  {
   "cell_type": "markdown",
   "metadata": {},
   "source": [
    "### Rock-Paper-Scissor\n",
    "\n",
    "1. Rock beats scissor\n",
    "2. Scissor beats paper\n",
    "3. Paper beats rock"
   ]
  },
  {
   "cell_type": "code",
   "execution_count": null,
   "metadata": {},
   "outputs": [],
   "source": [
    "#rock paper scissor game\n",
    "while True:\n",
    "user1=input (\"User1 Enter your option:rock,paper,scissor or q to quit the game:\")\n",
    "user2=input(\"User2 Enter your option:rock,paper,scissor or q to quit the game:\")\n",
    "if user1=='q' or user2=='q':\n",
    "print(\"Goodbye\")\n",
    "break\n",
    "if user1==user2:\n",
    "print(\"Tie\")\n",
    "elif user1==\"rock\" and user2==\"paper\":\n",
    "print(\"user2 wins\")\n",
    "elif user1==\"paper\" and user2==\"scissor\":\n",
    "print(\"user2 wins\")\n",
    "elif user1==\"scissor\" and user2==\"rock\":\n",
    "print(\"user2 wins\")\n",
    "elif user1==\"rock\" and user2==\"scissor\":\n",
    "print (\"user1 wins\")\n",
    "elif user1==\"paper\" and user2==\"rock\":\n",
    "print(\"user1 wins\")\n",
    "elif user1==\"scissor\" and user2==\"paper\":\n",
    "print(\"user1 wins\")\n",
    "elif user1==\"rock\" or user1==\"paper\" or user1==\"scissor\" or user2==\"rock\" or user2==\"paper\" or user2==\"scissor\":\n",
    "print(\"Enter the correct option:rock,paper,scissor\")\n",
    "continue"
   ]
  },
  {
   "cell_type": "code",
   "execution_count": null,
   "metadata": {},
   "outputs": [],
   "source": [
    "while True:\n",
    "    user1 = input('Say your choice Rock (R), Paper(P) or Sciccors(S):')\n",
    "    user2 = input('User2 say your choice Rock (R), Paper(P) or Sciccors(S)::')\n",
    "\n",
    "if user1 = 'R':\n",
    "    if user2 = 'R': \n",
    "        print( 'Draw')\n",
    "    elif user2 = 'S':\n",
    "        print ('User1 wins')\n",
    "    else \n",
    "        print ('User2 wins')\n",
    "elif user1 = 'S'\n",
    "    if user2 = 'R': \n",
    "        print( 'User1 wins')\n",
    "    elif user2 = 'S':\n",
    "        print ('Draw')\n",
    "    else \n",
    "        print ('User2 wins')\n",
    "else \n",
    "    if user2 = 'R': \n",
    "        print( 'User1 wins')\n",
    "    elif user2 = 'S':\n",
    "        print ('User2 wins')\n",
    "    else \n",
    "        print ('Draw')\n",
    "Quit = ('Do you want to continue(Y/N)':)\n",
    "if Quit = 'Y'\n",
    "    break"
   ]
  },
  {
   "cell_type": "code",
   "execution_count": 27,
   "metadata": {},
   "outputs": [],
   "source": [
    "#string \n",
    "name = \" elephant \""
   ]
  },
  {
   "cell_type": "code",
   "execution_count": 7,
   "metadata": {},
   "outputs": [
    {
     "data": {
      "text/plain": [
       "'eh'"
      ]
     },
     "execution_count": 7,
     "metadata": {},
     "output_type": "execute_result"
    }
   ],
   "source": [
    "name[2:6:2]"
   ]
  },
  {
   "cell_type": "code",
   "execution_count": 11,
   "metadata": {},
   "outputs": [],
   "source": [
    "f=name[::-1]"
   ]
  },
  {
   "cell_type": "code",
   "execution_count": 10,
   "metadata": {},
   "outputs": [
    {
     "data": {
      "text/plain": [
       "'elephant'"
      ]
     },
     "execution_count": 10,
     "metadata": {},
     "output_type": "execute_result"
    }
   ],
   "source": [
    "name"
   ]
  },
  {
   "cell_type": "code",
   "execution_count": 30,
   "metadata": {},
   "outputs": [
    {
     "data": {
      "text/plain": [
       "'elephant'"
      ]
     },
     "execution_count": 30,
     "metadata": {},
     "output_type": "execute_result"
    }
   ],
   "source": [
    "name.capitalize()\n",
    "name.casefold()\n",
    "name.lower()\n",
    "name.upper()\n",
    "name.count('e')\n",
    "name.endswith(\"nT\")\n",
    "name.startswith(\"el\")\n",
    "name.find(\"p\")\n",
    "name.index('p')\n",
    "name.islower()\n",
    "name.replace(\"e\",\"A\")\n",
    "name.swapcase()\n",
    "name.rstrip()\n",
    "name.lstrip()\n",
    "name.strip()"
   ]
  },
  {
   "cell_type": "code",
   "execution_count": 31,
   "metadata": {},
   "outputs": [],
   "source": [
    "na=\"apple is a fruit\""
   ]
  },
  {
   "cell_type": "code",
   "execution_count": 32,
   "metadata": {},
   "outputs": [
    {
     "data": {
      "text/plain": [
       "['apple', 'is', 'a', 'fruit']"
      ]
     },
     "execution_count": 32,
     "metadata": {},
     "output_type": "execute_result"
    }
   ],
   "source": [
    "na.split()"
   ]
  },
  {
   "cell_type": "code",
   "execution_count": 37,
   "metadata": {},
   "outputs": [],
   "source": [
    "d=na.split()"
   ]
  },
  {
   "cell_type": "code",
   "execution_count": 42,
   "metadata": {},
   "outputs": [],
   "source": [
    "name.isidentifier?"
   ]
  },
  {
   "cell_type": "code",
   "execution_count": 39,
   "metadata": {},
   "outputs": [
    {
     "data": {
      "text/plain": [
       "'apple is a fruit'"
      ]
     },
     "execution_count": 39,
     "metadata": {},
     "output_type": "execute_result"
    }
   ],
   "source": [
    "' '.join(d)"
   ]
  },
  {
   "cell_type": "code",
   "execution_count": null,
   "metadata": {},
   "outputs": [],
   "source": [
    "1. Palindrome\n",
    "2. \"Apple is a fruit .\" --> \". fruit a is Apple\""
   ]
  },
  {
   "cell_type": "code",
   "execution_count": 43,
   "metadata": {},
   "outputs": [],
   "source": [
    "import random as r\n",
    "num=r.randint(0,100)"
   ]
  },
  {
   "cell_type": "code",
   "execution_count": 48,
   "metadata": {},
   "outputs": [
    {
     "data": {
      "text/plain": [
       "42"
      ]
     },
     "execution_count": 48,
     "metadata": {},
     "output_type": "execute_result"
    }
   ],
   "source": [
    "num=r.randint(0,100)\n",
    "num"
   ]
  },
  {
   "cell_type": "code",
   "execution_count": 49,
   "metadata": {},
   "outputs": [],
   "source": [
    "#list"
   ]
  },
  {
   "cell_type": "code",
   "execution_count": 3,
   "metadata": {},
   "outputs": [],
   "source": [
    "l=[]\n",
    "L=[1,2,3,4,5,6,'a','b','c','apple','ball']"
   ]
  },
  {
   "cell_type": "code",
   "execution_count": 5,
   "metadata": {},
   "outputs": [
    {
     "data": {
      "text/plain": [
       "[3, 4, 5, 6, 'a', 'b', 'c', 'apple', 'ball']"
      ]
     },
     "execution_count": 5,
     "metadata": {},
     "output_type": "execute_result"
    }
   ],
   "source": [
    "L[2:]"
   ]
  },
  {
   "cell_type": "code",
   "execution_count": 6,
   "metadata": {},
   "outputs": [
    {
     "data": {
      "text/plain": [
       "10"
      ]
     },
     "execution_count": 6,
     "metadata": {},
     "output_type": "execute_result"
    }
   ],
   "source": [
    "L.index('ball')"
   ]
  },
  {
   "cell_type": "code",
   "execution_count": 7,
   "metadata": {},
   "outputs": [],
   "source": [
    "L[10]=\"bat\""
   ]
  },
  {
   "cell_type": "code",
   "execution_count": 8,
   "metadata": {},
   "outputs": [
    {
     "data": {
      "text/plain": [
       "[1, 2, 3, 4, 5, 6, 'a', 'b', 'c', 'apple', 'bat']"
      ]
     },
     "execution_count": 8,
     "metadata": {},
     "output_type": "execute_result"
    }
   ],
   "source": [
    "L"
   ]
  },
  {
   "cell_type": "code",
   "execution_count": 56,
   "metadata": {},
   "outputs": [],
   "source": [
    "del L[5]"
   ]
  },
  {
   "cell_type": "code",
   "execution_count": 9,
   "metadata": {},
   "outputs": [],
   "source": [
    "L.append(\"cat\")"
   ]
  },
  {
   "cell_type": "code",
   "execution_count": 10,
   "metadata": {},
   "outputs": [
    {
     "data": {
      "text/plain": [
       "[1, 2, 3, 4, 5, 6, 'a', 'b', 'c', 'apple', 'bat', 'cat']"
      ]
     },
     "execution_count": 10,
     "metadata": {},
     "output_type": "execute_result"
    }
   ],
   "source": [
    "L"
   ]
  },
  {
   "cell_type": "code",
   "execution_count": 11,
   "metadata": {},
   "outputs": [],
   "source": [
    " l.append(\"mango\")"
   ]
  },
  {
   "cell_type": "code",
   "execution_count": 12,
   "metadata": {},
   "outputs": [
    {
     "data": {
      "text/plain": [
       "['mango']"
      ]
     },
     "execution_count": 12,
     "metadata": {},
     "output_type": "execute_result"
    }
   ],
   "source": [
    "l"
   ]
  },
  {
   "cell_type": "code",
   "execution_count": 13,
   "metadata": {},
   "outputs": [],
   "source": [
    "L.insert(5,\"ice cream\")"
   ]
  },
  {
   "cell_type": "code",
   "execution_count": 14,
   "metadata": {},
   "outputs": [
    {
     "data": {
      "text/plain": [
       "[1, 2, 3, 4, 5, 'ice cream', 6, 'a', 'b', 'c', 'apple', 'bat', 'cat']"
      ]
     },
     "execution_count": 14,
     "metadata": {},
     "output_type": "execute_result"
    }
   ],
   "source": [
    "L"
   ]
  },
  {
   "cell_type": "code",
   "execution_count": 16,
   "metadata": {},
   "outputs": [
    {
     "data": {
      "text/plain": [
       "'cat'"
      ]
     },
     "execution_count": 16,
     "metadata": {},
     "output_type": "execute_result"
    }
   ],
   "source": [
    "L.pop()"
   ]
  },
  {
   "cell_type": "code",
   "execution_count": 18,
   "metadata": {},
   "outputs": [],
   "source": [
    "L.remove('ice cream')"
   ]
  },
  {
   "cell_type": "code",
   "execution_count": 19,
   "metadata": {},
   "outputs": [
    {
     "data": {
      "text/plain": [
       "[1, 2, 3, 4, 5, 6, 'a', 'b', 'c', 'apple', 'bat']"
      ]
     },
     "execution_count": 19,
     "metadata": {},
     "output_type": "execute_result"
    }
   ],
   "source": [
    "L"
   ]
  },
  {
   "cell_type": "code",
   "execution_count": 21,
   "metadata": {},
   "outputs": [],
   "source": [
    "l.clear()"
   ]
  },
  {
   "cell_type": "code",
   "execution_count": 22,
   "metadata": {},
   "outputs": [
    {
     "data": {
      "text/plain": [
       "[]"
      ]
     },
     "execution_count": 22,
     "metadata": {},
     "output_type": "execute_result"
    }
   ],
   "source": [
    "l"
   ]
  },
  {
   "cell_type": "code",
   "execution_count": 23,
   "metadata": {},
   "outputs": [
    {
     "data": {
      "text/plain": [
       "1"
      ]
     },
     "execution_count": 23,
     "metadata": {},
     "output_type": "execute_result"
    }
   ],
   "source": [
    "L.count('a')"
   ]
  },
  {
   "cell_type": "code",
   "execution_count": 25,
   "metadata": {},
   "outputs": [],
   "source": [
    "L.reverse()"
   ]
  },
  {
   "cell_type": "code",
   "execution_count": 26,
   "metadata": {},
   "outputs": [
    {
     "data": {
      "text/plain": [
       "['bat', 'apple', 'c', 'b', 'a', 6, 5, 4, 3, 2, 1]"
      ]
     },
     "execution_count": 26,
     "metadata": {},
     "output_type": "execute_result"
    }
   ],
   "source": [
    "L"
   ]
  },
  {
   "cell_type": "code",
   "execution_count": 27,
   "metadata": {},
   "outputs": [
    {
     "ename": "TypeError",
     "evalue": "'<' not supported between instances of 'int' and 'str'",
     "output_type": "error",
     "traceback": [
      "\u001b[0;31m---------------------------------------------------------------------------\u001b[0m",
      "\u001b[0;31mTypeError\u001b[0m                                 Traceback (most recent call last)",
      "\u001b[0;32m<ipython-input-27-93823a1b9e27>\u001b[0m in \u001b[0;36m<module>\u001b[0;34m()\u001b[0m\n\u001b[0;32m----> 1\u001b[0;31m \u001b[0mL\u001b[0m\u001b[0;34m.\u001b[0m\u001b[0msort\u001b[0m\u001b[0;34m(\u001b[0m\u001b[0;34m)\u001b[0m\u001b[0;34m\u001b[0m\u001b[0m\n\u001b[0m",
      "\u001b[0;31mTypeError\u001b[0m: '<' not supported between instances of 'int' and 'str'"
     ]
    }
   ],
   "source": [
    "L.sort()\n"
   ]
  },
  {
   "cell_type": "code",
   "execution_count": 30,
   "metadata": {},
   "outputs": [
    {
     "data": {
      "text/plain": [
       "['a', 'apple', 'b', 'bat', 'c', 6, 5, 4, 3, 2, 1]"
      ]
     },
     "execution_count": 30,
     "metadata": {},
     "output_type": "execute_result"
    }
   ],
   "source": [
    "L"
   ]
  },
  {
   "cell_type": "code",
   "execution_count": 28,
   "metadata": {},
   "outputs": [],
   "source": [
    "l1=[\"mango\",\"pine apple\"]"
   ]
  },
  {
   "cell_type": "code",
   "execution_count": 29,
   "metadata": {},
   "outputs": [
    {
     "data": {
      "text/plain": [
       "['mango', 'pine apple']"
      ]
     },
     "execution_count": 29,
     "metadata": {},
     "output_type": "execute_result"
    }
   ],
   "source": [
    "l1\n"
   ]
  },
  {
   "cell_type": "code",
   "execution_count": 31,
   "metadata": {},
   "outputs": [
    {
     "data": {
      "text/plain": [
       "['a', 'apple', 'b', 'bat', 'c', 6, 5, 4, 3, 2, 1, 'mango', 'pine apple']"
      ]
     },
     "execution_count": 31,
     "metadata": {},
     "output_type": "execute_result"
    }
   ],
   "source": [
    "L+l1"
   ]
  },
  {
   "cell_type": "code",
   "execution_count": 33,
   "metadata": {},
   "outputs": [],
   "source": [
    "L.extend(l1)"
   ]
  },
  {
   "cell_type": "code",
   "execution_count": 34,
   "metadata": {},
   "outputs": [
    {
     "data": {
      "text/plain": [
       "['a', 'apple', 'b', 'bat', 'c', 6, 5, 4, 3, 2, 1, 'mango', 'pine apple']"
      ]
     },
     "execution_count": 34,
     "metadata": {},
     "output_type": "execute_result"
    }
   ],
   "source": [
    "L"
   ]
  },
  {
   "cell_type": "code",
   "execution_count": 35,
   "metadata": {},
   "outputs": [
    {
     "data": {
      "text/plain": [
       "['a', 'apple', 'b', 'bat', 'c', 6, 5, 4, 3, 2, 1, 'mango', 'pine apple']"
      ]
     },
     "execution_count": 35,
     "metadata": {},
     "output_type": "execute_result"
    }
   ],
   "source": [
    "L"
   ]
  },
  {
   "cell_type": "code",
   "execution_count": 36,
   "metadata": {},
   "outputs": [],
   "source": [
    "#Tuple\n",
    "t=('a', 'apple', 'b', 'bat', 'c', 5, 4, 3, 2, 1, 'mango', 'pine apple')"
   ]
  },
  {
   "cell_type": "code",
   "execution_count": 82,
   "metadata": {},
   "outputs": [],
   "source": [
    "#dictionary\n",
    "#for loop\n",
    "#library"
   ]
  },
  {
   "cell_type": "code",
   "execution_count": 37,
   "metadata": {},
   "outputs": [
    {
     "ename": "TypeError",
     "evalue": "'tuple' object does not support item assignment",
     "output_type": "error",
     "traceback": [
      "\u001b[0;31m---------------------------------------------------------------------------\u001b[0m",
      "\u001b[0;31mTypeError\u001b[0m                                 Traceback (most recent call last)",
      "\u001b[0;32m<ipython-input-37-0ff1ad397be5>\u001b[0m in \u001b[0;36m<module>\u001b[0;34m()\u001b[0m\n\u001b[0;32m----> 1\u001b[0;31m \u001b[0mt\u001b[0m\u001b[0;34m[\u001b[0m\u001b[0;36m4\u001b[0m\u001b[0;34m]\u001b[0m\u001b[0;34m=\u001b[0m\u001b[0;34m\"d\"\u001b[0m\u001b[0;34m\u001b[0m\u001b[0m\n\u001b[0m",
      "\u001b[0;31mTypeError\u001b[0m: 'tuple' object does not support item assignment"
     ]
    }
   ],
   "source": [
    "t[4]=\"d\"\n"
   ]
  },
  {
   "cell_type": "code",
   "execution_count": 38,
   "metadata": {},
   "outputs": [
    {
     "ename": "TypeError",
     "evalue": "'tuple' object doesn't support item deletion",
     "output_type": "error",
     "traceback": [
      "\u001b[0;31m---------------------------------------------------------------------------\u001b[0m",
      "\u001b[0;31mTypeError\u001b[0m                                 Traceback (most recent call last)",
      "\u001b[0;32m<ipython-input-38-0b2165442bf7>\u001b[0m in \u001b[0;36m<module>\u001b[0;34m()\u001b[0m\n\u001b[0;32m----> 1\u001b[0;31m \u001b[0;32mdel\u001b[0m \u001b[0mt\u001b[0m\u001b[0;34m[\u001b[0m\u001b[0;36m4\u001b[0m\u001b[0;34m]\u001b[0m\u001b[0;34m\u001b[0m\u001b[0m\n\u001b[0m",
      "\u001b[0;31mTypeError\u001b[0m: 'tuple' object doesn't support item deletion"
     ]
    }
   ],
   "source": [
    "del t[4]"
   ]
  },
  {
   "cell_type": "code",
   "execution_count": 39,
   "metadata": {},
   "outputs": [
    {
     "data": {
      "text/plain": [
       "('b', 'bat', 'c', 5, 4)"
      ]
     },
     "execution_count": 39,
     "metadata": {},
     "output_type": "execute_result"
    }
   ],
   "source": [
    "t[2:7]"
   ]
  },
  {
   "cell_type": "markdown",
   "metadata": {},
   "source": [
    "python - intermediate level - network,GUI,threading - 15 hours\n",
    "Maths - stats,linear algebra and calculus - 12-15 hours\n",
    "ML -\n",
    "\n",
    "ML Algorithms:-\n",
    "\n",
    "1. Linear regression -> regression\n",
    "2. Logistic regression -> Classification\n",
    "3. SVM -> Classification\n",
    "4. K-means -> clustering\n",
    "5. KNN  -> clustering\n",
    "6. Hierarchy clustering -> clustering\n",
    "7. LDA -> topic modeling\n",
    "8. TF-IDF -> topic modeling\n",
    "9. Eclat -> associative learning\n",
    "10. Aprior -> associative learning\n",
    "11. Random forest -> Ensemble method\n",
    "12. AdaBoost -> Ensemble method\n",
    "13. Decision tree -> Classification\n",
    "14. Naive Baye's -> Classification\n",
    "15. PCA -> Dimensionality reduction\n",
    "\n",
    "Neural Network:-\n",
    "\n",
    "1. perceptron\n",
    "2. sigmoid\n",
    "3. multi layer preceptron\n",
    "4. Backpropagation\n",
    "4.a gradient descent\n",
    "4.b stochostic gradient descent\n",
    "5. Vanila neural network"
   ]
  },
  {
   "cell_type": "code",
   "execution_count": null,
   "metadata": {},
   "outputs": [],
   "source": [
    "https://github.com/sharmasaravanan/Machine_learning"
   ]
  },
  {
   "cell_type": "code",
   "execution_count": 2,
   "metadata": {},
   "outputs": [
    {
     "name": "stdout",
     "output_type": "stream",
     "text": [
      "hello world\n"
     ]
    }
   ],
   "source": [
    "print(\"hello world\")"
   ]
  },
  {
   "cell_type": "code",
   "execution_count": 43,
   "metadata": {},
   "outputs": [
    {
     "name": "stdout",
     "output_type": "stream",
     "text": [
      "21\n",
      "23\n",
      "25\n",
      "27\n",
      "29\n"
     ]
    }
   ],
   "source": [
    "for i in range(21,30,2):\n",
    "    #print(\"Hello\")\n",
    "    print(i)"
   ]
  },
  {
   "cell_type": "code",
   "execution_count": 44,
   "metadata": {},
   "outputs": [
    {
     "name": "stdout",
     "output_type": "stream",
     "text": [
      "hi\n",
      "hi\n",
      "hi\n",
      "hi\n",
      "hi\n"
     ]
    }
   ],
   "source": [
    "name=\"apple\"\n",
    "for i in range(len(name)):\n",
    "    print('hi')"
   ]
  },
  {
   "cell_type": "code",
   "execution_count": 49,
   "metadata": {},
   "outputs": [
    {
     "name": "stdout",
     "output_type": "stream",
     "text": [
      "0\tbat\n",
      "1\tc\n"
     ]
    }
   ],
   "source": [
    "for i,j in enumerate(L[3:5]):\n",
    "    print(i,j,sep=\"\\t\")"
   ]
  },
  {
   "cell_type": "markdown",
   "metadata": {},
   "source": [
    "take two numerical list of different length and print all the common numbers without duplicates.\n",
    "take a numerical list and create a new list with the numbers which are less than 9"
   ]
  },
  {
   "cell_type": "code",
   "execution_count": 51,
   "metadata": {},
   "outputs": [],
   "source": [
    "a = [1,2,2,3,3,3,4,4,4,4,5,5,5,5,5,]\n",
    "b = [3,3,4,4,4,5,5,5,5,6,6,6,6,6,7,7,7,7,7]"
   ]
  },
  {
   "cell_type": "code",
   "execution_count": 52,
   "metadata": {},
   "outputs": [
    {
     "name": "stdout",
     "output_type": "stream",
     "text": [
      "[3, 4, 5]\n"
     ]
    }
   ],
   "source": [
    "c=[]\n",
    "for i in a:\n",
    "    for j in b:\n",
    "        if i==j:\n",
    "            if i not in c:\n",
    "                c.append(i)\n",
    "print(c)"
   ]
  },
  {
   "cell_type": "code",
   "execution_count": 53,
   "metadata": {},
   "outputs": [
    {
     "name": "stdout",
     "output_type": "stream",
     "text": [
      "[3, 4, 5]\n"
     ]
    }
   ],
   "source": [
    "c=[]\n",
    "for i in a:\n",
    "    if i in b and i not in c:\n",
    "        c.append(i)\n",
    "print(c)"
   ]
  },
  {
   "cell_type": "code",
   "execution_count": 55,
   "metadata": {},
   "outputs": [
    {
     "data": {
      "text/plain": [
       "[3, 4, 5]"
      ]
     },
     "execution_count": 55,
     "metadata": {},
     "output_type": "execute_result"
    }
   ],
   "source": [
    "list(set(a)&set(b))"
   ]
  },
  {
   "cell_type": "code",
   "execution_count": null,
   "metadata": {},
   "outputs": [],
   "source": [
    "for i in a:\n",
    "    if i <10:\n",
    "        c.append(i)"
   ]
  },
  {
   "cell_type": "code",
   "execution_count": 56,
   "metadata": {},
   "outputs": [],
   "source": [
    "d=[i for i in a if i<5]"
   ]
  },
  {
   "cell_type": "code",
   "execution_count": 57,
   "metadata": {},
   "outputs": [
    {
     "data": {
      "text/plain": [
       "[1, 2, 2, 3, 3, 3, 4, 4, 4, 4]"
      ]
     },
     "execution_count": 57,
     "metadata": {},
     "output_type": "execute_result"
    }
   ],
   "source": [
    "d"
   ]
  },
  {
   "cell_type": "code",
   "execution_count": 58,
   "metadata": {},
   "outputs": [],
   "source": [
    "import random as r\n",
    "comp=r.randint(100,999)"
   ]
  },
  {
   "cell_type": "code",
   "execution_count": 61,
   "metadata": {},
   "outputs": [
    {
     "data": {
      "text/plain": [
       "369"
      ]
     },
     "execution_count": 61,
     "metadata": {},
     "output_type": "execute_result"
    }
   ],
   "source": [
    "comp=r.randint(100,999)\n",
    "comp"
   ]
  },
  {
   "cell_type": "code",
   "execution_count": 3,
   "metadata": {},
   "outputs": [],
   "source": [
    "#dictionary\n",
    "d = {\"a\":\"apple\",'b':'ball',2:[4,6,7,8],'c':25,'a':\"mango\"}"
   ]
  },
  {
   "cell_type": "code",
   "execution_count": 4,
   "metadata": {},
   "outputs": [
    {
     "data": {
      "text/plain": [
       "{'a': 'mango', 'b': 'ball', 2: [4, 6, 7, 8], 'c': 25}"
      ]
     },
     "execution_count": 4,
     "metadata": {},
     "output_type": "execute_result"
    }
   ],
   "source": [
    "d"
   ]
  },
  {
   "cell_type": "code",
   "execution_count": 8,
   "metadata": {},
   "outputs": [],
   "source": [
    "d['a']=\"papaya\""
   ]
  },
  {
   "cell_type": "code",
   "execution_count": 9,
   "metadata": {},
   "outputs": [
    {
     "data": {
      "text/plain": [
       "{'a': 'papaya', 'b': 'ball', 2: [4, 6, 7, 8], 'c': 25}"
      ]
     },
     "execution_count": 9,
     "metadata": {},
     "output_type": "execute_result"
    }
   ],
   "source": [
    "d"
   ]
  },
  {
   "cell_type": "code",
   "execution_count": 10,
   "metadata": {},
   "outputs": [],
   "source": [
    "d['d']=('Sunday',\"Saturday\")"
   ]
  },
  {
   "cell_type": "code",
   "execution_count": 12,
   "metadata": {},
   "outputs": [
    {
     "data": {
      "text/plain": [
       "('Sunday', 'Saturday')"
      ]
     },
     "execution_count": 12,
     "metadata": {},
     "output_type": "execute_result"
    }
   ],
   "source": [
    "d['d']"
   ]
  },
  {
   "cell_type": "code",
   "execution_count": 13,
   "metadata": {},
   "outputs": [
    {
     "data": {
      "text/plain": [
       "dict_keys(['a', 'b', 2, 'c', 'd'])"
      ]
     },
     "execution_count": 13,
     "metadata": {},
     "output_type": "execute_result"
    }
   ],
   "source": [
    "d.keys()"
   ]
  },
  {
   "cell_type": "code",
   "execution_count": 14,
   "metadata": {},
   "outputs": [
    {
     "data": {
      "text/plain": [
       "dict_values(['papaya', 'ball', [4, 6, 7, 8], 25, ('Sunday', 'Saturday')])"
      ]
     },
     "execution_count": 14,
     "metadata": {},
     "output_type": "execute_result"
    }
   ],
   "source": [
    "d.values()"
   ]
  },
  {
   "cell_type": "code",
   "execution_count": 17,
   "metadata": {},
   "outputs": [],
   "source": [
    "d.update({'e':\"elephant\"})"
   ]
  },
  {
   "cell_type": "code",
   "execution_count": 18,
   "metadata": {},
   "outputs": [
    {
     "data": {
      "text/plain": [
       "{'a': 'papaya',\n",
       " 'b': 'ball',\n",
       " 2: [4, 6, 7, 8],\n",
       " 'c': 25,\n",
       " 'd': ('Sunday', 'Saturday'),\n",
       " 'e': 'elephant'}"
      ]
     },
     "execution_count": 18,
     "metadata": {},
     "output_type": "execute_result"
    }
   ],
   "source": [
    "d"
   ]
  },
  {
   "cell_type": "code",
   "execution_count": 19,
   "metadata": {},
   "outputs": [
    {
     "data": {
      "text/plain": [
       "dict_items([('a', 'papaya'), ('b', 'ball'), (2, [4, 6, 7, 8]), ('c', 25), ('d', ('Sunday', 'Saturday')), ('e', 'elephant')])"
      ]
     },
     "execution_count": 19,
     "metadata": {},
     "output_type": "execute_result"
    }
   ],
   "source": [
    "d.items()"
   ]
  },
  {
   "cell_type": "code",
   "execution_count": 21,
   "metadata": {},
   "outputs": [
    {
     "data": {
      "text/plain": [
       "'elephant'"
      ]
     },
     "execution_count": 21,
     "metadata": {},
     "output_type": "execute_result"
    }
   ],
   "source": [
    "d.get('e')"
   ]
  },
  {
   "cell_type": "code",
   "execution_count": 22,
   "metadata": {},
   "outputs": [],
   "source": [
    "d.get('ball')"
   ]
  },
  {
   "cell_type": "code",
   "execution_count": 29,
   "metadata": {},
   "outputs": [
    {
     "ename": "TypeError",
     "evalue": "pop expected at least 1 arguments, got 0",
     "output_type": "error",
     "traceback": [
      "\u001b[0;31m---------------------------------------------------------------------------\u001b[0m",
      "\u001b[0;31mTypeError\u001b[0m                                 Traceback (most recent call last)",
      "\u001b[0;32m<ipython-input-29-663961784a31>\u001b[0m in \u001b[0;36m<module>\u001b[0;34m()\u001b[0m\n\u001b[0;32m----> 1\u001b[0;31m \u001b[0md\u001b[0m\u001b[0;34m.\u001b[0m\u001b[0mpop\u001b[0m\u001b[0;34m(\u001b[0m\u001b[0;34m)\u001b[0m\u001b[0;34m\u001b[0m\u001b[0m\n\u001b[0m",
      "\u001b[0;31mTypeError\u001b[0m: pop expected at least 1 arguments, got 0"
     ]
    }
   ],
   "source": [
    "d.pop()"
   ]
  },
  {
   "cell_type": "code",
   "execution_count": 26,
   "metadata": {},
   "outputs": [
    {
     "data": {
      "text/plain": [
       "{'a': 'papaya',\n",
       " 'b': 'ball',\n",
       " 2: [4, 6, 7, 8],\n",
       " 'd': ('Sunday', 'Saturday'),\n",
       " 'e': 'elephant'}"
      ]
     },
     "execution_count": 26,
     "metadata": {},
     "output_type": "execute_result"
    }
   ],
   "source": [
    "d"
   ]
  },
  {
   "cell_type": "code",
   "execution_count": 30,
   "metadata": {},
   "outputs": [
    {
     "name": "stdout",
     "output_type": "stream",
     "text": [
      "a\tpapaya\n",
      "b\tball\n",
      "2\t[4, 6, 7, 8]\n",
      "d\t('Sunday', 'Saturday')\n",
      "e\telephant\n"
     ]
    }
   ],
   "source": [
    "for k,v in d.items():\n",
    "    print(k,v,sep='\\t')"
   ]
  },
  {
   "cell_type": "code",
   "execution_count": 32,
   "metadata": {},
   "outputs": [
    {
     "name": "stdout",
     "output_type": "stream",
     "text": [
      "a\n",
      "b\n",
      "2\n",
      "d\n",
      "e\n",
      "papaya\n",
      "ball\n",
      "[4, 6, 7, 8]\n",
      "('Sunday', 'Saturday')\n",
      "elephant\n"
     ]
    }
   ],
   "source": [
    "for k in d.keys():\n",
    "    print(k)\n",
    "for v in d.values():\n",
    "    print(v)"
   ]
  },
  {
   "cell_type": "markdown",
   "metadata": {},
   "source": [
    "create a Birthday database in which user can add birth date of a person and also he can search for a date of a person.\n"
   ]
  },
  {
   "cell_type": "markdown",
   "metadata": {},
   "source": [
    "functions:-\n",
    "   1. add -> two inputs -> name and date -> \"The  date of birth of john has been added to the DB.\"\n",
    "   2. display -> one input -> name -> \"The date of birth of John is 01-01-2001\""
   ]
  },
  {
   "cell_type": "code",
   "execution_count": null,
   "metadata": {},
   "outputs": [],
   "source": [
    "d={\"dhanvin\":\"09-01-2010\",\"dhanvarsini\":\"11-01-2012\",\"nisha\":\"20-09-1985\",\"Prakash\":\"21-09-1979\"}\n",
    "\n",
    "uinput=int(input(\"What do you want to do? 1.Add 2.Search\"))\n",
    "if uinput==1:\n",
    "    uname=input(\"Enter the name:\")\n",
    "    udob=input(\"Enter the date of birth:\")\n",
    "    d.update({uname:udob})\n",
    "    print(\"The name\",uname,\" and date of birth\",udob,\"is added successfully\")\n",
    "elif uinput==2:\n",
    "    sname=input(\"Enter the name to search:\")\n",
    "    sdob=d.get(sname)\n",
    "    if sdob==\" \":\n",
    "        print (\"No such person\")\n",
    "    print(\"The date of birth of \",sname,\" is \",sdob)\n",
    "else :\n",
    "    print(\"Invalid input\")"
   ]
  },
  {
   "cell_type": "code",
   "execution_count": 36,
   "metadata": {},
   "outputs": [
    {
     "name": "stdout",
     "output_type": "stream",
     "text": [
      "yes\n"
     ]
    }
   ],
   "source": [
    "if 2 in d:\n",
    "    print('yes')"
   ]
  },
  {
   "cell_type": "code",
   "execution_count": 37,
   "metadata": {},
   "outputs": [
    {
     "name": "stdout",
     "output_type": "stream",
     "text": [
      "b\n"
     ]
    }
   ],
   "source": [
    "for k,v in d.items():\n",
    "    if v==\"ball\":\n",
    "        print(k)"
   ]
  },
  {
   "cell_type": "code",
   "execution_count": 38,
   "metadata": {},
   "outputs": [
    {
     "data": {
      "text/plain": [
       "{'a': 'papaya',\n",
       " 'b': 'ball',\n",
       " 2: [4, 6, 7, 8],\n",
       " 'd': ('Sunday', 'Saturday'),\n",
       " 'e': 'elephant'}"
      ]
     },
     "execution_count": 38,
     "metadata": {},
     "output_type": "execute_result"
    }
   ],
   "source": [
    "d"
   ]
  },
  {
   "cell_type": "raw",
   "metadata": {},
   "source": [
    "#package installation \n",
    "pip install <name>"
   ]
  },
  {
   "cell_type": "code",
   "execution_count": 39,
   "metadata": {},
   "outputs": [],
   "source": [
    "import math "
   ]
  },
  {
   "cell_type": "code",
   "execution_count": 40,
   "metadata": {},
   "outputs": [
    {
     "data": {
      "text/plain": [
       "120"
      ]
     },
     "execution_count": 40,
     "metadata": {},
     "output_type": "execute_result"
    }
   ],
   "source": [
    "math.factorial(5)"
   ]
  },
  {
   "cell_type": "code",
   "execution_count": 41,
   "metadata": {},
   "outputs": [],
   "source": [
    "import random as r"
   ]
  },
  {
   "cell_type": "code",
   "execution_count": 43,
   "metadata": {},
   "outputs": [
    {
     "data": {
      "text/plain": [
       "10"
      ]
     },
     "execution_count": 43,
     "metadata": {},
     "output_type": "execute_result"
    }
   ],
   "source": [
    "r.randint(0,10)"
   ]
  },
  {
   "cell_type": "code",
   "execution_count": 44,
   "metadata": {},
   "outputs": [],
   "source": [
    "from math import sin,cos,factorial"
   ]
  },
  {
   "cell_type": "code",
   "execution_count": 45,
   "metadata": {},
   "outputs": [
    {
     "data": {
      "text/plain": [
       "120"
      ]
     },
     "execution_count": 45,
     "metadata": {},
     "output_type": "execute_result"
    }
   ],
   "source": [
    "factorial(5)"
   ]
  },
  {
   "cell_type": "code",
   "execution_count": 47,
   "metadata": {},
   "outputs": [],
   "source": [
    "from sklearn.linear_model import LinearRegression,LogisticRegression"
   ]
  },
  {
   "cell_type": "code",
   "execution_count": 48,
   "metadata": {},
   "outputs": [],
   "source": [
    "from random import *"
   ]
  },
  {
   "cell_type": "code",
   "execution_count": 52,
   "metadata": {},
   "outputs": [
    {
     "data": {
      "text/plain": [
       "['l', 'e']"
      ]
     },
     "execution_count": 52,
     "metadata": {},
     "output_type": "execute_result"
    }
   ],
   "source": [
    "sample(\"apple\",2)"
   ]
  },
  {
   "cell_type": "code",
   "execution_count": 54,
   "metadata": {},
   "outputs": [],
   "source": [
    "from sklearn.linear_model import *"
   ]
  },
  {
   "cell_type": "code",
   "execution_count": null,
   "metadata": {},
   "outputs": [],
   "source": [
    "cow-bull\n",
    "hangman"
   ]
  },
  {
   "cell_type": "markdown",
   "metadata": {},
   "source": [
    "<h3> Rock-Paper-Scissor </h3>\n",
    "1. rock beats scissor\n",
    "2. scissor beats paper\n",
    "3. paper beats rock"
   ]
  },
  {
   "cell_type": "code",
   "execution_count": null,
   "metadata": {},
   "outputs": [],
   "source": [
    "#function\n",
    "#file handling\n",
    "#error handling\n",
    "#oops\n",
    "\n",
    "#tic-tac-toe"
   ]
  },
  {
   "cell_type": "code",
   "execution_count": 15,
   "metadata": {},
   "outputs": [],
   "source": [
    "#function\n",
    "def add(a,b=15):\n",
    "    return a+b,a*b"
   ]
  },
  {
   "cell_type": "code",
   "execution_count": 19,
   "metadata": {},
   "outputs": [
    {
     "name": "stdout",
     "output_type": "stream",
     "text": [
      "c :3\n",
      "d :2\n"
     ]
    }
   ],
   "source": [
    "c = int(input(\"c :\"))\n",
    "d = int(input(\"d :\"))\n",
    "s,m = add(c,d)"
   ]
  },
  {
   "cell_type": "code",
   "execution_count": 20,
   "metadata": {},
   "outputs": [
    {
     "data": {
      "text/plain": [
       "5"
      ]
     },
     "execution_count": 20,
     "metadata": {},
     "output_type": "execute_result"
    }
   ],
   "source": [
    "s"
   ]
  },
  {
   "cell_type": "code",
   "execution_count": 21,
   "metadata": {},
   "outputs": [
    {
     "data": {
      "text/plain": [
       "6"
      ]
     },
     "execution_count": 21,
     "metadata": {},
     "output_type": "execute_result"
    }
   ],
   "source": [
    "m"
   ]
  },
  {
   "cell_type": "code",
   "execution_count": 30,
   "metadata": {},
   "outputs": [],
   "source": [
    "v = lambda x,y : x+y"
   ]
  },
  {
   "cell_type": "code",
   "execution_count": 28,
   "metadata": {},
   "outputs": [
    {
     "data": {
      "text/plain": [
       "11"
      ]
     },
     "execution_count": 28,
     "metadata": {},
     "output_type": "execute_result"
    }
   ],
   "source": [
    "v(7,4)"
   ]
  },
  {
   "cell_type": "code",
   "execution_count": 31,
   "metadata": {},
   "outputs": [
    {
     "name": "stdout",
     "output_type": "stream",
     "text": [
      "hello\n"
     ]
    }
   ],
   "source": []
  },
  {
   "cell_type": "code",
   "execution_count": 45,
   "metadata": {},
   "outputs": [
    {
     "name": "stdout",
     "output_type": "stream",
     "text": [
      "There is an error!!!\n",
      "'g' is an invalid keyword argument for this function\n",
      "hello\n"
     ]
    }
   ],
   "source": [
    "try:\n",
    "    print(g=5)\n",
    "except (TypeError,NameError) as te:\n",
    "    print(\"There is an error!!!\")\n",
    "    print(te)\n",
    "print(\"hello\")"
   ]
  },
  {
   "cell_type": "code",
   "execution_count": 47,
   "metadata": {},
   "outputs": [
    {
     "name": "stdout",
     "output_type": "stream",
     "text": [
      "hello\n",
      "caught the user error\n",
      "User created this error...\n"
     ]
    }
   ],
   "source": [
    "try:\n",
    "    print(\"hello\")\n",
    "    raise ValueError(\"User created this error...\")\n",
    "except ValueError as ve:\n",
    "    print(\"caught the user error\")\n",
    "    print(ve)"
   ]
  },
  {
   "cell_type": "code",
   "execution_count": 59,
   "metadata": {},
   "outputs": [
    {
     "name": "stdout",
     "output_type": "stream",
     "text": [
      "num : -6\n",
      "Enter positive number\n",
      "num : 7\n",
      "7\n"
     ]
    }
   ],
   "source": [
    "try:\n",
    "    num = int(input(\"num : \"))\n",
    "    if num < 0:\n",
    "        raise ValueError(\"Enter positive number\")\n",
    "except ValueError as e:\n",
    "    print(e)\n",
    "    num = int(input(\"num : \"))\n",
    "finally:\n",
    "    print(num)"
   ]
  },
  {
   "cell_type": "code",
   "execution_count": 55,
   "metadata": {},
   "outputs": [
    {
     "data": {
      "text/plain": [
       "2"
      ]
     },
     "execution_count": 55,
     "metadata": {},
     "output_type": "execute_result"
    }
   ],
   "source": [
    "num"
   ]
  },
  {
   "cell_type": "code",
   "execution_count": null,
   "metadata": {},
   "outputs": [],
   "source": [
    "prime()\n",
    "a = 10\n",
    "b = 20\n",
    "11 13 17 19"
   ]
  },
  {
   "cell_type": "code",
   "execution_count": 60,
   "metadata": {},
   "outputs": [],
   "source": [
    "name=\"apple\""
   ]
  },
  {
   "cell_type": "code",
   "execution_count": 61,
   "metadata": {},
   "outputs": [],
   "source": [
    "class A:\n",
    "    def show(self,name):\n",
    "        print(name)\n",
    "    def fruit(self,name,fruit):\n",
    "        print(name)\n",
    "        print(fruit)"
   ]
  },
  {
   "cell_type": "code",
   "execution_count": 62,
   "metadata": {},
   "outputs": [],
   "source": [
    "a = A()"
   ]
  },
  {
   "cell_type": "code",
   "execution_count": 63,
   "metadata": {},
   "outputs": [
    {
     "name": "stdout",
     "output_type": "stream",
     "text": [
      "mango\n"
     ]
    }
   ],
   "source": [
    "a.show(\"mango\")"
   ]
  },
  {
   "cell_type": "code",
   "execution_count": 64,
   "metadata": {},
   "outputs": [
    {
     "name": "stdout",
     "output_type": "stream",
     "text": [
      "mango\n",
      "papaya\n"
     ]
    }
   ],
   "source": [
    "a.fruit(\"mango\",\"papaya\")"
   ]
  },
  {
   "cell_type": "code",
   "execution_count": 105,
   "metadata": {},
   "outputs": [],
   "source": [
    "class B:\n",
    "    def __init__(self,name,fruit):\n",
    "        self.name = name\n",
    "        self.fruit = fruit\n",
    "    def show(self):\n",
    "        print(self.name)\n",
    "    def fruits(self):\n",
    "        print(self.name)\n",
    "        print(self.fruit)\n",
    "\n",
    "class C(B):\n",
    "    def __init__(self,num,name,fruit):\n",
    "        self.num = num\n",
    "        self.name = name\n",
    "        self.fruit = fruit\n",
    "    def age(self):\n",
    "        B.show(self)\n",
    "        print(self.num)"
   ]
  },
  {
   "cell_type": "code",
   "execution_count": 86,
   "metadata": {},
   "outputs": [
    {
     "ename": "TypeError",
     "evalue": "'int' object is not callable",
     "output_type": "error",
     "traceback": [
      "\u001b[0;31m---------------------------------------------------------------------------\u001b[0m",
      "\u001b[0;31mTypeError\u001b[0m                                 Traceback (most recent call last)",
      "\u001b[0;32m<ipython-input-86-f6c605d18493>\u001b[0m in \u001b[0;36m<module>\u001b[0;34m()\u001b[0m\n\u001b[0;32m----> 1\u001b[0;31m \u001b[0mb\u001b[0m \u001b[0;34m=\u001b[0m \u001b[0mc\u001b[0m\u001b[0;34m(\u001b[0m\u001b[0;34m\"dog\"\u001b[0m\u001b[0;34m,\u001b[0m\u001b[0;34m\"pineapple\"\u001b[0m\u001b[0;34m)\u001b[0m\u001b[0;34m\u001b[0m\u001b[0m\n\u001b[0m",
      "\u001b[0;31mTypeError\u001b[0m: 'int' object is not callable"
     ]
    }
   ],
   "source": [
    "b = c(\"dog\",\"pineapple\")"
   ]
  },
  {
   "cell_type": "code",
   "execution_count": 83,
   "metadata": {},
   "outputs": [
    {
     "name": "stdout",
     "output_type": "stream",
     "text": [
      "dog\n",
      "pineapple\n"
     ]
    }
   ],
   "source": [
    "b.fruits()"
   ]
  },
  {
   "cell_type": "code",
   "execution_count": 84,
   "metadata": {},
   "outputs": [
    {
     "name": "stdout",
     "output_type": "stream",
     "text": [
      "dog\n"
     ]
    }
   ],
   "source": [
    "b.show()\n"
   ]
  },
  {
   "cell_type": "code",
   "execution_count": 107,
   "metadata": {},
   "outputs": [],
   "source": [
    "c = C(5,\"dog\",\"pineapple\")"
   ]
  },
  {
   "cell_type": "code",
   "execution_count": 108,
   "metadata": {},
   "outputs": [
    {
     "name": "stdout",
     "output_type": "stream",
     "text": [
      "dog\n",
      "5\n"
     ]
    }
   ],
   "source": [
    "c.age()"
   ]
  },
  {
   "cell_type": "code",
   "execution_count": 118,
   "metadata": {},
   "outputs": [],
   "source": [
    "class parent:\n",
    "    def method(self):\n",
    "        print(\"parent class\")\n",
    "\n",
    "class child(parent):\n",
    "    def method(self):\n",
    "        print(\"child class\")"
   ]
  },
  {
   "cell_type": "code",
   "execution_count": 119,
   "metadata": {},
   "outputs": [],
   "source": [
    "ch = child()"
   ]
  },
  {
   "cell_type": "code",
   "execution_count": 120,
   "metadata": {},
   "outputs": [
    {
     "name": "stdout",
     "output_type": "stream",
     "text": [
      "child class\n"
     ]
    }
   ],
   "source": [
    "ch.method()"
   ]
  },
  {
   "cell_type": "code",
   "execution_count": 128,
   "metadata": {},
   "outputs": [],
   "source": [
    "class D:\n",
    "    def add(self,a,b,c=None):\n",
    "        self.a = a\n",
    "        self.b = b\n",
    "        if c is not None:\n",
    "            self.c = c\n",
    "            print(self.a+self.b+self.c)\n",
    "        else:\n",
    "            print(self.a+self.b)\n",
    "            \n",
    "            \n",
    "        "
   ]
  },
  {
   "cell_type": "code",
   "execution_count": 129,
   "metadata": {},
   "outputs": [],
   "source": [
    "d = D()"
   ]
  },
  {
   "cell_type": "code",
   "execution_count": 131,
   "metadata": {},
   "outputs": [
    {
     "name": "stdout",
     "output_type": "stream",
     "text": [
      "30\n"
     ]
    }
   ],
   "source": [
    "d.add(10,5,15)"
   ]
  },
  {
   "cell_type": "code",
   "execution_count": 132,
   "metadata": {},
   "outputs": [],
   "source": [
    "class E:\n",
    "    a = 10\n",
    "    def add(self,b):\n",
    "        self.b = b\n",
    "        print(self.b+E.a)"
   ]
  },
  {
   "cell_type": "code",
   "execution_count": 133,
   "metadata": {},
   "outputs": [],
   "source": [
    "e = E()"
   ]
  },
  {
   "cell_type": "code",
   "execution_count": 136,
   "metadata": {},
   "outputs": [],
   "source": [
    "e.a = 25"
   ]
  },
  {
   "cell_type": "code",
   "execution_count": 137,
   "metadata": {},
   "outputs": [
    {
     "name": "stdout",
     "output_type": "stream",
     "text": [
      "35\n"
     ]
    }
   ],
   "source": [
    "e.add(25)"
   ]
  },
  {
   "cell_type": "code",
   "execution_count": 138,
   "metadata": {},
   "outputs": [
    {
     "ename": "SyntaxError",
     "evalue": "invalid syntax (<ipython-input-138-28e06013b0bc>, line 1)",
     "output_type": "error",
     "traceback": [
      "\u001b[0;36m  File \u001b[0;32m\"<ipython-input-138-28e06013b0bc>\"\u001b[0;36m, line \u001b[0;32m1\u001b[0m\n\u001b[0;31m    def check()\u001b[0m\n\u001b[0m               ^\u001b[0m\n\u001b[0;31mSyntaxError\u001b[0m\u001b[0;31m:\u001b[0m invalid syntax\n"
     ]
    }
   ],
   "source": [
    "def check()\n",
    "def diagnol()\n",
    "def display()"
   ]
  },
  {
   "cell_type": "code",
   "execution_count": 139,
   "metadata": {},
   "outputs": [],
   "source": [
    "l = [3,4,5,6,7,3,2,1,0]"
   ]
  },
  {
   "cell_type": "code",
   "execution_count": 140,
   "metadata": {},
   "outputs": [],
   "source": [
    "import numpy as np"
   ]
  },
  {
   "cell_type": "code",
   "execution_count": 142,
   "metadata": {},
   "outputs": [],
   "source": [
    "m=np.reshape(l,[3,3])"
   ]
  },
  {
   "cell_type": "code",
   "execution_count": 143,
   "metadata": {},
   "outputs": [
    {
     "data": {
      "text/plain": [
       "array([[3, 4, 5],\n",
       "       [6, 7, 3],\n",
       "       [2, 1, 0]])"
      ]
     },
     "execution_count": 143,
     "metadata": {},
     "output_type": "execute_result"
    }
   ],
   "source": [
    "m"
   ]
  },
  {
   "cell_type": "code",
   "execution_count": 144,
   "metadata": {},
   "outputs": [
    {
     "data": {
      "text/plain": [
       "array([6, 7, 3])"
      ]
     },
     "execution_count": 144,
     "metadata": {},
     "output_type": "execute_result"
    }
   ],
   "source": [
    "m[1] -> row"
   ]
  },
  {
   "cell_type": "code",
   "execution_count": 145,
   "metadata": {},
   "outputs": [
    {
     "data": {
      "text/plain": [
       "array([4, 7, 1])"
      ]
     },
     "execution_count": 145,
     "metadata": {},
     "output_type": "execute_result"
    }
   ],
   "source": [
    "m[:,1] -> column"
   ]
  },
  {
   "cell_type": "code",
   "execution_count": 146,
   "metadata": {},
   "outputs": [
    {
     "data": {
      "text/plain": [
       "3"
      ]
     },
     "execution_count": 146,
     "metadata": {},
     "output_type": "execute_result"
    }
   ],
   "source": [
    "m[0][0] -> element"
   ]
  },
  {
   "cell_type": "code",
   "execution_count": null,
   "metadata": {},
   "outputs": [],
   "source": [
    "txt,csv,tsv,excel,json"
   ]
  },
  {
   "cell_type": "code",
   "execution_count": 149,
   "metadata": {},
   "outputs": [],
   "source": [
    "txtData = open(\"./sparkle.txt\",\"a\")\n",
    "txtData.write(\"hey how do you do?\\n\")\n",
    "txtData.write(\"doing good\\n\")\n",
    "txtData.close()"
   ]
  },
  {
   "cell_type": "code",
   "execution_count": 159,
   "metadata": {},
   "outputs": [],
   "source": [
    "txtData = open(\"./sparkle.txt\",\"r\")\n"
   ]
  },
  {
   "cell_type": "code",
   "execution_count": 151,
   "metadata": {},
   "outputs": [
    {
     "data": {
      "text/plain": [
       "'hello,how are you\\ni am fine\\nhey how do you do?\\ndoing good\\n'"
      ]
     },
     "execution_count": 151,
     "metadata": {},
     "output_type": "execute_result"
    }
   ],
   "source": [
    "txtData.read()"
   ]
  },
  {
   "cell_type": "code",
   "execution_count": 158,
   "metadata": {},
   "outputs": [
    {
     "data": {
      "text/plain": [
       "''"
      ]
     },
     "execution_count": 158,
     "metadata": {},
     "output_type": "execute_result"
    }
   ],
   "source": [
    "txtData.readline()"
   ]
  },
  {
   "cell_type": "code",
   "execution_count": 160,
   "metadata": {},
   "outputs": [
    {
     "data": {
      "text/plain": [
       "['hello,how are you\\n', 'i am fine\\n', 'hey how do you do?\\n', 'doing good\\n']"
      ]
     },
     "execution_count": 160,
     "metadata": {},
     "output_type": "execute_result"
    }
   ],
   "source": [
    "txtData.readlines()"
   ]
  },
  {
   "cell_type": "code",
   "execution_count": 161,
   "metadata": {},
   "outputs": [],
   "source": [
    "import pandas as pd"
   ]
  },
  {
   "cell_type": "code",
   "execution_count": 164,
   "metadata": {},
   "outputs": [],
   "source": [
    "csvData = pd.read_csv(\"./fruits_vege.csv\",index_col=0)"
   ]
  },
  {
   "cell_type": "code",
   "execution_count": 165,
   "metadata": {},
   "outputs": [
    {
     "data": {
      "text/html": [
       "<div>\n",
       "<style scoped>\n",
       "    .dataframe tbody tr th:only-of-type {\n",
       "        vertical-align: middle;\n",
       "    }\n",
       "\n",
       "    .dataframe tbody tr th {\n",
       "        vertical-align: top;\n",
       "    }\n",
       "\n",
       "    .dataframe thead th {\n",
       "        text-align: right;\n",
       "    }\n",
       "</style>\n",
       "<table border=\"1\" class=\"dataframe\">\n",
       "  <thead>\n",
       "    <tr style=\"text-align: right;\">\n",
       "      <th></th>\n",
       "      <th>fruit</th>\n",
       "      <th>vegetable</th>\n",
       "      <th>fruits 2</th>\n",
       "      <th>vegetable 2</th>\n",
       "    </tr>\n",
       "  </thead>\n",
       "  <tbody>\n",
       "    <tr>\n",
       "      <th>a</th>\n",
       "      <td>apple</td>\n",
       "      <td>onion</td>\n",
       "      <td>apple</td>\n",
       "      <td>onion</td>\n",
       "    </tr>\n",
       "    <tr>\n",
       "      <th>b</th>\n",
       "      <td>mango</td>\n",
       "      <td>potato</td>\n",
       "      <td>mango</td>\n",
       "      <td>potato</td>\n",
       "    </tr>\n",
       "    <tr>\n",
       "      <th>c</th>\n",
       "      <td>orange</td>\n",
       "      <td>beans</td>\n",
       "      <td>pine apple</td>\n",
       "      <td>carrot</td>\n",
       "    </tr>\n",
       "  </tbody>\n",
       "</table>\n",
       "</div>"
      ],
      "text/plain": [
       "    fruit vegetable    fruits 2 vegetable 2\n",
       "a   apple     onion       apple       onion\n",
       "b   mango    potato       mango      potato\n",
       "c  orange     beans  pine apple      carrot"
      ]
     },
     "execution_count": 165,
     "metadata": {},
     "output_type": "execute_result"
    }
   ],
   "source": [
    "csvData"
   ]
  },
  {
   "cell_type": "code",
   "execution_count": 166,
   "metadata": {},
   "outputs": [
    {
     "data": {
      "text/plain": [
       "a     apple\n",
       "b     mango\n",
       "c    orange\n",
       "Name: fruit, dtype: object"
      ]
     },
     "execution_count": 166,
     "metadata": {},
     "output_type": "execute_result"
    }
   ],
   "source": [
    "csvData[\"fruit\"]"
   ]
  },
  {
   "cell_type": "code",
   "execution_count": 167,
   "metadata": {},
   "outputs": [
    {
     "data": {
      "text/html": [
       "<div>\n",
       "<style scoped>\n",
       "    .dataframe tbody tr th:only-of-type {\n",
       "        vertical-align: middle;\n",
       "    }\n",
       "\n",
       "    .dataframe tbody tr th {\n",
       "        vertical-align: top;\n",
       "    }\n",
       "\n",
       "    .dataframe thead th {\n",
       "        text-align: right;\n",
       "    }\n",
       "</style>\n",
       "<table border=\"1\" class=\"dataframe\">\n",
       "  <thead>\n",
       "    <tr style=\"text-align: right;\">\n",
       "      <th></th>\n",
       "      <th>fruit</th>\n",
       "      <th>fruits 2</th>\n",
       "    </tr>\n",
       "  </thead>\n",
       "  <tbody>\n",
       "    <tr>\n",
       "      <th>a</th>\n",
       "      <td>apple</td>\n",
       "      <td>apple</td>\n",
       "    </tr>\n",
       "    <tr>\n",
       "      <th>b</th>\n",
       "      <td>mango</td>\n",
       "      <td>mango</td>\n",
       "    </tr>\n",
       "    <tr>\n",
       "      <th>c</th>\n",
       "      <td>orange</td>\n",
       "      <td>pine apple</td>\n",
       "    </tr>\n",
       "  </tbody>\n",
       "</table>\n",
       "</div>"
      ],
      "text/plain": [
       "    fruit    fruits 2\n",
       "a   apple       apple\n",
       "b   mango       mango\n",
       "c  orange  pine apple"
      ]
     },
     "execution_count": 167,
     "metadata": {},
     "output_type": "execute_result"
    }
   ],
   "source": [
    "csvData[[\"fruit\",\"fruits 2\"]]"
   ]
  },
  {
   "cell_type": "code",
   "execution_count": 170,
   "metadata": {},
   "outputs": [
    {
     "data": {
      "text/html": [
       "<div>\n",
       "<style scoped>\n",
       "    .dataframe tbody tr th:only-of-type {\n",
       "        vertical-align: middle;\n",
       "    }\n",
       "\n",
       "    .dataframe tbody tr th {\n",
       "        vertical-align: top;\n",
       "    }\n",
       "\n",
       "    .dataframe thead th {\n",
       "        text-align: right;\n",
       "    }\n",
       "</style>\n",
       "<table border=\"1\" class=\"dataframe\">\n",
       "  <thead>\n",
       "    <tr style=\"text-align: right;\">\n",
       "      <th></th>\n",
       "      <th>vegetable</th>\n",
       "      <th>fruits 2</th>\n",
       "      <th>vegetable 2</th>\n",
       "    </tr>\n",
       "  </thead>\n",
       "  <tbody>\n",
       "    <tr>\n",
       "      <th>a</th>\n",
       "      <td>onion</td>\n",
       "      <td>apple</td>\n",
       "      <td>onion</td>\n",
       "    </tr>\n",
       "    <tr>\n",
       "      <th>b</th>\n",
       "      <td>potato</td>\n",
       "      <td>mango</td>\n",
       "      <td>potato</td>\n",
       "    </tr>\n",
       "    <tr>\n",
       "      <th>c</th>\n",
       "      <td>beans</td>\n",
       "      <td>pine apple</td>\n",
       "      <td>carrot</td>\n",
       "    </tr>\n",
       "  </tbody>\n",
       "</table>\n",
       "</div>"
      ],
      "text/plain": [
       "  vegetable    fruits 2 vegetable 2\n",
       "a     onion       apple       onion\n",
       "b    potato       mango      potato\n",
       "c     beans  pine apple      carrot"
      ]
     },
     "execution_count": 170,
     "metadata": {},
     "output_type": "execute_result"
    }
   ],
   "source": [
    "csvData.loc[:,\"vegetable\":\"vegetable 2\"]"
   ]
  },
  {
   "cell_type": "code",
   "execution_count": 171,
   "metadata": {},
   "outputs": [],
   "source": [
    "csvData[\"health\"] = ['good','sweet','healthy']"
   ]
  },
  {
   "cell_type": "code",
   "execution_count": 173,
   "metadata": {},
   "outputs": [
    {
     "data": {
      "text/html": [
       "<div>\n",
       "<style scoped>\n",
       "    .dataframe tbody tr th:only-of-type {\n",
       "        vertical-align: middle;\n",
       "    }\n",
       "\n",
       "    .dataframe tbody tr th {\n",
       "        vertical-align: top;\n",
       "    }\n",
       "\n",
       "    .dataframe thead th {\n",
       "        text-align: right;\n",
       "    }\n",
       "</style>\n",
       "<table border=\"1\" class=\"dataframe\">\n",
       "  <thead>\n",
       "    <tr style=\"text-align: right;\">\n",
       "      <th></th>\n",
       "      <th>fruit</th>\n",
       "      <th>vegetable</th>\n",
       "      <th>fruits 2</th>\n",
       "      <th>vegetable 2</th>\n",
       "      <th>health</th>\n",
       "    </tr>\n",
       "  </thead>\n",
       "  <tbody>\n",
       "    <tr>\n",
       "      <th>count</th>\n",
       "      <td>3</td>\n",
       "      <td>3</td>\n",
       "      <td>3</td>\n",
       "      <td>3</td>\n",
       "      <td>3</td>\n",
       "    </tr>\n",
       "    <tr>\n",
       "      <th>unique</th>\n",
       "      <td>3</td>\n",
       "      <td>3</td>\n",
       "      <td>3</td>\n",
       "      <td>3</td>\n",
       "      <td>3</td>\n",
       "    </tr>\n",
       "    <tr>\n",
       "      <th>top</th>\n",
       "      <td>orange</td>\n",
       "      <td>potato</td>\n",
       "      <td>pine apple</td>\n",
       "      <td>potato</td>\n",
       "      <td>good</td>\n",
       "    </tr>\n",
       "    <tr>\n",
       "      <th>freq</th>\n",
       "      <td>1</td>\n",
       "      <td>1</td>\n",
       "      <td>1</td>\n",
       "      <td>1</td>\n",
       "      <td>1</td>\n",
       "    </tr>\n",
       "  </tbody>\n",
       "</table>\n",
       "</div>"
      ],
      "text/plain": [
       "         fruit vegetable    fruits 2 vegetable 2 health\n",
       "count        3         3           3           3      3\n",
       "unique       3         3           3           3      3\n",
       "top     orange    potato  pine apple      potato   good\n",
       "freq         1         1           1           1      1"
      ]
     },
     "execution_count": 173,
     "metadata": {},
     "output_type": "execute_result"
    }
   ],
   "source": [
    "csvData.describe()"
   ]
  },
  {
   "cell_type": "code",
   "execution_count": 175,
   "metadata": {},
   "outputs": [
    {
     "data": {
      "text/html": [
       "<div>\n",
       "<style scoped>\n",
       "    .dataframe tbody tr th:only-of-type {\n",
       "        vertical-align: middle;\n",
       "    }\n",
       "\n",
       "    .dataframe tbody tr th {\n",
       "        vertical-align: top;\n",
       "    }\n",
       "\n",
       "    .dataframe thead th {\n",
       "        text-align: right;\n",
       "    }\n",
       "</style>\n",
       "<table border=\"1\" class=\"dataframe\">\n",
       "  <thead>\n",
       "    <tr style=\"text-align: right;\">\n",
       "      <th></th>\n",
       "      <th>fruit</th>\n",
       "      <th>vegetable</th>\n",
       "      <th>fruits 2</th>\n",
       "      <th>vegetable 2</th>\n",
       "      <th>health</th>\n",
       "    </tr>\n",
       "  </thead>\n",
       "  <tbody>\n",
       "    <tr>\n",
       "      <th>a</th>\n",
       "      <td>apple</td>\n",
       "      <td>onion</td>\n",
       "      <td>apple</td>\n",
       "      <td>onion</td>\n",
       "      <td>good</td>\n",
       "    </tr>\n",
       "    <tr>\n",
       "      <th>b</th>\n",
       "      <td>mango</td>\n",
       "      <td>potato</td>\n",
       "      <td>mango</td>\n",
       "      <td>potato</td>\n",
       "      <td>sweet</td>\n",
       "    </tr>\n",
       "  </tbody>\n",
       "</table>\n",
       "</div>"
      ],
      "text/plain": [
       "   fruit vegetable fruits 2 vegetable 2 health\n",
       "a  apple     onion    apple       onion   good\n",
       "b  mango    potato    mango      potato  sweet"
      ]
     },
     "execution_count": 175,
     "metadata": {},
     "output_type": "execute_result"
    }
   ],
   "source": [
    "csvData.head(2)"
   ]
  },
  {
   "cell_type": "code",
   "execution_count": 180,
   "metadata": {},
   "outputs": [],
   "source": [
    "tsvData = pd.read_csv(\"./fruits_vege.tsv\",sep=\"\\t\",index_col=0)"
   ]
  },
  {
   "cell_type": "code",
   "execution_count": 181,
   "metadata": {},
   "outputs": [
    {
     "data": {
      "text/html": [
       "<div>\n",
       "<style scoped>\n",
       "    .dataframe tbody tr th:only-of-type {\n",
       "        vertical-align: middle;\n",
       "    }\n",
       "\n",
       "    .dataframe tbody tr th {\n",
       "        vertical-align: top;\n",
       "    }\n",
       "\n",
       "    .dataframe thead th {\n",
       "        text-align: right;\n",
       "    }\n",
       "</style>\n",
       "<table border=\"1\" class=\"dataframe\">\n",
       "  <thead>\n",
       "    <tr style=\"text-align: right;\">\n",
       "      <th></th>\n",
       "      <th>fruit</th>\n",
       "      <th>vegetable</th>\n",
       "      <th>fruits 2</th>\n",
       "      <th>vegetable 2</th>\n",
       "    </tr>\n",
       "  </thead>\n",
       "  <tbody>\n",
       "    <tr>\n",
       "      <th>a</th>\n",
       "      <td>apple</td>\n",
       "      <td>onion</td>\n",
       "      <td>apple</td>\n",
       "      <td>onion</td>\n",
       "    </tr>\n",
       "    <tr>\n",
       "      <th>b</th>\n",
       "      <td>mango</td>\n",
       "      <td>potato</td>\n",
       "      <td>mango</td>\n",
       "      <td>potato</td>\n",
       "    </tr>\n",
       "    <tr>\n",
       "      <th>c</th>\n",
       "      <td>orange</td>\n",
       "      <td>beans</td>\n",
       "      <td>pine apple</td>\n",
       "      <td>carrot</td>\n",
       "    </tr>\n",
       "  </tbody>\n",
       "</table>\n",
       "</div>"
      ],
      "text/plain": [
       "    fruit vegetable    fruits 2 vegetable 2\n",
       "a   apple     onion       apple       onion\n",
       "b   mango    potato       mango      potato\n",
       "c  orange     beans  pine apple      carrot"
      ]
     },
     "execution_count": 181,
     "metadata": {},
     "output_type": "execute_result"
    }
   ],
   "source": [
    "tsvData"
   ]
  },
  {
   "cell_type": "code",
   "execution_count": 192,
   "metadata": {},
   "outputs": [],
   "source": [
    "excelData = pd.read_excel(\"./Course Syllabus.xlsx\",sheet_name=\"Deep Learning\")"
   ]
  },
  {
   "cell_type": "code",
   "execution_count": 196,
   "metadata": {},
   "outputs": [],
   "source": [
    "excelData.dropna(inplace=True)"
   ]
  },
  {
   "cell_type": "code",
   "execution_count": 197,
   "metadata": {},
   "outputs": [
    {
     "data": {
      "text/html": [
       "<div>\n",
       "<style scoped>\n",
       "    .dataframe tbody tr th:only-of-type {\n",
       "        vertical-align: middle;\n",
       "    }\n",
       "\n",
       "    .dataframe tbody tr th {\n",
       "        vertical-align: top;\n",
       "    }\n",
       "\n",
       "    .dataframe thead th {\n",
       "        text-align: right;\n",
       "    }\n",
       "</style>\n",
       "<table border=\"1\" class=\"dataframe\">\n",
       "  <thead>\n",
       "    <tr style=\"text-align: right;\">\n",
       "      <th></th>\n",
       "      <th>Syllabus</th>\n",
       "      <th>Duration</th>\n",
       "    </tr>\n",
       "  </thead>\n",
       "  <tbody>\n",
       "    <tr>\n",
       "      <th>0</th>\n",
       "      <td>1. Introduction to Deep Learning (DL)</td>\n",
       "      <td>90 mins</td>\n",
       "    </tr>\n",
       "    <tr>\n",
       "      <th>1</th>\n",
       "      <td>2. Neural Network (NN) introduction</td>\n",
       "      <td>240 mins</td>\n",
       "    </tr>\n",
       "    <tr>\n",
       "      <th>9</th>\n",
       "      <td>3. Deep Learning for images</td>\n",
       "      <td>180 mins</td>\n",
       "    </tr>\n",
       "    <tr>\n",
       "      <th>15</th>\n",
       "      <td>3. Deep Learning for Text</td>\n",
       "      <td>150 mins</td>\n",
       "    </tr>\n",
       "    <tr>\n",
       "      <th>19</th>\n",
       "      <td>4.preprocessing Techniques for DL</td>\n",
       "      <td>120 mins</td>\n",
       "    </tr>\n",
       "    <tr>\n",
       "      <th>20</th>\n",
       "      <td>5.Tools for DL</td>\n",
       "      <td>150 mins</td>\n",
       "    </tr>\n",
       "    <tr>\n",
       "      <th>21</th>\n",
       "      <td>6.Practise</td>\n",
       "      <td>180 mins</td>\n",
       "    </tr>\n",
       "    <tr>\n",
       "      <th>23</th>\n",
       "      <td>Total</td>\n",
       "      <td>18.5 hours</td>\n",
       "    </tr>\n",
       "  </tbody>\n",
       "</table>\n",
       "</div>"
      ],
      "text/plain": [
       "                                 Syllabus    Duration\n",
       "0   1. Introduction to Deep Learning (DL)     90 mins\n",
       "1     2. Neural Network (NN) introduction    240 mins\n",
       "9             3. Deep Learning for images    180 mins\n",
       "15              3. Deep Learning for Text    150 mins\n",
       "19      4.preprocessing Techniques for DL    120 mins\n",
       "20                         5.Tools for DL    150 mins\n",
       "21                             6.Practise    180 mins\n",
       "23                                  Total  18.5 hours"
      ]
     },
     "execution_count": 197,
     "metadata": {},
     "output_type": "execute_result"
    }
   ],
   "source": [
    "excelData"
   ]
  },
  {
   "cell_type": "code",
   "execution_count": 198,
   "metadata": {},
   "outputs": [],
   "source": [
    "content = dict()"
   ]
  },
  {
   "cell_type": "code",
   "execution_count": 201,
   "metadata": {},
   "outputs": [],
   "source": [
    "content[\"Duration\"]=list(excelData[\"Duration\"])"
   ]
  },
  {
   "cell_type": "code",
   "execution_count": 202,
   "metadata": {},
   "outputs": [
    {
     "data": {
      "text/plain": [
       "{'Syllabus': ['1. Introduction to Deep Learning (DL)',\n",
       "  '2. Neural Network (NN) introduction',\n",
       "  '3. Deep Learning for images',\n",
       "  '3. Deep Learning for Text',\n",
       "  '4.preprocessing Techniques for DL',\n",
       "  '5.Tools for DL',\n",
       "  '6.Practise',\n",
       "  'Total'],\n",
       " 'Duration': ['90 mins',\n",
       "  '240 mins',\n",
       "  '180 mins',\n",
       "  '150 mins',\n",
       "  '120 mins',\n",
       "  '150 mins',\n",
       "  '180 mins',\n",
       "  '18.5 hours']}"
      ]
     },
     "execution_count": 202,
     "metadata": {},
     "output_type": "execute_result"
    }
   ],
   "source": [
    "content"
   ]
  },
  {
   "cell_type": "code",
   "execution_count": 205,
   "metadata": {},
   "outputs": [],
   "source": [
    "df = pd.DataFrame(content,index=[1,2,3,4,5,6,7,8])"
   ]
  },
  {
   "cell_type": "code",
   "execution_count": 208,
   "metadata": {},
   "outputs": [],
   "source": [
    "df.to_csv(\"./sparkle.tsv\",sep=\"\\t\")"
   ]
  },
  {
   "cell_type": "code",
   "execution_count": 209,
   "metadata": {},
   "outputs": [],
   "source": [
    "df.to_excel(\"./sparkle.xlsx\")"
   ]
  },
  {
   "cell_type": "code",
   "execution_count": 211,
   "metadata": {},
   "outputs": [],
   "source": [
    "df.to_json(\"sparkle.json\")"
   ]
  },
  {
   "cell_type": "code",
   "execution_count": 212,
   "metadata": {},
   "outputs": [
    {
     "data": {
      "text/html": [
       "<div>\n",
       "<style scoped>\n",
       "    .dataframe tbody tr th:only-of-type {\n",
       "        vertical-align: middle;\n",
       "    }\n",
       "\n",
       "    .dataframe tbody tr th {\n",
       "        vertical-align: top;\n",
       "    }\n",
       "\n",
       "    .dataframe thead th {\n",
       "        text-align: right;\n",
       "    }\n",
       "</style>\n",
       "<table border=\"1\" class=\"dataframe\">\n",
       "  <thead>\n",
       "    <tr style=\"text-align: right;\">\n",
       "      <th></th>\n",
       "      <th>Syllabus</th>\n",
       "      <th>Duration</th>\n",
       "    </tr>\n",
       "  </thead>\n",
       "  <tbody>\n",
       "    <tr>\n",
       "      <th>1</th>\n",
       "      <td>1. Introduction to Deep Learning (DL)</td>\n",
       "      <td>90 mins</td>\n",
       "    </tr>\n",
       "    <tr>\n",
       "      <th>2</th>\n",
       "      <td>2. Neural Network (NN) introduction</td>\n",
       "      <td>240 mins</td>\n",
       "    </tr>\n",
       "    <tr>\n",
       "      <th>3</th>\n",
       "      <td>3. Deep Learning for images</td>\n",
       "      <td>180 mins</td>\n",
       "    </tr>\n",
       "    <tr>\n",
       "      <th>4</th>\n",
       "      <td>3. Deep Learning for Text</td>\n",
       "      <td>150 mins</td>\n",
       "    </tr>\n",
       "    <tr>\n",
       "      <th>5</th>\n",
       "      <td>4.preprocessing Techniques for DL</td>\n",
       "      <td>120 mins</td>\n",
       "    </tr>\n",
       "    <tr>\n",
       "      <th>6</th>\n",
       "      <td>5.Tools for DL</td>\n",
       "      <td>150 mins</td>\n",
       "    </tr>\n",
       "    <tr>\n",
       "      <th>7</th>\n",
       "      <td>6.Practise</td>\n",
       "      <td>180 mins</td>\n",
       "    </tr>\n",
       "    <tr>\n",
       "      <th>8</th>\n",
       "      <td>Total</td>\n",
       "      <td>18.5 hours</td>\n",
       "    </tr>\n",
       "  </tbody>\n",
       "</table>\n",
       "</div>"
      ],
      "text/plain": [
       "                                Syllabus    Duration\n",
       "1  1. Introduction to Deep Learning (DL)     90 mins\n",
       "2    2. Neural Network (NN) introduction    240 mins\n",
       "3            3. Deep Learning for images    180 mins\n",
       "4              3. Deep Learning for Text    150 mins\n",
       "5      4.preprocessing Techniques for DL    120 mins\n",
       "6                         5.Tools for DL    150 mins\n",
       "7                             6.Practise    180 mins\n",
       "8                                  Total  18.5 hours"
      ]
     },
     "execution_count": 212,
     "metadata": {},
     "output_type": "execute_result"
    }
   ],
   "source": [
    "pd.read_json(\"sparkle.json\")"
   ]
  },
  {
   "cell_type": "code",
   "execution_count": 213,
   "metadata": {},
   "outputs": [],
   "source": [
    "import json"
   ]
  },
  {
   "cell_type": "code",
   "execution_count": 214,
   "metadata": {},
   "outputs": [
    {
     "data": {
      "text/plain": [
       "{'Syllabus': {'1': '1. Introduction to Deep Learning (DL)',\n",
       "  '2': '2. Neural Network (NN) introduction',\n",
       "  '3': '3. Deep Learning for images',\n",
       "  '4': '3. Deep Learning for Text',\n",
       "  '5': '4.preprocessing Techniques for DL',\n",
       "  '6': '5.Tools for DL',\n",
       "  '7': '6.Practise',\n",
       "  '8': 'Total'},\n",
       " 'Duration': {'1': '90 mins',\n",
       "  '2': '240 mins',\n",
       "  '3': '180 mins',\n",
       "  '4': '150 mins',\n",
       "  '5': '120 mins',\n",
       "  '6': '150 mins',\n",
       "  '7': '180 mins',\n",
       "  '8': '18.5 hours'}}"
      ]
     },
     "execution_count": 214,
     "metadata": {},
     "output_type": "execute_result"
    }
   ],
   "source": [
    "json.load(open(\"sparkle.json\"))"
   ]
  },
  {
   "cell_type": "code",
   "execution_count": 222,
   "metadata": {},
   "outputs": [
    {
     "data": {
      "text/plain": [
       "1       [90, mins]\n",
       "2      [240, mins]\n",
       "3      [180, mins]\n",
       "4      [150, mins]\n",
       "5      [120, mins]\n",
       "6      [150, mins]\n",
       "7      [180, mins]\n",
       "8    [18.5, hours]\n",
       "Name: Duration, dtype: object"
      ]
     },
     "execution_count": 222,
     "metadata": {},
     "output_type": "execute_result"
    }
   ],
   "source": [
    "df[\"Duration\"].map(str.split)"
   ]
  },
  {
   "cell_type": "code",
   "execution_count": null,
   "metadata": {},
   "outputs": [],
   "source": [
    "class student-mark-get\n",
    "class student-total,max,min,sort\n",
    "student name,sub1,sub2,.....,sub5,total"
   ]
  },
  {
   "cell_type": "code",
   "execution_count": 223,
   "metadata": {},
   "outputs": [],
   "source": [
    "import logging"
   ]
  },
  {
   "cell_type": "code",
   "execution_count": 226,
   "metadata": {},
   "outputs": [],
   "source": [
    "logger = logging.getLogger()\n",
    "logger.setLevel(logging.INFO)\n",
    "fmt = logging.Formatter(\"%(asctime)s [%(thread)d]: [%(message)s]\")\n",
    "#console = logging.FileHandler(\"./sparkling.log\")\n",
    "console =logging.StreamHandler()\n",
    "console.setFormatter(fmt)\n",
    "logger.addHandler(console)"
   ]
  },
  {
   "cell_type": "code",
   "execution_count": 227,
   "metadata": {},
   "outputs": [
    {
     "name": "stderr",
     "output_type": "stream",
     "text": [
      "2018-10-21 21:10:56,889 [140457070741312]: [hey this is test log]\n"
     ]
    }
   ],
   "source": [
    "logger.info(\"hey this is test log\")"
   ]
  },
  {
   "cell_type": "code",
   "execution_count": 228,
   "metadata": {},
   "outputs": [
    {
     "name": "stderr",
     "output_type": "stream",
     "text": [
      "2018-10-21 21:11:28,309 [140457070741312]: [helooooooooooo]\n"
     ]
    }
   ],
   "source": [
    "logger.info(\"helooooooooooo\")"
   ]
  },
  {
   "cell_type": "code",
   "execution_count": 230,
   "metadata": {},
   "outputs": [],
   "source": [
    "import sqlite3"
   ]
  },
  {
   "cell_type": "code",
   "execution_count": 231,
   "metadata": {},
   "outputs": [],
   "source": [
    "new = sqlite3.connect(\"./brass.db\")"
   ]
  },
  {
   "cell_type": "code",
   "execution_count": 235,
   "metadata": {},
   "outputs": [],
   "source": [
    "rows = new.execute(\"select id,name from DA\")"
   ]
  },
  {
   "cell_type": "code",
   "execution_count": 236,
   "metadata": {},
   "outputs": [
    {
     "name": "stdout",
     "output_type": "stream",
     "text": [
      "(0, 'mango')\n",
      "(1, 'mango')\n",
      "(2, 'mango')\n",
      "(3, 'mango')\n",
      "(4, 'mango')\n"
     ]
    }
   ],
   "source": [
    "for i in rows:\n",
    "    print(i)"
   ]
  },
  {
   "cell_type": "markdown",
   "metadata": {},
   "source": [
    "### Linear Regression"
   ]
  },
  {
   "cell_type": "markdown",
   "metadata": {},
   "source": [
    "Dataset:- Advertising.csv<br>\n",
    "    inputs:- TV,Radio,Newspaper<br>\n",
    "    output:- sale \n",
    "\n",
    "usecase:-\n",
    "\n",
    "1. To predict the future sale value for future inputs.\n",
    "2. To analyze the ratio of inputs \n"
   ]
  },
  {
   "cell_type": "code",
   "execution_count": 5,
   "metadata": {},
   "outputs": [],
   "source": [
    "import pandas as pd\n",
    "import numpy as np\n",
    "from sklearn.linear_model import LinearRegression\n",
    "from sklearn.model_selection import train_test_split\n",
    "from sklearn.metrics import mean_squared_error\n",
    "import warnings\n",
    "warnings.filterwarnings(\"ignore\")"
   ]
  },
  {
   "cell_type": "markdown",
   "metadata": {},
   "source": [
    "#### step-1 Load dataset"
   ]
  },
  {
   "cell_type": "code",
   "execution_count": 8,
   "metadata": {},
   "outputs": [],
   "source": [
    "data = pd.read_csv(\"./Advertising.csv\",index_col=0)"
   ]
  },
  {
   "cell_type": "code",
   "execution_count": 9,
   "metadata": {},
   "outputs": [
    {
     "data": {
      "text/html": [
       "<div>\n",
       "<style scoped>\n",
       "    .dataframe tbody tr th:only-of-type {\n",
       "        vertical-align: middle;\n",
       "    }\n",
       "\n",
       "    .dataframe tbody tr th {\n",
       "        vertical-align: top;\n",
       "    }\n",
       "\n",
       "    .dataframe thead th {\n",
       "        text-align: right;\n",
       "    }\n",
       "</style>\n",
       "<table border=\"1\" class=\"dataframe\">\n",
       "  <thead>\n",
       "    <tr style=\"text-align: right;\">\n",
       "      <th></th>\n",
       "      <th>TV</th>\n",
       "      <th>radio</th>\n",
       "      <th>newspaper</th>\n",
       "      <th>sales</th>\n",
       "    </tr>\n",
       "  </thead>\n",
       "  <tbody>\n",
       "    <tr>\n",
       "      <th>1</th>\n",
       "      <td>230.1</td>\n",
       "      <td>37.8</td>\n",
       "      <td>69.2</td>\n",
       "      <td>22.1</td>\n",
       "    </tr>\n",
       "    <tr>\n",
       "      <th>2</th>\n",
       "      <td>44.5</td>\n",
       "      <td>39.3</td>\n",
       "      <td>45.1</td>\n",
       "      <td>10.4</td>\n",
       "    </tr>\n",
       "    <tr>\n",
       "      <th>3</th>\n",
       "      <td>17.2</td>\n",
       "      <td>45.9</td>\n",
       "      <td>69.3</td>\n",
       "      <td>9.3</td>\n",
       "    </tr>\n",
       "    <tr>\n",
       "      <th>4</th>\n",
       "      <td>151.5</td>\n",
       "      <td>41.3</td>\n",
       "      <td>58.5</td>\n",
       "      <td>18.5</td>\n",
       "    </tr>\n",
       "    <tr>\n",
       "      <th>5</th>\n",
       "      <td>180.8</td>\n",
       "      <td>10.8</td>\n",
       "      <td>58.4</td>\n",
       "      <td>12.9</td>\n",
       "    </tr>\n",
       "  </tbody>\n",
       "</table>\n",
       "</div>"
      ],
      "text/plain": [
       "      TV  radio  newspaper  sales\n",
       "1  230.1   37.8       69.2   22.1\n",
       "2   44.5   39.3       45.1   10.4\n",
       "3   17.2   45.9       69.3    9.3\n",
       "4  151.5   41.3       58.5   18.5\n",
       "5  180.8   10.8       58.4   12.9"
      ]
     },
     "execution_count": 9,
     "metadata": {},
     "output_type": "execute_result"
    }
   ],
   "source": [
    "data.head()"
   ]
  },
  {
   "cell_type": "code",
   "execution_count": 10,
   "metadata": {},
   "outputs": [],
   "source": [
    "#input\n",
    "x = data.loc[:,\"TV\":\"newspaper\"]\n",
    "#output\n",
    "y = data.sales"
   ]
  },
  {
   "cell_type": "code",
   "execution_count": 11,
   "metadata": {},
   "outputs": [
    {
     "data": {
      "text/html": [
       "<div>\n",
       "<style scoped>\n",
       "    .dataframe tbody tr th:only-of-type {\n",
       "        vertical-align: middle;\n",
       "    }\n",
       "\n",
       "    .dataframe tbody tr th {\n",
       "        vertical-align: top;\n",
       "    }\n",
       "\n",
       "    .dataframe thead th {\n",
       "        text-align: right;\n",
       "    }\n",
       "</style>\n",
       "<table border=\"1\" class=\"dataframe\">\n",
       "  <thead>\n",
       "    <tr style=\"text-align: right;\">\n",
       "      <th></th>\n",
       "      <th>TV</th>\n",
       "      <th>radio</th>\n",
       "      <th>newspaper</th>\n",
       "    </tr>\n",
       "  </thead>\n",
       "  <tbody>\n",
       "    <tr>\n",
       "      <th>1</th>\n",
       "      <td>230.1</td>\n",
       "      <td>37.8</td>\n",
       "      <td>69.2</td>\n",
       "    </tr>\n",
       "    <tr>\n",
       "      <th>2</th>\n",
       "      <td>44.5</td>\n",
       "      <td>39.3</td>\n",
       "      <td>45.1</td>\n",
       "    </tr>\n",
       "    <tr>\n",
       "      <th>3</th>\n",
       "      <td>17.2</td>\n",
       "      <td>45.9</td>\n",
       "      <td>69.3</td>\n",
       "    </tr>\n",
       "    <tr>\n",
       "      <th>4</th>\n",
       "      <td>151.5</td>\n",
       "      <td>41.3</td>\n",
       "      <td>58.5</td>\n",
       "    </tr>\n",
       "    <tr>\n",
       "      <th>5</th>\n",
       "      <td>180.8</td>\n",
       "      <td>10.8</td>\n",
       "      <td>58.4</td>\n",
       "    </tr>\n",
       "  </tbody>\n",
       "</table>\n",
       "</div>"
      ],
      "text/plain": [
       "      TV  radio  newspaper\n",
       "1  230.1   37.8       69.2\n",
       "2   44.5   39.3       45.1\n",
       "3   17.2   45.9       69.3\n",
       "4  151.5   41.3       58.5\n",
       "5  180.8   10.8       58.4"
      ]
     },
     "execution_count": 11,
     "metadata": {},
     "output_type": "execute_result"
    }
   ],
   "source": [
    "x.head()"
   ]
  },
  {
   "cell_type": "markdown",
   "metadata": {},
   "source": [
    "#### step-2  split dataset"
   ]
  },
  {
   "cell_type": "code",
   "execution_count": 33,
   "metadata": {},
   "outputs": [],
   "source": [
    "xTrain,xTest,yTrain,yTest = train_test_split(x,y,test_size=0.2,random_state = 21)"
   ]
  },
  {
   "cell_type": "code",
   "execution_count": 34,
   "metadata": {},
   "outputs": [
    {
     "data": {
      "text/html": [
       "<div>\n",
       "<style scoped>\n",
       "    .dataframe tbody tr th:only-of-type {\n",
       "        vertical-align: middle;\n",
       "    }\n",
       "\n",
       "    .dataframe tbody tr th {\n",
       "        vertical-align: top;\n",
       "    }\n",
       "\n",
       "    .dataframe thead th {\n",
       "        text-align: right;\n",
       "    }\n",
       "</style>\n",
       "<table border=\"1\" class=\"dataframe\">\n",
       "  <thead>\n",
       "    <tr style=\"text-align: right;\">\n",
       "      <th></th>\n",
       "      <th>TV</th>\n",
       "      <th>radio</th>\n",
       "      <th>newspaper</th>\n",
       "    </tr>\n",
       "  </thead>\n",
       "  <tbody>\n",
       "    <tr>\n",
       "      <th>177</th>\n",
       "      <td>248.4</td>\n",
       "      <td>30.2</td>\n",
       "      <td>20.3</td>\n",
       "    </tr>\n",
       "    <tr>\n",
       "      <th>112</th>\n",
       "      <td>241.7</td>\n",
       "      <td>38.0</td>\n",
       "      <td>23.2</td>\n",
       "    </tr>\n",
       "    <tr>\n",
       "      <th>115</th>\n",
       "      <td>78.2</td>\n",
       "      <td>46.8</td>\n",
       "      <td>34.5</td>\n",
       "    </tr>\n",
       "    <tr>\n",
       "      <th>15</th>\n",
       "      <td>204.1</td>\n",
       "      <td>32.9</td>\n",
       "      <td>46.0</td>\n",
       "    </tr>\n",
       "    <tr>\n",
       "      <th>107</th>\n",
       "      <td>25.0</td>\n",
       "      <td>11.0</td>\n",
       "      <td>29.7</td>\n",
       "    </tr>\n",
       "  </tbody>\n",
       "</table>\n",
       "</div>"
      ],
      "text/plain": [
       "        TV  radio  newspaper\n",
       "177  248.4   30.2       20.3\n",
       "112  241.7   38.0       23.2\n",
       "115   78.2   46.8       34.5\n",
       "15   204.1   32.9       46.0\n",
       "107   25.0   11.0       29.7"
      ]
     },
     "execution_count": 34,
     "metadata": {},
     "output_type": "execute_result"
    }
   ],
   "source": [
    "xTrain.head()"
   ]
  },
  {
   "cell_type": "code",
   "execution_count": 14,
   "metadata": {},
   "outputs": [
    {
     "data": {
      "text/plain": [
       "(200, 3)"
      ]
     },
     "execution_count": 14,
     "metadata": {},
     "output_type": "execute_result"
    }
   ],
   "source": [
    "x.shape"
   ]
  },
  {
   "cell_type": "markdown",
   "metadata": {},
   "source": [
    "#### step-3 Define a model"
   ]
  },
  {
   "cell_type": "code",
   "execution_count": 24,
   "metadata": {},
   "outputs": [],
   "source": [
    "model = LinearRegression()"
   ]
  },
  {
   "cell_type": "markdown",
   "metadata": {},
   "source": [
    "#### step-4 training"
   ]
  },
  {
   "cell_type": "code",
   "execution_count": 35,
   "metadata": {},
   "outputs": [
    {
     "data": {
      "text/plain": [
       "LinearRegression(copy_X=True, fit_intercept=True, n_jobs=1, normalize=False)"
      ]
     },
     "execution_count": 35,
     "metadata": {},
     "output_type": "execute_result"
    }
   ],
   "source": [
    "model.fit(xTrain,yTrain)"
   ]
  },
  {
   "cell_type": "markdown",
   "metadata": {},
   "source": [
    "#### step-5 testing"
   ]
  },
  {
   "cell_type": "code",
   "execution_count": 39,
   "metadata": {},
   "outputs": [],
   "source": [
    "yPrediction = model.predict(xTest)"
   ]
  },
  {
   "cell_type": "code",
   "execution_count": 40,
   "metadata": {},
   "outputs": [
    {
     "data": {
      "text/plain": [
       "array([ 9.964633  , 12.44518303, 23.24351584, 18.05771695, 15.09709338,\n",
       "       11.64796897, 20.66848603,  4.30395233,  7.73032402, 24.15476296,\n",
       "       14.65759842, 21.61740955, 17.90902439,  9.58163919, 15.53469157,\n",
       "       16.31838869, 19.41728269, 19.12669586, 23.23084048,  8.69814484,\n",
       "        3.38921353, 11.75070294, 16.32480656, 23.78763994,  8.29617722,\n",
       "        4.27726462, 16.47340791,  6.4086509 , 12.21877129, 15.48903267,\n",
       "       14.10083665,  8.6178272 , 23.29693515,  6.3222124 , 17.59619727,\n",
       "        5.56936139, 11.38424755, 17.12717637,  9.66170854, 20.37698392])"
      ]
     },
     "execution_count": 40,
     "metadata": {},
     "output_type": "execute_result"
    }
   ],
   "source": [
    "yPrediction"
   ]
  },
  {
   "cell_type": "markdown",
   "metadata": {},
   "source": [
    "#### Metrics"
   ]
  },
  {
   "cell_type": "code",
   "execution_count": 44,
   "metadata": {},
   "outputs": [],
   "source": [
    "error = np.sqrt(mean_squared_error(yPrediction,yTest))"
   ]
  },
  {
   "cell_type": "code",
   "execution_count": 45,
   "metadata": {},
   "outputs": [
    {
     "data": {
      "text/plain": [
       "1.6611334844530612"
      ]
     },
     "execution_count": 45,
     "metadata": {},
     "output_type": "execute_result"
    }
   ],
   "source": [
    "error"
   ]
  },
  {
   "cell_type": "markdown",
   "metadata": {},
   "source": [
    "#### real time prediction"
   ]
  },
  {
   "cell_type": "code",
   "execution_count": 49,
   "metadata": {},
   "outputs": [
    {
     "data": {
      "text/plain": [
       "array([20.57515263])"
      ]
     },
     "execution_count": 49,
     "metadata": {},
     "output_type": "execute_result"
    }
   ],
   "source": [
    "model.predict([[75,75,0]])"
   ]
  },
  {
   "cell_type": "code",
   "execution_count": 51,
   "metadata": {},
   "outputs": [
    {
     "data": {
      "text/plain": [
       "array([ 0.04621061,  0.19146787, -0.00164059])"
      ]
     },
     "execution_count": 51,
     "metadata": {},
     "output_type": "execute_result"
    }
   ],
   "source": [
    "model.coef_"
   ]
  },
  {
   "cell_type": "code",
   "execution_count": 52,
   "metadata": {},
   "outputs": [
    {
     "data": {
      "text/plain": [
       "2.7492664418909865"
      ]
     },
     "execution_count": 52,
     "metadata": {},
     "output_type": "execute_result"
    }
   ],
   "source": [
    "model.intercept_"
   ]
  },
  {
   "cell_type": "code",
   "execution_count": 53,
   "metadata": {},
   "outputs": [
    {
     "data": {
      "text/plain": [
       "20.575152441890985"
      ]
     },
     "execution_count": 53,
     "metadata": {},
     "output_type": "execute_result"
    }
   ],
   "source": [
    "0.04621061*75+0.19146787*75-0.00164059*0+2.7492664418909865\n"
   ]
  },
  {
   "cell_type": "code",
   "execution_count": 61,
   "metadata": {},
   "outputs": [
    {
     "data": {
      "text/plain": [
       "array([31.46944675])"
      ]
     },
     "execution_count": 61,
     "metadata": {},
     "output_type": "execute_result"
    }
   ],
   "source": [
    "model.predict([[0,150,0]])"
   ]
  },
  {
   "cell_type": "code",
   "execution_count": null,
   "metadata": {},
   "outputs": [],
   "source": [
    "75,75,75 => 20.44$\n",
    "75,75,0  => $(20.57+75)\n",
    "50,100,0 => $(24.2+75)\n",
    "20,130,0 => $(28.5+75)"
   ]
  },
  {
   "cell_type": "markdown",
   "metadata": {},
   "source": [
    "#### Production model"
   ]
  },
  {
   "cell_type": "code",
   "execution_count": 64,
   "metadata": {},
   "outputs": [],
   "source": [
    "import pickle"
   ]
  },
  {
   "cell_type": "code",
   "execution_count": 65,
   "metadata": {},
   "outputs": [],
   "source": [
    "pickle.dump(model,open(\"sparkleModel.pkl\",\"wb\"))"
   ]
  },
  {
   "cell_type": "code",
   "execution_count": 67,
   "metadata": {},
   "outputs": [
    {
     "data": {
      "text/plain": [
       "array([15.74744116])"
      ]
     },
     "execution_count": 67,
     "metadata": {},
     "output_type": "execute_result"
    }
   ],
   "source": [
    "model.predict([[75,50,25]])"
   ]
  },
  {
   "cell_type": "code",
   "execution_count": 2,
   "metadata": {},
   "outputs": [],
   "source": [
    "import pickle"
   ]
  },
  {
   "cell_type": "code",
   "execution_count": 3,
   "metadata": {},
   "outputs": [],
   "source": [
    "loaded = pickle.load(open(\"sparkleModel.pkl\",\"rb\"))"
   ]
  },
  {
   "cell_type": "code",
   "execution_count": 4,
   "metadata": {},
   "outputs": [
    {
     "data": {
      "text/plain": [
       "array([15.74744116])"
      ]
     },
     "execution_count": 4,
     "metadata": {},
     "output_type": "execute_result"
    }
   ],
   "source": [
    "loaded.predict([[75,50,25]])"
   ]
  },
  {
   "cell_type": "markdown",
   "metadata": {},
   "source": [
    "### ML-Task"
   ]
  },
  {
   "cell_type": "markdown",
   "metadata": {},
   "source": [
    "Dateset:- \"USA_housing.csv\"\n",
    "\n",
    "1. Lasso Regression\n",
    "2. Ridge Regression\n",
    "3. Elasticnet Regression\n",
    "4. Linear Regression"
   ]
  },
  {
   "cell_type": "code",
   "execution_count": 7,
   "metadata": {},
   "outputs": [],
   "source": [
    "import pandas as pd\n",
    "df =pd.read_csv(\"./USA_Housing.csv\")"
   ]
  },
  {
   "cell_type": "code",
   "execution_count": 63,
   "metadata": {},
   "outputs": [
    {
     "data": {
      "text/html": [
       "<div>\n",
       "<style scoped>\n",
       "    .dataframe tbody tr th:only-of-type {\n",
       "        vertical-align: middle;\n",
       "    }\n",
       "\n",
       "    .dataframe tbody tr th {\n",
       "        vertical-align: top;\n",
       "    }\n",
       "\n",
       "    .dataframe thead th {\n",
       "        text-align: right;\n",
       "    }\n",
       "</style>\n",
       "<table border=\"1\" class=\"dataframe\">\n",
       "  <thead>\n",
       "    <tr style=\"text-align: right;\">\n",
       "      <th></th>\n",
       "      <th>Avg. Area Income</th>\n",
       "      <th>Avg. Area House Age</th>\n",
       "      <th>Avg. Area Number of Rooms</th>\n",
       "      <th>Avg. Area Number of Bedrooms</th>\n",
       "      <th>Area Population</th>\n",
       "      <th>Price</th>\n",
       "      <th>Address</th>\n",
       "    </tr>\n",
       "  </thead>\n",
       "  <tbody>\n",
       "    <tr>\n",
       "      <th>0</th>\n",
       "      <td>79545.458574</td>\n",
       "      <td>5.682861</td>\n",
       "      <td>7.009188</td>\n",
       "      <td>4.09</td>\n",
       "      <td>23086.800503</td>\n",
       "      <td>1.059034e+06</td>\n",
       "      <td>208 Michael Ferry Apt. 674\\nLaurabury, NE 3701...</td>\n",
       "    </tr>\n",
       "    <tr>\n",
       "      <th>1</th>\n",
       "      <td>79248.642455</td>\n",
       "      <td>6.002900</td>\n",
       "      <td>6.730821</td>\n",
       "      <td>3.09</td>\n",
       "      <td>40173.072174</td>\n",
       "      <td>1.505891e+06</td>\n",
       "      <td>188 Johnson Views Suite 079\\nLake Kathleen, CA...</td>\n",
       "    </tr>\n",
       "    <tr>\n",
       "      <th>2</th>\n",
       "      <td>61287.067179</td>\n",
       "      <td>5.865890</td>\n",
       "      <td>8.512727</td>\n",
       "      <td>5.13</td>\n",
       "      <td>36882.159400</td>\n",
       "      <td>1.058988e+06</td>\n",
       "      <td>9127 Elizabeth Stravenue\\nDanieltown, WI 06482...</td>\n",
       "    </tr>\n",
       "    <tr>\n",
       "      <th>3</th>\n",
       "      <td>63345.240046</td>\n",
       "      <td>7.188236</td>\n",
       "      <td>5.586729</td>\n",
       "      <td>3.26</td>\n",
       "      <td>34310.242831</td>\n",
       "      <td>1.260617e+06</td>\n",
       "      <td>USS Barnett\\nFPO AP 44820</td>\n",
       "    </tr>\n",
       "    <tr>\n",
       "      <th>4</th>\n",
       "      <td>59982.197226</td>\n",
       "      <td>5.040555</td>\n",
       "      <td>7.839388</td>\n",
       "      <td>4.23</td>\n",
       "      <td>26354.109472</td>\n",
       "      <td>6.309435e+05</td>\n",
       "      <td>USNS Raymond\\nFPO AE 09386</td>\n",
       "    </tr>\n",
       "  </tbody>\n",
       "</table>\n",
       "</div>"
      ],
      "text/plain": [
       "   Avg. Area Income  Avg. Area House Age  Avg. Area Number of Rooms  \\\n",
       "0      79545.458574             5.682861                   7.009188   \n",
       "1      79248.642455             6.002900                   6.730821   \n",
       "2      61287.067179             5.865890                   8.512727   \n",
       "3      63345.240046             7.188236                   5.586729   \n",
       "4      59982.197226             5.040555                   7.839388   \n",
       "\n",
       "   Avg. Area Number of Bedrooms  Area Population         Price  \\\n",
       "0                          4.09     23086.800503  1.059034e+06   \n",
       "1                          3.09     40173.072174  1.505891e+06   \n",
       "2                          5.13     36882.159400  1.058988e+06   \n",
       "3                          3.26     34310.242831  1.260617e+06   \n",
       "4                          4.23     26354.109472  6.309435e+05   \n",
       "\n",
       "                                             Address  \n",
       "0  208 Michael Ferry Apt. 674\\nLaurabury, NE 3701...  \n",
       "1  188 Johnson Views Suite 079\\nLake Kathleen, CA...  \n",
       "2  9127 Elizabeth Stravenue\\nDanieltown, WI 06482...  \n",
       "3                          USS Barnett\\nFPO AP 44820  \n",
       "4                         USNS Raymond\\nFPO AE 09386  "
      ]
     },
     "execution_count": 63,
     "metadata": {},
     "output_type": "execute_result"
    }
   ],
   "source": [
    "df.head()"
   ]
  },
  {
   "cell_type": "code",
   "execution_count": null,
   "metadata": {},
   "outputs": [],
   "source": [
    "Face Identification -> LFW,FRGC -> 95%\n",
    "Object Identification -> COCO, Cifar`"
   ]
  },
  {
   "cell_type": "code",
   "execution_count": 8,
   "metadata": {},
   "outputs": [
    {
     "data": {
      "text/plain": [
       "(5000, 7)"
      ]
     },
     "execution_count": 8,
     "metadata": {},
     "output_type": "execute_result"
    }
   ],
   "source": [
    "df.shape"
   ]
  },
  {
   "cell_type": "code",
   "execution_count": 9,
   "metadata": {},
   "outputs": [],
   "source": [
    "from sklearn.linear_model import Ridge"
   ]
  },
  {
   "cell_type": "code",
   "execution_count": 10,
   "metadata": {},
   "outputs": [],
   "source": [
    "Ridge?"
   ]
  },
  {
   "cell_type": "markdown",
   "metadata": {},
   "source": [
    "### Logistic regression"
   ]
  },
  {
   "cell_type": "code",
   "execution_count": 24,
   "metadata": {},
   "outputs": [],
   "source": [
    "import pandas as pd\n",
    "import numpy as np\n",
    "from sklearn.linear_model import LogisticRegression\n",
    "from sklearn.model_selection import train_test_split\n",
    "from sklearn.metrics import accuracy_score\n",
    "from bs4 import BeautifulSoup  #to remove html tags\n",
    "import re #to remove special characters and numbers\n",
    "from nltk.corpus import stopwords #to remove stop words\n",
    "from sklearn.feature_extraction.text import CountVectorizer"
   ]
  },
  {
   "cell_type": "markdown",
   "metadata": {},
   "source": [
    "#### stop words removing"
   ]
  },
  {
   "cell_type": "code",
   "execution_count": 5,
   "metadata": {},
   "outputs": [],
   "source": [
    "stop = stopwords.words('english')"
   ]
  },
  {
   "cell_type": "code",
   "execution_count": 15,
   "metadata": {},
   "outputs": [],
   "source": [
    "def preprocess(raw):\n",
    "    tagFree = BeautifulSoup(raw,'html.parser')\n",
    "    specialCharacter = re.sub('[^a-zA-z ]',' ',tagFree.get_text())\n",
    "    lowerCase = specialCharacter.lower()\n",
    "    stopFree = [word for word in lowerCase.split() if word not in stop]\n",
    "    return ' '.join(stopFree)"
   ]
  },
  {
   "cell_type": "markdown",
   "metadata": {},
   "source": [
    "#### loading dataset"
   ]
  },
  {
   "cell_type": "code",
   "execution_count": 7,
   "metadata": {},
   "outputs": [],
   "source": [
    "data = pd.read_csv(\"./labeledTrainData.tsv\",delimiter=\"\\t\")"
   ]
  },
  {
   "cell_type": "code",
   "execution_count": 11,
   "metadata": {},
   "outputs": [
    {
     "data": {
      "text/plain": [
       "Index(['id', 'sentiment', 'review'], dtype='object')"
      ]
     },
     "execution_count": 11,
     "metadata": {},
     "output_type": "execute_result"
    }
   ],
   "source": [
    "data.columns\n"
   ]
  },
  {
   "cell_type": "code",
   "execution_count": 14,
   "metadata": {},
   "outputs": [
    {
     "data": {
      "text/plain": [
       "(25000, 3)"
      ]
     },
     "execution_count": 14,
     "metadata": {},
     "output_type": "execute_result"
    }
   ],
   "source": [
    "data.shape"
   ]
  },
  {
   "cell_type": "markdown",
   "metadata": {},
   "source": [
    "#### Data preprocessing"
   ]
  },
  {
   "cell_type": "code",
   "execution_count": 16,
   "metadata": {},
   "outputs": [],
   "source": [
    "data[\"cleaned\"] = list(map(preprocess,data['review']))"
   ]
  },
  {
   "cell_type": "code",
   "execution_count": 18,
   "metadata": {},
   "outputs": [],
   "source": [
    "data[\"label\"] = np.where(data['sentiment']>0,1,0)"
   ]
  },
  {
   "cell_type": "code",
   "execution_count": null,
   "metadata": {},
   "outputs": [],
   "source": [
    "cleaned = []\n",
    "for review in data['review']:\n",
    "    cleaned.append(preprocess(review))"
   ]
  },
  {
   "cell_type": "code",
   "execution_count": 19,
   "metadata": {},
   "outputs": [
    {
     "data": {
      "text/html": [
       "<div>\n",
       "<style scoped>\n",
       "    .dataframe tbody tr th:only-of-type {\n",
       "        vertical-align: middle;\n",
       "    }\n",
       "\n",
       "    .dataframe tbody tr th {\n",
       "        vertical-align: top;\n",
       "    }\n",
       "\n",
       "    .dataframe thead th {\n",
       "        text-align: right;\n",
       "    }\n",
       "</style>\n",
       "<table border=\"1\" class=\"dataframe\">\n",
       "  <thead>\n",
       "    <tr style=\"text-align: right;\">\n",
       "      <th></th>\n",
       "      <th>id</th>\n",
       "      <th>sentiment</th>\n",
       "      <th>review</th>\n",
       "      <th>cleaned</th>\n",
       "      <th>label</th>\n",
       "    </tr>\n",
       "  </thead>\n",
       "  <tbody>\n",
       "    <tr>\n",
       "      <th>0</th>\n",
       "      <td>5814_8</td>\n",
       "      <td>1</td>\n",
       "      <td>With all this stuff going down at the moment w...</td>\n",
       "      <td>stuff going moment mj started listening music ...</td>\n",
       "      <td>1</td>\n",
       "    </tr>\n",
       "    <tr>\n",
       "      <th>1</th>\n",
       "      <td>2381_9</td>\n",
       "      <td>1</td>\n",
       "      <td>\\The Classic War of the Worlds\\\" by Timothy Hi...</td>\n",
       "      <td>\\the classic war worlds\\ timothy hines enterta...</td>\n",
       "      <td>1</td>\n",
       "    </tr>\n",
       "    <tr>\n",
       "      <th>2</th>\n",
       "      <td>7759_3</td>\n",
       "      <td>0</td>\n",
       "      <td>The film starts with a manager (Nicholas Bell)...</td>\n",
       "      <td>film starts manager nicholas bell giving welco...</td>\n",
       "      <td>0</td>\n",
       "    </tr>\n",
       "    <tr>\n",
       "      <th>3</th>\n",
       "      <td>3630_4</td>\n",
       "      <td>0</td>\n",
       "      <td>It must be assumed that those who praised this...</td>\n",
       "      <td>must assumed praised film \\the greatest filmed...</td>\n",
       "      <td>0</td>\n",
       "    </tr>\n",
       "    <tr>\n",
       "      <th>4</th>\n",
       "      <td>9495_8</td>\n",
       "      <td>1</td>\n",
       "      <td>Superbly trashy and wondrously unpretentious 8...</td>\n",
       "      <td>superbly trashy wondrously unpretentious explo...</td>\n",
       "      <td>1</td>\n",
       "    </tr>\n",
       "  </tbody>\n",
       "</table>\n",
       "</div>"
      ],
      "text/plain": [
       "       id  sentiment                                             review  \\\n",
       "0  5814_8          1  With all this stuff going down at the moment w...   \n",
       "1  2381_9          1  \\The Classic War of the Worlds\\\" by Timothy Hi...   \n",
       "2  7759_3          0  The film starts with a manager (Nicholas Bell)...   \n",
       "3  3630_4          0  It must be assumed that those who praised this...   \n",
       "4  9495_8          1  Superbly trashy and wondrously unpretentious 8...   \n",
       "\n",
       "                                             cleaned  label  \n",
       "0  stuff going moment mj started listening music ...      1  \n",
       "1  \\the classic war worlds\\ timothy hines enterta...      1  \n",
       "2  film starts manager nicholas bell giving welco...      0  \n",
       "3  must assumed praised film \\the greatest filmed...      0  \n",
       "4  superbly trashy wondrously unpretentious explo...      1  "
      ]
     },
     "execution_count": 19,
     "metadata": {},
     "output_type": "execute_result"
    }
   ],
   "source": [
    "data.head()"
   ]
  },
  {
   "cell_type": "markdown",
   "metadata": {},
   "source": [
    "#### Splitting dataset both cleaned and uncleaned"
   ]
  },
  {
   "cell_type": "code",
   "execution_count": 20,
   "metadata": {},
   "outputs": [],
   "source": [
    "X_uctrain, X_uctest, y_uctrain, y_uctest = train_test_split(data.review,data.sentiment,random_state=1)\n",
    "X_ctrain, X_ctest, y_ctrain, y_ctest = train_test_split(data.cleaned,data.label,random_state=1)"
   ]
  },
  {
   "cell_type": "code",
   "execution_count": 22,
   "metadata": {},
   "outputs": [
    {
     "data": {
      "text/plain": [
       "(18750,)"
      ]
     },
     "execution_count": 22,
     "metadata": {},
     "output_type": "execute_result"
    }
   ],
   "source": [
    "X_uctrain.shape"
   ]
  },
  {
   "cell_type": "markdown",
   "metadata": {},
   "source": [
    "#### vectorization"
   ]
  },
  {
   "cell_type": "code",
   "execution_count": 27,
   "metadata": {},
   "outputs": [],
   "source": [
    "vectuc = CountVectorizer(min_df=3,ngram_range=(1,2)).fit(X_uctrain)\n",
    "vectc = CountVectorizer(min_df=3,ngram_range=(1,2)).fit(X_ctrain)\n",
    "X_uctrain_vector = vectuc.transform(X_uctrain)\n",
    "X_ctrain_vector  = vectc.transform(X_ctrain)"
   ]
  },
  {
   "cell_type": "markdown",
   "metadata": {},
   "source": [
    "#### defining algorithm"
   ]
  },
  {
   "cell_type": "code",
   "execution_count": 43,
   "metadata": {},
   "outputs": [],
   "source": [
    "modeluc = LogisticRegression(multi_class=\"multinomial\",solver=\"newton-cg\")\n",
    "modelc = LogisticRegression(multi_class=\"multinomial\",solver=\"newton-cg\")"
   ]
  },
  {
   "cell_type": "markdown",
   "metadata": {},
   "source": [
    "#### training"
   ]
  },
  {
   "cell_type": "code",
   "execution_count": 44,
   "metadata": {},
   "outputs": [
    {
     "data": {
      "text/plain": [
       "LogisticRegression(C=1.0, class_weight=None, dual=False, fit_intercept=True,\n",
       "          intercept_scaling=1, max_iter=100, multi_class='multinomial',\n",
       "          n_jobs=1, penalty='l2', random_state=None, solver='newton-cg',\n",
       "          tol=0.0001, verbose=0, warm_start=False)"
      ]
     },
     "execution_count": 44,
     "metadata": {},
     "output_type": "execute_result"
    }
   ],
   "source": [
    "modeluc.fit(X_uctrain_vector,y_uctrain)\n",
    "modelc.fit(X_ctrain_vector,y_ctrain)"
   ]
  },
  {
   "cell_type": "markdown",
   "metadata": {},
   "source": [
    "#### prediction"
   ]
  },
  {
   "cell_type": "code",
   "execution_count": 45,
   "metadata": {},
   "outputs": [],
   "source": [
    "predictUc = modeluc.predict(vectuc.transform(X_uctest))\n",
    "predictC = modelc.predict(vectc.transform(X_ctest))"
   ]
  },
  {
   "cell_type": "markdown",
   "metadata": {},
   "source": [
    "#### metrics"
   ]
  },
  {
   "cell_type": "code",
   "execution_count": 46,
   "metadata": {},
   "outputs": [
    {
     "name": "stdout",
     "output_type": "stream",
     "text": [
      "0.8976\n",
      "0.89152\n"
     ]
    }
   ],
   "source": [
    "print(accuracy_score(y_uctest,predictUc))\n",
    "print(accuracy_score(y_ctest,predictC))\n"
   ]
  },
  {
   "cell_type": "code",
   "execution_count": 33,
   "metadata": {},
   "outputs": [],
   "source": [
    "data.to_csv(\"sparkle_cleaned.csv\")"
   ]
  },
  {
   "cell_type": "markdown",
   "metadata": {},
   "source": [
    "#### trained feature extraction"
   ]
  },
  {
   "cell_type": "code",
   "execution_count": 35,
   "metadata": {},
   "outputs": [
    {
     "name": "stdout",
     "output_type": "stream",
     "text": [
      "Negative : {} ['worst' 'waste' 'awful' 'boring' 'poor' 'poorly' 'worse' 'dull'\n",
      " 'the worst' 'disappointment' 'disappointing' 'horrible' 'terrible'\n",
      " 'lacks' 'mess' 'annoying' 'unfortunately' 'lame' 'avoid' 'ridiculous']\n",
      "Positive : {} ['excellent' 'wonderful' 'perfect' 'enjoyable' 'superb' 'amazing'\n",
      " 'brilliant' 'great' 'pretty good' 'today' 'rare' 'fun' 'favorite'\n",
      " 'well worth' 'incredible' 'refreshing' 'wonderfully' 'gem' 'hilarious'\n",
      " 'must see']\n"
     ]
    }
   ],
   "source": [
    "feature_name=np.array(vectuc.get_feature_names())\n",
    "\n",
    "sort_coeff=modeluc.coef_[0].argsort()\n",
    "\n",
    "print (\"Negative : {}\",format(feature_name[sort_coeff[:20]]))\n",
    "\n",
    "print (\"Positive : {}\",format(feature_name[sort_coeff[:-21:-1]]))\n",
    "\n"
   ]
  },
  {
   "cell_type": "code",
   "execution_count": 36,
   "metadata": {},
   "outputs": [
    {
     "name": "stdout",
     "output_type": "stream",
     "text": [
      "Negative : {} ['worst' 'waste' 'disappointment' 'poorly' 'awful' 'boring' 'worse' 'dull'\n",
      " 'lacks' 'disappointing' 'avoid' 'poor' 'horrible' 'mess' 'unfortunately'\n",
      " 'annoying' 'ridiculous' 'terrible' 'waste time' 'one worst']\n",
      "Positive : {} ['excellent' 'wonderful' 'superb' 'enjoyable' 'amazing' 'perfect'\n",
      " 'refreshing' 'favorite' 'must see' 'rare' 'well worth' 'wonderfully'\n",
      " 'enjoyed' 'funniest' 'gem' 'brilliant' 'pretty good' 'incredible'\n",
      " 'appreciated' 'innocent']\n"
     ]
    }
   ],
   "source": [
    "feature_name=np.array(vectc.get_feature_names())\n",
    "\n",
    "sort_coeff=modelc.coef_[0].argsort()\n",
    "\n",
    "print (\"Negative : {}\",format(feature_name[sort_coeff[:20]]))\n",
    "\n",
    "print (\"Positive : {}\",format(feature_name[sort_coeff[:-21:-1]]))\n",
    "\n"
   ]
  },
  {
   "cell_type": "code",
   "execution_count": 42,
   "metadata": {},
   "outputs": [],
   "source": [
    "LogisticRegression?"
   ]
  },
  {
   "cell_type": "markdown",
   "metadata": {},
   "source": [
    "#### real time testing"
   ]
  },
  {
   "cell_type": "code",
   "execution_count": 47,
   "metadata": {},
   "outputs": [],
   "source": [
    "testing=\"1st watched 8/31/1996 - (Dir-Tim Robbins): Very thought provoking and very well done movie on the subject of the death penalty. Deserved more recognition and publicity than it received.\""
   ]
  },
  {
   "cell_type": "code",
   "execution_count": 48,
   "metadata": {},
   "outputs": [
    {
     "data": {
      "text/plain": [
       "'1st watched 8/31/1996 - (Dir-Tim Robbins): Very thought provoking and very well done movie on the subject of the death penalty. Deserved more recognition and publicity than it received.'"
      ]
     },
     "execution_count": 48,
     "metadata": {},
     "output_type": "execute_result"
    }
   ],
   "source": [
    "testing"
   ]
  },
  {
   "cell_type": "code",
   "execution_count": 49,
   "metadata": {},
   "outputs": [
    {
     "data": {
      "text/plain": [
       "array([1])"
      ]
     },
     "execution_count": 49,
     "metadata": {},
     "output_type": "execute_result"
    }
   ],
   "source": [
    "modelc.predict(vectc.transform([testing]))"
   ]
  },
  {
   "cell_type": "code",
   "execution_count": 50,
   "metadata": {},
   "outputs": [
    {
     "data": {
      "text/plain": [
       "array([[0.17440191, 0.82559809]])"
      ]
     },
     "execution_count": 50,
     "metadata": {},
     "output_type": "execute_result"
    }
   ],
   "source": [
    "modelc.predict_proba(vectc.transform([testing]))"
   ]
  },
  {
   "cell_type": "code",
   "execution_count": 51,
   "metadata": {},
   "outputs": [
    {
     "data": {
      "text/plain": [
       "array([0, 1])"
      ]
     },
     "execution_count": 51,
     "metadata": {},
     "output_type": "execute_result"
    }
   ],
   "source": [
    "modelc.classes_"
   ]
  },
  {
   "cell_type": "code",
   "execution_count": 52,
   "metadata": {},
   "outputs": [
    {
     "data": {
      "text/plain": [
       "array([1])"
      ]
     },
     "execution_count": 52,
     "metadata": {},
     "output_type": "execute_result"
    }
   ],
   "source": [
    "modeluc.predict(vectuc.transform([testing]))"
   ]
  },
  {
   "cell_type": "code",
   "execution_count": 53,
   "metadata": {},
   "outputs": [
    {
     "data": {
      "text/plain": [
       "array([[0.1071434, 0.8928566]])"
      ]
     },
     "execution_count": 53,
     "metadata": {},
     "output_type": "execute_result"
    }
   ],
   "source": [
    "modeluc.predict_proba(vectuc.transform([testing]))"
   ]
  },
  {
   "cell_type": "markdown",
   "metadata": {},
   "source": [
    "### K-means"
   ]
  },
  {
   "cell_type": "code",
   "execution_count": 14,
   "metadata": {},
   "outputs": [],
   "source": [
    "import matplotlib.pyplot as plt\n",
    "import numpy as np\n",
    "from sklearn.cluster import KMeans"
   ]
  },
  {
   "cell_type": "markdown",
   "metadata": {},
   "source": [
    "#### loading data"
   ]
  },
  {
   "cell_type": "code",
   "execution_count": 15,
   "metadata": {},
   "outputs": [],
   "source": [
    "X = np.array([[1, 2],\n",
    "              [5, 8],\n",
    "              [1.5, 1.8],\n",
    "              [8, 8],\n",
    "              [1, 0.6],\n",
    "              [9, 11]])\n"
   ]
  },
  {
   "cell_type": "markdown",
   "metadata": {},
   "source": [
    "#### visualization"
   ]
  },
  {
   "cell_type": "code",
   "execution_count": 16,
   "metadata": {},
   "outputs": [
    {
     "data": {
      "image/png": "[encoded data removed]",
      "text/plain": [
       "<Figure size 432x288 with 1 Axes>"
      ]
     },
     "metadata": {},
     "output_type": "display_data"
    }
   ],
   "source": [
    "for i in X:\n",
    "    plt.scatter(i[0],i[1])"
   ]
  },
  {
   "cell_type": "markdown",
   "metadata": {},
   "source": [
    "#### defining model and training"
   ]
  },
  {
   "cell_type": "code",
   "execution_count": 26,
   "metadata": {},
   "outputs": [
    {
     "data": {
      "text/plain": [
       "KMeans(algorithm='auto', copy_x=True, init='k-means++', max_iter=300,\n",
       "    n_clusters=2, n_init=10, n_jobs=1, precompute_distances='auto',\n",
       "    random_state=None, tol=0.0001, verbose=0)"
      ]
     },
     "execution_count": 26,
     "metadata": {},
     "output_type": "execute_result"
    }
   ],
   "source": [
    "kmeans = KMeans(n_clusters=2)\n",
    "kmeans.fit(x)"
   ]
  },
  {
   "cell_type": "markdown",
   "metadata": {},
   "source": [
    "#### displaying parameters"
   ]
  },
  {
   "cell_type": "code",
   "execution_count": 27,
   "metadata": {},
   "outputs": [
    {
     "data": {
      "text/plain": [
       "array([[3.375, 3.625],\n",
       "       [1.05 , 1.05 ]])"
      ]
     },
     "execution_count": 27,
     "metadata": {},
     "output_type": "execute_result"
    }
   ],
   "source": [
    "kmeans.cluster_centers_"
   ]
  },
  {
   "cell_type": "code",
   "execution_count": 28,
   "metadata": {},
   "outputs": [
    {
     "data": {
      "text/plain": [
       "array([1, 1, 0, 0, 0, 0], dtype=int32)"
      ]
     },
     "execution_count": 28,
     "metadata": {},
     "output_type": "execute_result"
    }
   ],
   "source": [
    "kmeans.labels_"
   ]
  },
  {
   "cell_type": "code",
   "execution_count": 31,
   "metadata": {},
   "outputs": [
    {
     "name": "stdout",
     "output_type": "stream",
     "text": [
      "[[3.375 3.625]\n",
      " [1.05  1.05 ]]\n",
      "[1 1 0 0 0 0]\n"
     ]
    }
   ],
   "source": [
    "centroids = kmeans.cluster_centers_\n",
    "labels = kmeans.labels_\n",
    "\n",
    "print(centroids)\n",
    "print(labels)"
   ]
  },
  {
   "cell_type": "markdown",
   "metadata": {},
   "source": [
    "#### testing"
   ]
  },
  {
   "cell_type": "code",
   "execution_count": 32,
   "metadata": {},
   "outputs": [
    {
     "data": {
      "text/plain": [
       "array([0], dtype=int32)"
      ]
     },
     "execution_count": 32,
     "metadata": {},
     "output_type": "execute_result"
    }
   ],
   "source": [
    "kmeans.predict([[6.48,9.1]])"
   ]
  },
  {
   "cell_type": "code",
   "execution_count": 22,
   "metadata": {},
   "outputs": [
    {
     "name": "stdout",
     "output_type": "stream",
     "text": [
      "coordinate: [1. 1.] label: 1\n",
      "coordinate: [1.1 1.1] label: 1\n"
     ]
    }
   ],
   "source": [
    "colors = [\"g.\",\"r.\",\"c.\",\"y.\"]\n",
    "\n",
    "for i in range(len(x)):\n",
    "    if labels[i]==1:\n",
    "        print(\"coordinate:\",x[i], \"label:\", labels[i])\n"
   ]
  },
  {
   "cell_type": "markdown",
   "metadata": {},
   "source": [
    "#### another example of k-means "
   ]
  },
  {
   "cell_type": "code",
   "execution_count": 20,
   "metadata": {},
   "outputs": [],
   "source": [
    "import pandas as pd\n",
    "data = pd.read_csv(\"./train.csv\")"
   ]
  },
  {
   "cell_type": "code",
   "execution_count": 21,
   "metadata": {},
   "outputs": [
    {
     "data": {
      "text/html": [
       "<div>\n",
       "<style scoped>\n",
       "    .dataframe tbody tr th:only-of-type {\n",
       "        vertical-align: middle;\n",
       "    }\n",
       "\n",
       "    .dataframe tbody tr th {\n",
       "        vertical-align: top;\n",
       "    }\n",
       "\n",
       "    .dataframe thead th {\n",
       "        text-align: right;\n",
       "    }\n",
       "</style>\n",
       "<table border=\"1\" class=\"dataframe\">\n",
       "  <thead>\n",
       "    <tr style=\"text-align: right;\">\n",
       "      <th></th>\n",
       "      <th>class</th>\n",
       "      <th>petal_length</th>\n",
       "      <th>petal_width</th>\n",
       "      <th>sepal_length</th>\n",
       "      <th>sepal_width</th>\n",
       "    </tr>\n",
       "  </thead>\n",
       "  <tbody>\n",
       "    <tr>\n",
       "      <th>0</th>\n",
       "      <td>Iris-virginica</td>\n",
       "      <td>5.5</td>\n",
       "      <td>1.8</td>\n",
       "      <td>6.4</td>\n",
       "      <td>3.1</td>\n",
       "    </tr>\n",
       "    <tr>\n",
       "      <th>1</th>\n",
       "      <td>Iris-virginica</td>\n",
       "      <td>5.9</td>\n",
       "      <td>2.3</td>\n",
       "      <td>6.8</td>\n",
       "      <td>3.2</td>\n",
       "    </tr>\n",
       "    <tr>\n",
       "      <th>2</th>\n",
       "      <td>Iris-virginica</td>\n",
       "      <td>5.4</td>\n",
       "      <td>2.3</td>\n",
       "      <td>6.2</td>\n",
       "      <td>3.4</td>\n",
       "    </tr>\n",
       "    <tr>\n",
       "      <th>3</th>\n",
       "      <td>Iris-virginica</td>\n",
       "      <td>4.8</td>\n",
       "      <td>1.8</td>\n",
       "      <td>6.0</td>\n",
       "      <td>3.0</td>\n",
       "    </tr>\n",
       "    <tr>\n",
       "      <th>4</th>\n",
       "      <td>Iris-virginica</td>\n",
       "      <td>5.1</td>\n",
       "      <td>2.3</td>\n",
       "      <td>6.9</td>\n",
       "      <td>3.1</td>\n",
       "    </tr>\n",
       "  </tbody>\n",
       "</table>\n",
       "</div>"
      ],
      "text/plain": [
       "            class  petal_length  petal_width  sepal_length  sepal_width\n",
       "0  Iris-virginica           5.5          1.8           6.4          3.1\n",
       "1  Iris-virginica           5.9          2.3           6.8          3.2\n",
       "2  Iris-virginica           5.4          2.3           6.2          3.4\n",
       "3  Iris-virginica           4.8          1.8           6.0          3.0\n",
       "4  Iris-virginica           5.1          2.3           6.9          3.1"
      ]
     },
     "execution_count": 21,
     "metadata": {},
     "output_type": "execute_result"
    }
   ],
   "source": [
    "data.head()"
   ]
  },
  {
   "cell_type": "code",
   "execution_count": 22,
   "metadata": {},
   "outputs": [
    {
     "data": {
      "text/html": [
       "<div>\n",
       "<style scoped>\n",
       "    .dataframe tbody tr th:only-of-type {\n",
       "        vertical-align: middle;\n",
       "    }\n",
       "\n",
       "    .dataframe tbody tr th {\n",
       "        vertical-align: top;\n",
       "    }\n",
       "\n",
       "    .dataframe thead th {\n",
       "        text-align: right;\n",
       "    }\n",
       "</style>\n",
       "<table border=\"1\" class=\"dataframe\">\n",
       "  <thead>\n",
       "    <tr style=\"text-align: right;\">\n",
       "      <th></th>\n",
       "      <th>petal_length</th>\n",
       "      <th>petal_width</th>\n",
       "      <th>sepal_length</th>\n",
       "      <th>sepal_width</th>\n",
       "    </tr>\n",
       "    <tr>\n",
       "      <th>class</th>\n",
       "      <th></th>\n",
       "      <th></th>\n",
       "      <th></th>\n",
       "      <th></th>\n",
       "    </tr>\n",
       "  </thead>\n",
       "  <tbody>\n",
       "    <tr>\n",
       "      <th>Iris-setosa</th>\n",
       "      <td>35</td>\n",
       "      <td>35</td>\n",
       "      <td>35</td>\n",
       "      <td>35</td>\n",
       "    </tr>\n",
       "    <tr>\n",
       "      <th>Iris-versicolor</th>\n",
       "      <td>35</td>\n",
       "      <td>35</td>\n",
       "      <td>35</td>\n",
       "      <td>35</td>\n",
       "    </tr>\n",
       "    <tr>\n",
       "      <th>Iris-virginica</th>\n",
       "      <td>35</td>\n",
       "      <td>35</td>\n",
       "      <td>35</td>\n",
       "      <td>35</td>\n",
       "    </tr>\n",
       "  </tbody>\n",
       "</table>\n",
       "</div>"
      ],
      "text/plain": [
       "                 petal_length  petal_width  sepal_length  sepal_width\n",
       "class                                                                \n",
       "Iris-setosa                35           35            35           35\n",
       "Iris-versicolor            35           35            35           35\n",
       "Iris-virginica             35           35            35           35"
      ]
     },
     "execution_count": 22,
     "metadata": {},
     "output_type": "execute_result"
    }
   ],
   "source": [
    "data.groupby(\"class\").count()"
   ]
  },
  {
   "cell_type": "code",
   "execution_count": 23,
   "metadata": {},
   "outputs": [],
   "source": [
    "x = data.loc[:,\"petal_length\":\"sepal_width\"]"
   ]
  },
  {
   "cell_type": "code",
   "execution_count": 30,
   "metadata": {},
   "outputs": [],
   "source": [
    "from collections import Counter"
   ]
  },
  {
   "cell_type": "code",
   "execution_count": 32,
   "metadata": {},
   "outputs": [
    {
     "data": {
      "text/plain": [
       "Counter({0: 32, 2: 38, 1: 35})"
      ]
     },
     "execution_count": 32,
     "metadata": {},
     "output_type": "execute_result"
    }
   ],
   "source": [
    "Counter(labels)"
   ]
  },
  {
   "cell_type": "code",
   "execution_count": 42,
   "metadata": {},
   "outputs": [
    {
     "data": {
      "text/html": [
       "<div>\n",
       "<style scoped>\n",
       "    .dataframe tbody tr th:only-of-type {\n",
       "        vertical-align: middle;\n",
       "    }\n",
       "\n",
       "    .dataframe tbody tr th {\n",
       "        vertical-align: top;\n",
       "    }\n",
       "\n",
       "    .dataframe thead th {\n",
       "        text-align: right;\n",
       "    }\n",
       "</style>\n",
       "<table border=\"1\" class=\"dataframe\">\n",
       "  <thead>\n",
       "    <tr style=\"text-align: right;\">\n",
       "      <th></th>\n",
       "      <th>class</th>\n",
       "      <th>petal_length</th>\n",
       "      <th>petal_width</th>\n",
       "      <th>sepal_length</th>\n",
       "      <th>sepal_width</th>\n",
       "    </tr>\n",
       "  </thead>\n",
       "  <tbody>\n",
       "    <tr>\n",
       "      <th>70</th>\n",
       "      <td>Iris-setosa</td>\n",
       "      <td>1.4</td>\n",
       "      <td>0.2</td>\n",
       "      <td>4.9</td>\n",
       "      <td>3.0</td>\n",
       "    </tr>\n",
       "    <tr>\n",
       "      <th>71</th>\n",
       "      <td>Iris-setosa</td>\n",
       "      <td>1.6</td>\n",
       "      <td>0.4</td>\n",
       "      <td>5.0</td>\n",
       "      <td>3.4</td>\n",
       "    </tr>\n",
       "    <tr>\n",
       "      <th>72</th>\n",
       "      <td>Iris-setosa</td>\n",
       "      <td>1.4</td>\n",
       "      <td>0.1</td>\n",
       "      <td>4.8</td>\n",
       "      <td>3.0</td>\n",
       "    </tr>\n",
       "    <tr>\n",
       "      <th>73</th>\n",
       "      <td>Iris-setosa</td>\n",
       "      <td>1.5</td>\n",
       "      <td>0.4</td>\n",
       "      <td>5.7</td>\n",
       "      <td>4.4</td>\n",
       "    </tr>\n",
       "    <tr>\n",
       "      <th>74</th>\n",
       "      <td>Iris-setosa</td>\n",
       "      <td>1.4</td>\n",
       "      <td>0.2</td>\n",
       "      <td>5.2</td>\n",
       "      <td>3.4</td>\n",
       "    </tr>\n",
       "    <tr>\n",
       "      <th>75</th>\n",
       "      <td>Iris-setosa</td>\n",
       "      <td>1.5</td>\n",
       "      <td>0.2</td>\n",
       "      <td>5.4</td>\n",
       "      <td>3.7</td>\n",
       "    </tr>\n",
       "    <tr>\n",
       "      <th>76</th>\n",
       "      <td>Iris-setosa</td>\n",
       "      <td>1.5</td>\n",
       "      <td>0.2</td>\n",
       "      <td>5.1</td>\n",
       "      <td>3.4</td>\n",
       "    </tr>\n",
       "    <tr>\n",
       "      <th>77</th>\n",
       "      <td>Iris-setosa</td>\n",
       "      <td>1.9</td>\n",
       "      <td>0.2</td>\n",
       "      <td>4.8</td>\n",
       "      <td>3.4</td>\n",
       "    </tr>\n",
       "    <tr>\n",
       "      <th>78</th>\n",
       "      <td>Iris-setosa</td>\n",
       "      <td>1.5</td>\n",
       "      <td>0.4</td>\n",
       "      <td>5.1</td>\n",
       "      <td>3.7</td>\n",
       "    </tr>\n",
       "    <tr>\n",
       "      <th>79</th>\n",
       "      <td>Iris-setosa</td>\n",
       "      <td>1.5</td>\n",
       "      <td>0.1</td>\n",
       "      <td>4.9</td>\n",
       "      <td>3.1</td>\n",
       "    </tr>\n",
       "    <tr>\n",
       "      <th>80</th>\n",
       "      <td>Iris-setosa</td>\n",
       "      <td>1.3</td>\n",
       "      <td>0.2</td>\n",
       "      <td>4.4</td>\n",
       "      <td>3.2</td>\n",
       "    </tr>\n",
       "    <tr>\n",
       "      <th>81</th>\n",
       "      <td>Iris-setosa</td>\n",
       "      <td>1.3</td>\n",
       "      <td>0.2</td>\n",
       "      <td>5.5</td>\n",
       "      <td>3.5</td>\n",
       "    </tr>\n",
       "    <tr>\n",
       "      <th>82</th>\n",
       "      <td>Iris-setosa</td>\n",
       "      <td>1.4</td>\n",
       "      <td>0.3</td>\n",
       "      <td>5.1</td>\n",
       "      <td>3.5</td>\n",
       "    </tr>\n",
       "    <tr>\n",
       "      <th>83</th>\n",
       "      <td>Iris-setosa</td>\n",
       "      <td>1.4</td>\n",
       "      <td>0.2</td>\n",
       "      <td>5.0</td>\n",
       "      <td>3.3</td>\n",
       "    </tr>\n",
       "    <tr>\n",
       "      <th>84</th>\n",
       "      <td>Iris-setosa</td>\n",
       "      <td>1.6</td>\n",
       "      <td>0.2</td>\n",
       "      <td>4.8</td>\n",
       "      <td>3.4</td>\n",
       "    </tr>\n",
       "    <tr>\n",
       "      <th>85</th>\n",
       "      <td>Iris-setosa</td>\n",
       "      <td>1.5</td>\n",
       "      <td>0.2</td>\n",
       "      <td>4.6</td>\n",
       "      <td>3.1</td>\n",
       "    </tr>\n",
       "    <tr>\n",
       "      <th>86</th>\n",
       "      <td>Iris-setosa</td>\n",
       "      <td>1.4</td>\n",
       "      <td>0.3</td>\n",
       "      <td>4.8</td>\n",
       "      <td>3.0</td>\n",
       "    </tr>\n",
       "    <tr>\n",
       "      <th>87</th>\n",
       "      <td>Iris-setosa</td>\n",
       "      <td>1.6</td>\n",
       "      <td>0.6</td>\n",
       "      <td>5.0</td>\n",
       "      <td>3.5</td>\n",
       "    </tr>\n",
       "    <tr>\n",
       "      <th>88</th>\n",
       "      <td>Iris-setosa</td>\n",
       "      <td>1.5</td>\n",
       "      <td>0.2</td>\n",
       "      <td>5.2</td>\n",
       "      <td>3.5</td>\n",
       "    </tr>\n",
       "    <tr>\n",
       "      <th>89</th>\n",
       "      <td>Iris-setosa</td>\n",
       "      <td>1.5</td>\n",
       "      <td>0.1</td>\n",
       "      <td>4.9</td>\n",
       "      <td>3.1</td>\n",
       "    </tr>\n",
       "    <tr>\n",
       "      <th>90</th>\n",
       "      <td>Iris-setosa</td>\n",
       "      <td>1.4</td>\n",
       "      <td>0.2</td>\n",
       "      <td>5.5</td>\n",
       "      <td>4.2</td>\n",
       "    </tr>\n",
       "    <tr>\n",
       "      <th>91</th>\n",
       "      <td>Iris-setosa</td>\n",
       "      <td>1.5</td>\n",
       "      <td>0.4</td>\n",
       "      <td>5.4</td>\n",
       "      <td>3.4</td>\n",
       "    </tr>\n",
       "    <tr>\n",
       "      <th>92</th>\n",
       "      <td>Iris-setosa</td>\n",
       "      <td>1.5</td>\n",
       "      <td>0.1</td>\n",
       "      <td>5.2</td>\n",
       "      <td>4.1</td>\n",
       "    </tr>\n",
       "    <tr>\n",
       "      <th>93</th>\n",
       "      <td>Iris-setosa</td>\n",
       "      <td>1.0</td>\n",
       "      <td>0.2</td>\n",
       "      <td>4.6</td>\n",
       "      <td>3.6</td>\n",
       "    </tr>\n",
       "    <tr>\n",
       "      <th>94</th>\n",
       "      <td>Iris-setosa</td>\n",
       "      <td>1.6</td>\n",
       "      <td>0.2</td>\n",
       "      <td>5.1</td>\n",
       "      <td>3.8</td>\n",
       "    </tr>\n",
       "    <tr>\n",
       "      <th>95</th>\n",
       "      <td>Iris-setosa</td>\n",
       "      <td>1.4</td>\n",
       "      <td>0.2</td>\n",
       "      <td>4.6</td>\n",
       "      <td>3.2</td>\n",
       "    </tr>\n",
       "    <tr>\n",
       "      <th>96</th>\n",
       "      <td>Iris-setosa</td>\n",
       "      <td>1.4</td>\n",
       "      <td>0.2</td>\n",
       "      <td>4.4</td>\n",
       "      <td>2.9</td>\n",
       "    </tr>\n",
       "    <tr>\n",
       "      <th>97</th>\n",
       "      <td>Iris-setosa</td>\n",
       "      <td>1.5</td>\n",
       "      <td>0.3</td>\n",
       "      <td>5.1</td>\n",
       "      <td>3.8</td>\n",
       "    </tr>\n",
       "    <tr>\n",
       "      <th>98</th>\n",
       "      <td>Iris-setosa</td>\n",
       "      <td>1.4</td>\n",
       "      <td>0.2</td>\n",
       "      <td>5.0</td>\n",
       "      <td>3.6</td>\n",
       "    </tr>\n",
       "    <tr>\n",
       "      <th>99</th>\n",
       "      <td>Iris-setosa</td>\n",
       "      <td>1.3</td>\n",
       "      <td>0.2</td>\n",
       "      <td>4.7</td>\n",
       "      <td>3.2</td>\n",
       "    </tr>\n",
       "    <tr>\n",
       "      <th>100</th>\n",
       "      <td>Iris-setosa</td>\n",
       "      <td>1.5</td>\n",
       "      <td>0.2</td>\n",
       "      <td>5.0</td>\n",
       "      <td>3.4</td>\n",
       "    </tr>\n",
       "    <tr>\n",
       "      <th>101</th>\n",
       "      <td>Iris-setosa</td>\n",
       "      <td>1.7</td>\n",
       "      <td>0.3</td>\n",
       "      <td>5.7</td>\n",
       "      <td>3.8</td>\n",
       "    </tr>\n",
       "    <tr>\n",
       "      <th>102</th>\n",
       "      <td>Iris-setosa</td>\n",
       "      <td>1.3</td>\n",
       "      <td>0.4</td>\n",
       "      <td>5.4</td>\n",
       "      <td>3.9</td>\n",
       "    </tr>\n",
       "    <tr>\n",
       "      <th>103</th>\n",
       "      <td>Iris-setosa</td>\n",
       "      <td>1.9</td>\n",
       "      <td>0.4</td>\n",
       "      <td>5.1</td>\n",
       "      <td>3.8</td>\n",
       "    </tr>\n",
       "    <tr>\n",
       "      <th>104</th>\n",
       "      <td>Iris-setosa</td>\n",
       "      <td>1.6</td>\n",
       "      <td>0.2</td>\n",
       "      <td>5.0</td>\n",
       "      <td>3.0</td>\n",
       "    </tr>\n",
       "  </tbody>\n",
       "</table>\n",
       "</div>"
      ],
      "text/plain": [
       "           class  petal_length  petal_width  sepal_length  sepal_width\n",
       "70   Iris-setosa           1.4          0.2           4.9          3.0\n",
       "71   Iris-setosa           1.6          0.4           5.0          3.4\n",
       "72   Iris-setosa           1.4          0.1           4.8          3.0\n",
       "73   Iris-setosa           1.5          0.4           5.7          4.4\n",
       "74   Iris-setosa           1.4          0.2           5.2          3.4\n",
       "75   Iris-setosa           1.5          0.2           5.4          3.7\n",
       "76   Iris-setosa           1.5          0.2           5.1          3.4\n",
       "77   Iris-setosa           1.9          0.2           4.8          3.4\n",
       "78   Iris-setosa           1.5          0.4           5.1          3.7\n",
       "79   Iris-setosa           1.5          0.1           4.9          3.1\n",
       "80   Iris-setosa           1.3          0.2           4.4          3.2\n",
       "81   Iris-setosa           1.3          0.2           5.5          3.5\n",
       "82   Iris-setosa           1.4          0.3           5.1          3.5\n",
       "83   Iris-setosa           1.4          0.2           5.0          3.3\n",
       "84   Iris-setosa           1.6          0.2           4.8          3.4\n",
       "85   Iris-setosa           1.5          0.2           4.6          3.1\n",
       "86   Iris-setosa           1.4          0.3           4.8          3.0\n",
       "87   Iris-setosa           1.6          0.6           5.0          3.5\n",
       "88   Iris-setosa           1.5          0.2           5.2          3.5\n",
       "89   Iris-setosa           1.5          0.1           4.9          3.1\n",
       "90   Iris-setosa           1.4          0.2           5.5          4.2\n",
       "91   Iris-setosa           1.5          0.4           5.4          3.4\n",
       "92   Iris-setosa           1.5          0.1           5.2          4.1\n",
       "93   Iris-setosa           1.0          0.2           4.6          3.6\n",
       "94   Iris-setosa           1.6          0.2           5.1          3.8\n",
       "95   Iris-setosa           1.4          0.2           4.6          3.2\n",
       "96   Iris-setosa           1.4          0.2           4.4          2.9\n",
       "97   Iris-setosa           1.5          0.3           5.1          3.8\n",
       "98   Iris-setosa           1.4          0.2           5.0          3.6\n",
       "99   Iris-setosa           1.3          0.2           4.7          3.2\n",
       "100  Iris-setosa           1.5          0.2           5.0          3.4\n",
       "101  Iris-setosa           1.7          0.3           5.7          3.8\n",
       "102  Iris-setosa           1.3          0.4           5.4          3.9\n",
       "103  Iris-setosa           1.9          0.4           5.1          3.8\n",
       "104  Iris-setosa           1.6          0.2           5.0          3.0"
      ]
     },
     "execution_count": 42,
     "metadata": {},
     "output_type": "execute_result"
    }
   ],
   "source": [
    "data[data['class']==\"Iris-setosa\"]"
   ]
  },
  {
   "cell_type": "markdown",
   "metadata": {},
   "source": [
    "#### calculation euclidean distance"
   ]
  },
  {
   "cell_type": "code",
   "execution_count": 1,
   "metadata": {},
   "outputs": [
    {
     "data": {
      "text/plain": [
       "0.519615242270663"
      ]
     },
     "execution_count": 1,
     "metadata": {},
     "output_type": "execute_result"
    }
   ],
   "source": [
    "from math import*\n",
    " \n",
    "def euclidean_distance(x,y):\n",
    " \n",
    "    return sqrt(sum(pow(a-b,2) for a, b in zip(x, y)))\n",
    " \n",
    "euclidean_distance([1.7,0.3,5.7,3.8],[1.3,0.4,5.4,3.9]) #Iris-setosa -> Iris-setosa"
   ]
  },
  {
   "cell_type": "code",
   "execution_count": 2,
   "metadata": {},
   "outputs": [
    {
     "data": {
      "text/plain": [
       "4.817675788178362"
      ]
     },
     "execution_count": 2,
     "metadata": {},
     "output_type": "execute_result"
    }
   ],
   "source": [
    "euclidean_distance([1.7,0.3,5.7,3.8],[5.9,2.3,6.8,3.2]) #Iris-setosa -> Iris-virginica\n"
   ]
  },
  {
   "cell_type": "code",
   "execution_count": null,
   "metadata": {},
   "outputs": [],
   "source": [
    "print(model1.predict([79248.64245,6.002899808, 6.730821019,3.09,40173.07217]))\n"
   ]
  },
  {
   "cell_type": "markdown",
   "metadata": {},
   "source": [
    "### Hierarchy clustering"
   ]
  },
  {
   "cell_type": "code",
   "execution_count": 2,
   "metadata": {},
   "outputs": [
    {
     "data": {
      "image/png": "[encoded data removed]",
      "text/plain": [
       "<Figure size 432x288 with 1 Axes>"
      ]
     },
     "metadata": {},
     "output_type": "display_data"
    }
   ],
   "source": [
    "import numpy as np\n",
    "from scipy.cluster.hierarchy import linkage,dendrogram\n",
    "import matplotlib.pyplot as plt\n",
    "\n",
    "x=np.array([[1,1],[1.1,1.1],[3,3],[4,4],[3,3.5],[3.5,4]])\n",
    "\n",
    "plt.scatter(x[:,0],x[:,1],s=50)\n",
    "plt.show()"
   ]
  },
  {
   "cell_type": "markdown",
   "metadata": {},
   "source": [
    "#### linkage matrix"
   ]
  },
  {
   "cell_type": "code",
   "execution_count": 3,
   "metadata": {},
   "outputs": [],
   "source": [
    "linkage_matrix=linkage(x,\"single\")\n"
   ]
  },
  {
   "cell_type": "code",
   "execution_count": 4,
   "metadata": {},
   "outputs": [
    {
     "data": {
      "text/plain": [
       "array([[0.        , 1.        , 0.14142136, 2.        ],\n",
       "       [2.        , 4.        , 0.5       , 2.        ],\n",
       "       [3.        , 5.        , 0.5       , 2.        ],\n",
       "       [7.        , 8.        , 0.70710678, 4.        ],\n",
       "       [6.        , 9.        , 2.68700577, 6.        ]])"
      ]
     },
     "execution_count": 4,
     "metadata": {},
     "output_type": "execute_result"
    }
   ],
   "source": [
    "linkage_matrix"
   ]
  },
  {
   "cell_type": "markdown",
   "metadata": {},
   "source": [
    "#### clustering "
   ]
  },
  {
   "cell_type": "code",
   "execution_count": 13,
   "metadata": {},
   "outputs": [
    {
     "data": {
      "image/png": "[encoded data removed]",
      "text/plain": [
       "<Figure size 432x288 with 1 Axes>"
      ]
     },
     "metadata": {},
     "output_type": "display_data"
    }
   ],
   "source": [
    "dend=dendrogram(linkage_matrix,truncate_mode=\"lastp\",p=7)\n",
    "\n",
    "plt.title(\"Hierarchial clustering\")\n",
    "\n",
    "plt.show()\n"
   ]
  },
  {
   "cell_type": "markdown",
   "metadata": {},
   "source": [
    "### SVM"
   ]
  },
  {
   "cell_type": "code",
   "execution_count": 33,
   "metadata": {},
   "outputs": [],
   "source": [
    "import numpy as np\n",
    "from sklearn import svm\n",
    "\n",
    "x =np.array([[1,2],\n",
    "             [5,8],\n",
    "             [1.5,1.8],\n",
    "             [8,8],\n",
    "             [1,0.6],\n",
    "             [9,11]])\n",
    "y = [0,1,0,1,0,1]"
   ]
  },
  {
   "cell_type": "code",
   "execution_count": 42,
   "metadata": {},
   "outputs": [
    {
     "data": {
      "text/plain": [
       "SVC(C=10, cache_size=200, class_weight=None, coef0=0.0,\n",
       "  decision_function_shape='ovr', degree=3, gamma='auto', kernel='rbf',\n",
       "  max_iter=-1, probability=True, random_state=None, shrinking=True,\n",
       "  tol=0.001, verbose=False)"
      ]
     },
     "execution_count": 42,
     "metadata": {},
     "output_type": "execute_result"
    }
   ],
   "source": [
    "clf = svm.SVC(probability=True,C=10)\n",
    "clf.fit(x,y)"
   ]
  },
  {
   "cell_type": "code",
   "execution_count": 43,
   "metadata": {},
   "outputs": [
    {
     "data": {
      "text/plain": [
       "array([[9.99865038e-01, 1.34962065e-04]])"
      ]
     },
     "execution_count": 43,
     "metadata": {},
     "output_type": "execute_result"
    }
   ],
   "source": [
    "clf.predict_proba([[0.58, 0.76]])\n",
    "\n"
   ]
  },
  {
   "cell_type": "code",
   "execution_count": 44,
   "metadata": {},
   "outputs": [
    {
     "data": {
      "text/plain": [
       "array([[0.00891433, 0.99108567]])"
      ]
     },
     "execution_count": 44,
     "metadata": {},
     "output_type": "execute_result"
    }
   ],
   "source": [
    "clf.predict_proba([[10.58, 10.76]])"
   ]
  },
  {
   "cell_type": "code",
   "execution_count": 39,
   "metadata": {},
   "outputs": [
    {
     "data": {
      "text/plain": [
       "array([0, 1])"
      ]
     },
     "execution_count": 39,
     "metadata": {},
     "output_type": "execute_result"
    }
   ],
   "source": [
    "clf.classes_"
   ]
  },
  {
   "cell_type": "markdown",
   "metadata": {},
   "source": [
    "### apriori"
   ]
  },
  {
   "cell_type": "code",
   "execution_count": 1,
   "metadata": {},
   "outputs": [],
   "source": [
    "\n",
    "dataset = [['Milk', 'Onion', 'Nutmeg', 'Kidney Beans', 'Eggs', 'Yogurt'],\n",
    "           ['Dill', 'Onion', 'Nutmeg', 'Kidney Beans', 'Eggs', 'Yogurt'],\n",
    "           ['Milk', 'Apple', 'Kidney Beans', 'Eggs'],\n",
    "           ['Milk', 'Unicorn', 'Corn', 'Kidney Beans', 'Yogurt'],\n",
    "           ['Corn', 'Onion', 'Onion', 'Kidney Beans', 'Ice cream', 'Eggs']]"
   ]
  },
  {
   "cell_type": "code",
   "execution_count": 2,
   "metadata": {},
   "outputs": [
    {
     "data": {
      "text/plain": [
       "[['Milk', 'Onion', 'Nutmeg', 'Kidney Beans', 'Eggs', 'Yogurt'],\n",
       " ['Dill', 'Onion', 'Nutmeg', 'Kidney Beans', 'Eggs', 'Yogurt'],\n",
       " ['Milk', 'Apple', 'Kidney Beans', 'Eggs'],\n",
       " ['Milk', 'Unicorn', 'Corn', 'Kidney Beans', 'Yogurt'],\n",
       " ['Corn', 'Onion', 'Onion', 'Kidney Beans', 'Ice cream', 'Eggs']]"
      ]
     },
     "execution_count": 2,
     "metadata": {},
     "output_type": "execute_result"
    }
   ],
   "source": [
    "dataset"
   ]
  },
  {
   "cell_type": "code",
   "execution_count": 7,
   "metadata": {},
   "outputs": [],
   "source": [
    "from sklearn.preprocessing import LabelEncoder"
   ]
  },
  {
   "cell_type": "code",
   "execution_count": 8,
   "metadata": {},
   "outputs": [],
   "source": [
    "ohe = LabelEncoder()"
   ]
  },
  {
   "cell_type": "code",
   "execution_count": 11,
   "metadata": {},
   "outputs": [
    {
     "data": {
      "text/plain": [
       "array([1, 2, 3, 1, 0])"
      ]
     },
     "execution_count": 11,
     "metadata": {},
     "output_type": "execute_result"
    }
   ],
   "source": [
    "ohe.fit_transform([\"Monday\",\"Tuesday\",\"Wednesday\",\"Monday\",\"Friday\"])"
   ]
  },
  {
   "cell_type": "code",
   "execution_count": 12,
   "metadata": {},
   "outputs": [],
   "source": [
    "import pandas as pd\n",
    "from mlxtend.preprocessing import TransactionEncoder\n",
    "from mlxtend.frequent_patterns import apriori"
   ]
  },
  {
   "cell_type": "code",
   "execution_count": 13,
   "metadata": {},
   "outputs": [],
   "source": [
    "te = TransactionEncoder()\n",
    "te_ary = te.fit(dataset).transform(dataset)\n",
    "\n",
    "df = pd.DataFrame(te_ary, columns=te.columns_)\n"
   ]
  },
  {
   "cell_type": "code",
   "execution_count": 14,
   "metadata": {},
   "outputs": [
    {
     "data": {
      "text/plain": [
       "array([[False, False, False,  True, False,  True,  True,  True,  True,\n",
       "        False,  True],\n",
       "       [False, False,  True,  True, False,  True, False,  True,  True,\n",
       "        False,  True],\n",
       "       [ True, False, False,  True, False,  True,  True, False, False,\n",
       "        False, False],\n",
       "       [False,  True, False, False, False,  True,  True, False, False,\n",
       "         True,  True],\n",
       "       [False,  True, False,  True,  True,  True, False, False,  True,\n",
       "        False, False]])"
      ]
     },
     "execution_count": 14,
     "metadata": {},
     "output_type": "execute_result"
    }
   ],
   "source": [
    "te_ary"
   ]
  },
  {
   "cell_type": "code",
   "execution_count": 15,
   "metadata": {},
   "outputs": [
    {
     "data": {
      "text/html": [
       "<div>\n",
       "<style scoped>\n",
       "    .dataframe tbody tr th:only-of-type {\n",
       "        vertical-align: middle;\n",
       "    }\n",
       "\n",
       "    .dataframe tbody tr th {\n",
       "        vertical-align: top;\n",
       "    }\n",
       "\n",
       "    .dataframe thead th {\n",
       "        text-align: right;\n",
       "    }\n",
       "</style>\n",
       "<table border=\"1\" class=\"dataframe\">\n",
       "  <thead>\n",
       "    <tr style=\"text-align: right;\">\n",
       "      <th></th>\n",
       "      <th>Apple</th>\n",
       "      <th>Corn</th>\n",
       "      <th>Dill</th>\n",
       "      <th>Eggs</th>\n",
       "      <th>Ice cream</th>\n",
       "      <th>Kidney Beans</th>\n",
       "      <th>Milk</th>\n",
       "      <th>Nutmeg</th>\n",
       "      <th>Onion</th>\n",
       "      <th>Unicorn</th>\n",
       "      <th>Yogurt</th>\n",
       "    </tr>\n",
       "  </thead>\n",
       "  <tbody>\n",
       "    <tr>\n",
       "      <th>0</th>\n",
       "      <td>False</td>\n",
       "      <td>False</td>\n",
       "      <td>False</td>\n",
       "      <td>True</td>\n",
       "      <td>False</td>\n",
       "      <td>True</td>\n",
       "      <td>True</td>\n",
       "      <td>True</td>\n",
       "      <td>True</td>\n",
       "      <td>False</td>\n",
       "      <td>True</td>\n",
       "    </tr>\n",
       "    <tr>\n",
       "      <th>1</th>\n",
       "      <td>False</td>\n",
       "      <td>False</td>\n",
       "      <td>True</td>\n",
       "      <td>True</td>\n",
       "      <td>False</td>\n",
       "      <td>True</td>\n",
       "      <td>False</td>\n",
       "      <td>True</td>\n",
       "      <td>True</td>\n",
       "      <td>False</td>\n",
       "      <td>True</td>\n",
       "    </tr>\n",
       "    <tr>\n",
       "      <th>2</th>\n",
       "      <td>True</td>\n",
       "      <td>False</td>\n",
       "      <td>False</td>\n",
       "      <td>True</td>\n",
       "      <td>False</td>\n",
       "      <td>True</td>\n",
       "      <td>True</td>\n",
       "      <td>False</td>\n",
       "      <td>False</td>\n",
       "      <td>False</td>\n",
       "      <td>False</td>\n",
       "    </tr>\n",
       "    <tr>\n",
       "      <th>3</th>\n",
       "      <td>False</td>\n",
       "      <td>True</td>\n",
       "      <td>False</td>\n",
       "      <td>False</td>\n",
       "      <td>False</td>\n",
       "      <td>True</td>\n",
       "      <td>True</td>\n",
       "      <td>False</td>\n",
       "      <td>False</td>\n",
       "      <td>True</td>\n",
       "      <td>True</td>\n",
       "    </tr>\n",
       "    <tr>\n",
       "      <th>4</th>\n",
       "      <td>False</td>\n",
       "      <td>True</td>\n",
       "      <td>False</td>\n",
       "      <td>True</td>\n",
       "      <td>True</td>\n",
       "      <td>True</td>\n",
       "      <td>False</td>\n",
       "      <td>False</td>\n",
       "      <td>True</td>\n",
       "      <td>False</td>\n",
       "      <td>False</td>\n",
       "    </tr>\n",
       "  </tbody>\n",
       "</table>\n",
       "</div>"
      ],
      "text/plain": [
       "   Apple   Corn   Dill   Eggs  Ice cream   ...     Milk  Nutmeg  Onion  Unicorn  Yogurt\n",
       "0  False  False  False   True      False   ...     True    True   True    False    True\n",
       "1  False  False   True   True      False   ...    False    True   True    False    True\n",
       "2   True  False  False   True      False   ...     True   False  False    False   False\n",
       "3  False   True  False  False      False   ...     True   False  False     True    True\n",
       "4  False   True  False   True       True   ...    False   False   True    False   False\n",
       "\n",
       "[5 rows x 11 columns]"
      ]
     },
     "execution_count": 15,
     "metadata": {},
     "output_type": "execute_result"
    }
   ],
   "source": [
    "df"
   ]
  },
  {
   "cell_type": "code",
   "execution_count": 22,
   "metadata": {},
   "outputs": [],
   "source": [
    "frequent_itemsets = apriori(df, min_support=0.6, use_colnames=True)"
   ]
  },
  {
   "cell_type": "code",
   "execution_count": 23,
   "metadata": {},
   "outputs": [
    {
     "data": {
      "text/html": [
       "<div>\n",
       "<style scoped>\n",
       "    .dataframe tbody tr th:only-of-type {\n",
       "        vertical-align: middle;\n",
       "    }\n",
       "\n",
       "    .dataframe tbody tr th {\n",
       "        vertical-align: top;\n",
       "    }\n",
       "\n",
       "    .dataframe thead th {\n",
       "        text-align: right;\n",
       "    }\n",
       "</style>\n",
       "<table border=\"1\" class=\"dataframe\">\n",
       "  <thead>\n",
       "    <tr style=\"text-align: right;\">\n",
       "      <th></th>\n",
       "      <th>support</th>\n",
       "      <th>itemsets</th>\n",
       "    </tr>\n",
       "  </thead>\n",
       "  <tbody>\n",
       "    <tr>\n",
       "      <th>0</th>\n",
       "      <td>0.8</td>\n",
       "      <td>(Eggs)</td>\n",
       "    </tr>\n",
       "    <tr>\n",
       "      <th>1</th>\n",
       "      <td>1.0</td>\n",
       "      <td>(Kidney Beans)</td>\n",
       "    </tr>\n",
       "    <tr>\n",
       "      <th>2</th>\n",
       "      <td>0.6</td>\n",
       "      <td>(Milk)</td>\n",
       "    </tr>\n",
       "    <tr>\n",
       "      <th>3</th>\n",
       "      <td>0.6</td>\n",
       "      <td>(Onion)</td>\n",
       "    </tr>\n",
       "    <tr>\n",
       "      <th>4</th>\n",
       "      <td>0.6</td>\n",
       "      <td>(Yogurt)</td>\n",
       "    </tr>\n",
       "    <tr>\n",
       "      <th>5</th>\n",
       "      <td>0.8</td>\n",
       "      <td>(Kidney Beans, Eggs)</td>\n",
       "    </tr>\n",
       "    <tr>\n",
       "      <th>6</th>\n",
       "      <td>0.6</td>\n",
       "      <td>(Eggs, Onion)</td>\n",
       "    </tr>\n",
       "    <tr>\n",
       "      <th>7</th>\n",
       "      <td>0.6</td>\n",
       "      <td>(Kidney Beans, Milk)</td>\n",
       "    </tr>\n",
       "    <tr>\n",
       "      <th>8</th>\n",
       "      <td>0.6</td>\n",
       "      <td>(Kidney Beans, Onion)</td>\n",
       "    </tr>\n",
       "    <tr>\n",
       "      <th>9</th>\n",
       "      <td>0.6</td>\n",
       "      <td>(Kidney Beans, Yogurt)</td>\n",
       "    </tr>\n",
       "    <tr>\n",
       "      <th>10</th>\n",
       "      <td>0.6</td>\n",
       "      <td>(Kidney Beans, Eggs, Onion)</td>\n",
       "    </tr>\n",
       "  </tbody>\n",
       "</table>\n",
       "</div>"
      ],
      "text/plain": [
       "    support                     itemsets\n",
       "0       0.8                       (Eggs)\n",
       "1       1.0               (Kidney Beans)\n",
       "2       0.6                       (Milk)\n",
       "3       0.6                      (Onion)\n",
       "4       0.6                     (Yogurt)\n",
       "5       0.8         (Kidney Beans, Eggs)\n",
       "6       0.6                (Eggs, Onion)\n",
       "7       0.6         (Kidney Beans, Milk)\n",
       "8       0.6        (Kidney Beans, Onion)\n",
       "9       0.6       (Kidney Beans, Yogurt)\n",
       "10      0.6  (Kidney Beans, Eggs, Onion)"
      ]
     },
     "execution_count": 23,
     "metadata": {},
     "output_type": "execute_result"
    }
   ],
   "source": [
    "frequent_itemsets"
   ]
  },
  {
   "cell_type": "markdown",
   "metadata": {},
   "source": [
    "### Naive baye's"
   ]
  },
  {
   "cell_type": "code",
   "execution_count": 21,
   "metadata": {},
   "outputs": [
    {
     "name": "stdout",
     "output_type": "stream",
     "text": [
      "            class  petal_length  petal_width  sepal_length  sepal_width\n",
      "0  Iris-virginica           5.5          1.8           6.4          3.1\n",
      "1  Iris-virginica           5.9          2.3           6.8          3.2\n",
      "2  Iris-virginica           5.4          2.3           6.2          3.4\n",
      "3  Iris-virginica           4.8          1.8           6.0          3.0\n",
      "4  Iris-virginica           5.1          2.3           6.9          3.1\n"
     ]
    }
   ],
   "source": [
    "import pandas as pd\n",
    "from sklearn.naive_bayes import GaussianNB\n",
    "from sklearn.tree import DecisionTreeClassifier\n",
    "data=pd.read_csv(\"./train.csv\")\n",
    "\n",
    "print (data.head())"
   ]
  },
  {
   "cell_type": "code",
   "execution_count": 2,
   "metadata": {},
   "outputs": [],
   "source": [
    "features=[\"outlook\",\"temperature\",\"humidity\",\"wind\"]\n",
    "\n",
    "x=data[features]\n",
    "\n",
    "y=data.play\n"
   ]
  },
  {
   "cell_type": "code",
   "execution_count": 3,
   "metadata": {},
   "outputs": [
    {
     "data": {
      "text/plain": [
       "0      no\n",
       "1      no\n",
       "2     yes\n",
       "3     yes\n",
       "4     yes\n",
       "5      no\n",
       "6     yes\n",
       "7      no\n",
       "8     yes\n",
       "9     yes\n",
       "10    yes\n",
       "11    yes\n",
       "12    yes\n",
       "13     no\n",
       "Name: play, dtype: object"
      ]
     },
     "execution_count": 3,
     "metadata": {},
     "output_type": "execute_result"
    }
   ],
   "source": [
    "y"
   ]
  },
  {
   "cell_type": "code",
   "execution_count": 5,
   "metadata": {},
   "outputs": [
    {
     "data": {
      "text/plain": [
       "GaussianNB(priors=None)"
      ]
     },
     "execution_count": 5,
     "metadata": {},
     "output_type": "execute_result"
    }
   ],
   "source": [
    "nb_model = GaussianNB()\n",
    "\n",
    "nb_model.fit(x, y)"
   ]
  },
  {
   "cell_type": "code",
   "execution_count": 6,
   "metadata": {},
   "outputs": [
    {
     "name": "stdout",
     "output_type": "stream",
     "text": [
      "[[0.82612248 0.17387752]]\n",
      "['no']\n"
     ]
    }
   ],
   "source": [
    "preds = nb_model.predict([[2,1,1,1]])\n",
    "\n",
    "print(nb_model.predict_proba([[2, 1, 1, 1]]))\n",
    "\n",
    "print (preds)"
   ]
  },
  {
   "cell_type": "code",
   "execution_count": 7,
   "metadata": {
    "scrolled": true
   },
   "outputs": [
    {
     "data": {
      "text/plain": [
       "array([5., 9.])"
      ]
     },
     "execution_count": 7,
     "metadata": {},
     "output_type": "execute_result"
    }
   ],
   "source": [
    "nb_model.class_count_"
   ]
  },
  {
   "cell_type": "markdown",
   "metadata": {},
   "source": [
    "### Decision tree"
   ]
  },
  {
   "cell_type": "code",
   "execution_count": 13,
   "metadata": {},
   "outputs": [],
   "source": [
    "model = DecisionTreeClassifier(criterion='entropy')"
   ]
  },
  {
   "cell_type": "code",
   "execution_count": 14,
   "metadata": {},
   "outputs": [
    {
     "data": {
      "text/plain": [
       "DecisionTreeClassifier(class_weight=None, criterion='entropy', max_depth=None,\n",
       "            max_features=None, max_leaf_nodes=None,\n",
       "            min_impurity_decrease=0.0, min_impurity_split=None,\n",
       "            min_samples_leaf=1, min_samples_split=2,\n",
       "            min_weight_fraction_leaf=0.0, presort=False, random_state=None,\n",
       "            splitter='best')"
      ]
     },
     "execution_count": 14,
     "metadata": {},
     "output_type": "execute_result"
    }
   ],
   "source": [
    "\n",
    "model.fit(x,y)\n"
   ]
  },
  {
   "cell_type": "code",
   "execution_count": 15,
   "metadata": {},
   "outputs": [
    {
     "name": "stdout",
     "output_type": "stream",
     "text": [
      "[[1. 0.]]\n",
      "['no']\n"
     ]
    }
   ],
   "source": [
    "preds = model.predict([[2,1,1,1]])\n",
    "\n",
    "print(model.predict_proba([[2, 1, 1, 1]]))\n",
    "\n",
    "print (preds)"
   ]
  },
  {
   "cell_type": "code",
   "execution_count": 16,
   "metadata": {},
   "outputs": [
    {
     "data": {
      "text/plain": [
       "array(['no', 'yes'], dtype=object)"
      ]
     },
     "execution_count": 16,
     "metadata": {},
     "output_type": "execute_result"
    }
   ],
   "source": [
    "model.classes_"
   ]
  },
  {
   "cell_type": "code",
   "execution_count": 17,
   "metadata": {},
   "outputs": [
    {
     "data": {
      "text/plain": [
       "array([0.53466306, 0.        , 0.16147801, 0.30385893])"
      ]
     },
     "execution_count": 17,
     "metadata": {},
     "output_type": "execute_result"
    }
   ],
   "source": [
    "model.feature_importances_"
   ]
  },
  {
   "cell_type": "code",
   "execution_count": 18,
   "metadata": {},
   "outputs": [
    {
     "data": {
      "text/plain": [
       "2"
      ]
     },
     "execution_count": 18,
     "metadata": {},
     "output_type": "execute_result"
    }
   ],
   "source": [
    "model.n_classes_"
   ]
  },
  {
   "cell_type": "code",
   "execution_count": 19,
   "metadata": {},
   "outputs": [
    {
     "data": {
      "text/plain": [
       "4"
      ]
     },
     "execution_count": 19,
     "metadata": {},
     "output_type": "execute_result"
    }
   ],
   "source": [
    "model.n_features_"
   ]
  },
  {
   "cell_type": "code",
   "execution_count": 20,
   "metadata": {},
   "outputs": [
    {
     "data": {
      "text/plain": [
       "1"
      ]
     },
     "execution_count": 20,
     "metadata": {},
     "output_type": "execute_result"
    }
   ],
   "source": [
    "model.n_outputs_"
   ]
  },
  {
   "cell_type": "markdown",
   "metadata": {},
   "source": [
    "### TF_IDF topic modeling"
   ]
  },
  {
   "cell_type": "code",
   "execution_count": 1,
   "metadata": {},
   "outputs": [
    {
     "data": {
      "text/html": [
       "<div>\n",
       "<style scoped>\n",
       "    .dataframe tbody tr th:only-of-type {\n",
       "        vertical-align: middle;\n",
       "    }\n",
       "\n",
       "    .dataframe tbody tr th {\n",
       "        vertical-align: top;\n",
       "    }\n",
       "\n",
       "    .dataframe thead th {\n",
       "        text-align: right;\n",
       "    }\n",
       "</style>\n",
       "<table border=\"1\" class=\"dataframe\">\n",
       "  <thead>\n",
       "    <tr style=\"text-align: right;\">\n",
       "      <th></th>\n",
       "      <th>2018</th>\n",
       "      <th>champions</th>\n",
       "      <th>chennai</th>\n",
       "      <th>crowned</th>\n",
       "      <th>final</th>\n",
       "      <th>ipl</th>\n",
       "      <th>kings</th>\n",
       "      <th>returns</th>\n",
       "      <th>super</th>\n",
       "      <th>the</th>\n",
       "      <th>won</th>\n",
       "    </tr>\n",
       "  </thead>\n",
       "  <tbody>\n",
       "    <tr>\n",
       "      <th>0</th>\n",
       "      <td>0.333407</td>\n",
       "      <td>0.00000</td>\n",
       "      <td>0.258921</td>\n",
       "      <td>0.00000</td>\n",
       "      <td>0.438391</td>\n",
       "      <td>0.333407</td>\n",
       "      <td>0.258921</td>\n",
       "      <td>0.00000</td>\n",
       "      <td>0.258921</td>\n",
       "      <td>0.438391</td>\n",
       "      <td>0.438391</td>\n",
       "    </tr>\n",
       "    <tr>\n",
       "      <th>1</th>\n",
       "      <td>0.370954</td>\n",
       "      <td>0.48776</td>\n",
       "      <td>0.288079</td>\n",
       "      <td>0.48776</td>\n",
       "      <td>0.000000</td>\n",
       "      <td>0.370954</td>\n",
       "      <td>0.288079</td>\n",
       "      <td>0.00000</td>\n",
       "      <td>0.288079</td>\n",
       "      <td>0.000000</td>\n",
       "      <td>0.000000</td>\n",
       "    </tr>\n",
       "    <tr>\n",
       "      <th>2</th>\n",
       "      <td>0.000000</td>\n",
       "      <td>0.00000</td>\n",
       "      <td>0.412859</td>\n",
       "      <td>0.00000</td>\n",
       "      <td>0.000000</td>\n",
       "      <td>0.000000</td>\n",
       "      <td>0.412859</td>\n",
       "      <td>0.69903</td>\n",
       "      <td>0.412859</td>\n",
       "      <td>0.000000</td>\n",
       "      <td>0.000000</td>\n",
       "    </tr>\n",
       "  </tbody>\n",
       "</table>\n",
       "</div>"
      ],
      "text/plain": [
       "       2018  champions   chennai  crowned     final       ipl     kings  \\\n",
       "0  0.333407    0.00000  0.258921  0.00000  0.438391  0.333407  0.258921   \n",
       "1  0.370954    0.48776  0.288079  0.48776  0.000000  0.370954  0.288079   \n",
       "2  0.000000    0.00000  0.412859  0.00000  0.000000  0.000000  0.412859   \n",
       "\n",
       "   returns     super       the       won  \n",
       "0  0.00000  0.258921  0.438391  0.438391  \n",
       "1  0.00000  0.288079  0.000000  0.000000  \n",
       "2  0.69903  0.412859  0.000000  0.000000  "
      ]
     },
     "execution_count": 1,
     "metadata": {},
     "output_type": "execute_result"
    }
   ],
   "source": [
    "from sklearn.feature_extraction.text import TfidfVectorizer\n",
    "import pandas as pd\n",
    "texts = [\"Chennai Super Kings won the final 2018 IPL\", \"Chennai Super Kings Crowned IPL 2018 Champions\",\"Chennai super kings returns\"]\n",
    "tfidf = TfidfVectorizer()\n",
    "features = tfidf.fit_transform(texts)\n",
    "pd.DataFrame(features.todense(),columns=tfidf.get_feature_names())"
   ]
  },
  {
   "cell_type": "code",
   "execution_count": 2,
   "metadata": {},
   "outputs": [],
   "source": [
    "from sklearn.feature_extraction.text import TfidfVectorizer\n",
    "import pandas as pd"
   ]
  },
  {
   "cell_type": "code",
   "execution_count": 29,
   "metadata": {},
   "outputs": [
    {
     "data": {
      "text/plain": [
       "['Chennai Super Kings won the final 2018 IPL',\n",
       " 'Chennai Super Kings Crowned IPL 2018 Champions',\n",
       " 'Chennai super kings returns']"
      ]
     },
     "execution_count": 29,
     "metadata": {},
     "output_type": "execute_result"
    }
   ],
   "source": [
    "texts"
   ]
  },
  {
   "cell_type": "code",
   "execution_count": 60,
   "metadata": {},
   "outputs": [],
   "source": [
    "tfidf = TfidfVectorizer(min_df=1,max_df=3)"
   ]
  },
  {
   "cell_type": "code",
   "execution_count": 34,
   "metadata": {},
   "outputs": [],
   "source": [
    "vect = tfidf.fit_transform([' '.join(texts)])"
   ]
  },
  {
   "cell_type": "code",
   "execution_count": 35,
   "metadata": {},
   "outputs": [
    {
     "data": {
      "text/plain": [
       "matrix([[0.31234752, 0.15617376, 0.46852129, 0.15617376, 0.15617376,\n",
       "         0.31234752, 0.46852129, 0.15617376, 0.46852129, 0.15617376,\n",
       "         0.15617376]])"
      ]
     },
     "execution_count": 35,
     "metadata": {},
     "output_type": "execute_result"
    }
   ],
   "source": [
    "vect.todense()"
   ]
  },
  {
   "cell_type": "code",
   "execution_count": 36,
   "metadata": {},
   "outputs": [
    {
     "data": {
      "text/html": [
       "<div>\n",
       "<style scoped>\n",
       "    .dataframe tbody tr th:only-of-type {\n",
       "        vertical-align: middle;\n",
       "    }\n",
       "\n",
       "    .dataframe tbody tr th {\n",
       "        vertical-align: top;\n",
       "    }\n",
       "\n",
       "    .dataframe thead th {\n",
       "        text-align: right;\n",
       "    }\n",
       "</style>\n",
       "<table border=\"1\" class=\"dataframe\">\n",
       "  <thead>\n",
       "    <tr style=\"text-align: right;\">\n",
       "      <th></th>\n",
       "      <th>2018</th>\n",
       "      <th>champions</th>\n",
       "      <th>chennai</th>\n",
       "      <th>crowned</th>\n",
       "      <th>final</th>\n",
       "      <th>ipl</th>\n",
       "      <th>kings</th>\n",
       "      <th>returns</th>\n",
       "      <th>super</th>\n",
       "      <th>the</th>\n",
       "      <th>won</th>\n",
       "    </tr>\n",
       "  </thead>\n",
       "  <tbody>\n",
       "    <tr>\n",
       "      <th>0</th>\n",
       "      <td>0.312348</td>\n",
       "      <td>0.156174</td>\n",
       "      <td>0.468521</td>\n",
       "      <td>0.156174</td>\n",
       "      <td>0.156174</td>\n",
       "      <td>0.312348</td>\n",
       "      <td>0.468521</td>\n",
       "      <td>0.156174</td>\n",
       "      <td>0.468521</td>\n",
       "      <td>0.156174</td>\n",
       "      <td>0.156174</td>\n",
       "    </tr>\n",
       "  </tbody>\n",
       "</table>\n",
       "</div>"
      ],
      "text/plain": [
       "       2018  champions   chennai   crowned     final       ipl     kings  \\\n",
       "0  0.312348   0.156174  0.468521  0.156174  0.156174  0.312348  0.468521   \n",
       "\n",
       "    returns     super       the       won  \n",
       "0  0.156174  0.468521  0.156174  0.156174  "
      ]
     },
     "execution_count": 36,
     "metadata": {},
     "output_type": "execute_result"
    }
   ],
   "source": [
    "pd.DataFrame(vect.todense(),columns=tfidf.get_feature_names())"
   ]
  },
  {
   "cell_type": "code",
   "execution_count": 37,
   "metadata": {},
   "outputs": [],
   "source": [
    "docA = \"car driven road\"\n",
    "docB = \"truck  driven highway\""
   ]
  },
  {
   "cell_type": "code",
   "execution_count": 38,
   "metadata": {},
   "outputs": [],
   "source": [
    "response = tfidf.fit_transform([' '.join([docA, docB])])"
   ]
  },
  {
   "cell_type": "code",
   "execution_count": 39,
   "metadata": {},
   "outputs": [
    {
     "name": "stdout",
     "output_type": "stream",
     "text": [
      "car  -  0.35355339059327373\n",
      "driven  -  0.7071067811865475\n",
      "road  -  0.35355339059327373\n",
      "truck  -  0.35355339059327373\n",
      "highway  -  0.35355339059327373\n"
     ]
    }
   ],
   "source": [
    "feature_names = tfidf.get_feature_names()\n",
    "for col in response.nonzero()[1]:\n",
    "    print (feature_names[col], ' - ', response[0, col])"
   ]
  },
  {
   "cell_type": "code",
   "execution_count": 20,
   "metadata": {},
   "outputs": [
    {
     "data": {
      "text/plain": [
       "{'analyzer': 'word',\n",
       " 'binary': False,\n",
       " 'decode_error': 'strict',\n",
       " 'dtype': numpy.int64,\n",
       " 'encoding': 'utf-8',\n",
       " 'input': 'content',\n",
       " 'lowercase': True,\n",
       " 'max_df': 1.0,\n",
       " 'max_features': None,\n",
       " 'min_df': 1,\n",
       " 'ngram_range': (1, 1),\n",
       " 'norm': 'l2',\n",
       " 'preprocessor': None,\n",
       " 'smooth_idf': True,\n",
       " 'stop_words': None,\n",
       " 'strip_accents': None,\n",
       " 'sublinear_tf': False,\n",
       " 'token_pattern': '(?u)\\\\b\\\\w\\\\w+\\\\b',\n",
       " 'tokenizer': None,\n",
       " 'use_idf': True,\n",
       " 'vocabulary': None}"
      ]
     },
     "execution_count": 20,
     "metadata": {},
     "output_type": "execute_result"
    }
   ],
   "source": [
    "tfidf.get_params()"
   ]
  },
  {
   "cell_type": "code",
   "execution_count": 30,
   "metadata": {},
   "outputs": [
    {
     "data": {
      "text/plain": [
       "1.0"
      ]
     },
     "execution_count": 30,
     "metadata": {},
     "output_type": "execute_result"
    }
   ],
   "source": [
    "tfidf.max_df"
   ]
  },
  {
   "cell_type": "markdown",
   "metadata": {},
   "source": [
    "### LDA topic modeling"
   ]
  },
  {
   "cell_type": "code",
   "execution_count": 40,
   "metadata": {},
   "outputs": [],
   "source": [
    "import string\n",
    "\n",
    "import gensim\n",
    "from gensim import corpora\n",
    "from nltk.corpus import stopwords\n",
    "from nltk.stem.wordnet import WordNetLemmatizer\n",
    "\n",
    "stop = set(stopwords.words('english'))\n",
    "exclude = set(string.punctuation) \n",
    "lemma = WordNetLemmatizer()\n"
   ]
  },
  {
   "cell_type": "code",
   "execution_count": 81,
   "metadata": {},
   "outputs": [],
   "source": [
    "def clean(doc):\n",
    "    print(doc)\n",
    "    stop_free = \" \".join([i for i in doc.lower().split() if i not in stop])\n",
    "    punc_free = ''.join(ch for ch in stop_free if ch not in exclude)\n",
    "    normalized = \" \".join(lemma.lemmatize(word) for word in punc_free.split())\n",
    "    print(normalized)\n",
    "    return normalized.split()"
   ]
  },
  {
   "cell_type": "code",
   "execution_count": 82,
   "metadata": {},
   "outputs": [],
   "source": [
    "doc1 = \"Sugar is bad to consume. My sister likes to have sugar, but not my father.\"\n",
    "doc2 = \"My father spends a lot of time driving my sister around to dance practice.\"\n",
    "doc3 = \"Doctors suggest that driving may cause increased stress and blood pressure.\"\n",
    "doc4 = \"Sometimes I feel pressure to perform well at school, but my father never seems to drive my sister to do better.\"\n",
    "doc5 = \"Health experts say that Sugar is not good for your lifestyle.\"\n",
    "\n",
    "doc_complete = [doc1, doc2, doc3, doc4, doc5]"
   ]
  },
  {
   "cell_type": "code",
   "execution_count": 83,
   "metadata": {},
   "outputs": [
    {
     "data": {
      "text/plain": [
       "['Sugar is bad to consume. My sister likes to have sugar, but not my father.',\n",
       " 'My father spends a lot of time driving my sister around to dance practice.',\n",
       " 'Doctors suggest that driving may cause increased stress and blood pressure.',\n",
       " 'Sometimes I feel pressure to perform well at school, but my father never seems to drive my sister to do better.',\n",
       " 'Health experts say that Sugar is not good for your lifestyle.']"
      ]
     },
     "execution_count": 83,
     "metadata": {},
     "output_type": "execute_result"
    }
   ],
   "source": [
    "doc_complete"
   ]
  },
  {
   "cell_type": "code",
   "execution_count": 84,
   "metadata": {},
   "outputs": [
    {
     "name": "stdout",
     "output_type": "stream",
     "text": [
      "Sugar is bad to consume. My sister likes to have sugar, but not my father.\n",
      "sugar bad consume sister like sugar father\n",
      "My father spends a lot of time driving my sister around to dance practice.\n",
      "father spends lot time driving sister around dance practice\n",
      "Doctors suggest that driving may cause increased stress and blood pressure.\n",
      "doctor suggest driving may cause increased stress blood pressure\n",
      "Sometimes I feel pressure to perform well at school, but my father never seems to drive my sister to do better.\n",
      "sometimes feel pressure perform well school father never seems drive sister better\n",
      "Health experts say that Sugar is not good for your lifestyle.\n",
      "health expert say sugar good lifestyle\n"
     ]
    }
   ],
   "source": [
    "doc_clean = list(map(clean,doc_complete))"
   ]
  },
  {
   "cell_type": "code",
   "execution_count": 85,
   "metadata": {},
   "outputs": [
    {
     "data": {
      "text/plain": [
       "[['sugar', 'bad', 'consume', 'sister', 'like', 'sugar', 'father'],\n",
       " ['father',\n",
       "  'spends',\n",
       "  'lot',\n",
       "  'time',\n",
       "  'driving',\n",
       "  'sister',\n",
       "  'around',\n",
       "  'dance',\n",
       "  'practice'],\n",
       " ['doctor',\n",
       "  'suggest',\n",
       "  'driving',\n",
       "  'may',\n",
       "  'cause',\n",
       "  'increased',\n",
       "  'stress',\n",
       "  'blood',\n",
       "  'pressure'],\n",
       " ['sometimes',\n",
       "  'feel',\n",
       "  'pressure',\n",
       "  'perform',\n",
       "  'well',\n",
       "  'school',\n",
       "  'father',\n",
       "  'never',\n",
       "  'seems',\n",
       "  'drive',\n",
       "  'sister',\n",
       "  'better'],\n",
       " ['health', 'expert', 'say', 'sugar', 'good', 'lifestyle']]"
      ]
     },
     "execution_count": 85,
     "metadata": {},
     "output_type": "execute_result"
    }
   ],
   "source": [
    "doc_clean"
   ]
  },
  {
   "cell_type": "code",
   "execution_count": 86,
   "metadata": {},
   "outputs": [
    {
     "data": {
      "text/plain": [
       "[(51, '0.029*\"feel\" + 0.029*\"better\" + 0.029*\"never\"'),\n",
       " (86, '0.029*\"feel\" + 0.029*\"better\" + 0.029*\"never\"')]"
      ]
     },
     "execution_count": 86,
     "metadata": {},
     "output_type": "execute_result"
    }
   ],
   "source": [
    "dictionary = corpora.Dictionary(doc_clean)\n",
    "\n",
    "doc_term_matrix = [dictionary.doc2bow(doc) for doc in doc_clean]\n",
    "\n",
    "Lda = gensim.models.ldamodel.LdaModel\n",
    "\n",
    "ldamodel = Lda(doc_term_matrix, id2word = dictionary, passes=50)\n",
    "\n",
    "ldamodel.print_topics(num_topics=2, num_words=3)"
   ]
  },
  {
   "cell_type": "code",
   "execution_count": 61,
   "metadata": {},
   "outputs": [],
   "source": [
    "tfidf2 = TfidfVectorizer()"
   ]
  },
  {
   "cell_type": "code",
   "execution_count": 77,
   "metadata": {},
   "outputs": [],
   "source": [
    "model = tfidf2.fit_transform(doc_clean)"
   ]
  },
  {
   "cell_type": "code",
   "execution_count": 78,
   "metadata": {},
   "outputs": [],
   "source": [
    "dff = pd.DataFrame(model.todense(),columns=tfidf2.get_feature_names())"
   ]
  },
  {
   "cell_type": "code",
   "execution_count": 79,
   "metadata": {},
   "outputs": [
    {
     "data": {
      "text/html": [
       "<div>\n",
       "<style scoped>\n",
       "    .dataframe tbody tr th:only-of-type {\n",
       "        vertical-align: middle;\n",
       "    }\n",
       "\n",
       "    .dataframe tbody tr th {\n",
       "        vertical-align: top;\n",
       "    }\n",
       "\n",
       "    .dataframe thead th {\n",
       "        text-align: right;\n",
       "    }\n",
       "</style>\n",
       "<table border=\"1\" class=\"dataframe\">\n",
       "  <thead>\n",
       "    <tr style=\"text-align: right;\">\n",
       "      <th></th>\n",
       "      <th>around</th>\n",
       "      <th>bad</th>\n",
       "      <th>better</th>\n",
       "      <th>blood</th>\n",
       "      <th>cause</th>\n",
       "      <th>consume</th>\n",
       "      <th>dance</th>\n",
       "      <th>doctor</th>\n",
       "      <th>drive</th>\n",
       "      <th>driving</th>\n",
       "      <th>...</th>\n",
       "      <th>school</th>\n",
       "      <th>seems</th>\n",
       "      <th>sister</th>\n",
       "      <th>sometimes</th>\n",
       "      <th>spends</th>\n",
       "      <th>stress</th>\n",
       "      <th>sugar</th>\n",
       "      <th>suggest</th>\n",
       "      <th>time</th>\n",
       "      <th>well</th>\n",
       "    </tr>\n",
       "  </thead>\n",
       "  <tbody>\n",
       "    <tr>\n",
       "      <th>count</th>\n",
       "      <td>5.000000</td>\n",
       "      <td>5.000000</td>\n",
       "      <td>5.000000</td>\n",
       "      <td>5.000000</td>\n",
       "      <td>5.000000</td>\n",
       "      <td>5.000000</td>\n",
       "      <td>5.000000</td>\n",
       "      <td>5.000000</td>\n",
       "      <td>5.000000</td>\n",
       "      <td>5.000000</td>\n",
       "      <td>...</td>\n",
       "      <td>5.000000</td>\n",
       "      <td>5.000000</td>\n",
       "      <td>5.000000</td>\n",
       "      <td>5.000000</td>\n",
       "      <td>5.000000</td>\n",
       "      <td>5.000000</td>\n",
       "      <td>5.000000</td>\n",
       "      <td>5.000000</td>\n",
       "      <td>5.000000</td>\n",
       "      <td>5.000000</td>\n",
       "    </tr>\n",
       "    <tr>\n",
       "      <th>mean</th>\n",
       "      <td>0.072797</td>\n",
       "      <td>0.078442</td>\n",
       "      <td>0.061581</td>\n",
       "      <td>0.069413</td>\n",
       "      <td>0.069413</td>\n",
       "      <td>0.078442</td>\n",
       "      <td>0.072797</td>\n",
       "      <td>0.069413</td>\n",
       "      <td>0.061581</td>\n",
       "      <td>0.114735</td>\n",
       "      <td>...</td>\n",
       "      <td>0.061581</td>\n",
       "      <td>0.061581</td>\n",
       "      <td>0.142528</td>\n",
       "      <td>0.061581</td>\n",
       "      <td>0.072797</td>\n",
       "      <td>0.069413</td>\n",
       "      <td>0.194452</td>\n",
       "      <td>0.069413</td>\n",
       "      <td>0.072797</td>\n",
       "      <td>0.061581</td>\n",
       "    </tr>\n",
       "    <tr>\n",
       "      <th>std</th>\n",
       "      <td>0.162780</td>\n",
       "      <td>0.175402</td>\n",
       "      <td>0.137699</td>\n",
       "      <td>0.155213</td>\n",
       "      <td>0.155213</td>\n",
       "      <td>0.175402</td>\n",
       "      <td>0.162780</td>\n",
       "      <td>0.155213</td>\n",
       "      <td>0.137699</td>\n",
       "      <td>0.157181</td>\n",
       "      <td>...</td>\n",
       "      <td>0.137699</td>\n",
       "      <td>0.137699</td>\n",
       "      <td>0.131688</td>\n",
       "      <td>0.137699</td>\n",
       "      <td>0.162780</td>\n",
       "      <td>0.155213</td>\n",
       "      <td>0.285767</td>\n",
       "      <td>0.155213</td>\n",
       "      <td>0.162780</td>\n",
       "      <td>0.137699</td>\n",
       "    </tr>\n",
       "    <tr>\n",
       "      <th>min</th>\n",
       "      <td>0.000000</td>\n",
       "      <td>0.000000</td>\n",
       "      <td>0.000000</td>\n",
       "      <td>0.000000</td>\n",
       "      <td>0.000000</td>\n",
       "      <td>0.000000</td>\n",
       "      <td>0.000000</td>\n",
       "      <td>0.000000</td>\n",
       "      <td>0.000000</td>\n",
       "      <td>0.000000</td>\n",
       "      <td>...</td>\n",
       "      <td>0.000000</td>\n",
       "      <td>0.000000</td>\n",
       "      <td>0.000000</td>\n",
       "      <td>0.000000</td>\n",
       "      <td>0.000000</td>\n",
       "      <td>0.000000</td>\n",
       "      <td>0.000000</td>\n",
       "      <td>0.000000</td>\n",
       "      <td>0.000000</td>\n",
       "      <td>0.000000</td>\n",
       "    </tr>\n",
       "    <tr>\n",
       "      <th>25%</th>\n",
       "      <td>0.000000</td>\n",
       "      <td>0.000000</td>\n",
       "      <td>0.000000</td>\n",
       "      <td>0.000000</td>\n",
       "      <td>0.000000</td>\n",
       "      <td>0.000000</td>\n",
       "      <td>0.000000</td>\n",
       "      <td>0.000000</td>\n",
       "      <td>0.000000</td>\n",
       "      <td>0.000000</td>\n",
       "      <td>...</td>\n",
       "      <td>0.000000</td>\n",
       "      <td>0.000000</td>\n",
       "      <td>0.000000</td>\n",
       "      <td>0.000000</td>\n",
       "      <td>0.000000</td>\n",
       "      <td>0.000000</td>\n",
       "      <td>0.000000</td>\n",
       "      <td>0.000000</td>\n",
       "      <td>0.000000</td>\n",
       "      <td>0.000000</td>\n",
       "    </tr>\n",
       "    <tr>\n",
       "      <th>50%</th>\n",
       "      <td>0.000000</td>\n",
       "      <td>0.000000</td>\n",
       "      <td>0.000000</td>\n",
       "      <td>0.000000</td>\n",
       "      <td>0.000000</td>\n",
       "      <td>0.000000</td>\n",
       "      <td>0.000000</td>\n",
       "      <td>0.000000</td>\n",
       "      <td>0.000000</td>\n",
       "      <td>0.000000</td>\n",
       "      <td>...</td>\n",
       "      <td>0.000000</td>\n",
       "      <td>0.000000</td>\n",
       "      <td>0.206207</td>\n",
       "      <td>0.000000</td>\n",
       "      <td>0.000000</td>\n",
       "      <td>0.000000</td>\n",
       "      <td>0.000000</td>\n",
       "      <td>0.000000</td>\n",
       "      <td>0.000000</td>\n",
       "      <td>0.000000</td>\n",
       "    </tr>\n",
       "    <tr>\n",
       "      <th>75%</th>\n",
       "      <td>0.000000</td>\n",
       "      <td>0.000000</td>\n",
       "      <td>0.000000</td>\n",
       "      <td>0.000000</td>\n",
       "      <td>0.000000</td>\n",
       "      <td>0.000000</td>\n",
       "      <td>0.000000</td>\n",
       "      <td>0.000000</td>\n",
       "      <td>0.000000</td>\n",
       "      <td>0.280011</td>\n",
       "      <td>...</td>\n",
       "      <td>0.000000</td>\n",
       "      <td>0.000000</td>\n",
       "      <td>0.243766</td>\n",
       "      <td>0.000000</td>\n",
       "      <td>0.000000</td>\n",
       "      <td>0.000000</td>\n",
       "      <td>0.339393</td>\n",
       "      <td>0.000000</td>\n",
       "      <td>0.000000</td>\n",
       "      <td>0.000000</td>\n",
       "    </tr>\n",
       "    <tr>\n",
       "      <th>max</th>\n",
       "      <td>0.363987</td>\n",
       "      <td>0.392211</td>\n",
       "      <td>0.307905</td>\n",
       "      <td>0.347067</td>\n",
       "      <td>0.347067</td>\n",
       "      <td>0.392211</td>\n",
       "      <td>0.363987</td>\n",
       "      <td>0.347067</td>\n",
       "      <td>0.307905</td>\n",
       "      <td>0.293662</td>\n",
       "      <td>...</td>\n",
       "      <td>0.307905</td>\n",
       "      <td>0.307905</td>\n",
       "      <td>0.262669</td>\n",
       "      <td>0.307905</td>\n",
       "      <td>0.363987</td>\n",
       "      <td>0.347067</td>\n",
       "      <td>0.632867</td>\n",
       "      <td>0.347067</td>\n",
       "      <td>0.363987</td>\n",
       "      <td>0.307905</td>\n",
       "    </tr>\n",
       "  </tbody>\n",
       "</table>\n",
       "<p>8 rows × 35 columns</p>\n",
       "</div>"
      ],
      "text/plain": [
       "         around       bad    better     blood     cause   consume     dance  \\\n",
       "count  5.000000  5.000000  5.000000  5.000000  5.000000  5.000000  5.000000   \n",
       "mean   0.072797  0.078442  0.061581  0.069413  0.069413  0.078442  0.072797   \n",
       "std    0.162780  0.175402  0.137699  0.155213  0.155213  0.175402  0.162780   \n",
       "min    0.000000  0.000000  0.000000  0.000000  0.000000  0.000000  0.000000   \n",
       "25%    0.000000  0.000000  0.000000  0.000000  0.000000  0.000000  0.000000   \n",
       "50%    0.000000  0.000000  0.000000  0.000000  0.000000  0.000000  0.000000   \n",
       "75%    0.000000  0.000000  0.000000  0.000000  0.000000  0.000000  0.000000   \n",
       "max    0.363987  0.392211  0.307905  0.347067  0.347067  0.392211  0.363987   \n",
       "\n",
       "         doctor     drive   driving    ...       school     seems    sister  \\\n",
       "count  5.000000  5.000000  5.000000    ...     5.000000  5.000000  5.000000   \n",
       "mean   0.069413  0.061581  0.114735    ...     0.061581  0.061581  0.142528   \n",
       "std    0.155213  0.137699  0.157181    ...     0.137699  0.137699  0.131688   \n",
       "min    0.000000  0.000000  0.000000    ...     0.000000  0.000000  0.000000   \n",
       "25%    0.000000  0.000000  0.000000    ...     0.000000  0.000000  0.000000   \n",
       "50%    0.000000  0.000000  0.000000    ...     0.000000  0.000000  0.206207   \n",
       "75%    0.000000  0.000000  0.280011    ...     0.000000  0.000000  0.243766   \n",
       "max    0.347067  0.307905  0.293662    ...     0.307905  0.307905  0.262669   \n",
       "\n",
       "       sometimes    spends    stress     sugar   suggest      time      well  \n",
       "count   5.000000  5.000000  5.000000  5.000000  5.000000  5.000000  5.000000  \n",
       "mean    0.061581  0.072797  0.069413  0.194452  0.069413  0.072797  0.061581  \n",
       "std     0.137699  0.162780  0.155213  0.285767  0.155213  0.162780  0.137699  \n",
       "min     0.000000  0.000000  0.000000  0.000000  0.000000  0.000000  0.000000  \n",
       "25%     0.000000  0.000000  0.000000  0.000000  0.000000  0.000000  0.000000  \n",
       "50%     0.000000  0.000000  0.000000  0.000000  0.000000  0.000000  0.000000  \n",
       "75%     0.000000  0.000000  0.000000  0.339393  0.000000  0.000000  0.000000  \n",
       "max     0.307905  0.363987  0.347067  0.632867  0.347067  0.363987  0.307905  \n",
       "\n",
       "[8 rows x 35 columns]"
      ]
     },
     "execution_count": 79,
     "metadata": {},
     "output_type": "execute_result"
    }
   ],
   "source": [
    "dff.describe()"
   ]
  },
  {
   "cell_type": "code",
   "execution_count": 68,
   "metadata": {},
   "outputs": [
    {
     "ename": "IndexError",
     "evalue": "index out of bounds: 0<=0<1, 0<=41<5",
     "output_type": "error",
     "traceback": [
      "\u001b[0;31m---------------------------------------------------------------------------\u001b[0m",
      "\u001b[0;31mIndexError\u001b[0m                                Traceback (most recent call last)",
      "\u001b[0;32m<ipython-input-68-bf6e21b824e7>\u001b[0m in \u001b[0;36m<module>\u001b[0;34m()\u001b[0m\n\u001b[1;32m      1\u001b[0m \u001b[0mfeature_names\u001b[0m \u001b[0;34m=\u001b[0m \u001b[0mtfidf2\u001b[0m\u001b[0;34m.\u001b[0m\u001b[0mget_feature_names\u001b[0m\u001b[0;34m(\u001b[0m\u001b[0;34m)\u001b[0m\u001b[0;34m\u001b[0m\u001b[0;34m\u001b[0m\u001b[0m\n\u001b[1;32m      2\u001b[0m \u001b[0;32mfor\u001b[0m \u001b[0mcol\u001b[0m \u001b[0;32min\u001b[0m \u001b[0mmodel\u001b[0m\u001b[0;34m.\u001b[0m\u001b[0mnonzero\u001b[0m\u001b[0;34m(\u001b[0m\u001b[0;34m)\u001b[0m\u001b[0;34m[\u001b[0m\u001b[0;36m1\u001b[0m\u001b[0;34m]\u001b[0m\u001b[0;34m:\u001b[0m\u001b[0;34m\u001b[0m\u001b[0;34m\u001b[0m\u001b[0m\n\u001b[0;32m----> 3\u001b[0;31m     \u001b[0;32mif\u001b[0m \u001b[0mresponse\u001b[0m\u001b[0;34m[\u001b[0m\u001b[0;36m0\u001b[0m\u001b[0;34m,\u001b[0m\u001b[0mcol\u001b[0m\u001b[0;34m]\u001b[0m\u001b[0;34m>\u001b[0m\u001b[0;36m0.3\u001b[0m\u001b[0;34m:\u001b[0m\u001b[0;34m\u001b[0m\u001b[0;34m\u001b[0m\u001b[0m\n\u001b[0m\u001b[1;32m      4\u001b[0m         \u001b[0mprint\u001b[0m \u001b[0;34m(\u001b[0m\u001b[0mfeature_names\u001b[0m\u001b[0;34m[\u001b[0m\u001b[0mcol\u001b[0m\u001b[0;34m]\u001b[0m\u001b[0;34m,\u001b[0m \u001b[0;34m' - '\u001b[0m\u001b[0;34m,\u001b[0m \u001b[0mresponse\u001b[0m\u001b[0;34m[\u001b[0m\u001b[0;36m0\u001b[0m\u001b[0;34m,\u001b[0m \u001b[0mcol\u001b[0m\u001b[0;34m]\u001b[0m\u001b[0;34m)\u001b[0m\u001b[0;34m\u001b[0m\u001b[0;34m\u001b[0m\u001b[0m\n",
      "\u001b[0;32m/usr/local/lib/python3.6/dist-packages/scipy/sparse/csr.py\u001b[0m in \u001b[0;36m__getitem__\u001b[0;34m(self, key)\u001b[0m\n\u001b[1;32m    287\u001b[0m             \u001b[0;31m# [i, j]\u001b[0m\u001b[0;34m\u001b[0m\u001b[0;34m\u001b[0m\u001b[0;34m\u001b[0m\u001b[0m\n\u001b[1;32m    288\u001b[0m             \u001b[0;32mif\u001b[0m \u001b[0misintlike\u001b[0m\u001b[0;34m(\u001b[0m\u001b[0mcol\u001b[0m\u001b[0;34m)\u001b[0m\u001b[0;34m:\u001b[0m\u001b[0;34m\u001b[0m\u001b[0;34m\u001b[0m\u001b[0m\n\u001b[0;32m--> 289\u001b[0;31m                 \u001b[0;32mreturn\u001b[0m \u001b[0mself\u001b[0m\u001b[0;34m.\u001b[0m\u001b[0m_get_single_element\u001b[0m\u001b[0;34m(\u001b[0m\u001b[0mrow\u001b[0m\u001b[0;34m,\u001b[0m \u001b[0mcol\u001b[0m\u001b[0;34m)\u001b[0m\u001b[0;34m\u001b[0m\u001b[0;34m\u001b[0m\u001b[0m\n\u001b[0m\u001b[1;32m    290\u001b[0m             \u001b[0;31m# [i, 1:2]\u001b[0m\u001b[0;34m\u001b[0m\u001b[0;34m\u001b[0m\u001b[0;34m\u001b[0m\u001b[0m\n\u001b[1;32m    291\u001b[0m             \u001b[0;32melif\u001b[0m \u001b[0misinstance\u001b[0m\u001b[0;34m(\u001b[0m\u001b[0mcol\u001b[0m\u001b[0;34m,\u001b[0m \u001b[0mslice\u001b[0m\u001b[0;34m)\u001b[0m\u001b[0;34m:\u001b[0m\u001b[0;34m\u001b[0m\u001b[0;34m\u001b[0m\u001b[0m\n",
      "\u001b[0;32m/usr/local/lib/python3.6/dist-packages/scipy/sparse/compressed.py\u001b[0m in \u001b[0;36m_get_single_element\u001b[0;34m(self, row, col)\u001b[0m\n\u001b[1;32m    854\u001b[0m         \u001b[0;32mif\u001b[0m \u001b[0;32mnot\u001b[0m \u001b[0;34m(\u001b[0m\u001b[0;36m0\u001b[0m \u001b[0;34m<=\u001b[0m \u001b[0mrow\u001b[0m \u001b[0;34m<\u001b[0m \u001b[0mM\u001b[0m\u001b[0;34m)\u001b[0m \u001b[0;32mor\u001b[0m \u001b[0;32mnot\u001b[0m \u001b[0;34m(\u001b[0m\u001b[0;36m0\u001b[0m \u001b[0;34m<=\u001b[0m \u001b[0mcol\u001b[0m \u001b[0;34m<\u001b[0m \u001b[0mN\u001b[0m\u001b[0;34m)\u001b[0m\u001b[0;34m:\u001b[0m\u001b[0;34m\u001b[0m\u001b[0;34m\u001b[0m\u001b[0m\n\u001b[1;32m    855\u001b[0m             raise IndexError(\"index out of bounds: 0<=%d<%d, 0<=%d<%d\" %\n\u001b[0;32m--> 856\u001b[0;31m                              (row, M, col, N))\n\u001b[0m\u001b[1;32m    857\u001b[0m \u001b[0;34m\u001b[0m\u001b[0m\n\u001b[1;32m    858\u001b[0m         \u001b[0mmajor_index\u001b[0m\u001b[0;34m,\u001b[0m \u001b[0mminor_index\u001b[0m \u001b[0;34m=\u001b[0m \u001b[0mself\u001b[0m\u001b[0;34m.\u001b[0m\u001b[0m_swap\u001b[0m\u001b[0;34m(\u001b[0m\u001b[0;34m(\u001b[0m\u001b[0mrow\u001b[0m\u001b[0;34m,\u001b[0m \u001b[0mcol\u001b[0m\u001b[0;34m)\u001b[0m\u001b[0;34m)\u001b[0m\u001b[0;34m\u001b[0m\u001b[0;34m\u001b[0m\u001b[0m\n",
      "\u001b[0;31mIndexError\u001b[0m: index out of bounds: 0<=0<1, 0<=41<5"
     ]
    }
   ],
   "source": [
    "feature_names = tfidf2.get_feature_names()\n",
    "for col in model.nonzero()[1]:\n",
    "    if response[0,col]>0.3:\n",
    "        print (feature_names[col], ' - ', response[0, col])"
   ]
  },
  {
   "cell_type": "code",
   "execution_count": 69,
   "metadata": {},
   "outputs": [
    {
     "data": {
      "text/plain": [
       "(array([0, 0, 0, 0, 0, 0, 0, 0, 0, 0, 0, 0, 1, 1, 1, 1, 1, 1, 1, 1, 1, 1,\n",
       "        1, 1, 2, 2, 2, 2, 2, 2, 2, 2, 2, 2, 2, 3, 3, 3, 3, 3, 3, 3, 3, 3,\n",
       "        3, 3, 3, 3, 3, 3, 3, 3, 4, 4, 4, 4, 4, 4, 4, 4, 4, 4, 4],\n",
       "       dtype=int32),\n",
       " array([41, 22,  3, 45,  8, 27, 37, 24, 19,  6, 29, 15, 45, 27, 37, 15, 39,\n",
       "        25, 30, 44, 13,  1,  9, 32, 13, 11, 42, 43, 26,  7, 21, 40,  0,  5,\n",
       "        33, 45, 27, 37,  6, 15, 33, 38, 16, 31, 46,  2, 35, 28, 36, 12, 10,\n",
       "         4, 41, 22, 29, 43, 20, 14, 34, 18, 17, 47, 23], dtype=int32))"
      ]
     },
     "execution_count": 69,
     "metadata": {},
     "output_type": "execute_result"
    }
   ],
   "source": [
    "model.nonzero()"
   ]
  },
  {
   "cell_type": "markdown",
   "metadata": {},
   "source": [
    "### PCA"
   ]
  },
  {
   "cell_type": "code",
   "execution_count": 76,
   "metadata": {},
   "outputs": [],
   "source": [
    "import pandas as pd\n",
    "import warnings\n",
    "\n",
    "from sklearn.datasets import fetch_lfw_people\n",
    "from sklearn.decomposition import PCA\n",
    "from sklearn.metrics import classification_report,accuracy_score\n",
    "from sklearn.model_selection import train_test_split\n",
    "from sklearn.neural_network import MLPClassifier\n",
    "from sklearn.linear_model import LogisticRegression\n",
    "from sklearn.naive_bayes import GaussianNB\n",
    "from sklearn.model_selection import GridSearchCV\n",
    "import time\n",
    "warnings.filterwarnings(\"ignore\")\n"
   ]
  },
  {
   "cell_type": "code",
   "execution_count": 16,
   "metadata": {},
   "outputs": [],
   "source": [
    "dataset = pd.read_csv(\"/home/sharma/ragavendra/Indian Liver Patient Dataset (ILPD).csv\")"
   ]
  },
  {
   "cell_type": "code",
   "execution_count": 17,
   "metadata": {},
   "outputs": [
    {
     "data": {
      "text/html": [
       "<div>\n",
       "<style scoped>\n",
       "    .dataframe tbody tr th:only-of-type {\n",
       "        vertical-align: middle;\n",
       "    }\n",
       "\n",
       "    .dataframe tbody tr th {\n",
       "        vertical-align: top;\n",
       "    }\n",
       "\n",
       "    .dataframe thead th {\n",
       "        text-align: right;\n",
       "    }\n",
       "</style>\n",
       "<table border=\"1\" class=\"dataframe\">\n",
       "  <thead>\n",
       "    <tr style=\"text-align: right;\">\n",
       "      <th></th>\n",
       "      <th>Age</th>\n",
       "      <th>Gender</th>\n",
       "      <th>Total Bilirubin</th>\n",
       "      <th>Direct Bilirubin</th>\n",
       "      <th>Total Proteins</th>\n",
       "      <th>Albumin</th>\n",
       "      <th>A/G ratio</th>\n",
       "      <th>SGPT</th>\n",
       "      <th>SGOT</th>\n",
       "      <th>Alkphos</th>\n",
       "      <th>Disease</th>\n",
       "    </tr>\n",
       "  </thead>\n",
       "  <tbody>\n",
       "    <tr>\n",
       "      <th>0</th>\n",
       "      <td>65</td>\n",
       "      <td>Female</td>\n",
       "      <td>0.7</td>\n",
       "      <td>0.1</td>\n",
       "      <td>187</td>\n",
       "      <td>16</td>\n",
       "      <td>18</td>\n",
       "      <td>6.8</td>\n",
       "      <td>3.3</td>\n",
       "      <td>0.90</td>\n",
       "      <td>1</td>\n",
       "    </tr>\n",
       "    <tr>\n",
       "      <th>1</th>\n",
       "      <td>62</td>\n",
       "      <td>Male</td>\n",
       "      <td>10.9</td>\n",
       "      <td>5.5</td>\n",
       "      <td>699</td>\n",
       "      <td>64</td>\n",
       "      <td>100</td>\n",
       "      <td>7.5</td>\n",
       "      <td>3.2</td>\n",
       "      <td>0.74</td>\n",
       "      <td>1</td>\n",
       "    </tr>\n",
       "    <tr>\n",
       "      <th>2</th>\n",
       "      <td>62</td>\n",
       "      <td>Male</td>\n",
       "      <td>7.3</td>\n",
       "      <td>4.1</td>\n",
       "      <td>490</td>\n",
       "      <td>60</td>\n",
       "      <td>68</td>\n",
       "      <td>7.0</td>\n",
       "      <td>3.3</td>\n",
       "      <td>0.89</td>\n",
       "      <td>1</td>\n",
       "    </tr>\n",
       "    <tr>\n",
       "      <th>3</th>\n",
       "      <td>58</td>\n",
       "      <td>Male</td>\n",
       "      <td>1.0</td>\n",
       "      <td>0.4</td>\n",
       "      <td>182</td>\n",
       "      <td>14</td>\n",
       "      <td>20</td>\n",
       "      <td>6.8</td>\n",
       "      <td>3.4</td>\n",
       "      <td>1.00</td>\n",
       "      <td>1</td>\n",
       "    </tr>\n",
       "    <tr>\n",
       "      <th>4</th>\n",
       "      <td>72</td>\n",
       "      <td>Male</td>\n",
       "      <td>3.9</td>\n",
       "      <td>2.0</td>\n",
       "      <td>195</td>\n",
       "      <td>27</td>\n",
       "      <td>59</td>\n",
       "      <td>7.3</td>\n",
       "      <td>2.4</td>\n",
       "      <td>0.40</td>\n",
       "      <td>1</td>\n",
       "    </tr>\n",
       "  </tbody>\n",
       "</table>\n",
       "</div>"
      ],
      "text/plain": [
       "   Age  Gender  Total Bilirubin  Direct Bilirubin  Total Proteins  Albumin  \\\n",
       "0   65  Female              0.7               0.1             187       16   \n",
       "1   62    Male             10.9               5.5             699       64   \n",
       "2   62    Male              7.3               4.1             490       60   \n",
       "3   58    Male              1.0               0.4             182       14   \n",
       "4   72    Male              3.9               2.0             195       27   \n",
       "\n",
       "   A/G ratio  SGPT  SGOT  Alkphos  Disease  \n",
       "0         18   6.8   3.3     0.90        1  \n",
       "1        100   7.5   3.2     0.74        1  \n",
       "2         68   7.0   3.3     0.89        1  \n",
       "3         20   6.8   3.4     1.00        1  \n",
       "4         59   7.3   2.4     0.40        1  "
      ]
     },
     "execution_count": 17,
     "metadata": {},
     "output_type": "execute_result"
    }
   ],
   "source": [
    "dataset.head()"
   ]
  },
  {
   "cell_type": "code",
   "execution_count": 18,
   "metadata": {},
   "outputs": [
    {
     "data": {
      "text/plain": [
       "(583, 11)"
      ]
     },
     "execution_count": 18,
     "metadata": {},
     "output_type": "execute_result"
    }
   ],
   "source": [
    "dataset.shape"
   ]
  },
  {
   "cell_type": "code",
   "execution_count": 19,
   "metadata": {},
   "outputs": [],
   "source": [
    "dataset.dropna(inplace=True)"
   ]
  },
  {
   "cell_type": "code",
   "execution_count": 20,
   "metadata": {},
   "outputs": [
    {
     "data": {
      "text/plain": [
       "(579, 11)"
      ]
     },
     "execution_count": 20,
     "metadata": {},
     "output_type": "execute_result"
    }
   ],
   "source": [
    "dataset.shape"
   ]
  },
  {
   "cell_type": "code",
   "execution_count": 21,
   "metadata": {},
   "outputs": [],
   "source": [
    "x = dataset.loc[:,\"Age\":\"Alkphos\"]"
   ]
  },
  {
   "cell_type": "code",
   "execution_count": 22,
   "metadata": {},
   "outputs": [
    {
     "data": {
      "text/html": [
       "<div>\n",
       "<style scoped>\n",
       "    .dataframe tbody tr th:only-of-type {\n",
       "        vertical-align: middle;\n",
       "    }\n",
       "\n",
       "    .dataframe tbody tr th {\n",
       "        vertical-align: top;\n",
       "    }\n",
       "\n",
       "    .dataframe thead th {\n",
       "        text-align: right;\n",
       "    }\n",
       "</style>\n",
       "<table border=\"1\" class=\"dataframe\">\n",
       "  <thead>\n",
       "    <tr style=\"text-align: right;\">\n",
       "      <th></th>\n",
       "      <th>Age</th>\n",
       "      <th>Gender</th>\n",
       "      <th>Total Bilirubin</th>\n",
       "      <th>Direct Bilirubin</th>\n",
       "      <th>Total Proteins</th>\n",
       "      <th>Albumin</th>\n",
       "      <th>A/G ratio</th>\n",
       "      <th>SGPT</th>\n",
       "      <th>SGOT</th>\n",
       "      <th>Alkphos</th>\n",
       "    </tr>\n",
       "  </thead>\n",
       "  <tbody>\n",
       "    <tr>\n",
       "      <th>0</th>\n",
       "      <td>65</td>\n",
       "      <td>Female</td>\n",
       "      <td>0.7</td>\n",
       "      <td>0.1</td>\n",
       "      <td>187</td>\n",
       "      <td>16</td>\n",
       "      <td>18</td>\n",
       "      <td>6.8</td>\n",
       "      <td>3.3</td>\n",
       "      <td>0.90</td>\n",
       "    </tr>\n",
       "    <tr>\n",
       "      <th>1</th>\n",
       "      <td>62</td>\n",
       "      <td>Male</td>\n",
       "      <td>10.9</td>\n",
       "      <td>5.5</td>\n",
       "      <td>699</td>\n",
       "      <td>64</td>\n",
       "      <td>100</td>\n",
       "      <td>7.5</td>\n",
       "      <td>3.2</td>\n",
       "      <td>0.74</td>\n",
       "    </tr>\n",
       "    <tr>\n",
       "      <th>2</th>\n",
       "      <td>62</td>\n",
       "      <td>Male</td>\n",
       "      <td>7.3</td>\n",
       "      <td>4.1</td>\n",
       "      <td>490</td>\n",
       "      <td>60</td>\n",
       "      <td>68</td>\n",
       "      <td>7.0</td>\n",
       "      <td>3.3</td>\n",
       "      <td>0.89</td>\n",
       "    </tr>\n",
       "    <tr>\n",
       "      <th>3</th>\n",
       "      <td>58</td>\n",
       "      <td>Male</td>\n",
       "      <td>1.0</td>\n",
       "      <td>0.4</td>\n",
       "      <td>182</td>\n",
       "      <td>14</td>\n",
       "      <td>20</td>\n",
       "      <td>6.8</td>\n",
       "      <td>3.4</td>\n",
       "      <td>1.00</td>\n",
       "    </tr>\n",
       "    <tr>\n",
       "      <th>4</th>\n",
       "      <td>72</td>\n",
       "      <td>Male</td>\n",
       "      <td>3.9</td>\n",
       "      <td>2.0</td>\n",
       "      <td>195</td>\n",
       "      <td>27</td>\n",
       "      <td>59</td>\n",
       "      <td>7.3</td>\n",
       "      <td>2.4</td>\n",
       "      <td>0.40</td>\n",
       "    </tr>\n",
       "  </tbody>\n",
       "</table>\n",
       "</div>"
      ],
      "text/plain": [
       "   Age  Gender  Total Bilirubin  Direct Bilirubin  Total Proteins  Albumin  \\\n",
       "0   65  Female              0.7               0.1             187       16   \n",
       "1   62    Male             10.9               5.5             699       64   \n",
       "2   62    Male              7.3               4.1             490       60   \n",
       "3   58    Male              1.0               0.4             182       14   \n",
       "4   72    Male              3.9               2.0             195       27   \n",
       "\n",
       "   A/G ratio  SGPT  SGOT  Alkphos  \n",
       "0         18   6.8   3.3     0.90  \n",
       "1        100   7.5   3.2     0.74  \n",
       "2         68   7.0   3.3     0.89  \n",
       "3         20   6.8   3.4     1.00  \n",
       "4         59   7.3   2.4     0.40  "
      ]
     },
     "execution_count": 22,
     "metadata": {},
     "output_type": "execute_result"
    }
   ],
   "source": [
    "x.head()"
   ]
  },
  {
   "cell_type": "code",
   "execution_count": 23,
   "metadata": {},
   "outputs": [],
   "source": [
    "x = pd.get_dummies(x)"
   ]
  },
  {
   "cell_type": "code",
   "execution_count": 24,
   "metadata": {},
   "outputs": [
    {
     "data": {
      "text/html": [
       "<div>\n",
       "<style scoped>\n",
       "    .dataframe tbody tr th:only-of-type {\n",
       "        vertical-align: middle;\n",
       "    }\n",
       "\n",
       "    .dataframe tbody tr th {\n",
       "        vertical-align: top;\n",
       "    }\n",
       "\n",
       "    .dataframe thead th {\n",
       "        text-align: right;\n",
       "    }\n",
       "</style>\n",
       "<table border=\"1\" class=\"dataframe\">\n",
       "  <thead>\n",
       "    <tr style=\"text-align: right;\">\n",
       "      <th></th>\n",
       "      <th>Age</th>\n",
       "      <th>Total Bilirubin</th>\n",
       "      <th>Direct Bilirubin</th>\n",
       "      <th>Total Proteins</th>\n",
       "      <th>Albumin</th>\n",
       "      <th>A/G ratio</th>\n",
       "      <th>SGPT</th>\n",
       "      <th>SGOT</th>\n",
       "      <th>Alkphos</th>\n",
       "      <th>Gender_Female</th>\n",
       "      <th>Gender_Male</th>\n",
       "    </tr>\n",
       "  </thead>\n",
       "  <tbody>\n",
       "    <tr>\n",
       "      <th>0</th>\n",
       "      <td>65</td>\n",
       "      <td>0.7</td>\n",
       "      <td>0.1</td>\n",
       "      <td>187</td>\n",
       "      <td>16</td>\n",
       "      <td>18</td>\n",
       "      <td>6.8</td>\n",
       "      <td>3.3</td>\n",
       "      <td>0.90</td>\n",
       "      <td>1</td>\n",
       "      <td>0</td>\n",
       "    </tr>\n",
       "    <tr>\n",
       "      <th>1</th>\n",
       "      <td>62</td>\n",
       "      <td>10.9</td>\n",
       "      <td>5.5</td>\n",
       "      <td>699</td>\n",
       "      <td>64</td>\n",
       "      <td>100</td>\n",
       "      <td>7.5</td>\n",
       "      <td>3.2</td>\n",
       "      <td>0.74</td>\n",
       "      <td>0</td>\n",
       "      <td>1</td>\n",
       "    </tr>\n",
       "    <tr>\n",
       "      <th>2</th>\n",
       "      <td>62</td>\n",
       "      <td>7.3</td>\n",
       "      <td>4.1</td>\n",
       "      <td>490</td>\n",
       "      <td>60</td>\n",
       "      <td>68</td>\n",
       "      <td>7.0</td>\n",
       "      <td>3.3</td>\n",
       "      <td>0.89</td>\n",
       "      <td>0</td>\n",
       "      <td>1</td>\n",
       "    </tr>\n",
       "    <tr>\n",
       "      <th>3</th>\n",
       "      <td>58</td>\n",
       "      <td>1.0</td>\n",
       "      <td>0.4</td>\n",
       "      <td>182</td>\n",
       "      <td>14</td>\n",
       "      <td>20</td>\n",
       "      <td>6.8</td>\n",
       "      <td>3.4</td>\n",
       "      <td>1.00</td>\n",
       "      <td>0</td>\n",
       "      <td>1</td>\n",
       "    </tr>\n",
       "    <tr>\n",
       "      <th>4</th>\n",
       "      <td>72</td>\n",
       "      <td>3.9</td>\n",
       "      <td>2.0</td>\n",
       "      <td>195</td>\n",
       "      <td>27</td>\n",
       "      <td>59</td>\n",
       "      <td>7.3</td>\n",
       "      <td>2.4</td>\n",
       "      <td>0.40</td>\n",
       "      <td>0</td>\n",
       "      <td>1</td>\n",
       "    </tr>\n",
       "  </tbody>\n",
       "</table>\n",
       "</div>"
      ],
      "text/plain": [
       "   Age  Total Bilirubin  Direct Bilirubin  Total Proteins  Albumin  A/G ratio  \\\n",
       "0   65              0.7               0.1             187       16         18   \n",
       "1   62             10.9               5.5             699       64        100   \n",
       "2   62              7.3               4.1             490       60         68   \n",
       "3   58              1.0               0.4             182       14         20   \n",
       "4   72              3.9               2.0             195       27         59   \n",
       "\n",
       "   SGPT  SGOT  Alkphos  Gender_Female  Gender_Male  \n",
       "0   6.8   3.3     0.90              1            0  \n",
       "1   7.5   3.2     0.74              0            1  \n",
       "2   7.0   3.3     0.89              0            1  \n",
       "3   6.8   3.4     1.00              0            1  \n",
       "4   7.3   2.4     0.40              0            1  "
      ]
     },
     "execution_count": 24,
     "metadata": {},
     "output_type": "execute_result"
    }
   ],
   "source": [
    "x.head()"
   ]
  },
  {
   "cell_type": "code",
   "execution_count": 25,
   "metadata": {},
   "outputs": [],
   "source": [
    "y = dataset.Disease"
   ]
  },
  {
   "cell_type": "code",
   "execution_count": 26,
   "metadata": {},
   "outputs": [
    {
     "data": {
      "text/plain": [
       "0      1\n",
       "1      1\n",
       "2      1\n",
       "3      1\n",
       "4      1\n",
       "5      1\n",
       "6      1\n",
       "7      1\n",
       "8      2\n",
       "9      1\n",
       "10     1\n",
       "11     1\n",
       "12     2\n",
       "13     1\n",
       "14     1\n",
       "15     2\n",
       "16     1\n",
       "17     2\n",
       "18     1\n",
       "19     1\n",
       "20     1\n",
       "21     1\n",
       "22     1\n",
       "23     1\n",
       "24     2\n",
       "25     1\n",
       "26     1\n",
       "27     1\n",
       "28     2\n",
       "29     2\n",
       "      ..\n",
       "553    1\n",
       "554    1\n",
       "555    1\n",
       "556    1\n",
       "557    1\n",
       "558    1\n",
       "559    1\n",
       "560    1\n",
       "561    1\n",
       "562    1\n",
       "563    1\n",
       "564    2\n",
       "565    1\n",
       "566    2\n",
       "567    1\n",
       "568    1\n",
       "569    1\n",
       "570    1\n",
       "571    1\n",
       "572    1\n",
       "573    1\n",
       "574    1\n",
       "575    1\n",
       "576    1\n",
       "577    1\n",
       "578    2\n",
       "579    1\n",
       "580    1\n",
       "581    1\n",
       "582    2\n",
       "Name: Disease, Length: 579, dtype: int64"
      ]
     },
     "execution_count": 26,
     "metadata": {},
     "output_type": "execute_result"
    }
   ],
   "source": [
    "y"
   ]
  },
  {
   "cell_type": "code",
   "execution_count": 69,
   "metadata": {},
   "outputs": [],
   "source": [
    "# split into a training and testing set\n",
    "X_train, X_test, y_train, y_test = train_test_split(x, y, test_size=0.3)\n",
    "\n",
    "# Compute a PCA \n",
    "n_components = 11\n",
    "pca = PCA(n_components=n_components, whiten=True).fit(X_train)\n",
    "\n",
    "# apply PCA transformation\n",
    "X_train_pca = pca.transform(X_train)\n",
    "X_test_pca = pca.transform(X_test)\n",
    "\n"
   ]
  },
  {
   "cell_type": "code",
   "execution_count": 93,
   "metadata": {},
   "outputs": [
    {
     "name": "stdout",
     "output_type": "stream",
     "text": [
      "Fitting the classifier to the training set\n",
      "Iteration 1, loss = 0.63180395\n",
      "Validation score: 0.638298\n",
      "Iteration 2, loss = 0.51374168\n",
      "Validation score: 0.638298\n",
      "Iteration 3, loss = 0.52022772\n",
      "Validation score: 0.638298\n",
      "Iteration 4, loss = 0.50758289\n",
      "Validation score: 0.617021\n",
      "Validation score did not improve more than tol=0.000100 for two consecutive epochs. Stopping.\n"
     ]
    },
    {
     "data": {
      "text/plain": [
       "LogisticRegression(C=1.0, class_weight=None, dual=False, fit_intercept=True,\n",
       "          intercept_scaling=1, max_iter=100, multi_class='ovr', n_jobs=1,\n",
       "          penalty='l2', random_state=None, solver='liblinear', tol=0.0001,\n",
       "          verbose=0, warm_start=False)"
      ]
     },
     "execution_count": 93,
     "metadata": {},
     "output_type": "execute_result"
    }
   ],
   "source": [
    "# train a neural network\n",
    "print(\"Fitting the classifier to the training set\")\n",
    "clf = MLPClassifier(hidden_layer_sizes=(1025,1024), batch_size=12, verbose=True, random_state= 21,early_stopping=True).fit(X_train_pca,\n",
    "                                                                                                            y_train)\n",
    "bayes = GaussianNB()\n",
    "bayes.fit(X_train_pca,y_train)\n",
    "\n",
    "logistic = LogisticRegression()\n",
    "logistic.fit(X_train_pca,y_train)"
   ]
  },
  {
   "cell_type": "code",
   "execution_count": 71,
   "metadata": {},
   "outputs": [
    {
     "data": {
      "text/plain": [
       "MLPClassifier(activation='relu', alpha=0.0001, batch_size=64, beta_1=0.9,\n",
       "       beta_2=0.999, early_stopping=True, epsilon=1e-08,\n",
       "       hidden_layer_sizes=(512, 512), learning_rate='constant',\n",
       "       learning_rate_init=0.001, max_iter=200, momentum=0.9,\n",
       "       nesterovs_momentum=True, power_t=0.5, random_state=21, shuffle=True,\n",
       "       solver='adam', tol=0.0001, validation_fraction=0.1, verbose=True,\n",
       "       warm_start=False)"
      ]
     },
     "execution_count": 71,
     "metadata": {},
     "output_type": "execute_result"
    }
   ],
   "source": [
    "clf"
   ]
  },
  {
   "cell_type": "code",
   "execution_count": 94,
   "metadata": {},
   "outputs": [
    {
     "name": "stdout",
     "output_type": "stream",
     "text": [
      "0.7241379310344828\n",
      "0.5862068965517241\n",
      "0.7068965517241379\n"
     ]
    }
   ],
   "source": [
    "# clf = svm.SVC()\n",
    "#clf.fit(X_train_pca, y_train)\n",
    "y_pred = clf.predict(X_test_pca)\n",
    "print(accuracy_score(y_test, y_pred))\n",
    "y_pred1 = bayes.predict(X_test_pca)\n",
    "print(accuracy_score(y_test, y_pred1))\n",
    "y_pred2 = logistic.predict(X_test_pca)\n",
    "print(accuracy_score(y_test, y_pred2))"
   ]
  },
  {
   "cell_type": "code",
   "execution_count": null,
   "metadata": {},
   "outputs": [],
   "source": []
  },
  {
   "cell_type": "code",
   "execution_count": 75,
   "metadata": {},
   "outputs": [
    {
     "name": "stdout",
     "output_type": "stream",
     "text": [
      "features : 2\n",
      "Fitting the classifier to the training set\n",
      "Iteration 1, loss = 0.60026616\n",
      "Validation score: 0.702128\n",
      "Iteration 2, loss = 0.55541439\n",
      "Validation score: 0.702128\n",
      "Iteration 3, loss = 0.53722974\n",
      "Validation score: 0.702128\n",
      "Iteration 4, loss = 0.53362108\n",
      "Validation score: 0.702128\n",
      "Validation score did not improve more than tol=0.000100 for two consecutive epochs. Stopping.\n",
      "0.7155172413793104\n",
      "0.5086206896551724\n",
      "0.7155172413793104\n",
      "==================\n",
      "features : 3\n",
      "Fitting the classifier to the training set\n",
      "Iteration 1, loss = 0.60928998\n",
      "Validation score: 0.723404\n",
      "Iteration 2, loss = 0.55064126\n",
      "Validation score: 0.723404\n",
      "Iteration 3, loss = 0.53513823\n",
      "Validation score: 0.723404\n",
      "Iteration 4, loss = 0.53062852\n",
      "Validation score: 0.723404\n",
      "Validation score did not improve more than tol=0.000100 for two consecutive epochs. Stopping.\n",
      "0.7155172413793104\n",
      "0.5172413793103449\n",
      "0.7155172413793104\n",
      "==================\n",
      "features : 4\n",
      "Fitting the classifier to the training set\n",
      "Iteration 1, loss = 0.57919334\n",
      "Validation score: 0.638298\n",
      "Iteration 2, loss = 0.54797347\n",
      "Validation score: 0.617021\n",
      "Iteration 3, loss = 0.52042668\n",
      "Validation score: 0.638298\n",
      "Iteration 4, loss = 0.50955422\n",
      "Validation score: 0.638298\n",
      "Validation score did not improve more than tol=0.000100 for two consecutive epochs. Stopping.\n",
      "0.7155172413793104\n",
      "0.5258620689655172\n",
      "0.7413793103448276\n",
      "==================\n",
      "features : 5\n",
      "Fitting the classifier to the training set\n",
      "Iteration 1, loss = 0.60688214\n",
      "Validation score: 0.872340\n",
      "Iteration 2, loss = 0.54456979\n",
      "Validation score: 0.872340\n",
      "Iteration 3, loss = 0.52415858\n",
      "Validation score: 0.765957\n",
      "Iteration 4, loss = 0.51494155\n",
      "Validation score: 0.872340\n",
      "Validation score did not improve more than tol=0.000100 for two consecutive epochs. Stopping.\n",
      "0.7155172413793104\n",
      "0.5862068965517241\n",
      "0.7327586206896551\n",
      "==================\n",
      "features : 6\n",
      "Fitting the classifier to the training set\n",
      "Iteration 1, loss = 0.56343950\n",
      "Validation score: 0.638298\n",
      "Iteration 2, loss = 0.49827658\n",
      "Validation score: 0.553191\n",
      "Iteration 3, loss = 0.49270592\n",
      "Validation score: 0.553191\n",
      "Iteration 4, loss = 0.47661538\n",
      "Validation score: 0.659574\n",
      "Iteration 5, loss = 0.47696098\n",
      "Validation score: 0.638298\n",
      "Iteration 6, loss = 0.46920843\n",
      "Validation score: 0.638298\n",
      "Iteration 7, loss = 0.46752635\n",
      "Validation score: 0.595745\n",
      "Validation score did not improve more than tol=0.000100 for two consecutive epochs. Stopping.\n",
      "0.7327586206896551\n",
      "0.5948275862068966\n",
      "0.7068965517241379\n",
      "==================\n",
      "features : 7\n",
      "Fitting the classifier to the training set\n",
      "Iteration 1, loss = 0.59464408\n",
      "Validation score: 0.765957\n",
      "Iteration 2, loss = 0.53806981\n",
      "Validation score: 0.765957\n",
      "Iteration 3, loss = 0.51554821\n",
      "Validation score: 0.787234\n",
      "Iteration 4, loss = 0.50676951\n",
      "Validation score: 0.765957\n",
      "Iteration 5, loss = 0.49922465\n",
      "Validation score: 0.787234\n",
      "Iteration 6, loss = 0.49260676\n",
      "Validation score: 0.787234\n",
      "Validation score did not improve more than tol=0.000100 for two consecutive epochs. Stopping.\n",
      "0.7327586206896551\n",
      "0.5948275862068966\n",
      "0.7327586206896551\n",
      "==================\n",
      "features : 8\n",
      "Fitting the classifier to the training set\n",
      "Iteration 1, loss = 0.60753922\n",
      "Validation score: 0.702128\n",
      "Iteration 2, loss = 0.52662796\n",
      "Validation score: 0.702128\n",
      "Iteration 3, loss = 0.50228012\n",
      "Validation score: 0.744681\n",
      "Iteration 4, loss = 0.48876068\n",
      "Validation score: 0.723404\n",
      "Iteration 5, loss = 0.48008888\n",
      "Validation score: 0.723404\n",
      "Iteration 6, loss = 0.47376920\n",
      "Validation score: 0.723404\n",
      "Validation score did not improve more than tol=0.000100 for two consecutive epochs. Stopping.\n",
      "0.7241379310344828\n",
      "0.5948275862068966\n",
      "0.7327586206896551\n",
      "==================\n",
      "features : 9\n",
      "Fitting the classifier to the training set\n",
      "Iteration 1, loss = 0.57204353\n",
      "Validation score: 0.638298\n",
      "Iteration 2, loss = 0.51667646\n",
      "Validation score: 0.617021\n",
      "Iteration 3, loss = 0.49431654\n",
      "Validation score: 0.659574\n",
      "Iteration 4, loss = 0.48324683\n",
      "Validation score: 0.638298\n",
      "Iteration 5, loss = 0.47203183\n",
      "Validation score: 0.638298\n",
      "Iteration 6, loss = 0.46287658\n",
      "Validation score: 0.638298\n",
      "Validation score did not improve more than tol=0.000100 for two consecutive epochs. Stopping.\n",
      "0.7068965517241379\n",
      "0.603448275862069\n",
      "0.7327586206896551\n",
      "==================\n",
      "features : 10\n",
      "Fitting the classifier to the training set\n",
      "Iteration 1, loss = 0.60071250\n",
      "Validation score: 0.702128\n",
      "Iteration 2, loss = 0.52044061\n",
      "Validation score: 0.659574\n",
      "Iteration 3, loss = 0.49756514\n",
      "Validation score: 0.723404\n",
      "Iteration 4, loss = 0.47808143\n",
      "Validation score: 0.744681\n",
      "Iteration 5, loss = 0.46695574\n",
      "Validation score: 0.702128\n",
      "Iteration 6, loss = 0.45528255\n",
      "Validation score: 0.723404\n",
      "Iteration 7, loss = 0.44756335\n",
      "Validation score: 0.723404\n",
      "Validation score did not improve more than tol=0.000100 for two consecutive epochs. Stopping.\n",
      "0.6810344827586207\n",
      "0.5862068965517241\n",
      "0.7068965517241379\n",
      "==================\n",
      "features : 11\n",
      "Fitting the classifier to the training set\n",
      "Iteration 1, loss = 0.62768128\n",
      "Validation score: 0.680851\n",
      "Iteration 2, loss = 0.53054488\n",
      "Validation score: 0.638298\n",
      "Iteration 3, loss = 0.50285459\n",
      "Validation score: 0.659574\n",
      "Iteration 4, loss = 0.48050499\n",
      "Validation score: 0.638298\n",
      "Validation score did not improve more than tol=0.000100 for two consecutive epochs. Stopping.\n",
      "0.7155172413793104\n",
      "0.5862068965517241\n",
      "0.7068965517241379\n",
      "==================\n"
     ]
    }
   ],
   "source": [
    "# split into a training and testing set\n",
    "X_train, X_test, y_train, y_test = train_test_split(x, y, test_size=0.2)\n",
    "\n",
    "for i in range(2,12):\n",
    "    # Compute a PCA \n",
    "    print(\"features :\",i)\n",
    "    n_components = i\n",
    "    pca = PCA(n_components=n_components, whiten=True).fit(X_train)\n",
    "\n",
    "    # apply PCA transformation\n",
    "    X_train_pca = pca.transform(X_train)\n",
    "    X_test_pca = pca.transform(X_test)\n",
    "\n",
    "\n",
    "\n",
    "    # train a neural network\n",
    "    print(\"Fitting the classifier to the training set\")\n",
    "    clf = MLPClassifier(hidden_layer_sizes=(512,512), batch_size=64, verbose=True, random_state= 21,early_stopping=True).fit(X_train_pca,y_train)\n",
    "    bayes = GaussianNB()\n",
    "    bayes.fit(X_train_pca,y_train)\n",
    "\n",
    "    logistic = LogisticRegression()\n",
    "    logistic.fit(X_train_pca,y_train)\n",
    "\n",
    "    y_pred = clf.predict(X_test_pca)\n",
    "    print(accuracy_score(y_test, y_pred))\n",
    "    y_pred1 = bayes.predict(X_test_pca)\n",
    "    print(accuracy_score(y_test, y_pred1))\n",
    "    y_pred2 = logistic.predict(X_test_pca)\n",
    "    print(accuracy_score(y_test, y_pred2))\n",
    "    print(\"======\"*3)\n",
    "    time.sleep(5)"
   ]
  },
  {
   "cell_type": "code",
   "execution_count": 78,
   "metadata": {},
   "outputs": [],
   "source": [
    "estimator = MLPClassifier(verbose=True, random_state= 21,early_stopping=True)\n",
    "param = {\"hidden_layer_sizes\":[32,64,128,256,512,1024,(32,32),(64,64),(128,128),(256,256),(512,512),(1024,1024)],'batch_size':[4,8,12,24,28,32,64]}\n"
   ]
  },
  {
   "cell_type": "code",
   "execution_count": 77,
   "metadata": {},
   "outputs": [
    {
     "data": {
      "text/plain": [
       "MLPClassifier(activation='relu', alpha=0.0001, batch_size=64, beta_1=0.9,\n",
       "       beta_2=0.999, early_stopping=True, epsilon=1e-08,\n",
       "       hidden_layer_sizes=(512, 512), learning_rate='constant',\n",
       "       learning_rate_init=0.001, max_iter=200, momentum=0.9,\n",
       "       nesterovs_momentum=True, power_t=0.5, random_state=21, shuffle=True,\n",
       "       solver='adam', tol=0.0001, validation_fraction=0.1, verbose=True,\n",
       "       warm_start=False)"
      ]
     },
     "execution_count": 77,
     "metadata": {},
     "output_type": "execute_result"
    }
   ],
   "source": [
    "clf\n"
   ]
  },
  {
   "cell_type": "code",
   "execution_count": 79,
   "metadata": {},
   "outputs": [],
   "source": [
    "search = GridSearchCV(estimator=estimator,param_grid=param)"
   ]
  },
  {
   "cell_type": "code",
   "execution_count": 81,
   "metadata": {},
   "outputs": [
    {
     "name": "stdout",
     "output_type": "stream",
     "text": [
      "Iteration 1, loss = 0.92921592\n",
      "Validation score: 0.451613\n",
      "Iteration 2, loss = 0.72832735\n",
      "Validation score: 0.645161\n",
      "Iteration 3, loss = 0.65084691\n",
      "Validation score: 0.677419\n",
      "Iteration 4, loss = 0.60926282\n",
      "Validation score: 0.741935\n",
      "Iteration 5, loss = 0.58395936\n",
      "Validation score: 0.709677\n",
      "Iteration 6, loss = 0.56136331\n",
      "Validation score: 0.709677\n",
      "Iteration 7, loss = 0.54364939\n",
      "Validation score: 0.709677\n",
      "Validation score did not improve more than tol=0.000100 for two consecutive epochs. Stopping.\n",
      "Iteration 1, loss = 0.87724711\n",
      "Validation score: 0.387097\n",
      "Iteration 2, loss = 0.68081439\n",
      "Validation score: 0.645161\n",
      "Iteration 3, loss = 0.61217829\n",
      "Validation score: 0.645161\n",
      "Iteration 4, loss = 0.57160878\n",
      "Validation score: 0.677419\n",
      "Iteration 5, loss = 0.54686510\n",
      "Validation score: 0.677419\n",
      "Iteration 6, loss = 0.52973951\n",
      "Validation score: 0.645161\n",
      "Iteration 7, loss = 0.51630746\n",
      "Validation score: 0.645161\n",
      "Validation score did not improve more than tol=0.000100 for two consecutive epochs. Stopping.\n",
      "Iteration 1, loss = 0.94368407\n",
      "Validation score: 0.387097\n",
      "Iteration 2, loss = 0.73841547\n",
      "Validation score: 0.709677\n",
      "Iteration 3, loss = 0.66202271\n",
      "Validation score: 0.709677\n",
      "Iteration 4, loss = 0.62050197\n",
      "Validation score: 0.741935\n",
      "Iteration 5, loss = 0.58992360\n",
      "Validation score: 0.741935\n",
      "Iteration 6, loss = 0.57026865\n",
      "Validation score: 0.741935\n",
      "Iteration 7, loss = 0.55401166\n",
      "Validation score: 0.741935\n",
      "Validation score did not improve more than tol=0.000100 for two consecutive epochs. Stopping.\n",
      "Iteration 1, loss = 0.60671457\n",
      "Validation score: 0.741935\n",
      "Iteration 2, loss = 0.56241926\n",
      "Validation score: 0.709677\n",
      "Iteration 3, loss = 0.53703008\n",
      "Validation score: 0.709677\n",
      "Iteration 4, loss = 0.51964267\n",
      "Validation score: 0.709677\n",
      "Validation score did not improve more than tol=0.000100 for two consecutive epochs. Stopping.\n",
      "Iteration 1, loss = 0.60323294\n",
      "Validation score: 0.741935\n",
      "Iteration 2, loss = 0.55397580\n",
      "Validation score: 0.741935\n",
      "Iteration 3, loss = 0.53093674\n",
      "Validation score: 0.741935\n",
      "Iteration 4, loss = 0.51516222\n",
      "Validation score: 0.741935\n",
      "Validation score did not improve more than tol=0.000100 for two consecutive epochs. Stopping.\n",
      "Iteration 1, loss = 0.58790995\n",
      "Validation score: 0.645161\n",
      "Iteration 2, loss = 0.54825148\n",
      "Validation score: 0.645161\n",
      "Iteration 3, loss = 0.52754054\n",
      "Validation score: 0.645161\n",
      "Iteration 4, loss = 0.51328787\n",
      "Validation score: 0.645161\n",
      "Validation score did not improve more than tol=0.000100 for two consecutive epochs. Stopping.\n",
      "Iteration 1, loss = 0.66421406\n",
      "Validation score: 0.774194\n",
      "Iteration 2, loss = 0.56670331\n",
      "Validation score: 0.774194\n",
      "Iteration 3, loss = 0.53110920\n",
      "Validation score: 0.774194\n",
      "Iteration 4, loss = 0.51043338\n",
      "Validation score: 0.774194\n",
      "Validation score did not improve more than tol=0.000100 for two consecutive epochs. Stopping.\n",
      "Iteration 1, loss = 0.65275938\n",
      "Validation score: 0.677419\n",
      "Iteration 2, loss = 0.56049053\n",
      "Validation score: 0.677419\n",
      "Iteration 3, loss = 0.52807747\n",
      "Validation score: 0.709677\n",
      "Iteration 4, loss = 0.50465075\n",
      "Validation score: 0.709677\n",
      "Iteration 5, loss = 0.49204354\n",
      "Validation score: 0.709677\n",
      "Iteration 6, loss = 0.47962101\n",
      "Validation score: 0.709677\n",
      "Validation score did not improve more than tol=0.000100 for two consecutive epochs. Stopping.\n",
      "Iteration 1, loss = 0.67661793\n",
      "Validation score: 0.677419\n",
      "Iteration 2, loss = 0.58645039\n",
      "Validation score: 0.677419\n",
      "Iteration 3, loss = 0.55096377\n",
      "Validation score: 0.677419\n",
      "Iteration 4, loss = 0.52919218\n",
      "Validation score: 0.677419\n",
      "Validation score did not improve more than tol=0.000100 for two consecutive epochs. Stopping.\n",
      "Iteration 1, loss = 0.60037248\n",
      "Validation score: 0.677419\n",
      "Iteration 2, loss = 0.53083241\n",
      "Validation score: 0.677419\n",
      "Iteration 3, loss = 0.50504790\n",
      "Validation score: 0.709677\n",
      "Iteration 4, loss = 0.49826581\n",
      "Validation score: 0.741935\n",
      "Iteration 5, loss = 0.48197511\n",
      "Validation score: 0.677419\n",
      "Iteration 6, loss = 0.46982370\n",
      "Validation score: 0.741935\n",
      "Iteration 7, loss = 0.46148075\n",
      "Validation score: 0.741935\n",
      "Validation score did not improve more than tol=0.000100 for two consecutive epochs. Stopping.\n",
      "Iteration 1, loss = 0.60984146\n",
      "Validation score: 0.677419\n",
      "Iteration 2, loss = 0.54143170\n",
      "Validation score: 0.709677\n",
      "Iteration 3, loss = 0.51649095\n",
      "Validation score: 0.677419\n",
      "Iteration 4, loss = 0.50145824\n",
      "Validation score: 0.741935\n",
      "Iteration 5, loss = 0.49211347\n",
      "Validation score: 0.741935\n",
      "Iteration 6, loss = 0.48440999\n",
      "Validation score: 0.774194\n",
      "Iteration 7, loss = 0.47791659\n",
      "Validation score: 0.741935\n",
      "Iteration 8, loss = 0.47583588\n",
      "Validation score: 0.741935\n",
      "Iteration 9, loss = 0.46656202\n",
      "Validation score: 0.741935\n",
      "Validation score did not improve more than tol=0.000100 for two consecutive epochs. Stopping.\n",
      "Iteration 1, loss = 0.61332125\n",
      "Validation score: 0.774194\n",
      "Iteration 2, loss = 0.54583178\n",
      "Validation score: 0.709677\n",
      "Iteration 3, loss = 0.52446932\n",
      "Validation score: 0.709677\n",
      "Iteration 4, loss = 0.50896714\n",
      "Validation score: 0.774194\n",
      "Validation score did not improve more than tol=0.000100 for two consecutive epochs. Stopping.\n",
      "Iteration 1, loss = 0.60202830\n",
      "Validation score: 0.612903\n",
      "Iteration 2, loss = 0.52440667\n",
      "Validation score: 0.612903\n",
      "Iteration 3, loss = 0.50058569\n",
      "Validation score: 0.580645\n",
      "Iteration 4, loss = 0.47939343\n",
      "Validation score: 0.645161\n",
      "Iteration 5, loss = 0.47410993\n",
      "Validation score: 0.677419\n",
      "Iteration 6, loss = 0.45909940\n",
      "Validation score: 0.645161\n",
      "Iteration 7, loss = 0.45665069\n",
      "Validation score: 0.645161\n",
      "Iteration 8, loss = 0.44614651\n",
      "Validation score: 0.677419\n",
      "Validation score did not improve more than tol=0.000100 for two consecutive epochs. Stopping.\n",
      "Iteration 1, loss = 0.61389813\n",
      "Validation score: 0.677419\n",
      "Iteration 2, loss = 0.52091614\n",
      "Validation score: 0.677419\n",
      "Iteration 3, loss = 0.50481864\n",
      "Validation score: 0.677419\n",
      "Iteration 4, loss = 0.48560944\n",
      "Validation score: 0.677419\n",
      "Validation score did not improve more than tol=0.000100 for two consecutive epochs. Stopping.\n",
      "Iteration 1, loss = 0.61453863\n",
      "Validation score: 0.741935\n",
      "Iteration 2, loss = 0.54335012\n",
      "Validation score: 0.741935\n",
      "Iteration 3, loss = 0.51979048\n",
      "Validation score: 0.741935\n",
      "Iteration 4, loss = 0.50603758\n",
      "Validation score: 0.741935\n",
      "Validation score did not improve more than tol=0.000100 for two consecutive epochs. Stopping.\n",
      "Iteration 1, loss = 0.59836153\n",
      "Validation score: 0.612903\n",
      "Iteration 2, loss = 0.52147186\n",
      "Validation score: 0.677419\n",
      "Iteration 3, loss = 0.49663445\n",
      "Validation score: 0.709677\n",
      "Iteration 4, loss = 0.48463268\n",
      "Validation score: 0.709677\n",
      "Iteration 5, loss = 0.46828852\n",
      "Validation score: 0.741935\n",
      "Iteration 6, loss = 0.47140781\n",
      "Validation score: 0.709677\n",
      "Iteration 7, loss = 0.45854656\n",
      "Validation score: 0.741935\n",
      "Iteration 8, loss = 0.45425606\n",
      "Validation score: 0.741935\n",
      "Validation score did not improve more than tol=0.000100 for two consecutive epochs. Stopping.\n",
      "Iteration 1, loss = 0.58554211\n",
      "Validation score: 0.741935\n",
      "Iteration 2, loss = 0.51774004\n",
      "Validation score: 0.709677\n",
      "Iteration 3, loss = 0.49780508\n",
      "Validation score: 0.645161\n",
      "Iteration 4, loss = 0.47335533\n",
      "Validation score: 0.612903\n",
      "Validation score did not improve more than tol=0.000100 for two consecutive epochs. Stopping.\n",
      "Iteration 1, loss = 0.59986589\n",
      "Validation score: 0.612903\n",
      "Iteration 2, loss = 0.52845343\n",
      "Validation score: 0.645161\n",
      "Iteration 3, loss = 0.50060105\n",
      "Validation score: 0.677419\n",
      "Iteration 4, loss = 0.48025208\n",
      "Validation score: 0.645161\n",
      "Iteration 5, loss = 0.47602227\n",
      "Validation score: 0.645161\n",
      "Iteration 6, loss = 0.47514687\n",
      "Validation score: 0.645161\n",
      "Validation score did not improve more than tol=0.000100 for two consecutive epochs. Stopping.\n",
      "Iteration 1, loss = 0.66013895\n",
      "Validation score: 0.741935\n",
      "Iteration 2, loss = 0.59852489\n",
      "Validation score: 0.774194\n",
      "Iteration 3, loss = 0.56692235\n",
      "Validation score: 0.774194\n",
      "Iteration 4, loss = 0.54302239\n",
      "Validation score: 0.741935\n",
      "Iteration 5, loss = 0.51694684\n",
      "Validation score: 0.741935\n",
      "Validation score did not improve more than tol=0.000100 for two consecutive epochs. Stopping.\n",
      "Iteration 1, loss = 0.65150903\n",
      "Validation score: 0.806452\n",
      "Iteration 2, loss = 0.59146380\n",
      "Validation score: 0.806452\n",
      "Iteration 3, loss = 0.55900534\n",
      "Validation score: 0.774194\n",
      "Iteration 4, loss = 0.53353075\n",
      "Validation score: 0.806452\n",
      "Validation score did not improve more than tol=0.000100 for two consecutive epochs. Stopping.\n",
      "Iteration 1, loss = 0.65053569\n",
      "Validation score: 0.741935\n",
      "Iteration 2, loss = 0.59464950\n",
      "Validation score: 0.741935\n",
      "Iteration 3, loss = 0.57194146\n",
      "Validation score: 0.741935\n",
      "Iteration 4, loss = 0.54791245\n",
      "Validation score: 0.741935\n",
      "Validation score did not improve more than tol=0.000100 for two consecutive epochs. Stopping.\n",
      "Iteration 1, loss = 0.58761800\n",
      "Validation score: 0.709677\n"
     ]
    },
    {
     "name": "stdout",
     "output_type": "stream",
     "text": [
      "Iteration 2, loss = 0.53823582\n",
      "Validation score: 0.677419\n",
      "Iteration 3, loss = 0.51362196\n",
      "Validation score: 0.709677\n",
      "Iteration 4, loss = 0.49988130\n",
      "Validation score: 0.741935\n",
      "Iteration 5, loss = 0.48516055\n",
      "Validation score: 0.774194\n",
      "Iteration 6, loss = 0.47638858\n",
      "Validation score: 0.774194\n",
      "Iteration 7, loss = 0.46633385\n",
      "Validation score: 0.741935\n",
      "Iteration 8, loss = 0.45393150\n",
      "Validation score: 0.709677\n",
      "Validation score did not improve more than tol=0.000100 for two consecutive epochs. Stopping.\n",
      "Iteration 1, loss = 0.59912681\n",
      "Validation score: 0.677419\n",
      "Iteration 2, loss = 0.53892368\n",
      "Validation score: 0.709677\n",
      "Iteration 3, loss = 0.51819340\n",
      "Validation score: 0.709677\n",
      "Iteration 4, loss = 0.49889378\n",
      "Validation score: 0.709677\n",
      "Iteration 5, loss = 0.49633821\n",
      "Validation score: 0.709677\n",
      "Validation score did not improve more than tol=0.000100 for two consecutive epochs. Stopping.\n",
      "Iteration 1, loss = 0.59933977\n",
      "Validation score: 0.741935\n",
      "Iteration 2, loss = 0.54885856\n",
      "Validation score: 0.741935\n",
      "Iteration 3, loss = 0.52607541\n",
      "Validation score: 0.741935\n",
      "Iteration 4, loss = 0.50539325\n",
      "Validation score: 0.709677\n",
      "Validation score did not improve more than tol=0.000100 for two consecutive epochs. Stopping.\n",
      "Iteration 1, loss = 0.59639516\n",
      "Validation score: 0.774194\n",
      "Iteration 2, loss = 0.53656335\n",
      "Validation score: 0.677419\n",
      "Iteration 3, loss = 0.50643768\n",
      "Validation score: 0.580645\n",
      "Iteration 4, loss = 0.49120610\n",
      "Validation score: 0.612903\n",
      "Validation score did not improve more than tol=0.000100 for two consecutive epochs. Stopping.\n",
      "Iteration 1, loss = 0.61001790\n",
      "Validation score: 0.774194\n",
      "Iteration 2, loss = 0.51561337\n",
      "Validation score: 0.774194\n",
      "Iteration 3, loss = 0.48807585\n",
      "Validation score: 0.774194\n",
      "Iteration 4, loss = 0.47706592\n",
      "Validation score: 0.709677\n",
      "Validation score did not improve more than tol=0.000100 for two consecutive epochs. Stopping.\n",
      "Iteration 1, loss = 0.59861755\n",
      "Validation score: 0.838710\n",
      "Iteration 2, loss = 0.55034460\n",
      "Validation score: 0.806452\n",
      "Iteration 3, loss = 0.51862847\n",
      "Validation score: 0.709677\n",
      "Iteration 4, loss = 0.51084909\n",
      "Validation score: 0.709677\n",
      "Validation score did not improve more than tol=0.000100 for two consecutive epochs. Stopping.\n",
      "Iteration 1, loss = 0.58298931\n",
      "Validation score: 0.548387\n",
      "Iteration 2, loss = 0.51293141\n",
      "Validation score: 0.612903\n",
      "Iteration 3, loss = 0.48471935\n",
      "Validation score: 0.645161\n",
      "Iteration 4, loss = 0.46032085\n",
      "Validation score: 0.580645\n",
      "Iteration 5, loss = 0.45097564\n",
      "Validation score: 0.677419\n",
      "Iteration 6, loss = 0.44070578\n",
      "Validation score: 0.677419\n",
      "Iteration 7, loss = 0.43596761\n",
      "Validation score: 0.709677\n",
      "Iteration 8, loss = 0.42394634\n",
      "Validation score: 0.709677\n",
      "Iteration 9, loss = 0.41251071\n",
      "Validation score: 0.709677\n",
      "Iteration 10, loss = 0.41345364\n",
      "Validation score: 0.645161\n",
      "Validation score did not improve more than tol=0.000100 for two consecutive epochs. Stopping.\n",
      "Iteration 1, loss = 0.57568268\n",
      "Validation score: 0.709677\n",
      "Iteration 2, loss = 0.51665814\n",
      "Validation score: 0.709677\n",
      "Iteration 3, loss = 0.47922857\n",
      "Validation score: 0.709677\n",
      "Iteration 4, loss = 0.51513188\n",
      "Validation score: 0.709677\n",
      "Validation score did not improve more than tol=0.000100 for two consecutive epochs. Stopping.\n",
      "Iteration 1, loss = 0.58932678\n",
      "Validation score: 0.709677\n",
      "Iteration 2, loss = 0.53012713\n",
      "Validation score: 0.774194\n",
      "Iteration 3, loss = 0.50467333\n",
      "Validation score: 0.709677\n",
      "Iteration 4, loss = 0.48903697\n",
      "Validation score: 0.774194\n",
      "Iteration 5, loss = 0.48580854\n",
      "Validation score: 0.645161\n",
      "Validation score did not improve more than tol=0.000100 for two consecutive epochs. Stopping.\n",
      "Iteration 1, loss = 0.62334192\n",
      "Validation score: 0.677419\n",
      "Iteration 2, loss = 0.51481852\n",
      "Validation score: 0.645161\n",
      "Iteration 3, loss = 0.49369282\n",
      "Validation score: 0.612903\n",
      "Iteration 4, loss = 0.47534593\n",
      "Validation score: 0.612903\n",
      "Validation score did not improve more than tol=0.000100 for two consecutive epochs. Stopping.\n",
      "Iteration 1, loss = 0.61213274\n",
      "Validation score: 0.870968\n",
      "Iteration 2, loss = 0.55400481\n",
      "Validation score: 0.838710\n",
      "Iteration 3, loss = 0.51633130\n",
      "Validation score: 0.838710\n",
      "Iteration 4, loss = 0.52987911\n",
      "Validation score: 0.838710\n",
      "Validation score did not improve more than tol=0.000100 for two consecutive epochs. Stopping.\n",
      "Iteration 1, loss = 0.62498264\n",
      "Validation score: 0.774194\n",
      "Iteration 2, loss = 0.52256123\n",
      "Validation score: 0.774194\n",
      "Iteration 3, loss = 0.50296350\n",
      "Validation score: 0.677419\n",
      "Iteration 4, loss = 0.49125538\n",
      "Validation score: 0.741935\n",
      "Validation score did not improve more than tol=0.000100 for two consecutive epochs. Stopping.\n",
      "Iteration 1, loss = 0.63748206\n",
      "Validation score: 0.838710\n",
      "Iteration 2, loss = 0.55219048\n",
      "Validation score: 0.870968\n",
      "Iteration 3, loss = 0.52290479\n",
      "Validation score: 0.709677\n",
      "Iteration 4, loss = 0.51933972\n",
      "Validation score: 0.806452\n",
      "Iteration 5, loss = 0.47634694\n",
      "Validation score: 0.806452\n",
      "Validation score did not improve more than tol=0.000100 for two consecutive epochs. Stopping.\n",
      "Iteration 1, loss = 0.68276314\n",
      "Validation score: 0.806452\n",
      "Iteration 2, loss = 0.56266090\n",
      "Validation score: 0.645161\n",
      "Iteration 3, loss = 0.51630954\n",
      "Validation score: 0.645161\n",
      "Iteration 4, loss = 0.48227203\n",
      "Validation score: 0.612903\n",
      "Validation score did not improve more than tol=0.000100 for two consecutive epochs. Stopping.\n",
      "Iteration 1, loss = 0.64194490\n",
      "Validation score: 0.774194\n",
      "Iteration 2, loss = 0.53956968\n",
      "Validation score: 0.774194\n",
      "Iteration 3, loss = 0.52725171\n",
      "Validation score: 0.645161\n",
      "Iteration 4, loss = 0.50131770\n",
      "Validation score: 0.806452\n",
      "Iteration 5, loss = 0.48180197\n",
      "Validation score: 0.580645\n",
      "Iteration 6, loss = 0.49226173\n",
      "Validation score: 0.709677\n",
      "Iteration 7, loss = 0.47048020\n",
      "Validation score: 0.645161\n",
      "Validation score did not improve more than tol=0.000100 for two consecutive epochs. Stopping.\n",
      "Iteration 1, loss = 0.99088044\n",
      "Validation score: 0.354839\n",
      "Iteration 2, loss = 0.81189468\n",
      "Validation score: 0.483871\n",
      "Iteration 3, loss = 0.71636387\n",
      "Validation score: 0.612903\n",
      "Iteration 4, loss = 0.66390756\n",
      "Validation score: 0.677419\n",
      "Iteration 5, loss = 0.62952120\n",
      "Validation score: 0.677419\n",
      "Iteration 6, loss = 0.60352348\n",
      "Validation score: 0.677419\n",
      "Iteration 7, loss = 0.58362405\n",
      "Validation score: 0.709677\n",
      "Iteration 8, loss = 0.56790159\n",
      "Validation score: 0.709677\n",
      "Iteration 9, loss = 0.55494712\n",
      "Validation score: 0.709677\n",
      "Iteration 10, loss = 0.54375475\n",
      "Validation score: 0.709677\n",
      "Validation score did not improve more than tol=0.000100 for two consecutive epochs. Stopping.\n",
      "Iteration 1, loss = 0.93573358\n",
      "Validation score: 0.290323\n",
      "Iteration 2, loss = 0.75709775\n",
      "Validation score: 0.483871\n",
      "Iteration 3, loss = 0.67513543\n",
      "Validation score: 0.612903\n",
      "Iteration 4, loss = 0.62429195\n",
      "Validation score: 0.677419\n",
      "Iteration 5, loss = 0.59172509\n",
      "Validation score: 0.645161\n",
      "Iteration 6, loss = 0.56860620\n",
      "Validation score: 0.677419\n",
      "Iteration 7, loss = 0.55070462\n",
      "Validation score: 0.645161\n",
      "Validation score did not improve more than tol=0.000100 for two consecutive epochs. Stopping.\n",
      "Iteration 1, loss = 0.99030711\n",
      "Validation score: 0.419355\n",
      "Iteration 2, loss = 0.81164632\n",
      "Validation score: 0.387097\n",
      "Iteration 3, loss = 0.72019311\n",
      "Validation score: 0.677419\n",
      "Iteration 4, loss = 0.67068661\n",
      "Validation score: 0.709677\n",
      "Iteration 5, loss = 0.63686922\n",
      "Validation score: 0.741935\n",
      "Iteration 6, loss = 0.61323969\n",
      "Validation score: 0.741935\n",
      "Iteration 7, loss = 0.59495738\n",
      "Validation score: 0.741935\n",
      "Iteration 8, loss = 0.57741281\n",
      "Validation score: 0.741935\n",
      "Validation score did not improve more than tol=0.000100 for two consecutive epochs. Stopping.\n",
      "Iteration 1, loss = 0.61104103\n",
      "Validation score: 0.741935\n",
      "Iteration 2, loss = 0.57447552\n",
      "Validation score: 0.741935\n",
      "Iteration 3, loss = 0.55188094\n",
      "Validation score: 0.709677\n",
      "Iteration 4, loss = 0.53506835\n",
      "Validation score: 0.709677\n",
      "Validation score did not improve more than tol=0.000100 for two consecutive epochs. Stopping.\n",
      "Iteration 1, loss = 0.61096295\n",
      "Validation score: 0.741935\n",
      "Iteration 2, loss = 0.56648830\n",
      "Validation score: 0.741935\n",
      "Iteration 3, loss = 0.54468017\n",
      "Validation score: 0.741935\n",
      "Iteration 4, loss = 0.52890011\n",
      "Validation score: 0.741935\n",
      "Validation score did not improve more than tol=0.000100 for two consecutive epochs. Stopping.\n",
      "Iteration 1, loss = 0.59252458\n",
      "Validation score: 0.645161\n",
      "Iteration 2, loss = 0.55880844\n",
      "Validation score: 0.645161\n",
      "Iteration 3, loss = 0.54050827\n",
      "Validation score: 0.645161\n",
      "Iteration 4, loss = 0.52692000\n",
      "Validation score: 0.645161\n",
      "Validation score did not improve more than tol=0.000100 for two consecutive epochs. Stopping.\n",
      "Iteration 1, loss = 0.68610142\n",
      "Validation score: 0.774194\n",
      "Iteration 2, loss = 0.58885726\n",
      "Validation score: 0.774194\n",
      "Iteration 3, loss = 0.55251860\n",
      "Validation score: 0.774194\n"
     ]
    },
    {
     "name": "stdout",
     "output_type": "stream",
     "text": [
      "Iteration 4, loss = 0.52972029\n",
      "Validation score: 0.774194\n",
      "Validation score did not improve more than tol=0.000100 for two consecutive epochs. Stopping.\n",
      "Iteration 1, loss = 0.67789152\n",
      "Validation score: 0.677419\n",
      "Iteration 2, loss = 0.58277039\n",
      "Validation score: 0.677419\n",
      "Iteration 3, loss = 0.54766872\n",
      "Validation score: 0.677419\n",
      "Iteration 4, loss = 0.52582978\n",
      "Validation score: 0.709677\n",
      "Iteration 5, loss = 0.51207870\n",
      "Validation score: 0.709677\n",
      "Iteration 6, loss = 0.49639448\n",
      "Validation score: 0.741935\n",
      "Iteration 7, loss = 0.48750252\n",
      "Validation score: 0.709677\n",
      "Iteration 8, loss = 0.47880912\n",
      "Validation score: 0.709677\n",
      "Iteration 9, loss = 0.47093625\n",
      "Validation score: 0.677419\n",
      "Validation score did not improve more than tol=0.000100 for two consecutive epochs. Stopping.\n",
      "Iteration 1, loss = 0.70235183\n",
      "Validation score: 0.677419\n",
      "Iteration 2, loss = 0.61154229\n",
      "Validation score: 0.709677\n",
      "Iteration 3, loss = 0.57275588\n",
      "Validation score: 0.677419\n",
      "Iteration 4, loss = 0.55126498\n",
      "Validation score: 0.677419\n",
      "Iteration 5, loss = 0.53455339\n",
      "Validation score: 0.677419\n",
      "Validation score did not improve more than tol=0.000100 for two consecutive epochs. Stopping.\n",
      "Iteration 1, loss = 0.62770054\n",
      "Validation score: 0.677419\n",
      "Iteration 2, loss = 0.54329108\n",
      "Validation score: 0.677419\n",
      "Iteration 3, loss = 0.52033650\n",
      "Validation score: 0.677419\n",
      "Iteration 4, loss = 0.50298711\n",
      "Validation score: 0.709677\n",
      "Iteration 5, loss = 0.49420811\n",
      "Validation score: 0.741935\n",
      "Iteration 6, loss = 0.48181899\n",
      "Validation score: 0.709677\n",
      "Iteration 7, loss = 0.47321504\n",
      "Validation score: 0.709677\n",
      "Iteration 8, loss = 0.46873139\n",
      "Validation score: 0.709677\n",
      "Validation score did not improve more than tol=0.000100 for two consecutive epochs. Stopping.\n",
      "Iteration 1, loss = 0.62060257\n",
      "Validation score: 0.677419\n",
      "Iteration 2, loss = 0.55471805\n",
      "Validation score: 0.677419\n",
      "Iteration 3, loss = 0.52814315\n",
      "Validation score: 0.709677\n",
      "Iteration 4, loss = 0.51101806\n",
      "Validation score: 0.709677\n",
      "Iteration 5, loss = 0.50085426\n",
      "Validation score: 0.741935\n",
      "Iteration 6, loss = 0.49248003\n",
      "Validation score: 0.709677\n",
      "Iteration 7, loss = 0.48810905\n",
      "Validation score: 0.741935\n",
      "Iteration 8, loss = 0.47963284\n",
      "Validation score: 0.741935\n",
      "Validation score did not improve more than tol=0.000100 for two consecutive epochs. Stopping.\n",
      "Iteration 1, loss = 0.62913922\n",
      "Validation score: 0.774194\n",
      "Iteration 2, loss = 0.55945897\n",
      "Validation score: 0.774194\n",
      "Iteration 3, loss = 0.53927115\n",
      "Validation score: 0.709677\n",
      "Iteration 4, loss = 0.51979458\n",
      "Validation score: 0.774194\n",
      "Validation score did not improve more than tol=0.000100 for two consecutive epochs. Stopping.\n",
      "Iteration 1, loss = 0.61492794\n",
      "Validation score: 0.612903\n",
      "Iteration 2, loss = 0.53511194\n",
      "Validation score: 0.645161\n",
      "Iteration 3, loss = 0.50851911\n",
      "Validation score: 0.645161\n",
      "Iteration 4, loss = 0.49398087\n",
      "Validation score: 0.645161\n",
      "Iteration 5, loss = 0.47942529\n",
      "Validation score: 0.677419\n",
      "Iteration 6, loss = 0.46804652\n",
      "Validation score: 0.612903\n",
      "Iteration 7, loss = 0.46586164\n",
      "Validation score: 0.677419\n",
      "Iteration 8, loss = 0.45541318\n",
      "Validation score: 0.677419\n",
      "Validation score did not improve more than tol=0.000100 for two consecutive epochs. Stopping.\n",
      "Iteration 1, loss = 0.62432904\n",
      "Validation score: 0.677419\n",
      "Iteration 2, loss = 0.53628796\n",
      "Validation score: 0.677419\n",
      "Iteration 3, loss = 0.51536866\n",
      "Validation score: 0.709677\n",
      "Iteration 4, loss = 0.49051321\n",
      "Validation score: 0.677419\n",
      "Iteration 5, loss = 0.48134582\n",
      "Validation score: 0.677419\n",
      "Iteration 6, loss = 0.46808523\n",
      "Validation score: 0.677419\n",
      "Validation score did not improve more than tol=0.000100 for two consecutive epochs. Stopping.\n",
      "Iteration 1, loss = 0.62658770\n",
      "Validation score: 0.741935\n",
      "Iteration 2, loss = 0.55081036\n",
      "Validation score: 0.741935\n",
      "Iteration 3, loss = 0.52985114\n",
      "Validation score: 0.741935\n",
      "Iteration 4, loss = 0.51468382\n",
      "Validation score: 0.741935\n",
      "Validation score did not improve more than tol=0.000100 for two consecutive epochs. Stopping.\n",
      "Iteration 1, loss = 0.60440111\n",
      "Validation score: 0.580645\n",
      "Iteration 2, loss = 0.52300884\n",
      "Validation score: 0.709677\n",
      "Iteration 3, loss = 0.49817439\n",
      "Validation score: 0.741935\n",
      "Iteration 4, loss = 0.48023507\n",
      "Validation score: 0.677419\n",
      "Iteration 5, loss = 0.46896380\n",
      "Validation score: 0.774194\n",
      "Iteration 6, loss = 0.46627507\n",
      "Validation score: 0.709677\n",
      "Iteration 7, loss = 0.45872178\n",
      "Validation score: 0.741935\n",
      "Iteration 8, loss = 0.45185090\n",
      "Validation score: 0.741935\n",
      "Validation score did not improve more than tol=0.000100 for two consecutive epochs. Stopping.\n",
      "Iteration 1, loss = 0.58702989\n",
      "Validation score: 0.709677\n",
      "Iteration 2, loss = 0.52067640\n",
      "Validation score: 0.709677\n",
      "Iteration 3, loss = 0.49547300\n",
      "Validation score: 0.645161\n",
      "Iteration 4, loss = 0.47539304\n",
      "Validation score: 0.645161\n",
      "Validation score did not improve more than tol=0.000100 for two consecutive epochs. Stopping.\n",
      "Iteration 1, loss = 0.60672903\n",
      "Validation score: 0.677419\n",
      "Iteration 2, loss = 0.52703412\n",
      "Validation score: 0.677419\n",
      "Iteration 3, loss = 0.50371451\n",
      "Validation score: 0.677419\n",
      "Iteration 4, loss = 0.49861294\n",
      "Validation score: 0.612903\n",
      "Validation score did not improve more than tol=0.000100 for two consecutive epochs. Stopping.\n",
      "Iteration 1, loss = 0.66869702\n",
      "Validation score: 0.709677\n",
      "Iteration 2, loss = 0.61231163\n",
      "Validation score: 0.741935\n",
      "Iteration 3, loss = 0.58668699\n",
      "Validation score: 0.774194\n",
      "Iteration 4, loss = 0.56703842\n",
      "Validation score: 0.774194\n",
      "Iteration 5, loss = 0.54349499\n",
      "Validation score: 0.741935\n",
      "Iteration 6, loss = 0.52809481\n",
      "Validation score: 0.741935\n",
      "Validation score did not improve more than tol=0.000100 for two consecutive epochs. Stopping.\n",
      "Iteration 1, loss = 0.66332423\n",
      "Validation score: 0.774194\n",
      "Iteration 2, loss = 0.60780916\n",
      "Validation score: 0.806452\n",
      "Iteration 3, loss = 0.57932745\n",
      "Validation score: 0.806452\n",
      "Iteration 4, loss = 0.55711556\n",
      "Validation score: 0.806452\n",
      "Iteration 5, loss = 0.54059740\n",
      "Validation score: 0.774194\n",
      "Validation score did not improve more than tol=0.000100 for two consecutive epochs. Stopping.\n",
      "Iteration 1, loss = 0.65923240\n",
      "Validation score: 0.741935\n",
      "Iteration 2, loss = 0.60597612\n",
      "Validation score: 0.741935\n",
      "Iteration 3, loss = 0.58759188\n",
      "Validation score: 0.741935\n",
      "Iteration 4, loss = 0.57052831\n",
      "Validation score: 0.741935\n",
      "Validation score did not improve more than tol=0.000100 for two consecutive epochs. Stopping.\n",
      "Iteration 1, loss = 0.59245410\n",
      "Validation score: 0.709677\n",
      "Iteration 2, loss = 0.54744029\n",
      "Validation score: 0.709677\n",
      "Iteration 3, loss = 0.52289614\n",
      "Validation score: 0.709677\n",
      "Iteration 4, loss = 0.50817178\n",
      "Validation score: 0.709677\n",
      "Validation score did not improve more than tol=0.000100 for two consecutive epochs. Stopping.\n",
      "Iteration 1, loss = 0.60237835\n",
      "Validation score: 0.677419\n",
      "Iteration 2, loss = 0.54930421\n",
      "Validation score: 0.677419\n",
      "Iteration 3, loss = 0.52928678\n",
      "Validation score: 0.709677\n",
      "Iteration 4, loss = 0.51001535\n",
      "Validation score: 0.709677\n",
      "Iteration 5, loss = 0.50536396\n",
      "Validation score: 0.709677\n",
      "Iteration 6, loss = 0.48637403\n",
      "Validation score: 0.709677\n",
      "Validation score did not improve more than tol=0.000100 for two consecutive epochs. Stopping.\n",
      "Iteration 1, loss = 0.60052200\n",
      "Validation score: 0.741935\n",
      "Iteration 2, loss = 0.55715172\n",
      "Validation score: 0.741935\n",
      "Iteration 3, loss = 0.53540184\n",
      "Validation score: 0.741935\n",
      "Iteration 4, loss = 0.51860633\n",
      "Validation score: 0.709677\n",
      "Validation score did not improve more than tol=0.000100 for two consecutive epochs. Stopping.\n",
      "Iteration 1, loss = 0.60314304\n",
      "Validation score: 0.774194\n",
      "Iteration 2, loss = 0.54606339\n",
      "Validation score: 0.741935\n",
      "Iteration 3, loss = 0.50766530\n",
      "Validation score: 0.580645\n",
      "Iteration 4, loss = 0.49689257\n",
      "Validation score: 0.612903\n",
      "Validation score did not improve more than tol=0.000100 for two consecutive epochs. Stopping.\n",
      "Iteration 1, loss = 0.61170953\n",
      "Validation score: 0.774194\n",
      "Iteration 2, loss = 0.53565802\n",
      "Validation score: 0.774194\n",
      "Iteration 3, loss = 0.50036125\n",
      "Validation score: 0.806452\n",
      "Iteration 4, loss = 0.47913084\n",
      "Validation score: 0.774194\n",
      "Iteration 5, loss = 0.45836235\n",
      "Validation score: 0.709677\n",
      "Iteration 6, loss = 0.45730172\n",
      "Validation score: 0.774194\n",
      "Validation score did not improve more than tol=0.000100 for two consecutive epochs. Stopping.\n",
      "Iteration 1, loss = 0.60385153\n",
      "Validation score: 0.838710\n",
      "Iteration 2, loss = 0.55705073\n",
      "Validation score: 0.838710\n",
      "Iteration 3, loss = 0.52362856\n",
      "Validation score: 0.806452\n"
     ]
    },
    {
     "name": "stdout",
     "output_type": "stream",
     "text": [
      "Iteration 4, loss = 0.50970154\n",
      "Validation score: 0.774194\n",
      "Validation score did not improve more than tol=0.000100 for two consecutive epochs. Stopping.\n",
      "Iteration 1, loss = 0.59418308\n",
      "Validation score: 0.548387\n",
      "Iteration 2, loss = 0.51087517\n",
      "Validation score: 0.645161\n",
      "Iteration 3, loss = 0.48907015\n",
      "Validation score: 0.580645\n",
      "Iteration 4, loss = 0.46185357\n",
      "Validation score: 0.645161\n",
      "Iteration 5, loss = 0.45004299\n",
      "Validation score: 0.677419\n",
      "Iteration 6, loss = 0.43839975\n",
      "Validation score: 0.709677\n",
      "Iteration 7, loss = 0.42574578\n",
      "Validation score: 0.645161\n",
      "Iteration 8, loss = 0.41791530\n",
      "Validation score: 0.645161\n",
      "Iteration 9, loss = 0.40639092\n",
      "Validation score: 0.612903\n",
      "Validation score did not improve more than tol=0.000100 for two consecutive epochs. Stopping.\n",
      "Iteration 1, loss = 0.58250295\n",
      "Validation score: 0.677419\n",
      "Iteration 2, loss = 0.50550282\n",
      "Validation score: 0.741935\n",
      "Iteration 3, loss = 0.47591406\n",
      "Validation score: 0.709677\n",
      "Iteration 4, loss = 0.47927547\n",
      "Validation score: 0.709677\n",
      "Iteration 5, loss = 0.44977710\n",
      "Validation score: 0.677419\n",
      "Validation score did not improve more than tol=0.000100 for two consecutive epochs. Stopping.\n",
      "Iteration 1, loss = 0.59966492\n",
      "Validation score: 0.709677\n",
      "Iteration 2, loss = 0.52308919\n",
      "Validation score: 0.806452\n",
      "Iteration 3, loss = 0.50684332\n",
      "Validation score: 0.741935\n",
      "Iteration 4, loss = 0.48309504\n",
      "Validation score: 0.774194\n",
      "Iteration 5, loss = 0.48585019\n",
      "Validation score: 0.806452\n",
      "Validation score did not improve more than tol=0.000100 for two consecutive epochs. Stopping.\n",
      "Iteration 1, loss = 0.61733300\n",
      "Validation score: 0.677419\n",
      "Iteration 2, loss = 0.50344736\n",
      "Validation score: 0.580645\n",
      "Iteration 3, loss = 0.49443337\n",
      "Validation score: 0.612903\n",
      "Iteration 4, loss = 0.47154586\n",
      "Validation score: 0.677419\n",
      "Validation score did not improve more than tol=0.000100 for two consecutive epochs. Stopping.\n",
      "Iteration 1, loss = 0.60359286\n",
      "Validation score: 0.838710\n",
      "Iteration 2, loss = 0.51634955\n",
      "Validation score: 0.838710\n",
      "Iteration 3, loss = 0.50229589\n",
      "Validation score: 0.870968\n",
      "Iteration 4, loss = 0.53501924\n",
      "Validation score: 0.806452\n",
      "Iteration 5, loss = 0.47717546\n",
      "Validation score: 0.806452\n",
      "Iteration 6, loss = 0.45464336\n",
      "Validation score: 0.806452\n",
      "Validation score did not improve more than tol=0.000100 for two consecutive epochs. Stopping.\n",
      "Iteration 1, loss = 0.60163911\n",
      "Validation score: 0.774194\n",
      "Iteration 2, loss = 0.53791092\n",
      "Validation score: 0.741935\n",
      "Iteration 3, loss = 0.49171151\n",
      "Validation score: 0.677419\n",
      "Iteration 4, loss = 0.48591384\n",
      "Validation score: 0.709677\n",
      "Validation score did not improve more than tol=0.000100 for two consecutive epochs. Stopping.\n",
      "Iteration 1, loss = 0.61418797\n",
      "Validation score: 0.838710\n",
      "Iteration 2, loss = 0.53506012\n",
      "Validation score: 0.903226\n",
      "Iteration 3, loss = 0.49856727\n",
      "Validation score: 0.806452\n",
      "Iteration 4, loss = 0.50334546\n",
      "Validation score: 0.806452\n",
      "Iteration 5, loss = 0.46224438\n",
      "Validation score: 0.838710\n",
      "Validation score did not improve more than tol=0.000100 for two consecutive epochs. Stopping.\n",
      "Iteration 1, loss = 0.66278511\n",
      "Validation score: 0.612903\n",
      "Iteration 2, loss = 0.55748651\n",
      "Validation score: 0.677419\n",
      "Iteration 3, loss = 0.50106141\n",
      "Validation score: 0.645161\n",
      "Iteration 4, loss = 0.47635597\n",
      "Validation score: 0.612903\n",
      "Iteration 5, loss = 0.46279803\n",
      "Validation score: 0.709677\n",
      "Iteration 6, loss = 0.46805983\n",
      "Validation score: 0.645161\n",
      "Iteration 7, loss = 0.45172400\n",
      "Validation score: 0.677419\n",
      "Iteration 8, loss = 0.42120973\n",
      "Validation score: 0.612903\n",
      "Validation score did not improve more than tol=0.000100 for two consecutive epochs. Stopping.\n",
      "Iteration 1, loss = 0.68413328\n",
      "Validation score: 0.741935\n",
      "Iteration 2, loss = 0.53555609\n",
      "Validation score: 0.838710\n",
      "Iteration 3, loss = 0.52940541\n",
      "Validation score: 0.741935\n",
      "Iteration 4, loss = 0.49680772\n",
      "Validation score: 0.709677\n",
      "Iteration 5, loss = 0.47855750\n",
      "Validation score: 0.580645\n",
      "Validation score did not improve more than tol=0.000100 for two consecutive epochs. Stopping.\n",
      "Iteration 1, loss = 1.01926572\n",
      "Validation score: 0.322581\n",
      "Iteration 2, loss = 0.85887038\n",
      "Validation score: 0.451613\n",
      "Iteration 3, loss = 0.76162365\n",
      "Validation score: 0.548387\n",
      "Iteration 4, loss = 0.70511747\n",
      "Validation score: 0.580645\n",
      "Iteration 5, loss = 0.66695251\n",
      "Validation score: 0.677419\n",
      "Iteration 6, loss = 0.63804013\n",
      "Validation score: 0.677419\n",
      "Iteration 7, loss = 0.61508118\n",
      "Validation score: 0.677419\n",
      "Iteration 8, loss = 0.59712610\n",
      "Validation score: 0.709677\n",
      "Iteration 9, loss = 0.58240244\n",
      "Validation score: 0.741935\n",
      "Iteration 10, loss = 0.57074058\n",
      "Validation score: 0.709677\n",
      "Iteration 11, loss = 0.56028561\n",
      "Validation score: 0.709677\n",
      "Iteration 12, loss = 0.54930294\n",
      "Validation score: 0.709677\n",
      "Validation score did not improve more than tol=0.000100 for two consecutive epochs. Stopping.\n",
      "Iteration 1, loss = 0.97775145\n",
      "Validation score: 0.322581\n",
      "Iteration 2, loss = 0.81994534\n",
      "Validation score: 0.387097\n",
      "Iteration 3, loss = 0.72964118\n",
      "Validation score: 0.451613\n",
      "Iteration 4, loss = 0.67141675\n",
      "Validation score: 0.580645\n",
      "Iteration 5, loss = 0.63233011\n",
      "Validation score: 0.677419\n",
      "Iteration 6, loss = 0.60421368\n",
      "Validation score: 0.645161\n",
      "Iteration 7, loss = 0.58132528\n",
      "Validation score: 0.645161\n",
      "Iteration 8, loss = 0.56542954\n",
      "Validation score: 0.677419\n",
      "Validation score did not improve more than tol=0.000100 for two consecutive epochs. Stopping.\n",
      "Iteration 1, loss = 1.02338086\n",
      "Validation score: 0.387097\n",
      "Iteration 2, loss = 0.86665808\n",
      "Validation score: 0.419355\n",
      "Iteration 3, loss = 0.77008694\n",
      "Validation score: 0.419355\n",
      "Iteration 4, loss = 0.71481580\n",
      "Validation score: 0.677419\n",
      "Iteration 5, loss = 0.67250801\n",
      "Validation score: 0.741935\n",
      "Iteration 6, loss = 0.64593970\n",
      "Validation score: 0.709677\n",
      "Iteration 7, loss = 0.62743154\n",
      "Validation score: 0.741935\n",
      "Iteration 8, loss = 0.61175241\n",
      "Validation score: 0.741935\n",
      "Validation score did not improve more than tol=0.000100 for two consecutive epochs. Stopping.\n",
      "Iteration 1, loss = 0.61446444\n",
      "Validation score: 0.741935\n",
      "Iteration 2, loss = 0.58052578\n",
      "Validation score: 0.741935\n",
      "Iteration 3, loss = 0.56050016\n",
      "Validation score: 0.741935\n",
      "Iteration 4, loss = 0.54566976\n",
      "Validation score: 0.709677\n",
      "Validation score did not improve more than tol=0.000100 for two consecutive epochs. Stopping.\n",
      "Iteration 1, loss = 0.61557640\n",
      "Validation score: 0.741935\n",
      "Iteration 2, loss = 0.57488087\n",
      "Validation score: 0.741935\n",
      "Iteration 3, loss = 0.55473036\n",
      "Validation score: 0.741935\n",
      "Iteration 4, loss = 0.53941266\n",
      "Validation score: 0.741935\n",
      "Validation score did not improve more than tol=0.000100 for two consecutive epochs. Stopping.\n",
      "Iteration 1, loss = 0.59616672\n",
      "Validation score: 0.645161\n",
      "Iteration 2, loss = 0.56470481\n",
      "Validation score: 0.645161\n",
      "Iteration 3, loss = 0.54854684\n",
      "Validation score: 0.645161\n",
      "Iteration 4, loss = 0.53571638\n",
      "Validation score: 0.645161\n",
      "Validation score did not improve more than tol=0.000100 for two consecutive epochs. Stopping.\n",
      "Iteration 1, loss = 0.70415753\n",
      "Validation score: 0.774194\n",
      "Iteration 2, loss = 0.60787487\n",
      "Validation score: 0.774194\n",
      "Iteration 3, loss = 0.57131999\n",
      "Validation score: 0.806452\n",
      "Iteration 4, loss = 0.54629141\n",
      "Validation score: 0.806452\n",
      "Iteration 5, loss = 0.52972854\n",
      "Validation score: 0.774194\n",
      "Iteration 6, loss = 0.51900464\n",
      "Validation score: 0.806452\n",
      "Validation score did not improve more than tol=0.000100 for two consecutive epochs. Stopping.\n",
      "Iteration 1, loss = 0.69473246\n",
      "Validation score: 0.677419\n",
      "Iteration 2, loss = 0.59893366\n",
      "Validation score: 0.677419\n",
      "Iteration 3, loss = 0.56033110\n",
      "Validation score: 0.677419\n",
      "Iteration 4, loss = 0.53927231\n",
      "Validation score: 0.677419\n",
      "Validation score did not improve more than tol=0.000100 for two consecutive epochs. Stopping.\n",
      "Iteration 1, loss = 0.71681773\n",
      "Validation score: 0.645161\n",
      "Iteration 2, loss = 0.62640766\n",
      "Validation score: 0.709677\n",
      "Iteration 3, loss = 0.58663370\n",
      "Validation score: 0.677419\n",
      "Iteration 4, loss = 0.56424487\n",
      "Validation score: 0.677419\n",
      "Iteration 5, loss = 0.54777005\n",
      "Validation score: 0.677419\n",
      "Validation score did not improve more than tol=0.000100 for two consecutive epochs. Stopping.\n",
      "Iteration 1, loss = 0.64280345\n",
      "Validation score: 0.677419\n",
      "Iteration 2, loss = 0.55246744\n",
      "Validation score: 0.677419\n",
      "Iteration 3, loss = 0.53125958\n",
      "Validation score: 0.677419\n",
      "Iteration 4, loss = 0.50980998\n",
      "Validation score: 0.677419\n",
      "Validation score did not improve more than tol=0.000100 for two consecutive epochs. Stopping.\n",
      "Iteration 1, loss = 0.63238680\n",
      "Validation score: 0.677419\n",
      "Iteration 2, loss = 0.56323258\n",
      "Validation score: 0.677419\n",
      "Iteration 3, loss = 0.53736070\n",
      "Validation score: 0.741935\n",
      "Iteration 4, loss = 0.52151999\n",
      "Validation score: 0.709677\n"
     ]
    },
    {
     "name": "stdout",
     "output_type": "stream",
     "text": [
      "Iteration 5, loss = 0.51281381\n",
      "Validation score: 0.741935\n",
      "Iteration 6, loss = 0.50242264\n",
      "Validation score: 0.741935\n",
      "Validation score did not improve more than tol=0.000100 for two consecutive epochs. Stopping.\n",
      "Iteration 1, loss = 0.63907935\n",
      "Validation score: 0.741935\n",
      "Iteration 2, loss = 0.56685840\n",
      "Validation score: 0.741935\n",
      "Iteration 3, loss = 0.54552512\n",
      "Validation score: 0.741935\n",
      "Iteration 4, loss = 0.52815973\n",
      "Validation score: 0.774194\n",
      "Iteration 5, loss = 0.51707943\n",
      "Validation score: 0.741935\n",
      "Iteration 6, loss = 0.50993001\n",
      "Validation score: 0.709677\n",
      "Iteration 7, loss = 0.50416963\n",
      "Validation score: 0.806452\n",
      "Iteration 8, loss = 0.49373327\n",
      "Validation score: 0.741935\n",
      "Iteration 9, loss = 0.48750649\n",
      "Validation score: 0.741935\n",
      "Iteration 10, loss = 0.48521073\n",
      "Validation score: 0.774194\n",
      "Validation score did not improve more than tol=0.000100 for two consecutive epochs. Stopping.\n",
      "Iteration 1, loss = 0.63180207\n",
      "Validation score: 0.612903\n",
      "Iteration 2, loss = 0.54521323\n",
      "Validation score: 0.645161\n",
      "Iteration 3, loss = 0.51723019\n",
      "Validation score: 0.645161\n",
      "Iteration 4, loss = 0.50903671\n",
      "Validation score: 0.645161\n",
      "Iteration 5, loss = 0.48905495\n",
      "Validation score: 0.645161\n",
      "Validation score did not improve more than tol=0.000100 for two consecutive epochs. Stopping.\n",
      "Iteration 1, loss = 0.63139517\n",
      "Validation score: 0.677419\n",
      "Iteration 2, loss = 0.54455488\n",
      "Validation score: 0.677419\n",
      "Iteration 3, loss = 0.52267220\n",
      "Validation score: 0.677419\n",
      "Iteration 4, loss = 0.49823752\n",
      "Validation score: 0.709677\n",
      "Iteration 5, loss = 0.48825619\n",
      "Validation score: 0.709677\n",
      "Iteration 6, loss = 0.47679712\n",
      "Validation score: 0.677419\n",
      "Iteration 7, loss = 0.46960401\n",
      "Validation score: 0.677419\n",
      "Validation score did not improve more than tol=0.000100 for two consecutive epochs. Stopping.\n",
      "Iteration 1, loss = 0.63403106\n",
      "Validation score: 0.741935\n",
      "Iteration 2, loss = 0.55774727\n",
      "Validation score: 0.741935\n",
      "Iteration 3, loss = 0.53807060\n",
      "Validation score: 0.741935\n",
      "Iteration 4, loss = 0.51959912\n",
      "Validation score: 0.741935\n",
      "Validation score did not improve more than tol=0.000100 for two consecutive epochs. Stopping.\n",
      "Iteration 1, loss = 0.61201561\n",
      "Validation score: 0.580645\n",
      "Iteration 2, loss = 0.53175020\n",
      "Validation score: 0.677419\n",
      "Iteration 3, loss = 0.50166925\n",
      "Validation score: 0.709677\n",
      "Iteration 4, loss = 0.48646117\n",
      "Validation score: 0.677419\n",
      "Iteration 5, loss = 0.48023468\n",
      "Validation score: 0.709677\n",
      "Iteration 6, loss = 0.49413665\n",
      "Validation score: 0.709677\n",
      "Validation score did not improve more than tol=0.000100 for two consecutive epochs. Stopping.\n",
      "Iteration 1, loss = 0.59525730\n",
      "Validation score: 0.709677\n",
      "Iteration 2, loss = 0.52469927\n",
      "Validation score: 0.741935\n",
      "Iteration 3, loss = 0.49791400\n",
      "Validation score: 0.709677\n",
      "Iteration 4, loss = 0.48375456\n",
      "Validation score: 0.677419\n",
      "Iteration 5, loss = 0.47539058\n",
      "Validation score: 0.645161\n",
      "Validation score did not improve more than tol=0.000100 for two consecutive epochs. Stopping.\n",
      "Iteration 1, loss = 0.61493663\n",
      "Validation score: 0.677419\n",
      "Iteration 2, loss = 0.53273548\n",
      "Validation score: 0.645161\n",
      "Iteration 3, loss = 0.50530906\n",
      "Validation score: 0.709677\n",
      "Iteration 4, loss = 0.50005741\n",
      "Validation score: 0.612903\n",
      "Iteration 5, loss = 0.48840898\n",
      "Validation score: 0.612903\n",
      "Iteration 6, loss = 0.47245283\n",
      "Validation score: 0.645161\n",
      "Validation score did not improve more than tol=0.000100 for two consecutive epochs. Stopping.\n",
      "Iteration 1, loss = 0.67556047\n",
      "Validation score: 0.709677\n",
      "Iteration 2, loss = 0.61945349\n",
      "Validation score: 0.774194\n",
      "Iteration 3, loss = 0.59736101\n",
      "Validation score: 0.774194\n",
      "Iteration 4, loss = 0.58009808\n",
      "Validation score: 0.774194\n",
      "Iteration 5, loss = 0.56371928\n",
      "Validation score: 0.774194\n",
      "Validation score did not improve more than tol=0.000100 for two consecutive epochs. Stopping.\n",
      "Iteration 1, loss = 0.66864921\n",
      "Validation score: 0.741935\n",
      "Iteration 2, loss = 0.61568848\n",
      "Validation score: 0.806452\n",
      "Iteration 3, loss = 0.58999853\n",
      "Validation score: 0.806452\n",
      "Iteration 4, loss = 0.57058950\n",
      "Validation score: 0.806452\n",
      "Iteration 5, loss = 0.55490464\n",
      "Validation score: 0.774194\n",
      "Validation score did not improve more than tol=0.000100 for two consecutive epochs. Stopping.\n",
      "Iteration 1, loss = 0.66768153\n",
      "Validation score: 0.741935\n",
      "Iteration 2, loss = 0.61391464\n",
      "Validation score: 0.741935\n",
      "Iteration 3, loss = 0.59613742\n",
      "Validation score: 0.741935\n",
      "Iteration 4, loss = 0.58117166\n",
      "Validation score: 0.741935\n",
      "Validation score did not improve more than tol=0.000100 for two consecutive epochs. Stopping.\n",
      "Iteration 1, loss = 0.59434582\n",
      "Validation score: 0.709677\n",
      "Iteration 2, loss = 0.55449635\n",
      "Validation score: 0.709677\n",
      "Iteration 3, loss = 0.53343285\n",
      "Validation score: 0.709677\n",
      "Iteration 4, loss = 0.51522285\n",
      "Validation score: 0.709677\n",
      "Validation score did not improve more than tol=0.000100 for two consecutive epochs. Stopping.\n",
      "Iteration 1, loss = 0.60807929\n",
      "Validation score: 0.677419\n",
      "Iteration 2, loss = 0.55493318\n",
      "Validation score: 0.677419\n",
      "Iteration 3, loss = 0.53408748\n",
      "Validation score: 0.677419\n",
      "Iteration 4, loss = 0.51717228\n",
      "Validation score: 0.709677\n",
      "Iteration 5, loss = 0.50946645\n",
      "Validation score: 0.709677\n",
      "Iteration 6, loss = 0.49551346\n",
      "Validation score: 0.709677\n",
      "Iteration 7, loss = 0.48576281\n",
      "Validation score: 0.709677\n",
      "Validation score did not improve more than tol=0.000100 for two consecutive epochs. Stopping.\n",
      "Iteration 1, loss = 0.60621134\n",
      "Validation score: 0.741935\n",
      "Iteration 2, loss = 0.56290783\n",
      "Validation score: 0.741935\n",
      "Iteration 3, loss = 0.54340716\n",
      "Validation score: 0.741935\n",
      "Iteration 4, loss = 0.52790558\n",
      "Validation score: 0.741935\n",
      "Validation score did not improve more than tol=0.000100 for two consecutive epochs. Stopping.\n",
      "Iteration 1, loss = 0.60825570\n",
      "Validation score: 0.774194\n",
      "Iteration 2, loss = 0.55447217\n",
      "Validation score: 0.774194\n",
      "Iteration 3, loss = 0.51864087\n",
      "Validation score: 0.612903\n",
      "Iteration 4, loss = 0.50814132\n",
      "Validation score: 0.548387\n",
      "Validation score did not improve more than tol=0.000100 for two consecutive epochs. Stopping.\n",
      "Iteration 1, loss = 0.61522261\n",
      "Validation score: 0.774194\n",
      "Iteration 2, loss = 0.54798135\n",
      "Validation score: 0.774194\n",
      "Iteration 3, loss = 0.51389647\n",
      "Validation score: 0.774194\n",
      "Iteration 4, loss = 0.49438156\n",
      "Validation score: 0.774194\n",
      "Validation score did not improve more than tol=0.000100 for two consecutive epochs. Stopping.\n",
      "Iteration 1, loss = 0.60595294\n",
      "Validation score: 0.838710\n",
      "Iteration 2, loss = 0.55897354\n",
      "Validation score: 0.838710\n",
      "Iteration 3, loss = 0.52730704\n",
      "Validation score: 0.870968\n",
      "Iteration 4, loss = 0.51214688\n",
      "Validation score: 0.838710\n",
      "Iteration 5, loss = 0.49938815\n",
      "Validation score: 0.741935\n",
      "Iteration 6, loss = 0.48193436\n",
      "Validation score: 0.774194\n",
      "Validation score did not improve more than tol=0.000100 for two consecutive epochs. Stopping.\n",
      "Iteration 1, loss = 0.60472450\n",
      "Validation score: 0.548387\n",
      "Iteration 2, loss = 0.51259014\n",
      "Validation score: 0.612903\n",
      "Iteration 3, loss = 0.49040985\n",
      "Validation score: 0.677419\n",
      "Iteration 4, loss = 0.46392410\n",
      "Validation score: 0.612903\n",
      "Iteration 5, loss = 0.45830411\n",
      "Validation score: 0.677419\n",
      "Iteration 6, loss = 0.44318952\n",
      "Validation score: 0.709677\n",
      "Iteration 7, loss = 0.43315628\n",
      "Validation score: 0.677419\n",
      "Iteration 8, loss = 0.41962463\n",
      "Validation score: 0.677419\n",
      "Iteration 9, loss = 0.41690840\n",
      "Validation score: 0.741935\n",
      "Iteration 10, loss = 0.41760565\n",
      "Validation score: 0.612903\n",
      "Iteration 11, loss = 0.39643919\n",
      "Validation score: 0.741935\n",
      "Iteration 12, loss = 0.41361659\n",
      "Validation score: 0.580645\n",
      "Validation score did not improve more than tol=0.000100 for two consecutive epochs. Stopping.\n",
      "Iteration 1, loss = 0.58464486\n",
      "Validation score: 0.677419\n",
      "Iteration 2, loss = 0.50893071\n",
      "Validation score: 0.741935\n",
      "Iteration 3, loss = 0.48434741\n",
      "Validation score: 0.741935\n",
      "Iteration 4, loss = 0.49666260\n",
      "Validation score: 0.709677\n",
      "Iteration 5, loss = 0.45845026\n",
      "Validation score: 0.709677\n",
      "Validation score did not improve more than tol=0.000100 for two consecutive epochs. Stopping.\n",
      "Iteration 1, loss = 0.60098226\n",
      "Validation score: 0.709677\n",
      "Iteration 2, loss = 0.52043281\n",
      "Validation score: 0.806452\n",
      "Iteration 3, loss = 0.50475182\n",
      "Validation score: 0.741935\n",
      "Iteration 4, loss = 0.48605789\n",
      "Validation score: 0.774194\n",
      "Iteration 5, loss = 0.48375604\n",
      "Validation score: 0.774194\n",
      "Validation score did not improve more than tol=0.000100 for two consecutive epochs. Stopping.\n"
     ]
    },
    {
     "name": "stdout",
     "output_type": "stream",
     "text": [
      "Iteration 1, loss = 0.60312627\n",
      "Validation score: 0.612903\n",
      "Iteration 2, loss = 0.50211999\n",
      "Validation score: 0.612903\n",
      "Iteration 3, loss = 0.48203156\n",
      "Validation score: 0.580645\n",
      "Iteration 4, loss = 0.46512843\n",
      "Validation score: 0.774194\n",
      "Iteration 5, loss = 0.44764170\n",
      "Validation score: 0.612903\n",
      "Iteration 6, loss = 0.45402819\n",
      "Validation score: 0.677419\n",
      "Iteration 7, loss = 0.43831461\n",
      "Validation score: 0.645161\n",
      "Validation score did not improve more than tol=0.000100 for two consecutive epochs. Stopping.\n",
      "Iteration 1, loss = 0.61118473\n",
      "Validation score: 0.806452\n",
      "Iteration 2, loss = 0.51480675\n",
      "Validation score: 0.838710\n",
      "Iteration 3, loss = 0.49115974\n",
      "Validation score: 0.870968\n",
      "Iteration 4, loss = 0.52370263\n",
      "Validation score: 0.774194\n",
      "Iteration 5, loss = 0.47401289\n",
      "Validation score: 0.806452\n",
      "Iteration 6, loss = 0.46023611\n",
      "Validation score: 0.774194\n",
      "Validation score did not improve more than tol=0.000100 for two consecutive epochs. Stopping.\n",
      "Iteration 1, loss = 0.59613749\n",
      "Validation score: 0.774194\n",
      "Iteration 2, loss = 0.55122982\n",
      "Validation score: 0.709677\n",
      "Iteration 3, loss = 0.48982024\n",
      "Validation score: 0.709677\n",
      "Iteration 4, loss = 0.48662332\n",
      "Validation score: 0.677419\n",
      "Validation score did not improve more than tol=0.000100 for two consecutive epochs. Stopping.\n",
      "Iteration 1, loss = 0.62125421\n",
      "Validation score: 0.838710\n",
      "Iteration 2, loss = 0.53889968\n",
      "Validation score: 0.935484\n",
      "Iteration 3, loss = 0.50613146\n",
      "Validation score: 0.838710\n",
      "Iteration 4, loss = 0.48672532\n",
      "Validation score: 0.838710\n",
      "Iteration 5, loss = 0.46352163\n",
      "Validation score: 0.806452\n",
      "Validation score did not improve more than tol=0.000100 for two consecutive epochs. Stopping.\n",
      "Iteration 1, loss = 0.64459412\n",
      "Validation score: 0.645161\n",
      "Iteration 2, loss = 0.54375939\n",
      "Validation score: 0.774194\n",
      "Iteration 3, loss = 0.49841299\n",
      "Validation score: 0.645161\n",
      "Iteration 4, loss = 0.46893860\n",
      "Validation score: 0.645161\n",
      "Iteration 5, loss = 0.45360120\n",
      "Validation score: 0.645161\n",
      "Validation score did not improve more than tol=0.000100 for two consecutive epochs. Stopping.\n",
      "Iteration 1, loss = 0.62212023\n",
      "Validation score: 0.774194\n",
      "Iteration 2, loss = 0.53529120\n",
      "Validation score: 0.806452\n",
      "Iteration 3, loss = 0.53588895\n",
      "Validation score: 0.709677\n",
      "Iteration 4, loss = 0.50214441\n",
      "Validation score: 0.741935\n",
      "Iteration 5, loss = 0.47456297\n",
      "Validation score: 0.548387\n",
      "Validation score did not improve more than tol=0.000100 for two consecutive epochs. Stopping.\n",
      "Iteration 1, loss = 1.06411877\n",
      "Validation score: 0.354839\n",
      "Iteration 2, loss = 0.95386322\n",
      "Validation score: 0.322581\n",
      "Iteration 3, loss = 0.86525195\n",
      "Validation score: 0.387097\n",
      "Iteration 4, loss = 0.79934970\n",
      "Validation score: 0.483871\n",
      "Iteration 5, loss = 0.74949837\n",
      "Validation score: 0.483871\n",
      "Iteration 6, loss = 0.71225447\n",
      "Validation score: 0.548387\n",
      "Iteration 7, loss = 0.68191049\n",
      "Validation score: 0.612903\n",
      "Iteration 8, loss = 0.65979739\n",
      "Validation score: 0.677419\n",
      "Iteration 9, loss = 0.64026057\n",
      "Validation score: 0.677419\n",
      "Iteration 10, loss = 0.62416061\n",
      "Validation score: 0.677419\n",
      "Iteration 11, loss = 0.60977746\n",
      "Validation score: 0.677419\n",
      "Validation score did not improve more than tol=0.000100 for two consecutive epochs. Stopping.\n",
      "Iteration 1, loss = 1.02159615\n",
      "Validation score: 0.322581\n",
      "Iteration 2, loss = 0.91369790\n",
      "Validation score: 0.322581\n",
      "Iteration 3, loss = 0.82735020\n",
      "Validation score: 0.322581\n",
      "Iteration 4, loss = 0.76255684\n",
      "Validation score: 0.419355\n",
      "Iteration 5, loss = 0.71714749\n",
      "Validation score: 0.451613\n",
      "Iteration 6, loss = 0.68294159\n",
      "Validation score: 0.580645\n",
      "Iteration 7, loss = 0.65283896\n",
      "Validation score: 0.580645\n",
      "Iteration 8, loss = 0.63166117\n",
      "Validation score: 0.645161\n",
      "Iteration 9, loss = 0.61197406\n",
      "Validation score: 0.677419\n",
      "Iteration 10, loss = 0.59632139\n",
      "Validation score: 0.645161\n",
      "Iteration 11, loss = 0.58285424\n",
      "Validation score: 0.645161\n",
      "Iteration 12, loss = 0.57093641\n",
      "Validation score: 0.645161\n",
      "Validation score did not improve more than tol=0.000100 for two consecutive epochs. Stopping.\n",
      "Iteration 1, loss = 1.07352063\n",
      "Validation score: 0.322581\n",
      "Iteration 2, loss = 0.96543710\n",
      "Validation score: 0.387097\n",
      "Iteration 3, loss = 0.87201945\n",
      "Validation score: 0.483871\n",
      "Iteration 4, loss = 0.80953844\n",
      "Validation score: 0.387097\n",
      "Iteration 5, loss = 0.75928539\n",
      "Validation score: 0.419355\n",
      "Iteration 6, loss = 0.72235095\n",
      "Validation score: 0.612903\n",
      "Iteration 7, loss = 0.69374188\n",
      "Validation score: 0.677419\n",
      "Iteration 8, loss = 0.67220132\n",
      "Validation score: 0.677419\n",
      "Iteration 9, loss = 0.65210483\n",
      "Validation score: 0.709677\n",
      "Iteration 10, loss = 0.63756343\n",
      "Validation score: 0.709677\n",
      "Iteration 11, loss = 0.62402432\n",
      "Validation score: 0.709677\n",
      "Iteration 12, loss = 0.61301032\n",
      "Validation score: 0.741935\n",
      "Iteration 13, loss = 0.60199131\n",
      "Validation score: 0.741935\n",
      "Iteration 14, loss = 0.59175527\n",
      "Validation score: 0.741935\n",
      "Iteration 15, loss = 0.58352936\n",
      "Validation score: 0.741935\n",
      "Validation score did not improve more than tol=0.000100 for two consecutive epochs. Stopping.\n",
      "Iteration 1, loss = 0.62002107\n",
      "Validation score: 0.741935\n",
      "Iteration 2, loss = 0.59412500\n",
      "Validation score: 0.741935\n",
      "Iteration 3, loss = 0.57618273\n",
      "Validation score: 0.741935\n",
      "Iteration 4, loss = 0.56290006\n",
      "Validation score: 0.741935\n",
      "Validation score did not improve more than tol=0.000100 for two consecutive epochs. Stopping.\n",
      "Iteration 1, loss = 0.62111840\n",
      "Validation score: 0.741935\n",
      "Iteration 2, loss = 0.58862217\n",
      "Validation score: 0.741935\n",
      "Iteration 3, loss = 0.56984895\n",
      "Validation score: 0.741935\n",
      "Iteration 4, loss = 0.55484881\n",
      "Validation score: 0.741935\n",
      "Validation score did not improve more than tol=0.000100 for two consecutive epochs. Stopping.\n",
      "Iteration 1, loss = 0.60048092\n",
      "Validation score: 0.645161\n",
      "Iteration 2, loss = 0.57441621\n",
      "Validation score: 0.645161\n",
      "Iteration 3, loss = 0.56085995\n",
      "Validation score: 0.645161\n",
      "Iteration 4, loss = 0.54970269\n",
      "Validation score: 0.645161\n",
      "Validation score did not improve more than tol=0.000100 for two consecutive epochs. Stopping.\n",
      "Iteration 1, loss = 0.72382162\n",
      "Validation score: 0.806452\n",
      "Iteration 2, loss = 0.64071363\n",
      "Validation score: 0.774194\n",
      "Iteration 3, loss = 0.59909328\n",
      "Validation score: 0.774194\n",
      "Iteration 4, loss = 0.57287809\n",
      "Validation score: 0.774194\n",
      "Validation score did not improve more than tol=0.000100 for two consecutive epochs. Stopping.\n",
      "Iteration 1, loss = 0.71874125\n",
      "Validation score: 0.580645\n",
      "Iteration 2, loss = 0.63636040\n",
      "Validation score: 0.677419\n",
      "Iteration 3, loss = 0.59200135\n",
      "Validation score: 0.677419\n",
      "Iteration 4, loss = 0.56836105\n",
      "Validation score: 0.677419\n",
      "Iteration 5, loss = 0.55238795\n",
      "Validation score: 0.677419\n",
      "Validation score did not improve more than tol=0.000100 for two consecutive epochs. Stopping.\n",
      "Iteration 1, loss = 0.73879087\n",
      "Validation score: 0.548387\n",
      "Iteration 2, loss = 0.66268809\n",
      "Validation score: 0.709677\n",
      "Iteration 3, loss = 0.61828642\n",
      "Validation score: 0.709677\n",
      "Iteration 4, loss = 0.59281438\n",
      "Validation score: 0.709677\n",
      "Iteration 5, loss = 0.57474805\n",
      "Validation score: 0.677419\n",
      "Validation score did not improve more than tol=0.000100 for two consecutive epochs. Stopping.\n",
      "Iteration 1, loss = 0.67169573\n",
      "Validation score: 0.677419\n",
      "Iteration 2, loss = 0.57130632\n",
      "Validation score: 0.677419\n",
      "Iteration 3, loss = 0.54781014\n",
      "Validation score: 0.677419\n",
      "Iteration 4, loss = 0.52934134\n",
      "Validation score: 0.677419\n",
      "Validation score did not improve more than tol=0.000100 for two consecutive epochs. Stopping.\n",
      "Iteration 1, loss = 0.66132562\n",
      "Validation score: 0.741935\n",
      "Iteration 2, loss = 0.58415839\n",
      "Validation score: 0.677419\n",
      "Iteration 3, loss = 0.55169659\n",
      "Validation score: 0.677419\n",
      "Iteration 4, loss = 0.53772443\n",
      "Validation score: 0.677419\n",
      "Validation score did not improve more than tol=0.000100 for two consecutive epochs. Stopping.\n",
      "Iteration 1, loss = 0.65514012\n",
      "Validation score: 0.645161\n",
      "Iteration 2, loss = 0.58389881\n",
      "Validation score: 0.774194\n",
      "Iteration 3, loss = 0.55724500\n",
      "Validation score: 0.774194\n",
      "Iteration 4, loss = 0.54246537\n",
      "Validation score: 0.774194\n",
      "Iteration 5, loss = 0.53233468\n",
      "Validation score: 0.774194\n",
      "Validation score did not improve more than tol=0.000100 for two consecutive epochs. Stopping.\n",
      "Iteration 1, loss = 0.65686273\n",
      "Validation score: 0.612903\n",
      "Iteration 2, loss = 0.56284593\n",
      "Validation score: 0.612903\n",
      "Iteration 3, loss = 0.53550170\n",
      "Validation score: 0.612903\n",
      "Iteration 4, loss = 0.52169609\n",
      "Validation score: 0.612903\n",
      "Validation score did not improve more than tol=0.000100 for two consecutive epochs. Stopping.\n",
      "Iteration 1, loss = 0.65864609\n",
      "Validation score: 0.677419\n",
      "Iteration 2, loss = 0.56431234\n",
      "Validation score: 0.677419\n",
      "Iteration 3, loss = 0.54199850\n",
      "Validation score: 0.677419\n"
     ]
    },
    {
     "name": "stdout",
     "output_type": "stream",
     "text": [
      "Iteration 4, loss = 0.52014646\n",
      "Validation score: 0.677419\n",
      "Validation score did not improve more than tol=0.000100 for two consecutive epochs. Stopping.\n",
      "Iteration 1, loss = 0.65426439\n",
      "Validation score: 0.741935\n",
      "Iteration 2, loss = 0.57446692\n",
      "Validation score: 0.741935\n",
      "Iteration 3, loss = 0.55301021\n",
      "Validation score: 0.741935\n",
      "Iteration 4, loss = 0.53627390\n",
      "Validation score: 0.741935\n",
      "Validation score did not improve more than tol=0.000100 for two consecutive epochs. Stopping.\n",
      "Iteration 1, loss = 0.62943728\n",
      "Validation score: 0.580645\n",
      "Iteration 2, loss = 0.54613744\n",
      "Validation score: 0.580645\n",
      "Iteration 3, loss = 0.51652437\n",
      "Validation score: 0.677419\n",
      "Iteration 4, loss = 0.49878428\n",
      "Validation score: 0.709677\n",
      "Iteration 5, loss = 0.48717774\n",
      "Validation score: 0.677419\n",
      "Iteration 6, loss = 0.47636198\n",
      "Validation score: 0.709677\n",
      "Iteration 7, loss = 0.47080811\n",
      "Validation score: 0.741935\n",
      "Iteration 8, loss = 0.46324139\n",
      "Validation score: 0.677419\n",
      "Iteration 9, loss = 0.45678984\n",
      "Validation score: 0.709677\n",
      "Iteration 10, loss = 0.45271722\n",
      "Validation score: 0.709677\n",
      "Validation score did not improve more than tol=0.000100 for two consecutive epochs. Stopping.\n",
      "Iteration 1, loss = 0.61366368\n",
      "Validation score: 0.709677\n",
      "Iteration 2, loss = 0.54336496\n",
      "Validation score: 0.709677\n",
      "Iteration 3, loss = 0.51617185\n",
      "Validation score: 0.709677\n",
      "Iteration 4, loss = 0.49268470\n",
      "Validation score: 0.709677\n",
      "Validation score did not improve more than tol=0.000100 for two consecutive epochs. Stopping.\n",
      "Iteration 1, loss = 0.63072473\n",
      "Validation score: 0.677419\n",
      "Iteration 2, loss = 0.54883040\n",
      "Validation score: 0.677419\n",
      "Iteration 3, loss = 0.52168481\n",
      "Validation score: 0.612903\n",
      "Iteration 4, loss = 0.50250395\n",
      "Validation score: 0.612903\n",
      "Validation score did not improve more than tol=0.000100 for two consecutive epochs. Stopping.\n",
      "Iteration 1, loss = 0.68942598\n",
      "Validation score: 0.709677\n",
      "Iteration 2, loss = 0.63771596\n",
      "Validation score: 0.709677\n",
      "Iteration 3, loss = 0.61642908\n",
      "Validation score: 0.709677\n",
      "Iteration 4, loss = 0.60220881\n",
      "Validation score: 0.774194\n",
      "Iteration 5, loss = 0.58865425\n",
      "Validation score: 0.774194\n",
      "Iteration 6, loss = 0.57656620\n",
      "Validation score: 0.774194\n",
      "Iteration 7, loss = 0.56461967\n",
      "Validation score: 0.774194\n",
      "Validation score did not improve more than tol=0.000100 for two consecutive epochs. Stopping.\n",
      "Iteration 1, loss = 0.68214979\n",
      "Validation score: 0.645161\n",
      "Iteration 2, loss = 0.63483569\n",
      "Validation score: 0.741935\n",
      "Iteration 3, loss = 0.61187420\n",
      "Validation score: 0.774194\n",
      "Iteration 4, loss = 0.59431699\n",
      "Validation score: 0.806452\n",
      "Iteration 5, loss = 0.58051339\n",
      "Validation score: 0.806452\n",
      "Iteration 6, loss = 0.56904477\n",
      "Validation score: 0.806452\n",
      "Iteration 7, loss = 0.55756530\n",
      "Validation score: 0.774194\n",
      "Validation score did not improve more than tol=0.000100 for two consecutive epochs. Stopping.\n",
      "Iteration 1, loss = 0.68433096\n",
      "Validation score: 0.677419\n",
      "Iteration 2, loss = 0.63111464\n",
      "Validation score: 0.741935\n",
      "Iteration 3, loss = 0.61085386\n",
      "Validation score: 0.741935\n",
      "Iteration 4, loss = 0.59831270\n",
      "Validation score: 0.741935\n",
      "Iteration 5, loss = 0.58874229\n",
      "Validation score: 0.741935\n",
      "Validation score did not improve more than tol=0.000100 for two consecutive epochs. Stopping.\n",
      "Iteration 1, loss = 0.60318841\n",
      "Validation score: 0.709677\n",
      "Iteration 2, loss = 0.56585129\n",
      "Validation score: 0.709677\n",
      "Iteration 3, loss = 0.54597328\n",
      "Validation score: 0.709677\n",
      "Iteration 4, loss = 0.53070564\n",
      "Validation score: 0.709677\n",
      "Validation score did not improve more than tol=0.000100 for two consecutive epochs. Stopping.\n",
      "Iteration 1, loss = 0.62086721\n",
      "Validation score: 0.677419\n",
      "Iteration 2, loss = 0.56958112\n",
      "Validation score: 0.677419\n",
      "Iteration 3, loss = 0.54933214\n",
      "Validation score: 0.677419\n",
      "Iteration 4, loss = 0.53583257\n",
      "Validation score: 0.677419\n",
      "Validation score did not improve more than tol=0.000100 for two consecutive epochs. Stopping.\n",
      "Iteration 1, loss = 0.61435050\n",
      "Validation score: 0.741935\n",
      "Iteration 2, loss = 0.57697656\n",
      "Validation score: 0.741935\n",
      "Iteration 3, loss = 0.55940067\n",
      "Validation score: 0.741935\n",
      "Iteration 4, loss = 0.54277846\n",
      "Validation score: 0.741935\n",
      "Validation score did not improve more than tol=0.000100 for two consecutive epochs. Stopping.\n",
      "Iteration 1, loss = 0.61687860\n",
      "Validation score: 0.774194\n",
      "Iteration 2, loss = 0.56872593\n",
      "Validation score: 0.774194\n",
      "Iteration 3, loss = 0.53716565\n",
      "Validation score: 0.741935\n",
      "Iteration 4, loss = 0.51814322\n",
      "Validation score: 0.580645\n",
      "Validation score did not improve more than tol=0.000100 for two consecutive epochs. Stopping.\n",
      "Iteration 1, loss = 0.61868501\n",
      "Validation score: 0.774194\n",
      "Iteration 2, loss = 0.56288100\n",
      "Validation score: 0.774194\n",
      "Iteration 3, loss = 0.53037663\n",
      "Validation score: 0.774194\n",
      "Iteration 4, loss = 0.50905285\n",
      "Validation score: 0.774194\n",
      "Validation score did not improve more than tol=0.000100 for two consecutive epochs. Stopping.\n",
      "Iteration 1, loss = 0.61556969\n",
      "Validation score: 0.838710\n",
      "Iteration 2, loss = 0.58290378\n",
      "Validation score: 0.838710\n",
      "Iteration 3, loss = 0.54032060\n",
      "Validation score: 0.838710\n",
      "Iteration 4, loss = 0.52523285\n",
      "Validation score: 0.838710\n",
      "Validation score did not improve more than tol=0.000100 for two consecutive epochs. Stopping.\n",
      "Iteration 1, loss = 0.61408138\n",
      "Validation score: 0.548387\n",
      "Iteration 2, loss = 0.52257716\n",
      "Validation score: 0.548387\n",
      "Iteration 3, loss = 0.49979100\n",
      "Validation score: 0.612903\n",
      "Iteration 4, loss = 0.47533310\n",
      "Validation score: 0.580645\n",
      "Iteration 5, loss = 0.46952717\n",
      "Validation score: 0.677419\n",
      "Iteration 6, loss = 0.45614526\n",
      "Validation score: 0.709677\n",
      "Iteration 7, loss = 0.44652859\n",
      "Validation score: 0.612903\n",
      "Iteration 8, loss = 0.43539999\n",
      "Validation score: 0.741935\n",
      "Iteration 9, loss = 0.42909612\n",
      "Validation score: 0.677419\n",
      "Iteration 10, loss = 0.41406355\n",
      "Validation score: 0.709677\n",
      "Iteration 11, loss = 0.40834636\n",
      "Validation score: 0.709677\n",
      "Validation score did not improve more than tol=0.000100 for two consecutive epochs. Stopping.\n",
      "Iteration 1, loss = 0.58625845\n",
      "Validation score: 0.709677\n",
      "Iteration 2, loss = 0.51950043\n",
      "Validation score: 0.677419\n",
      "Iteration 3, loss = 0.49577032\n",
      "Validation score: 0.677419\n",
      "Iteration 4, loss = 0.47249744\n",
      "Validation score: 0.709677\n",
      "Validation score did not improve more than tol=0.000100 for two consecutive epochs. Stopping.\n",
      "Iteration 1, loss = 0.59580904\n",
      "Validation score: 0.709677\n",
      "Iteration 2, loss = 0.53098618\n",
      "Validation score: 0.709677\n",
      "Iteration 3, loss = 0.50760793\n",
      "Validation score: 0.774194\n",
      "Iteration 4, loss = 0.48933544\n",
      "Validation score: 0.806452\n",
      "Iteration 5, loss = 0.48016800\n",
      "Validation score: 0.774194\n",
      "Iteration 6, loss = 0.46400279\n",
      "Validation score: 0.806452\n",
      "Iteration 7, loss = 0.45305074\n",
      "Validation score: 0.774194\n",
      "Validation score did not improve more than tol=0.000100 for two consecutive epochs. Stopping.\n",
      "Iteration 1, loss = 0.59676563\n",
      "Validation score: 0.677419\n",
      "Iteration 2, loss = 0.50022730\n",
      "Validation score: 0.612903\n",
      "Iteration 3, loss = 0.47690872\n",
      "Validation score: 0.677419\n",
      "Iteration 4, loss = 0.46444113\n",
      "Validation score: 0.677419\n",
      "Validation score did not improve more than tol=0.000100 for two consecutive epochs. Stopping.\n",
      "Iteration 1, loss = 0.62734878\n",
      "Validation score: 0.806452\n",
      "Iteration 2, loss = 0.53316671\n",
      "Validation score: 0.870968\n",
      "Iteration 3, loss = 0.50460413\n",
      "Validation score: 0.870968\n",
      "Iteration 4, loss = 0.47084902\n",
      "Validation score: 0.806452\n",
      "Iteration 5, loss = 0.46074384\n",
      "Validation score: 0.806452\n",
      "Validation score did not improve more than tol=0.000100 for two consecutive epochs. Stopping.\n",
      "Iteration 1, loss = 0.61958000\n",
      "Validation score: 0.741935\n",
      "Iteration 2, loss = 0.52219802\n",
      "Validation score: 0.709677\n",
      "Iteration 3, loss = 0.48941887\n",
      "Validation score: 0.709677\n",
      "Iteration 4, loss = 0.48271595\n",
      "Validation score: 0.645161\n",
      "Validation score did not improve more than tol=0.000100 for two consecutive epochs. Stopping.\n",
      "Iteration 1, loss = 0.61179096\n",
      "Validation score: 0.645161\n",
      "Iteration 2, loss = 0.51643096\n",
      "Validation score: 0.870968\n",
      "Iteration 3, loss = 0.51827575\n",
      "Validation score: 0.806452\n",
      "Iteration 4, loss = 0.49275854\n",
      "Validation score: 0.870968\n",
      "Iteration 5, loss = 0.46684057\n",
      "Validation score: 0.806452\n",
      "Validation score did not improve more than tol=0.000100 for two consecutive epochs. Stopping.\n",
      "Iteration 1, loss = 0.64750989\n",
      "Validation score: 0.741935\n",
      "Iteration 2, loss = 0.51152657\n",
      "Validation score: 0.677419\n"
     ]
    },
    {
     "name": "stdout",
     "output_type": "stream",
     "text": [
      "Iteration 3, loss = 0.47296693\n",
      "Validation score: 0.645161\n",
      "Iteration 4, loss = 0.46358913\n",
      "Validation score: 0.645161\n",
      "Validation score did not improve more than tol=0.000100 for two consecutive epochs. Stopping.\n",
      "Iteration 1, loss = 0.71073273\n",
      "Validation score: 0.548387\n",
      "Iteration 2, loss = 0.56784298\n",
      "Validation score: 0.774194\n",
      "Iteration 3, loss = 0.54115965\n",
      "Validation score: 0.774194\n",
      "Iteration 4, loss = 0.49396798\n",
      "Validation score: 0.645161\n",
      "Iteration 5, loss = 0.50078308\n",
      "Validation score: 0.838710\n",
      "Iteration 6, loss = 0.47445618\n",
      "Validation score: 0.677419\n",
      "Iteration 7, loss = 0.45904050\n",
      "Validation score: 0.774194\n",
      "Iteration 8, loss = 0.44506591\n",
      "Validation score: 0.709677\n",
      "Validation score did not improve more than tol=0.000100 for two consecutive epochs. Stopping.\n",
      "Iteration 1, loss = 1.07245282\n",
      "Validation score: 0.354839\n",
      "Iteration 2, loss = 0.97779575\n",
      "Validation score: 0.322581\n",
      "Iteration 3, loss = 0.89623283\n",
      "Validation score: 0.387097\n",
      "Iteration 4, loss = 0.83318667\n",
      "Validation score: 0.419355\n",
      "Iteration 5, loss = 0.78189304\n",
      "Validation score: 0.451613\n",
      "Iteration 6, loss = 0.74166203\n",
      "Validation score: 0.548387\n",
      "Iteration 7, loss = 0.70842712\n",
      "Validation score: 0.548387\n",
      "Iteration 8, loss = 0.68407112\n",
      "Validation score: 0.580645\n",
      "Iteration 9, loss = 0.66207806\n",
      "Validation score: 0.612903\n",
      "Iteration 10, loss = 0.64456037\n",
      "Validation score: 0.677419\n",
      "Iteration 11, loss = 0.62903227\n",
      "Validation score: 0.677419\n",
      "Iteration 12, loss = 0.61445913\n",
      "Validation score: 0.677419\n",
      "Iteration 13, loss = 0.60280044\n",
      "Validation score: 0.677419\n",
      "Validation score did not improve more than tol=0.000100 for two consecutive epochs. Stopping.\n",
      "Iteration 1, loss = 1.03170244\n",
      "Validation score: 0.322581\n",
      "Iteration 2, loss = 0.93829011\n",
      "Validation score: 0.354839\n",
      "Iteration 3, loss = 0.85716624\n",
      "Validation score: 0.322581\n",
      "Iteration 4, loss = 0.79300163\n",
      "Validation score: 0.354839\n",
      "Iteration 5, loss = 0.74617689\n",
      "Validation score: 0.451613\n",
      "Iteration 6, loss = 0.71012966\n",
      "Validation score: 0.516129\n",
      "Iteration 7, loss = 0.67821640\n",
      "Validation score: 0.548387\n",
      "Iteration 8, loss = 0.65515933\n",
      "Validation score: 0.580645\n",
      "Iteration 9, loss = 0.63444522\n",
      "Validation score: 0.645161\n",
      "Iteration 10, loss = 0.61758218\n",
      "Validation score: 0.645161\n",
      "Iteration 11, loss = 0.60291207\n",
      "Validation score: 0.645161\n",
      "Iteration 12, loss = 0.58977985\n",
      "Validation score: 0.645161\n",
      "Validation score did not improve more than tol=0.000100 for two consecutive epochs. Stopping.\n",
      "Iteration 1, loss = 1.08284367\n",
      "Validation score: 0.258065\n",
      "Iteration 2, loss = 0.98811334\n",
      "Validation score: 0.419355\n",
      "Iteration 3, loss = 0.89996919\n",
      "Validation score: 0.451613\n",
      "Iteration 4, loss = 0.83852052\n",
      "Validation score: 0.483871\n",
      "Iteration 5, loss = 0.78753951\n",
      "Validation score: 0.387097\n",
      "Iteration 6, loss = 0.74885050\n",
      "Validation score: 0.387097\n",
      "Iteration 7, loss = 0.71779831\n",
      "Validation score: 0.645161\n",
      "Iteration 8, loss = 0.69467933\n",
      "Validation score: 0.677419\n",
      "Iteration 9, loss = 0.67287969\n",
      "Validation score: 0.677419\n",
      "Iteration 10, loss = 0.65704834\n",
      "Validation score: 0.741935\n",
      "Iteration 11, loss = 0.64260599\n",
      "Validation score: 0.709677\n",
      "Iteration 12, loss = 0.63059173\n",
      "Validation score: 0.741935\n",
      "Iteration 13, loss = 0.61899010\n",
      "Validation score: 0.774194\n",
      "Iteration 14, loss = 0.60820889\n",
      "Validation score: 0.741935\n",
      "Iteration 15, loss = 0.59958411\n",
      "Validation score: 0.741935\n",
      "Iteration 16, loss = 0.59041029\n",
      "Validation score: 0.741935\n",
      "Validation score did not improve more than tol=0.000100 for two consecutive epochs. Stopping.\n",
      "Iteration 1, loss = 0.62130800\n",
      "Validation score: 0.741935\n",
      "Iteration 2, loss = 0.59728494\n",
      "Validation score: 0.741935\n",
      "Iteration 3, loss = 0.57982578\n",
      "Validation score: 0.741935\n",
      "Iteration 4, loss = 0.56622477\n",
      "Validation score: 0.741935\n",
      "Validation score did not improve more than tol=0.000100 for two consecutive epochs. Stopping.\n",
      "Iteration 1, loss = 0.62241684\n",
      "Validation score: 0.741935\n",
      "Iteration 2, loss = 0.59297154\n",
      "Validation score: 0.741935\n",
      "Iteration 3, loss = 0.57514306\n",
      "Validation score: 0.741935\n",
      "Iteration 4, loss = 0.56049193\n",
      "Validation score: 0.741935\n",
      "Validation score did not improve more than tol=0.000100 for two consecutive epochs. Stopping.\n",
      "Iteration 1, loss = 0.60168206\n",
      "Validation score: 0.645161\n",
      "Iteration 2, loss = 0.57719664\n",
      "Validation score: 0.645161\n",
      "Iteration 3, loss = 0.56441886\n",
      "Validation score: 0.645161\n",
      "Iteration 4, loss = 0.55337367\n",
      "Validation score: 0.645161\n",
      "Validation score did not improve more than tol=0.000100 for two consecutive epochs. Stopping.\n",
      "Iteration 1, loss = 0.72601748\n",
      "Validation score: 0.806452\n",
      "Iteration 2, loss = 0.65106989\n",
      "Validation score: 0.774194\n",
      "Iteration 3, loss = 0.60897551\n",
      "Validation score: 0.774194\n",
      "Iteration 4, loss = 0.58296722\n",
      "Validation score: 0.774194\n",
      "Validation score did not improve more than tol=0.000100 for two consecutive epochs. Stopping.\n",
      "Iteration 1, loss = 0.72450083\n",
      "Validation score: 0.548387\n",
      "Iteration 2, loss = 0.64833078\n",
      "Validation score: 0.677419\n",
      "Iteration 3, loss = 0.60210826\n",
      "Validation score: 0.677419\n",
      "Iteration 4, loss = 0.57748774\n",
      "Validation score: 0.677419\n",
      "Iteration 5, loss = 0.56000696\n",
      "Validation score: 0.677419\n",
      "Validation score did not improve more than tol=0.000100 for two consecutive epochs. Stopping.\n",
      "Iteration 1, loss = 0.74244806\n",
      "Validation score: 0.516129\n",
      "Iteration 2, loss = 0.67079218\n",
      "Validation score: 0.645161\n",
      "Iteration 3, loss = 0.62638821\n",
      "Validation score: 0.709677\n",
      "Iteration 4, loss = 0.60030186\n",
      "Validation score: 0.709677\n",
      "Iteration 5, loss = 0.58151481\n",
      "Validation score: 0.709677\n",
      "Iteration 6, loss = 0.56769193\n",
      "Validation score: 0.677419\n",
      "Validation score did not improve more than tol=0.000100 for two consecutive epochs. Stopping.\n",
      "Iteration 1, loss = 0.67933532\n",
      "Validation score: 0.709677\n",
      "Iteration 2, loss = 0.57846172\n",
      "Validation score: 0.677419\n",
      "Iteration 3, loss = 0.55223054\n",
      "Validation score: 0.677419\n",
      "Iteration 4, loss = 0.53472664\n",
      "Validation score: 0.677419\n",
      "Validation score did not improve more than tol=0.000100 for two consecutive epochs. Stopping.\n",
      "Iteration 1, loss = 0.66976739\n",
      "Validation score: 0.741935\n",
      "Iteration 2, loss = 0.59351121\n",
      "Validation score: 0.677419\n",
      "Iteration 3, loss = 0.55835410\n",
      "Validation score: 0.677419\n",
      "Iteration 4, loss = 0.54489905\n",
      "Validation score: 0.677419\n",
      "Validation score did not improve more than tol=0.000100 for two consecutive epochs. Stopping.\n",
      "Iteration 1, loss = 0.65568197\n",
      "Validation score: 0.741935\n",
      "Iteration 2, loss = 0.58912998\n",
      "Validation score: 0.774194\n",
      "Iteration 3, loss = 0.56237661\n",
      "Validation score: 0.774194\n",
      "Iteration 4, loss = 0.54789127\n",
      "Validation score: 0.774194\n",
      "Iteration 5, loss = 0.53691486\n",
      "Validation score: 0.774194\n",
      "Validation score did not improve more than tol=0.000100 for two consecutive epochs. Stopping.\n",
      "Iteration 1, loss = 0.65932852\n",
      "Validation score: 0.612903\n",
      "Iteration 2, loss = 0.56670532\n",
      "Validation score: 0.612903\n",
      "Iteration 3, loss = 0.54115979\n",
      "Validation score: 0.612903\n",
      "Iteration 4, loss = 0.52743168\n",
      "Validation score: 0.612903\n",
      "Validation score did not improve more than tol=0.000100 for two consecutive epochs. Stopping.\n",
      "Iteration 1, loss = 0.66378724\n",
      "Validation score: 0.677419\n",
      "Iteration 2, loss = 0.57034734\n",
      "Validation score: 0.677419\n",
      "Iteration 3, loss = 0.54863810\n",
      "Validation score: 0.677419\n",
      "Iteration 4, loss = 0.52849404\n",
      "Validation score: 0.677419\n",
      "Validation score did not improve more than tol=0.000100 for two consecutive epochs. Stopping.\n",
      "Iteration 1, loss = 0.65644487\n",
      "Validation score: 0.741935\n",
      "Iteration 2, loss = 0.57997667\n",
      "Validation score: 0.741935\n",
      "Iteration 3, loss = 0.55893519\n",
      "Validation score: 0.741935\n",
      "Iteration 4, loss = 0.54055413\n",
      "Validation score: 0.741935\n",
      "Validation score did not improve more than tol=0.000100 for two consecutive epochs. Stopping.\n",
      "Iteration 1, loss = 0.63380655\n",
      "Validation score: 0.580645\n",
      "Iteration 2, loss = 0.54978990\n",
      "Validation score: 0.580645\n",
      "Iteration 3, loss = 0.52314852\n",
      "Validation score: 0.580645\n",
      "Iteration 4, loss = 0.50494745\n",
      "Validation score: 0.677419\n",
      "Iteration 5, loss = 0.49180164\n",
      "Validation score: 0.677419\n",
      "Iteration 6, loss = 0.48278164\n",
      "Validation score: 0.709677\n",
      "Iteration 7, loss = 0.47542472\n",
      "Validation score: 0.709677\n",
      "Iteration 8, loss = 0.46731114\n",
      "Validation score: 0.709677\n",
      "Iteration 9, loss = 0.46236963\n",
      "Validation score: 0.677419\n",
      "Validation score did not improve more than tol=0.000100 for two consecutive epochs. Stopping.\n",
      "Iteration 1, loss = 0.62118860\n",
      "Validation score: 0.709677\n"
     ]
    },
    {
     "name": "stdout",
     "output_type": "stream",
     "text": [
      "Iteration 2, loss = 0.54823598\n",
      "Validation score: 0.709677\n",
      "Iteration 3, loss = 0.52271333\n",
      "Validation score: 0.709677\n",
      "Iteration 4, loss = 0.49812319\n",
      "Validation score: 0.709677\n",
      "Validation score did not improve more than tol=0.000100 for two consecutive epochs. Stopping.\n",
      "Iteration 1, loss = 0.63611319\n",
      "Validation score: 0.677419\n",
      "Iteration 2, loss = 0.55450370\n",
      "Validation score: 0.677419\n",
      "Iteration 3, loss = 0.52826559\n",
      "Validation score: 0.645161\n",
      "Iteration 4, loss = 0.50625725\n",
      "Validation score: 0.580645\n",
      "Validation score did not improve more than tol=0.000100 for two consecutive epochs. Stopping.\n",
      "Iteration 1, loss = 0.68956761\n",
      "Validation score: 0.741935\n",
      "Iteration 2, loss = 0.64172454\n",
      "Validation score: 0.709677\n",
      "Iteration 3, loss = 0.62102745\n",
      "Validation score: 0.709677\n",
      "Iteration 4, loss = 0.60744989\n",
      "Validation score: 0.741935\n",
      "Validation score did not improve more than tol=0.000100 for two consecutive epochs. Stopping.\n",
      "Iteration 1, loss = 0.68361809\n",
      "Validation score: 0.677419\n",
      "Iteration 2, loss = 0.63882335\n",
      "Validation score: 0.709677\n",
      "Iteration 3, loss = 0.61637260\n",
      "Validation score: 0.774194\n",
      "Iteration 4, loss = 0.59939265\n",
      "Validation score: 0.806452\n",
      "Iteration 5, loss = 0.58530001\n",
      "Validation score: 0.806452\n",
      "Iteration 6, loss = 0.57423908\n",
      "Validation score: 0.806452\n",
      "Iteration 7, loss = 0.56265317\n",
      "Validation score: 0.806452\n",
      "Validation score did not improve more than tol=0.000100 for two consecutive epochs. Stopping.\n",
      "Iteration 1, loss = 0.68690781\n",
      "Validation score: 0.677419\n",
      "Iteration 2, loss = 0.63603438\n",
      "Validation score: 0.741935\n",
      "Iteration 3, loss = 0.61451276\n",
      "Validation score: 0.741935\n",
      "Iteration 4, loss = 0.60188959\n",
      "Validation score: 0.741935\n",
      "Iteration 5, loss = 0.59274155\n",
      "Validation score: 0.741935\n",
      "Validation score did not improve more than tol=0.000100 for two consecutive epochs. Stopping.\n",
      "Iteration 1, loss = 0.60653871\n",
      "Validation score: 0.709677\n",
      "Iteration 2, loss = 0.56893099\n",
      "Validation score: 0.709677\n",
      "Iteration 3, loss = 0.55091511\n",
      "Validation score: 0.709677\n",
      "Iteration 4, loss = 0.53617659\n",
      "Validation score: 0.709677\n",
      "Validation score did not improve more than tol=0.000100 for two consecutive epochs. Stopping.\n",
      "Iteration 1, loss = 0.61744742\n",
      "Validation score: 0.677419\n",
      "Iteration 2, loss = 0.57002284\n",
      "Validation score: 0.677419\n",
      "Iteration 3, loss = 0.55099953\n",
      "Validation score: 0.677419\n",
      "Iteration 4, loss = 0.53815019\n",
      "Validation score: 0.677419\n",
      "Validation score did not improve more than tol=0.000100 for two consecutive epochs. Stopping.\n",
      "Iteration 1, loss = 0.61848843\n",
      "Validation score: 0.741935\n",
      "Iteration 2, loss = 0.58157952\n",
      "Validation score: 0.741935\n",
      "Iteration 3, loss = 0.56490344\n",
      "Validation score: 0.741935\n",
      "Iteration 4, loss = 0.54944357\n",
      "Validation score: 0.741935\n",
      "Validation score did not improve more than tol=0.000100 for two consecutive epochs. Stopping.\n",
      "Iteration 1, loss = 0.61930386\n",
      "Validation score: 0.774194\n",
      "Iteration 2, loss = 0.57046221\n",
      "Validation score: 0.774194\n",
      "Iteration 3, loss = 0.54267103\n",
      "Validation score: 0.774194\n",
      "Iteration 4, loss = 0.52227599\n",
      "Validation score: 0.645161\n",
      "Validation score did not improve more than tol=0.000100 for two consecutive epochs. Stopping.\n",
      "Iteration 1, loss = 0.62431066\n",
      "Validation score: 0.774194\n",
      "Iteration 2, loss = 0.56685277\n",
      "Validation score: 0.774194\n",
      "Iteration 3, loss = 0.53507027\n",
      "Validation score: 0.774194\n",
      "Iteration 4, loss = 0.51418301\n",
      "Validation score: 0.774194\n",
      "Validation score did not improve more than tol=0.000100 for two consecutive epochs. Stopping.\n",
      "Iteration 1, loss = 0.62010841\n",
      "Validation score: 0.838710\n",
      "Iteration 2, loss = 0.58934976\n",
      "Validation score: 0.838710\n",
      "Iteration 3, loss = 0.54902622\n",
      "Validation score: 0.838710\n",
      "Iteration 4, loss = 0.53150571\n",
      "Validation score: 0.838710\n",
      "Validation score did not improve more than tol=0.000100 for two consecutive epochs. Stopping.\n",
      "Iteration 1, loss = 0.61314675\n",
      "Validation score: 0.548387\n",
      "Iteration 2, loss = 0.52730377\n",
      "Validation score: 0.548387\n",
      "Iteration 3, loss = 0.50246259\n",
      "Validation score: 0.645161\n",
      "Iteration 4, loss = 0.47910177\n",
      "Validation score: 0.612903\n",
      "Iteration 5, loss = 0.47408438\n",
      "Validation score: 0.580645\n",
      "Iteration 6, loss = 0.45810345\n",
      "Validation score: 0.709677\n",
      "Iteration 7, loss = 0.44976313\n",
      "Validation score: 0.612903\n",
      "Iteration 8, loss = 0.43873315\n",
      "Validation score: 0.709677\n",
      "Iteration 9, loss = 0.43150924\n",
      "Validation score: 0.645161\n",
      "Validation score did not improve more than tol=0.000100 for two consecutive epochs. Stopping.\n",
      "Iteration 1, loss = 0.58604292\n",
      "Validation score: 0.709677\n",
      "Iteration 2, loss = 0.52771419\n",
      "Validation score: 0.677419\n",
      "Iteration 3, loss = 0.50141069\n",
      "Validation score: 0.709677\n",
      "Iteration 4, loss = 0.47385308\n",
      "Validation score: 0.741935\n",
      "Iteration 5, loss = 0.46960715\n",
      "Validation score: 0.677419\n",
      "Iteration 6, loss = 0.45466121\n",
      "Validation score: 0.741935\n",
      "Iteration 7, loss = 0.45249801\n",
      "Validation score: 0.677419\n",
      "Validation score did not improve more than tol=0.000100 for two consecutive epochs. Stopping.\n",
      "Iteration 1, loss = 0.59215089\n",
      "Validation score: 0.709677\n",
      "Iteration 2, loss = 0.53525514\n",
      "Validation score: 0.709677\n",
      "Iteration 3, loss = 0.51286940\n",
      "Validation score: 0.774194\n",
      "Iteration 4, loss = 0.49120657\n",
      "Validation score: 0.806452\n",
      "Iteration 5, loss = 0.47875781\n",
      "Validation score: 0.741935\n",
      "Iteration 6, loss = 0.46494312\n",
      "Validation score: 0.741935\n",
      "Iteration 7, loss = 0.45636006\n",
      "Validation score: 0.774194\n",
      "Validation score did not improve more than tol=0.000100 for two consecutive epochs. Stopping.\n",
      "Iteration 1, loss = 0.59933795\n",
      "Validation score: 0.709677\n",
      "Iteration 2, loss = 0.50385611\n",
      "Validation score: 0.612903\n",
      "Iteration 3, loss = 0.48329026\n",
      "Validation score: 0.677419\n",
      "Iteration 4, loss = 0.46202420\n",
      "Validation score: 0.677419\n",
      "Validation score did not improve more than tol=0.000100 for two consecutive epochs. Stopping.\n",
      "Iteration 1, loss = 0.62841214\n",
      "Validation score: 0.806452\n",
      "Iteration 2, loss = 0.53953791\n",
      "Validation score: 0.870968\n",
      "Iteration 3, loss = 0.50522386\n",
      "Validation score: 0.838710\n",
      "Iteration 4, loss = 0.47750520\n",
      "Validation score: 0.838710\n",
      "Iteration 5, loss = 0.46557627\n",
      "Validation score: 0.870968\n",
      "Validation score did not improve more than tol=0.000100 for two consecutive epochs. Stopping.\n",
      "Iteration 1, loss = 0.62592284\n",
      "Validation score: 0.741935\n",
      "Iteration 2, loss = 0.52883600\n",
      "Validation score: 0.677419\n",
      "Iteration 3, loss = 0.48643519\n",
      "Validation score: 0.709677\n",
      "Iteration 4, loss = 0.49055919\n",
      "Validation score: 0.645161\n",
      "Validation score did not improve more than tol=0.000100 for two consecutive epochs. Stopping.\n",
      "Iteration 1, loss = 0.64577918\n",
      "Validation score: 0.806452\n",
      "Iteration 2, loss = 0.53339834\n",
      "Validation score: 0.903226\n",
      "Iteration 3, loss = 0.53531879\n",
      "Validation score: 0.870968\n",
      "Iteration 4, loss = 0.49355463\n",
      "Validation score: 0.870968\n",
      "Iteration 5, loss = 0.46745777\n",
      "Validation score: 0.806452\n",
      "Validation score did not improve more than tol=0.000100 for two consecutive epochs. Stopping.\n",
      "Iteration 1, loss = 0.65479152\n",
      "Validation score: 0.645161\n",
      "Iteration 2, loss = 0.51385645\n",
      "Validation score: 0.612903\n",
      "Iteration 3, loss = 0.47304061\n",
      "Validation score: 0.645161\n",
      "Iteration 4, loss = 0.47073764\n",
      "Validation score: 0.645161\n",
      "Validation score did not improve more than tol=0.000100 for two consecutive epochs. Stopping.\n",
      "Iteration 1, loss = 0.67499628\n",
      "Validation score: 0.580645\n",
      "Iteration 2, loss = 0.55990052\n",
      "Validation score: 0.774194\n",
      "Iteration 3, loss = 0.55306642\n",
      "Validation score: 0.806452\n",
      "Iteration 4, loss = 0.49329578\n",
      "Validation score: 0.677419\n",
      "Iteration 5, loss = 0.49811516\n",
      "Validation score: 0.838710\n",
      "Iteration 6, loss = 0.46694848\n",
      "Validation score: 0.806452\n",
      "Iteration 7, loss = 0.45172757\n",
      "Validation score: 0.741935\n",
      "Iteration 8, loss = 0.44362905\n",
      "Validation score: 0.741935\n",
      "Validation score did not improve more than tol=0.000100 for two consecutive epochs. Stopping.\n",
      "Iteration 1, loss = 1.07766034\n",
      "Validation score: 0.354839\n",
      "Iteration 2, loss = 0.98847663\n",
      "Validation score: 0.322581\n",
      "Iteration 3, loss = 0.91189284\n",
      "Validation score: 0.354839\n",
      "Iteration 4, loss = 0.84967496\n",
      "Validation score: 0.419355\n",
      "Iteration 5, loss = 0.79904012\n",
      "Validation score: 0.483871\n",
      "Iteration 6, loss = 0.75810528\n",
      "Validation score: 0.483871\n",
      "Iteration 7, loss = 0.72435571\n",
      "Validation score: 0.548387\n",
      "Iteration 8, loss = 0.69922304\n",
      "Validation score: 0.548387\n",
      "Iteration 9, loss = 0.67666137\n",
      "Validation score: 0.580645\n",
      "Iteration 10, loss = 0.65833933\n",
      "Validation score: 0.612903\n",
      "Iteration 11, loss = 0.64179120\n",
      "Validation score: 0.677419\n",
      "Iteration 12, loss = 0.62708362\n",
      "Validation score: 0.677419\n",
      "Iteration 13, loss = 0.61455634\n"
     ]
    },
    {
     "name": "stdout",
     "output_type": "stream",
     "text": [
      "Validation score: 0.677419\n",
      "Iteration 14, loss = 0.60425179\n",
      "Validation score: 0.677419\n",
      "Validation score did not improve more than tol=0.000100 for two consecutive epochs. Stopping.\n",
      "Iteration 1, loss = 1.03622535\n",
      "Validation score: 0.290323\n",
      "Iteration 2, loss = 0.94735772\n",
      "Validation score: 0.322581\n",
      "Iteration 3, loss = 0.87014704\n",
      "Validation score: 0.322581\n",
      "Iteration 4, loss = 0.80747554\n",
      "Validation score: 0.322581\n",
      "Iteration 5, loss = 0.76063956\n",
      "Validation score: 0.419355\n",
      "Iteration 6, loss = 0.72411452\n",
      "Validation score: 0.483871\n",
      "Iteration 7, loss = 0.69163976\n",
      "Validation score: 0.548387\n",
      "Iteration 8, loss = 0.66832629\n",
      "Validation score: 0.580645\n",
      "Iteration 9, loss = 0.64716017\n",
      "Validation score: 0.580645\n",
      "Iteration 10, loss = 0.62948350\n",
      "Validation score: 0.645161\n",
      "Iteration 11, loss = 0.61446974\n",
      "Validation score: 0.677419\n",
      "Iteration 12, loss = 0.60065439\n",
      "Validation score: 0.645161\n",
      "Iteration 13, loss = 0.58955600\n",
      "Validation score: 0.645161\n",
      "Iteration 14, loss = 0.57782935\n",
      "Validation score: 0.645161\n",
      "Validation score did not improve more than tol=0.000100 for two consecutive epochs. Stopping.\n",
      "Iteration 1, loss = 1.09042122\n",
      "Validation score: 0.225806\n",
      "Iteration 2, loss = 1.00159835\n",
      "Validation score: 0.419355\n",
      "Iteration 3, loss = 0.91706620\n",
      "Validation score: 0.451613\n",
      "Iteration 4, loss = 0.85607306\n",
      "Validation score: 0.483871\n",
      "Iteration 5, loss = 0.80462253\n",
      "Validation score: 0.419355\n",
      "Iteration 6, loss = 0.76433518\n",
      "Validation score: 0.387097\n",
      "Iteration 7, loss = 0.73201847\n",
      "Validation score: 0.483871\n",
      "Validation score did not improve more than tol=0.000100 for two consecutive epochs. Stopping.\n",
      "Iteration 1, loss = 0.62238489\n",
      "Validation score: 0.741935\n",
      "Iteration 2, loss = 0.59996389\n",
      "Validation score: 0.741935\n",
      "Iteration 3, loss = 0.58337813\n",
      "Validation score: 0.741935\n",
      "Iteration 4, loss = 0.57055200\n",
      "Validation score: 0.741935\n",
      "Validation score did not improve more than tol=0.000100 for two consecutive epochs. Stopping.\n",
      "Iteration 1, loss = 0.62328593\n",
      "Validation score: 0.741935\n",
      "Iteration 2, loss = 0.59405003\n",
      "Validation score: 0.741935\n",
      "Iteration 3, loss = 0.57662896\n",
      "Validation score: 0.741935\n",
      "Iteration 4, loss = 0.56200489\n",
      "Validation score: 0.741935\n",
      "Validation score did not improve more than tol=0.000100 for two consecutive epochs. Stopping.\n",
      "Iteration 1, loss = 0.60316823\n",
      "Validation score: 0.645161\n",
      "Iteration 2, loss = 0.57981807\n",
      "Validation score: 0.645161\n",
      "Iteration 3, loss = 0.56691680\n",
      "Validation score: 0.645161\n",
      "Iteration 4, loss = 0.55595280\n",
      "Validation score: 0.645161\n",
      "Validation score did not improve more than tol=0.000100 for two consecutive epochs. Stopping.\n",
      "Iteration 1, loss = 0.73129825\n",
      "Validation score: 0.806452\n",
      "Iteration 2, loss = 0.65809671\n",
      "Validation score: 0.806452\n",
      "Iteration 3, loss = 0.61582326\n",
      "Validation score: 0.774194\n",
      "Iteration 4, loss = 0.58821614\n",
      "Validation score: 0.774194\n",
      "Validation score did not improve more than tol=0.000100 for two consecutive epochs. Stopping.\n",
      "Iteration 1, loss = 0.72650688\n",
      "Validation score: 0.548387\n",
      "Iteration 2, loss = 0.65403902\n",
      "Validation score: 0.645161\n",
      "Iteration 3, loss = 0.60835600\n",
      "Validation score: 0.677419\n",
      "Iteration 4, loss = 0.58332437\n",
      "Validation score: 0.677419\n",
      "Iteration 5, loss = 0.56541827\n",
      "Validation score: 0.677419\n",
      "Iteration 6, loss = 0.55035518\n",
      "Validation score: 0.677419\n",
      "Validation score did not improve more than tol=0.000100 for two consecutive epochs. Stopping.\n",
      "Iteration 1, loss = 0.74562513\n",
      "Validation score: 0.516129\n",
      "Iteration 2, loss = 0.67787414\n",
      "Validation score: 0.645161\n",
      "Iteration 3, loss = 0.63407142\n",
      "Validation score: 0.677419\n",
      "Iteration 4, loss = 0.60725070\n",
      "Validation score: 0.709677\n",
      "Iteration 5, loss = 0.58821253\n",
      "Validation score: 0.709677\n",
      "Iteration 6, loss = 0.57415887\n",
      "Validation score: 0.677419\n",
      "Iteration 7, loss = 0.56152813\n",
      "Validation score: 0.677419\n",
      "Validation score did not improve more than tol=0.000100 for two consecutive epochs. Stopping.\n",
      "Iteration 1, loss = 0.68302994\n",
      "Validation score: 0.709677\n",
      "Iteration 2, loss = 0.58317256\n",
      "Validation score: 0.677419\n",
      "Iteration 3, loss = 0.55649487\n",
      "Validation score: 0.677419\n",
      "Iteration 4, loss = 0.53753975\n",
      "Validation score: 0.677419\n",
      "Validation score did not improve more than tol=0.000100 for two consecutive epochs. Stopping.\n",
      "Iteration 1, loss = 0.67492222\n",
      "Validation score: 0.741935\n",
      "Iteration 2, loss = 0.59702095\n",
      "Validation score: 0.677419\n",
      "Iteration 3, loss = 0.56074593\n",
      "Validation score: 0.677419\n",
      "Iteration 4, loss = 0.54729196\n",
      "Validation score: 0.677419\n",
      "Validation score did not improve more than tol=0.000100 for two consecutive epochs. Stopping.\n",
      "Iteration 1, loss = 0.66007096\n",
      "Validation score: 0.677419\n",
      "Iteration 2, loss = 0.59338394\n",
      "Validation score: 0.774194\n",
      "Iteration 3, loss = 0.56519218\n",
      "Validation score: 0.774194\n",
      "Iteration 4, loss = 0.55089187\n",
      "Validation score: 0.774194\n",
      "Iteration 5, loss = 0.54021073\n",
      "Validation score: 0.774194\n",
      "Validation score did not improve more than tol=0.000100 for two consecutive epochs. Stopping.\n",
      "Iteration 1, loss = 0.66827110\n",
      "Validation score: 0.612903\n",
      "Iteration 2, loss = 0.57400939\n",
      "Validation score: 0.612903\n",
      "Iteration 3, loss = 0.54676024\n",
      "Validation score: 0.612903\n",
      "Iteration 4, loss = 0.53263339\n",
      "Validation score: 0.612903\n",
      "Validation score did not improve more than tol=0.000100 for two consecutive epochs. Stopping.\n",
      "Iteration 1, loss = 0.66655755\n",
      "Validation score: 0.677419\n",
      "Iteration 2, loss = 0.57220976\n",
      "Validation score: 0.677419\n",
      "Iteration 3, loss = 0.55103644\n",
      "Validation score: 0.677419\n",
      "Iteration 4, loss = 0.53126333\n",
      "Validation score: 0.677419\n",
      "Validation score did not improve more than tol=0.000100 for two consecutive epochs. Stopping.\n",
      "Iteration 1, loss = 0.66163222\n",
      "Validation score: 0.741935\n",
      "Iteration 2, loss = 0.58212863\n",
      "Validation score: 0.741935\n",
      "Iteration 3, loss = 0.56247943\n",
      "Validation score: 0.741935\n",
      "Iteration 4, loss = 0.54447155\n",
      "Validation score: 0.741935\n",
      "Validation score did not improve more than tol=0.000100 for two consecutive epochs. Stopping.\n",
      "Iteration 1, loss = 0.64011433\n",
      "Validation score: 0.580645\n",
      "Iteration 2, loss = 0.55291356\n",
      "Validation score: 0.580645\n",
      "Iteration 3, loss = 0.52861499\n",
      "Validation score: 0.580645\n",
      "Iteration 4, loss = 0.50838782\n",
      "Validation score: 0.677419\n",
      "Iteration 5, loss = 0.49385302\n",
      "Validation score: 0.677419\n",
      "Iteration 6, loss = 0.48438268\n",
      "Validation score: 0.709677\n",
      "Iteration 7, loss = 0.47713849\n",
      "Validation score: 0.709677\n",
      "Iteration 8, loss = 0.46989677\n",
      "Validation score: 0.709677\n",
      "Iteration 9, loss = 0.46341628\n",
      "Validation score: 0.677419\n",
      "Validation score did not improve more than tol=0.000100 for two consecutive epochs. Stopping.\n",
      "Iteration 1, loss = 0.62730770\n",
      "Validation score: 0.709677\n",
      "Iteration 2, loss = 0.55239046\n",
      "Validation score: 0.709677\n",
      "Iteration 3, loss = 0.52741024\n",
      "Validation score: 0.741935\n",
      "Iteration 4, loss = 0.50376179\n",
      "Validation score: 0.709677\n",
      "Iteration 5, loss = 0.49018315\n",
      "Validation score: 0.709677\n",
      "Iteration 6, loss = 0.47914787\n",
      "Validation score: 0.645161\n",
      "Validation score did not improve more than tol=0.000100 for two consecutive epochs. Stopping.\n",
      "Iteration 1, loss = 0.63996691\n",
      "Validation score: 0.677419\n",
      "Iteration 2, loss = 0.55924652\n",
      "Validation score: 0.677419\n",
      "Iteration 3, loss = 0.53241451\n",
      "Validation score: 0.645161\n",
      "Iteration 4, loss = 0.51035905\n",
      "Validation score: 0.580645\n",
      "Validation score did not improve more than tol=0.000100 for two consecutive epochs. Stopping.\n",
      "Iteration 1, loss = 0.69339367\n",
      "Validation score: 0.741935\n",
      "Iteration 2, loss = 0.64619480\n",
      "Validation score: 0.709677\n",
      "Iteration 3, loss = 0.62416017\n",
      "Validation score: 0.741935\n",
      "Iteration 4, loss = 0.61073730\n",
      "Validation score: 0.741935\n",
      "Validation score did not improve more than tol=0.000100 for two consecutive epochs. Stopping.\n",
      "Iteration 1, loss = 0.68648333\n",
      "Validation score: 0.612903\n",
      "Iteration 2, loss = 0.64305407\n",
      "Validation score: 0.677419\n",
      "Iteration 3, loss = 0.62034177\n",
      "Validation score: 0.741935\n",
      "Iteration 4, loss = 0.60316890\n",
      "Validation score: 0.806452\n",
      "Iteration 5, loss = 0.58980065\n",
      "Validation score: 0.806452\n",
      "Iteration 6, loss = 0.57858734\n",
      "Validation score: 0.806452\n",
      "Iteration 7, loss = 0.56821932\n",
      "Validation score: 0.806452\n",
      "Validation score did not improve more than tol=0.000100 for two consecutive epochs. Stopping.\n",
      "Iteration 1, loss = 0.69050212\n",
      "Validation score: 0.677419\n",
      "Iteration 2, loss = 0.64078421\n",
      "Validation score: 0.677419\n",
      "Iteration 3, loss = 0.61781920\n",
      "Validation score: 0.741935\n",
      "Iteration 4, loss = 0.60438698\n",
      "Validation score: 0.741935\n",
      "Iteration 5, loss = 0.59599008\n",
      "Validation score: 0.741935\n",
      "Iteration 6, loss = 0.58760057\n",
      "Validation score: 0.741935\n",
      "Validation score did not improve more than tol=0.000100 for two consecutive epochs. Stopping.\n",
      "Iteration 1, loss = 0.60823125\n",
      "Validation score: 0.709677\n",
      "Iteration 2, loss = 0.57134067\n",
      "Validation score: 0.709677\n",
      "Iteration 3, loss = 0.55391614\n",
      "Validation score: 0.709677\n",
      "Iteration 4, loss = 0.53961125\n",
      "Validation score: 0.709677\n",
      "Validation score did not improve more than tol=0.000100 for two consecutive epochs. Stopping.\n",
      "Iteration 1, loss = 0.62065260\n",
      "Validation score: 0.677419\n",
      "Iteration 2, loss = 0.57301098\n",
      "Validation score: 0.677419\n",
      "Iteration 3, loss = 0.55337297\n"
     ]
    },
    {
     "name": "stdout",
     "output_type": "stream",
     "text": [
      "Validation score: 0.677419\n",
      "Iteration 4, loss = 0.54164941\n",
      "Validation score: 0.677419\n",
      "Validation score did not improve more than tol=0.000100 for two consecutive epochs. Stopping.\n",
      "Iteration 1, loss = 0.62052229\n",
      "Validation score: 0.741935\n",
      "Iteration 2, loss = 0.58382040\n",
      "Validation score: 0.741935\n",
      "Iteration 3, loss = 0.56713506\n",
      "Validation score: 0.741935\n",
      "Iteration 4, loss = 0.55232456\n",
      "Validation score: 0.741935\n",
      "Validation score did not improve more than tol=0.000100 for two consecutive epochs. Stopping.\n",
      "Iteration 1, loss = 0.62074514\n",
      "Validation score: 0.774194\n",
      "Iteration 2, loss = 0.57348921\n",
      "Validation score: 0.774194\n",
      "Iteration 3, loss = 0.54777968\n",
      "Validation score: 0.774194\n",
      "Iteration 4, loss = 0.52675684\n",
      "Validation score: 0.645161\n",
      "Validation score did not improve more than tol=0.000100 for two consecutive epochs. Stopping.\n",
      "Iteration 1, loss = 0.62430745\n",
      "Validation score: 0.774194\n",
      "Iteration 2, loss = 0.56792092\n",
      "Validation score: 0.774194\n",
      "Iteration 3, loss = 0.53891774\n",
      "Validation score: 0.774194\n",
      "Iteration 4, loss = 0.51809399\n",
      "Validation score: 0.774194\n",
      "Validation score did not improve more than tol=0.000100 for two consecutive epochs. Stopping.\n",
      "Iteration 1, loss = 0.62318058\n",
      "Validation score: 0.838710\n",
      "Iteration 2, loss = 0.59214434\n",
      "Validation score: 0.838710\n",
      "Iteration 3, loss = 0.55437757\n",
      "Validation score: 0.838710\n",
      "Iteration 4, loss = 0.53472779\n",
      "Validation score: 0.838710\n",
      "Validation score did not improve more than tol=0.000100 for two consecutive epochs. Stopping.\n",
      "Iteration 1, loss = 0.61294174\n",
      "Validation score: 0.548387\n",
      "Iteration 2, loss = 0.53097893\n",
      "Validation score: 0.548387\n",
      "Iteration 3, loss = 0.50497169\n",
      "Validation score: 0.645161\n",
      "Iteration 4, loss = 0.48235885\n",
      "Validation score: 0.580645\n",
      "Iteration 5, loss = 0.47792093\n",
      "Validation score: 0.548387\n",
      "Iteration 6, loss = 0.45992624\n",
      "Validation score: 0.709677\n",
      "Iteration 7, loss = 0.45163577\n",
      "Validation score: 0.645161\n",
      "Iteration 8, loss = 0.44171949\n",
      "Validation score: 0.645161\n",
      "Iteration 9, loss = 0.43432791\n",
      "Validation score: 0.677419\n",
      "Validation score did not improve more than tol=0.000100 for two consecutive epochs. Stopping.\n",
      "Iteration 1, loss = 0.58675552\n",
      "Validation score: 0.709677\n",
      "Iteration 2, loss = 0.53301212\n",
      "Validation score: 0.709677\n",
      "Iteration 3, loss = 0.50751338\n",
      "Validation score: 0.741935\n",
      "Iteration 4, loss = 0.47383691\n",
      "Validation score: 0.741935\n",
      "Iteration 5, loss = 0.47675932\n",
      "Validation score: 0.741935\n",
      "Iteration 6, loss = 0.45718949\n",
      "Validation score: 0.741935\n",
      "Validation score did not improve more than tol=0.000100 for two consecutive epochs. Stopping.\n",
      "Iteration 1, loss = 0.59173788\n",
      "Validation score: 0.709677\n",
      "Iteration 2, loss = 0.53811037\n",
      "Validation score: 0.709677\n",
      "Iteration 3, loss = 0.51476573\n",
      "Validation score: 0.806452\n",
      "Iteration 4, loss = 0.49245541\n",
      "Validation score: 0.806452\n",
      "Iteration 5, loss = 0.48180968\n",
      "Validation score: 0.774194\n",
      "Iteration 6, loss = 0.46805450\n",
      "Validation score: 0.774194\n",
      "Validation score did not improve more than tol=0.000100 for two consecutive epochs. Stopping.\n",
      "Iteration 1, loss = 0.59798091\n",
      "Validation score: 0.709677\n",
      "Iteration 2, loss = 0.50218288\n",
      "Validation score: 0.645161\n",
      "Iteration 3, loss = 0.47995671\n",
      "Validation score: 0.677419\n",
      "Iteration 4, loss = 0.46098784\n",
      "Validation score: 0.677419\n",
      "Validation score did not improve more than tol=0.000100 for two consecutive epochs. Stopping.\n",
      "Iteration 1, loss = 0.63502315\n",
      "Validation score: 0.838710\n",
      "Iteration 2, loss = 0.54726660\n",
      "Validation score: 0.870968\n",
      "Iteration 3, loss = 0.50504056\n",
      "Validation score: 0.838710\n",
      "Iteration 4, loss = 0.48067980\n",
      "Validation score: 0.838710\n",
      "Iteration 5, loss = 0.46844574\n",
      "Validation score: 0.838710\n",
      "Validation score did not improve more than tol=0.000100 for two consecutive epochs. Stopping.\n",
      "Iteration 1, loss = 0.61936450\n",
      "Validation score: 0.774194\n",
      "Iteration 2, loss = 0.53519170\n",
      "Validation score: 0.645161\n",
      "Iteration 3, loss = 0.48770215\n",
      "Validation score: 0.709677\n",
      "Iteration 4, loss = 0.49271497\n",
      "Validation score: 0.645161\n",
      "Validation score did not improve more than tol=0.000100 for two consecutive epochs. Stopping.\n",
      "Iteration 1, loss = 0.62518771\n",
      "Validation score: 0.806452\n",
      "Iteration 2, loss = 0.53136916\n",
      "Validation score: 0.903226\n",
      "Iteration 3, loss = 0.53450550\n",
      "Validation score: 0.870968\n",
      "Iteration 4, loss = 0.49195658\n",
      "Validation score: 0.903226\n",
      "Iteration 5, loss = 0.46678645\n",
      "Validation score: 0.838710\n",
      "Validation score did not improve more than tol=0.000100 for two consecutive epochs. Stopping.\n",
      "Iteration 1, loss = 0.67944073\n",
      "Validation score: 0.677419\n",
      "Iteration 2, loss = 0.52360629\n",
      "Validation score: 0.612903\n",
      "Iteration 3, loss = 0.48292518\n",
      "Validation score: 0.645161\n",
      "Iteration 4, loss = 0.47069713\n",
      "Validation score: 0.645161\n",
      "Validation score did not improve more than tol=0.000100 for two consecutive epochs. Stopping.\n",
      "Iteration 1, loss = 0.70074881\n",
      "Validation score: 0.580645\n",
      "Iteration 2, loss = 0.56211784\n",
      "Validation score: 0.774194\n",
      "Iteration 3, loss = 0.53688210\n",
      "Validation score: 0.806452\n",
      "Iteration 4, loss = 0.49292171\n",
      "Validation score: 0.612903\n",
      "Iteration 5, loss = 0.50179619\n",
      "Validation score: 0.838710\n",
      "Iteration 6, loss = 0.46718048\n",
      "Validation score: 0.709677\n",
      "Iteration 7, loss = 0.45797567\n",
      "Validation score: 0.677419\n",
      "Iteration 8, loss = 0.44609760\n",
      "Validation score: 0.806452\n",
      "Validation score did not improve more than tol=0.000100 for two consecutive epochs. Stopping.\n",
      "Iteration 1, loss = 1.09979566\n",
      "Validation score: 0.290323\n",
      "Iteration 2, loss = 1.04375408\n",
      "Validation score: 0.354839\n",
      "Iteration 3, loss = 0.99183623\n",
      "Validation score: 0.322581\n",
      "Iteration 4, loss = 0.94511442\n",
      "Validation score: 0.322581\n",
      "Iteration 5, loss = 0.90283777\n",
      "Validation score: 0.387097\n",
      "Iteration 6, loss = 0.86464002\n",
      "Validation score: 0.387097\n",
      "Iteration 7, loss = 0.83032126\n",
      "Validation score: 0.419355\n",
      "Iteration 8, loss = 0.80130640\n",
      "Validation score: 0.483871\n",
      "Iteration 9, loss = 0.77594912\n",
      "Validation score: 0.483871\n",
      "Iteration 10, loss = 0.75248187\n",
      "Validation score: 0.483871\n",
      "Iteration 11, loss = 0.73271451\n",
      "Validation score: 0.548387\n",
      "Iteration 12, loss = 0.71405097\n",
      "Validation score: 0.548387\n",
      "Iteration 13, loss = 0.69748453\n",
      "Validation score: 0.548387\n",
      "Iteration 14, loss = 0.68372326\n",
      "Validation score: 0.548387\n",
      "Validation score did not improve more than tol=0.000100 for two consecutive epochs. Stopping.\n",
      "Iteration 1, loss = 1.06176504\n",
      "Validation score: 0.258065\n",
      "Iteration 2, loss = 1.00490426\n",
      "Validation score: 0.322581\n",
      "Iteration 3, loss = 0.95063804\n",
      "Validation score: 0.322581\n",
      "Iteration 4, loss = 0.90106341\n",
      "Validation score: 0.322581\n",
      "Iteration 5, loss = 0.85887487\n",
      "Validation score: 0.322581\n",
      "Validation score did not improve more than tol=0.000100 for two consecutive epochs. Stopping.\n",
      "Iteration 1, loss = 1.11632579\n",
      "Validation score: 0.225806\n",
      "Iteration 2, loss = 1.05788905\n",
      "Validation score: 0.258065\n",
      "Iteration 3, loss = 0.99828649\n",
      "Validation score: 0.387097\n",
      "Iteration 4, loss = 0.94959212\n",
      "Validation score: 0.419355\n",
      "Iteration 5, loss = 0.90463001\n",
      "Validation score: 0.451613\n",
      "Iteration 6, loss = 0.86517304\n",
      "Validation score: 0.451613\n",
      "Iteration 7, loss = 0.82987378\n",
      "Validation score: 0.451613\n",
      "Iteration 8, loss = 0.80205384\n",
      "Validation score: 0.419355\n",
      "Validation score did not improve more than tol=0.000100 for two consecutive epochs. Stopping.\n",
      "Iteration 1, loss = 0.62545147\n",
      "Validation score: 0.741935\n",
      "Iteration 2, loss = 0.60873703\n",
      "Validation score: 0.741935\n",
      "Iteration 3, loss = 0.59585446\n",
      "Validation score: 0.741935\n",
      "Iteration 4, loss = 0.58551931\n",
      "Validation score: 0.741935\n",
      "Validation score did not improve more than tol=0.000100 for two consecutive epochs. Stopping.\n",
      "Iteration 1, loss = 0.62800544\n",
      "Validation score: 0.741935\n",
      "Iteration 2, loss = 0.60621168\n",
      "Validation score: 0.741935\n",
      "Iteration 3, loss = 0.59186754\n",
      "Validation score: 0.741935\n",
      "Iteration 4, loss = 0.57888464\n",
      "Validation score: 0.741935\n",
      "Validation score did not improve more than tol=0.000100 for two consecutive epochs. Stopping.\n",
      "Iteration 1, loss = 0.60644705\n",
      "Validation score: 0.645161\n",
      "Iteration 2, loss = 0.58885719\n",
      "Validation score: 0.645161\n",
      "Iteration 3, loss = 0.57819465\n",
      "Validation score: 0.645161\n",
      "Iteration 4, loss = 0.56878583\n",
      "Validation score: 0.645161\n",
      "Validation score did not improve more than tol=0.000100 for two consecutive epochs. Stopping.\n",
      "Iteration 1, loss = 0.74769245\n",
      "Validation score: 0.612903\n",
      "Iteration 2, loss = 0.69434971\n",
      "Validation score: 0.806452\n",
      "Iteration 3, loss = 0.65707783\n",
      "Validation score: 0.806452\n",
      "Iteration 4, loss = 0.62830383\n",
      "Validation score: 0.806452\n",
      "Iteration 5, loss = 0.60787093\n",
      "Validation score: 0.774194\n",
      "Validation score did not improve more than tol=0.000100 for two consecutive epochs. Stopping.\n",
      "Iteration 1, loss = 0.73716928\n",
      "Validation score: 0.548387\n",
      "Iteration 2, loss = 0.68370498\n",
      "Validation score: 0.612903\n",
      "Iteration 3, loss = 0.64526216\n",
      "Validation score: 0.677419\n",
      "Iteration 4, loss = 0.62040068\n",
      "Validation score: 0.677419\n",
      "Iteration 5, loss = 0.60008366\n",
      "Validation score: 0.677419\n",
      "Iteration 6, loss = 0.58540860\n",
      "Validation score: 0.677419\n",
      "Validation score did not improve more than tol=0.000100 for two consecutive epochs. Stopping.\n"
     ]
    },
    {
     "name": "stdout",
     "output_type": "stream",
     "text": [
      "Iteration 1, loss = 0.75818616\n",
      "Validation score: 0.516129\n",
      "Iteration 2, loss = 0.70671937\n",
      "Validation score: 0.580645\n",
      "Iteration 3, loss = 0.66919846\n",
      "Validation score: 0.645161\n",
      "Iteration 4, loss = 0.64322919\n",
      "Validation score: 0.677419\n",
      "Iteration 5, loss = 0.62231424\n",
      "Validation score: 0.709677\n",
      "Iteration 6, loss = 0.60735154\n",
      "Validation score: 0.709677\n",
      "Iteration 7, loss = 0.59429584\n",
      "Validation score: 0.709677\n",
      "Iteration 8, loss = 0.58285257\n",
      "Validation score: 0.677419\n",
      "Validation score did not improve more than tol=0.000100 for two consecutive epochs. Stopping.\n",
      "Iteration 1, loss = 0.71153967\n",
      "Validation score: 0.548387\n",
      "Iteration 2, loss = 0.62523112\n",
      "Validation score: 0.709677\n",
      "Iteration 3, loss = 0.58540060\n",
      "Validation score: 0.677419\n",
      "Iteration 4, loss = 0.56001488\n",
      "Validation score: 0.677419\n",
      "Iteration 5, loss = 0.54720461\n",
      "Validation score: 0.677419\n",
      "Validation score did not improve more than tol=0.000100 for two consecutive epochs. Stopping.\n",
      "Iteration 1, loss = 0.70456007\n",
      "Validation score: 0.580645\n",
      "Iteration 2, loss = 0.63146594\n",
      "Validation score: 0.709677\n",
      "Iteration 3, loss = 0.58647918\n",
      "Validation score: 0.677419\n",
      "Iteration 4, loss = 0.56752758\n",
      "Validation score: 0.677419\n",
      "Iteration 5, loss = 0.55543352\n",
      "Validation score: 0.677419\n",
      "Validation score did not improve more than tol=0.000100 for two consecutive epochs. Stopping.\n",
      "Iteration 1, loss = 0.67995682\n",
      "Validation score: 0.645161\n",
      "Iteration 2, loss = 0.61935486\n",
      "Validation score: 0.709677\n",
      "Iteration 3, loss = 0.58554647\n",
      "Validation score: 0.741935\n",
      "Iteration 4, loss = 0.56918313\n",
      "Validation score: 0.774194\n",
      "Iteration 5, loss = 0.55807234\n",
      "Validation score: 0.774194\n",
      "Iteration 6, loss = 0.55043841\n",
      "Validation score: 0.774194\n",
      "Iteration 7, loss = 0.54382282\n",
      "Validation score: 0.774194\n",
      "Validation score did not improve more than tol=0.000100 for two consecutive epochs. Stopping.\n",
      "Iteration 1, loss = 0.70189122\n",
      "Validation score: 0.612903\n",
      "Iteration 2, loss = 0.60533191\n",
      "Validation score: 0.612903\n",
      "Iteration 3, loss = 0.56885707\n",
      "Validation score: 0.612903\n",
      "Iteration 4, loss = 0.55265749\n",
      "Validation score: 0.612903\n",
      "Validation score did not improve more than tol=0.000100 for two consecutive epochs. Stopping.\n",
      "Iteration 1, loss = 0.69828633\n",
      "Validation score: 0.677419\n",
      "Iteration 2, loss = 0.60454115\n",
      "Validation score: 0.677419\n",
      "Iteration 3, loss = 0.57473166\n",
      "Validation score: 0.677419\n",
      "Iteration 4, loss = 0.55496950\n",
      "Validation score: 0.677419\n",
      "Validation score did not improve more than tol=0.000100 for two consecutive epochs. Stopping.\n",
      "Iteration 1, loss = 0.68783775\n",
      "Validation score: 0.741935\n",
      "Iteration 2, loss = 0.60856880\n",
      "Validation score: 0.741935\n",
      "Iteration 3, loss = 0.58620594\n",
      "Validation score: 0.741935\n",
      "Iteration 4, loss = 0.56710681\n",
      "Validation score: 0.741935\n",
      "Validation score did not improve more than tol=0.000100 for two consecutive epochs. Stopping.\n",
      "Iteration 1, loss = 0.67373780\n",
      "Validation score: 0.580645\n",
      "Iteration 2, loss = 0.57433672\n",
      "Validation score: 0.580645\n",
      "Iteration 3, loss = 0.55074122\n",
      "Validation score: 0.580645\n",
      "Iteration 4, loss = 0.53768629\n",
      "Validation score: 0.580645\n",
      "Validation score did not improve more than tol=0.000100 for two consecutive epochs. Stopping.\n",
      "Iteration 1, loss = 0.65949057\n",
      "Validation score: 0.709677\n",
      "Iteration 2, loss = 0.57336210\n",
      "Validation score: 0.709677\n",
      "Iteration 3, loss = 0.54749963\n",
      "Validation score: 0.709677\n",
      "Iteration 4, loss = 0.53279335\n",
      "Validation score: 0.709677\n",
      "Validation score did not improve more than tol=0.000100 for two consecutive epochs. Stopping.\n",
      "Iteration 1, loss = 0.66859959\n",
      "Validation score: 0.677419\n",
      "Iteration 2, loss = 0.58327427\n",
      "Validation score: 0.677419\n",
      "Iteration 3, loss = 0.55387218\n",
      "Validation score: 0.677419\n",
      "Iteration 4, loss = 0.53735932\n",
      "Validation score: 0.677419\n",
      "Validation score did not improve more than tol=0.000100 for two consecutive epochs. Stopping.\n",
      "Iteration 1, loss = 0.70658105\n",
      "Validation score: 0.709677\n",
      "Iteration 2, loss = 0.66720541\n",
      "Validation score: 0.709677\n",
      "Iteration 3, loss = 0.64387898\n",
      "Validation score: 0.709677\n",
      "Iteration 4, loss = 0.63045660\n",
      "Validation score: 0.709677\n",
      "Validation score did not improve more than tol=0.000100 for two consecutive epochs. Stopping.\n",
      "Iteration 1, loss = 0.69791566\n",
      "Validation score: 0.580645\n",
      "Iteration 2, loss = 0.66420826\n",
      "Validation score: 0.645161\n",
      "Iteration 3, loss = 0.64386796\n",
      "Validation score: 0.677419\n",
      "Iteration 4, loss = 0.62645123\n",
      "Validation score: 0.709677\n",
      "Iteration 5, loss = 0.61495570\n",
      "Validation score: 0.741935\n",
      "Iteration 6, loss = 0.60433698\n",
      "Validation score: 0.806452\n",
      "Iteration 7, loss = 0.59500132\n",
      "Validation score: 0.806452\n",
      "Iteration 8, loss = 0.58633908\n",
      "Validation score: 0.806452\n",
      "Iteration 9, loss = 0.57880106\n",
      "Validation score: 0.806452\n",
      "Validation score did not improve more than tol=0.000100 for two consecutive epochs. Stopping.\n",
      "Iteration 1, loss = 0.70418475\n",
      "Validation score: 0.548387\n",
      "Iteration 2, loss = 0.66459052\n",
      "Validation score: 0.677419\n",
      "Iteration 3, loss = 0.63941735\n",
      "Validation score: 0.677419\n",
      "Iteration 4, loss = 0.62233415\n",
      "Validation score: 0.741935\n",
      "Iteration 5, loss = 0.61346437\n",
      "Validation score: 0.741935\n",
      "Iteration 6, loss = 0.60529499\n",
      "Validation score: 0.741935\n",
      "Iteration 7, loss = 0.59940350\n",
      "Validation score: 0.741935\n",
      "Validation score did not improve more than tol=0.000100 for two consecutive epochs. Stopping.\n",
      "Iteration 1, loss = 0.61901378\n",
      "Validation score: 0.677419\n",
      "Iteration 2, loss = 0.58396784\n",
      "Validation score: 0.709677\n",
      "Iteration 3, loss = 0.56799241\n",
      "Validation score: 0.709677\n",
      "Iteration 4, loss = 0.55946535\n",
      "Validation score: 0.709677\n",
      "Iteration 5, loss = 0.54979693\n",
      "Validation score: 0.709677\n",
      "Validation score did not improve more than tol=0.000100 for two consecutive epochs. Stopping.\n",
      "Iteration 1, loss = 0.62901746\n",
      "Validation score: 0.677419\n",
      "Iteration 2, loss = 0.58826723\n",
      "Validation score: 0.677419\n",
      "Iteration 3, loss = 0.56832495\n",
      "Validation score: 0.677419\n",
      "Iteration 4, loss = 0.55689622\n",
      "Validation score: 0.677419\n",
      "Validation score did not improve more than tol=0.000100 for two consecutive epochs. Stopping.\n",
      "Iteration 1, loss = 0.63378774\n",
      "Validation score: 0.741935\n",
      "Iteration 2, loss = 0.59871196\n",
      "Validation score: 0.741935\n",
      "Iteration 3, loss = 0.58142383\n",
      "Validation score: 0.741935\n",
      "Iteration 4, loss = 0.56947667\n",
      "Validation score: 0.741935\n",
      "Validation score did not improve more than tol=0.000100 for two consecutive epochs. Stopping.\n",
      "Iteration 1, loss = 0.64005721\n",
      "Validation score: 0.774194\n",
      "Iteration 2, loss = 0.58884474\n",
      "Validation score: 0.774194\n",
      "Iteration 3, loss = 0.57337978\n",
      "Validation score: 0.774194\n",
      "Iteration 4, loss = 0.55527723\n",
      "Validation score: 0.774194\n",
      "Validation score did not improve more than tol=0.000100 for two consecutive epochs. Stopping.\n",
      "Iteration 1, loss = 0.64292975\n",
      "Validation score: 0.774194\n",
      "Iteration 2, loss = 0.58058878\n",
      "Validation score: 0.774194\n",
      "Iteration 3, loss = 0.56287248\n",
      "Validation score: 0.774194\n",
      "Iteration 4, loss = 0.54682537\n",
      "Validation score: 0.774194\n",
      "Validation score did not improve more than tol=0.000100 for two consecutive epochs. Stopping.\n",
      "Iteration 1, loss = 0.64279670\n",
      "Validation score: 0.838710\n",
      "Iteration 2, loss = 0.60020370\n",
      "Validation score: 0.838710\n",
      "Iteration 3, loss = 0.58448036\n",
      "Validation score: 0.838710\n",
      "Iteration 4, loss = 0.56348371\n",
      "Validation score: 0.838710\n",
      "Validation score did not improve more than tol=0.000100 for two consecutive epochs. Stopping.\n",
      "Iteration 1, loss = 0.64103912\n",
      "Validation score: 0.548387\n",
      "Iteration 2, loss = 0.54918166\n",
      "Validation score: 0.548387\n",
      "Iteration 3, loss = 0.53876165\n",
      "Validation score: 0.548387\n",
      "Iteration 4, loss = 0.51371546\n",
      "Validation score: 0.580645\n",
      "Iteration 5, loss = 0.49530835\n",
      "Validation score: 0.580645\n",
      "Iteration 6, loss = 0.48348286\n",
      "Validation score: 0.612903\n",
      "Iteration 7, loss = 0.47372286\n",
      "Validation score: 0.612903\n",
      "Iteration 8, loss = 0.46667463\n",
      "Validation score: 0.645161\n",
      "Iteration 9, loss = 0.45910310\n",
      "Validation score: 0.677419\n",
      "Iteration 10, loss = 0.44998481\n",
      "Validation score: 0.645161\n",
      "Iteration 11, loss = 0.44466690\n",
      "Validation score: 0.709677\n",
      "Iteration 12, loss = 0.43943252\n",
      "Validation score: 0.709677\n",
      "Iteration 13, loss = 0.43188609\n",
      "Validation score: 0.677419\n",
      "Iteration 14, loss = 0.42911097\n",
      "Validation score: 0.677419\n",
      "Validation score did not improve more than tol=0.000100 for two consecutive epochs. Stopping.\n",
      "Iteration 1, loss = 0.61072711\n",
      "Validation score: 0.709677\n",
      "Iteration 2, loss = 0.56999365\n",
      "Validation score: 0.709677\n",
      "Iteration 3, loss = 0.55033079\n",
      "Validation score: 0.709677\n"
     ]
    },
    {
     "name": "stdout",
     "output_type": "stream",
     "text": [
      "Iteration 4, loss = 0.51890723\n",
      "Validation score: 0.709677\n",
      "Validation score did not improve more than tol=0.000100 for two consecutive epochs. Stopping.\n",
      "Iteration 1, loss = 0.60920585\n",
      "Validation score: 0.709677\n",
      "Iteration 2, loss = 0.58160338\n",
      "Validation score: 0.709677\n",
      "Iteration 3, loss = 0.54928642\n",
      "Validation score: 0.709677\n",
      "Iteration 4, loss = 0.51952723\n",
      "Validation score: 0.774194\n",
      "Iteration 5, loss = 0.51610713\n",
      "Validation score: 0.806452\n",
      "Iteration 6, loss = 0.49608471\n",
      "Validation score: 0.774194\n",
      "Iteration 7, loss = 0.48958798\n",
      "Validation score: 0.806452\n",
      "Iteration 8, loss = 0.47500279\n",
      "Validation score: 0.806452\n",
      "Validation score did not improve more than tol=0.000100 for two consecutive epochs. Stopping.\n",
      "Iteration 1, loss = 0.60874505\n",
      "Validation score: 0.806452\n",
      "Iteration 2, loss = 0.52075690\n",
      "Validation score: 0.612903\n",
      "Iteration 3, loss = 0.49628152\n",
      "Validation score: 0.677419\n",
      "Iteration 4, loss = 0.47330291\n",
      "Validation score: 0.677419\n",
      "Validation score did not improve more than tol=0.000100 for two consecutive epochs. Stopping.\n",
      "Iteration 1, loss = 0.64344528\n",
      "Validation score: 0.870968\n",
      "Iteration 2, loss = 0.57745603\n",
      "Validation score: 0.838710\n",
      "Iteration 3, loss = 0.53398123\n",
      "Validation score: 0.838710\n",
      "Iteration 4, loss = 0.50260699\n",
      "Validation score: 0.806452\n",
      "Validation score did not improve more than tol=0.000100 for two consecutive epochs. Stopping.\n",
      "Iteration 1, loss = 0.61704317\n",
      "Validation score: 0.774194\n",
      "Iteration 2, loss = 0.55910925\n",
      "Validation score: 0.741935\n",
      "Iteration 3, loss = 0.51528608\n",
      "Validation score: 0.677419\n",
      "Iteration 4, loss = 0.49934271\n",
      "Validation score: 0.677419\n",
      "Validation score did not improve more than tol=0.000100 for two consecutive epochs. Stopping.\n",
      "Iteration 1, loss = 0.65421913\n",
      "Validation score: 0.903226\n",
      "Iteration 2, loss = 0.54396236\n",
      "Validation score: 0.774194\n",
      "Iteration 3, loss = 0.51523905\n",
      "Validation score: 0.838710\n",
      "Iteration 4, loss = 0.48599622\n",
      "Validation score: 0.806452\n",
      "Validation score did not improve more than tol=0.000100 for two consecutive epochs. Stopping.\n",
      "Iteration 1, loss = 0.67212609\n",
      "Validation score: 0.645161\n",
      "Iteration 2, loss = 0.56318543\n",
      "Validation score: 0.612903\n",
      "Iteration 3, loss = 0.50591205\n",
      "Validation score: 0.612903\n",
      "Iteration 4, loss = 0.48093526\n",
      "Validation score: 0.677419\n",
      "Iteration 5, loss = 0.46425466\n",
      "Validation score: 0.677419\n",
      "Iteration 6, loss = 0.45164596\n",
      "Validation score: 0.677419\n",
      "Iteration 7, loss = 0.44458759\n",
      "Validation score: 0.645161\n",
      "Validation score did not improve more than tol=0.000100 for two consecutive epochs. Stopping.\n",
      "Iteration 1, loss = 0.69310207\n",
      "Validation score: 0.774194\n",
      "Iteration 2, loss = 0.56234909\n",
      "Validation score: 0.806452\n",
      "Iteration 3, loss = 0.52938336\n",
      "Validation score: 0.774194\n",
      "Iteration 4, loss = 0.51234494\n",
      "Validation score: 0.806452\n",
      "Iteration 5, loss = 0.49368057\n",
      "Validation score: 0.774194\n",
      "Validation score did not improve more than tol=0.000100 for two consecutive epochs. Stopping.\n",
      "Iteration 1, loss = 0.63180395\n",
      "Validation score: 0.638298\n",
      "Iteration 2, loss = 0.51374168\n",
      "Validation score: 0.638298\n",
      "Iteration 3, loss = 0.52022772\n",
      "Validation score: 0.638298\n",
      "Iteration 4, loss = 0.50758289\n",
      "Validation score: 0.617021\n",
      "Validation score did not improve more than tol=0.000100 for two consecutive epochs. Stopping.\n"
     ]
    },
    {
     "data": {
      "text/plain": [
       "GridSearchCV(cv=None, error_score='raise',\n",
       "       estimator=MLPClassifier(activation='relu', alpha=0.0001, batch_size='auto', beta_1=0.9,\n",
       "       beta_2=0.999, early_stopping=True, epsilon=1e-08,\n",
       "       hidden_layer_sizes=(100,), learning_rate='constant',\n",
       "       learning_rate_init=0.001, max_iter=200, momentum=0.9,\n",
       "       nesterovs_momentum=True, power_t=0.5, random_state=21, shuffle=True,\n",
       "       solver='adam', tol=0.0001, validation_fraction=0.1, verbose=True,\n",
       "       warm_start=False),\n",
       "       fit_params=None, iid=True, n_jobs=1,\n",
       "       param_grid={'hidden_layer_sizes': [32, 64, 128, 256, 512, 1024, (32, 32), (64, 64), (128, 128), (256, 256), (512, 512), (1025, 1024)], 'batch_size': [4, 8, 12, 24, 28, 32, 64]},\n",
       "       pre_dispatch='2*n_jobs', refit=True, return_train_score='warn',\n",
       "       scoring=None, verbose=0)"
      ]
     },
     "execution_count": 81,
     "metadata": {},
     "output_type": "execute_result"
    }
   ],
   "source": [
    "search.fit(X_train_pca,y_train)"
   ]
  },
  {
   "cell_type": "code",
   "execution_count": 82,
   "metadata": {},
   "outputs": [
    {
     "data": {
      "text/plain": [
       "MLPClassifier(activation='relu', alpha=0.0001, batch_size=12, beta_1=0.9,\n",
       "       beta_2=0.999, early_stopping=True, epsilon=1e-08,\n",
       "       hidden_layer_sizes=(1025, 1024), learning_rate='constant',\n",
       "       learning_rate_init=0.001, max_iter=200, momentum=0.9,\n",
       "       nesterovs_momentum=True, power_t=0.5, random_state=21, shuffle=True,\n",
       "       solver='adam', tol=0.0001, validation_fraction=0.1, verbose=True,\n",
       "       warm_start=False)"
      ]
     },
     "execution_count": 82,
     "metadata": {},
     "output_type": "execute_result"
    }
   ],
   "source": [
    "search.best_estimator_"
   ]
  },
  {
   "cell_type": "code",
   "execution_count": 83,
   "metadata": {},
   "outputs": [
    {
     "data": {
      "text/plain": [
       "{'batch_size': 12, 'hidden_layer_sizes': (1025, 1024)}"
      ]
     },
     "execution_count": 83,
     "metadata": {},
     "output_type": "execute_result"
    }
   ],
   "source": [
    "search.best_params_"
   ]
  },
  {
   "cell_type": "code",
   "execution_count": 84,
   "metadata": {},
   "outputs": [
    {
     "data": {
      "text/plain": [
       "0.7386609071274298"
      ]
     },
     "execution_count": 84,
     "metadata": {},
     "output_type": "execute_result"
    }
   ],
   "source": [
    "search.best_score_"
   ]
  },
  {
   "cell_type": "code",
   "execution_count": 85,
   "metadata": {},
   "outputs": [],
   "source": [
    "pred = search.predict(X_test_pca)"
   ]
  },
  {
   "cell_type": "code",
   "execution_count": 86,
   "metadata": {},
   "outputs": [
    {
     "data": {
      "text/plain": [
       "0.7241379310344828"
      ]
     },
     "execution_count": 86,
     "metadata": {},
     "output_type": "execute_result"
    }
   ],
   "source": [
    "accuracy_score(pred,y_test)"
   ]
  },
  {
   "cell_type": "code",
   "execution_count": 92,
   "metadata": {},
   "outputs": [
    {
     "data": {
      "text/plain": [
       "[mean: 0.71490, std: 0.00964, params: {'batch_size': 4, 'hidden_layer_sizes': 32},\n",
       " mean: 0.71274, std: 0.00358, params: {'batch_size': 4, 'hidden_layer_sizes': 64},\n",
       " mean: 0.72138, std: 0.00457, params: {'batch_size': 4, 'hidden_layer_sizes': 128},\n",
       " mean: 0.71274, std: 0.00831, params: {'batch_size': 4, 'hidden_layer_sizes': 256},\n",
       " mean: 0.70626, std: 0.01609, params: {'batch_size': 4, 'hidden_layer_sizes': 512},\n",
       " mean: 0.70410, std: 0.01909, params: {'batch_size': 4, 'hidden_layer_sizes': 1024},\n",
       " mean: 0.70842, std: 0.00607, params: {'batch_size': 4, 'hidden_layer_sizes': (32, 32)},\n",
       " mean: 0.72138, std: 0.00999, params: {'batch_size': 4, 'hidden_layer_sizes': (64, 64)},\n",
       " mean: 0.71490, std: 0.00087, params: {'batch_size': 4, 'hidden_layer_sizes': (128, 128)},\n",
       " mean: 0.69762, std: 0.03303, params: {'batch_size': 4, 'hidden_layer_sizes': (256, 256)},\n",
       " mean: 0.73650, std: 0.01677, params: {'batch_size': 4, 'hidden_layer_sizes': (512, 512)},\n",
       " mean: 0.73002, std: 0.00748, params: {'batch_size': 4, 'hidden_layer_sizes': (1025, 1024)},\n",
       " mean: 0.68898, std: 0.03543, params: {'batch_size': 8, 'hidden_layer_sizes': 32},\n",
       " mean: 0.71490, std: 0.00087, params: {'batch_size': 8, 'hidden_layer_sizes': 64},\n",
       " mean: 0.71274, std: 0.01132, params: {'batch_size': 8, 'hidden_layer_sizes': 128},\n",
       " mean: 0.72354, std: 0.00389, params: {'batch_size': 8, 'hidden_layer_sizes': 256},\n",
       " mean: 0.71706, std: 0.00889, params: {'batch_size': 8, 'hidden_layer_sizes': 512},\n",
       " mean: 0.70626, std: 0.01130, params: {'batch_size': 8, 'hidden_layer_sizes': 1024},\n",
       " mean: 0.70842, std: 0.00607, params: {'batch_size': 8, 'hidden_layer_sizes': (32, 32)},\n",
       " mean: 0.71490, std: 0.00087, params: {'batch_size': 8, 'hidden_layer_sizes': (64, 64)},\n",
       " mean: 0.70842, std: 0.00965, params: {'batch_size': 8, 'hidden_layer_sizes': (128, 128)},\n",
       " mean: 0.71706, std: 0.00889, params: {'batch_size': 8, 'hidden_layer_sizes': (256, 256)},\n",
       " mean: 0.71490, std: 0.00983, params: {'batch_size': 8, 'hidden_layer_sizes': (512, 512)},\n",
       " mean: 0.71274, std: 0.02664, params: {'batch_size': 8, 'hidden_layer_sizes': (1025, 1024)},\n",
       " mean: 0.65659, std: 0.05616, params: {'batch_size': 12, 'hidden_layer_sizes': 32},\n",
       " mean: 0.71490, std: 0.00087, params: {'batch_size': 12, 'hidden_layer_sizes': 64},\n",
       " mean: 0.69546, std: 0.03744, params: {'batch_size': 12, 'hidden_layer_sizes': 128},\n",
       " mean: 0.71274, std: 0.00725, params: {'batch_size': 12, 'hidden_layer_sizes': 256},\n",
       " mean: 0.71706, std: 0.00273, params: {'batch_size': 12, 'hidden_layer_sizes': 512},\n",
       " mean: 0.72570, std: 0.02082, params: {'batch_size': 12, 'hidden_layer_sizes': 1024},\n",
       " mean: 0.69546, std: 0.01462, params: {'batch_size': 12, 'hidden_layer_sizes': (32, 32)},\n",
       " mean: 0.71490, std: 0.00087, params: {'batch_size': 12, 'hidden_layer_sizes': (64, 64)},\n",
       " mean: 0.71274, std: 0.00358, params: {'batch_size': 12, 'hidden_layer_sizes': (128, 128)},\n",
       " mean: 0.69114, std: 0.02814, params: {'batch_size': 12, 'hidden_layer_sizes': (256, 256)},\n",
       " mean: 0.71490, std: 0.00605, params: {'batch_size': 12, 'hidden_layer_sizes': (512, 512)},\n",
       " mean: 0.73866, std: 0.00352, params: {'batch_size': 12, 'hidden_layer_sizes': (1025, 1024)},\n",
       " mean: 0.65443, std: 0.02400, params: {'batch_size': 24, 'hidden_layer_sizes': 32},\n",
       " mean: 0.71490, std: 0.00087, params: {'batch_size': 24, 'hidden_layer_sizes': 64},\n",
       " mean: 0.63283, std: 0.05830, params: {'batch_size': 24, 'hidden_layer_sizes': 128},\n",
       " mean: 0.71490, std: 0.01312, params: {'batch_size': 24, 'hidden_layer_sizes': 256},\n",
       " mean: 0.71490, std: 0.00087, params: {'batch_size': 24, 'hidden_layer_sizes': 512},\n",
       " mean: 0.72138, std: 0.00999, params: {'batch_size': 24, 'hidden_layer_sizes': 1024},\n",
       " mean: 0.69978, std: 0.02187, params: {'batch_size': 24, 'hidden_layer_sizes': (32, 32)},\n",
       " mean: 0.71490, std: 0.00087, params: {'batch_size': 24, 'hidden_layer_sizes': (64, 64)},\n",
       " mean: 0.71490, std: 0.00087, params: {'batch_size': 24, 'hidden_layer_sizes': (128, 128)},\n",
       " mean: 0.69762, std: 0.02346, params: {'batch_size': 24, 'hidden_layer_sizes': (256, 256)},\n",
       " mean: 0.70842, std: 0.00538, params: {'batch_size': 24, 'hidden_layer_sizes': (512, 512)},\n",
       " mean: 0.71274, std: 0.01737, params: {'batch_size': 24, 'hidden_layer_sizes': (1025, 1024)},\n",
       " mean: 0.63931, std: 0.05757, params: {'batch_size': 28, 'hidden_layer_sizes': 32},\n",
       " mean: 0.71490, std: 0.00087, params: {'batch_size': 28, 'hidden_layer_sizes': 64},\n",
       " mean: 0.62419, std: 0.07828, params: {'batch_size': 28, 'hidden_layer_sizes': 128},\n",
       " mean: 0.70842, std: 0.02213, params: {'batch_size': 28, 'hidden_layer_sizes': 256},\n",
       " mean: 0.71490, std: 0.00087, params: {'batch_size': 28, 'hidden_layer_sizes': 512},\n",
       " mean: 0.72354, std: 0.01303, params: {'batch_size': 28, 'hidden_layer_sizes': 1024},\n",
       " mean: 0.65875, std: 0.05837, params: {'batch_size': 28, 'hidden_layer_sizes': (32, 32)},\n",
       " mean: 0.71490, std: 0.00087, params: {'batch_size': 28, 'hidden_layer_sizes': (64, 64)},\n",
       " mean: 0.71490, std: 0.00087, params: {'batch_size': 28, 'hidden_layer_sizes': (128, 128)},\n",
       " mean: 0.70626, std: 0.00723, params: {'batch_size': 28, 'hidden_layer_sizes': (256, 256)},\n",
       " mean: 0.70626, std: 0.00831, params: {'batch_size': 28, 'hidden_layer_sizes': (512, 512)},\n",
       " mean: 0.71490, std: 0.01879, params: {'batch_size': 28, 'hidden_layer_sizes': (1025, 1024)},\n",
       " mean: 0.57451, std: 0.11490, params: {'batch_size': 32, 'hidden_layer_sizes': 32},\n",
       " mean: 0.71490, std: 0.00087, params: {'batch_size': 32, 'hidden_layer_sizes': 64},\n",
       " mean: 0.63283, std: 0.09872, params: {'batch_size': 32, 'hidden_layer_sizes': 128},\n",
       " mean: 0.71058, std: 0.01436, params: {'batch_size': 32, 'hidden_layer_sizes': 256},\n",
       " mean: 0.71490, std: 0.00087, params: {'batch_size': 32, 'hidden_layer_sizes': 512},\n",
       " mean: 0.72570, std: 0.01608, params: {'batch_size': 32, 'hidden_layer_sizes': 1024},\n",
       " mean: 0.66523, std: 0.06586, params: {'batch_size': 32, 'hidden_layer_sizes': (32, 32)},\n",
       " mean: 0.71490, std: 0.00087, params: {'batch_size': 32, 'hidden_layer_sizes': (64, 64)},\n",
       " mean: 0.71490, std: 0.00087, params: {'batch_size': 32, 'hidden_layer_sizes': (128, 128)},\n",
       " mean: 0.71922, std: 0.01552, params: {'batch_size': 32, 'hidden_layer_sizes': (256, 256)},\n",
       " mean: 0.70410, std: 0.01576, params: {'batch_size': 32, 'hidden_layer_sizes': (512, 512)},\n",
       " mean: 0.70410, std: 0.02957, params: {'batch_size': 32, 'hidden_layer_sizes': (1025, 1024)},\n",
       " mean: 0.38661, std: 0.04851, params: {'batch_size': 64, 'hidden_layer_sizes': 32},\n",
       " mean: 0.71490, std: 0.00087, params: {'batch_size': 64, 'hidden_layer_sizes': 64},\n",
       " mean: 0.62635, std: 0.07860, params: {'batch_size': 64, 'hidden_layer_sizes': 128},\n",
       " mean: 0.71274, std: 0.02114, params: {'batch_size': 64, 'hidden_layer_sizes': 256},\n",
       " mean: 0.71490, std: 0.00087, params: {'batch_size': 64, 'hidden_layer_sizes': 512},\n",
       " mean: 0.71490, std: 0.00087, params: {'batch_size': 64, 'hidden_layer_sizes': 1024},\n",
       " mean: 0.65011, std: 0.07382, params: {'batch_size': 64, 'hidden_layer_sizes': (32, 32)},\n",
       " mean: 0.71274, std: 0.00358, params: {'batch_size': 64, 'hidden_layer_sizes': (64, 64)},\n",
       " mean: 0.71490, std: 0.00087, params: {'batch_size': 64, 'hidden_layer_sizes': (128, 128)},\n",
       " mean: 0.71274, std: 0.00358, params: {'batch_size': 64, 'hidden_layer_sizes': (256, 256)},\n",
       " mean: 0.71490, std: 0.00087, params: {'batch_size': 64, 'hidden_layer_sizes': (512, 512)},\n",
       " mean: 0.70842, std: 0.04595, params: {'batch_size': 64, 'hidden_layer_sizes': (1025, 1024)}]"
      ]
     },
     "execution_count": 92,
     "metadata": {},
     "output_type": "execute_result"
    }
   ],
   "source": [
    "search.grid_scores_"
   ]
  },
  {
   "cell_type": "code",
   "execution_count": null,
   "metadata": {},
   "outputs": [],
   "source": [
    "model  = alg(C=1)\n",
    "model.fit(Xtrain,Ytrain)\n",
    "Ypred = model.predict(Xtest)\n",
    "acc = accuracy_score(Ypred,Ytest)"
   ]
  },
  {
   "cell_type": "code",
   "execution_count": null,
   "metadata": {},
   "outputs": [],
   "source": [
    "for i in range(1,1000,5):\n",
    "    model  = alg(C=i)\n",
    "    model.fit(Xtrain,Ytrain)\n",
    "    Ypred = model.predict(Xtest)\n",
    "    acc = accuracy_score(Ypred,Ytest)\n",
    "    if acc >= 0.90:\n",
    "        print(acc,i)"
   ]
  },
  {
   "cell_type": "code",
   "execution_count": null,
   "metadata": {},
   "outputs": [],
   "source": []
  }
 ],
 "metadata": {
  "kernelspec": {
   "display_name": "Python 3",
   "language": "python",
   "name": "python3"
  },
  "language_info": {
   "codemirror_mode": {
    "name": "ipython",
    "version": 3
   },
   "file_extension": ".py",
   "mimetype": "text/x-python",
   "name": "python",
   "nbconvert_exporter": "python",
   "pygments_lexer": "ipython3",
   "version": "3.6.7"
  },
  "toc": {
   "base_numbering": 1,
   "nav_menu": {},
   "number_sections": true,
   "sideBar": true,
   "skip_h1_title": false,
   "title_cell": "Table of Contents",
   "title_sidebar": "Contents",
   "toc_cell": false,
   "toc_position": {},
   "toc_section_display": true,
   "toc_window_display": true
  },
  "varInspector": {
   "cols": {
    "lenName": 16,
    "lenType": 16,
    "lenVar": 40
   },
   "kernels_config": {
    "python": {
     "delete_cmd_postfix": "",
     "delete_cmd_prefix": "del ",
     "library": "var_list.py",
     "varRefreshCmd": "print(var_dic_list())"
    },
    "r": {
     "delete_cmd_postfix": ") ",
     "delete_cmd_prefix": "rm(",
     "library": "var_list.r",
     "varRefreshCmd": "cat(var_dic_list()) "
    }
   },
   "types_to_exclude": [
    "module",
    "function",
    "builtin_function_or_method",
    "instance",
    "_Feature"
   ],
   "window_display": false
  }
 },
 "nbformat": 4,
 "nbformat_minor": 2
}
