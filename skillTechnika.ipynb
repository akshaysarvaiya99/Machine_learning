{
 "cells": [
  {
   "cell_type": "markdown",
   "id": "tired-president",
   "metadata": {},
   "source": [
    "### references"
   ]
  },
  {
   "cell_type": "markdown",
   "id": "upset-stake",
   "metadata": {},
   "source": [
    "1. https://www.tutorialspoint.com/python3/python_strings.htm"
   ]
  },
  {
   "cell_type": "markdown",
   "id": "frequent-elder",
   "metadata": {},
   "source": [
    "### data types"
   ]
  },
  {
   "cell_type": "code",
   "execution_count": 2,
   "id": "quarterly-assets",
   "metadata": {},
   "outputs": [],
   "source": [
    "a = 5 # int\n",
    "b = 3.14  # float\n",
    "c = 'apple'  # str\n",
    "d = True  # bool"
   ]
  },
  {
   "cell_type": "markdown",
   "id": "diverse-fleet",
   "metadata": {},
   "source": [
    "### print\n"
   ]
  },
  {
   "cell_type": "code",
   "execution_count": 6,
   "id": "drawn-pierre",
   "metadata": {},
   "outputs": [
    {
     "name": "stdout",
     "output_type": "stream",
     "text": [
      "1234\n",
      "5\n",
      "a\n",
      "Hello world!!\n"
     ]
    }
   ],
   "source": [
    "print(1234)\n",
    "print(a)\n",
    "print('a')\n",
    "print(\"Hello world!!\")"
   ]
  },
  {
   "cell_type": "markdown",
   "id": "authentic-enemy",
   "metadata": {},
   "source": [
    "### type"
   ]
  },
  {
   "cell_type": "code",
   "execution_count": 7,
   "id": "fabulous-manhattan",
   "metadata": {},
   "outputs": [
    {
     "name": "stdout",
     "output_type": "stream",
     "text": [
      "<class 'int'>\n",
      "<class 'float'>\n",
      "<class 'str'>\n",
      "<class 'bool'>\n"
     ]
    }
   ],
   "source": [
    "print(type(a))\n",
    "print(type(b))\n",
    "print(type(c))\n",
    "print(type(d))"
   ]
  },
  {
   "cell_type": "code",
   "execution_count": 8,
   "id": "pressing-soviet",
   "metadata": {},
   "outputs": [
    {
     "name": "stdout",
     "output_type": "stream",
     "text": [
      "<class 'str'>\n"
     ]
    }
   ],
   "source": [
    "print(type('3.14'))"
   ]
  },
  {
   "cell_type": "markdown",
   "id": "immediate-armstrong",
   "metadata": {},
   "source": [
    "### input function"
   ]
  },
  {
   "cell_type": "code",
   "execution_count": 9,
   "id": "joint-membrane",
   "metadata": {
    "scrolled": true
   },
   "outputs": [
    {
     "name": "stdout",
     "output_type": "stream",
     "text": [
      "Enter your name: abc\n"
     ]
    }
   ],
   "source": [
    "name = input(\"Enter your name: \")"
   ]
  },
  {
   "cell_type": "code",
   "execution_count": 11,
   "id": "polar-harrison",
   "metadata": {},
   "outputs": [
    {
     "name": "stdout",
     "output_type": "stream",
     "text": [
      "abc <class 'str'>\n"
     ]
    }
   ],
   "source": [
    "print(name, type(name))"
   ]
  },
  {
   "cell_type": "code",
   "execution_count": 12,
   "id": "applicable-experiment",
   "metadata": {},
   "outputs": [
    {
     "name": "stdout",
     "output_type": "stream",
     "text": [
      "Enter any number: 123\n"
     ]
    }
   ],
   "source": [
    "num = input(\"Enter any number: \")"
   ]
  },
  {
   "cell_type": "code",
   "execution_count": 13,
   "id": "matched-contrary",
   "metadata": {},
   "outputs": [
    {
     "name": "stdout",
     "output_type": "stream",
     "text": [
      "123 <class 'str'>\n"
     ]
    }
   ],
   "source": [
    "print(num, type(num))"
   ]
  },
  {
   "cell_type": "code",
   "execution_count": 14,
   "id": "accessory-deficit",
   "metadata": {},
   "outputs": [],
   "source": [
    "num = int(num)"
   ]
  },
  {
   "cell_type": "code",
   "execution_count": 15,
   "id": "friendly-personal",
   "metadata": {},
   "outputs": [
    {
     "name": "stdout",
     "output_type": "stream",
     "text": [
      "123 <class 'int'>\n"
     ]
    }
   ],
   "source": [
    "print(num, type(num))"
   ]
  },
  {
   "cell_type": "code",
   "execution_count": 16,
   "id": "occupied-reply",
   "metadata": {},
   "outputs": [
    {
     "name": "stdout",
     "output_type": "stream",
     "text": [
      "3.14\n"
     ]
    }
   ],
   "source": [
    "print(float('3.14'))"
   ]
  },
  {
   "cell_type": "code",
   "execution_count": 18,
   "id": "addressed-liabilities",
   "metadata": {},
   "outputs": [
    {
     "name": "stdout",
     "output_type": "stream",
     "text": [
      "3\n"
     ]
    }
   ],
   "source": [
    "print(int(float('3.14')))"
   ]
  },
  {
   "cell_type": "markdown",
   "id": "automatic-sustainability",
   "metadata": {},
   "source": [
    "### operators"
   ]
  },
  {
   "cell_type": "code",
   "execution_count": 19,
   "id": "excited-resolution",
   "metadata": {},
   "outputs": [],
   "source": [
    "# arithmetic operators\n",
    "\n",
    "+ - * / % // "
   ]
  },
  {
   "cell_type": "code",
   "execution_count": 20,
   "id": "moved-lancaster",
   "metadata": {},
   "outputs": [
    {
     "name": "stdout",
     "output_type": "stream",
     "text": [
      "8\n",
      "2\n",
      "15\n",
      "1.6666666666666667\n",
      "2\n",
      "1\n"
     ]
    }
   ],
   "source": [
    "print(5 + 3)\n",
    "print(5 - 3)\n",
    "print(5 * 3)\n",
    "print(5 / 3)\n",
    "print(5 % 3)\n",
    "print(5 // 3)"
   ]
  },
  {
   "cell_type": "code",
   "execution_count": null,
   "id": "selective-mambo",
   "metadata": {},
   "outputs": [],
   "source": [
    "# conditional operators\n",
    "> < >= <= == !="
   ]
  },
  {
   "cell_type": "code",
   "execution_count": 21,
   "id": "arranged-morrison",
   "metadata": {},
   "outputs": [
    {
     "name": "stdout",
     "output_type": "stream",
     "text": [
      "True\n",
      "False\n",
      "True\n",
      "False\n",
      "False\n",
      "True\n"
     ]
    }
   ],
   "source": [
    "print(5 > 3)\n",
    "print(5 < 3)\n",
    "print(5 >= 3)\n",
    "print(5 <= 3)\n",
    "print(5 == 3)\n",
    "print(5 != 3)"
   ]
  },
  {
   "cell_type": "code",
   "execution_count": null,
   "id": "overall-reduction",
   "metadata": {},
   "outputs": [],
   "source": [
    "# logical operators\n",
    "\n",
    "and or not"
   ]
  },
  {
   "cell_type": "code",
   "execution_count": 23,
   "id": "planned-dispute",
   "metadata": {},
   "outputs": [
    {
     "name": "stdout",
     "output_type": "stream",
     "text": [
      "True\n",
      "False\n"
     ]
    }
   ],
   "source": [
    "print(5 < 13 and 5 > 3)\n",
    "print(5 < 13 and 5 < 3)\n"
   ]
  },
  {
   "cell_type": "code",
   "execution_count": 24,
   "id": "grateful-guess",
   "metadata": {},
   "outputs": [
    {
     "name": "stdout",
     "output_type": "stream",
     "text": [
      "True\n",
      "True\n"
     ]
    }
   ],
   "source": [
    "print(5 < 13 or 5 > 3)\n",
    "print(5 < 13 or 5 < 3)\n"
   ]
  },
  {
   "cell_type": "code",
   "execution_count": 25,
   "id": "continent-dubai",
   "metadata": {},
   "outputs": [],
   "source": [
    "a = None"
   ]
  },
  {
   "cell_type": "code",
   "execution_count": 26,
   "id": "double-lender",
   "metadata": {},
   "outputs": [
    {
     "name": "stdout",
     "output_type": "stream",
     "text": [
      "True\n"
     ]
    }
   ],
   "source": [
    "print(not a)"
   ]
  },
  {
   "cell_type": "code",
   "execution_count": 27,
   "id": "british-bathroom",
   "metadata": {},
   "outputs": [],
   "source": [
    "a = 5"
   ]
  },
  {
   "cell_type": "code",
   "execution_count": 28,
   "id": "duplicate-coordinate",
   "metadata": {},
   "outputs": [
    {
     "name": "stdout",
     "output_type": "stream",
     "text": [
      "False\n"
     ]
    }
   ],
   "source": [
    "print(not a)"
   ]
  },
  {
   "cell_type": "markdown",
   "id": "orange-speech",
   "metadata": {},
   "source": [
    "### if - else"
   ]
  },
  {
   "cell_type": "code",
   "execution_count": 35,
   "id": "renewable-expense",
   "metadata": {},
   "outputs": [
    {
     "name": "stdout",
     "output_type": "stream",
     "text": [
      "Enter any number: h\n"
     ]
    },
    {
     "ename": "ValueError",
     "evalue": "could not convert string to float: 'h'",
     "output_type": "error",
     "traceback": [
      "\u001b[0;31m---------------------------------------------------------------------------\u001b[0m",
      "\u001b[0;31mValueError\u001b[0m                                Traceback (most recent call last)",
      "\u001b[0;32m<ipython-input-35-a5e2d7d01d6c>\u001b[0m in \u001b[0;36m<module>\u001b[0;34m\u001b[0m\n\u001b[0;32m----> 1\u001b[0;31m \u001b[0mnum\u001b[0m \u001b[0;34m=\u001b[0m \u001b[0mfloat\u001b[0m\u001b[0;34m(\u001b[0m\u001b[0minput\u001b[0m\u001b[0;34m(\u001b[0m\u001b[0;34m\"Enter any number: \"\u001b[0m\u001b[0;34m)\u001b[0m\u001b[0;34m)\u001b[0m\u001b[0;34m\u001b[0m\u001b[0;34m\u001b[0m\u001b[0m\n\u001b[0m\u001b[1;32m      2\u001b[0m \u001b[0;34m\u001b[0m\u001b[0m\n\u001b[1;32m      3\u001b[0m \u001b[0;32mif\u001b[0m \u001b[0mnum\u001b[0m \u001b[0;34m%\u001b[0m \u001b[0;36m2\u001b[0m \u001b[0;34m==\u001b[0m \u001b[0;36m0\u001b[0m\u001b[0;34m:\u001b[0m\u001b[0;34m\u001b[0m\u001b[0;34m\u001b[0m\u001b[0m\n\u001b[1;32m      4\u001b[0m     \u001b[0mprint\u001b[0m\u001b[0;34m(\u001b[0m\u001b[0;34m\"Number is even\"\u001b[0m\u001b[0;34m)\u001b[0m\u001b[0;34m\u001b[0m\u001b[0;34m\u001b[0m\u001b[0m\n\u001b[1;32m      5\u001b[0m \u001b[0;32melse\u001b[0m\u001b[0;34m:\u001b[0m\u001b[0;34m\u001b[0m\u001b[0;34m\u001b[0m\u001b[0m\n",
      "\u001b[0;31mValueError\u001b[0m: could not convert string to float: 'h'"
     ]
    }
   ],
   "source": [
    "num = float(input(\"Enter any number: \"))\n",
    "\n",
    "if num % 2 == 0:\n",
    "    print(\"Number is even\")\n",
    "else:\n",
    "    print(\"Number is odd\")"
   ]
  },
  {
   "cell_type": "code",
   "execution_count": 38,
   "id": "necessary-embassy",
   "metadata": {},
   "outputs": [
    {
     "name": "stdout",
     "output_type": "stream",
     "text": [
      "Enter any number: 5\n",
      "Number is odd\n"
     ]
    }
   ],
   "source": [
    "num = float(input(\"Enter any number: \"))\n",
    "\n",
    "if num % 4 == 0:\n",
    "    print(\"number is divisible by 4 and also even\")\n",
    "elif num % 2 == 0:\n",
    "    print(\"Number is even\")\n",
    "else:\n",
    "    print(\"Number is odd\")"
   ]
  },
  {
   "cell_type": "markdown",
   "id": "compatible-combining",
   "metadata": {},
   "source": [
    "### while loop"
   ]
  },
  {
   "cell_type": "code",
   "execution_count": 39,
   "id": "public-nursery",
   "metadata": {},
   "outputs": [
    {
     "name": "stdout",
     "output_type": "stream",
     "text": [
      "Enter any number: 20\n",
      "number is divisible by 4 and also even\n",
      "Enter any number: 15\n",
      "Number is odd\n",
      "Enter any number: 14\n",
      "Number is even\n",
      "Enter any number: 6\n",
      "Number is even\n",
      "Enter any number: 8\n",
      "number is divisible by 4 and also even\n",
      "It's done\n"
     ]
    }
   ],
   "source": [
    "i = 1 \n",
    "while i <= 5:\n",
    "    num = float(input(\"Enter any number: \"))\n",
    "\n",
    "    if num % 4 == 0:\n",
    "        print(\"number is divisible by 4 and also even\")\n",
    "    elif num % 2 == 0:\n",
    "        print(\"Number is even\")\n",
    "    else:\n",
    "        print(\"Number is odd\")\n",
    "        \n",
    "    i += 1 # i = i+1\n",
    "print(\"It's done\")"
   ]
  },
  {
   "cell_type": "code",
   "execution_count": 40,
   "id": "beginning-league",
   "metadata": {},
   "outputs": [
    {
     "name": "stdout",
     "output_type": "stream",
     "text": [
      "Enter any number: 12\n",
      "number is divisible by 4 and also even\n",
      "Enter any number: 13\n",
      "Number is odd\n",
      "Enter any number: 34\n",
      "Number is even\n",
      "Enter any number: 34\n",
      "Number is even\n",
      "Enter any number: 12\n",
      "number is divisible by 4 and also even\n",
      "It's done\n"
     ]
    }
   ],
   "source": [
    "i = 1 \n",
    "while i <= 5:\n",
    "    num = float(input(\"Enter any number: \"))\n",
    "\n",
    "    if num % 4 == 0:\n",
    "        print(\"number is divisible by 4 and also even\")\n",
    "    elif num % 2 == 0:\n",
    "        print(\"Number is even\")\n",
    "    else:\n",
    "        print(\"Number is odd\")\n",
    "        \n",
    "    i += 1 # i = i+1\n",
    "else:\n",
    "    print(\"It's done\")"
   ]
  },
  {
   "cell_type": "code",
   "execution_count": 41,
   "id": "sealed-brunswick",
   "metadata": {},
   "outputs": [
    {
     "name": "stdout",
     "output_type": "stream",
     "text": [
      "Enter any number: 16\n",
      "number is divisible by 4 and also even\n",
      "Do you want to continue? y/n: y\n",
      "Enter any number: 98\n",
      "Number is even\n",
      "Do you want to continue? y/n: n\n"
     ]
    }
   ],
   "source": [
    "opt = 'y'\n",
    "while opt == 'y':\n",
    "    num = float(input(\"Enter any number: \"))\n",
    "\n",
    "    if num % 4 == 0:\n",
    "        print(\"number is divisible by 4 and also even\")\n",
    "    elif num % 2 == 0:\n",
    "        print(\"Number is even\")\n",
    "    else:\n",
    "        print(\"Number is odd\")\n",
    "        \n",
    "    opt = input(\"Do you want to continue? y/n: \")"
   ]
  },
  {
   "cell_type": "code",
   "execution_count": 42,
   "id": "derived-generic",
   "metadata": {},
   "outputs": [
    {
     "name": "stdout",
     "output_type": "stream",
     "text": [
      "Enter any number: 12\n",
      "number is divisible by 4 and also even\n",
      "Enter any number: 13\n",
      "Number is odd\n",
      "Enter any number: 45\n",
      "Number is odd\n",
      "Enter any number: 36\n",
      "number is divisible by 4 and also even\n",
      "Enter any number: 556\n",
      "number is divisible by 4 and also even\n",
      "Enter any number: 312\n",
      "number is divisible by 4 and also even\n",
      "Enter any number: h\n"
     ]
    },
    {
     "ename": "ValueError",
     "evalue": "could not convert string to float: 'h'",
     "output_type": "error",
     "traceback": [
      "\u001b[0;31m---------------------------------------------------------------------------\u001b[0m",
      "\u001b[0;31mValueError\u001b[0m                                Traceback (most recent call last)",
      "\u001b[0;32m<ipython-input-42-8e12f6035c71>\u001b[0m in \u001b[0;36m<module>\u001b[0;34m\u001b[0m\n\u001b[1;32m      1\u001b[0m \u001b[0;32mwhile\u001b[0m \u001b[0;32mTrue\u001b[0m\u001b[0;34m:\u001b[0m\u001b[0;34m\u001b[0m\u001b[0;34m\u001b[0m\u001b[0m\n\u001b[0;32m----> 2\u001b[0;31m     \u001b[0mnum\u001b[0m \u001b[0;34m=\u001b[0m \u001b[0mfloat\u001b[0m\u001b[0;34m(\u001b[0m\u001b[0minput\u001b[0m\u001b[0;34m(\u001b[0m\u001b[0;34m\"Enter any number: \"\u001b[0m\u001b[0;34m)\u001b[0m\u001b[0;34m)\u001b[0m\u001b[0;34m\u001b[0m\u001b[0;34m\u001b[0m\u001b[0m\n\u001b[0m\u001b[1;32m      3\u001b[0m \u001b[0;34m\u001b[0m\u001b[0m\n\u001b[1;32m      4\u001b[0m     \u001b[0;32mif\u001b[0m \u001b[0mnum\u001b[0m \u001b[0;34m%\u001b[0m \u001b[0;36m4\u001b[0m \u001b[0;34m==\u001b[0m \u001b[0;36m0\u001b[0m\u001b[0;34m:\u001b[0m\u001b[0;34m\u001b[0m\u001b[0;34m\u001b[0m\u001b[0m\n\u001b[1;32m      5\u001b[0m         \u001b[0mprint\u001b[0m\u001b[0;34m(\u001b[0m\u001b[0;34m\"number is divisible by 4 and also even\"\u001b[0m\u001b[0;34m)\u001b[0m\u001b[0;34m\u001b[0m\u001b[0;34m\u001b[0m\u001b[0m\n",
      "\u001b[0;31mValueError\u001b[0m: could not convert string to float: 'h'"
     ]
    }
   ],
   "source": [
    "while True:\n",
    "    num = float(input(\"Enter any number: \"))\n",
    "\n",
    "    if num % 4 == 0:\n",
    "        print(\"number is divisible by 4 and also even\")\n",
    "    elif num % 2 == 0:\n",
    "        print(\"Number is even\")\n",
    "    else:\n",
    "        print(\"Number is odd\")\n"
   ]
  },
  {
   "cell_type": "code",
   "execution_count": 44,
   "id": "rolled-paragraph",
   "metadata": {},
   "outputs": [
    {
     "name": "stdout",
     "output_type": "stream",
     "text": [
      "Enter any number: 23\n",
      "Number is odd\n",
      "Enter any number: 16\n",
      "number is divisible by 4 and also even\n",
      "Enter any number: 17\n",
      "Number is odd\n",
      "Enter any number: 25\n",
      "Skipping......\n",
      "Enter any number: 34\n",
      "Number is even\n",
      "Enter any number: 15\n",
      "Stopping.....\n"
     ]
    }
   ],
   "source": [
    "while True:\n",
    "    num = float(input(\"Enter any number: \"))\n",
    "    \n",
    "    if num == 15:\n",
    "        print(\"Stopping.....\")\n",
    "        break\n",
    "    elif num == 25:\n",
    "        print(\"Skipping......\")\n",
    "        continue\n",
    "\n",
    "    if num % 4 == 0:\n",
    "        print(\"number is divisible by 4 and also even\")\n",
    "    elif num % 2 == 0:\n",
    "        print(\"Number is even\")\n",
    "    else:\n",
    "        print(\"Number is odd\")\n"
   ]
  },
  {
   "cell_type": "code",
   "execution_count": 49,
   "id": "advised-lender",
   "metadata": {},
   "outputs": [
    {
     "name": "stdout",
     "output_type": "stream",
     "text": [
      "The program can calculate the area and perimeter of the following objects. Please select one \n",
      "1. circle\n",
      "2. rectangle\n",
      "3. square\n",
      "Entere your choice: square\n",
      "Enter square of the circle: 2\n",
      "Area of the square is 4.0\n"
     ]
    }
   ],
   "source": [
    "print(\"The program can calculate the area and perimeter of the following objects. Please select one \\n1. circle\\n2. rectangle\\n3. square\")\n",
    "choice = input(\"Entere your choice: \")\n",
    "if choice == '1' or choice == 'circle':\n",
    "    radius = float(input(\"Enter radius of the circle: \"))\n",
    "    area = 3.14 * radius * radius\n",
    "    print(\"Area of the circle is\",area)\n",
    "elif choice == '2' or choice == 'rectangle':\n",
    "    l = float(input(\"Enter length of the rectangle: \"))\n",
    "    b = float(input(\"Enter breadth of the rectangle: \"))\n",
    "    area = l * b\n",
    "    print(\"Area of the rectangle is\",area)\n",
    "elif choice == '3' or choice == 'square':\n",
    "    side = float(input(\"Enter side of the square: \"))\n",
    "    area = side * side\n",
    "    print(\"Area of the square is\",area)\n",
    "else:\n",
    "    print(\"invalid option!!!\")\n"
   ]
  },
  {
   "cell_type": "markdown",
   "id": "close-worst",
   "metadata": {},
   "source": [
    "### HW-1"
   ]
  },
  {
   "cell_type": "markdown",
   "id": "limiting-leone",
   "metadata": {},
   "source": [
    "write a python program for rock_paper_scissor game. Use the following rules\n",
    "\n",
    "    rock beats scissor\n",
    "    scissor beats paper\n",
    "    paper beats rock"
   ]
  },
  {
   "cell_type": "markdown",
   "id": "upset-drinking",
   "metadata": {},
   "source": [
    "### string operations"
   ]
  },
  {
   "cell_type": "code",
   "execution_count": 50,
   "id": "macro-trace",
   "metadata": {},
   "outputs": [],
   "source": [
    "name = \"elephant\"\n",
    "sent = \"elephant is an animal\""
   ]
  },
  {
   "cell_type": "code",
   "execution_count": 51,
   "id": "neural-cause",
   "metadata": {},
   "outputs": [
    {
     "data": {
      "text/plain": [
       "'e'"
      ]
     },
     "execution_count": 51,
     "metadata": {},
     "output_type": "execute_result"
    }
   ],
   "source": [
    "name[0]"
   ]
  },
  {
   "cell_type": "code",
   "execution_count": 53,
   "id": "combined-symbol",
   "metadata": {},
   "outputs": [
    {
     "data": {
      "text/plain": [
       "('p', 'p')"
      ]
     },
     "execution_count": 53,
     "metadata": {},
     "output_type": "execute_result"
    }
   ],
   "source": [
    "name[3], name[-5]"
   ]
  },
  {
   "cell_type": "code",
   "execution_count": 54,
   "id": "american-sewing",
   "metadata": {},
   "outputs": [
    {
     "data": {
      "text/plain": [
       "'ephant'"
      ]
     },
     "execution_count": 54,
     "metadata": {},
     "output_type": "execute_result"
    }
   ],
   "source": [
    "name[2:]"
   ]
  },
  {
   "cell_type": "code",
   "execution_count": 55,
   "id": "sharing-contributor",
   "metadata": {},
   "outputs": [
    {
     "data": {
      "text/plain": [
       "'elepha'"
      ]
     },
     "execution_count": 55,
     "metadata": {},
     "output_type": "execute_result"
    }
   ],
   "source": [
    "name[:6]"
   ]
  },
  {
   "cell_type": "code",
   "execution_count": 56,
   "id": "atmospheric-radius",
   "metadata": {},
   "outputs": [
    {
     "data": {
      "text/plain": [
       "'epha'"
      ]
     },
     "execution_count": 56,
     "metadata": {},
     "output_type": "execute_result"
    }
   ],
   "source": [
    "name[2:6]"
   ]
  },
  {
   "cell_type": "code",
   "execution_count": 58,
   "id": "every-revision",
   "metadata": {},
   "outputs": [],
   "source": [
    "temp = name[::-1]"
   ]
  },
  {
   "cell_type": "code",
   "execution_count": 59,
   "id": "novel-alpha",
   "metadata": {},
   "outputs": [
    {
     "name": "stdout",
     "output_type": "stream",
     "text": [
      "tnahpele\n"
     ]
    }
   ],
   "source": [
    "print(temp)"
   ]
  },
  {
   "cell_type": "code",
   "execution_count": 60,
   "id": "interstate-timber",
   "metadata": {},
   "outputs": [
    {
     "data": {
      "text/plain": [
       "'ELEPHANT'"
      ]
     },
     "execution_count": 60,
     "metadata": {},
     "output_type": "execute_result"
    }
   ],
   "source": [
    "name.upper()"
   ]
  },
  {
   "cell_type": "code",
   "execution_count": 61,
   "id": "metric-burke",
   "metadata": {},
   "outputs": [
    {
     "data": {
      "text/plain": [
       "'elephant'"
      ]
     },
     "execution_count": 61,
     "metadata": {},
     "output_type": "execute_result"
    }
   ],
   "source": [
    "name.lower()"
   ]
  },
  {
   "cell_type": "code",
   "execution_count": 62,
   "id": "tested-picture",
   "metadata": {},
   "outputs": [
    {
     "data": {
      "text/plain": [
       "'naME'"
      ]
     },
     "execution_count": 62,
     "metadata": {},
     "output_type": "execute_result"
    }
   ],
   "source": [
    "\"NAme\".swapcase()"
   ]
  },
  {
   "cell_type": "code",
   "execution_count": 63,
   "id": "simplified-candidate",
   "metadata": {},
   "outputs": [
    {
     "data": {
      "text/plain": [
       "'Elephant'"
      ]
     },
     "execution_count": 63,
     "metadata": {},
     "output_type": "execute_result"
    }
   ],
   "source": [
    "name.capitalize()"
   ]
  },
  {
   "cell_type": "code",
   "execution_count": 64,
   "id": "timely-nation",
   "metadata": {},
   "outputs": [
    {
     "data": {
      "text/plain": [
       "'Elephant is an animal'"
      ]
     },
     "execution_count": 64,
     "metadata": {},
     "output_type": "execute_result"
    }
   ],
   "source": [
    "sent.capitalize()"
   ]
  },
  {
   "cell_type": "code",
   "execution_count": 65,
   "id": "excess-motor",
   "metadata": {},
   "outputs": [
    {
     "data": {
      "text/plain": [
       "'Elephant Is An Animal'"
      ]
     },
     "execution_count": 65,
     "metadata": {},
     "output_type": "execute_result"
    }
   ],
   "source": [
    "sent.title()"
   ]
  },
  {
   "cell_type": "code",
   "execution_count": 66,
   "id": "cutting-gothic",
   "metadata": {},
   "outputs": [
    {
     "data": {
      "text/plain": [
       "8"
      ]
     },
     "execution_count": 66,
     "metadata": {},
     "output_type": "execute_result"
    }
   ],
   "source": [
    "len(name)"
   ]
  },
  {
   "cell_type": "code",
   "execution_count": 68,
   "id": "provincial-breathing",
   "metadata": {},
   "outputs": [
    {
     "data": {
      "text/plain": [
       "'~~~~~~elephant~~~~~~'"
      ]
     },
     "execution_count": 68,
     "metadata": {},
     "output_type": "execute_result"
    }
   ],
   "source": [
    "name.center(20, \"~\")"
   ]
  },
  {
   "cell_type": "code",
   "execution_count": 69,
   "id": "native-convention",
   "metadata": {},
   "outputs": [
    {
     "data": {
      "text/plain": [
       "'      elephant      '"
      ]
     },
     "execution_count": 69,
     "metadata": {},
     "output_type": "execute_result"
    }
   ],
   "source": [
    "name.center(20)"
   ]
  },
  {
   "cell_type": "code",
   "execution_count": 70,
   "id": "three-archive",
   "metadata": {},
   "outputs": [
    {
     "data": {
      "text/plain": [
       "'000012'"
      ]
     },
     "execution_count": 70,
     "metadata": {},
     "output_type": "execute_result"
    }
   ],
   "source": [
    "\"12\".zfill(6)"
   ]
  },
  {
   "cell_type": "code",
   "execution_count": 73,
   "id": "resident-performer",
   "metadata": {},
   "outputs": [
    {
     "data": {
      "text/plain": [
       "'elephant'"
      ]
     },
     "execution_count": 73,
     "metadata": {},
     "output_type": "execute_result"
    }
   ],
   "source": [
    "'      elephant      '.lstrip()\n",
    "'      elephant      '.rstrip()\n",
    "'      elephant      '.strip()"
   ]
  },
  {
   "cell_type": "code",
   "execution_count": 74,
   "id": "temporal-hamburg",
   "metadata": {},
   "outputs": [
    {
     "data": {
      "text/plain": [
       "'phant'"
      ]
     },
     "execution_count": 74,
     "metadata": {},
     "output_type": "execute_result"
    }
   ],
   "source": [
    "'elephantel'.strip('el')"
   ]
  },
  {
   "cell_type": "code",
   "execution_count": 75,
   "id": "equal-decimal",
   "metadata": {},
   "outputs": [
    {
     "data": {
      "text/plain": [
       "2"
      ]
     },
     "execution_count": 75,
     "metadata": {},
     "output_type": "execute_result"
    }
   ],
   "source": [
    "name.count(\"e\")"
   ]
  },
  {
   "cell_type": "code",
   "execution_count": 76,
   "id": "double-smart",
   "metadata": {},
   "outputs": [
    {
     "data": {
      "text/plain": [
       "3"
      ]
     },
     "execution_count": 76,
     "metadata": {},
     "output_type": "execute_result"
    }
   ],
   "source": [
    "sent.count(\"an\")"
   ]
  },
  {
   "cell_type": "code",
   "execution_count": 77,
   "id": "interim-latex",
   "metadata": {},
   "outputs": [
    {
     "data": {
      "text/plain": [
       "3"
      ]
     },
     "execution_count": 77,
     "metadata": {},
     "output_type": "execute_result"
    }
   ],
   "source": [
    "sent.index('p')"
   ]
  },
  {
   "cell_type": "code",
   "execution_count": 78,
   "id": "removable-debut",
   "metadata": {},
   "outputs": [
    {
     "data": {
      "text/plain": [
       "3"
      ]
     },
     "execution_count": 78,
     "metadata": {},
     "output_type": "execute_result"
    }
   ],
   "source": [
    "sent.find('p')"
   ]
  },
  {
   "cell_type": "code",
   "execution_count": 80,
   "id": "handy-amber",
   "metadata": {},
   "outputs": [
    {
     "ename": "ValueError",
     "evalue": "substring not found",
     "output_type": "error",
     "traceback": [
      "\u001b[0;31m---------------------------------------------------------------------------\u001b[0m",
      "\u001b[0;31mValueError\u001b[0m                                Traceback (most recent call last)",
      "\u001b[0;32m<ipython-input-80-2f291c2687d2>\u001b[0m in \u001b[0;36m<module>\u001b[0;34m\u001b[0m\n\u001b[0;32m----> 1\u001b[0;31m \u001b[0mname\u001b[0m\u001b[0;34m.\u001b[0m\u001b[0mindex\u001b[0m\u001b[0;34m(\u001b[0m\u001b[0;34m'x'\u001b[0m\u001b[0;34m)\u001b[0m\u001b[0;34m\u001b[0m\u001b[0;34m\u001b[0m\u001b[0m\n\u001b[0m",
      "\u001b[0;31mValueError\u001b[0m: substring not found"
     ]
    }
   ],
   "source": [
    "name.index('x')"
   ]
  },
  {
   "cell_type": "code",
   "execution_count": 81,
   "id": "architectural-horizontal",
   "metadata": {},
   "outputs": [
    {
     "data": {
      "text/plain": [
       "-1"
      ]
     },
     "execution_count": 81,
     "metadata": {},
     "output_type": "execute_result"
    }
   ],
   "source": [
    "name.find('x')"
   ]
  },
  {
   "cell_type": "code",
   "execution_count": 82,
   "id": "blind-attack",
   "metadata": {},
   "outputs": [
    {
     "data": {
      "text/plain": [
       "21"
      ]
     },
     "execution_count": 82,
     "metadata": {},
     "output_type": "execute_result"
    }
   ],
   "source": [
    "len(sent)"
   ]
  },
  {
   "cell_type": "code",
   "execution_count": 84,
   "id": "informational-voltage",
   "metadata": {},
   "outputs": [
    {
     "data": {
      "text/plain": [
       "'eleyhant'"
      ]
     },
     "execution_count": 84,
     "metadata": {},
     "output_type": "execute_result"
    }
   ],
   "source": [
    "name.replace('p',\"y\")"
   ]
  },
  {
   "cell_type": "code",
   "execution_count": 89,
   "id": "impossible-rebel",
   "metadata": {},
   "outputs": [
    {
     "data": {
      "text/plain": [
       "False"
      ]
     },
     "execution_count": 89,
     "metadata": {},
     "output_type": "execute_result"
    }
   ],
   "source": [
    "name.isupper()"
   ]
  },
  {
   "cell_type": "code",
   "execution_count": 94,
   "id": "actual-detective",
   "metadata": {},
   "outputs": [
    {
     "name": "stdout",
     "output_type": "stream",
     "text": [
      "Enter any number: h12\n"
     ]
    }
   ],
   "source": [
    "num = input(\"Enter any number: \")"
   ]
  },
  {
   "cell_type": "code",
   "execution_count": 96,
   "id": "designing-adelaide",
   "metadata": {},
   "outputs": [],
   "source": [
    "if num.isdigit():\n",
    "    num = float(num)\n",
    "    print('yes')"
   ]
  },
  {
   "cell_type": "code",
   "execution_count": null,
   "id": "seeing-pollution",
   "metadata": {},
   "outputs": [],
   "source": []
  }
 ],
 "metadata": {
  "kernelspec": {
   "display_name": "Python 3",
   "language": "python",
   "name": "python3"
  },
  "language_info": {
   "codemirror_mode": {
    "name": "ipython",
    "version": 3
   },
   "file_extension": ".py",
   "mimetype": "text/x-python",
   "name": "python",
   "nbconvert_exporter": "python",
   "pygments_lexer": "ipython3",
   "version": "3.6.8"
  },
  "nbTranslate": {
   "displayLangs": [
    "*"
   ],
   "hotkey": "alt-t",
   "langInMainMenu": true,
   "sourceLang": "en",
   "targetLang": "fr",
   "useGoogleTranslate": true
  },
  "toc": {
   "base_numbering": 1,
   "nav_menu": {},
   "number_sections": true,
   "sideBar": true,
   "skip_h1_title": false,
   "title_cell": "Table of Contents",
   "title_sidebar": "Contents",
   "toc_cell": false,
   "toc_position": {},
   "toc_section_display": true,
   "toc_window_display": false
  },
  "varInspector": {
   "cols": {
    "lenName": 16,
    "lenType": 16,
    "lenVar": 40
   },
   "kernels_config": {
    "python": {
     "delete_cmd_postfix": "",
     "delete_cmd_prefix": "del ",
     "library": "var_list.py",
     "varRefreshCmd": "print(var_dic_list())"
    },
    "r": {
     "delete_cmd_postfix": ") ",
     "delete_cmd_prefix": "rm(",
     "library": "var_list.r",
     "varRefreshCmd": "cat(var_dic_list()) "
    }
   },
   "types_to_exclude": [
    "module",
    "function",
    "builtin_function_or_method",
    "instance",
    "_Feature"
   ],
   "window_display": false
  }
 },
 "nbformat": 4,
 "nbformat_minor": 5
}
