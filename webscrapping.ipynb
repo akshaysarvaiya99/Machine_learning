{
 "cells": [
  {
   "cell_type": "code",
   "execution_count": 12,
   "metadata": {
    "scrolled": true
   },
   "outputs": [],
   "source": [
    "import urllib.request\n",
    "import re\n",
    "\n",
    "\n",
    "# wiki = \"https://serenedental.com/\"\n",
    "wiki = \"https://www.songoralsurgery.com/\"\n",
    "# wiki = \"https://riverstdental.com/\"\n",
    "# wiki = \"http://mykidszonedental.com/\"\n",
    "# wiki = \"http://growingsmiledental.com/\"\n",
    "# wiki = \"https://foreverdentalcare.com/\"\n",
    "# wiki = \"http://www.advanceddentistryofwall.com/\"\n",
    "\n",
    "with urllib.request.urlopen(wiki) as url:\n",
    "    page = url.read()\n",
    "# page = urllib.request.urlopen(wiki) \n",
    "from bs4 import BeautifulSoup\n",
    "soup = BeautifulSoup(page,'lxml')"
   ]
  },
  {
   "cell_type": "code",
   "execution_count": 10,
   "metadata": {
    "scrolled": true
   },
   "outputs": [
    {
     "name": "stdout",
     "output_type": "stream",
     "text": [
      "River Street Family Dental | Dentist in Mattapan Massachusetts\n"
     ]
    }
   ],
   "source": [
    "print(soup.title.string.strip())"
   ]
  },
  {
   "cell_type": "markdown",
   "metadata": {},
   "source": [
    "# links"
   ]
  },
  {
   "cell_type": "code",
   "execution_count": 8,
   "metadata": {},
   "outputs": [],
   "source": [
    "def appointment(link,url):\n",
    "    appt = \"appointment\"\n",
    "    if link and appt in link and not link.endswith(('.jpg','.jpeg','.png')):\n",
    "        if link.startswith(('./',\"../\",\"/\",'..')):\n",
    "            return url+link.lstrip('./').lstrip('../').lstrip('/').lstrip('..')"
   ]
  },
  {
   "cell_type": "code",
   "execution_count": 3,
   "metadata": {},
   "outputs": [],
   "source": [
    "def patientForm(link,url):\n",
    "    forms = ['patient-forms','appointment','forms']\n",
    "    for form in forms:\n",
    "        if link and form in link and not link.endswith(('.jpg','.jpeg','.png')):\n",
    "            if link.startswith(('./',\"../\",\"/\",'..')):\n",
    "                return url+link.lstrip('./').lstrip('../').lstrip('/').lstrip('..')"
   ]
  },
  {
   "cell_type": "code",
   "execution_count": 189,
   "metadata": {},
   "outputs": [],
   "source": [
    "def patientForm(link):\n",
    "    forms = ['patient-forms','form','forms'']\n",
    "    for form in forms:\n",
    "        if link and form in link and not link.endswith(('.jpg','.jpeg','.png')):\n",
    "            with urllib.request.urlopen(link) as url:\n",
    "                page = url.read()\n",
    "            soup = BeautifulSoup(page,\"lxml\")\n",
    "            for script in soup([\"script\", \"style\"]):\n",
    "                script.extract() \n",
    "\n",
    "            text = soup.get_text()\n",
    "\n",
    "            lines = (line.strip() for line in text.splitlines())\n",
    "            chunks = (phrase.strip() for line in lines for phrase in line.split(\"  \"))\n",
    "            text = '\\n'.join(chunk for chunk in chunks if chunk)\n",
    "            return [cont for cont in text.split('\\n') if len(cont.split()) > 5 ]"
   ]
  },
  {
   "cell_type": "code",
   "execution_count": 17,
   "metadata": {},
   "outputs": [],
   "source": [
    "\n",
    "import urllib,re\n",
    "import urllib.request\n",
    "\n",
    "\n",
    "# wiki = \"https://serenedental.com/\"\n",
    "# wiki = \"https://www.songoralsurgery.com/\"\n",
    "wiki = \"https://riverstdental.com/\"\n",
    "# wiki = \"http://mykidszonedental.com/\"\n",
    "# wiki = \"http://growingsmiledental.com/\"\n",
    "# wiki = \"https://foreverdentalcare.com/\"\n",
    "# wiki = \"http://www.advanceddentistryofwall.com/\"\n",
    "\n",
    "with urllib.request.urlopen(wiki) as url:\n",
    "    page = url.read()\n",
    "# page = urllib.request.urlopen(wiki) \n",
    "from bs4 import BeautifulSoup\n",
    "soup = BeautifulSoup(page,'lxml')\n",
    "\n",
    "def description(link):\n",
    "    about = ['aboutus','about','about us','about-us']\n",
    "    for abt in about:\n",
    "        if link and abt in link and not link.endswith(('.jpg','.jpeg','.png')):\n",
    "            with urllib.request.urlopen(link) as url:\n",
    "                page = url.read()\n",
    "            \n",
    "            soup = BeautifulSoup(page,\"lxml\")\n",
    "            for script in soup([\"script\", \"style\"]):\n",
    "                script.extract() \n",
    "\n",
    "            lines = (line.strip() for line in soup.get_text().splitlines())\n",
    "            chunks = (phrase.strip() for line in lines for phrase in line.split(\"  \"))\n",
    "            text = '\\n'.join(chunk for chunk in chunks if chunk)\n",
    "            return [cont for cont in text.split('\\n') if len(cont.split()) > 5 ]\n",
    "\n",
    "\n",
    "description = ' '.join(list(filter(None,map(description,[link.get('href') for link in soup.findAll('a')])))[0][1:4])"
   ]
  },
  {
   "cell_type": "code",
   "execution_count": 18,
   "metadata": {},
   "outputs": [
    {
     "data": {
      "text/plain": [
       "'A key component of our goals is to help every patient to feel comfortable and right at home when receiving services from us. We work closely with each patient to ensure he or she knows what all options are. Every patient understands the procedures, the benefits they offer, and the opportunities they can provide. Our team of dentists wants to help every patient have a healthy, beautiful smile. We’re the Best in Modern Dentistry We’ve provided the community with professional service since 1978. With over 40 years of experience, we’ve learned what complete customer satisfaction means.'"
      ]
     },
     "execution_count": 18,
     "metadata": {},
     "output_type": "execute_result"
    }
   ],
   "source": [
    "description"
   ]
  },
  {
   "cell_type": "code",
   "execution_count": 277,
   "metadata": {},
   "outputs": [],
   "source": [
    "def add(x, y):\n",
    "    return x + y"
   ]
  },
  {
   "cell_type": "code",
   "execution_count": 7,
   "metadata": {},
   "outputs": [],
   "source": [
    "from itertools import repeat"
   ]
  },
  {
   "cell_type": "code",
   "execution_count": 13,
   "metadata": {},
   "outputs": [],
   "source": [
    "def completeLink(link, url):\n",
    "    if link and link.startswith(('./',\"../\",\"/\",'..','/')):\n",
    "        return url+link.lstrip('./').lstrip('../').lstrip('/').lstrip('..')\n",
    "    elif link and link.startswith(('http','https','www')):\n",
    "        return link"
   ]
  },
  {
   "cell_type": "code",
   "execution_count": 10,
   "metadata": {},
   "outputs": [
    {
     "data": {
      "text/plain": [
       "['http://www.advanceddentistryofwall.com/appointment-request/']"
      ]
     },
     "execution_count": 10,
     "metadata": {},
     "output_type": "execute_result"
    }
   ],
   "source": [
    "list(set(list(filter(None,map(appointment,[link.get('href') for link in soup.findAll('a')],repeat(wiki))))))"
   ]
  },
  {
   "cell_type": "code",
   "execution_count": 15,
   "metadata": {},
   "outputs": [
    {
     "data": {
      "text/plain": [
       "['http://www.linkedin.com/shareArticle?mini=true&url=https://riverstdental.com/&title=Home',\n",
       " 'https://riverstdental.com/insurance_logos/cigna/',\n",
       " 'https://riverstdental.com/insurance_logos/united-health-care/',\n",
       " 'https://riverstdental.com/appointment-cancellation-policy/',\n",
       " 'https://riverstdental.com/insurance_logos/dha/',\n",
       " 'https://riverstdental.com/about-us',\n",
       " 'https://riverstdental.com/dentalservices/dental-implants/',\n",
       " 'https://riverstdental.com/dental-innovative-technology/',\n",
       " 'https://twitter.com/share?text=Home&url=https://riverstdental.com/',\n",
       " 'https://riverstdental.com/blog/',\n",
       " 'https://riverstdental.com/dentalservices/sedation-dentistry/',\n",
       " 'https://riverstdental.com/dentalservices/oral-cancer-screening/',\n",
       " 'https://riverstdental.com/dentalservices/dental-emergency/',\n",
       " 'https://riverstdental.com/insurance_logos/assurant/',\n",
       " 'https://riverstdental.com/dentalservices/fillings/',\n",
       " 'https://riverstdental.com/insurance_logos/masshealth/',\n",
       " 'https://riverstdental.com/insurance_logos/altus-dental/',\n",
       " 'https://riverstdental.com/payment-options/',\n",
       " 'https://riverstdental.com/insurance_logos/neighborhood-health-plan/',\n",
       " 'https://riverstdental.com/dentalservices/check-ups/',\n",
       " 'https://www.instagram.com/riverstreetdent/',\n",
       " 'https://riverstdental.com/accepted-insurance/',\n",
       " 'https://riverstdental.com/dentalservices/root-canals/',\n",
       " 'https://riverstdental.com/plan-your-visit/',\n",
       " 'https://riverstdental.com/dentalservices/crowns/',\n",
       " 'https://riverstdental.com/insurance_logos/geha/',\n",
       " 'https://riverstdental.com/dentalservices/dental-cleanings/',\n",
       " 'https://riverstdental.com/accessibility-link/',\n",
       " 'https://riverstdental.com/contact-us/',\n",
       " 'https://riverstdental.com/insurance_logos/commonwealth-logo/',\n",
       " 'https://riverstdental.com/insurance_logos/united-concordia-dental/',\n",
       " 'https://twitter.com/riverstreetdent',\n",
       " 'https://riverstdental.com/about-us/',\n",
       " 'https://www.facebook.com/sharer/sharer.php?u=https://riverstdental.com/',\n",
       " 'https://riverstdental.com/family-dental-office-kids-area/',\n",
       " 'https://riverstdental.com/insurance_logos/bluecross-blueshield/',\n",
       " 'https://riverstdental.com/insurance_logos/delta-dental/',\n",
       " 'https://riverstdental.com/portfolio-of-work/',\n",
       " 'https://riverstdental.com/special-offers',\n",
       " 'https://riverstdental.com/make-an-appointment/',\n",
       " 'https://riverstdental.com/payment-policy/',\n",
       " 'https://riverstdental.com/career/',\n",
       " 'https://www.facebook.com/River-Street-Family-Dental-1598535173556395',\n",
       " 'https://riverstdental.com/services/',\n",
       " 'https://plus.google.com/share?url=https://riverstdental.com/',\n",
       " 'https://riverstdental.com/tour-our-office/',\n",
       " 'https://riverstdental.com/mission-and-values/',\n",
       " 'https://riverstdental.com/dentalservices/bridge/',\n",
       " 'https://riverstdental.com/',\n",
       " 'https://pinterest.com/pin/create/button/?url=https://riverstdental.com/&media=&description=Home',\n",
       " 'https://riverstdental.com/epic-dental-plan/',\n",
       " 'https://riverstdental.com/dentalservices/dentistry-for-kids/',\n",
       " 'https://riverstdental.com/insurance_logos/guardian/',\n",
       " 'https://riverstdental.com/privacy-policy/',\n",
       " 'https://riverstdental.com/dentalservices/dentures/',\n",
       " 'https://riverstdental.com/insurance_logos/unicare/',\n",
       " 'https://riverstdental.com/insurance_logos/metlife/',\n",
       " 'https://riverstdental.com/special-offers/',\n",
       " 'https://riverstdental.com/dentalservices/extraction/',\n",
       " 'https://riverstdental.com/dr-leo-whitworth/',\n",
       " 'https://riverstdental.com/insurance_logos/pace/',\n",
       " 'https://riverstdental.com/insurance_logos/fallon-community/',\n",
       " 'https://www.pinterest.com/riversreetfamilydental/',\n",
       " 'https://riverstdental.com/ada-aca-notice/',\n",
       " 'https://riverstdental.com/dentalservices/scaling-root-planing/',\n",
       " 'https://riverstdental.com/insurance_logos/ameritas/',\n",
       " 'https://riverstdental.com/dentalservices/whitening/',\n",
       " 'https://riverstdental.com/insurance_logos/aetna/',\n",
       " 'https://riverstdental.com/insurance_logos/principal-financial-group/']"
      ]
     },
     "execution_count": 15,
     "metadata": {},
     "output_type": "execute_result"
    }
   ],
   "source": [
    "['http://www.linkedin.com/shareArticle?mini=true&url=https://riverstdental.com/&title=Home', 'https://riverstdental.com/insurance_logos/cigna/', 'https://riverstdental.com/insurance_logos/united-health-care/', 'https://riverstdental.com/appointment-cancellation-policy/', 'https://riverstdental.com/insurance_logos/dha/', 'https://riverstdental.com/about-us', 'https://riverstdental.com/dentalservices/dental-implants/', 'https://riverstdental.com/dental-innovative-technology/', 'https://twitter.com/share?text=Home&url=https://riverstdental.com/', 'https://riverstdental.com/blog/', 'https://riverstdental.com/dentalservices/sedation-dentistry/', 'https://riverstdental.com/dentalservices/oral-cancer-screening/', 'https://riverstdental.com/dentalservices/dental-emergency/', 'https://riverstdental.com/insurance_logos/assurant/', 'https://riverstdental.com/dentalservices/fillings/', 'https://riverstdental.com/insurance_logos/masshealth/', 'https://riverstdental.com/insurance_logos/altus-dental/', 'https://riverstdental.com/payment-options/', 'https://riverstdental.com/insurance_logos/neighborhood-health-plan/', 'https://riverstdental.com/dentalservices/check-ups/', 'https://www.instagram.com/riverstreetdent/', 'https://riverstdental.com/accepted-insurance/', 'https://riverstdental.com/dentalservices/root-canals/', 'https://riverstdental.com/plan-your-visit/', 'https://riverstdental.com/dentalservices/crowns/', 'https://riverstdental.com/insurance_logos/geha/', 'https://riverstdental.com/dentalservices/dental-cleanings/', 'https://riverstdental.com/accessibility-link/', 'https://riverstdental.com/contact-us/', 'https://riverstdental.com/insurance_logos/commonwealth-logo/', 'https://riverstdental.com/insurance_logos/united-concordia-dental/', 'https://twitter.com/riverstreetdent', 'https://riverstdental.com/about-us/', 'https://www.facebook.com/sharer/sharer.php?u=https://riverstdental.com/', 'https://riverstdental.com/family-dental-office-kids-area/', 'https://riverstdental.com/insurance_logos/bluecross-blueshield/', 'https://riverstdental.com/insurance_logos/delta-dental/', 'https://riverstdental.com/portfolio-of-work/', 'https://riverstdental.com/special-offers', 'https://riverstdental.com/make-an-appointment/', 'https://riverstdental.com/payment-policy/', 'https://riverstdental.com/career/', 'https://www.facebook.com/River-Street-Family-Dental-1598535173556395', 'https://riverstdental.com/services/', 'https://plus.google.com/share?url=https://riverstdental.com/', 'https://riverstdental.com/tour-our-office/', 'https://riverstdental.com/mission-and-values/', 'https://riverstdental.com/dentalservices/bridge/', 'https://riverstdental.com/', 'https://pinterest.com/pin/create/button/?url=https://riverstdental.com/&media=&description=Home', 'https://riverstdental.com/epic-dental-plan/', 'https://riverstdental.com/dentalservices/dentistry-for-kids/', 'https://riverstdental.com/insurance_logos/guardian/', 'https://riverstdental.com/privacy-policy/', 'https://riverstdental.com/dentalservices/dentures/', 'https://riverstdental.com/insurance_logos/unicare/', 'https://riverstdental.com/insurance_logos/metlife/', 'https://riverstdental.com/special-offers/', 'https://riverstdental.com/dentalservices/extraction/', 'https://riverstdental.com/dr-leo-whitworth/', 'https://riverstdental.com/insurance_logos/pace/', 'https://riverstdental.com/insurance_logos/fallon-community/', 'https://www.pinterest.com/riversreetfamilydental/', 'https://riverstdental.com/ada-aca-notice/', 'https://riverstdental.com/dentalservices/scaling-root-planing/', 'https://riverstdental.com/insurance_logos/ameritas/', 'https://riverstdental.com/dentalservices/whitening/', 'https://riverstdental.com/insurance_logos/aetna/', 'https://riverstdental.com/insurance_logos/principal-financial-group/']\n"
   ]
  },
  {
   "cell_type": "code",
   "execution_count": 17,
   "metadata": {},
   "outputs": [
    {
     "data": {
      "text/plain": [
       "['http://www.advanceddentistryofwall.com/C1-preview.prosites.com/38266/wy/images/MCDentistAward.jpg',\n",
       " 'http://www.advanceddentistryofwall.com/C1-preview.prosites.com/38266/wy/images/NJ%20Top%20Dentist.jpg',\n",
       " 'http://www.advanceddentistryofwall.com/C1-preview.prosites.com/38266/wy/images/facebook66.JPG',\n",
       " 'http://www.advanceddentistryofwall.com/C1-preview.prosites.com/38266/wy/images/pinterest66.JPG',\n",
       " 'http://www.advanceddentistryofwall.com/C1-preview.prosites.com/38266/wy/images/Dr.%20Wesley%20Blakeslee%20Top%20Dentist%20in%20Wall%20Township.jpg',\n",
       " 'http://www.advanceddentistryofwall.com/C1-preview.prosites.com/38266/wy/images/twitter66.JPG',\n",
       " 'http://www.advanceddentistryofwall.com/C1-preview.prosites.com/38266/wy/images/Wesley%20Blakeslee%20Dentist%20in%20Wall%20township%20NJ.jpeg',\n",
       " 'http://www.advanceddentistryofwall.com/C1-preview.prosites.com/38266/wy/images/instagramlogo2.png',\n",
       " 'http://www.advanceddentistryofwall.com/C1-preview.prosites.com/38266/wy/images/AGD%20Fellow_thumb.jpg']"
      ]
     },
     "execution_count": 17,
     "metadata": {},
     "output_type": "execute_result"
    }
   ],
   "source": [
    "list(set(list(filter(None,map(completeLink,[image.get('src') for image in soup.findAll('img')])))))"
   ]
  },
  {
   "cell_type": "code",
   "execution_count": 4,
   "metadata": {},
   "outputs": [
    {
     "data": {
      "text/plain": [
       "['http://www.songoralsurgery.com/',\n",
       " '/directions',\n",
       " '/ImpactedWisdomTeeth.htm',\n",
       " '/online-forms',\n",
       " '/links.htm',\n",
       " 'https://opendentalsoft.com/WebFormsGWT/GWT/WebForms/WebForms.html?DentalOfficeID=1555&WebSheetDefID=12548&NextFormID=12549&NextFormID=12550&ReturnURL=http://www.songoralsurgery.com',\n",
       " '/jay-gupta',\n",
       " '/office.htm',\n",
       " '/testimonials.htm',\n",
       " '/instructions',\n",
       " '/privacy-policy',\n",
       " '/newpage1',\n",
       " '/staff',\n",
       " 'http://www.songoralsurgery.com',\n",
       " '/dr-rebeka-silva',\n",
       " '/justin-young-dds',\n",
       " '/sinus-precautions',\n",
       " 'https://plus.google.com/116717410769553756040',\n",
       " '/orthognathic-surgery-faq',\n",
       " '/post-operation-instructions-for-patie',\n",
       " 'http://jigsawinc.com/MedicalWebsiteDesign.html',\n",
       " '/CorrectiveJawSurgery.htm',\n",
       " '/fordoctors.htm',\n",
       " '/extra-teeth-supernumerary-teeth',\n",
       " '/obstructive-sleep-apnea-faq',\n",
       " '/pay.htm',\n",
       " 'mailto:info@songoralsurgery.com',\n",
       " 'http://yelp.com/biz/dennis-song-dds-md-san-francisco',\n",
       " '/post-operation-instructions-for-impla',\n",
       " 'https://twitter.com/songoralsurgery',\n",
       " '/ReconstructiveSurgery.htm',\n",
       " '/SedationandAnesthesia.htm',\n",
       " '/Financialarrangements.htm',\n",
       " '/OurServices.htm',\n",
       " '/OralPathology.htm',\n",
       " '/jaw-bone-and-bone-loss',\n",
       " '/FacialInjuries.htm',\n",
       " '/Schedulingyourappointment.htm',\n",
       " '/tissue-engineering1',\n",
       " '/MeetDrSong.htm',\n",
       " 'https://www.facebook.com/songoralsurgery/',\n",
       " '/DentalImplants.htm',\n",
       " '/Extractionandexposureofteeth.htm',\n",
       " '/sinus-lift',\n",
       " '/emailappointment.htm',\n",
       " '/insurance-information',\n",
       " '/consultation',\n",
       " '/ForPatients.htm',\n",
       " '/proopererative-instructions-for-patie',\n",
       " '/staff.htm',\n",
       " '/dr-stephen-connelly']"
      ]
     },
     "execution_count": 4,
     "metadata": {},
     "output_type": "execute_result"
    }
   ],
   "source": [
    "list(set(list(filter(None,[link.get('href') for link in soup.findAll('a')]))))"
   ]
  },
  {
   "cell_type": "code",
   "execution_count": 5,
   "metadata": {},
   "outputs": [
    {
     "ename": "NameError",
     "evalue": "name 'socialNetworkingLinks' is not defined",
     "output_type": "error",
     "traceback": [
      "\u001b[0;31m---------------------------------------------------------------------------\u001b[0m",
      "\u001b[0;31mNameError\u001b[0m                                 Traceback (most recent call last)",
      "\u001b[0;32m<ipython-input-5-21acd496161f>\u001b[0m in \u001b[0;36m<module>\u001b[0;34m()\u001b[0m\n\u001b[1;32m      1\u001b[0m \u001b[0mNetworkingLinks\u001b[0m \u001b[0;34m=\u001b[0m \u001b[0;34m{\u001b[0m\u001b[0;34m}\u001b[0m\u001b[0;34m\u001b[0m\u001b[0;34m\u001b[0m\u001b[0m\n\u001b[0;32m----> 2\u001b[0;31m \u001b[0;32mfor\u001b[0m \u001b[0mnetworkLink\u001b[0m \u001b[0;32min\u001b[0m \u001b[0mfilter\u001b[0m\u001b[0;34m(\u001b[0m\u001b[0;32mNone\u001b[0m\u001b[0;34m,\u001b[0m\u001b[0mmap\u001b[0m\u001b[0;34m(\u001b[0m\u001b[0msocialNetworkingLinks\u001b[0m\u001b[0;34m,\u001b[0m\u001b[0;34m[\u001b[0m\u001b[0mlink\u001b[0m\u001b[0;34m.\u001b[0m\u001b[0mget\u001b[0m\u001b[0;34m(\u001b[0m\u001b[0;34m'href'\u001b[0m\u001b[0;34m)\u001b[0m \u001b[0;32mfor\u001b[0m \u001b[0mlink\u001b[0m \u001b[0;32min\u001b[0m \u001b[0msoup\u001b[0m\u001b[0;34m.\u001b[0m\u001b[0mfindAll\u001b[0m\u001b[0;34m(\u001b[0m\u001b[0;34m'a'\u001b[0m\u001b[0;34m)\u001b[0m\u001b[0;34m]\u001b[0m\u001b[0;34m)\u001b[0m\u001b[0;34m)\u001b[0m\u001b[0;34m:\u001b[0m\u001b[0;34m\u001b[0m\u001b[0;34m\u001b[0m\u001b[0m\n\u001b[0m\u001b[1;32m      3\u001b[0m         \u001b[0mNetworkingLinks\u001b[0m\u001b[0;34m.\u001b[0m\u001b[0mupdate\u001b[0m\u001b[0;34m(\u001b[0m\u001b[0mnetworkLink\u001b[0m\u001b[0;34m)\u001b[0m\u001b[0;34m\u001b[0m\u001b[0;34m\u001b[0m\u001b[0m\n",
      "\u001b[0;31mNameError\u001b[0m: name 'socialNetworkingLinks' is not defined"
     ]
    }
   ],
   "source": [
    "NetworkingLinks = {}\n",
    "for networkLink in filter(None,map(socialNetworkingLinks,[link.get('href') for link in soup.findAll('a')])):\n",
    "        NetworkingLinks.update(networkLink)\n"
   ]
  },
  {
   "cell_type": "code",
   "execution_count": 6,
   "metadata": {},
   "outputs": [
    {
     "data": {
      "text/plain": [
       "{}"
      ]
     },
     "execution_count": 6,
     "metadata": {},
     "output_type": "execute_result"
    }
   ],
   "source": [
    "NetworkingLinks"
   ]
  },
  {
   "cell_type": "markdown",
   "metadata": {},
   "source": [
    "# images"
   ]
  },
  {
   "cell_type": "code",
   "execution_count": 11,
   "metadata": {
    "scrolled": true
   },
   "outputs": [
    {
     "data": {
      "text/plain": [
       "[<img alt=\"732.223.4466\" id=\"ctl00_ctl22_ImageFlarePhone1\" src=\"\"/>,\n",
       " <img alt=\"Dentist Wall Township NJ\" src=\"//C1-preview.prosites.com/38266/wy/images/Dr.%20Blakeslee.jpg\" style=\"border: 3px solid #000000; width: 225px; height: 234px; margin: 3px 5px 4px 3px; vertical-align: middle; text-align: center;\" title=\"Dentist Wall Township NJ\"/>,\n",
       " <img alt=\"\" src=\"//C1-preview.prosites.com/38266/wy/images/NJ%20Top%20Dentist.jpg\" style=\"width: 175px; height: 130px; text-align: center; float: left;\"/>,\n",
       " <img alt=\"\" src=\"//C1-preview.prosites.com/38266/wy/images/MCDentistAward.jpg\" style=\"width: 150px; height: 112px;\"/>,\n",
       " <img alt=\"\" src=\"//C1-preview.prosites.com/38266/wy/images/AGD%20Fellow_thumb.jpg\" style=\"text-align: center;\"/>,\n",
       " <img alt=\"\" src=\"//C1-preview.prosites.com/38266/wy/images/Dr.%20Wesley%20Blakeslee%20Top%20Dentist%20in%20Wall%20Township.jpg\" style=\"width: 171px; height: 152px;\"/>,\n",
       " <img alt=\"\" src=\"//C1-preview.prosites.com/38266/wy/images/facebook66.JPG\" style=\"text-align: left; border-width: 0px; border-style: solid; width: 59px; height: 60px; margin-right: 3px;\"/>,\n",
       " <img alt=\"\" src=\"//C1-preview.prosites.com/38266/wy/images/twitter66.JPG\" style=\"text-align: left; border-width: 0px; border-style: solid; width: 61px; height: 60px; margin-right: 3px;\"/>,\n",
       " <img alt=\"\" src=\"//C1-preview.prosites.com/38266/wy/images/instagramlogo2.png\" style=\"border-width: 0px; border-style: solid; width: 60px; height: 60px; margin-right: 3px;\"/>,\n",
       " <img alt=\"\" src=\"//C1-preview.prosites.com/38266/wy/images/pinterest66.JPG\" style=\"width: 60px; height: 60px;\"/>]"
      ]
     },
     "execution_count": 11,
     "metadata": {},
     "output_type": "execute_result"
    }
   ],
   "source": [
    "soup.findAll('img')"
   ]
  },
  {
   "cell_type": "code",
   "execution_count": 16,
   "metadata": {},
   "outputs": [
    {
     "name": "stdout",
     "output_type": "stream",
     "text": [
      "['', '//C1-preview.prosites.com/38266/wy/images/Wesley%20Blakeslee%20Dentist%20in%20Wall%20township%20NJ.jpeg', '//C1-preview.prosites.com/38266/wy/images/NJ%20Top%20Dentist.jpg', '//C1-preview.prosites.com/38266/wy/images/MCDentistAward.jpg', '//C1-preview.prosites.com/38266/wy/images/AGD%20Fellow_thumb.jpg', '//C1-preview.prosites.com/38266/wy/images/Dr.%20Wesley%20Blakeslee%20Top%20Dentist%20in%20Wall%20Township.jpg', '//C1-preview.prosites.com/38266/wy/images/facebook66.JPG', '//C1-preview.prosites.com/38266/wy/images/twitter66.JPG', '//C1-preview.prosites.com/38266/wy/images/instagramlogo2.png', '//C1-preview.prosites.com/38266/wy/images/pinterest66.JPG']\n"
     ]
    }
   ],
   "source": [
    "import urllib,re\n",
    "import urllib.request\n",
    "\n",
    "\n",
    "# wiki = \"https://serenedental.com/\"\n",
    "# wiki = \"https://www.songoralsurgery.com/\"\n",
    "# wiki = \"https://riverstdental.com/\"\n",
    "# wiki = \"http://mykidszonedental.com/\"\n",
    "# wiki = \"http://growingsmiledental.com/\"\n",
    "# wiki = \"https://foreverdentalcare.com/\"\n",
    "wiki = \"http://www.advanceddentistryofwall.com/\"\n",
    "\n",
    "with urllib.request.urlopen(wiki) as url:\n",
    "    page = url.read()\n",
    "from bs4 import BeautifulSoup\n",
    "soup = BeautifulSoup(page,'lxml')\n",
    "\n",
    "imageLinks = [image.get('src') for image in soup.findAll('img')]\n",
    "print(imageLinks)"
   ]
  },
  {
   "cell_type": "code",
   "execution_count": 39,
   "metadata": {},
   "outputs": [
    {
     "data": {
      "text/plain": [
       "['//C1-preview.prosites.com/38266/wy/images/Dr.%20Blakeslee.jpg',\n",
       " '//C1-preview.prosites.com/38266/wy/images/Dr.%20Wesley%20Blakeslee%20Top%20Dentist%20in%20Wall%20Township.jpg',\n",
       " '//C1-preview.prosites.com/38266/wy/images/instagramlogo2.png']"
      ]
     },
     "execution_count": 39,
     "metadata": {},
     "output_type": "execute_result"
    }
   ],
   "source": [
    "[imgLink for imgLink in imageLinks if 'logo' in imgLink or 'Dr' in imgLink]"
   ]
  },
  {
   "cell_type": "code",
   "execution_count": 40,
   "metadata": {},
   "outputs": [
    {
     "data": {
      "text/plain": [
       "['',\n",
       " '//C1-preview.prosites.com/38266/wy/images/Dr.%20Blakeslee.jpg',\n",
       " '//C1-preview.prosites.com/38266/wy/images/NJ%20Top%20Dentist.jpg',\n",
       " '//C1-preview.prosites.com/38266/wy/images/MCDentistAward.jpg',\n",
       " '//C1-preview.prosites.com/38266/wy/images/AGD%20Fellow_thumb.jpg',\n",
       " '//C1-preview.prosites.com/38266/wy/images/Dr.%20Wesley%20Blakeslee%20Top%20Dentist%20in%20Wall%20Township.jpg',\n",
       " '//C1-preview.prosites.com/38266/wy/images/facebook66.JPG',\n",
       " '//C1-preview.prosites.com/38266/wy/images/twitter66.JPG',\n",
       " '//C1-preview.prosites.com/38266/wy/images/instagramlogo2.png',\n",
       " '//C1-preview.prosites.com/38266/wy/images/pinterest66.JPG']"
      ]
     },
     "execution_count": 40,
     "metadata": {},
     "output_type": "execute_result"
    }
   ],
   "source": [
    "imageLinks"
   ]
  },
  {
   "cell_type": "markdown",
   "metadata": {},
   "source": [
    "# all text"
   ]
  },
  {
   "cell_type": "code",
   "execution_count": 202,
   "metadata": {},
   "outputs": [],
   "source": [
    "from dateutil.parser import parse\n",
    "import time\n",
    "def is_date(string, fuzzy=False):\n",
    "    \"\"\"\n",
    "    Return whether the string can be interpreted as a date.\n",
    "\n",
    "    :param string: str, string to check for date\n",
    "    :param fuzzy: bool, ignore unknown tokens in string if True\n",
    "    \"\"\"\n",
    "    try: \n",
    "        parse(string, fuzzy=fuzzy)\n",
    "        return True\n",
    "\n",
    "    except ValueError:\n",
    "        return False"
   ]
  },
  {
   "cell_type": "code",
   "execution_count": 14,
   "metadata": {},
   "outputs": [
    {
     "data": {
      "text/plain": [
       "['San Francisco Oral Surgeon: Dennis Song DDS',\n",
       " 'Song Oral Surgery',\n",
       " 'Ph: 415-668-8600Fax: 415-668-8601',\n",
       " 'Patient Information',\n",
       " 'Consultation',\n",
       " 'Scheduling your appointment',\n",
       " 'Financial arrangements',\n",
       " 'Insurance Information',\n",
       " 'Directions',\n",
       " 'Privacy Policy',\n",
       " 'Procedures',\n",
       " 'Dental Implants',\n",
       " 'Bone Grafting',\n",
       " 'Sinus Lift',\n",
       " 'Jaw bone and Bone loss',\n",
       " 'Tissue engineering/Stem cell technology',\n",
       " 'Wisdom teeth',\n",
       " 'Anesthesia',\n",
       " 'Impacted Canine',\n",
       " 'Oral Lesions and growth',\n",
       " 'OSA (Obstructive Sleep Apnea)',\n",
       " 'TMD (temporomandibular disorder)',\n",
       " 'Dental Trauma',\n",
       " 'Extra Teeth / Supernumerary teeth',\n",
       " 'Orthognathic Surgery FAQ',\n",
       " 'Obstructive Sleep Apnea FAQ',\n",
       " 'About Us',\n",
       " 'Dr. Dennis Song',\n",
       " 'Dr. Justin Young',\n",
       " 'Dr. Jay Gupta',\n",
       " 'Dr. Stephen Connelly',\n",
       " 'Dr. Rebeka Silva',\n",
       " 'Office Tour',\n",
       " 'Instructions',\n",
       " 'Post-Operative',\n",
       " 'Instructions for Patients',\n",
       " 'Pre-Operative Instructions for Patients Undergoing Intravenous Sedation',\n",
       " 'Post-Operative',\n",
       " 'Instructions for Implants',\n",
       " 'Sinus Precautions',\n",
       " 'Online Forms',\n",
       " 'Make an Appointment',\n",
       " 'Register Online',\n",
       " 'Pay Your Bill Online',\n",
       " 'For Doctors',\n",
       " 'Testimonials',\n",
       " 'Song Oral Surgery serving San Francisco and the Bay AreaWelcome to Song Oral Surgery.',\n",
       " 'Located in the Inner Richmond near Laurel Village, we serve patients from the San Francisco Bay Area as well as from across the country and internationally. The surgeons and staff keep up to date with the latest medicine, surgical techniques, and technology along with exceptional personal care to provide you with the safest and best outcomes.\\xa0We put patient safety first. Oral and maxillofacial surgeons require a minimum of four years of hospital based training including internal medicine, general surgery, and general anesthesiology after completing dental school.',\n",
       " 'Our surgeons are Board Certified or Board Eligible in both Oral and Maxillofacial Surgery and Dental Anesthesiology.',\n",
       " 'Our staff are trained or certified in surgical assisting, anesthesia assisting, pediatric advanced life support (PALS), and advanced cardiac life support (ACLS). The facility and procedure rooms are inspected and certified for general anesthesia.Our surgeons maintain hospital privileges at Sutter Health California Pacific Medical Centers, Dignity Health St. Mary’s Medical Center, and St. Francis Hospitals.',\n",
       " 'Where they perform procedures in the operating room, see inpatients for consultations, and treat patients in the emergency department.We practice full scope of oral surgery ranging from in office procedures to facial trauma (jaw and facial fractures), corrective jaw surgery (orthognathic surgery), temporomandibular joint disorders and facial pain (TMJ and TMD), sleep apnea, oral pathology, and jaw reconstruction. They are experts in jaw surgery, gum and orthodontic surgery, dental implants, and wisdom tooth removal.',\n",
       " 'Our office is ON CALL after hours and on weekends so that you will never be left without access to one of our surgeons.WHAT SETS US APARTAt Song Oral Surgery, we pride ourselves to provide personalized care. Our doctors treat each individual person according to their needs and tailor each treatment plan to achieve the goal of our patients. When planning your surgical or medical care, our doctors provide a comprehensive plan that always considers your long term general health, oral health, and facial esthetics.\\xa0Our staff is compassionate and work closely with patients to make your treatment a pleasant and easy experience.',\n",
       " 'At Song Oral Surgery, we are committed to providing excellent care with the most cutting-edge technology, and serve the community in a warm and inviting environment.OUR TECHNOLOGYLow Radiation Digital X-raysLow Radiation Cone Beam CT ScanSurgical grade titanium dental implantsBMP (Bone Morphogenic Protein)PRP (Platelet Rich Plasma)BMAC (Bone marrow aspirate concentrate)Autoclave Sterile techniqueMedicine and dentistry are continuously changing so Song Oral Surgery emphasizes education by investing in ongoing learning. The doctors maintain more than double the required amount of continuing education annually for their license. The surgical and administrative staff is sent for training multiple times throughout the year to keep them up to date. This ensures that you are always getting the best care whether you look nationally or internationally.',\n",
       " 'Address3109 Geary BoulevardSan Francisco, CA 94118',\n",
       " 'PhonesPhone',\n",
       " '415-668-8600Fax: 415-668-8601',\n",
       " 'E-Mailinfo@songoralsurgery.com',\n",
       " 'Follow Us',\n",
       " 'Request an Appointment',\n",
       " 'Registration Forms',\n",
       " 'Pay Bill Online',\n",
       " 'Procedures\\xa0Dental ImplantsBone GraftingSinus LiftJaw bone and Bone lossTissue engineering/Stem cell technologyWisdom teethAnesthesiaImpacted CanineOral Lesions and growthOSA (Obstructive Sleep Apnea)TMD (temporomandibular disorder)Dental TraumaExtra Teeth / supernumerary teeth\\xa0Orthognathic Surgery FAQObstructive Sleep Apnea FAQ',\n",
       " 'About UsDr. SongDr. YoungDr. GuptaDr. Connelly\\xa0Dr. SilvaOffice Tour Online FormsAppointment FormRegister online\\xa0Pay Your Bill',\n",
       " 'Patient InformationConsultationScheduling your appointmentInsurance InformationDirections\\xa0Privacy Policy',\n",
       " 'Instructions',\n",
       " 'Post-Operation Instructions for PatientsPre-Operative Instructions for Patients Undergoing Intravenous (I.V.) Sedation / General AnesthesiaPost-Operation Instructions for ImplantsSinus Precautions For Doctors',\n",
       " 'Testimonials',\n",
       " 'Copyright 2010 - 2018 Song Dental Group, Inc.\\xa0All rights reserved',\n",
       " 'Links ׀',\n",
       " 'Medical Website Design',\n",
       " 'Share by:']"
      ]
     },
     "execution_count": 14,
     "metadata": {},
     "output_type": "execute_result"
    }
   ],
   "source": [
    "for script in soup([\"script\", \"style\"]):\n",
    "    script.extract() \n",
    "    \n",
    "text = soup.get_text()\n",
    "\n",
    "lines = (line.strip() for line in text.splitlines())\n",
    "chunks = (phrase.strip() for line in lines for phrase in line.split(\"  \"))\n",
    "text = ('\\n'.join(chunk for chunk in chunks if chunk)).split('\\n')\n",
    "\n",
    "def lessThanFive(element):\n",
    "    return len(element) > 2\n",
    "list(filter(lessThanFive,text))"
   ]
  },
  {
   "cell_type": "markdown",
   "metadata": {},
   "source": [
    "# numbers and email"
   ]
  },
  {
   "cell_type": "code",
   "execution_count": 15,
   "metadata": {},
   "outputs": [
    {
     "name": "stdout",
     "output_type": "stream",
     "text": [
      "['415-668-8600', '415-668-8601'] ['E-Mailinfo@songoralsurgery.com']\n"
     ]
    }
   ],
   "source": [
    "phone_numbers = re.finditer(r\"([+]?\\d{1,3}[-\\s]?)?\\(?(\\d{3}\\)?[-\\s]?){2}\\d{4}?(\\d{2})?\", '\\n'.join(text), re.MULTILINE)\n",
    "numbers = [match.group() for matchNum, match in enumerate(phone_numbers, start=1)]\n",
    "emails = re.findall(r\"[A-Za-z0-9._%+-]+@[A-Za-z0-9.-]+\\.[A-Za-z]{2,4}\", '\\n'.join(text))\n",
    "print(list(set(numbers)),list(set(emails)))\n"
   ]
  },
  {
   "cell_type": "code",
   "execution_count": 33,
   "metadata": {},
   "outputs": [
    {
     "data": {
      "text/plain": [
       "str"
      ]
     },
     "execution_count": 33,
     "metadata": {},
     "output_type": "execute_result"
    }
   ],
   "source": [
    "type(text)"
   ]
  },
  {
   "cell_type": "code",
   "execution_count": 185,
   "metadata": {},
   "outputs": [
    {
     "data": {
      "text/plain": [
       "[]"
      ]
     },
     "execution_count": 185,
     "metadata": {},
     "output_type": "execute_result"
    }
   ],
   "source": [
    "soup.find_all('iframe')"
   ]
  },
  {
   "cell_type": "code",
   "execution_count": 210,
   "metadata": {},
   "outputs": [
    {
     "data": {
      "text/plain": [
       "['9:00', '6:00', '9:00', '6:00', '9:00', '6:00', '9:00', '6:00']"
      ]
     },
     "execution_count": 210,
     "metadata": {},
     "output_type": "execute_result"
    }
   ],
   "source": [
    "re.findall('\\d{1,2}:\\d{2}', text)"
   ]
  },
  {
   "cell_type": "code",
   "execution_count": 237,
   "metadata": {},
   "outputs": [
    {
     "name": "stdout",
     "output_type": "stream",
     "text": [
      "[]\n"
     ]
    }
   ],
   "source": [
    "hours = re.finditer(r\"\\d{1,2}:\\d{1,2} [Aa][mM]-d{1,2}:\\d{1,2} [Pp][mM]\", text, re.MULTILINE)\n",
    "print([match.group() for matchNum, match in enumerate(hours, start=1)])"
   ]
  },
  {
   "cell_type": "code",
   "execution_count": 13,
   "metadata": {},
   "outputs": [
    {
     "data": {
      "text/plain": [
       "{'facebook': 'https://www.facebook.com/songoralsurgery/',\n",
       " 'twitter': 'https://twitter.com/songoralsurgery',\n",
       " 'yelp': 'http://yelp.com/biz/dennis-song-dds-md-san-francisco'}"
      ]
     },
     "execution_count": 13,
     "metadata": {},
     "output_type": "execute_result"
    }
   ],
   "source": [
    "def socialNetworkingLinks(link):\n",
    "    socialNetworks = ['facebook','fb','twitter','pinterest','instagram','yelp']\n",
    "    for network in socialNetworks:\n",
    "        if network in link:\n",
    "            return {network:link}\n",
    "\n",
    "NetworkingLinks = {}\n",
    "for networkLink in filter(None,map(socialNetworkingLinks,[link.get('href') for link in soup.findAll('a')])):\n",
    "        NetworkingLinks.update(networkLink)\n",
    "\n",
    "\n",
    "NetworkingLinks"
   ]
  },
  {
   "cell_type": "code",
   "execution_count": null,
   "metadata": {},
   "outputs": [],
   "source": []
  }
 ],
 "metadata": {
  "kernelspec": {
   "display_name": "Python 3",
   "language": "python",
   "name": "python3"
  },
  "language_info": {
   "codemirror_mode": {
    "name": "ipython",
    "version": 3
   },
   "file_extension": ".py",
   "mimetype": "text/x-python",
   "name": "python",
   "nbconvert_exporter": "python",
   "pygments_lexer": "ipython3",
   "version": "3.6.7"
  },
  "toc": {
   "base_numbering": 1,
   "nav_menu": {},
   "number_sections": true,
   "sideBar": true,
   "skip_h1_title": false,
   "title_cell": "Table of Contents",
   "title_sidebar": "Contents",
   "toc_cell": false,
   "toc_position": {},
   "toc_section_display": true,
   "toc_window_display": false
  },
  "varInspector": {
   "cols": {
    "lenName": 16,
    "lenType": 16,
    "lenVar": 40
   },
   "kernels_config": {
    "python": {
     "delete_cmd_postfix": "",
     "delete_cmd_prefix": "del ",
     "library": "var_list.py",
     "varRefreshCmd": "print(var_dic_list())"
    },
    "r": {
     "delete_cmd_postfix": ") ",
     "delete_cmd_prefix": "rm(",
     "library": "var_list.r",
     "varRefreshCmd": "cat(var_dic_list()) "
    }
   },
   "types_to_exclude": [
    "module",
    "function",
    "builtin_function_or_method",
    "instance",
    "_Feature"
   ],
   "window_display": false
  }
 },
 "nbformat": 4,
 "nbformat_minor": 2
}
